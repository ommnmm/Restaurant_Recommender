{
 "cells": [
  {
   "cell_type": "markdown",
   "id": "a6b9030e",
   "metadata": {},
   "source": [
    "# Amazon Book Recommender System"
   ]
  },
  {
   "cell_type": "markdown",
   "id": "a3dd13cd",
   "metadata": {},
   "source": [
    "Data Source:\n",
    "https://cseweb.ucsd.edu/~jmcauley/datasets/amazon_v2/\n",
    "\n",
    "\n",
    "Author: Yucian Hong"
   ]
  },
  {
   "cell_type": "code",
   "execution_count": 33,
   "id": "ab7803cc-5ee6-4db1-ae72-a7f5a7e14820",
   "metadata": {},
   "outputs": [],
   "source": [
    "import pandas as pd\n",
    "from matplotlib import pyplot as plt\n",
    "from sklearn.model_selection import train_test_split\n",
    "from sklearn.metrics.pairwise import cosine_similarity\n",
    "import numpy as np\n",
    "from sklearn.metrics import mean_squared_error, mean_absolute_error\n",
    "from surprise import SVD\n",
    "from surprise.dataset import Reader, Dataset\n",
    "\n",
    "from IPython.core.interactiveshell import InteractiveShell\n",
    "InteractiveShell.ast_node_interactivity = \"all\"\n",
    "import warnings\n",
    "warnings.filterwarnings('ignore')"
   ]
  },
  {
   "cell_type": "code",
   "execution_count": 12,
   "id": "5dbc6d19-1b54-4485-b0c4-79e4f9dec52b",
   "metadata": {},
   "outputs": [
    {
     "data": {
      "text/html": [
       "<div>\n",
       "<style scoped>\n",
       "    .dataframe tbody tr th:only-of-type {\n",
       "        vertical-align: middle;\n",
       "    }\n",
       "\n",
       "    .dataframe tbody tr th {\n",
       "        vertical-align: top;\n",
       "    }\n",
       "\n",
       "    .dataframe thead th {\n",
       "        text-align: right;\n",
       "    }\n",
       "</style>\n",
       "<table border=\"1\" class=\"dataframe\">\n",
       "  <thead>\n",
       "    <tr style=\"text-align: right;\">\n",
       "      <th></th>\n",
       "      <th>customer_id</th>\n",
       "      <th>product_id</th>\n",
       "      <th>star_rating</th>\n",
       "    </tr>\n",
       "  </thead>\n",
       "  <tbody>\n",
       "    <tr>\n",
       "      <th>0</th>\n",
       "      <td>53000124</td>\n",
       "      <td>0805076069</td>\n",
       "      <td>4</td>\n",
       "    </tr>\n",
       "    <tr>\n",
       "      <th>1</th>\n",
       "      <td>49355567</td>\n",
       "      <td>0060820810</td>\n",
       "      <td>5</td>\n",
       "    </tr>\n",
       "    <tr>\n",
       "      <th>2</th>\n",
       "      <td>50057481</td>\n",
       "      <td>0297844091</td>\n",
       "      <td>5</td>\n",
       "    </tr>\n",
       "    <tr>\n",
       "      <th>3</th>\n",
       "      <td>49750558</td>\n",
       "      <td>0971220603</td>\n",
       "      <td>4</td>\n",
       "    </tr>\n",
       "    <tr>\n",
       "      <th>4</th>\n",
       "      <td>50774468</td>\n",
       "      <td>0380007789</td>\n",
       "      <td>3</td>\n",
       "    </tr>\n",
       "    <tr>\n",
       "      <th>...</th>\n",
       "      <td>...</td>\n",
       "      <td>...</td>\n",
       "      <td>...</td>\n",
       "    </tr>\n",
       "    <tr>\n",
       "      <th>133677</th>\n",
       "      <td>53075795</td>\n",
       "      <td>0345372050</td>\n",
       "      <td>1</td>\n",
       "    </tr>\n",
       "    <tr>\n",
       "      <th>133678</th>\n",
       "      <td>53071138</td>\n",
       "      <td>0440215757</td>\n",
       "      <td>5</td>\n",
       "    </tr>\n",
       "    <tr>\n",
       "      <th>133679</th>\n",
       "      <td>53075795</td>\n",
       "      <td>0679751203</td>\n",
       "      <td>5</td>\n",
       "    </tr>\n",
       "    <tr>\n",
       "      <th>133680</th>\n",
       "      <td>53092736</td>\n",
       "      <td>0345348656</td>\n",
       "      <td>5</td>\n",
       "    </tr>\n",
       "    <tr>\n",
       "      <th>133681</th>\n",
       "      <td>53092736</td>\n",
       "      <td>0140157379</td>\n",
       "      <td>5</td>\n",
       "    </tr>\n",
       "  </tbody>\n",
       "</table>\n",
       "<p>133682 rows × 3 columns</p>\n",
       "</div>"
      ],
      "text/plain": [
       "        customer_id  product_id  star_rating\n",
       "0          53000124  0805076069            4\n",
       "1          49355567  0060820810            5\n",
       "2          50057481  0297844091            5\n",
       "3          49750558  0971220603            4\n",
       "4          50774468  0380007789            3\n",
       "...             ...         ...          ...\n",
       "133677     53075795  0345372050            1\n",
       "133678     53071138  0440215757            5\n",
       "133679     53075795  0679751203            5\n",
       "133680     53092736  0345348656            5\n",
       "133681     53092736  0140157379            5\n",
       "\n",
       "[133682 rows x 3 columns]"
      ]
     },
     "execution_count": 12,
     "metadata": {},
     "output_type": "execute_result"
    },
    {
     "data": {
      "text/html": [
       "<div>\n",
       "<style scoped>\n",
       "    .dataframe tbody tr th:only-of-type {\n",
       "        vertical-align: middle;\n",
       "    }\n",
       "\n",
       "    .dataframe tbody tr th {\n",
       "        vertical-align: top;\n",
       "    }\n",
       "\n",
       "    .dataframe thead th {\n",
       "        text-align: right;\n",
       "    }\n",
       "</style>\n",
       "<table border=\"1\" class=\"dataframe\">\n",
       "  <thead>\n",
       "    <tr style=\"text-align: right;\">\n",
       "      <th></th>\n",
       "      <th>customer_id</th>\n",
       "      <th>product_id</th>\n",
       "      <th>star_rating</th>\n",
       "    </tr>\n",
       "  </thead>\n",
       "  <tbody>\n",
       "    <tr>\n",
       "      <th>0</th>\n",
       "      <td>53000124</td>\n",
       "      <td>0805076069</td>\n",
       "      <td>4</td>\n",
       "    </tr>\n",
       "    <tr>\n",
       "      <th>1</th>\n",
       "      <td>49355567</td>\n",
       "      <td>0060820810</td>\n",
       "      <td>5</td>\n",
       "    </tr>\n",
       "    <tr>\n",
       "      <th>2</th>\n",
       "      <td>50057481</td>\n",
       "      <td>0297844091</td>\n",
       "      <td>5</td>\n",
       "    </tr>\n",
       "    <tr>\n",
       "      <th>3</th>\n",
       "      <td>49750558</td>\n",
       "      <td>0971220603</td>\n",
       "      <td>4</td>\n",
       "    </tr>\n",
       "    <tr>\n",
       "      <th>4</th>\n",
       "      <td>50774468</td>\n",
       "      <td>0380007789</td>\n",
       "      <td>3</td>\n",
       "    </tr>\n",
       "    <tr>\n",
       "      <th>5</th>\n",
       "      <td>46134316</td>\n",
       "      <td>0465014569</td>\n",
       "      <td>5</td>\n",
       "    </tr>\n",
       "    <tr>\n",
       "      <th>6</th>\n",
       "      <td>52960913</td>\n",
       "      <td>0525948775</td>\n",
       "      <td>5</td>\n",
       "    </tr>\n",
       "    <tr>\n",
       "      <th>7</th>\n",
       "      <td>45273033</td>\n",
       "      <td>0465023282</td>\n",
       "      <td>5</td>\n",
       "    </tr>\n",
       "    <tr>\n",
       "      <th>8</th>\n",
       "      <td>50230169</td>\n",
       "      <td>0451526341</td>\n",
       "      <td>4</td>\n",
       "    </tr>\n",
       "    <tr>\n",
       "      <th>9</th>\n",
       "      <td>50001942</td>\n",
       "      <td>0307276902</td>\n",
       "      <td>4</td>\n",
       "    </tr>\n",
       "  </tbody>\n",
       "</table>\n",
       "</div>"
      ],
      "text/plain": [
       "   customer_id  product_id  star_rating\n",
       "0     53000124  0805076069            4\n",
       "1     49355567  0060820810            5\n",
       "2     50057481  0297844091            5\n",
       "3     49750558  0971220603            4\n",
       "4     50774468  0380007789            3\n",
       "5     46134316  0465014569            5\n",
       "6     52960913  0525948775            5\n",
       "7     45273033  0465023282            5\n",
       "8     50230169  0451526341            4\n",
       "9     50001942  0307276902            4"
      ]
     },
     "execution_count": 12,
     "metadata": {},
     "output_type": "execute_result"
    }
   ],
   "source": [
    "df = pd.read_csv('selected.csv')\n",
    "df = df[['customer_id','product_id','star_rating']]\n",
    "df.rename(columns={'customer_id':'userid'})\n",
    "df.head(10)"
   ]
  },
  {
   "cell_type": "markdown",
   "id": "448d3a9c",
   "metadata": {},
   "source": [
    "## preprocessing"
   ]
  },
  {
   "cell_type": "code",
   "execution_count": 10,
   "id": "d50e4ab0",
   "metadata": {},
   "outputs": [
    {
     "name": "stdout",
     "output_type": "stream",
     "text": [
      "<class 'pandas.core.frame.DataFrame'>\n",
      "RangeIndex: 133682 entries, 0 to 133681\n",
      "Data columns (total 3 columns):\n",
      " #   Column       Non-Null Count   Dtype \n",
      "---  ------       --------------   ----- \n",
      " 0   customer_id  133682 non-null  int64 \n",
      " 1   product_id   133682 non-null  object\n",
      " 2   star_rating  133682 non-null  int64 \n",
      "dtypes: int64(2), object(1)\n",
      "memory usage: 3.1+ MB\n"
     ]
    },
    {
     "data": {
      "text/plain": [
       "133682"
      ]
     },
     "execution_count": 10,
     "metadata": {},
     "output_type": "execute_result"
    },
    {
     "name": "stdout",
     "output_type": "stream",
     "text": [
      "no duplicated rows\n",
      "\n"
     ]
    },
    {
     "data": {
      "text/plain": [
       "1287"
      ]
     },
     "execution_count": 10,
     "metadata": {},
     "output_type": "execute_result"
    },
    {
     "data": {
      "text/plain": [
       "24875"
      ]
     },
     "execution_count": 10,
     "metadata": {},
     "output_type": "execute_result"
    },
    {
     "data": {
      "text/plain": [
       "star_rating\n",
       "5    68257\n",
       "4    40169\n",
       "3    16228\n",
       "2     5690\n",
       "1     3338\n",
       "Name: count, dtype: int64"
      ]
     },
     "execution_count": 10,
     "metadata": {},
     "output_type": "execute_result"
    }
   ],
   "source": [
    "# data overview: check data size, column info, duplicated and missing values\n",
    "df.info()\n",
    "df.duplicated(keep='last').shape[0]\n",
    "print('no duplicated rows\\n')\n",
    "# column overview: check the number and range of unique values\n",
    "df.customer_id.nunique()\n",
    "df.product_id.nunique()\n",
    "df.star_rating.value_counts()"
   ]
  },
  {
   "cell_type": "markdown",
   "id": "0224d4a3",
   "metadata": {},
   "source": [
    "## Exploratory analysis\n",
    "### ratings"
   ]
  },
  {
   "cell_type": "code",
   "execution_count": 23,
   "id": "3185a751",
   "metadata": {},
   "outputs": [
    {
     "name": "stdout",
     "output_type": "stream",
     "text": [
      "number of data points:\n"
     ]
    },
    {
     "data": {
      "text/plain": [
       "133682"
      ]
     },
     "execution_count": 23,
     "metadata": {},
     "output_type": "execute_result"
    },
    {
     "name": "stdout",
     "output_type": "stream",
     "text": [
      "number of users:\n"
     ]
    },
    {
     "data": {
      "text/plain": [
       "1287"
      ]
     },
     "execution_count": 23,
     "metadata": {},
     "output_type": "execute_result"
    },
    {
     "name": "stdout",
     "output_type": "stream",
     "text": [
      "number of products:\n"
     ]
    },
    {
     "data": {
      "text/plain": [
       "24875"
      ]
     },
     "execution_count": 23,
     "metadata": {},
     "output_type": "execute_result"
    },
    {
     "name": "stdout",
     "output_type": "stream",
     "text": [
      "\n"
     ]
    },
    {
     "data": {
      "image/png": "[encoded data removed]",
      "text/plain": [
       "<Figure size 640x480 with 1 Axes>"
      ]
     },
     "metadata": {},
     "output_type": "display_data"
    }
   ],
   "source": [
    "# preview column values of rating\n",
    "print('number of data points:')\n",
    "df.shape[0]\n",
    "\n",
    "print('number of users:')\n",
    "df.customer_id.nunique()\n",
    "\n",
    "print('number of products:')\n",
    "df.product_id.nunique()\n",
    "print('')\n",
    "\n",
    "_ = df.star_rating.hist()\n",
    "_ = plt.xlabel(\"rating\")\n",
    "_ = plt.ylabel('count')\n",
    "_ = plt.xticks([0,1,2])\n",
    "plt.show()\n",
    "\n",
    "\n",
    "plt.show()"
   ]
  },
  {
   "cell_type": "markdown",
   "id": "328f1c37",
   "metadata": {},
   "source": [
    "## Model : collaborative filtering - model-based \n",
    "### SVD"
   ]
  },
  {
   "cell_type": "code",
   "execution_count": 26,
   "id": "298ef9f0",
   "metadata": {},
   "outputs": [
    {
     "name": "stdout",
     "output_type": "stream",
     "text": [
      "user-item interaction matrix sparsity:\n",
      "0.0042 of the matrix contains rating data\n"
     ]
    }
   ],
   "source": [
    "print('user-item interaction matrix sparsity:')\n",
    "print('%.4f' % (df.shape[0]/ (df.customer_id.nunique()*df.product_id.nunique())),'of the matrix contains rating data')"
   ]
  },
  {
   "cell_type": "code",
   "execution_count": 27,
   "id": "63d7ae3a-57cc-45cc-ae98-7aac9d979ee0",
   "metadata": {},
   "outputs": [],
   "source": [
    "# train test split\n",
    "lst = list(df.index)\n",
    "idx_train, idx_test, idx_train, idx_test = train_test_split(lst,lst,test_size=0.2, random_state=42)"
   ]
  },
  {
   "cell_type": "code",
   "execution_count": 36,
   "id": "ee95b146",
   "metadata": {},
   "outputs": [],
   "source": [
    "trainset = df[df.index.isin(idx_train)]\n",
    "testset = df[df.index.isin(idx_test)]"
   ]
  },
  {
   "cell_type": "code",
   "execution_count": 37,
   "id": "a7917b22",
   "metadata": {},
   "outputs": [],
   "source": [
    "# Surprise pkg reader for train data\n",
    "reader = Reader(rating_scale=(1, 5))\n",
    "data_train = Dataset.load_from_df(trainset, reader)\n",
    "train_set = data_train.build_full_trainset() # use the whole training set "
   ]
  },
  {
   "cell_type": "markdown",
   "id": "1256e00c",
   "metadata": {},
   "source": [
    "### Grid search: hyper-parameter search\n",
    "#### Here we search for the best hyperparameter set using train/test split, instead of setting aside a separate val set, due to the small data size."
   ]
  },
  {
   "cell_type": "code",
   "execution_count": null,
   "id": "261d2f14-e7f3-48e9-a75b-5d575d322c77",
   "metadata": {},
   "outputs": [],
   "source": [
    "df.customer_id.nunique()\n",
    "df.product_id.nunique()\n",
    "df.star_rating.value_counts()"
   ]
  },
  {
   "cell_type": "code",
   "execution_count": 39,
   "id": "00c5297d",
   "metadata": {},
   "outputs": [
    {
     "name": "stdout",
     "output_type": "stream",
     "text": [
      "nfactor, lr, reg: 2 0.001 0.01 \n",
      "\n"
     ]
    },
    {
     "data": {
      "text/plain": [
       "<surprise.prediction_algorithms.matrix_factorization.SVD at 0x7f711fa46a30>"
      ]
     },
     "execution_count": 39,
     "metadata": {},
     "output_type": "execute_result"
    },
    {
     "name": "stdout",
     "output_type": "stream",
     "text": [
      "train RMSE,MAE: 0.859 0.656\n",
      "test RMSE,MAE: 0.885 0.676 \n",
      "\n",
      "\n",
      "nfactor, lr, reg: 2 0.001 0.02 \n",
      "\n"
     ]
    },
    {
     "data": {
      "text/plain": [
       "<surprise.prediction_algorithms.matrix_factorization.SVD at 0x7f7122ce4e80>"
      ]
     },
     "execution_count": 39,
     "metadata": {},
     "output_type": "execute_result"
    },
    {
     "name": "stdout",
     "output_type": "stream",
     "text": [
      "train RMSE,MAE: 0.859 0.657\n",
      "test RMSE,MAE: 0.885 0.676 \n",
      "\n",
      "\n",
      "nfactor, lr, reg: 2 0.001 0.04 \n",
      "\n"
     ]
    },
    {
     "data": {
      "text/plain": [
       "<surprise.prediction_algorithms.matrix_factorization.SVD at 0x7f7122ce47f0>"
      ]
     },
     "execution_count": 39,
     "metadata": {},
     "output_type": "execute_result"
    },
    {
     "name": "stdout",
     "output_type": "stream",
     "text": [
      "train RMSE,MAE: 0.860 0.658\n",
      "test RMSE,MAE: 0.885 0.677 \n",
      "\n",
      "\n",
      "nfactor, lr, reg: 2 0.001 0.08 \n",
      "\n"
     ]
    },
    {
     "data": {
      "text/plain": [
       "<surprise.prediction_algorithms.matrix_factorization.SVD at 0x7f7122ce4160>"
      ]
     },
     "execution_count": 39,
     "metadata": {},
     "output_type": "execute_result"
    },
    {
     "name": "stdout",
     "output_type": "stream",
     "text": [
      "train RMSE,MAE: 0.860 0.660\n",
      "test RMSE,MAE: 0.886 0.679 \n",
      "\n",
      "\n",
      "nfactor, lr, reg: 2 0.001 0.1 \n",
      "\n"
     ]
    },
    {
     "data": {
      "text/plain": [
       "<surprise.prediction_algorithms.matrix_factorization.SVD at 0x7f711fa46a30>"
      ]
     },
     "execution_count": 39,
     "metadata": {},
     "output_type": "execute_result"
    },
    {
     "name": "stdout",
     "output_type": "stream",
     "text": [
      "train RMSE,MAE: 0.861 0.661\n",
      "test RMSE,MAE: 0.886 0.680 \n",
      "\n",
      "\n",
      "nfactor, lr, reg: 2 0.001 0.2 \n",
      "\n"
     ]
    },
    {
     "data": {
      "text/plain": [
       "<surprise.prediction_algorithms.matrix_factorization.SVD at 0x7f7122ce40d0>"
      ]
     },
     "execution_count": 39,
     "metadata": {},
     "output_type": "execute_result"
    },
    {
     "name": "stdout",
     "output_type": "stream",
     "text": [
      "train RMSE,MAE: 0.863 0.665\n",
      "test RMSE,MAE: 0.888 0.684 \n",
      "\n",
      "\n",
      "nfactor, lr, reg: 2 0.001 0.4 \n",
      "\n"
     ]
    },
    {
     "data": {
      "text/plain": [
       "<surprise.prediction_algorithms.matrix_factorization.SVD at 0x7f7122ce4b80>"
      ]
     },
     "execution_count": 39,
     "metadata": {},
     "output_type": "execute_result"
    },
    {
     "name": "stdout",
     "output_type": "stream",
     "text": [
      "train RMSE,MAE: 0.869 0.674\n",
      "test RMSE,MAE: 0.892 0.691 \n",
      "\n",
      "\n",
      "nfactor, lr, reg: 2 0.001 0.8 \n",
      "\n"
     ]
    },
    {
     "data": {
      "text/plain": [
       "<surprise.prediction_algorithms.matrix_factorization.SVD at 0x7f7122ce41c0>"
      ]
     },
     "execution_count": 39,
     "metadata": {},
     "output_type": "execute_result"
    },
    {
     "name": "stdout",
     "output_type": "stream",
     "text": [
      "train RMSE,MAE: 0.880 0.687\n",
      "test RMSE,MAE: 0.902 0.703 \n",
      "\n",
      "\n",
      "nfactor, lr, reg: 2 0.001 1 \n",
      "\n"
     ]
    },
    {
     "data": {
      "text/plain": [
       "<surprise.prediction_algorithms.matrix_factorization.SVD at 0x7f715dffa460>"
      ]
     },
     "execution_count": 39,
     "metadata": {},
     "output_type": "execute_result"
    },
    {
     "name": "stdout",
     "output_type": "stream",
     "text": [
      "train RMSE,MAE: 0.885 0.692\n",
      "test RMSE,MAE: 0.906 0.708 \n",
      "\n",
      "\n",
      "nfactor, lr, reg: 2 0.001 2 \n",
      "\n"
     ]
    },
    {
     "data": {
      "text/plain": [
       "<surprise.prediction_algorithms.matrix_factorization.SVD at 0x7f7122ce46a0>"
      ]
     },
     "execution_count": 39,
     "metadata": {},
     "output_type": "execute_result"
    },
    {
     "name": "stdout",
     "output_type": "stream",
     "text": [
      "train RMSE,MAE: 0.905 0.712\n",
      "test RMSE,MAE: 0.924 0.725 \n",
      "\n",
      "\n",
      "nfactor, lr, reg: 2 0.001 4 \n",
      "\n"
     ]
    },
    {
     "data": {
      "text/plain": [
       "<surprise.prediction_algorithms.matrix_factorization.SVD at 0x7f7122ce4430>"
      ]
     },
     "execution_count": 39,
     "metadata": {},
     "output_type": "execute_result"
    },
    {
     "name": "stdout",
     "output_type": "stream",
     "text": [
      "train RMSE,MAE: 0.927 0.734\n",
      "test RMSE,MAE: 0.943 0.745 \n",
      "\n",
      "\n",
      "nfactor, lr, reg: 2 0.001 10 \n",
      "\n"
     ]
    },
    {
     "data": {
      "text/plain": [
       "<surprise.prediction_algorithms.matrix_factorization.SVD at 0x7f7122ce47f0>"
      ]
     },
     "execution_count": 39,
     "metadata": {},
     "output_type": "execute_result"
    },
    {
     "name": "stdout",
     "output_type": "stream",
     "text": [
      "train RMSE,MAE: 0.952 0.757\n",
      "test RMSE,MAE: 0.964 0.765 \n",
      "\n",
      "\n",
      "nfactor, lr, reg: 2 0.002 0.01 \n",
      "\n"
     ]
    },
    {
     "data": {
      "text/plain": [
       "<surprise.prediction_algorithms.matrix_factorization.SVD at 0x7f715dffa460>"
      ]
     },
     "execution_count": 39,
     "metadata": {},
     "output_type": "execute_result"
    },
    {
     "name": "stdout",
     "output_type": "stream",
     "text": [
      "train RMSE,MAE: 0.831 0.629\n",
      "test RMSE,MAE: 0.872 0.661 \n",
      "\n",
      "\n",
      "nfactor, lr, reg: 2 0.002 0.02 \n",
      "\n"
     ]
    },
    {
     "data": {
      "text/plain": [
       "<surprise.prediction_algorithms.matrix_factorization.SVD at 0x7f7122ce4f70>"
      ]
     },
     "execution_count": 39,
     "metadata": {},
     "output_type": "execute_result"
    },
    {
     "name": "stdout",
     "output_type": "stream",
     "text": [
      "train RMSE,MAE: 0.831 0.630\n",
      "test RMSE,MAE: 0.872 0.661 \n",
      "\n",
      "\n",
      "nfactor, lr, reg: 2 0.002 0.04 \n",
      "\n"
     ]
    },
    {
     "data": {
      "text/plain": [
       "<surprise.prediction_algorithms.matrix_factorization.SVD at 0x7f7122ce4160>"
      ]
     },
     "execution_count": 39,
     "metadata": {},
     "output_type": "execute_result"
    },
    {
     "name": "stdout",
     "output_type": "stream",
     "text": [
      "train RMSE,MAE: 0.831 0.631\n",
      "test RMSE,MAE: 0.873 0.663 \n",
      "\n",
      "\n",
      "nfactor, lr, reg: 2 0.002 0.08 \n",
      "\n"
     ]
    },
    {
     "data": {
      "text/plain": [
       "<surprise.prediction_algorithms.matrix_factorization.SVD at 0x7f7122ce40d0>"
      ]
     },
     "execution_count": 39,
     "metadata": {},
     "output_type": "execute_result"
    },
    {
     "name": "stdout",
     "output_type": "stream",
     "text": [
      "train RMSE,MAE: 0.832 0.634\n",
      "test RMSE,MAE: 0.873 0.665 \n",
      "\n",
      "\n",
      "nfactor, lr, reg: 2 0.002 0.1 \n",
      "\n"
     ]
    },
    {
     "data": {
      "text/plain": [
       "<surprise.prediction_algorithms.matrix_factorization.SVD at 0x7f713325f250>"
      ]
     },
     "execution_count": 39,
     "metadata": {},
     "output_type": "execute_result"
    },
    {
     "name": "stdout",
     "output_type": "stream",
     "text": [
      "train RMSE,MAE: 0.833 0.635\n",
      "test RMSE,MAE: 0.873 0.666 \n",
      "\n",
      "\n",
      "nfactor, lr, reg: 2 0.002 0.2 \n",
      "\n"
     ]
    },
    {
     "data": {
      "text/plain": [
       "<surprise.prediction_algorithms.matrix_factorization.SVD at 0x7f7122ce4e50>"
      ]
     },
     "execution_count": 39,
     "metadata": {},
     "output_type": "execute_result"
    },
    {
     "name": "stdout",
     "output_type": "stream",
     "text": [
      "train RMSE,MAE: 0.836 0.641\n",
      "test RMSE,MAE: 0.875 0.671 \n",
      "\n",
      "\n",
      "nfactor, lr, reg: 2 0.002 0.4 \n",
      "\n"
     ]
    },
    {
     "data": {
      "text/plain": [
       "<surprise.prediction_algorithms.matrix_factorization.SVD at 0x7f7122ce44c0>"
      ]
     },
     "execution_count": 39,
     "metadata": {},
     "output_type": "execute_result"
    },
    {
     "name": "stdout",
     "output_type": "stream",
     "text": [
      "train RMSE,MAE: 0.843 0.652\n",
      "test RMSE,MAE: 0.880 0.680 \n",
      "\n",
      "\n",
      "nfactor, lr, reg: 2 0.002 0.8 \n",
      "\n"
     ]
    },
    {
     "data": {
      "text/plain": [
       "<surprise.prediction_algorithms.matrix_factorization.SVD at 0x7f7122ce4430>"
      ]
     },
     "execution_count": 39,
     "metadata": {},
     "output_type": "execute_result"
    },
    {
     "name": "stdout",
     "output_type": "stream",
     "text": [
      "train RMSE,MAE: 0.857 0.668\n",
      "test RMSE,MAE: 0.891 0.694 \n",
      "\n",
      "\n",
      "nfactor, lr, reg: 2 0.002 1 \n",
      "\n"
     ]
    },
    {
     "data": {
      "text/plain": [
       "<surprise.prediction_algorithms.matrix_factorization.SVD at 0x7f713325f250>"
      ]
     },
     "execution_count": 39,
     "metadata": {},
     "output_type": "execute_result"
    },
    {
     "name": "stdout",
     "output_type": "stream",
     "text": [
      "train RMSE,MAE: 0.863 0.675\n",
      "test RMSE,MAE: 0.897 0.700 \n",
      "\n",
      "\n",
      "nfactor, lr, reg: 2 0.002 2 \n",
      "\n"
     ]
    },
    {
     "data": {
      "text/plain": [
       "<surprise.prediction_algorithms.matrix_factorization.SVD at 0x7f7122ce46a0>"
      ]
     },
     "execution_count": 39,
     "metadata": {},
     "output_type": "execute_result"
    },
    {
     "name": "stdout",
     "output_type": "stream",
     "text": [
      "train RMSE,MAE: 0.888 0.698\n",
      "test RMSE,MAE: 0.917 0.719 \n",
      "\n",
      "\n",
      "nfactor, lr, reg: 2 0.002 4 \n",
      "\n"
     ]
    },
    {
     "data": {
      "text/plain": [
       "<surprise.prediction_algorithms.matrix_factorization.SVD at 0x7f7122ce4a00>"
      ]
     },
     "execution_count": 39,
     "metadata": {},
     "output_type": "execute_result"
    },
    {
     "name": "stdout",
     "output_type": "stream",
     "text": [
      "train RMSE,MAE: 0.915 0.723\n",
      "test RMSE,MAE: 0.939 0.741 \n",
      "\n",
      "\n",
      "nfactor, lr, reg: 2 0.002 10 \n",
      "\n"
     ]
    },
    {
     "data": {
      "text/plain": [
       "<surprise.prediction_algorithms.matrix_factorization.SVD at 0x7f7122ce4160>"
      ]
     },
     "execution_count": 39,
     "metadata": {},
     "output_type": "execute_result"
    },
    {
     "name": "stdout",
     "output_type": "stream",
     "text": [
      "train RMSE,MAE: 0.946 0.752\n",
      "test RMSE,MAE: 0.962 0.763 \n",
      "\n",
      "\n",
      "nfactor, lr, reg: 2 0.003 0.01 \n",
      "\n"
     ]
    },
    {
     "data": {
      "text/plain": [
       "<surprise.prediction_algorithms.matrix_factorization.SVD at 0x7f713325f250>"
      ]
     },
     "execution_count": 39,
     "metadata": {},
     "output_type": "execute_result"
    },
    {
     "name": "stdout",
     "output_type": "stream",
     "text": [
      "train RMSE,MAE: 0.811 0.612\n",
      "test RMSE,MAE: 0.867 0.654 \n",
      "\n",
      "\n",
      "nfactor, lr, reg: 2 0.003 0.02 \n",
      "\n"
     ]
    },
    {
     "data": {
      "text/plain": [
       "<surprise.prediction_algorithms.matrix_factorization.SVD at 0x7f7122ce4f70>"
      ]
     },
     "execution_count": 39,
     "metadata": {},
     "output_type": "execute_result"
    },
    {
     "name": "stdout",
     "output_type": "stream",
     "text": [
      "train RMSE,MAE: 0.812 0.613\n",
      "test RMSE,MAE: 0.867 0.654 \n",
      "\n",
      "\n",
      "nfactor, lr, reg: 2 0.003 0.04 \n",
      "\n"
     ]
    },
    {
     "data": {
      "text/plain": [
       "<surprise.prediction_algorithms.matrix_factorization.SVD at 0x7f7122ce46d0>"
      ]
     },
     "execution_count": 39,
     "metadata": {},
     "output_type": "execute_result"
    },
    {
     "name": "stdout",
     "output_type": "stream",
     "text": [
      "train RMSE,MAE: 0.812 0.614\n",
      "test RMSE,MAE: 0.867 0.656 \n",
      "\n",
      "\n",
      "nfactor, lr, reg: 2 0.003 0.08 \n",
      "\n"
     ]
    },
    {
     "data": {
      "text/plain": [
       "<surprise.prediction_algorithms.matrix_factorization.SVD at 0x7f7122ce44c0>"
      ]
     },
     "execution_count": 39,
     "metadata": {},
     "output_type": "execute_result"
    },
    {
     "name": "stdout",
     "output_type": "stream",
     "text": [
      "train RMSE,MAE: 0.813 0.617\n",
      "test RMSE,MAE: 0.867 0.658 \n",
      "\n",
      "\n",
      "nfactor, lr, reg: 2 0.003 0.1 \n",
      "\n"
     ]
    },
    {
     "data": {
      "text/plain": [
       "<surprise.prediction_algorithms.matrix_factorization.SVD at 0x7f715dffa460>"
      ]
     },
     "execution_count": 39,
     "metadata": {},
     "output_type": "execute_result"
    },
    {
     "name": "stdout",
     "output_type": "stream",
     "text": [
      "train RMSE,MAE: 0.814 0.619\n",
      "test RMSE,MAE: 0.867 0.659 \n",
      "\n",
      "\n",
      "nfactor, lr, reg: 2 0.003 0.2 \n",
      "\n"
     ]
    },
    {
     "data": {
      "text/plain": [
       "<surprise.prediction_algorithms.matrix_factorization.SVD at 0x7f7122ce4e50>"
      ]
     },
     "execution_count": 39,
     "metadata": {},
     "output_type": "execute_result"
    },
    {
     "name": "stdout",
     "output_type": "stream",
     "text": [
      "train RMSE,MAE: 0.818 0.626\n",
      "test RMSE,MAE: 0.869 0.665 \n",
      "\n",
      "\n",
      "nfactor, lr, reg: 2 0.003 0.4 \n",
      "\n"
     ]
    },
    {
     "data": {
      "text/plain": [
       "<surprise.prediction_algorithms.matrix_factorization.SVD at 0x7f7122ce4940>"
      ]
     },
     "execution_count": 39,
     "metadata": {},
     "output_type": "execute_result"
    },
    {
     "name": "stdout",
     "output_type": "stream",
     "text": [
      "train RMSE,MAE: 0.826 0.638\n",
      "test RMSE,MAE: 0.874 0.674 \n",
      "\n",
      "\n",
      "nfactor, lr, reg: 2 0.003 0.8 \n",
      "\n"
     ]
    },
    {
     "data": {
      "text/plain": [
       "<surprise.prediction_algorithms.matrix_factorization.SVD at 0x7f7122ce42e0>"
      ]
     },
     "execution_count": 39,
     "metadata": {},
     "output_type": "execute_result"
    },
    {
     "name": "stdout",
     "output_type": "stream",
     "text": [
      "train RMSE,MAE: 0.842 0.656\n",
      "test RMSE,MAE: 0.887 0.690 \n",
      "\n",
      "\n",
      "nfactor, lr, reg: 2 0.003 1 \n",
      "\n"
     ]
    },
    {
     "data": {
      "text/plain": [
       "<surprise.prediction_algorithms.matrix_factorization.SVD at 0x7f715dffa460>"
      ]
     },
     "execution_count": 39,
     "metadata": {},
     "output_type": "execute_result"
    },
    {
     "name": "stdout",
     "output_type": "stream",
     "text": [
      "train RMSE,MAE: 0.849 0.663\n",
      "test RMSE,MAE: 0.892 0.696 \n",
      "\n",
      "\n",
      "nfactor, lr, reg: 2 0.003 2 \n",
      "\n"
     ]
    },
    {
     "data": {
      "text/plain": [
       "<surprise.prediction_algorithms.matrix_factorization.SVD at 0x7f7122ce4430>"
      ]
     },
     "execution_count": 39,
     "metadata": {},
     "output_type": "execute_result"
    },
    {
     "name": "stdout",
     "output_type": "stream",
     "text": [
      "train RMSE,MAE: 0.877 0.689\n",
      "test RMSE,MAE: 0.914 0.717 \n",
      "\n",
      "\n",
      "nfactor, lr, reg: 2 0.003 4 \n",
      "\n"
     ]
    },
    {
     "data": {
      "text/plain": [
       "<surprise.prediction_algorithms.matrix_factorization.SVD at 0x7f7122ce4160>"
      ]
     },
     "execution_count": 39,
     "metadata": {},
     "output_type": "execute_result"
    },
    {
     "name": "stdout",
     "output_type": "stream",
     "text": [
      "train RMSE,MAE: 0.907 0.717\n",
      "test RMSE,MAE: 0.937 0.739 \n",
      "\n",
      "\n",
      "nfactor, lr, reg: 2 0.003 10 \n",
      "\n"
     ]
    },
    {
     "data": {
      "text/plain": [
       "<surprise.prediction_algorithms.matrix_factorization.SVD at 0x7f7122ce46d0>"
      ]
     },
     "execution_count": 39,
     "metadata": {},
     "output_type": "execute_result"
    },
    {
     "name": "stdout",
     "output_type": "stream",
     "text": [
      "train RMSE,MAE: 0.943 0.750\n",
      "test RMSE,MAE: 0.961 0.762 \n",
      "\n",
      "\n",
      "nfactor, lr, reg: 2 0.004 0.01 \n",
      "\n"
     ]
    },
    {
     "data": {
      "text/plain": [
       "<surprise.prediction_algorithms.matrix_factorization.SVD at 0x7f715dffa460>"
      ]
     },
     "execution_count": 39,
     "metadata": {},
     "output_type": "execute_result"
    },
    {
     "name": "stdout",
     "output_type": "stream",
     "text": [
      "train RMSE,MAE: 0.796 0.599\n",
      "test RMSE,MAE: 0.863 0.650 \n",
      "\n",
      "\n",
      "nfactor, lr, reg: 2 0.004 0.02 \n",
      "\n"
     ]
    },
    {
     "data": {
      "text/plain": [
       "<surprise.prediction_algorithms.matrix_factorization.SVD at 0x7f7122ce4f70>"
      ]
     },
     "execution_count": 39,
     "metadata": {},
     "output_type": "execute_result"
    },
    {
     "name": "stdout",
     "output_type": "stream",
     "text": [
      "train RMSE,MAE: 0.796 0.600\n",
      "test RMSE,MAE: 0.863 0.650 \n",
      "\n",
      "\n",
      "nfactor, lr, reg: 2 0.004 0.04 \n",
      "\n"
     ]
    },
    {
     "data": {
      "text/plain": [
       "<surprise.prediction_algorithms.matrix_factorization.SVD at 0x7f7122ce4a00>"
      ]
     },
     "execution_count": 39,
     "metadata": {},
     "output_type": "execute_result"
    },
    {
     "name": "stdout",
     "output_type": "stream",
     "text": [
      "train RMSE,MAE: 0.797 0.601\n",
      "test RMSE,MAE: 0.863 0.651 \n",
      "\n",
      "\n",
      "nfactor, lr, reg: 2 0.004 0.08 \n",
      "\n"
     ]
    },
    {
     "data": {
      "text/plain": [
       "<surprise.prediction_algorithms.matrix_factorization.SVD at 0x7f7122ce4940>"
      ]
     },
     "execution_count": 39,
     "metadata": {},
     "output_type": "execute_result"
    },
    {
     "name": "stdout",
     "output_type": "stream",
     "text": [
      "train RMSE,MAE: 0.799 0.605\n",
      "test RMSE,MAE: 0.864 0.654 \n",
      "\n",
      "\n",
      "nfactor, lr, reg: 2 0.004 0.1 \n",
      "\n"
     ]
    },
    {
     "data": {
      "text/plain": [
       "<surprise.prediction_algorithms.matrix_factorization.SVD at 0x7f715dffa460>"
      ]
     },
     "execution_count": 39,
     "metadata": {},
     "output_type": "execute_result"
    },
    {
     "name": "stdout",
     "output_type": "stream",
     "text": [
      "train RMSE,MAE: 0.800 0.606\n",
      "test RMSE,MAE: 0.864 0.655 \n",
      "\n",
      "\n",
      "nfactor, lr, reg: 2 0.004 0.2 \n",
      "\n"
     ]
    },
    {
     "data": {
      "text/plain": [
       "<surprise.prediction_algorithms.matrix_factorization.SVD at 0x7f7122ce4e50>"
      ]
     },
     "execution_count": 39,
     "metadata": {},
     "output_type": "execute_result"
    },
    {
     "name": "stdout",
     "output_type": "stream",
     "text": [
      "train RMSE,MAE: 0.804 0.614\n",
      "test RMSE,MAE: 0.865 0.661 \n",
      "\n",
      "\n",
      "nfactor, lr, reg: 2 0.004 0.4 \n",
      "\n"
     ]
    },
    {
     "data": {
      "text/plain": [
       "<surprise.prediction_algorithms.matrix_factorization.SVD at 0x7f7122ce4e80>"
      ]
     },
     "execution_count": 39,
     "metadata": {},
     "output_type": "execute_result"
    },
    {
     "name": "stdout",
     "output_type": "stream",
     "text": [
      "train RMSE,MAE: 0.813 0.627\n",
      "test RMSE,MAE: 0.871 0.671 \n",
      "\n",
      "\n",
      "nfactor, lr, reg: 2 0.004 0.8 \n",
      "\n"
     ]
    },
    {
     "data": {
      "text/plain": [
       "<surprise.prediction_algorithms.matrix_factorization.SVD at 0x7f7122ce4160>"
      ]
     },
     "execution_count": 39,
     "metadata": {},
     "output_type": "execute_result"
    },
    {
     "name": "stdout",
     "output_type": "stream",
     "text": [
      "train RMSE,MAE: 0.831 0.647\n",
      "test RMSE,MAE: 0.884 0.687 \n",
      "\n",
      "\n",
      "nfactor, lr, reg: 2 0.004 1 \n",
      "\n"
     ]
    },
    {
     "data": {
      "text/plain": [
       "<surprise.prediction_algorithms.matrix_factorization.SVD at 0x7f715dffa460>"
      ]
     },
     "execution_count": 39,
     "metadata": {},
     "output_type": "execute_result"
    },
    {
     "name": "stdout",
     "output_type": "stream",
     "text": [
      "train RMSE,MAE: 0.839 0.655\n",
      "test RMSE,MAE: 0.890 0.693 \n",
      "\n",
      "\n",
      "nfactor, lr, reg: 2 0.004 2 \n",
      "\n"
     ]
    },
    {
     "data": {
      "text/plain": [
       "<surprise.prediction_algorithms.matrix_factorization.SVD at 0x7f7122ce4790>"
      ]
     },
     "execution_count": 39,
     "metadata": {},
     "output_type": "execute_result"
    },
    {
     "name": "stdout",
     "output_type": "stream",
     "text": [
      "train RMSE,MAE: 0.869 0.683\n",
      "test RMSE,MAE: 0.912 0.715 \n",
      "\n",
      "\n",
      "nfactor, lr, reg: 2 0.004 4 \n",
      "\n"
     ]
    },
    {
     "data": {
      "text/plain": [
       "<surprise.prediction_algorithms.matrix_factorization.SVD at 0x7f7122ce4430>"
      ]
     },
     "execution_count": 39,
     "metadata": {},
     "output_type": "execute_result"
    },
    {
     "name": "stdout",
     "output_type": "stream",
     "text": [
      "train RMSE,MAE: 0.903 0.713\n",
      "test RMSE,MAE: 0.936 0.737 \n",
      "\n",
      "\n",
      "nfactor, lr, reg: 2 0.004 10 \n",
      "\n"
     ]
    },
    {
     "data": {
      "text/plain": [
       "<surprise.prediction_algorithms.matrix_factorization.SVD at 0x7f7122ce4a00>"
      ]
     },
     "execution_count": 39,
     "metadata": {},
     "output_type": "execute_result"
    },
    {
     "name": "stdout",
     "output_type": "stream",
     "text": [
      "train RMSE,MAE: 0.942 0.749\n",
      "test RMSE,MAE: 0.961 0.761 \n",
      "\n",
      "\n",
      "nfactor, lr, reg: 2 0.005 0.01 \n",
      "\n"
     ]
    },
    {
     "data": {
      "text/plain": [
       "<surprise.prediction_algorithms.matrix_factorization.SVD at 0x7f711fa46a30>"
      ]
     },
     "execution_count": 39,
     "metadata": {},
     "output_type": "execute_result"
    },
    {
     "name": "stdout",
     "output_type": "stream",
     "text": [
      "train RMSE,MAE: 0.783 0.587\n",
      "test RMSE,MAE: 0.861 0.647 \n",
      "\n",
      "\n",
      "nfactor, lr, reg: 2 0.005 0.02 \n",
      "\n"
     ]
    },
    {
     "data": {
      "text/plain": [
       "<surprise.prediction_algorithms.matrix_factorization.SVD at 0x7f7122ce4040>"
      ]
     },
     "execution_count": 39,
     "metadata": {},
     "output_type": "execute_result"
    },
    {
     "name": "stdout",
     "output_type": "stream",
     "text": [
      "train RMSE,MAE: 0.783 0.588\n",
      "test RMSE,MAE: 0.861 0.647 \n",
      "\n",
      "\n",
      "nfactor, lr, reg: 2 0.005 0.04 \n",
      "\n"
     ]
    },
    {
     "data": {
      "text/plain": [
       "<surprise.prediction_algorithms.matrix_factorization.SVD at 0x7f7122ce46a0>"
      ]
     },
     "execution_count": 39,
     "metadata": {},
     "output_type": "execute_result"
    },
    {
     "name": "stdout",
     "output_type": "stream",
     "text": [
      "train RMSE,MAE: 0.784 0.590\n",
      "test RMSE,MAE: 0.861 0.649 \n",
      "\n",
      "\n",
      "nfactor, lr, reg: 2 0.005 0.08 \n",
      "\n"
     ]
    },
    {
     "data": {
      "text/plain": [
       "<surprise.prediction_algorithms.matrix_factorization.SVD at 0x7f7122ce4e80>"
      ]
     },
     "execution_count": 39,
     "metadata": {},
     "output_type": "execute_result"
    },
    {
     "name": "stdout",
     "output_type": "stream",
     "text": [
      "train RMSE,MAE: 0.787 0.594\n",
      "test RMSE,MAE: 0.861 0.651 \n",
      "\n",
      "\n",
      "nfactor, lr, reg: 2 0.005 0.1 \n",
      "\n"
     ]
    },
    {
     "data": {
      "text/plain": [
       "<surprise.prediction_algorithms.matrix_factorization.SVD at 0x7f711fa46a30>"
      ]
     },
     "execution_count": 39,
     "metadata": {},
     "output_type": "execute_result"
    },
    {
     "name": "stdout",
     "output_type": "stream",
     "text": [
      "train RMSE,MAE: 0.788 0.596\n",
      "test RMSE,MAE: 0.862 0.652 \n",
      "\n",
      "\n",
      "nfactor, lr, reg: 2 0.005 0.2 \n",
      "\n"
     ]
    },
    {
     "data": {
      "text/plain": [
       "<surprise.prediction_algorithms.matrix_factorization.SVD at 0x7f7122ce4e50>"
      ]
     },
     "execution_count": 39,
     "metadata": {},
     "output_type": "execute_result"
    },
    {
     "name": "stdout",
     "output_type": "stream",
     "text": [
      "train RMSE,MAE: 0.793 0.604\n",
      "test RMSE,MAE: 0.863 0.658 \n",
      "\n",
      "\n",
      "nfactor, lr, reg: 2 0.005 0.4 \n",
      "\n"
     ]
    },
    {
     "data": {
      "text/plain": [
       "<surprise.prediction_algorithms.matrix_factorization.SVD at 0x7f7122ce47f0>"
      ]
     },
     "execution_count": 39,
     "metadata": {},
     "output_type": "execute_result"
    },
    {
     "name": "stdout",
     "output_type": "stream",
     "text": [
      "train RMSE,MAE: 0.803 0.618\n",
      "test RMSE,MAE: 0.869 0.669 \n",
      "\n",
      "\n",
      "nfactor, lr, reg: 2 0.005 0.8 \n",
      "\n"
     ]
    },
    {
     "data": {
      "text/plain": [
       "<surprise.prediction_algorithms.matrix_factorization.SVD at 0x7f7122ce4430>"
      ]
     },
     "execution_count": 39,
     "metadata": {},
     "output_type": "execute_result"
    },
    {
     "name": "stdout",
     "output_type": "stream",
     "text": [
      "train RMSE,MAE: 0.822 0.639\n",
      "test RMSE,MAE: 0.882 0.685 \n",
      "\n",
      "\n",
      "nfactor, lr, reg: 2 0.005 1 \n",
      "\n"
     ]
    },
    {
     "data": {
      "text/plain": [
       "<surprise.prediction_algorithms.matrix_factorization.SVD at 0x7f711fa46a30>"
      ]
     },
     "execution_count": 39,
     "metadata": {},
     "output_type": "execute_result"
    },
    {
     "name": "stdout",
     "output_type": "stream",
     "text": [
      "train RMSE,MAE: 0.830 0.648\n",
      "test RMSE,MAE: 0.888 0.692 \n",
      "\n",
      "\n",
      "nfactor, lr, reg: 2 0.005 2 \n",
      "\n"
     ]
    },
    {
     "data": {
      "text/plain": [
       "<surprise.prediction_algorithms.matrix_factorization.SVD at 0x7f7122ce46d0>"
      ]
     },
     "execution_count": 39,
     "metadata": {},
     "output_type": "execute_result"
    },
    {
     "name": "stdout",
     "output_type": "stream",
     "text": [
      "train RMSE,MAE: 0.863 0.678\n",
      "test RMSE,MAE: 0.911 0.714 \n",
      "\n",
      "\n",
      "nfactor, lr, reg: 2 0.005 4 \n",
      "\n"
     ]
    },
    {
     "data": {
      "text/plain": [
       "<surprise.prediction_algorithms.matrix_factorization.SVD at 0x7f7122ce42e0>"
      ]
     },
     "execution_count": 39,
     "metadata": {},
     "output_type": "execute_result"
    },
    {
     "name": "stdout",
     "output_type": "stream",
     "text": [
      "train RMSE,MAE: 0.900 0.711\n",
      "test RMSE,MAE: 0.935 0.736 \n",
      "\n",
      "\n",
      "nfactor, lr, reg: 2 0.005 10 \n",
      "\n"
     ]
    },
    {
     "data": {
      "text/plain": [
       "<surprise.prediction_algorithms.matrix_factorization.SVD at 0x7f7122ce46a0>"
      ]
     },
     "execution_count": 39,
     "metadata": {},
     "output_type": "execute_result"
    },
    {
     "name": "stdout",
     "output_type": "stream",
     "text": [
      "train RMSE,MAE: 0.941 0.748\n",
      "test RMSE,MAE: 0.960 0.761 \n",
      "\n",
      "\n",
      "nfactor, lr, reg: 2 0.006 0.01 \n",
      "\n"
     ]
    },
    {
     "data": {
      "text/plain": [
       "<surprise.prediction_algorithms.matrix_factorization.SVD at 0x7f715dffa460>"
      ]
     },
     "execution_count": 39,
     "metadata": {},
     "output_type": "execute_result"
    },
    {
     "name": "stdout",
     "output_type": "stream",
     "text": [
      "train RMSE,MAE: 0.769 0.577\n",
      "test RMSE,MAE: 0.860 0.645 \n",
      "\n",
      "\n",
      "nfactor, lr, reg: 2 0.006 0.02 \n",
      "\n"
     ]
    },
    {
     "data": {
      "text/plain": [
       "<surprise.prediction_algorithms.matrix_factorization.SVD at 0x7f7122ce4040>"
      ]
     },
     "execution_count": 39,
     "metadata": {},
     "output_type": "execute_result"
    },
    {
     "name": "stdout",
     "output_type": "stream",
     "text": [
      "train RMSE,MAE: 0.771 0.579\n",
      "test RMSE,MAE: 0.859 0.645 \n",
      "\n",
      "\n",
      "nfactor, lr, reg: 2 0.006 0.04 \n",
      "\n"
     ]
    },
    {
     "data": {
      "text/plain": [
       "<surprise.prediction_algorithms.matrix_factorization.SVD at 0x7f7122ce4160>"
      ]
     },
     "execution_count": 39,
     "metadata": {},
     "output_type": "execute_result"
    },
    {
     "name": "stdout",
     "output_type": "stream",
     "text": [
      "train RMSE,MAE: 0.773 0.581\n",
      "test RMSE,MAE: 0.860 0.647 \n",
      "\n",
      "\n",
      "nfactor, lr, reg: 2 0.006 0.08 \n",
      "\n"
     ]
    },
    {
     "data": {
      "text/plain": [
       "<surprise.prediction_algorithms.matrix_factorization.SVD at 0x7f7122ce47f0>"
      ]
     },
     "execution_count": 39,
     "metadata": {},
     "output_type": "execute_result"
    },
    {
     "name": "stdout",
     "output_type": "stream",
     "text": [
      "train RMSE,MAE: 0.776 0.586\n",
      "test RMSE,MAE: 0.860 0.649 \n",
      "\n",
      "\n",
      "nfactor, lr, reg: 2 0.006 0.1 \n",
      "\n"
     ]
    },
    {
     "data": {
      "text/plain": [
       "<surprise.prediction_algorithms.matrix_factorization.SVD at 0x7f715dffa460>"
      ]
     },
     "execution_count": 39,
     "metadata": {},
     "output_type": "execute_result"
    },
    {
     "name": "stdout",
     "output_type": "stream",
     "text": [
      "train RMSE,MAE: 0.778 0.588\n",
      "test RMSE,MAE: 0.860 0.650 \n",
      "\n",
      "\n",
      "nfactor, lr, reg: 2 0.006 0.2 \n",
      "\n"
     ]
    },
    {
     "data": {
      "text/plain": [
       "<surprise.prediction_algorithms.matrix_factorization.SVD at 0x7f7122ce4cd0>"
      ]
     },
     "execution_count": 39,
     "metadata": {},
     "output_type": "execute_result"
    },
    {
     "name": "stdout",
     "output_type": "stream",
     "text": [
      "train RMSE,MAE: 0.783 0.596\n",
      "test RMSE,MAE: 0.862 0.656 \n",
      "\n",
      "\n",
      "nfactor, lr, reg: 2 0.006 0.4 \n",
      "\n"
     ]
    },
    {
     "data": {
      "text/plain": [
       "<surprise.prediction_algorithms.matrix_factorization.SVD at 0x7f7122ce46d0>"
      ]
     },
     "execution_count": 39,
     "metadata": {},
     "output_type": "execute_result"
    },
    {
     "name": "stdout",
     "output_type": "stream",
     "text": [
      "train RMSE,MAE: 0.794 0.611\n",
      "test RMSE,MAE: 0.868 0.667 \n",
      "\n",
      "\n",
      "nfactor, lr, reg: 2 0.006 0.8 \n",
      "\n"
     ]
    },
    {
     "data": {
      "text/plain": [
       "<surprise.prediction_algorithms.matrix_factorization.SVD at 0x7f7122ce4190>"
      ]
     },
     "execution_count": 39,
     "metadata": {},
     "output_type": "execute_result"
    },
    {
     "name": "stdout",
     "output_type": "stream",
     "text": [
      "train RMSE,MAE: 0.814 0.633\n",
      "test RMSE,MAE: 0.881 0.684 \n",
      "\n",
      "\n",
      "nfactor, lr, reg: 2 0.006 1 \n",
      "\n"
     ]
    },
    {
     "data": {
      "text/plain": [
       "<surprise.prediction_algorithms.matrix_factorization.SVD at 0x7f715dffa460>"
      ]
     },
     "execution_count": 39,
     "metadata": {},
     "output_type": "execute_result"
    },
    {
     "name": "stdout",
     "output_type": "stream",
     "text": [
      "train RMSE,MAE: 0.824 0.642\n",
      "test RMSE,MAE: 0.887 0.691 \n",
      "\n",
      "\n",
      "nfactor, lr, reg: 2 0.006 2 \n",
      "\n"
     ]
    },
    {
     "data": {
      "text/plain": [
       "<surprise.prediction_algorithms.matrix_factorization.SVD at 0x7f7122ce4f70>"
      ]
     },
     "execution_count": 39,
     "metadata": {},
     "output_type": "execute_result"
    },
    {
     "name": "stdout",
     "output_type": "stream",
     "text": [
      "train RMSE,MAE: 0.858 0.674\n",
      "test RMSE,MAE: 0.910 0.713 \n",
      "\n",
      "\n",
      "nfactor, lr, reg: 2 0.006 4 \n",
      "\n"
     ]
    },
    {
     "data": {
      "text/plain": [
       "<surprise.prediction_algorithms.matrix_factorization.SVD at 0x7f7122ce4e50>"
      ]
     },
     "execution_count": 39,
     "metadata": {},
     "output_type": "execute_result"
    },
    {
     "name": "stdout",
     "output_type": "stream",
     "text": [
      "train RMSE,MAE: 0.897 0.709\n",
      "test RMSE,MAE: 0.934 0.736 \n",
      "\n",
      "\n",
      "nfactor, lr, reg: 2 0.006 10 \n",
      "\n"
     ]
    },
    {
     "data": {
      "text/plain": [
       "<surprise.prediction_algorithms.matrix_factorization.SVD at 0x7f7122ce4160>"
      ]
     },
     "execution_count": 39,
     "metadata": {},
     "output_type": "execute_result"
    },
    {
     "name": "stdout",
     "output_type": "stream",
     "text": [
      "train RMSE,MAE: 0.941 0.748\n",
      "test RMSE,MAE: 0.960 0.761 \n",
      "\n",
      "\n",
      "nfactor, lr, reg: 2 0.007 0.01 \n",
      "\n"
     ]
    },
    {
     "data": {
      "text/plain": [
       "<surprise.prediction_algorithms.matrix_factorization.SVD at 0x7f715dffa460>"
      ]
     },
     "execution_count": 39,
     "metadata": {},
     "output_type": "execute_result"
    },
    {
     "name": "stdout",
     "output_type": "stream",
     "text": [
      "train RMSE,MAE: 0.758 0.567\n",
      "test RMSE,MAE: 0.860 0.644 \n",
      "\n",
      "\n",
      "nfactor, lr, reg: 2 0.007 0.02 \n",
      "\n"
     ]
    },
    {
     "data": {
      "text/plain": [
       "<surprise.prediction_algorithms.matrix_factorization.SVD at 0x7f7122ce4b20>"
      ]
     },
     "execution_count": 39,
     "metadata": {},
     "output_type": "execute_result"
    },
    {
     "name": "stdout",
     "output_type": "stream",
     "text": [
      "train RMSE,MAE: 0.761 0.570\n",
      "test RMSE,MAE: 0.860 0.644 \n",
      "\n",
      "\n",
      "nfactor, lr, reg: 2 0.007 0.04 \n",
      "\n"
     ]
    },
    {
     "data": {
      "text/plain": [
       "<surprise.prediction_algorithms.matrix_factorization.SVD at 0x7f7122ce4790>"
      ]
     },
     "execution_count": 39,
     "metadata": {},
     "output_type": "execute_result"
    },
    {
     "name": "stdout",
     "output_type": "stream",
     "text": [
      "train RMSE,MAE: 0.764 0.573\n",
      "test RMSE,MAE: 0.859 0.645 \n",
      "\n",
      "\n",
      "nfactor, lr, reg: 2 0.007 0.08 \n",
      "\n"
     ]
    },
    {
     "data": {
      "text/plain": [
       "<surprise.prediction_algorithms.matrix_factorization.SVD at 0x7f711fa46a30>"
      ]
     },
     "execution_count": 39,
     "metadata": {},
     "output_type": "execute_result"
    },
    {
     "name": "stdout",
     "output_type": "stream",
     "text": [
      "train RMSE,MAE: 0.767 0.578\n",
      "test RMSE,MAE: 0.859 0.647 \n",
      "\n",
      "\n",
      "nfactor, lr, reg: 2 0.007 0.1 \n",
      "\n"
     ]
    },
    {
     "data": {
      "text/plain": [
       "<surprise.prediction_algorithms.matrix_factorization.SVD at 0x7f715dffa460>"
      ]
     },
     "execution_count": 39,
     "metadata": {},
     "output_type": "execute_result"
    },
    {
     "name": "stdout",
     "output_type": "stream",
     "text": [
      "train RMSE,MAE: 0.769 0.580\n",
      "test RMSE,MAE: 0.859 0.649 \n",
      "\n",
      "\n",
      "nfactor, lr, reg: 2 0.007 0.2 \n",
      "\n"
     ]
    },
    {
     "data": {
      "text/plain": [
       "<surprise.prediction_algorithms.matrix_factorization.SVD at 0x7f7122ce4cd0>"
      ]
     },
     "execution_count": 39,
     "metadata": {},
     "output_type": "execute_result"
    },
    {
     "name": "stdout",
     "output_type": "stream",
     "text": [
      "train RMSE,MAE: 0.775 0.589\n",
      "test RMSE,MAE: 0.861 0.655 \n",
      "\n",
      "\n",
      "nfactor, lr, reg: 2 0.007 0.4 \n",
      "\n"
     ]
    },
    {
     "data": {
      "text/plain": [
       "<surprise.prediction_algorithms.matrix_factorization.SVD at 0x7f7122ce42e0>"
      ]
     },
     "execution_count": 39,
     "metadata": {},
     "output_type": "execute_result"
    },
    {
     "name": "stdout",
     "output_type": "stream",
     "text": [
      "train RMSE,MAE: 0.787 0.605\n",
      "test RMSE,MAE: 0.867 0.666 \n",
      "\n",
      "\n",
      "nfactor, lr, reg: 2 0.007 0.8 \n",
      "\n"
     ]
    },
    {
     "data": {
      "text/plain": [
       "<surprise.prediction_algorithms.matrix_factorization.SVD at 0x7f7122ce4940>"
      ]
     },
     "execution_count": 39,
     "metadata": {},
     "output_type": "execute_result"
    },
    {
     "name": "stdout",
     "output_type": "stream",
     "text": [
      "train RMSE,MAE: 0.808 0.628\n",
      "test RMSE,MAE: 0.880 0.683 \n",
      "\n",
      "\n",
      "nfactor, lr, reg: 2 0.007 1 \n",
      "\n"
     ]
    },
    {
     "data": {
      "text/plain": [
       "<surprise.prediction_algorithms.matrix_factorization.SVD at 0x7f711fa46a30>"
      ]
     },
     "execution_count": 39,
     "metadata": {},
     "output_type": "execute_result"
    },
    {
     "name": "stdout",
     "output_type": "stream",
     "text": [
      "train RMSE,MAE: 0.818 0.638\n",
      "test RMSE,MAE: 0.886 0.690 \n",
      "\n",
      "\n",
      "nfactor, lr, reg: 2 0.007 2 \n",
      "\n"
     ]
    },
    {
     "data": {
      "text/plain": [
       "<surprise.prediction_algorithms.matrix_factorization.SVD at 0x7f7122ce4160>"
      ]
     },
     "execution_count": 39,
     "metadata": {},
     "output_type": "execute_result"
    },
    {
     "name": "stdout",
     "output_type": "stream",
     "text": [
      "train RMSE,MAE: 0.855 0.671\n",
      "test RMSE,MAE: 0.909 0.712 \n",
      "\n",
      "\n",
      "nfactor, lr, reg: 2 0.007 4 \n",
      "\n"
     ]
    },
    {
     "data": {
      "text/plain": [
       "<surprise.prediction_algorithms.matrix_factorization.SVD at 0x7f7122ce46a0>"
      ]
     },
     "execution_count": 39,
     "metadata": {},
     "output_type": "execute_result"
    },
    {
     "name": "stdout",
     "output_type": "stream",
     "text": [
      "train RMSE,MAE: 0.896 0.707\n",
      "test RMSE,MAE: 0.934 0.736 \n",
      "\n",
      "\n",
      "nfactor, lr, reg: 2 0.007 10 \n",
      "\n"
     ]
    },
    {
     "data": {
      "text/plain": [
       "<surprise.prediction_algorithms.matrix_factorization.SVD at 0x7f7122ce4e50>"
      ]
     },
     "execution_count": 39,
     "metadata": {},
     "output_type": "execute_result"
    },
    {
     "name": "stdout",
     "output_type": "stream",
     "text": [
      "train RMSE,MAE: 0.941 0.748\n",
      "test RMSE,MAE: 0.960 0.761 \n",
      "\n",
      "\n",
      "nfactor, lr, reg: 2 0.008 0.01 \n",
      "\n"
     ]
    },
    {
     "data": {
      "text/plain": [
       "<surprise.prediction_algorithms.matrix_factorization.SVD at 0x7f711fa46a30>"
      ]
     },
     "execution_count": 39,
     "metadata": {},
     "output_type": "execute_result"
    },
    {
     "name": "stdout",
     "output_type": "stream",
     "text": [
      "train RMSE,MAE: 0.748 0.559\n",
      "test RMSE,MAE: 0.860 0.643 \n",
      "\n",
      "\n",
      "nfactor, lr, reg: 2 0.008 0.02 \n",
      "\n"
     ]
    },
    {
     "data": {
      "text/plain": [
       "<surprise.prediction_algorithms.matrix_factorization.SVD at 0x7f7122ce4190>"
      ]
     },
     "execution_count": 39,
     "metadata": {},
     "output_type": "execute_result"
    },
    {
     "name": "stdout",
     "output_type": "stream",
     "text": [
      "train RMSE,MAE: 0.751 0.562\n",
      "test RMSE,MAE: 0.859 0.643 \n",
      "\n",
      "\n",
      "nfactor, lr, reg: 2 0.008 0.04 \n",
      "\n"
     ]
    },
    {
     "data": {
      "text/plain": [
       "<surprise.prediction_algorithms.matrix_factorization.SVD at 0x7f7122ce4b20>"
      ]
     },
     "execution_count": 39,
     "metadata": {},
     "output_type": "execute_result"
    },
    {
     "name": "stdout",
     "output_type": "stream",
     "text": [
      "train RMSE,MAE: 0.753 0.564\n",
      "test RMSE,MAE: 0.858 0.644 \n",
      "\n",
      "\n",
      "nfactor, lr, reg: 2 0.008 0.08 \n",
      "\n"
     ]
    },
    {
     "data": {
      "text/plain": [
       "<surprise.prediction_algorithms.matrix_factorization.SVD at 0x7f7122ce42e0>"
      ]
     },
     "execution_count": 39,
     "metadata": {},
     "output_type": "execute_result"
    },
    {
     "name": "stdout",
     "output_type": "stream",
     "text": [
      "train RMSE,MAE: 0.759 0.571\n",
      "test RMSE,MAE: 0.859 0.646 \n",
      "\n",
      "\n",
      "nfactor, lr, reg: 2 0.008 0.1 \n",
      "\n"
     ]
    },
    {
     "data": {
      "text/plain": [
       "<surprise.prediction_algorithms.matrix_factorization.SVD at 0x7f711fa46a30>"
      ]
     },
     "execution_count": 39,
     "metadata": {},
     "output_type": "execute_result"
    },
    {
     "name": "stdout",
     "output_type": "stream",
     "text": [
      "train RMSE,MAE: 0.761 0.573\n",
      "test RMSE,MAE: 0.859 0.647 \n",
      "\n",
      "\n",
      "nfactor, lr, reg: 2 0.008 0.2 \n",
      "\n"
     ]
    },
    {
     "data": {
      "text/plain": [
       "<surprise.prediction_algorithms.matrix_factorization.SVD at 0x7f7122ce4cd0>"
      ]
     },
     "execution_count": 39,
     "metadata": {},
     "output_type": "execute_result"
    },
    {
     "name": "stdout",
     "output_type": "stream",
     "text": [
      "train RMSE,MAE: 0.768 0.583\n",
      "test RMSE,MAE: 0.861 0.654 \n",
      "\n",
      "\n",
      "nfactor, lr, reg: 2 0.008 0.4 \n",
      "\n"
     ]
    },
    {
     "data": {
      "text/plain": [
       "<surprise.prediction_algorithms.matrix_factorization.SVD at 0x7f7122ce4790>"
      ]
     },
     "execution_count": 39,
     "metadata": {},
     "output_type": "execute_result"
    },
    {
     "name": "stdout",
     "output_type": "stream",
     "text": [
      "train RMSE,MAE: 0.781 0.599\n",
      "test RMSE,MAE: 0.867 0.665 \n",
      "\n",
      "\n",
      "nfactor, lr, reg: 2 0.008 0.8 \n",
      "\n"
     ]
    },
    {
     "data": {
      "text/plain": [
       "<surprise.prediction_algorithms.matrix_factorization.SVD at 0x7f7122ce46a0>"
      ]
     },
     "execution_count": 39,
     "metadata": {},
     "output_type": "execute_result"
    },
    {
     "name": "stdout",
     "output_type": "stream",
     "text": [
      "train RMSE,MAE: 0.804 0.624\n",
      "test RMSE,MAE: 0.880 0.683 \n",
      "\n",
      "\n",
      "nfactor, lr, reg: 2 0.008 1 \n",
      "\n"
     ]
    },
    {
     "data": {
      "text/plain": [
       "<surprise.prediction_algorithms.matrix_factorization.SVD at 0x7f715dffa460>"
      ]
     },
     "execution_count": 39,
     "metadata": {},
     "output_type": "execute_result"
    },
    {
     "name": "stdout",
     "output_type": "stream",
     "text": [
      "train RMSE,MAE: 0.814 0.634\n",
      "test RMSE,MAE: 0.886 0.689 \n",
      "\n",
      "\n",
      "nfactor, lr, reg: 2 0.008 2 \n",
      "\n"
     ]
    },
    {
     "data": {
      "text/plain": [
       "<surprise.prediction_algorithms.matrix_factorization.SVD at 0x7f7122ce4160>"
      ]
     },
     "execution_count": 39,
     "metadata": {},
     "output_type": "execute_result"
    },
    {
     "name": "stdout",
     "output_type": "stream",
     "text": [
      "train RMSE,MAE: 0.852 0.669\n",
      "test RMSE,MAE: 0.909 0.712 \n",
      "\n",
      "\n",
      "nfactor, lr, reg: 2 0.008 4 \n",
      "\n"
     ]
    },
    {
     "data": {
      "text/plain": [
       "<surprise.prediction_algorithms.matrix_factorization.SVD at 0x7f7122ce4f70>"
      ]
     },
     "execution_count": 39,
     "metadata": {},
     "output_type": "execute_result"
    },
    {
     "name": "stdout",
     "output_type": "stream",
     "text": [
      "train RMSE,MAE: 0.895 0.706\n",
      "test RMSE,MAE: 0.934 0.735 \n",
      "\n",
      "\n",
      "nfactor, lr, reg: 2 0.008 10 \n",
      "\n"
     ]
    },
    {
     "data": {
      "text/plain": [
       "<surprise.prediction_algorithms.matrix_factorization.SVD at 0x7f7122ce4b20>"
      ]
     },
     "execution_count": 39,
     "metadata": {},
     "output_type": "execute_result"
    },
    {
     "name": "stdout",
     "output_type": "stream",
     "text": [
      "train RMSE,MAE: 0.941 0.748\n",
      "test RMSE,MAE: 0.960 0.761 \n",
      "\n",
      "\n",
      "nfactor, lr, reg: 2 0.009000000000000001 0.01 \n",
      "\n"
     ]
    },
    {
     "data": {
      "text/plain": [
       "<surprise.prediction_algorithms.matrix_factorization.SVD at 0x7f715dffa460>"
      ]
     },
     "execution_count": 39,
     "metadata": {},
     "output_type": "execute_result"
    },
    {
     "name": "stdout",
     "output_type": "stream",
     "text": [
      "train RMSE,MAE: 0.733 0.548\n",
      "test RMSE,MAE: 0.858 0.641 \n",
      "\n",
      "\n",
      "nfactor, lr, reg: 2 0.009000000000000001 0.02 \n",
      "\n"
     ]
    },
    {
     "data": {
      "text/plain": [
       "<surprise.prediction_algorithms.matrix_factorization.SVD at 0x7f7122ce4190>"
      ]
     },
     "execution_count": 39,
     "metadata": {},
     "output_type": "execute_result"
    },
    {
     "name": "stdout",
     "output_type": "stream",
     "text": [
      "train RMSE,MAE: 0.737 0.552\n",
      "test RMSE,MAE: 0.859 0.642 \n",
      "\n",
      "\n",
      "nfactor, lr, reg: 2 0.009000000000000001 0.04 \n",
      "\n"
     ]
    },
    {
     "data": {
      "text/plain": [
       "<surprise.prediction_algorithms.matrix_factorization.SVD at 0x7f7122ce4e80>"
      ]
     },
     "execution_count": 39,
     "metadata": {},
     "output_type": "execute_result"
    },
    {
     "name": "stdout",
     "output_type": "stream",
     "text": [
      "train RMSE,MAE: 0.745 0.558\n",
      "test RMSE,MAE: 0.858 0.643 \n",
      "\n",
      "\n",
      "nfactor, lr, reg: 2 0.009000000000000001 0.08 \n",
      "\n"
     ]
    },
    {
     "data": {
      "text/plain": [
       "<surprise.prediction_algorithms.matrix_factorization.SVD at 0x7f7122ce4e50>"
      ]
     },
     "execution_count": 39,
     "metadata": {},
     "output_type": "execute_result"
    },
    {
     "name": "stdout",
     "output_type": "stream",
     "text": [
      "train RMSE,MAE: 0.751 0.565\n",
      "test RMSE,MAE: 0.859 0.646 \n",
      "\n",
      "\n",
      "nfactor, lr, reg: 2 0.009000000000000001 0.1 \n",
      "\n"
     ]
    },
    {
     "data": {
      "text/plain": [
       "<surprise.prediction_algorithms.matrix_factorization.SVD at 0x7f7122ce46a0>"
      ]
     },
     "execution_count": 39,
     "metadata": {},
     "output_type": "execute_result"
    },
    {
     "name": "stdout",
     "output_type": "stream",
     "text": [
      "train RMSE,MAE: 0.754 0.568\n",
      "test RMSE,MAE: 0.859 0.647 \n",
      "\n",
      "\n",
      "nfactor, lr, reg: 2 0.009000000000000001 0.2 \n",
      "\n"
     ]
    },
    {
     "data": {
      "text/plain": [
       "<surprise.prediction_algorithms.matrix_factorization.SVD at 0x7f7122ce42e0>"
      ]
     },
     "execution_count": 39,
     "metadata": {},
     "output_type": "execute_result"
    },
    {
     "name": "stdout",
     "output_type": "stream",
     "text": [
      "train RMSE,MAE: 0.762 0.578\n",
      "test RMSE,MAE: 0.861 0.653 \n",
      "\n",
      "\n",
      "nfactor, lr, reg: 2 0.009000000000000001 0.4 \n",
      "\n"
     ]
    },
    {
     "data": {
      "text/plain": [
       "<surprise.prediction_algorithms.matrix_factorization.SVD at 0x7f7122ce4430>"
      ]
     },
     "execution_count": 39,
     "metadata": {},
     "output_type": "execute_result"
    },
    {
     "name": "stdout",
     "output_type": "stream",
     "text": [
      "train RMSE,MAE: 0.776 0.595\n",
      "test RMSE,MAE: 0.867 0.664 \n",
      "\n",
      "\n",
      "nfactor, lr, reg: 2 0.009000000000000001 0.8 \n",
      "\n"
     ]
    },
    {
     "data": {
      "text/plain": [
       "<surprise.prediction_algorithms.matrix_factorization.SVD at 0x7f7122ce4a60>"
      ]
     },
     "execution_count": 39,
     "metadata": {},
     "output_type": "execute_result"
    },
    {
     "name": "stdout",
     "output_type": "stream",
     "text": [
      "train RMSE,MAE: 0.799 0.621\n",
      "test RMSE,MAE: 0.879 0.682 \n",
      "\n",
      "\n",
      "nfactor, lr, reg: 2 0.009000000000000001 1 \n",
      "\n"
     ]
    },
    {
     "data": {
      "text/plain": [
       "<surprise.prediction_algorithms.matrix_factorization.SVD at 0x7f7122ce4040>"
      ]
     },
     "execution_count": 39,
     "metadata": {},
     "output_type": "execute_result"
    },
    {
     "name": "stdout",
     "output_type": "stream",
     "text": [
      "train RMSE,MAE: 0.810 0.631\n",
      "test RMSE,MAE: 0.886 0.689 \n",
      "\n",
      "\n",
      "nfactor, lr, reg: 2 0.009000000000000001 2 \n",
      "\n"
     ]
    },
    {
     "data": {
      "text/plain": [
       "<surprise.prediction_algorithms.matrix_factorization.SVD at 0x7f7122ce4940>"
      ]
     },
     "execution_count": 39,
     "metadata": {},
     "output_type": "execute_result"
    },
    {
     "name": "stdout",
     "output_type": "stream",
     "text": [
      "train RMSE,MAE: 0.850 0.667\n",
      "test RMSE,MAE: 0.909 0.712 \n",
      "\n",
      "\n",
      "nfactor, lr, reg: 2 0.009000000000000001 4 \n",
      "\n"
     ]
    },
    {
     "data": {
      "text/plain": [
       "<surprise.prediction_algorithms.matrix_factorization.SVD at 0x7f7122ce4160>"
      ]
     },
     "execution_count": 39,
     "metadata": {},
     "output_type": "execute_result"
    },
    {
     "name": "stdout",
     "output_type": "stream",
     "text": [
      "train RMSE,MAE: 0.894 0.706\n",
      "test RMSE,MAE: 0.934 0.735 \n",
      "\n",
      "\n",
      "nfactor, lr, reg: 2 0.009000000000000001 10 \n",
      "\n"
     ]
    },
    {
     "data": {
      "text/plain": [
       "<surprise.prediction_algorithms.matrix_factorization.SVD at 0x7f7122ce4190>"
      ]
     },
     "execution_count": 39,
     "metadata": {},
     "output_type": "execute_result"
    },
    {
     "name": "stdout",
     "output_type": "stream",
     "text": [
      "train RMSE,MAE: 0.941 0.748\n",
      "test RMSE,MAE: 0.961 0.761 \n",
      "\n",
      "\n",
      "nfactor, lr, reg: 10 0.001 0.01 \n",
      "\n"
     ]
    },
    {
     "data": {
      "text/plain": [
       "<surprise.prediction_algorithms.matrix_factorization.SVD at 0x7f7122ce4a30>"
      ]
     },
     "execution_count": 39,
     "metadata": {},
     "output_type": "execute_result"
    },
    {
     "name": "stdout",
     "output_type": "stream",
     "text": [
      "train RMSE,MAE: 0.857 0.654\n",
      "test RMSE,MAE: 0.885 0.676 \n",
      "\n",
      "\n",
      "nfactor, lr, reg: 10 0.001 0.02 \n",
      "\n"
     ]
    },
    {
     "data": {
      "text/plain": [
       "<surprise.prediction_algorithms.matrix_factorization.SVD at 0x7f7122ce4790>"
      ]
     },
     "execution_count": 39,
     "metadata": {},
     "output_type": "execute_result"
    },
    {
     "name": "stdout",
     "output_type": "stream",
     "text": [
      "train RMSE,MAE: 0.857 0.655\n",
      "test RMSE,MAE: 0.885 0.676 \n",
      "\n",
      "\n",
      "nfactor, lr, reg: 10 0.001 0.04 \n",
      "\n"
     ]
    },
    {
     "data": {
      "text/plain": [
       "<surprise.prediction_algorithms.matrix_factorization.SVD at 0x7f7122ce4f70>"
      ]
     },
     "execution_count": 39,
     "metadata": {},
     "output_type": "execute_result"
    },
    {
     "name": "stdout",
     "output_type": "stream",
     "text": [
      "train RMSE,MAE: 0.857 0.656\n",
      "test RMSE,MAE: 0.886 0.677 \n",
      "\n",
      "\n",
      "nfactor, lr, reg: 10 0.001 0.08 \n",
      "\n"
     ]
    },
    {
     "data": {
      "text/plain": [
       "<surprise.prediction_algorithms.matrix_factorization.SVD at 0x7f7122ce4e50>"
      ]
     },
     "execution_count": 39,
     "metadata": {},
     "output_type": "execute_result"
    },
    {
     "name": "stdout",
     "output_type": "stream",
     "text": [
      "train RMSE,MAE: 0.858 0.658\n",
      "test RMSE,MAE: 0.886 0.679 \n",
      "\n",
      "\n",
      "nfactor, lr, reg: 10 0.001 0.1 \n",
      "\n"
     ]
    },
    {
     "data": {
      "text/plain": [
       "<surprise.prediction_algorithms.matrix_factorization.SVD at 0x7f7122ce46a0>"
      ]
     },
     "execution_count": 39,
     "metadata": {},
     "output_type": "execute_result"
    },
    {
     "name": "stdout",
     "output_type": "stream",
     "text": [
      "train RMSE,MAE: 0.859 0.659\n",
      "test RMSE,MAE: 0.886 0.680 \n",
      "\n",
      "\n",
      "nfactor, lr, reg: 10 0.001 0.2 \n",
      "\n"
     ]
    },
    {
     "data": {
      "text/plain": [
       "<surprise.prediction_algorithms.matrix_factorization.SVD at 0x7f7122ce42e0>"
      ]
     },
     "execution_count": 39,
     "metadata": {},
     "output_type": "execute_result"
    },
    {
     "name": "stdout",
     "output_type": "stream",
     "text": [
      "train RMSE,MAE: 0.861 0.664\n",
      "test RMSE,MAE: 0.888 0.684 \n",
      "\n",
      "\n",
      "nfactor, lr, reg: 10 0.001 0.4 \n",
      "\n"
     ]
    },
    {
     "data": {
      "text/plain": [
       "<surprise.prediction_algorithms.matrix_factorization.SVD at 0x7f7122ce4430>"
      ]
     },
     "execution_count": 39,
     "metadata": {},
     "output_type": "execute_result"
    },
    {
     "name": "stdout",
     "output_type": "stream",
     "text": [
      "train RMSE,MAE: 0.867 0.673\n",
      "test RMSE,MAE: 0.892 0.691 \n",
      "\n",
      "\n",
      "nfactor, lr, reg: 10 0.001 0.8 \n",
      "\n"
     ]
    },
    {
     "data": {
      "text/plain": [
       "<surprise.prediction_algorithms.matrix_factorization.SVD at 0x7f7122ce4a60>"
      ]
     },
     "execution_count": 39,
     "metadata": {},
     "output_type": "execute_result"
    },
    {
     "name": "stdout",
     "output_type": "stream",
     "text": [
      "train RMSE,MAE: 0.879 0.686\n",
      "test RMSE,MAE: 0.902 0.703 \n",
      "\n",
      "\n",
      "nfactor, lr, reg: 10 0.001 1 \n",
      "\n"
     ]
    },
    {
     "data": {
      "text/plain": [
       "<surprise.prediction_algorithms.matrix_factorization.SVD at 0x7f7122ce4040>"
      ]
     },
     "execution_count": 39,
     "metadata": {},
     "output_type": "execute_result"
    },
    {
     "name": "stdout",
     "output_type": "stream",
     "text": [
      "train RMSE,MAE: 0.884 0.692\n",
      "test RMSE,MAE: 0.906 0.708 \n",
      "\n",
      "\n",
      "nfactor, lr, reg: 10 0.001 2 \n",
      "\n"
     ]
    },
    {
     "data": {
      "text/plain": [
       "<surprise.prediction_algorithms.matrix_factorization.SVD at 0x7f7122ce4940>"
      ]
     },
     "execution_count": 39,
     "metadata": {},
     "output_type": "execute_result"
    },
    {
     "name": "stdout",
     "output_type": "stream",
     "text": [
      "train RMSE,MAE: 0.904 0.712\n",
      "test RMSE,MAE: 0.924 0.725 \n",
      "\n",
      "\n",
      "nfactor, lr, reg: 10 0.001 4 \n",
      "\n"
     ]
    },
    {
     "data": {
      "text/plain": [
       "<surprise.prediction_algorithms.matrix_factorization.SVD at 0x7f7122ce4160>"
      ]
     },
     "execution_count": 39,
     "metadata": {},
     "output_type": "execute_result"
    },
    {
     "name": "stdout",
     "output_type": "stream",
     "text": [
      "train RMSE,MAE: 0.927 0.734\n",
      "test RMSE,MAE: 0.943 0.745 \n",
      "\n",
      "\n",
      "nfactor, lr, reg: 10 0.001 10 \n",
      "\n"
     ]
    },
    {
     "data": {
      "text/plain": [
       "<surprise.prediction_algorithms.matrix_factorization.SVD at 0x7f7122ce4190>"
      ]
     },
     "execution_count": 39,
     "metadata": {},
     "output_type": "execute_result"
    },
    {
     "name": "stdout",
     "output_type": "stream",
     "text": [
      "train RMSE,MAE: 0.952 0.757\n",
      "test RMSE,MAE: 0.964 0.765 \n",
      "\n",
      "\n",
      "nfactor, lr, reg: 10 0.002 0.01 \n",
      "\n"
     ]
    },
    {
     "data": {
      "text/plain": [
       "<surprise.prediction_algorithms.matrix_factorization.SVD at 0x7f7122ce4a30>"
      ]
     },
     "execution_count": 39,
     "metadata": {},
     "output_type": "execute_result"
    },
    {
     "name": "stdout",
     "output_type": "stream",
     "text": [
      "train RMSE,MAE: 0.825 0.625\n",
      "test RMSE,MAE: 0.873 0.662 \n",
      "\n",
      "\n",
      "nfactor, lr, reg: 10 0.002 0.02 \n",
      "\n"
     ]
    },
    {
     "data": {
      "text/plain": [
       "<surprise.prediction_algorithms.matrix_factorization.SVD at 0x7f7122ce4790>"
      ]
     },
     "execution_count": 39,
     "metadata": {},
     "output_type": "execute_result"
    },
    {
     "name": "stdout",
     "output_type": "stream",
     "text": [
      "train RMSE,MAE: 0.825 0.626\n",
      "test RMSE,MAE: 0.873 0.662 \n",
      "\n",
      "\n",
      "nfactor, lr, reg: 10 0.002 0.04 \n",
      "\n"
     ]
    },
    {
     "data": {
      "text/plain": [
       "<surprise.prediction_algorithms.matrix_factorization.SVD at 0x7f7122ce4f70>"
      ]
     },
     "execution_count": 39,
     "metadata": {},
     "output_type": "execute_result"
    },
    {
     "name": "stdout",
     "output_type": "stream",
     "text": [
      "train RMSE,MAE: 0.827 0.628\n",
      "test RMSE,MAE: 0.873 0.663 \n",
      "\n",
      "\n",
      "nfactor, lr, reg: 10 0.002 0.08 \n",
      "\n"
     ]
    },
    {
     "data": {
      "text/plain": [
       "<surprise.prediction_algorithms.matrix_factorization.SVD at 0x7f7122ce4e50>"
      ]
     },
     "execution_count": 39,
     "metadata": {},
     "output_type": "execute_result"
    },
    {
     "name": "stdout",
     "output_type": "stream",
     "text": [
      "train RMSE,MAE: 0.828 0.631\n",
      "test RMSE,MAE: 0.873 0.665 \n",
      "\n",
      "\n",
      "nfactor, lr, reg: 10 0.002 0.1 \n",
      "\n"
     ]
    },
    {
     "data": {
      "text/plain": [
       "<surprise.prediction_algorithms.matrix_factorization.SVD at 0x7f7122ce46a0>"
      ]
     },
     "execution_count": 39,
     "metadata": {},
     "output_type": "execute_result"
    },
    {
     "name": "stdout",
     "output_type": "stream",
     "text": [
      "train RMSE,MAE: 0.829 0.632\n",
      "test RMSE,MAE: 0.873 0.666 \n",
      "\n",
      "\n",
      "nfactor, lr, reg: 10 0.002 0.2 \n",
      "\n"
     ]
    },
    {
     "data": {
      "text/plain": [
       "<surprise.prediction_algorithms.matrix_factorization.SVD at 0x7f7122ce42e0>"
      ]
     },
     "execution_count": 39,
     "metadata": {},
     "output_type": "execute_result"
    },
    {
     "name": "stdout",
     "output_type": "stream",
     "text": [
      "train RMSE,MAE: 0.833 0.639\n",
      "test RMSE,MAE: 0.875 0.671 \n",
      "\n",
      "\n",
      "nfactor, lr, reg: 10 0.002 0.4 \n",
      "\n"
     ]
    },
    {
     "data": {
      "text/plain": [
       "<surprise.prediction_algorithms.matrix_factorization.SVD at 0x7f7122ce4430>"
      ]
     },
     "execution_count": 39,
     "metadata": {},
     "output_type": "execute_result"
    },
    {
     "name": "stdout",
     "output_type": "stream",
     "text": [
      "train RMSE,MAE: 0.841 0.650\n",
      "test RMSE,MAE: 0.880 0.680 \n",
      "\n",
      "\n",
      "nfactor, lr, reg: 10 0.002 0.8 \n",
      "\n"
     ]
    },
    {
     "data": {
      "text/plain": [
       "<surprise.prediction_algorithms.matrix_factorization.SVD at 0x7f7122ce4a60>"
      ]
     },
     "execution_count": 39,
     "metadata": {},
     "output_type": "execute_result"
    },
    {
     "name": "stdout",
     "output_type": "stream",
     "text": [
      "train RMSE,MAE: 0.856 0.667\n",
      "test RMSE,MAE: 0.891 0.694 \n",
      "\n",
      "\n",
      "nfactor, lr, reg: 10 0.002 1 \n",
      "\n"
     ]
    },
    {
     "data": {
      "text/plain": [
       "<surprise.prediction_algorithms.matrix_factorization.SVD at 0x7f7122ce4040>"
      ]
     },
     "execution_count": 39,
     "metadata": {},
     "output_type": "execute_result"
    },
    {
     "name": "stdout",
     "output_type": "stream",
     "text": [
      "train RMSE,MAE: 0.862 0.674\n",
      "test RMSE,MAE: 0.897 0.700 \n",
      "\n",
      "\n",
      "nfactor, lr, reg: 10 0.002 2 \n",
      "\n"
     ]
    },
    {
     "data": {
      "text/plain": [
       "<surprise.prediction_algorithms.matrix_factorization.SVD at 0x7f7122ce4940>"
      ]
     },
     "execution_count": 39,
     "metadata": {},
     "output_type": "execute_result"
    },
    {
     "name": "stdout",
     "output_type": "stream",
     "text": [
      "train RMSE,MAE: 0.887 0.698\n",
      "test RMSE,MAE: 0.917 0.720 \n",
      "\n",
      "\n",
      "nfactor, lr, reg: 10 0.002 4 \n",
      "\n"
     ]
    },
    {
     "data": {
      "text/plain": [
       "<surprise.prediction_algorithms.matrix_factorization.SVD at 0x7f7122ce4160>"
      ]
     },
     "execution_count": 39,
     "metadata": {},
     "output_type": "execute_result"
    },
    {
     "name": "stdout",
     "output_type": "stream",
     "text": [
      "train RMSE,MAE: 0.915 0.723\n",
      "test RMSE,MAE: 0.939 0.741 \n",
      "\n",
      "\n",
      "nfactor, lr, reg: 10 0.002 10 \n",
      "\n"
     ]
    },
    {
     "data": {
      "text/plain": [
       "<surprise.prediction_algorithms.matrix_factorization.SVD at 0x7f7122ce4190>"
      ]
     },
     "execution_count": 39,
     "metadata": {},
     "output_type": "execute_result"
    },
    {
     "name": "stdout",
     "output_type": "stream",
     "text": [
      "train RMSE,MAE: 0.946 0.752\n",
      "test RMSE,MAE: 0.962 0.763 \n",
      "\n",
      "\n",
      "nfactor, lr, reg: 10 0.003 0.01 \n",
      "\n"
     ]
    },
    {
     "data": {
      "text/plain": [
       "<surprise.prediction_algorithms.matrix_factorization.SVD at 0x7f7122ce4a30>"
      ]
     },
     "execution_count": 39,
     "metadata": {},
     "output_type": "execute_result"
    },
    {
     "name": "stdout",
     "output_type": "stream",
     "text": [
      "train RMSE,MAE: 0.802 0.605\n",
      "test RMSE,MAE: 0.867 0.654 \n",
      "\n",
      "\n",
      "nfactor, lr, reg: 10 0.003 0.02 \n",
      "\n"
     ]
    },
    {
     "data": {
      "text/plain": [
       "<surprise.prediction_algorithms.matrix_factorization.SVD at 0x7f7122ce4790>"
      ]
     },
     "execution_count": 39,
     "metadata": {},
     "output_type": "execute_result"
    },
    {
     "name": "stdout",
     "output_type": "stream",
     "text": [
      "train RMSE,MAE: 0.803 0.607\n",
      "test RMSE,MAE: 0.867 0.655 \n",
      "\n",
      "\n",
      "nfactor, lr, reg: 10 0.003 0.04 \n",
      "\n"
     ]
    },
    {
     "data": {
      "text/plain": [
       "<surprise.prediction_algorithms.matrix_factorization.SVD at 0x7f7122ce4f70>"
      ]
     },
     "execution_count": 39,
     "metadata": {},
     "output_type": "execute_result"
    },
    {
     "name": "stdout",
     "output_type": "stream",
     "text": [
      "train RMSE,MAE: 0.805 0.609\n",
      "test RMSE,MAE: 0.867 0.656 \n",
      "\n",
      "\n",
      "nfactor, lr, reg: 10 0.003 0.08 \n",
      "\n"
     ]
    },
    {
     "data": {
      "text/plain": [
       "<surprise.prediction_algorithms.matrix_factorization.SVD at 0x7f7122ce4e50>"
      ]
     },
     "execution_count": 39,
     "metadata": {},
     "output_type": "execute_result"
    },
    {
     "name": "stdout",
     "output_type": "stream",
     "text": [
      "train RMSE,MAE: 0.808 0.613\n",
      "test RMSE,MAE: 0.867 0.658 \n",
      "\n",
      "\n",
      "nfactor, lr, reg: 10 0.003 0.1 \n",
      "\n"
     ]
    },
    {
     "data": {
      "text/plain": [
       "<surprise.prediction_algorithms.matrix_factorization.SVD at 0x7f7122ce46a0>"
      ]
     },
     "execution_count": 39,
     "metadata": {},
     "output_type": "execute_result"
    },
    {
     "name": "stdout",
     "output_type": "stream",
     "text": [
      "train RMSE,MAE: 0.809 0.615\n",
      "test RMSE,MAE: 0.867 0.659 \n",
      "\n",
      "\n",
      "nfactor, lr, reg: 10 0.003 0.2 \n",
      "\n"
     ]
    },
    {
     "data": {
      "text/plain": [
       "<surprise.prediction_algorithms.matrix_factorization.SVD at 0x7f7122ce42e0>"
      ]
     },
     "execution_count": 39,
     "metadata": {},
     "output_type": "execute_result"
    },
    {
     "name": "stdout",
     "output_type": "stream",
     "text": [
      "train RMSE,MAE: 0.814 0.623\n",
      "test RMSE,MAE: 0.869 0.665 \n",
      "\n",
      "\n",
      "nfactor, lr, reg: 10 0.003 0.4 \n",
      "\n"
     ]
    },
    {
     "data": {
      "text/plain": [
       "<surprise.prediction_algorithms.matrix_factorization.SVD at 0x7f7122ce4430>"
      ]
     },
     "execution_count": 39,
     "metadata": {},
     "output_type": "execute_result"
    },
    {
     "name": "stdout",
     "output_type": "stream",
     "text": [
      "train RMSE,MAE: 0.824 0.636\n",
      "test RMSE,MAE: 0.874 0.674 \n",
      "\n",
      "\n",
      "nfactor, lr, reg: 10 0.003 0.8 \n",
      "\n"
     ]
    },
    {
     "data": {
      "text/plain": [
       "<surprise.prediction_algorithms.matrix_factorization.SVD at 0x7f7122ce4a60>"
      ]
     },
     "execution_count": 39,
     "metadata": {},
     "output_type": "execute_result"
    },
    {
     "name": "stdout",
     "output_type": "stream",
     "text": [
      "train RMSE,MAE: 0.841 0.655\n",
      "test RMSE,MAE: 0.887 0.690 \n",
      "\n",
      "\n",
      "nfactor, lr, reg: 10 0.003 1 \n",
      "\n"
     ]
    },
    {
     "data": {
      "text/plain": [
       "<surprise.prediction_algorithms.matrix_factorization.SVD at 0x7f7122ce4040>"
      ]
     },
     "execution_count": 39,
     "metadata": {},
     "output_type": "execute_result"
    },
    {
     "name": "stdout",
     "output_type": "stream",
     "text": [
      "train RMSE,MAE: 0.849 0.663\n",
      "test RMSE,MAE: 0.892 0.696 \n",
      "\n",
      "\n",
      "nfactor, lr, reg: 10 0.003 2 \n",
      "\n"
     ]
    },
    {
     "data": {
      "text/plain": [
       "<surprise.prediction_algorithms.matrix_factorization.SVD at 0x7f7122ce4940>"
      ]
     },
     "execution_count": 39,
     "metadata": {},
     "output_type": "execute_result"
    },
    {
     "name": "stdout",
     "output_type": "stream",
     "text": [
      "train RMSE,MAE: 0.877 0.689\n",
      "test RMSE,MAE: 0.914 0.717 \n",
      "\n",
      "\n",
      "nfactor, lr, reg: 10 0.003 4 \n",
      "\n"
     ]
    },
    {
     "data": {
      "text/plain": [
       "<surprise.prediction_algorithms.matrix_factorization.SVD at 0x7f7122ce4160>"
      ]
     },
     "execution_count": 39,
     "metadata": {},
     "output_type": "execute_result"
    },
    {
     "name": "stdout",
     "output_type": "stream",
     "text": [
      "train RMSE,MAE: 0.907 0.717\n",
      "test RMSE,MAE: 0.937 0.739 \n",
      "\n",
      "\n",
      "nfactor, lr, reg: 10 0.003 10 \n",
      "\n"
     ]
    },
    {
     "data": {
      "text/plain": [
       "<surprise.prediction_algorithms.matrix_factorization.SVD at 0x7f7122ce4190>"
      ]
     },
     "execution_count": 39,
     "metadata": {},
     "output_type": "execute_result"
    },
    {
     "name": "stdout",
     "output_type": "stream",
     "text": [
      "train RMSE,MAE: 0.943 0.750\n",
      "test RMSE,MAE: 0.961 0.762 \n",
      "\n",
      "\n",
      "nfactor, lr, reg: 10 0.004 0.01 \n",
      "\n"
     ]
    },
    {
     "data": {
      "text/plain": [
       "<surprise.prediction_algorithms.matrix_factorization.SVD at 0x7f7122ce4a30>"
      ]
     },
     "execution_count": 39,
     "metadata": {},
     "output_type": "execute_result"
    },
    {
     "name": "stdout",
     "output_type": "stream",
     "text": [
      "train RMSE,MAE: 0.782 0.589\n",
      "test RMSE,MAE: 0.863 0.650 \n",
      "\n",
      "\n",
      "nfactor, lr, reg: 10 0.004 0.02 \n",
      "\n"
     ]
    },
    {
     "data": {
      "text/plain": [
       "<surprise.prediction_algorithms.matrix_factorization.SVD at 0x7f7122ce4790>"
      ]
     },
     "execution_count": 39,
     "metadata": {},
     "output_type": "execute_result"
    },
    {
     "name": "stdout",
     "output_type": "stream",
     "text": [
      "train RMSE,MAE: 0.784 0.591\n",
      "test RMSE,MAE: 0.863 0.650 \n",
      "\n",
      "\n",
      "nfactor, lr, reg: 10 0.004 0.04 \n",
      "\n"
     ]
    },
    {
     "data": {
      "text/plain": [
       "<surprise.prediction_algorithms.matrix_factorization.SVD at 0x7f7122ce4f70>"
      ]
     },
     "execution_count": 39,
     "metadata": {},
     "output_type": "execute_result"
    },
    {
     "name": "stdout",
     "output_type": "stream",
     "text": [
      "train RMSE,MAE: 0.787 0.594\n",
      "test RMSE,MAE: 0.863 0.651 \n",
      "\n",
      "\n",
      "nfactor, lr, reg: 10 0.004 0.08 \n",
      "\n"
     ]
    },
    {
     "data": {
      "text/plain": [
       "<surprise.prediction_algorithms.matrix_factorization.SVD at 0x7f7122ce4e50>"
      ]
     },
     "execution_count": 39,
     "metadata": {},
     "output_type": "execute_result"
    },
    {
     "name": "stdout",
     "output_type": "stream",
     "text": [
      "train RMSE,MAE: 0.791 0.599\n",
      "test RMSE,MAE: 0.863 0.654 \n",
      "\n",
      "\n",
      "nfactor, lr, reg: 10 0.004 0.1 \n",
      "\n"
     ]
    },
    {
     "data": {
      "text/plain": [
       "<surprise.prediction_algorithms.matrix_factorization.SVD at 0x7f7122ce46a0>"
      ]
     },
     "execution_count": 39,
     "metadata": {},
     "output_type": "execute_result"
    },
    {
     "name": "stdout",
     "output_type": "stream",
     "text": [
      "train RMSE,MAE: 0.793 0.601\n",
      "test RMSE,MAE: 0.863 0.655 \n",
      "\n",
      "\n",
      "nfactor, lr, reg: 10 0.004 0.2 \n",
      "\n"
     ]
    },
    {
     "data": {
      "text/plain": [
       "<surprise.prediction_algorithms.matrix_factorization.SVD at 0x7f7122ce42e0>"
      ]
     },
     "execution_count": 39,
     "metadata": {},
     "output_type": "execute_result"
    },
    {
     "name": "stdout",
     "output_type": "stream",
     "text": [
      "train RMSE,MAE: 0.800 0.611\n",
      "test RMSE,MAE: 0.865 0.661 \n",
      "\n",
      "\n",
      "nfactor, lr, reg: 10 0.004 0.4 \n",
      "\n"
     ]
    },
    {
     "data": {
      "text/plain": [
       "<surprise.prediction_algorithms.matrix_factorization.SVD at 0x7f7122ce4430>"
      ]
     },
     "execution_count": 39,
     "metadata": {},
     "output_type": "execute_result"
    },
    {
     "name": "stdout",
     "output_type": "stream",
     "text": [
      "train RMSE,MAE: 0.811 0.625\n",
      "test RMSE,MAE: 0.871 0.671 \n",
      "\n",
      "\n",
      "nfactor, lr, reg: 10 0.004 0.8 \n",
      "\n"
     ]
    },
    {
     "data": {
      "text/plain": [
       "<surprise.prediction_algorithms.matrix_factorization.SVD at 0x7f7122ce4a60>"
      ]
     },
     "execution_count": 39,
     "metadata": {},
     "output_type": "execute_result"
    },
    {
     "name": "stdout",
     "output_type": "stream",
     "text": [
      "train RMSE,MAE: 0.830 0.646\n",
      "test RMSE,MAE: 0.884 0.687 \n",
      "\n",
      "\n",
      "nfactor, lr, reg: 10 0.004 1 \n",
      "\n"
     ]
    },
    {
     "data": {
      "text/plain": [
       "<surprise.prediction_algorithms.matrix_factorization.SVD at 0x7f7122ce4040>"
      ]
     },
     "execution_count": 39,
     "metadata": {},
     "output_type": "execute_result"
    },
    {
     "name": "stdout",
     "output_type": "stream",
     "text": [
      "train RMSE,MAE: 0.838 0.654\n",
      "test RMSE,MAE: 0.890 0.693 \n",
      "\n",
      "\n",
      "nfactor, lr, reg: 10 0.004 2 \n",
      "\n"
     ]
    },
    {
     "data": {
      "text/plain": [
       "<surprise.prediction_algorithms.matrix_factorization.SVD at 0x7f7122ce4940>"
      ]
     },
     "execution_count": 39,
     "metadata": {},
     "output_type": "execute_result"
    },
    {
     "name": "stdout",
     "output_type": "stream",
     "text": [
      "train RMSE,MAE: 0.869 0.683\n",
      "test RMSE,MAE: 0.912 0.715 \n",
      "\n",
      "\n",
      "nfactor, lr, reg: 10 0.004 4 \n",
      "\n"
     ]
    },
    {
     "data": {
      "text/plain": [
       "<surprise.prediction_algorithms.matrix_factorization.SVD at 0x7f7122ce4160>"
      ]
     },
     "execution_count": 39,
     "metadata": {},
     "output_type": "execute_result"
    },
    {
     "name": "stdout",
     "output_type": "stream",
     "text": [
      "train RMSE,MAE: 0.903 0.713\n",
      "test RMSE,MAE: 0.935 0.737 \n",
      "\n",
      "\n",
      "nfactor, lr, reg: 10 0.004 10 \n",
      "\n"
     ]
    },
    {
     "data": {
      "text/plain": [
       "<surprise.prediction_algorithms.matrix_factorization.SVD at 0x7f7122ce4190>"
      ]
     },
     "execution_count": 39,
     "metadata": {},
     "output_type": "execute_result"
    },
    {
     "name": "stdout",
     "output_type": "stream",
     "text": [
      "train RMSE,MAE: 0.942 0.749\n",
      "test RMSE,MAE: 0.961 0.761 \n",
      "\n",
      "\n",
      "nfactor, lr, reg: 10 0.005 0.01 \n",
      "\n"
     ]
    },
    {
     "data": {
      "text/plain": [
       "<surprise.prediction_algorithms.matrix_factorization.SVD at 0x7f7122ce4a30>"
      ]
     },
     "execution_count": 39,
     "metadata": {},
     "output_type": "execute_result"
    },
    {
     "name": "stdout",
     "output_type": "stream",
     "text": [
      "train RMSE,MAE: 0.763 0.573\n",
      "test RMSE,MAE: 0.861 0.647 \n",
      "\n",
      "\n",
      "nfactor, lr, reg: 10 0.005 0.02 \n",
      "\n"
     ]
    },
    {
     "data": {
      "text/plain": [
       "<surprise.prediction_algorithms.matrix_factorization.SVD at 0x7f7122ce4790>"
      ]
     },
     "execution_count": 39,
     "metadata": {},
     "output_type": "execute_result"
    },
    {
     "name": "stdout",
     "output_type": "stream",
     "text": [
      "train RMSE,MAE: 0.766 0.577\n",
      "test RMSE,MAE: 0.861 0.647 \n",
      "\n",
      "\n",
      "nfactor, lr, reg: 10 0.005 0.04 \n",
      "\n"
     ]
    },
    {
     "data": {
      "text/plain": [
       "<surprise.prediction_algorithms.matrix_factorization.SVD at 0x7f7122ce4f70>"
      ]
     },
     "execution_count": 39,
     "metadata": {},
     "output_type": "execute_result"
    },
    {
     "name": "stdout",
     "output_type": "stream",
     "text": [
      "train RMSE,MAE: 0.770 0.581\n",
      "test RMSE,MAE: 0.860 0.648 \n",
      "\n",
      "\n",
      "nfactor, lr, reg: 10 0.005 0.08 \n",
      "\n"
     ]
    },
    {
     "data": {
      "text/plain": [
       "<surprise.prediction_algorithms.matrix_factorization.SVD at 0x7f7122ce4e50>"
      ]
     },
     "execution_count": 39,
     "metadata": {},
     "output_type": "execute_result"
    },
    {
     "name": "stdout",
     "output_type": "stream",
     "text": [
      "train RMSE,MAE: 0.777 0.587\n",
      "test RMSE,MAE: 0.861 0.651 \n",
      "\n",
      "\n",
      "nfactor, lr, reg: 10 0.005 0.1 \n",
      "\n"
     ]
    },
    {
     "data": {
      "text/plain": [
       "<surprise.prediction_algorithms.matrix_factorization.SVD at 0x7f7122ce46a0>"
      ]
     },
     "execution_count": 39,
     "metadata": {},
     "output_type": "execute_result"
    },
    {
     "name": "stdout",
     "output_type": "stream",
     "text": [
      "train RMSE,MAE: 0.779 0.590\n",
      "test RMSE,MAE: 0.861 0.652 \n",
      "\n",
      "\n",
      "nfactor, lr, reg: 10 0.005 0.2 \n",
      "\n"
     ]
    },
    {
     "data": {
      "text/plain": [
       "<surprise.prediction_algorithms.matrix_factorization.SVD at 0x7f7122ce42e0>"
      ]
     },
     "execution_count": 39,
     "metadata": {},
     "output_type": "execute_result"
    },
    {
     "name": "stdout",
     "output_type": "stream",
     "text": [
      "train RMSE,MAE: 0.788 0.601\n",
      "test RMSE,MAE: 0.863 0.658 \n",
      "\n",
      "\n",
      "nfactor, lr, reg: 10 0.005 0.4 \n",
      "\n"
     ]
    },
    {
     "data": {
      "text/plain": [
       "<surprise.prediction_algorithms.matrix_factorization.SVD at 0x7f7122ce4430>"
      ]
     },
     "execution_count": 39,
     "metadata": {},
     "output_type": "execute_result"
    },
    {
     "name": "stdout",
     "output_type": "stream",
     "text": [
      "train RMSE,MAE: 0.801 0.617\n",
      "test RMSE,MAE: 0.869 0.669 \n",
      "\n",
      "\n",
      "nfactor, lr, reg: 10 0.005 0.8 \n",
      "\n"
     ]
    },
    {
     "data": {
      "text/plain": [
       "<surprise.prediction_algorithms.matrix_factorization.SVD at 0x7f7122ce4a60>"
      ]
     },
     "execution_count": 39,
     "metadata": {},
     "output_type": "execute_result"
    },
    {
     "name": "stdout",
     "output_type": "stream",
     "text": [
      "train RMSE,MAE: 0.821 0.639\n",
      "test RMSE,MAE: 0.882 0.685 \n",
      "\n",
      "\n",
      "nfactor, lr, reg: 10 0.005 1 \n",
      "\n"
     ]
    },
    {
     "data": {
      "text/plain": [
       "<surprise.prediction_algorithms.matrix_factorization.SVD at 0x7f7122ce4040>"
      ]
     },
     "execution_count": 39,
     "metadata": {},
     "output_type": "execute_result"
    },
    {
     "name": "stdout",
     "output_type": "stream",
     "text": [
      "train RMSE,MAE: 0.830 0.648\n",
      "test RMSE,MAE: 0.888 0.692 \n",
      "\n",
      "\n",
      "nfactor, lr, reg: 10 0.005 2 \n",
      "\n"
     ]
    },
    {
     "data": {
      "text/plain": [
       "<surprise.prediction_algorithms.matrix_factorization.SVD at 0x7f7122ce4940>"
      ]
     },
     "execution_count": 39,
     "metadata": {},
     "output_type": "execute_result"
    },
    {
     "name": "stdout",
     "output_type": "stream",
     "text": [
      "train RMSE,MAE: 0.863 0.678\n",
      "test RMSE,MAE: 0.911 0.714 \n",
      "\n",
      "\n",
      "nfactor, lr, reg: 10 0.005 4 \n",
      "\n"
     ]
    },
    {
     "data": {
      "text/plain": [
       "<surprise.prediction_algorithms.matrix_factorization.SVD at 0x7f7122ce4160>"
      ]
     },
     "execution_count": 39,
     "metadata": {},
     "output_type": "execute_result"
    },
    {
     "name": "stdout",
     "output_type": "stream",
     "text": [
      "train RMSE,MAE: 0.900 0.711\n",
      "test RMSE,MAE: 0.935 0.736 \n",
      "\n",
      "\n",
      "nfactor, lr, reg: 10 0.005 10 \n",
      "\n"
     ]
    },
    {
     "data": {
      "text/plain": [
       "<surprise.prediction_algorithms.matrix_factorization.SVD at 0x7f7122ce4190>"
      ]
     },
     "execution_count": 39,
     "metadata": {},
     "output_type": "execute_result"
    },
    {
     "name": "stdout",
     "output_type": "stream",
     "text": [
      "train RMSE,MAE: 0.941 0.748\n",
      "test RMSE,MAE: 0.960 0.761 \n",
      "\n",
      "\n",
      "nfactor, lr, reg: 10 0.006 0.01 \n",
      "\n"
     ]
    },
    {
     "data": {
      "text/plain": [
       "<surprise.prediction_algorithms.matrix_factorization.SVD at 0x7f7122ce4a30>"
      ]
     },
     "execution_count": 39,
     "metadata": {},
     "output_type": "execute_result"
    },
    {
     "name": "stdout",
     "output_type": "stream",
     "text": [
      "train RMSE,MAE: 0.742 0.557\n",
      "test RMSE,MAE: 0.860 0.645 \n",
      "\n",
      "\n",
      "nfactor, lr, reg: 10 0.006 0.02 \n",
      "\n"
     ]
    },
    {
     "data": {
      "text/plain": [
       "<surprise.prediction_algorithms.matrix_factorization.SVD at 0x7f7122ce4790>"
      ]
     },
     "execution_count": 39,
     "metadata": {},
     "output_type": "execute_result"
    },
    {
     "name": "stdout",
     "output_type": "stream",
     "text": [
      "train RMSE,MAE: 0.747 0.562\n",
      "test RMSE,MAE: 0.859 0.644 \n",
      "\n",
      "\n",
      "nfactor, lr, reg: 10 0.006 0.04 \n",
      "\n"
     ]
    },
    {
     "data": {
      "text/plain": [
       "<surprise.prediction_algorithms.matrix_factorization.SVD at 0x7f7122ce4f70>"
      ]
     },
     "execution_count": 39,
     "metadata": {},
     "output_type": "execute_result"
    },
    {
     "name": "stdout",
     "output_type": "stream",
     "text": [
      "train RMSE,MAE: 0.754 0.568\n",
      "test RMSE,MAE: 0.859 0.646 \n",
      "\n",
      "\n",
      "nfactor, lr, reg: 10 0.006 0.08 \n",
      "\n"
     ]
    },
    {
     "data": {
      "text/plain": [
       "<surprise.prediction_algorithms.matrix_factorization.SVD at 0x7f7122ce4e50>"
      ]
     },
     "execution_count": 39,
     "metadata": {},
     "output_type": "execute_result"
    },
    {
     "name": "stdout",
     "output_type": "stream",
     "text": [
      "train RMSE,MAE: 0.764 0.577\n",
      "test RMSE,MAE: 0.860 0.649 \n",
      "\n",
      "\n",
      "nfactor, lr, reg: 10 0.006 0.1 \n",
      "\n"
     ]
    },
    {
     "data": {
      "text/plain": [
       "<surprise.prediction_algorithms.matrix_factorization.SVD at 0x7f7122ce46a0>"
      ]
     },
     "execution_count": 39,
     "metadata": {},
     "output_type": "execute_result"
    },
    {
     "name": "stdout",
     "output_type": "stream",
     "text": [
      "train RMSE,MAE: 0.767 0.580\n",
      "test RMSE,MAE: 0.860 0.650 \n",
      "\n",
      "\n",
      "nfactor, lr, reg: 10 0.006 0.2 \n",
      "\n"
     ]
    },
    {
     "data": {
      "text/plain": [
       "<surprise.prediction_algorithms.matrix_factorization.SVD at 0x7f7122ce42e0>"
      ]
     },
     "execution_count": 39,
     "metadata": {},
     "output_type": "execute_result"
    },
    {
     "name": "stdout",
     "output_type": "stream",
     "text": [
      "train RMSE,MAE: 0.778 0.593\n",
      "test RMSE,MAE: 0.862 0.656 \n",
      "\n",
      "\n",
      "nfactor, lr, reg: 10 0.006 0.4 \n",
      "\n"
     ]
    },
    {
     "data": {
      "text/plain": [
       "<surprise.prediction_algorithms.matrix_factorization.SVD at 0x7f7122ce4430>"
      ]
     },
     "execution_count": 39,
     "metadata": {},
     "output_type": "execute_result"
    },
    {
     "name": "stdout",
     "output_type": "stream",
     "text": [
      "train RMSE,MAE: 0.792 0.609\n",
      "test RMSE,MAE: 0.868 0.667 \n",
      "\n",
      "\n",
      "nfactor, lr, reg: 10 0.006 0.8 \n",
      "\n"
     ]
    },
    {
     "data": {
      "text/plain": [
       "<surprise.prediction_algorithms.matrix_factorization.SVD at 0x7f7122ce4a60>"
      ]
     },
     "execution_count": 39,
     "metadata": {},
     "output_type": "execute_result"
    },
    {
     "name": "stdout",
     "output_type": "stream",
     "text": [
      "train RMSE,MAE: 0.814 0.633\n",
      "test RMSE,MAE: 0.881 0.684 \n",
      "\n",
      "\n",
      "nfactor, lr, reg: 10 0.006 1 \n",
      "\n"
     ]
    },
    {
     "data": {
      "text/plain": [
       "<surprise.prediction_algorithms.matrix_factorization.SVD at 0x7f7122ce4040>"
      ]
     },
     "execution_count": 39,
     "metadata": {},
     "output_type": "execute_result"
    },
    {
     "name": "stdout",
     "output_type": "stream",
     "text": [
      "train RMSE,MAE: 0.823 0.642\n",
      "test RMSE,MAE: 0.887 0.691 \n",
      "\n",
      "\n",
      "nfactor, lr, reg: 10 0.006 2 \n",
      "\n"
     ]
    },
    {
     "data": {
      "text/plain": [
       "<surprise.prediction_algorithms.matrix_factorization.SVD at 0x7f7122ce4940>"
      ]
     },
     "execution_count": 39,
     "metadata": {},
     "output_type": "execute_result"
    },
    {
     "name": "stdout",
     "output_type": "stream",
     "text": [
      "train RMSE,MAE: 0.858 0.674\n",
      "test RMSE,MAE: 0.910 0.713 \n",
      "\n",
      "\n",
      "nfactor, lr, reg: 10 0.006 4 \n",
      "\n"
     ]
    },
    {
     "data": {
      "text/plain": [
       "<surprise.prediction_algorithms.matrix_factorization.SVD at 0x7f7122ce4160>"
      ]
     },
     "execution_count": 39,
     "metadata": {},
     "output_type": "execute_result"
    },
    {
     "name": "stdout",
     "output_type": "stream",
     "text": [
      "train RMSE,MAE: 0.897 0.709\n",
      "test RMSE,MAE: 0.934 0.736 \n",
      "\n",
      "\n",
      "nfactor, lr, reg: 10 0.006 10 \n",
      "\n"
     ]
    },
    {
     "data": {
      "text/plain": [
       "<surprise.prediction_algorithms.matrix_factorization.SVD at 0x7f7122ce4190>"
      ]
     },
     "execution_count": 39,
     "metadata": {},
     "output_type": "execute_result"
    },
    {
     "name": "stdout",
     "output_type": "stream",
     "text": [
      "train RMSE,MAE: 0.941 0.748\n",
      "test RMSE,MAE: 0.960 0.761 \n",
      "\n",
      "\n",
      "nfactor, lr, reg: 10 0.007 0.01 \n",
      "\n"
     ]
    },
    {
     "data": {
      "text/plain": [
       "<surprise.prediction_algorithms.matrix_factorization.SVD at 0x7f7122ce4a30>"
      ]
     },
     "execution_count": 39,
     "metadata": {},
     "output_type": "execute_result"
    },
    {
     "name": "stdout",
     "output_type": "stream",
     "text": [
      "train RMSE,MAE: 0.719 0.540\n",
      "test RMSE,MAE: 0.860 0.643 \n",
      "\n",
      "\n",
      "nfactor, lr, reg: 10 0.007 0.02 \n",
      "\n"
     ]
    },
    {
     "data": {
      "text/plain": [
       "<surprise.prediction_algorithms.matrix_factorization.SVD at 0x7f7122ce4790>"
      ]
     },
     "execution_count": 39,
     "metadata": {},
     "output_type": "execute_result"
    },
    {
     "name": "stdout",
     "output_type": "stream",
     "text": [
      "train RMSE,MAE: 0.728 0.547\n",
      "test RMSE,MAE: 0.859 0.643 \n",
      "\n",
      "\n",
      "nfactor, lr, reg: 10 0.007 0.04 \n",
      "\n"
     ]
    },
    {
     "data": {
      "text/plain": [
       "<surprise.prediction_algorithms.matrix_factorization.SVD at 0x7f7122ce4f70>"
      ]
     },
     "execution_count": 39,
     "metadata": {},
     "output_type": "execute_result"
    },
    {
     "name": "stdout",
     "output_type": "stream",
     "text": [
      "train RMSE,MAE: 0.739 0.556\n",
      "test RMSE,MAE: 0.858 0.643 \n",
      "\n",
      "\n",
      "nfactor, lr, reg: 10 0.007 0.08 \n",
      "\n"
     ]
    },
    {
     "data": {
      "text/plain": [
       "<surprise.prediction_algorithms.matrix_factorization.SVD at 0x7f7122ce4e50>"
      ]
     },
     "execution_count": 39,
     "metadata": {},
     "output_type": "execute_result"
    },
    {
     "name": "stdout",
     "output_type": "stream",
     "text": [
      "train RMSE,MAE: 0.751 0.567\n",
      "test RMSE,MAE: 0.858 0.647 \n",
      "\n",
      "\n",
      "nfactor, lr, reg: 10 0.007 0.1 \n",
      "\n"
     ]
    },
    {
     "data": {
      "text/plain": [
       "<surprise.prediction_algorithms.matrix_factorization.SVD at 0x7f7122ce46a0>"
      ]
     },
     "execution_count": 39,
     "metadata": {},
     "output_type": "execute_result"
    },
    {
     "name": "stdout",
     "output_type": "stream",
     "text": [
      "train RMSE,MAE: 0.756 0.571\n",
      "test RMSE,MAE: 0.858 0.648 \n",
      "\n",
      "\n",
      "nfactor, lr, reg: 10 0.007 0.2 \n",
      "\n"
     ]
    },
    {
     "data": {
      "text/plain": [
       "<surprise.prediction_algorithms.matrix_factorization.SVD at 0x7f7122ce42e0>"
      ]
     },
     "execution_count": 39,
     "metadata": {},
     "output_type": "execute_result"
    },
    {
     "name": "stdout",
     "output_type": "stream",
     "text": [
      "train RMSE,MAE: 0.769 0.585\n",
      "test RMSE,MAE: 0.861 0.654 \n",
      "\n",
      "\n",
      "nfactor, lr, reg: 10 0.007 0.4 \n",
      "\n"
     ]
    },
    {
     "data": {
      "text/plain": [
       "<surprise.prediction_algorithms.matrix_factorization.SVD at 0x7f7122ce4430>"
      ]
     },
     "execution_count": 39,
     "metadata": {},
     "output_type": "execute_result"
    },
    {
     "name": "stdout",
     "output_type": "stream",
     "text": [
      "train RMSE,MAE: 0.785 0.603\n",
      "test RMSE,MAE: 0.867 0.666 \n",
      "\n",
      "\n",
      "nfactor, lr, reg: 10 0.007 0.8 \n",
      "\n"
     ]
    },
    {
     "data": {
      "text/plain": [
       "<surprise.prediction_algorithms.matrix_factorization.SVD at 0x7f7122ce4a60>"
      ]
     },
     "execution_count": 39,
     "metadata": {},
     "output_type": "execute_result"
    },
    {
     "name": "stdout",
     "output_type": "stream",
     "text": [
      "train RMSE,MAE: 0.808 0.628\n",
      "test RMSE,MAE: 0.880 0.683 \n",
      "\n",
      "\n",
      "nfactor, lr, reg: 10 0.007 1 \n",
      "\n"
     ]
    },
    {
     "data": {
      "text/plain": [
       "<surprise.prediction_algorithms.matrix_factorization.SVD at 0x7f7122ce4040>"
      ]
     },
     "execution_count": 39,
     "metadata": {},
     "output_type": "execute_result"
    },
    {
     "name": "stdout",
     "output_type": "stream",
     "text": [
      "train RMSE,MAE: 0.818 0.638\n",
      "test RMSE,MAE: 0.886 0.690 \n",
      "\n",
      "\n",
      "nfactor, lr, reg: 10 0.007 2 \n",
      "\n"
     ]
    },
    {
     "data": {
      "text/plain": [
       "<surprise.prediction_algorithms.matrix_factorization.SVD at 0x7f7122ce4940>"
      ]
     },
     "execution_count": 39,
     "metadata": {},
     "output_type": "execute_result"
    },
    {
     "name": "stdout",
     "output_type": "stream",
     "text": [
      "train RMSE,MAE: 0.855 0.671\n",
      "test RMSE,MAE: 0.909 0.712 \n",
      "\n",
      "\n",
      "nfactor, lr, reg: 10 0.007 4 \n",
      "\n"
     ]
    },
    {
     "data": {
      "text/plain": [
       "<surprise.prediction_algorithms.matrix_factorization.SVD at 0x7f7122ce4160>"
      ]
     },
     "execution_count": 39,
     "metadata": {},
     "output_type": "execute_result"
    },
    {
     "name": "stdout",
     "output_type": "stream",
     "text": [
      "train RMSE,MAE: 0.896 0.707\n",
      "test RMSE,MAE: 0.934 0.736 \n",
      "\n",
      "\n",
      "nfactor, lr, reg: 10 0.007 10 \n",
      "\n"
     ]
    },
    {
     "data": {
      "text/plain": [
       "<surprise.prediction_algorithms.matrix_factorization.SVD at 0x7f7122ce4190>"
      ]
     },
     "execution_count": 39,
     "metadata": {},
     "output_type": "execute_result"
    },
    {
     "name": "stdout",
     "output_type": "stream",
     "text": [
      "train RMSE,MAE: 0.941 0.748\n",
      "test RMSE,MAE: 0.960 0.761 \n",
      "\n",
      "\n",
      "nfactor, lr, reg: 10 0.008 0.01 \n",
      "\n"
     ]
    },
    {
     "data": {
      "text/plain": [
       "<surprise.prediction_algorithms.matrix_factorization.SVD at 0x7f7122ce4790>"
      ]
     },
     "execution_count": 39,
     "metadata": {},
     "output_type": "execute_result"
    },
    {
     "name": "stdout",
     "output_type": "stream",
     "text": [
      "train RMSE,MAE: 0.696 0.522\n",
      "test RMSE,MAE: 0.860 0.642 \n",
      "\n",
      "\n",
      "nfactor, lr, reg: 10 0.008 0.02 \n",
      "\n"
     ]
    },
    {
     "data": {
      "text/plain": [
       "<surprise.prediction_algorithms.matrix_factorization.SVD at 0x7f7122ce46d0>"
      ]
     },
     "execution_count": 39,
     "metadata": {},
     "output_type": "execute_result"
    },
    {
     "name": "stdout",
     "output_type": "stream",
     "text": [
      "train RMSE,MAE: 0.704 0.529\n",
      "test RMSE,MAE: 0.858 0.642 \n",
      "\n",
      "\n",
      "nfactor, lr, reg: 10 0.008 0.04 \n",
      "\n"
     ]
    },
    {
     "data": {
      "text/plain": [
       "<surprise.prediction_algorithms.matrix_factorization.SVD at 0x7f7122ce4f70>"
      ]
     },
     "execution_count": 39,
     "metadata": {},
     "output_type": "execute_result"
    },
    {
     "name": "stdout",
     "output_type": "stream",
     "text": [
      "train RMSE,MAE: 0.721 0.543\n",
      "test RMSE,MAE: 0.858 0.644 \n",
      "\n",
      "\n",
      "nfactor, lr, reg: 10 0.008 0.08 \n",
      "\n"
     ]
    },
    {
     "data": {
      "text/plain": [
       "<surprise.prediction_algorithms.matrix_factorization.SVD at 0x7f7122ce4e50>"
      ]
     },
     "execution_count": 39,
     "metadata": {},
     "output_type": "execute_result"
    },
    {
     "name": "stdout",
     "output_type": "stream",
     "text": [
      "train RMSE,MAE: 0.740 0.558\n",
      "test RMSE,MAE: 0.858 0.646 \n",
      "\n",
      "\n",
      "nfactor, lr, reg: 10 0.008 0.1 \n",
      "\n"
     ]
    },
    {
     "data": {
      "text/plain": [
       "<surprise.prediction_algorithms.matrix_factorization.SVD at 0x7f7122ce46a0>"
      ]
     },
     "execution_count": 39,
     "metadata": {},
     "output_type": "execute_result"
    },
    {
     "name": "stdout",
     "output_type": "stream",
     "text": [
      "train RMSE,MAE: 0.746 0.563\n",
      "test RMSE,MAE: 0.858 0.647 \n",
      "\n",
      "\n",
      "nfactor, lr, reg: 10 0.008 0.2 \n",
      "\n"
     ]
    },
    {
     "data": {
      "text/plain": [
       "<surprise.prediction_algorithms.matrix_factorization.SVD at 0x7f7122ce42e0>"
      ]
     },
     "execution_count": 39,
     "metadata": {},
     "output_type": "execute_result"
    },
    {
     "name": "stdout",
     "output_type": "stream",
     "text": [
      "train RMSE,MAE: 0.762 0.579\n",
      "test RMSE,MAE: 0.860 0.653 \n",
      "\n",
      "\n",
      "nfactor, lr, reg: 10 0.008 0.4 \n",
      "\n"
     ]
    },
    {
     "data": {
      "text/plain": [
       "<surprise.prediction_algorithms.matrix_factorization.SVD at 0x7f7122ce4430>"
      ]
     },
     "execution_count": 39,
     "metadata": {},
     "output_type": "execute_result"
    },
    {
     "name": "stdout",
     "output_type": "stream",
     "text": [
      "train RMSE,MAE: 0.779 0.598\n",
      "test RMSE,MAE: 0.866 0.665 \n",
      "\n",
      "\n",
      "nfactor, lr, reg: 10 0.008 0.8 \n",
      "\n"
     ]
    },
    {
     "data": {
      "text/plain": [
       "<surprise.prediction_algorithms.matrix_factorization.SVD at 0x7f7122ce4a60>"
      ]
     },
     "execution_count": 39,
     "metadata": {},
     "output_type": "execute_result"
    },
    {
     "name": "stdout",
     "output_type": "stream",
     "text": [
      "train RMSE,MAE: 0.803 0.624\n",
      "test RMSE,MAE: 0.880 0.682 \n",
      "\n",
      "\n",
      "nfactor, lr, reg: 10 0.008 1 \n",
      "\n"
     ]
    },
    {
     "data": {
      "text/plain": [
       "<surprise.prediction_algorithms.matrix_factorization.SVD at 0x7f7122ce4040>"
      ]
     },
     "execution_count": 39,
     "metadata": {},
     "output_type": "execute_result"
    },
    {
     "name": "stdout",
     "output_type": "stream",
     "text": [
      "train RMSE,MAE: 0.813 0.634\n",
      "test RMSE,MAE: 0.886 0.689 \n",
      "\n",
      "\n",
      "nfactor, lr, reg: 10 0.008 2 \n",
      "\n"
     ]
    },
    {
     "data": {
      "text/plain": [
       "<surprise.prediction_algorithms.matrix_factorization.SVD at 0x7f7122ce4940>"
      ]
     },
     "execution_count": 39,
     "metadata": {},
     "output_type": "execute_result"
    },
    {
     "name": "stdout",
     "output_type": "stream",
     "text": [
      "train RMSE,MAE: 0.852 0.669\n",
      "test RMSE,MAE: 0.909 0.712 \n",
      "\n",
      "\n",
      "nfactor, lr, reg: 10 0.008 4 \n",
      "\n"
     ]
    },
    {
     "data": {
      "text/plain": [
       "<surprise.prediction_algorithms.matrix_factorization.SVD at 0x7f7122ce4160>"
      ]
     },
     "execution_count": 39,
     "metadata": {},
     "output_type": "execute_result"
    },
    {
     "name": "stdout",
     "output_type": "stream",
     "text": [
      "train RMSE,MAE: 0.895 0.706\n",
      "test RMSE,MAE: 0.934 0.735 \n",
      "\n",
      "\n",
      "nfactor, lr, reg: 10 0.008 10 \n",
      "\n"
     ]
    },
    {
     "data": {
      "text/plain": [
       "<surprise.prediction_algorithms.matrix_factorization.SVD at 0x7f7122ce4190>"
      ]
     },
     "execution_count": 39,
     "metadata": {},
     "output_type": "execute_result"
    },
    {
     "name": "stdout",
     "output_type": "stream",
     "text": [
      "train RMSE,MAE: 0.941 0.748\n",
      "test RMSE,MAE: 0.960 0.761 \n",
      "\n",
      "\n",
      "nfactor, lr, reg: 10 0.009000000000000001 0.01 \n",
      "\n"
     ]
    },
    {
     "data": {
      "text/plain": [
       "<surprise.prediction_algorithms.matrix_factorization.SVD at 0x7f7122ce4790>"
      ]
     },
     "execution_count": 39,
     "metadata": {},
     "output_type": "execute_result"
    },
    {
     "name": "stdout",
     "output_type": "stream",
     "text": [
      "train RMSE,MAE: 0.665 0.499\n",
      "test RMSE,MAE: 0.861 0.642 \n",
      "\n",
      "\n",
      "nfactor, lr, reg: 10 0.009000000000000001 0.02 \n",
      "\n"
     ]
    },
    {
     "data": {
      "text/plain": [
       "<surprise.prediction_algorithms.matrix_factorization.SVD at 0x7f7122ce46d0>"
      ]
     },
     "execution_count": 39,
     "metadata": {},
     "output_type": "execute_result"
    },
    {
     "name": "stdout",
     "output_type": "stream",
     "text": [
      "train RMSE,MAE: 0.682 0.512\n",
      "test RMSE,MAE: 0.859 0.642 \n",
      "\n",
      "\n",
      "nfactor, lr, reg: 10 0.009000000000000001 0.04 \n",
      "\n"
     ]
    },
    {
     "data": {
      "text/plain": [
       "<surprise.prediction_algorithms.matrix_factorization.SVD at 0x7f7122ce4f70>"
      ]
     },
     "execution_count": 39,
     "metadata": {},
     "output_type": "execute_result"
    },
    {
     "name": "stdout",
     "output_type": "stream",
     "text": [
      "train RMSE,MAE: 0.702 0.529\n",
      "test RMSE,MAE: 0.858 0.642 \n",
      "\n",
      "\n",
      "nfactor, lr, reg: 10 0.009000000000000001 0.08 \n",
      "\n"
     ]
    },
    {
     "data": {
      "text/plain": [
       "<surprise.prediction_algorithms.matrix_factorization.SVD at 0x7f7122ce4e50>"
      ]
     },
     "execution_count": 39,
     "metadata": {},
     "output_type": "execute_result"
    },
    {
     "name": "stdout",
     "output_type": "stream",
     "text": [
      "train RMSE,MAE: 0.728 0.549\n",
      "test RMSE,MAE: 0.858 0.645 \n",
      "\n",
      "\n",
      "nfactor, lr, reg: 10 0.009000000000000001 0.1 \n",
      "\n"
     ]
    },
    {
     "data": {
      "text/plain": [
       "<surprise.prediction_algorithms.matrix_factorization.SVD at 0x7f7122ce46a0>"
      ]
     },
     "execution_count": 39,
     "metadata": {},
     "output_type": "execute_result"
    },
    {
     "name": "stdout",
     "output_type": "stream",
     "text": [
      "train RMSE,MAE: 0.734 0.554\n",
      "test RMSE,MAE: 0.857 0.645 \n",
      "\n",
      "\n",
      "nfactor, lr, reg: 10 0.009000000000000001 0.2 \n",
      "\n"
     ]
    },
    {
     "data": {
      "text/plain": [
       "<surprise.prediction_algorithms.matrix_factorization.SVD at 0x7f7122ce42e0>"
      ]
     },
     "execution_count": 39,
     "metadata": {},
     "output_type": "execute_result"
    },
    {
     "name": "stdout",
     "output_type": "stream",
     "text": [
      "train RMSE,MAE: 0.755 0.573\n",
      "test RMSE,MAE: 0.860 0.652 \n",
      "\n",
      "\n",
      "nfactor, lr, reg: 10 0.009000000000000001 0.4 \n",
      "\n"
     ]
    },
    {
     "data": {
      "text/plain": [
       "<surprise.prediction_algorithms.matrix_factorization.SVD at 0x7f7122ce4430>"
      ]
     },
     "execution_count": 39,
     "metadata": {},
     "output_type": "execute_result"
    },
    {
     "name": "stdout",
     "output_type": "stream",
     "text": [
      "train RMSE,MAE: 0.774 0.593\n",
      "test RMSE,MAE: 0.866 0.664 \n",
      "\n",
      "\n",
      "nfactor, lr, reg: 10 0.009000000000000001 0.8 \n",
      "\n"
     ]
    },
    {
     "data": {
      "text/plain": [
       "<surprise.prediction_algorithms.matrix_factorization.SVD at 0x7f7122ce4a60>"
      ]
     },
     "execution_count": 39,
     "metadata": {},
     "output_type": "execute_result"
    },
    {
     "name": "stdout",
     "output_type": "stream",
     "text": [
      "train RMSE,MAE: 0.799 0.620\n",
      "test RMSE,MAE: 0.879 0.682 \n",
      "\n",
      "\n",
      "nfactor, lr, reg: 10 0.009000000000000001 1 \n",
      "\n"
     ]
    },
    {
     "data": {
      "text/plain": [
       "<surprise.prediction_algorithms.matrix_factorization.SVD at 0x7f7122ce4040>"
      ]
     },
     "execution_count": 39,
     "metadata": {},
     "output_type": "execute_result"
    },
    {
     "name": "stdout",
     "output_type": "stream",
     "text": [
      "train RMSE,MAE: 0.810 0.631\n",
      "test RMSE,MAE: 0.885 0.689 \n",
      "\n",
      "\n",
      "nfactor, lr, reg: 10 0.009000000000000001 2 \n",
      "\n"
     ]
    },
    {
     "data": {
      "text/plain": [
       "<surprise.prediction_algorithms.matrix_factorization.SVD at 0x7f7122ce4940>"
      ]
     },
     "execution_count": 39,
     "metadata": {},
     "output_type": "execute_result"
    },
    {
     "name": "stdout",
     "output_type": "stream",
     "text": [
      "train RMSE,MAE: 0.850 0.667\n",
      "test RMSE,MAE: 0.909 0.712 \n",
      "\n",
      "\n",
      "nfactor, lr, reg: 10 0.009000000000000001 4 \n",
      "\n"
     ]
    },
    {
     "data": {
      "text/plain": [
       "<surprise.prediction_algorithms.matrix_factorization.SVD at 0x7f7122ce4160>"
      ]
     },
     "execution_count": 39,
     "metadata": {},
     "output_type": "execute_result"
    },
    {
     "name": "stdout",
     "output_type": "stream",
     "text": [
      "train RMSE,MAE: 0.894 0.706\n",
      "test RMSE,MAE: 0.934 0.735 \n",
      "\n",
      "\n",
      "nfactor, lr, reg: 10 0.009000000000000001 10 \n",
      "\n"
     ]
    },
    {
     "data": {
      "text/plain": [
       "<surprise.prediction_algorithms.matrix_factorization.SVD at 0x7f7122ce4190>"
      ]
     },
     "execution_count": 39,
     "metadata": {},
     "output_type": "execute_result"
    },
    {
     "name": "stdout",
     "output_type": "stream",
     "text": [
      "train RMSE,MAE: 0.941 0.748\n",
      "test RMSE,MAE: 0.961 0.761 \n",
      "\n",
      "\n",
      "nfactor, lr, reg: 18 0.001 0.01 \n",
      "\n"
     ]
    },
    {
     "data": {
      "text/plain": [
       "<surprise.prediction_algorithms.matrix_factorization.SVD at 0x7f7122ce4790>"
      ]
     },
     "execution_count": 39,
     "metadata": {},
     "output_type": "execute_result"
    },
    {
     "name": "stdout",
     "output_type": "stream",
     "text": [
      "train RMSE,MAE: 0.854 0.652\n",
      "test RMSE,MAE: 0.886 0.676 \n",
      "\n",
      "\n",
      "nfactor, lr, reg: 18 0.001 0.02 \n",
      "\n"
     ]
    },
    {
     "data": {
      "text/plain": [
       "<surprise.prediction_algorithms.matrix_factorization.SVD at 0x7f7122ce46d0>"
      ]
     },
     "execution_count": 39,
     "metadata": {},
     "output_type": "execute_result"
    },
    {
     "name": "stdout",
     "output_type": "stream",
     "text": [
      "train RMSE,MAE: 0.854 0.653\n",
      "test RMSE,MAE: 0.885 0.677 \n",
      "\n",
      "\n",
      "nfactor, lr, reg: 18 0.001 0.04 \n",
      "\n"
     ]
    },
    {
     "data": {
      "text/plain": [
       "<surprise.prediction_algorithms.matrix_factorization.SVD at 0x7f7122ce4f70>"
      ]
     },
     "execution_count": 39,
     "metadata": {},
     "output_type": "execute_result"
    },
    {
     "name": "stdout",
     "output_type": "stream",
     "text": [
      "train RMSE,MAE: 0.855 0.654\n",
      "test RMSE,MAE: 0.886 0.677 \n",
      "\n",
      "\n",
      "nfactor, lr, reg: 18 0.001 0.08 \n",
      "\n"
     ]
    },
    {
     "data": {
      "text/plain": [
       "<surprise.prediction_algorithms.matrix_factorization.SVD at 0x7f7122ce4e50>"
      ]
     },
     "execution_count": 39,
     "metadata": {},
     "output_type": "execute_result"
    },
    {
     "name": "stdout",
     "output_type": "stream",
     "text": [
      "train RMSE,MAE: 0.856 0.656\n",
      "test RMSE,MAE: 0.886 0.679 \n",
      "\n",
      "\n",
      "nfactor, lr, reg: 18 0.001 0.1 \n",
      "\n"
     ]
    },
    {
     "data": {
      "text/plain": [
       "<surprise.prediction_algorithms.matrix_factorization.SVD at 0x7f7122ce46a0>"
      ]
     },
     "execution_count": 39,
     "metadata": {},
     "output_type": "execute_result"
    },
    {
     "name": "stdout",
     "output_type": "stream",
     "text": [
      "train RMSE,MAE: 0.857 0.657\n",
      "test RMSE,MAE: 0.886 0.680 \n",
      "\n",
      "\n",
      "nfactor, lr, reg: 18 0.001 0.2 \n",
      "\n"
     ]
    },
    {
     "data": {
      "text/plain": [
       "<surprise.prediction_algorithms.matrix_factorization.SVD at 0x7f7122ce42e0>"
      ]
     },
     "execution_count": 39,
     "metadata": {},
     "output_type": "execute_result"
    },
    {
     "name": "stdout",
     "output_type": "stream",
     "text": [
      "train RMSE,MAE: 0.860 0.663\n",
      "test RMSE,MAE: 0.888 0.684 \n",
      "\n",
      "\n",
      "nfactor, lr, reg: 18 0.001 0.4 \n",
      "\n"
     ]
    },
    {
     "data": {
      "text/plain": [
       "<surprise.prediction_algorithms.matrix_factorization.SVD at 0x7f7122ce4430>"
      ]
     },
     "execution_count": 39,
     "metadata": {},
     "output_type": "execute_result"
    },
    {
     "name": "stdout",
     "output_type": "stream",
     "text": [
      "train RMSE,MAE: 0.866 0.672\n",
      "test RMSE,MAE: 0.892 0.691 \n",
      "\n",
      "\n",
      "nfactor, lr, reg: 18 0.001 0.8 \n",
      "\n"
     ]
    },
    {
     "data": {
      "text/plain": [
       "<surprise.prediction_algorithms.matrix_factorization.SVD at 0x7f7122ce4a60>"
      ]
     },
     "execution_count": 39,
     "metadata": {},
     "output_type": "execute_result"
    },
    {
     "name": "stdout",
     "output_type": "stream",
     "text": [
      "train RMSE,MAE: 0.878 0.686\n",
      "test RMSE,MAE: 0.902 0.703 \n",
      "\n",
      "\n",
      "nfactor, lr, reg: 18 0.001 1 \n",
      "\n"
     ]
    },
    {
     "data": {
      "text/plain": [
       "<surprise.prediction_algorithms.matrix_factorization.SVD at 0x7f7122ce4040>"
      ]
     },
     "execution_count": 39,
     "metadata": {},
     "output_type": "execute_result"
    },
    {
     "name": "stdout",
     "output_type": "stream",
     "text": [
      "train RMSE,MAE: 0.883 0.691\n",
      "test RMSE,MAE: 0.906 0.708 \n",
      "\n",
      "\n",
      "nfactor, lr, reg: 18 0.001 2 \n",
      "\n"
     ]
    },
    {
     "data": {
      "text/plain": [
       "<surprise.prediction_algorithms.matrix_factorization.SVD at 0x7f7122ce4940>"
      ]
     },
     "execution_count": 39,
     "metadata": {},
     "output_type": "execute_result"
    },
    {
     "name": "stdout",
     "output_type": "stream",
     "text": [
      "train RMSE,MAE: 0.904 0.712\n",
      "test RMSE,MAE: 0.924 0.725 \n",
      "\n",
      "\n",
      "nfactor, lr, reg: 18 0.001 4 \n",
      "\n"
     ]
    },
    {
     "data": {
      "text/plain": [
       "<surprise.prediction_algorithms.matrix_factorization.SVD at 0x7f7122ce4160>"
      ]
     },
     "execution_count": 39,
     "metadata": {},
     "output_type": "execute_result"
    },
    {
     "name": "stdout",
     "output_type": "stream",
     "text": [
      "train RMSE,MAE: 0.927 0.734\n",
      "test RMSE,MAE: 0.943 0.745 \n",
      "\n",
      "\n",
      "nfactor, lr, reg: 18 0.001 10 \n",
      "\n"
     ]
    },
    {
     "data": {
      "text/plain": [
       "<surprise.prediction_algorithms.matrix_factorization.SVD at 0x7f7122ce4190>"
      ]
     },
     "execution_count": 39,
     "metadata": {},
     "output_type": "execute_result"
    },
    {
     "name": "stdout",
     "output_type": "stream",
     "text": [
      "train RMSE,MAE: 0.952 0.757\n",
      "test RMSE,MAE: 0.964 0.765 \n",
      "\n",
      "\n",
      "nfactor, lr, reg: 18 0.002 0.01 \n",
      "\n"
     ]
    },
    {
     "data": {
      "text/plain": [
       "<surprise.prediction_algorithms.matrix_factorization.SVD at 0x7f7122ce4790>"
      ]
     },
     "execution_count": 39,
     "metadata": {},
     "output_type": "execute_result"
    },
    {
     "name": "stdout",
     "output_type": "stream",
     "text": [
      "train RMSE,MAE: 0.820 0.621\n",
      "test RMSE,MAE: 0.873 0.661 \n",
      "\n",
      "\n",
      "nfactor, lr, reg: 18 0.002 0.02 \n",
      "\n"
     ]
    },
    {
     "data": {
      "text/plain": [
       "<surprise.prediction_algorithms.matrix_factorization.SVD at 0x7f7122ce46d0>"
      ]
     },
     "execution_count": 39,
     "metadata": {},
     "output_type": "execute_result"
    },
    {
     "name": "stdout",
     "output_type": "stream",
     "text": [
      "train RMSE,MAE: 0.821 0.622\n",
      "test RMSE,MAE: 0.873 0.662 \n",
      "\n",
      "\n",
      "nfactor, lr, reg: 18 0.002 0.04 \n",
      "\n"
     ]
    },
    {
     "data": {
      "text/plain": [
       "<surprise.prediction_algorithms.matrix_factorization.SVD at 0x7f7122ce4f70>"
      ]
     },
     "execution_count": 39,
     "metadata": {},
     "output_type": "execute_result"
    },
    {
     "name": "stdout",
     "output_type": "stream",
     "text": [
      "train RMSE,MAE: 0.822 0.625\n",
      "test RMSE,MAE: 0.873 0.662 \n",
      "\n",
      "\n",
      "nfactor, lr, reg: 18 0.002 0.08 \n",
      "\n"
     ]
    },
    {
     "data": {
      "text/plain": [
       "<surprise.prediction_algorithms.matrix_factorization.SVD at 0x7f7122ce4e50>"
      ]
     },
     "execution_count": 39,
     "metadata": {},
     "output_type": "execute_result"
    },
    {
     "name": "stdout",
     "output_type": "stream",
     "text": [
      "train RMSE,MAE: 0.824 0.628\n",
      "test RMSE,MAE: 0.873 0.665 \n",
      "\n",
      "\n",
      "nfactor, lr, reg: 18 0.002 0.1 \n",
      "\n"
     ]
    },
    {
     "data": {
      "text/plain": [
       "<surprise.prediction_algorithms.matrix_factorization.SVD at 0x7f7122ce46a0>"
      ]
     },
     "execution_count": 39,
     "metadata": {},
     "output_type": "execute_result"
    },
    {
     "name": "stdout",
     "output_type": "stream",
     "text": [
      "train RMSE,MAE: 0.825 0.630\n",
      "test RMSE,MAE: 0.873 0.666 \n",
      "\n",
      "\n",
      "nfactor, lr, reg: 18 0.002 0.2 \n",
      "\n"
     ]
    },
    {
     "data": {
      "text/plain": [
       "<surprise.prediction_algorithms.matrix_factorization.SVD at 0x7f7122ce42e0>"
      ]
     },
     "execution_count": 39,
     "metadata": {},
     "output_type": "execute_result"
    },
    {
     "name": "stdout",
     "output_type": "stream",
     "text": [
      "train RMSE,MAE: 0.830 0.637\n",
      "test RMSE,MAE: 0.875 0.671 \n",
      "\n",
      "\n",
      "nfactor, lr, reg: 18 0.002 0.4 \n",
      "\n"
     ]
    },
    {
     "data": {
      "text/plain": [
       "<surprise.prediction_algorithms.matrix_factorization.SVD at 0x7f7122ce4430>"
      ]
     },
     "execution_count": 39,
     "metadata": {},
     "output_type": "execute_result"
    },
    {
     "name": "stdout",
     "output_type": "stream",
     "text": [
      "train RMSE,MAE: 0.839 0.649\n",
      "test RMSE,MAE: 0.880 0.680 \n",
      "\n",
      "\n",
      "nfactor, lr, reg: 18 0.002 0.8 \n",
      "\n"
     ]
    },
    {
     "data": {
      "text/plain": [
       "<surprise.prediction_algorithms.matrix_factorization.SVD at 0x7f7122ce4a60>"
      ]
     },
     "execution_count": 39,
     "metadata": {},
     "output_type": "execute_result"
    },
    {
     "name": "stdout",
     "output_type": "stream",
     "text": [
      "train RMSE,MAE: 0.855 0.667\n",
      "test RMSE,MAE: 0.891 0.694 \n",
      "\n",
      "\n",
      "nfactor, lr, reg: 18 0.002 1 \n",
      "\n"
     ]
    },
    {
     "data": {
      "text/plain": [
       "<surprise.prediction_algorithms.matrix_factorization.SVD at 0x7f7122ce4040>"
      ]
     },
     "execution_count": 39,
     "metadata": {},
     "output_type": "execute_result"
    },
    {
     "name": "stdout",
     "output_type": "stream",
     "text": [
      "train RMSE,MAE: 0.862 0.674\n",
      "test RMSE,MAE: 0.897 0.699 \n",
      "\n",
      "\n",
      "nfactor, lr, reg: 18 0.002 2 \n",
      "\n"
     ]
    },
    {
     "data": {
      "text/plain": [
       "<surprise.prediction_algorithms.matrix_factorization.SVD at 0x7f7122ce4160>"
      ]
     },
     "execution_count": 39,
     "metadata": {},
     "output_type": "execute_result"
    },
    {
     "name": "stdout",
     "output_type": "stream",
     "text": [
      "train RMSE,MAE: 0.887 0.698\n",
      "test RMSE,MAE: 0.917 0.720 \n",
      "\n",
      "\n",
      "nfactor, lr, reg: 18 0.002 4 \n",
      "\n"
     ]
    },
    {
     "data": {
      "text/plain": [
       "<surprise.prediction_algorithms.matrix_factorization.SVD at 0x7f7122ce4a30>"
      ]
     },
     "execution_count": 39,
     "metadata": {},
     "output_type": "execute_result"
    },
    {
     "name": "stdout",
     "output_type": "stream",
     "text": [
      "train RMSE,MAE: 0.915 0.723\n",
      "test RMSE,MAE: 0.939 0.741 \n",
      "\n",
      "\n",
      "nfactor, lr, reg: 18 0.002 10 \n",
      "\n"
     ]
    },
    {
     "data": {
      "text/plain": [
       "<surprise.prediction_algorithms.matrix_factorization.SVD at 0x7f7122ce4190>"
      ]
     },
     "execution_count": 39,
     "metadata": {},
     "output_type": "execute_result"
    },
    {
     "name": "stdout",
     "output_type": "stream",
     "text": [
      "train RMSE,MAE: 0.946 0.752\n",
      "test RMSE,MAE: 0.962 0.763 \n",
      "\n",
      "\n",
      "nfactor, lr, reg: 18 0.003 0.01 \n",
      "\n"
     ]
    },
    {
     "data": {
      "text/plain": [
       "<surprise.prediction_algorithms.matrix_factorization.SVD at 0x7f7122ce4790>"
      ]
     },
     "execution_count": 39,
     "metadata": {},
     "output_type": "execute_result"
    },
    {
     "name": "stdout",
     "output_type": "stream",
     "text": [
      "train RMSE,MAE: 0.794 0.599\n",
      "test RMSE,MAE: 0.867 0.654 \n",
      "\n",
      "\n",
      "nfactor, lr, reg: 18 0.003 0.02 \n",
      "\n"
     ]
    },
    {
     "data": {
      "text/plain": [
       "<surprise.prediction_algorithms.matrix_factorization.SVD at 0x7f7122ce46d0>"
      ]
     },
     "execution_count": 39,
     "metadata": {},
     "output_type": "execute_result"
    },
    {
     "name": "stdout",
     "output_type": "stream",
     "text": [
      "train RMSE,MAE: 0.796 0.601\n",
      "test RMSE,MAE: 0.867 0.655 \n",
      "\n",
      "\n",
      "nfactor, lr, reg: 18 0.003 0.04 \n",
      "\n"
     ]
    },
    {
     "data": {
      "text/plain": [
       "<surprise.prediction_algorithms.matrix_factorization.SVD at 0x7f7122ce4cd0>"
      ]
     },
     "execution_count": 39,
     "metadata": {},
     "output_type": "execute_result"
    },
    {
     "name": "stdout",
     "output_type": "stream",
     "text": [
      "train RMSE,MAE: 0.798 0.604\n",
      "test RMSE,MAE: 0.867 0.656 \n",
      "\n",
      "\n",
      "nfactor, lr, reg: 18 0.003 0.08 \n",
      "\n"
     ]
    },
    {
     "data": {
      "text/plain": [
       "<surprise.prediction_algorithms.matrix_factorization.SVD at 0x7f7122ce42e0>"
      ]
     },
     "execution_count": 39,
     "metadata": {},
     "output_type": "execute_result"
    },
    {
     "name": "stdout",
     "output_type": "stream",
     "text": [
      "train RMSE,MAE: 0.802 0.609\n",
      "test RMSE,MAE: 0.867 0.658 \n",
      "\n",
      "\n",
      "nfactor, lr, reg: 18 0.003 0.1 \n",
      "\n"
     ]
    },
    {
     "data": {
      "text/plain": [
       "<surprise.prediction_algorithms.matrix_factorization.SVD at 0x7f7122ce4430>"
      ]
     },
     "execution_count": 39,
     "metadata": {},
     "output_type": "execute_result"
    },
    {
     "name": "stdout",
     "output_type": "stream",
     "text": [
      "train RMSE,MAE: 0.804 0.611\n",
      "test RMSE,MAE: 0.867 0.659 \n",
      "\n",
      "\n",
      "nfactor, lr, reg: 18 0.003 0.2 \n",
      "\n"
     ]
    },
    {
     "data": {
      "text/plain": [
       "<surprise.prediction_algorithms.matrix_factorization.SVD at 0x7f7122ce41f0>"
      ]
     },
     "execution_count": 39,
     "metadata": {},
     "output_type": "execute_result"
    },
    {
     "name": "stdout",
     "output_type": "stream",
     "text": [
      "train RMSE,MAE: 0.811 0.621\n",
      "test RMSE,MAE: 0.869 0.665 \n",
      "\n",
      "\n",
      "nfactor, lr, reg: 18 0.003 0.4 \n",
      "\n"
     ]
    },
    {
     "data": {
      "text/plain": [
       "<surprise.prediction_algorithms.matrix_factorization.SVD at 0x7f7122ce4f70>"
      ]
     },
     "execution_count": 39,
     "metadata": {},
     "output_type": "execute_result"
    },
    {
     "name": "stdout",
     "output_type": "stream",
     "text": [
      "train RMSE,MAE: 0.822 0.635\n",
      "test RMSE,MAE: 0.874 0.674 \n",
      "\n",
      "\n",
      "nfactor, lr, reg: 18 0.003 0.8 \n",
      "\n"
     ]
    },
    {
     "data": {
      "text/plain": [
       "<surprise.prediction_algorithms.matrix_factorization.SVD at 0x7f7122ce46a0>"
      ]
     },
     "execution_count": 39,
     "metadata": {},
     "output_type": "execute_result"
    },
    {
     "name": "stdout",
     "output_type": "stream",
     "text": [
      "train RMSE,MAE: 0.840 0.655\n",
      "test RMSE,MAE: 0.887 0.690 \n",
      "\n",
      "\n",
      "nfactor, lr, reg: 18 0.003 1 \n",
      "\n"
     ]
    },
    {
     "data": {
      "text/plain": [
       "<surprise.prediction_algorithms.matrix_factorization.SVD at 0x7f7122ce4040>"
      ]
     },
     "execution_count": 39,
     "metadata": {},
     "output_type": "execute_result"
    },
    {
     "name": "stdout",
     "output_type": "stream",
     "text": [
      "train RMSE,MAE: 0.848 0.662\n",
      "test RMSE,MAE: 0.892 0.696 \n",
      "\n",
      "\n",
      "nfactor, lr, reg: 18 0.003 2 \n",
      "\n"
     ]
    },
    {
     "data": {
      "text/plain": [
       "<surprise.prediction_algorithms.matrix_factorization.SVD at 0x7f7122ce4160>"
      ]
     },
     "execution_count": 39,
     "metadata": {},
     "output_type": "execute_result"
    },
    {
     "name": "stdout",
     "output_type": "stream",
     "text": [
      "train RMSE,MAE: 0.876 0.689\n",
      "test RMSE,MAE: 0.914 0.717 \n",
      "\n",
      "\n",
      "nfactor, lr, reg: 18 0.003 4 \n",
      "\n"
     ]
    },
    {
     "data": {
      "text/plain": [
       "<surprise.prediction_algorithms.matrix_factorization.SVD at 0x7f7122ce4a30>"
      ]
     },
     "execution_count": 39,
     "metadata": {},
     "output_type": "execute_result"
    },
    {
     "name": "stdout",
     "output_type": "stream",
     "text": [
      "train RMSE,MAE: 0.907 0.717\n",
      "test RMSE,MAE: 0.937 0.739 \n",
      "\n",
      "\n",
      "nfactor, lr, reg: 18 0.003 10 \n",
      "\n"
     ]
    },
    {
     "data": {
      "text/plain": [
       "<surprise.prediction_algorithms.matrix_factorization.SVD at 0x7f7122ce4190>"
      ]
     },
     "execution_count": 39,
     "metadata": {},
     "output_type": "execute_result"
    },
    {
     "name": "stdout",
     "output_type": "stream",
     "text": [
      "train RMSE,MAE: 0.943 0.750\n",
      "test RMSE,MAE: 0.961 0.762 \n",
      "\n",
      "\n",
      "nfactor, lr, reg: 18 0.004 0.01 \n",
      "\n"
     ]
    },
    {
     "data": {
      "text/plain": [
       "<surprise.prediction_algorithms.matrix_factorization.SVD at 0x7f7122ce4790>"
      ]
     },
     "execution_count": 39,
     "metadata": {},
     "output_type": "execute_result"
    },
    {
     "name": "stdout",
     "output_type": "stream",
     "text": [
      "train RMSE,MAE: 0.770 0.580\n",
      "test RMSE,MAE: 0.864 0.651 \n",
      "\n",
      "\n",
      "nfactor, lr, reg: 18 0.004 0.02 \n",
      "\n"
     ]
    },
    {
     "data": {
      "text/plain": [
       "<surprise.prediction_algorithms.matrix_factorization.SVD at 0x7f7122ce46d0>"
      ]
     },
     "execution_count": 39,
     "metadata": {},
     "output_type": "execute_result"
    },
    {
     "name": "stdout",
     "output_type": "stream",
     "text": [
      "train RMSE,MAE: 0.773 0.583\n",
      "test RMSE,MAE: 0.864 0.651 \n",
      "\n",
      "\n",
      "nfactor, lr, reg: 18 0.004 0.04 \n",
      "\n"
     ]
    },
    {
     "data": {
      "text/plain": [
       "<surprise.prediction_algorithms.matrix_factorization.SVD at 0x7f7122ce4cd0>"
      ]
     },
     "execution_count": 39,
     "metadata": {},
     "output_type": "execute_result"
    },
    {
     "name": "stdout",
     "output_type": "stream",
     "text": [
      "train RMSE,MAE: 0.777 0.587\n",
      "test RMSE,MAE: 0.863 0.651 \n",
      "\n",
      "\n",
      "nfactor, lr, reg: 18 0.004 0.08 \n",
      "\n"
     ]
    },
    {
     "data": {
      "text/plain": [
       "<surprise.prediction_algorithms.matrix_factorization.SVD at 0x7f7122ce42e0>"
      ]
     },
     "execution_count": 39,
     "metadata": {},
     "output_type": "execute_result"
    },
    {
     "name": "stdout",
     "output_type": "stream",
     "text": [
      "train RMSE,MAE: 0.784 0.594\n",
      "test RMSE,MAE: 0.863 0.653 \n",
      "\n",
      "\n",
      "nfactor, lr, reg: 18 0.004 0.1 \n",
      "\n"
     ]
    },
    {
     "data": {
      "text/plain": [
       "<surprise.prediction_algorithms.matrix_factorization.SVD at 0x7f7122ce4430>"
      ]
     },
     "execution_count": 39,
     "metadata": {},
     "output_type": "execute_result"
    },
    {
     "name": "stdout",
     "output_type": "stream",
     "text": [
      "train RMSE,MAE: 0.786 0.597\n",
      "test RMSE,MAE: 0.863 0.655 \n",
      "\n",
      "\n",
      "nfactor, lr, reg: 18 0.004 0.2 \n",
      "\n"
     ]
    },
    {
     "data": {
      "text/plain": [
       "<surprise.prediction_algorithms.matrix_factorization.SVD at 0x7f7122ce41f0>"
      ]
     },
     "execution_count": 39,
     "metadata": {},
     "output_type": "execute_result"
    },
    {
     "name": "stdout",
     "output_type": "stream",
     "text": [
      "train RMSE,MAE: 0.796 0.608\n",
      "test RMSE,MAE: 0.865 0.660 \n",
      "\n",
      "\n",
      "nfactor, lr, reg: 18 0.004 0.4 \n",
      "\n"
     ]
    },
    {
     "data": {
      "text/plain": [
       "<surprise.prediction_algorithms.matrix_factorization.SVD at 0x7f7122ce4f70>"
      ]
     },
     "execution_count": 39,
     "metadata": {},
     "output_type": "execute_result"
    },
    {
     "name": "stdout",
     "output_type": "stream",
     "text": [
      "train RMSE,MAE: 0.809 0.624\n",
      "test RMSE,MAE: 0.871 0.671 \n",
      "\n",
      "\n",
      "nfactor, lr, reg: 18 0.004 0.8 \n",
      "\n"
     ]
    },
    {
     "data": {
      "text/plain": [
       "<surprise.prediction_algorithms.matrix_factorization.SVD at 0x7f7122ce4460>"
      ]
     },
     "execution_count": 39,
     "metadata": {},
     "output_type": "execute_result"
    },
    {
     "name": "stdout",
     "output_type": "stream",
     "text": [
      "train RMSE,MAE: 0.829 0.646\n",
      "test RMSE,MAE: 0.884 0.687 \n",
      "\n",
      "\n",
      "nfactor, lr, reg: 18 0.004 1 \n",
      "\n"
     ]
    },
    {
     "data": {
      "text/plain": [
       "<surprise.prediction_algorithms.matrix_factorization.SVD at 0x7f7122ce46a0>"
      ]
     },
     "execution_count": 39,
     "metadata": {},
     "output_type": "execute_result"
    },
    {
     "name": "stdout",
     "output_type": "stream",
     "text": [
      "train RMSE,MAE: 0.838 0.654\n",
      "test RMSE,MAE: 0.890 0.693 \n",
      "\n",
      "\n",
      "nfactor, lr, reg: 18 0.004 2 \n",
      "\n"
     ]
    },
    {
     "data": {
      "text/plain": [
       "<surprise.prediction_algorithms.matrix_factorization.SVD at 0x7f7122ce4160>"
      ]
     },
     "execution_count": 39,
     "metadata": {},
     "output_type": "execute_result"
    },
    {
     "name": "stdout",
     "output_type": "stream",
     "text": [
      "train RMSE,MAE: 0.869 0.683\n",
      "test RMSE,MAE: 0.912 0.715 \n",
      "\n",
      "\n",
      "nfactor, lr, reg: 18 0.004 4 \n",
      "\n"
     ]
    },
    {
     "data": {
      "text/plain": [
       "<surprise.prediction_algorithms.matrix_factorization.SVD at 0x7f7122ce4a30>"
      ]
     },
     "execution_count": 39,
     "metadata": {},
     "output_type": "execute_result"
    },
    {
     "name": "stdout",
     "output_type": "stream",
     "text": [
      "train RMSE,MAE: 0.903 0.713\n",
      "test RMSE,MAE: 0.936 0.737 \n",
      "\n",
      "\n",
      "nfactor, lr, reg: 18 0.004 10 \n",
      "\n"
     ]
    },
    {
     "data": {
      "text/plain": [
       "<surprise.prediction_algorithms.matrix_factorization.SVD at 0x7f7122ce4e50>"
      ]
     },
     "execution_count": 39,
     "metadata": {},
     "output_type": "execute_result"
    },
    {
     "name": "stdout",
     "output_type": "stream",
     "text": [
      "train RMSE,MAE: 0.942 0.749\n",
      "test RMSE,MAE: 0.961 0.761 \n",
      "\n",
      "\n",
      "nfactor, lr, reg: 18 0.005 0.01 \n",
      "\n"
     ]
    },
    {
     "data": {
      "text/plain": [
       "<surprise.prediction_algorithms.matrix_factorization.SVD at 0x7f7122ce4790>"
      ]
     },
     "execution_count": 39,
     "metadata": {},
     "output_type": "execute_result"
    },
    {
     "name": "stdout",
     "output_type": "stream",
     "text": [
      "train RMSE,MAE: 0.745 0.561\n",
      "test RMSE,MAE: 0.861 0.647 \n",
      "\n",
      "\n",
      "nfactor, lr, reg: 18 0.005 0.02 \n",
      "\n"
     ]
    },
    {
     "data": {
      "text/plain": [
       "<surprise.prediction_algorithms.matrix_factorization.SVD at 0x7f7122ce46d0>"
      ]
     },
     "execution_count": 39,
     "metadata": {},
     "output_type": "execute_result"
    },
    {
     "name": "stdout",
     "output_type": "stream",
     "text": [
      "train RMSE,MAE: 0.749 0.565\n",
      "test RMSE,MAE: 0.861 0.647 \n",
      "\n",
      "\n",
      "nfactor, lr, reg: 18 0.005 0.04 \n",
      "\n"
     ]
    },
    {
     "data": {
      "text/plain": [
       "<surprise.prediction_algorithms.matrix_factorization.SVD at 0x7f7122ce4cd0>"
      ]
     },
     "execution_count": 39,
     "metadata": {},
     "output_type": "execute_result"
    },
    {
     "name": "stdout",
     "output_type": "stream",
     "text": [
      "train RMSE,MAE: 0.757 0.571\n",
      "test RMSE,MAE: 0.861 0.649 \n",
      "\n",
      "\n",
      "nfactor, lr, reg: 18 0.005 0.08 \n",
      "\n"
     ]
    },
    {
     "data": {
      "text/plain": [
       "<surprise.prediction_algorithms.matrix_factorization.SVD at 0x7f7122ce42e0>"
      ]
     },
     "execution_count": 39,
     "metadata": {},
     "output_type": "execute_result"
    },
    {
     "name": "stdout",
     "output_type": "stream",
     "text": [
      "train RMSE,MAE: 0.767 0.581\n",
      "test RMSE,MAE: 0.861 0.651 \n",
      "\n",
      "\n",
      "nfactor, lr, reg: 18 0.005 0.1 \n",
      "\n"
     ]
    },
    {
     "data": {
      "text/plain": [
       "<surprise.prediction_algorithms.matrix_factorization.SVD at 0x7f7122ce4430>"
      ]
     },
     "execution_count": 39,
     "metadata": {},
     "output_type": "execute_result"
    },
    {
     "name": "stdout",
     "output_type": "stream",
     "text": [
      "train RMSE,MAE: 0.771 0.585\n",
      "test RMSE,MAE: 0.861 0.652 \n",
      "\n",
      "\n",
      "nfactor, lr, reg: 18 0.005 0.2 \n",
      "\n"
     ]
    },
    {
     "data": {
      "text/plain": [
       "<surprise.prediction_algorithms.matrix_factorization.SVD at 0x7f7122ce41f0>"
      ]
     },
     "execution_count": 39,
     "metadata": {},
     "output_type": "execute_result"
    },
    {
     "name": "stdout",
     "output_type": "stream",
     "text": [
      "train RMSE,MAE: 0.784 0.598\n",
      "test RMSE,MAE: 0.863 0.658 \n",
      "\n",
      "\n",
      "nfactor, lr, reg: 18 0.005 0.4 \n",
      "\n"
     ]
    },
    {
     "data": {
      "text/plain": [
       "<surprise.prediction_algorithms.matrix_factorization.SVD at 0x7f7122ce4f70>"
      ]
     },
     "execution_count": 39,
     "metadata": {},
     "output_type": "execute_result"
    },
    {
     "name": "stdout",
     "output_type": "stream",
     "text": [
      "train RMSE,MAE: 0.799 0.616\n",
      "test RMSE,MAE: 0.869 0.669 \n",
      "\n",
      "\n",
      "nfactor, lr, reg: 18 0.005 0.8 \n",
      "\n"
     ]
    },
    {
     "data": {
      "text/plain": [
       "<surprise.prediction_algorithms.matrix_factorization.SVD at 0x7f7122ce4460>"
      ]
     },
     "execution_count": 39,
     "metadata": {},
     "output_type": "execute_result"
    },
    {
     "name": "stdout",
     "output_type": "stream",
     "text": [
      "train RMSE,MAE: 0.820 0.639\n",
      "test RMSE,MAE: 0.882 0.685 \n",
      "\n",
      "\n",
      "nfactor, lr, reg: 18 0.005 1 \n",
      "\n"
     ]
    },
    {
     "data": {
      "text/plain": [
       "<surprise.prediction_algorithms.matrix_factorization.SVD at 0x7f7122ce46a0>"
      ]
     },
     "execution_count": 39,
     "metadata": {},
     "output_type": "execute_result"
    },
    {
     "name": "stdout",
     "output_type": "stream",
     "text": [
      "train RMSE,MAE: 0.829 0.647\n",
      "test RMSE,MAE: 0.888 0.692 \n",
      "\n",
      "\n",
      "nfactor, lr, reg: 18 0.005 2 \n",
      "\n"
     ]
    },
    {
     "data": {
      "text/plain": [
       "<surprise.prediction_algorithms.matrix_factorization.SVD at 0x7f7122ce4160>"
      ]
     },
     "execution_count": 39,
     "metadata": {},
     "output_type": "execute_result"
    },
    {
     "name": "stdout",
     "output_type": "stream",
     "text": [
      "train RMSE,MAE: 0.863 0.678\n",
      "test RMSE,MAE: 0.911 0.714 \n",
      "\n",
      "\n",
      "nfactor, lr, reg: 18 0.005 4 \n",
      "\n"
     ]
    },
    {
     "data": {
      "text/plain": [
       "<surprise.prediction_algorithms.matrix_factorization.SVD at 0x7f7122ce4a30>"
      ]
     },
     "execution_count": 39,
     "metadata": {},
     "output_type": "execute_result"
    },
    {
     "name": "stdout",
     "output_type": "stream",
     "text": [
      "train RMSE,MAE: 0.899 0.711\n",
      "test RMSE,MAE: 0.935 0.736 \n",
      "\n",
      "\n",
      "nfactor, lr, reg: 18 0.005 10 \n",
      "\n"
     ]
    },
    {
     "data": {
      "text/plain": [
       "<surprise.prediction_algorithms.matrix_factorization.SVD at 0x7f7122ce4e50>"
      ]
     },
     "execution_count": 39,
     "metadata": {},
     "output_type": "execute_result"
    },
    {
     "name": "stdout",
     "output_type": "stream",
     "text": [
      "train RMSE,MAE: 0.941 0.748\n",
      "test RMSE,MAE: 0.960 0.761 \n",
      "\n",
      "\n",
      "nfactor, lr, reg: 18 0.006 0.01 \n",
      "\n"
     ]
    },
    {
     "data": {
      "text/plain": [
       "<surprise.prediction_algorithms.matrix_factorization.SVD at 0x7f7122ce4790>"
      ]
     },
     "execution_count": 39,
     "metadata": {},
     "output_type": "execute_result"
    },
    {
     "name": "stdout",
     "output_type": "stream",
     "text": [
      "train RMSE,MAE: 0.716 0.539\n",
      "test RMSE,MAE: 0.861 0.645 \n",
      "\n",
      "\n",
      "nfactor, lr, reg: 18 0.006 0.02 \n",
      "\n"
     ]
    },
    {
     "data": {
      "text/plain": [
       "<surprise.prediction_algorithms.matrix_factorization.SVD at 0x7f7122ce46d0>"
      ]
     },
     "execution_count": 39,
     "metadata": {},
     "output_type": "execute_result"
    },
    {
     "name": "stdout",
     "output_type": "stream",
     "text": [
      "train RMSE,MAE: 0.727 0.547\n",
      "test RMSE,MAE: 0.860 0.645 \n",
      "\n",
      "\n",
      "nfactor, lr, reg: 18 0.006 0.04 \n",
      "\n"
     ]
    },
    {
     "data": {
      "text/plain": [
       "<surprise.prediction_algorithms.matrix_factorization.SVD at 0x7f7122ce4cd0>"
      ]
     },
     "execution_count": 39,
     "metadata": {},
     "output_type": "execute_result"
    },
    {
     "name": "stdout",
     "output_type": "stream",
     "text": [
      "train RMSE,MAE: 0.737 0.556\n",
      "test RMSE,MAE: 0.859 0.646 \n",
      "\n",
      "\n",
      "nfactor, lr, reg: 18 0.006 0.08 \n",
      "\n"
     ]
    },
    {
     "data": {
      "text/plain": [
       "<surprise.prediction_algorithms.matrix_factorization.SVD at 0x7f7122ce42e0>"
      ]
     },
     "execution_count": 39,
     "metadata": {},
     "output_type": "execute_result"
    },
    {
     "name": "stdout",
     "output_type": "stream",
     "text": [
      "train RMSE,MAE: 0.752 0.569\n",
      "test RMSE,MAE: 0.859 0.648 \n",
      "\n",
      "\n",
      "nfactor, lr, reg: 18 0.006 0.1 \n",
      "\n"
     ]
    },
    {
     "data": {
      "text/plain": [
       "<surprise.prediction_algorithms.matrix_factorization.SVD at 0x7f7122ce4430>"
      ]
     },
     "execution_count": 39,
     "metadata": {},
     "output_type": "execute_result"
    },
    {
     "name": "stdout",
     "output_type": "stream",
     "text": [
      "train RMSE,MAE: 0.757 0.573\n",
      "test RMSE,MAE: 0.859 0.650 \n",
      "\n",
      "\n",
      "nfactor, lr, reg: 18 0.006 0.2 \n",
      "\n"
     ]
    },
    {
     "data": {
      "text/plain": [
       "<surprise.prediction_algorithms.matrix_factorization.SVD at 0x7f7122ce41f0>"
      ]
     },
     "execution_count": 39,
     "metadata": {},
     "output_type": "execute_result"
    },
    {
     "name": "stdout",
     "output_type": "stream",
     "text": [
      "train RMSE,MAE: 0.773 0.589\n",
      "test RMSE,MAE: 0.861 0.656 \n",
      "\n",
      "\n",
      "nfactor, lr, reg: 18 0.006 0.4 \n",
      "\n"
     ]
    },
    {
     "data": {
      "text/plain": [
       "<surprise.prediction_algorithms.matrix_factorization.SVD at 0x7f7122ce4f70>"
      ]
     },
     "execution_count": 39,
     "metadata": {},
     "output_type": "execute_result"
    },
    {
     "name": "stdout",
     "output_type": "stream",
     "text": [
      "train RMSE,MAE: 0.790 0.608\n",
      "test RMSE,MAE: 0.867 0.667 \n",
      "\n",
      "\n",
      "nfactor, lr, reg: 18 0.006 0.8 \n",
      "\n"
     ]
    },
    {
     "data": {
      "text/plain": [
       "<surprise.prediction_algorithms.matrix_factorization.SVD at 0x7f7122ce4460>"
      ]
     },
     "execution_count": 39,
     "metadata": {},
     "output_type": "execute_result"
    },
    {
     "name": "stdout",
     "output_type": "stream",
     "text": [
      "train RMSE,MAE: 0.813 0.633\n",
      "test RMSE,MAE: 0.881 0.684 \n",
      "\n",
      "\n",
      "nfactor, lr, reg: 18 0.006 1 \n",
      "\n"
     ]
    },
    {
     "data": {
      "text/plain": [
       "<surprise.prediction_algorithms.matrix_factorization.SVD at 0x7f7122ce46a0>"
      ]
     },
     "execution_count": 39,
     "metadata": {},
     "output_type": "execute_result"
    },
    {
     "name": "stdout",
     "output_type": "stream",
     "text": [
      "train RMSE,MAE: 0.823 0.642\n",
      "test RMSE,MAE: 0.887 0.690 \n",
      "\n",
      "\n",
      "nfactor, lr, reg: 18 0.006 2 \n",
      "\n"
     ]
    },
    {
     "data": {
      "text/plain": [
       "<surprise.prediction_algorithms.matrix_factorization.SVD at 0x7f7122ce4160>"
      ]
     },
     "execution_count": 39,
     "metadata": {},
     "output_type": "execute_result"
    },
    {
     "name": "stdout",
     "output_type": "stream",
     "text": [
      "train RMSE,MAE: 0.858 0.674\n",
      "test RMSE,MAE: 0.910 0.713 \n",
      "\n",
      "\n",
      "nfactor, lr, reg: 18 0.006 4 \n",
      "\n"
     ]
    },
    {
     "data": {
      "text/plain": [
       "<surprise.prediction_algorithms.matrix_factorization.SVD at 0x7f7122ce4a30>"
      ]
     },
     "execution_count": 39,
     "metadata": {},
     "output_type": "execute_result"
    },
    {
     "name": "stdout",
     "output_type": "stream",
     "text": [
      "train RMSE,MAE: 0.897 0.709\n",
      "test RMSE,MAE: 0.934 0.736 \n",
      "\n",
      "\n",
      "nfactor, lr, reg: 18 0.006 10 \n",
      "\n"
     ]
    },
    {
     "data": {
      "text/plain": [
       "<surprise.prediction_algorithms.matrix_factorization.SVD at 0x7f7122ce4e50>"
      ]
     },
     "execution_count": 39,
     "metadata": {},
     "output_type": "execute_result"
    },
    {
     "name": "stdout",
     "output_type": "stream",
     "text": [
      "train RMSE,MAE: 0.941 0.748\n",
      "test RMSE,MAE: 0.960 0.761 \n",
      "\n",
      "\n",
      "nfactor, lr, reg: 18 0.007 0.01 \n",
      "\n"
     ]
    },
    {
     "data": {
      "text/plain": [
       "<surprise.prediction_algorithms.matrix_factorization.SVD at 0x7f7122ce4790>"
      ]
     },
     "execution_count": 39,
     "metadata": {},
     "output_type": "execute_result"
    },
    {
     "name": "stdout",
     "output_type": "stream",
     "text": [
      "train RMSE,MAE: 0.687 0.516\n",
      "test RMSE,MAE: 0.858 0.643 \n",
      "\n",
      "\n",
      "nfactor, lr, reg: 18 0.007 0.02 \n",
      "\n"
     ]
    },
    {
     "data": {
      "text/plain": [
       "<surprise.prediction_algorithms.matrix_factorization.SVD at 0x7f7122ce46d0>"
      ]
     },
     "execution_count": 39,
     "metadata": {},
     "output_type": "execute_result"
    },
    {
     "name": "stdout",
     "output_type": "stream",
     "text": [
      "train RMSE,MAE: 0.698 0.525\n",
      "test RMSE,MAE: 0.859 0.643 \n",
      "\n",
      "\n",
      "nfactor, lr, reg: 18 0.007 0.04 \n",
      "\n"
     ]
    },
    {
     "data": {
      "text/plain": [
       "<surprise.prediction_algorithms.matrix_factorization.SVD at 0x7f7122ce4cd0>"
      ]
     },
     "execution_count": 39,
     "metadata": {},
     "output_type": "execute_result"
    },
    {
     "name": "stdout",
     "output_type": "stream",
     "text": [
      "train RMSE,MAE: 0.716 0.540\n",
      "test RMSE,MAE: 0.858 0.644 \n",
      "\n",
      "\n",
      "nfactor, lr, reg: 18 0.007 0.08 \n",
      "\n"
     ]
    },
    {
     "data": {
      "text/plain": [
       "<surprise.prediction_algorithms.matrix_factorization.SVD at 0x7f7122ce42e0>"
      ]
     },
     "execution_count": 39,
     "metadata": {},
     "output_type": "execute_result"
    },
    {
     "name": "stdout",
     "output_type": "stream",
     "text": [
      "train RMSE,MAE: 0.737 0.557\n",
      "test RMSE,MAE: 0.858 0.647 \n",
      "\n",
      "\n",
      "nfactor, lr, reg: 18 0.007 0.1 \n",
      "\n"
     ]
    },
    {
     "data": {
      "text/plain": [
       "<surprise.prediction_algorithms.matrix_factorization.SVD at 0x7f7122ce4430>"
      ]
     },
     "execution_count": 39,
     "metadata": {},
     "output_type": "execute_result"
    },
    {
     "name": "stdout",
     "output_type": "stream",
     "text": [
      "train RMSE,MAE: 0.743 0.563\n",
      "test RMSE,MAE: 0.858 0.648 \n",
      "\n",
      "\n",
      "nfactor, lr, reg: 18 0.007 0.2 \n",
      "\n"
     ]
    },
    {
     "data": {
      "text/plain": [
       "<surprise.prediction_algorithms.matrix_factorization.SVD at 0x7f7122ce41f0>"
      ]
     },
     "execution_count": 39,
     "metadata": {},
     "output_type": "execute_result"
    },
    {
     "name": "stdout",
     "output_type": "stream",
     "text": [
      "train RMSE,MAE: 0.764 0.582\n",
      "test RMSE,MAE: 0.861 0.654 \n",
      "\n",
      "\n",
      "nfactor, lr, reg: 18 0.007 0.4 \n",
      "\n"
     ]
    },
    {
     "data": {
      "text/plain": [
       "<surprise.prediction_algorithms.matrix_factorization.SVD at 0x7f7122ce4f70>"
      ]
     },
     "execution_count": 39,
     "metadata": {},
     "output_type": "execute_result"
    },
    {
     "name": "stdout",
     "output_type": "stream",
     "text": [
      "train RMSE,MAE: 0.783 0.602\n",
      "test RMSE,MAE: 0.867 0.666 \n",
      "\n",
      "\n",
      "nfactor, lr, reg: 18 0.007 0.8 \n",
      "\n"
     ]
    },
    {
     "data": {
      "text/plain": [
       "<surprise.prediction_algorithms.matrix_factorization.SVD at 0x7f7122ce4460>"
      ]
     },
     "execution_count": 39,
     "metadata": {},
     "output_type": "execute_result"
    },
    {
     "name": "stdout",
     "output_type": "stream",
     "text": [
      "train RMSE,MAE: 0.808 0.628\n",
      "test RMSE,MAE: 0.880 0.683 \n",
      "\n",
      "\n",
      "nfactor, lr, reg: 18 0.007 1 \n",
      "\n"
     ]
    },
    {
     "data": {
      "text/plain": [
       "<surprise.prediction_algorithms.matrix_factorization.SVD at 0x7f7122ce46a0>"
      ]
     },
     "execution_count": 39,
     "metadata": {},
     "output_type": "execute_result"
    },
    {
     "name": "stdout",
     "output_type": "stream",
     "text": [
      "train RMSE,MAE: 0.817 0.637\n",
      "test RMSE,MAE: 0.886 0.690 \n",
      "\n",
      "\n",
      "nfactor, lr, reg: 18 0.007 2 \n",
      "\n"
     ]
    },
    {
     "data": {
      "text/plain": [
       "<surprise.prediction_algorithms.matrix_factorization.SVD at 0x7f7122ce4160>"
      ]
     },
     "execution_count": 39,
     "metadata": {},
     "output_type": "execute_result"
    },
    {
     "name": "stdout",
     "output_type": "stream",
     "text": [
      "train RMSE,MAE: 0.855 0.671\n",
      "test RMSE,MAE: 0.909 0.712 \n",
      "\n",
      "\n",
      "nfactor, lr, reg: 18 0.007 4 \n",
      "\n"
     ]
    },
    {
     "data": {
      "text/plain": [
       "<surprise.prediction_algorithms.matrix_factorization.SVD at 0x7f7122ce4a30>"
      ]
     },
     "execution_count": 39,
     "metadata": {},
     "output_type": "execute_result"
    },
    {
     "name": "stdout",
     "output_type": "stream",
     "text": [
      "train RMSE,MAE: 0.896 0.707\n",
      "test RMSE,MAE: 0.934 0.736 \n",
      "\n",
      "\n",
      "nfactor, lr, reg: 18 0.007 10 \n",
      "\n"
     ]
    },
    {
     "data": {
      "text/plain": [
       "<surprise.prediction_algorithms.matrix_factorization.SVD at 0x7f7122ce4e50>"
      ]
     },
     "execution_count": 39,
     "metadata": {},
     "output_type": "execute_result"
    },
    {
     "name": "stdout",
     "output_type": "stream",
     "text": [
      "train RMSE,MAE: 0.941 0.748\n",
      "test RMSE,MAE: 0.960 0.761 \n",
      "\n",
      "\n",
      "nfactor, lr, reg: 18 0.008 0.01 \n",
      "\n"
     ]
    },
    {
     "data": {
      "text/plain": [
       "<surprise.prediction_algorithms.matrix_factorization.SVD at 0x7f7122ce4790>"
      ]
     },
     "execution_count": 39,
     "metadata": {},
     "output_type": "execute_result"
    },
    {
     "name": "stdout",
     "output_type": "stream",
     "text": [
      "train RMSE,MAE: 0.655 0.492\n",
      "test RMSE,MAE: 0.861 0.642 \n",
      "\n",
      "\n",
      "nfactor, lr, reg: 18 0.008 0.02 \n",
      "\n"
     ]
    },
    {
     "data": {
      "text/plain": [
       "<surprise.prediction_algorithms.matrix_factorization.SVD at 0x7f7122ce46d0>"
      ]
     },
     "execution_count": 39,
     "metadata": {},
     "output_type": "execute_result"
    },
    {
     "name": "stdout",
     "output_type": "stream",
     "text": [
      "train RMSE,MAE: 0.670 0.504\n",
      "test RMSE,MAE: 0.859 0.642 \n",
      "\n",
      "\n",
      "nfactor, lr, reg: 18 0.008 0.04 \n",
      "\n"
     ]
    },
    {
     "data": {
      "text/plain": [
       "<surprise.prediction_algorithms.matrix_factorization.SVD at 0x7f7122ce4cd0>"
      ]
     },
     "execution_count": 39,
     "metadata": {},
     "output_type": "execute_result"
    },
    {
     "name": "stdout",
     "output_type": "stream",
     "text": [
      "train RMSE,MAE: 0.694 0.524\n",
      "test RMSE,MAE: 0.857 0.643 \n",
      "\n",
      "\n",
      "nfactor, lr, reg: 18 0.008 0.08 \n",
      "\n"
     ]
    },
    {
     "data": {
      "text/plain": [
       "<surprise.prediction_algorithms.matrix_factorization.SVD at 0x7f7122ce42e0>"
      ]
     },
     "execution_count": 39,
     "metadata": {},
     "output_type": "execute_result"
    },
    {
     "name": "stdout",
     "output_type": "stream",
     "text": [
      "train RMSE,MAE: 0.722 0.546\n",
      "test RMSE,MAE: 0.857 0.645 \n",
      "\n",
      "\n",
      "nfactor, lr, reg: 18 0.008 0.1 \n",
      "\n"
     ]
    },
    {
     "data": {
      "text/plain": [
       "<surprise.prediction_algorithms.matrix_factorization.SVD at 0x7f7122ce4430>"
      ]
     },
     "execution_count": 39,
     "metadata": {},
     "output_type": "execute_result"
    },
    {
     "name": "stdout",
     "output_type": "stream",
     "text": [
      "train RMSE,MAE: 0.731 0.553\n",
      "test RMSE,MAE: 0.858 0.647 \n",
      "\n",
      "\n",
      "nfactor, lr, reg: 18 0.008 0.2 \n",
      "\n"
     ]
    },
    {
     "data": {
      "text/plain": [
       "<surprise.prediction_algorithms.matrix_factorization.SVD at 0x7f7122ce41f0>"
      ]
     },
     "execution_count": 39,
     "metadata": {},
     "output_type": "execute_result"
    },
    {
     "name": "stdout",
     "output_type": "stream",
     "text": [
      "train RMSE,MAE: 0.756 0.575\n",
      "test RMSE,MAE: 0.860 0.653 \n",
      "\n",
      "\n",
      "nfactor, lr, reg: 18 0.008 0.4 \n",
      "\n"
     ]
    },
    {
     "data": {
      "text/plain": [
       "<surprise.prediction_algorithms.matrix_factorization.SVD at 0x7f7122ce4f70>"
      ]
     },
     "execution_count": 39,
     "metadata": {},
     "output_type": "execute_result"
    },
    {
     "name": "stdout",
     "output_type": "stream",
     "text": [
      "train RMSE,MAE: 0.777 0.597\n",
      "test RMSE,MAE: 0.866 0.665 \n",
      "\n",
      "\n",
      "nfactor, lr, reg: 18 0.008 0.8 \n",
      "\n"
     ]
    },
    {
     "data": {
      "text/plain": [
       "<surprise.prediction_algorithms.matrix_factorization.SVD at 0x7f7122ce4460>"
      ]
     },
     "execution_count": 39,
     "metadata": {},
     "output_type": "execute_result"
    },
    {
     "name": "stdout",
     "output_type": "stream",
     "text": [
      "train RMSE,MAE: 0.803 0.624\n",
      "test RMSE,MAE: 0.880 0.682 \n",
      "\n",
      "\n",
      "nfactor, lr, reg: 18 0.008 1 \n",
      "\n"
     ]
    },
    {
     "data": {
      "text/plain": [
       "<surprise.prediction_algorithms.matrix_factorization.SVD at 0x7f7122ce46a0>"
      ]
     },
     "execution_count": 39,
     "metadata": {},
     "output_type": "execute_result"
    },
    {
     "name": "stdout",
     "output_type": "stream",
     "text": [
      "train RMSE,MAE: 0.813 0.634\n",
      "test RMSE,MAE: 0.886 0.689 \n",
      "\n",
      "\n",
      "nfactor, lr, reg: 18 0.008 2 \n",
      "\n"
     ]
    },
    {
     "data": {
      "text/plain": [
       "<surprise.prediction_algorithms.matrix_factorization.SVD at 0x7f7122ce4df0>"
      ]
     },
     "execution_count": 39,
     "metadata": {},
     "output_type": "execute_result"
    },
    {
     "name": "stdout",
     "output_type": "stream",
     "text": [
      "train RMSE,MAE: 0.852 0.669\n",
      "test RMSE,MAE: 0.909 0.712 \n",
      "\n",
      "\n",
      "nfactor, lr, reg: 18 0.008 4 \n",
      "\n"
     ]
    },
    {
     "data": {
      "text/plain": [
       "<surprise.prediction_algorithms.matrix_factorization.SVD at 0x7f7122ce4a30>"
      ]
     },
     "execution_count": 39,
     "metadata": {},
     "output_type": "execute_result"
    },
    {
     "name": "stdout",
     "output_type": "stream",
     "text": [
      "train RMSE,MAE: 0.895 0.706\n",
      "test RMSE,MAE: 0.934 0.735 \n",
      "\n",
      "\n",
      "nfactor, lr, reg: 18 0.008 10 \n",
      "\n"
     ]
    },
    {
     "data": {
      "text/plain": [
       "<surprise.prediction_algorithms.matrix_factorization.SVD at 0x7f7122ce4e50>"
      ]
     },
     "execution_count": 39,
     "metadata": {},
     "output_type": "execute_result"
    },
    {
     "name": "stdout",
     "output_type": "stream",
     "text": [
      "train RMSE,MAE: 0.941 0.748\n",
      "test RMSE,MAE: 0.960 0.761 \n",
      "\n",
      "\n",
      "nfactor, lr, reg: 18 0.009000000000000001 0.01 \n",
      "\n"
     ]
    },
    {
     "data": {
      "text/plain": [
       "<surprise.prediction_algorithms.matrix_factorization.SVD at 0x7f7122ce4790>"
      ]
     },
     "execution_count": 39,
     "metadata": {},
     "output_type": "execute_result"
    },
    {
     "name": "stdout",
     "output_type": "stream",
     "text": [
      "train RMSE,MAE: 0.621 0.466\n",
      "test RMSE,MAE: 0.861 0.641 \n",
      "\n",
      "\n",
      "nfactor, lr, reg: 18 0.009000000000000001 0.02 \n",
      "\n"
     ]
    },
    {
     "data": {
      "text/plain": [
       "<surprise.prediction_algorithms.matrix_factorization.SVD at 0x7f7122ce46d0>"
      ]
     },
     "execution_count": 39,
     "metadata": {},
     "output_type": "execute_result"
    },
    {
     "name": "stdout",
     "output_type": "stream",
     "text": [
      "train RMSE,MAE: 0.642 0.484\n",
      "test RMSE,MAE: 0.858 0.640 \n",
      "\n",
      "\n",
      "nfactor, lr, reg: 18 0.009000000000000001 0.04 \n",
      "\n"
     ]
    },
    {
     "data": {
      "text/plain": [
       "<surprise.prediction_algorithms.matrix_factorization.SVD at 0x7f7122ce4cd0>"
      ]
     },
     "execution_count": 39,
     "metadata": {},
     "output_type": "execute_result"
    },
    {
     "name": "stdout",
     "output_type": "stream",
     "text": [
      "train RMSE,MAE: 0.669 0.505\n",
      "test RMSE,MAE: 0.857 0.641 \n",
      "\n",
      "\n",
      "nfactor, lr, reg: 18 0.009000000000000001 0.08 \n",
      "\n"
     ]
    },
    {
     "data": {
      "text/plain": [
       "<surprise.prediction_algorithms.matrix_factorization.SVD at 0x7f7122ce42e0>"
      ]
     },
     "execution_count": 39,
     "metadata": {},
     "output_type": "execute_result"
    },
    {
     "name": "stdout",
     "output_type": "stream",
     "text": [
      "train RMSE,MAE: 0.707 0.535\n",
      "test RMSE,MAE: 0.857 0.644 \n",
      "\n",
      "\n",
      "nfactor, lr, reg: 18 0.009000000000000001 0.1 \n",
      "\n"
     ]
    },
    {
     "data": {
      "text/plain": [
       "<surprise.prediction_algorithms.matrix_factorization.SVD at 0x7f7122ce4430>"
      ]
     },
     "execution_count": 39,
     "metadata": {},
     "output_type": "execute_result"
    },
    {
     "name": "stdout",
     "output_type": "stream",
     "text": [
      "train RMSE,MAE: 0.718 0.543\n",
      "test RMSE,MAE: 0.857 0.645 \n",
      "\n",
      "\n",
      "nfactor, lr, reg: 18 0.009000000000000001 0.2 \n",
      "\n"
     ]
    },
    {
     "data": {
      "text/plain": [
       "<surprise.prediction_algorithms.matrix_factorization.SVD at 0x7f7122ce41f0>"
      ]
     },
     "execution_count": 39,
     "metadata": {},
     "output_type": "execute_result"
    },
    {
     "name": "stdout",
     "output_type": "stream",
     "text": [
      "train RMSE,MAE: 0.748 0.568\n",
      "test RMSE,MAE: 0.860 0.652 \n",
      "\n",
      "\n",
      "nfactor, lr, reg: 18 0.009000000000000001 0.4 \n",
      "\n"
     ]
    },
    {
     "data": {
      "text/plain": [
       "<surprise.prediction_algorithms.matrix_factorization.SVD at 0x7f7122ce4f70>"
      ]
     },
     "execution_count": 39,
     "metadata": {},
     "output_type": "execute_result"
    },
    {
     "name": "stdout",
     "output_type": "stream",
     "text": [
      "train RMSE,MAE: 0.772 0.592\n",
      "test RMSE,MAE: 0.866 0.664 \n",
      "\n",
      "\n",
      "nfactor, lr, reg: 18 0.009000000000000001 0.8 \n",
      "\n"
     ]
    },
    {
     "data": {
      "text/plain": [
       "<surprise.prediction_algorithms.matrix_factorization.SVD at 0x7f7122ce4460>"
      ]
     },
     "execution_count": 39,
     "metadata": {},
     "output_type": "execute_result"
    },
    {
     "name": "stdout",
     "output_type": "stream",
     "text": [
      "train RMSE,MAE: 0.799 0.620\n",
      "test RMSE,MAE: 0.879 0.682 \n",
      "\n",
      "\n",
      "nfactor, lr, reg: 18 0.009000000000000001 1 \n",
      "\n"
     ]
    },
    {
     "data": {
      "text/plain": [
       "<surprise.prediction_algorithms.matrix_factorization.SVD at 0x7f7122ce46a0>"
      ]
     },
     "execution_count": 39,
     "metadata": {},
     "output_type": "execute_result"
    },
    {
     "name": "stdout",
     "output_type": "stream",
     "text": [
      "train RMSE,MAE: 0.809 0.630\n",
      "test RMSE,MAE: 0.885 0.689 \n",
      "\n",
      "\n",
      "nfactor, lr, reg: 18 0.009000000000000001 2 \n",
      "\n"
     ]
    },
    {
     "data": {
      "text/plain": [
       "<surprise.prediction_algorithms.matrix_factorization.SVD at 0x7f7122ce4df0>"
      ]
     },
     "execution_count": 39,
     "metadata": {},
     "output_type": "execute_result"
    },
    {
     "name": "stdout",
     "output_type": "stream",
     "text": [
      "train RMSE,MAE: 0.850 0.667\n",
      "test RMSE,MAE: 0.909 0.712 \n",
      "\n",
      "\n",
      "nfactor, lr, reg: 18 0.009000000000000001 4 \n",
      "\n"
     ]
    },
    {
     "data": {
      "text/plain": [
       "<surprise.prediction_algorithms.matrix_factorization.SVD at 0x7f7122ce4a30>"
      ]
     },
     "execution_count": 39,
     "metadata": {},
     "output_type": "execute_result"
    },
    {
     "name": "stdout",
     "output_type": "stream",
     "text": [
      "train RMSE,MAE: 0.894 0.706\n",
      "test RMSE,MAE: 0.934 0.735 \n",
      "\n",
      "\n",
      "nfactor, lr, reg: 18 0.009000000000000001 10 \n",
      "\n"
     ]
    },
    {
     "data": {
      "text/plain": [
       "<surprise.prediction_algorithms.matrix_factorization.SVD at 0x7f7122ce4e50>"
      ]
     },
     "execution_count": 39,
     "metadata": {},
     "output_type": "execute_result"
    },
    {
     "name": "stdout",
     "output_type": "stream",
     "text": [
      "train RMSE,MAE: 0.941 0.748\n",
      "test RMSE,MAE: 0.961 0.761 \n",
      "\n",
      "\n",
      "nfactor, lr, reg: 26 0.001 0.01 \n",
      "\n"
     ]
    },
    {
     "data": {
      "text/plain": [
       "<surprise.prediction_algorithms.matrix_factorization.SVD at 0x7f7122ce4790>"
      ]
     },
     "execution_count": 39,
     "metadata": {},
     "output_type": "execute_result"
    },
    {
     "name": "stdout",
     "output_type": "stream",
     "text": [
      "train RMSE,MAE: 0.852 0.651\n",
      "test RMSE,MAE: 0.885 0.676 \n",
      "\n",
      "\n",
      "nfactor, lr, reg: 26 0.001 0.02 \n",
      "\n"
     ]
    },
    {
     "data": {
      "text/plain": [
       "<surprise.prediction_algorithms.matrix_factorization.SVD at 0x7f7122ce46d0>"
      ]
     },
     "execution_count": 39,
     "metadata": {},
     "output_type": "execute_result"
    },
    {
     "name": "stdout",
     "output_type": "stream",
     "text": [
      "train RMSE,MAE: 0.852 0.651\n",
      "test RMSE,MAE: 0.886 0.677 \n",
      "\n",
      "\n",
      "nfactor, lr, reg: 26 0.001 0.04 \n",
      "\n"
     ]
    },
    {
     "data": {
      "text/plain": [
       "<surprise.prediction_algorithms.matrix_factorization.SVD at 0x7f7122ce4cd0>"
      ]
     },
     "execution_count": 39,
     "metadata": {},
     "output_type": "execute_result"
    },
    {
     "name": "stdout",
     "output_type": "stream",
     "text": [
      "train RMSE,MAE: 0.853 0.652\n",
      "test RMSE,MAE: 0.886 0.678 \n",
      "\n",
      "\n",
      "nfactor, lr, reg: 26 0.001 0.08 \n",
      "\n"
     ]
    },
    {
     "data": {
      "text/plain": [
       "<surprise.prediction_algorithms.matrix_factorization.SVD at 0x7f7122ce42e0>"
      ]
     },
     "execution_count": 39,
     "metadata": {},
     "output_type": "execute_result"
    },
    {
     "name": "stdout",
     "output_type": "stream",
     "text": [
      "train RMSE,MAE: 0.854 0.655\n",
      "test RMSE,MAE: 0.887 0.679 \n",
      "\n",
      "\n",
      "nfactor, lr, reg: 26 0.001 0.1 \n",
      "\n"
     ]
    },
    {
     "data": {
      "text/plain": [
       "<surprise.prediction_algorithms.matrix_factorization.SVD at 0x7f7122ce4430>"
      ]
     },
     "execution_count": 39,
     "metadata": {},
     "output_type": "execute_result"
    },
    {
     "name": "stdout",
     "output_type": "stream",
     "text": [
      "train RMSE,MAE: 0.855 0.656\n",
      "test RMSE,MAE: 0.886 0.680 \n",
      "\n",
      "\n",
      "nfactor, lr, reg: 26 0.001 0.2 \n",
      "\n"
     ]
    },
    {
     "data": {
      "text/plain": [
       "<surprise.prediction_algorithms.matrix_factorization.SVD at 0x7f7122ce41f0>"
      ]
     },
     "execution_count": 39,
     "metadata": {},
     "output_type": "execute_result"
    },
    {
     "name": "stdout",
     "output_type": "stream",
     "text": [
      "train RMSE,MAE: 0.858 0.661\n",
      "test RMSE,MAE: 0.888 0.684 \n",
      "\n",
      "\n",
      "nfactor, lr, reg: 26 0.001 0.4 \n",
      "\n"
     ]
    },
    {
     "data": {
      "text/plain": [
       "<surprise.prediction_algorithms.matrix_factorization.SVD at 0x7f7122ce4f70>"
      ]
     },
     "execution_count": 39,
     "metadata": {},
     "output_type": "execute_result"
    },
    {
     "name": "stdout",
     "output_type": "stream",
     "text": [
      "train RMSE,MAE: 0.865 0.671\n",
      "test RMSE,MAE: 0.893 0.691 \n",
      "\n",
      "\n",
      "nfactor, lr, reg: 26 0.001 0.8 \n",
      "\n"
     ]
    },
    {
     "data": {
      "text/plain": [
       "<surprise.prediction_algorithms.matrix_factorization.SVD at 0x7f7122ce4460>"
      ]
     },
     "execution_count": 39,
     "metadata": {},
     "output_type": "execute_result"
    },
    {
     "name": "stdout",
     "output_type": "stream",
     "text": [
      "train RMSE,MAE: 0.877 0.685\n",
      "test RMSE,MAE: 0.902 0.703 \n",
      "\n",
      "\n",
      "nfactor, lr, reg: 26 0.001 1 \n",
      "\n"
     ]
    },
    {
     "data": {
      "text/plain": [
       "<surprise.prediction_algorithms.matrix_factorization.SVD at 0x7f7122ce46a0>"
      ]
     },
     "execution_count": 39,
     "metadata": {},
     "output_type": "execute_result"
    },
    {
     "name": "stdout",
     "output_type": "stream",
     "text": [
      "train RMSE,MAE: 0.883 0.691\n",
      "test RMSE,MAE: 0.906 0.708 \n",
      "\n",
      "\n",
      "nfactor, lr, reg: 26 0.001 2 \n",
      "\n"
     ]
    },
    {
     "data": {
      "text/plain": [
       "<surprise.prediction_algorithms.matrix_factorization.SVD at 0x7f7122ce4df0>"
      ]
     },
     "execution_count": 39,
     "metadata": {},
     "output_type": "execute_result"
    },
    {
     "name": "stdout",
     "output_type": "stream",
     "text": [
      "train RMSE,MAE: 0.904 0.711\n",
      "test RMSE,MAE: 0.924 0.725 \n",
      "\n",
      "\n",
      "nfactor, lr, reg: 26 0.001 4 \n",
      "\n"
     ]
    },
    {
     "data": {
      "text/plain": [
       "<surprise.prediction_algorithms.matrix_factorization.SVD at 0x7f7122ce4a30>"
      ]
     },
     "execution_count": 39,
     "metadata": {},
     "output_type": "execute_result"
    },
    {
     "name": "stdout",
     "output_type": "stream",
     "text": [
      "train RMSE,MAE: 0.926 0.733\n",
      "test RMSE,MAE: 0.943 0.745 \n",
      "\n",
      "\n",
      "nfactor, lr, reg: 26 0.001 10 \n",
      "\n"
     ]
    },
    {
     "data": {
      "text/plain": [
       "<surprise.prediction_algorithms.matrix_factorization.SVD at 0x7f7122ce4e50>"
      ]
     },
     "execution_count": 39,
     "metadata": {},
     "output_type": "execute_result"
    },
    {
     "name": "stdout",
     "output_type": "stream",
     "text": [
      "train RMSE,MAE: 0.952 0.757\n",
      "test RMSE,MAE: 0.964 0.765 \n",
      "\n",
      "\n",
      "nfactor, lr, reg: 26 0.002 0.01 \n",
      "\n"
     ]
    },
    {
     "data": {
      "text/plain": [
       "<surprise.prediction_algorithms.matrix_factorization.SVD at 0x7f7122ce4790>"
      ]
     },
     "execution_count": 39,
     "metadata": {},
     "output_type": "execute_result"
    },
    {
     "name": "stdout",
     "output_type": "stream",
     "text": [
      "train RMSE,MAE: 0.815 0.618\n",
      "test RMSE,MAE: 0.873 0.662 \n",
      "\n",
      "\n",
      "nfactor, lr, reg: 26 0.002 0.02 \n",
      "\n"
     ]
    },
    {
     "data": {
      "text/plain": [
       "<surprise.prediction_algorithms.matrix_factorization.SVD at 0x7f7122ce46d0>"
      ]
     },
     "execution_count": 39,
     "metadata": {},
     "output_type": "execute_result"
    },
    {
     "name": "stdout",
     "output_type": "stream",
     "text": [
      "train RMSE,MAE: 0.816 0.619\n",
      "test RMSE,MAE: 0.873 0.662 \n",
      "\n",
      "\n",
      "nfactor, lr, reg: 26 0.002 0.04 \n",
      "\n"
     ]
    },
    {
     "data": {
      "text/plain": [
       "<surprise.prediction_algorithms.matrix_factorization.SVD at 0x7f7122ce4cd0>"
      ]
     },
     "execution_count": 39,
     "metadata": {},
     "output_type": "execute_result"
    },
    {
     "name": "stdout",
     "output_type": "stream",
     "text": [
      "train RMSE,MAE: 0.817 0.621\n",
      "test RMSE,MAE: 0.873 0.663 \n",
      "\n",
      "\n",
      "nfactor, lr, reg: 26 0.002 0.08 \n",
      "\n"
     ]
    },
    {
     "data": {
      "text/plain": [
       "<surprise.prediction_algorithms.matrix_factorization.SVD at 0x7f7122ce42e0>"
      ]
     },
     "execution_count": 39,
     "metadata": {},
     "output_type": "execute_result"
    },
    {
     "name": "stdout",
     "output_type": "stream",
     "text": [
      "train RMSE,MAE: 0.820 0.625\n",
      "test RMSE,MAE: 0.873 0.665 \n",
      "\n",
      "\n",
      "nfactor, lr, reg: 26 0.002 0.1 \n",
      "\n"
     ]
    },
    {
     "data": {
      "text/plain": [
       "<surprise.prediction_algorithms.matrix_factorization.SVD at 0x7f7122ce4430>"
      ]
     },
     "execution_count": 39,
     "metadata": {},
     "output_type": "execute_result"
    },
    {
     "name": "stdout",
     "output_type": "stream",
     "text": [
      "train RMSE,MAE: 0.822 0.627\n",
      "test RMSE,MAE: 0.874 0.666 \n",
      "\n",
      "\n",
      "nfactor, lr, reg: 26 0.002 0.2 \n",
      "\n"
     ]
    },
    {
     "data": {
      "text/plain": [
       "<surprise.prediction_algorithms.matrix_factorization.SVD at 0x7f7122ce41f0>"
      ]
     },
     "execution_count": 39,
     "metadata": {},
     "output_type": "execute_result"
    },
    {
     "name": "stdout",
     "output_type": "stream",
     "text": [
      "train RMSE,MAE: 0.828 0.635\n",
      "test RMSE,MAE: 0.875 0.671 \n",
      "\n",
      "\n",
      "nfactor, lr, reg: 26 0.002 0.4 \n",
      "\n"
     ]
    },
    {
     "data": {
      "text/plain": [
       "<surprise.prediction_algorithms.matrix_factorization.SVD at 0x7f7122ce4f70>"
      ]
     },
     "execution_count": 39,
     "metadata": {},
     "output_type": "execute_result"
    },
    {
     "name": "stdout",
     "output_type": "stream",
     "text": [
      "train RMSE,MAE: 0.838 0.648\n",
      "test RMSE,MAE: 0.880 0.680 \n",
      "\n",
      "\n",
      "nfactor, lr, reg: 26 0.002 0.8 \n",
      "\n"
     ]
    },
    {
     "data": {
      "text/plain": [
       "<surprise.prediction_algorithms.matrix_factorization.SVD at 0x7f7122ce4460>"
      ]
     },
     "execution_count": 39,
     "metadata": {},
     "output_type": "execute_result"
    },
    {
     "name": "stdout",
     "output_type": "stream",
     "text": [
      "train RMSE,MAE: 0.854 0.666\n",
      "test RMSE,MAE: 0.891 0.694 \n",
      "\n",
      "\n",
      "nfactor, lr, reg: 26 0.002 1 \n",
      "\n"
     ]
    },
    {
     "data": {
      "text/plain": [
       "<surprise.prediction_algorithms.matrix_factorization.SVD at 0x7f7122ce46a0>"
      ]
     },
     "execution_count": 39,
     "metadata": {},
     "output_type": "execute_result"
    },
    {
     "name": "stdout",
     "output_type": "stream",
     "text": [
      "train RMSE,MAE: 0.861 0.673\n",
      "test RMSE,MAE: 0.897 0.699 \n",
      "\n",
      "\n",
      "nfactor, lr, reg: 26 0.002 2 \n",
      "\n"
     ]
    },
    {
     "data": {
      "text/plain": [
       "<surprise.prediction_algorithms.matrix_factorization.SVD at 0x7f7122ce4df0>"
      ]
     },
     "execution_count": 39,
     "metadata": {},
     "output_type": "execute_result"
    },
    {
     "name": "stdout",
     "output_type": "stream",
     "text": [
      "train RMSE,MAE: 0.887 0.698\n",
      "test RMSE,MAE: 0.917 0.719 \n",
      "\n",
      "\n",
      "nfactor, lr, reg: 26 0.002 4 \n",
      "\n"
     ]
    },
    {
     "data": {
      "text/plain": [
       "<surprise.prediction_algorithms.matrix_factorization.SVD at 0x7f7122ce4a30>"
      ]
     },
     "execution_count": 39,
     "metadata": {},
     "output_type": "execute_result"
    },
    {
     "name": "stdout",
     "output_type": "stream",
     "text": [
      "train RMSE,MAE: 0.915 0.723\n",
      "test RMSE,MAE: 0.939 0.741 \n",
      "\n",
      "\n",
      "nfactor, lr, reg: 26 0.002 10 \n",
      "\n"
     ]
    },
    {
     "data": {
      "text/plain": [
       "<surprise.prediction_algorithms.matrix_factorization.SVD at 0x7f7122ce4e50>"
      ]
     },
     "execution_count": 39,
     "metadata": {},
     "output_type": "execute_result"
    },
    {
     "name": "stdout",
     "output_type": "stream",
     "text": [
      "train RMSE,MAE: 0.946 0.752\n",
      "test RMSE,MAE: 0.962 0.763 \n",
      "\n",
      "\n",
      "nfactor, lr, reg: 26 0.003 0.01 \n",
      "\n"
     ]
    },
    {
     "data": {
      "text/plain": [
       "<surprise.prediction_algorithms.matrix_factorization.SVD at 0x7f7122ce4790>"
      ]
     },
     "execution_count": 39,
     "metadata": {},
     "output_type": "execute_result"
    },
    {
     "name": "stdout",
     "output_type": "stream",
     "text": [
      "train RMSE,MAE: 0.786 0.593\n",
      "test RMSE,MAE: 0.868 0.655 \n",
      "\n",
      "\n",
      "nfactor, lr, reg: 26 0.003 0.02 \n",
      "\n"
     ]
    },
    {
     "data": {
      "text/plain": [
       "<surprise.prediction_algorithms.matrix_factorization.SVD at 0x7f7122ce46d0>"
      ]
     },
     "execution_count": 39,
     "metadata": {},
     "output_type": "execute_result"
    },
    {
     "name": "stdout",
     "output_type": "stream",
     "text": [
      "train RMSE,MAE: 0.788 0.595\n",
      "test RMSE,MAE: 0.867 0.655 \n",
      "\n",
      "\n",
      "nfactor, lr, reg: 26 0.003 0.04 \n",
      "\n"
     ]
    },
    {
     "data": {
      "text/plain": [
       "<surprise.prediction_algorithms.matrix_factorization.SVD at 0x7f7122ce4cd0>"
      ]
     },
     "execution_count": 39,
     "metadata": {},
     "output_type": "execute_result"
    },
    {
     "name": "stdout",
     "output_type": "stream",
     "text": [
      "train RMSE,MAE: 0.791 0.599\n",
      "test RMSE,MAE: 0.867 0.656 \n",
      "\n",
      "\n",
      "nfactor, lr, reg: 26 0.003 0.08 \n",
      "\n"
     ]
    },
    {
     "data": {
      "text/plain": [
       "<surprise.prediction_algorithms.matrix_factorization.SVD at 0x7f7122ce42e0>"
      ]
     },
     "execution_count": 39,
     "metadata": {},
     "output_type": "execute_result"
    },
    {
     "name": "stdout",
     "output_type": "stream",
     "text": [
      "train RMSE,MAE: 0.797 0.605\n",
      "test RMSE,MAE: 0.867 0.658 \n",
      "\n",
      "\n",
      "nfactor, lr, reg: 26 0.003 0.1 \n",
      "\n"
     ]
    },
    {
     "data": {
      "text/plain": [
       "<surprise.prediction_algorithms.matrix_factorization.SVD at 0x7f7122ce4430>"
      ]
     },
     "execution_count": 39,
     "metadata": {},
     "output_type": "execute_result"
    },
    {
     "name": "stdout",
     "output_type": "stream",
     "text": [
      "train RMSE,MAE: 0.799 0.608\n",
      "test RMSE,MAE: 0.867 0.659 \n",
      "\n",
      "\n",
      "nfactor, lr, reg: 26 0.003 0.2 \n",
      "\n"
     ]
    },
    {
     "data": {
      "text/plain": [
       "<surprise.prediction_algorithms.matrix_factorization.SVD at 0x7f7122ce41f0>"
      ]
     },
     "execution_count": 39,
     "metadata": {},
     "output_type": "execute_result"
    },
    {
     "name": "stdout",
     "output_type": "stream",
     "text": [
      "train RMSE,MAE: 0.808 0.618\n",
      "test RMSE,MAE: 0.869 0.665 \n",
      "\n",
      "\n",
      "nfactor, lr, reg: 26 0.003 0.4 \n",
      "\n"
     ]
    },
    {
     "data": {
      "text/plain": [
       "<surprise.prediction_algorithms.matrix_factorization.SVD at 0x7f7122ce4f70>"
      ]
     },
     "execution_count": 39,
     "metadata": {},
     "output_type": "execute_result"
    },
    {
     "name": "stdout",
     "output_type": "stream",
     "text": [
      "train RMSE,MAE: 0.820 0.634\n",
      "test RMSE,MAE: 0.874 0.675 \n",
      "\n",
      "\n",
      "nfactor, lr, reg: 26 0.003 0.8 \n",
      "\n"
     ]
    },
    {
     "data": {
      "text/plain": [
       "<surprise.prediction_algorithms.matrix_factorization.SVD at 0x7f7122ce4460>"
      ]
     },
     "execution_count": 39,
     "metadata": {},
     "output_type": "execute_result"
    },
    {
     "name": "stdout",
     "output_type": "stream",
     "text": [
      "train RMSE,MAE: 0.840 0.654\n",
      "test RMSE,MAE: 0.887 0.690 \n",
      "\n",
      "\n",
      "nfactor, lr, reg: 26 0.003 1 \n",
      "\n"
     ]
    },
    {
     "data": {
      "text/plain": [
       "<surprise.prediction_algorithms.matrix_factorization.SVD at 0x7f7122ce46a0>"
      ]
     },
     "execution_count": 39,
     "metadata": {},
     "output_type": "execute_result"
    },
    {
     "name": "stdout",
     "output_type": "stream",
     "text": [
      "train RMSE,MAE: 0.847 0.662\n",
      "test RMSE,MAE: 0.892 0.696 \n",
      "\n",
      "\n",
      "nfactor, lr, reg: 26 0.003 2 \n",
      "\n"
     ]
    },
    {
     "data": {
      "text/plain": [
       "<surprise.prediction_algorithms.matrix_factorization.SVD at 0x7f7122ce4df0>"
      ]
     },
     "execution_count": 39,
     "metadata": {},
     "output_type": "execute_result"
    },
    {
     "name": "stdout",
     "output_type": "stream",
     "text": [
      "train RMSE,MAE: 0.876 0.689\n",
      "test RMSE,MAE: 0.914 0.717 \n",
      "\n",
      "\n",
      "nfactor, lr, reg: 26 0.003 4 \n",
      "\n"
     ]
    },
    {
     "data": {
      "text/plain": [
       "<surprise.prediction_algorithms.matrix_factorization.SVD at 0x7f7122ce4a30>"
      ]
     },
     "execution_count": 39,
     "metadata": {},
     "output_type": "execute_result"
    },
    {
     "name": "stdout",
     "output_type": "stream",
     "text": [
      "train RMSE,MAE: 0.907 0.717\n",
      "test RMSE,MAE: 0.937 0.739 \n",
      "\n",
      "\n",
      "nfactor, lr, reg: 26 0.003 10 \n",
      "\n"
     ]
    },
    {
     "data": {
      "text/plain": [
       "<surprise.prediction_algorithms.matrix_factorization.SVD at 0x7f7122ce4e50>"
      ]
     },
     "execution_count": 39,
     "metadata": {},
     "output_type": "execute_result"
    },
    {
     "name": "stdout",
     "output_type": "stream",
     "text": [
      "train RMSE,MAE: 0.943 0.750\n",
      "test RMSE,MAE: 0.961 0.762 \n",
      "\n",
      "\n",
      "nfactor, lr, reg: 26 0.004 0.01 \n",
      "\n"
     ]
    },
    {
     "data": {
      "text/plain": [
       "<surprise.prediction_algorithms.matrix_factorization.SVD at 0x7f7122ce4790>"
      ]
     },
     "execution_count": 39,
     "metadata": {},
     "output_type": "execute_result"
    },
    {
     "name": "stdout",
     "output_type": "stream",
     "text": [
      "train RMSE,MAE: 0.757 0.571\n",
      "test RMSE,MAE: 0.863 0.650 \n",
      "\n",
      "\n",
      "nfactor, lr, reg: 26 0.004 0.02 \n",
      "\n"
     ]
    },
    {
     "data": {
      "text/plain": [
       "<surprise.prediction_algorithms.matrix_factorization.SVD at 0x7f7122ce46d0>"
      ]
     },
     "execution_count": 39,
     "metadata": {},
     "output_type": "execute_result"
    },
    {
     "name": "stdout",
     "output_type": "stream",
     "text": [
      "train RMSE,MAE: 0.762 0.574\n",
      "test RMSE,MAE: 0.863 0.650 \n",
      "\n",
      "\n",
      "nfactor, lr, reg: 26 0.004 0.04 \n",
      "\n"
     ]
    },
    {
     "data": {
      "text/plain": [
       "<surprise.prediction_algorithms.matrix_factorization.SVD at 0x7f7122ce4cd0>"
      ]
     },
     "execution_count": 39,
     "metadata": {},
     "output_type": "execute_result"
    },
    {
     "name": "stdout",
     "output_type": "stream",
     "text": [
      "train RMSE,MAE: 0.768 0.580\n",
      "test RMSE,MAE: 0.863 0.651 \n",
      "\n",
      "\n",
      "nfactor, lr, reg: 26 0.004 0.08 \n",
      "\n"
     ]
    },
    {
     "data": {
      "text/plain": [
       "<surprise.prediction_algorithms.matrix_factorization.SVD at 0x7f7122ce42e0>"
      ]
     },
     "execution_count": 39,
     "metadata": {},
     "output_type": "execute_result"
    },
    {
     "name": "stdout",
     "output_type": "stream",
     "text": [
      "train RMSE,MAE: 0.777 0.589\n",
      "test RMSE,MAE: 0.863 0.653 \n",
      "\n",
      "\n",
      "nfactor, lr, reg: 26 0.004 0.1 \n",
      "\n"
     ]
    },
    {
     "data": {
      "text/plain": [
       "<surprise.prediction_algorithms.matrix_factorization.SVD at 0x7f7122ce4430>"
      ]
     },
     "execution_count": 39,
     "metadata": {},
     "output_type": "execute_result"
    },
    {
     "name": "stdout",
     "output_type": "stream",
     "text": [
      "train RMSE,MAE: 0.780 0.593\n",
      "test RMSE,MAE: 0.863 0.654 \n",
      "\n",
      "\n",
      "nfactor, lr, reg: 26 0.004 0.2 \n",
      "\n"
     ]
    },
    {
     "data": {
      "text/plain": [
       "<surprise.prediction_algorithms.matrix_factorization.SVD at 0x7f7122ce41f0>"
      ]
     },
     "execution_count": 39,
     "metadata": {},
     "output_type": "execute_result"
    },
    {
     "name": "stdout",
     "output_type": "stream",
     "text": [
      "train RMSE,MAE: 0.792 0.606\n",
      "test RMSE,MAE: 0.865 0.661 \n",
      "\n",
      "\n",
      "nfactor, lr, reg: 26 0.004 0.4 \n",
      "\n"
     ]
    },
    {
     "data": {
      "text/plain": [
       "<surprise.prediction_algorithms.matrix_factorization.SVD at 0x7f7122ce4f70>"
      ]
     },
     "execution_count": 39,
     "metadata": {},
     "output_type": "execute_result"
    },
    {
     "name": "stdout",
     "output_type": "stream",
     "text": [
      "train RMSE,MAE: 0.807 0.623\n",
      "test RMSE,MAE: 0.871 0.671 \n",
      "\n",
      "\n",
      "nfactor, lr, reg: 26 0.004 0.8 \n",
      "\n"
     ]
    },
    {
     "data": {
      "text/plain": [
       "<surprise.prediction_algorithms.matrix_factorization.SVD at 0x7f7122ce4460>"
      ]
     },
     "execution_count": 39,
     "metadata": {},
     "output_type": "execute_result"
    },
    {
     "name": "stdout",
     "output_type": "stream",
     "text": [
      "train RMSE,MAE: 0.829 0.645\n",
      "test RMSE,MAE: 0.884 0.687 \n",
      "\n",
      "\n",
      "nfactor, lr, reg: 26 0.004 1 \n",
      "\n"
     ]
    },
    {
     "data": {
      "text/plain": [
       "<surprise.prediction_algorithms.matrix_factorization.SVD at 0x7f7122ce46a0>"
      ]
     },
     "execution_count": 39,
     "metadata": {},
     "output_type": "execute_result"
    },
    {
     "name": "stdout",
     "output_type": "stream",
     "text": [
      "train RMSE,MAE: 0.837 0.654\n",
      "test RMSE,MAE: 0.890 0.693 \n",
      "\n",
      "\n",
      "nfactor, lr, reg: 26 0.004 2 \n",
      "\n"
     ]
    },
    {
     "data": {
      "text/plain": [
       "<surprise.prediction_algorithms.matrix_factorization.SVD at 0x7f7122ce4df0>"
      ]
     },
     "execution_count": 39,
     "metadata": {},
     "output_type": "execute_result"
    },
    {
     "name": "stdout",
     "output_type": "stream",
     "text": [
      "train RMSE,MAE: 0.868 0.682\n",
      "test RMSE,MAE: 0.912 0.715 \n",
      "\n",
      "\n",
      "nfactor, lr, reg: 26 0.004 4 \n",
      "\n"
     ]
    },
    {
     "data": {
      "text/plain": [
       "<surprise.prediction_algorithms.matrix_factorization.SVD at 0x7f7122ce4a30>"
      ]
     },
     "execution_count": 39,
     "metadata": {},
     "output_type": "execute_result"
    },
    {
     "name": "stdout",
     "output_type": "stream",
     "text": [
      "train RMSE,MAE: 0.903 0.713\n",
      "test RMSE,MAE: 0.935 0.737 \n",
      "\n",
      "\n",
      "nfactor, lr, reg: 26 0.004 10 \n",
      "\n"
     ]
    },
    {
     "data": {
      "text/plain": [
       "<surprise.prediction_algorithms.matrix_factorization.SVD at 0x7f7122ce4e50>"
      ]
     },
     "execution_count": 39,
     "metadata": {},
     "output_type": "execute_result"
    },
    {
     "name": "stdout",
     "output_type": "stream",
     "text": [
      "train RMSE,MAE: 0.942 0.749\n",
      "test RMSE,MAE: 0.961 0.761 \n",
      "\n",
      "\n",
      "nfactor, lr, reg: 26 0.005 0.01 \n",
      "\n"
     ]
    },
    {
     "data": {
      "text/plain": [
       "<surprise.prediction_algorithms.matrix_factorization.SVD at 0x7f7122ce4790>"
      ]
     },
     "execution_count": 39,
     "metadata": {},
     "output_type": "execute_result"
    },
    {
     "name": "stdout",
     "output_type": "stream",
     "text": [
      "train RMSE,MAE: 0.728 0.548\n",
      "test RMSE,MAE: 0.862 0.648 \n",
      "\n",
      "\n",
      "nfactor, lr, reg: 26 0.005 0.02 \n",
      "\n"
     ]
    },
    {
     "data": {
      "text/plain": [
       "<surprise.prediction_algorithms.matrix_factorization.SVD at 0x7f7122ce46d0>"
      ]
     },
     "execution_count": 39,
     "metadata": {},
     "output_type": "execute_result"
    },
    {
     "name": "stdout",
     "output_type": "stream",
     "text": [
      "train RMSE,MAE: 0.733 0.553\n",
      "test RMSE,MAE: 0.861 0.648 \n",
      "\n",
      "\n",
      "nfactor, lr, reg: 26 0.005 0.04 \n",
      "\n"
     ]
    },
    {
     "data": {
      "text/plain": [
       "<surprise.prediction_algorithms.matrix_factorization.SVD at 0x7f7122ce4cd0>"
      ]
     },
     "execution_count": 39,
     "metadata": {},
     "output_type": "execute_result"
    },
    {
     "name": "stdout",
     "output_type": "stream",
     "text": [
      "train RMSE,MAE: 0.744 0.562\n",
      "test RMSE,MAE: 0.861 0.648 \n",
      "\n",
      "\n",
      "nfactor, lr, reg: 26 0.005 0.08 \n",
      "\n"
     ]
    },
    {
     "data": {
      "text/plain": [
       "<surprise.prediction_algorithms.matrix_factorization.SVD at 0x7f7122ce42e0>"
      ]
     },
     "execution_count": 39,
     "metadata": {},
     "output_type": "execute_result"
    },
    {
     "name": "stdout",
     "output_type": "stream",
     "text": [
      "train RMSE,MAE: 0.758 0.574\n",
      "test RMSE,MAE: 0.860 0.650 \n",
      "\n",
      "\n",
      "nfactor, lr, reg: 26 0.005 0.1 \n",
      "\n"
     ]
    },
    {
     "data": {
      "text/plain": [
       "<surprise.prediction_algorithms.matrix_factorization.SVD at 0x7f7122ce4430>"
      ]
     },
     "execution_count": 39,
     "metadata": {},
     "output_type": "execute_result"
    },
    {
     "name": "stdout",
     "output_type": "stream",
     "text": [
      "train RMSE,MAE: 0.763 0.579\n",
      "test RMSE,MAE: 0.861 0.652 \n",
      "\n",
      "\n",
      "nfactor, lr, reg: 26 0.005 0.2 \n",
      "\n"
     ]
    },
    {
     "data": {
      "text/plain": [
       "<surprise.prediction_algorithms.matrix_factorization.SVD at 0x7f7122ce41f0>"
      ]
     },
     "execution_count": 39,
     "metadata": {},
     "output_type": "execute_result"
    },
    {
     "name": "stdout",
     "output_type": "stream",
     "text": [
      "train RMSE,MAE: 0.779 0.595\n",
      "test RMSE,MAE: 0.863 0.658 \n",
      "\n",
      "\n",
      "nfactor, lr, reg: 26 0.005 0.4 \n",
      "\n"
     ]
    },
    {
     "data": {
      "text/plain": [
       "<surprise.prediction_algorithms.matrix_factorization.SVD at 0x7f7122ce4f70>"
      ]
     },
     "execution_count": 39,
     "metadata": {},
     "output_type": "execute_result"
    },
    {
     "name": "stdout",
     "output_type": "stream",
     "text": [
      "train RMSE,MAE: 0.797 0.614\n",
      "test RMSE,MAE: 0.869 0.668 \n",
      "\n",
      "\n",
      "nfactor, lr, reg: 26 0.005 0.8 \n",
      "\n"
     ]
    },
    {
     "data": {
      "text/plain": [
       "<surprise.prediction_algorithms.matrix_factorization.SVD at 0x7f7122ce4460>"
      ]
     },
     "execution_count": 39,
     "metadata": {},
     "output_type": "execute_result"
    },
    {
     "name": "stdout",
     "output_type": "stream",
     "text": [
      "train RMSE,MAE: 0.820 0.638\n",
      "test RMSE,MAE: 0.882 0.685 \n",
      "\n",
      "\n",
      "nfactor, lr, reg: 26 0.005 1 \n",
      "\n"
     ]
    },
    {
     "data": {
      "text/plain": [
       "<surprise.prediction_algorithms.matrix_factorization.SVD at 0x7f7122ce46a0>"
      ]
     },
     "execution_count": 39,
     "metadata": {},
     "output_type": "execute_result"
    },
    {
     "name": "stdout",
     "output_type": "stream",
     "text": [
      "train RMSE,MAE: 0.829 0.647\n",
      "test RMSE,MAE: 0.888 0.692 \n",
      "\n",
      "\n",
      "nfactor, lr, reg: 26 0.005 2 \n",
      "\n"
     ]
    },
    {
     "data": {
      "text/plain": [
       "<surprise.prediction_algorithms.matrix_factorization.SVD at 0x7f7122ce4df0>"
      ]
     },
     "execution_count": 39,
     "metadata": {},
     "output_type": "execute_result"
    },
    {
     "name": "stdout",
     "output_type": "stream",
     "text": [
      "train RMSE,MAE: 0.863 0.678\n",
      "test RMSE,MAE: 0.911 0.714 \n",
      "\n",
      "\n",
      "nfactor, lr, reg: 26 0.005 4 \n",
      "\n"
     ]
    },
    {
     "data": {
      "text/plain": [
       "<surprise.prediction_algorithms.matrix_factorization.SVD at 0x7f7122ce4a30>"
      ]
     },
     "execution_count": 39,
     "metadata": {},
     "output_type": "execute_result"
    },
    {
     "name": "stdout",
     "output_type": "stream",
     "text": [
      "train RMSE,MAE: 0.899 0.711\n",
      "test RMSE,MAE: 0.935 0.736 \n",
      "\n",
      "\n",
      "nfactor, lr, reg: 26 0.005 10 \n",
      "\n"
     ]
    },
    {
     "data": {
      "text/plain": [
       "<surprise.prediction_algorithms.matrix_factorization.SVD at 0x7f7122ce4e50>"
      ]
     },
     "execution_count": 39,
     "metadata": {},
     "output_type": "execute_result"
    },
    {
     "name": "stdout",
     "output_type": "stream",
     "text": [
      "train RMSE,MAE: 0.941 0.748\n",
      "test RMSE,MAE: 0.960 0.761 \n",
      "\n",
      "\n",
      "nfactor, lr, reg: 26 0.006 0.01 \n",
      "\n"
     ]
    },
    {
     "data": {
      "text/plain": [
       "<surprise.prediction_algorithms.matrix_factorization.SVD at 0x7f7122ce4790>"
      ]
     },
     "execution_count": 39,
     "metadata": {},
     "output_type": "execute_result"
    },
    {
     "name": "stdout",
     "output_type": "stream",
     "text": [
      "train RMSE,MAE: 0.692 0.521\n",
      "test RMSE,MAE: 0.860 0.644 \n",
      "\n",
      "\n",
      "nfactor, lr, reg: 26 0.006 0.02 \n",
      "\n"
     ]
    },
    {
     "data": {
      "text/plain": [
       "<surprise.prediction_algorithms.matrix_factorization.SVD at 0x7f7122ce46d0>"
      ]
     },
     "execution_count": 39,
     "metadata": {},
     "output_type": "execute_result"
    },
    {
     "name": "stdout",
     "output_type": "stream",
     "text": [
      "train RMSE,MAE: 0.706 0.532\n",
      "test RMSE,MAE: 0.860 0.645 \n",
      "\n",
      "\n",
      "nfactor, lr, reg: 26 0.006 0.04 \n",
      "\n"
     ]
    },
    {
     "data": {
      "text/plain": [
       "<surprise.prediction_algorithms.matrix_factorization.SVD at 0x7f7122ce42e0>"
      ]
     },
     "execution_count": 39,
     "metadata": {},
     "output_type": "execute_result"
    },
    {
     "name": "stdout",
     "output_type": "stream",
     "text": [
      "train RMSE,MAE: 0.720 0.544\n",
      "test RMSE,MAE: 0.858 0.645 \n",
      "\n",
      "\n",
      "nfactor, lr, reg: 26 0.006 0.08 \n",
      "\n"
     ]
    },
    {
     "data": {
      "text/plain": [
       "<surprise.prediction_algorithms.matrix_factorization.SVD at 0x7f7122ce4e80>"
      ]
     },
     "execution_count": 39,
     "metadata": {},
     "output_type": "execute_result"
    },
    {
     "name": "stdout",
     "output_type": "stream",
     "text": [
      "train RMSE,MAE: 0.742 0.562\n",
      "test RMSE,MAE: 0.859 0.648 \n",
      "\n",
      "\n",
      "nfactor, lr, reg: 26 0.006 0.1 \n",
      "\n"
     ]
    },
    {
     "data": {
      "text/plain": [
       "<surprise.prediction_algorithms.matrix_factorization.SVD at 0x7f7122ce4430>"
      ]
     },
     "execution_count": 39,
     "metadata": {},
     "output_type": "execute_result"
    },
    {
     "name": "stdout",
     "output_type": "stream",
     "text": [
      "train RMSE,MAE: 0.747 0.567\n",
      "test RMSE,MAE: 0.859 0.649 \n",
      "\n",
      "\n",
      "nfactor, lr, reg: 26 0.006 0.2 \n",
      "\n"
     ]
    },
    {
     "data": {
      "text/plain": [
       "<surprise.prediction_algorithms.matrix_factorization.SVD at 0x7f7122ce41f0>"
      ]
     },
     "execution_count": 39,
     "metadata": {},
     "output_type": "execute_result"
    },
    {
     "name": "stdout",
     "output_type": "stream",
     "text": [
      "train RMSE,MAE: 0.768 0.586\n",
      "test RMSE,MAE: 0.861 0.656 \n",
      "\n",
      "\n",
      "nfactor, lr, reg: 26 0.006 0.4 \n",
      "\n"
     ]
    },
    {
     "data": {
      "text/plain": [
       "<surprise.prediction_algorithms.matrix_factorization.SVD at 0x7f7122ce4f70>"
      ]
     },
     "execution_count": 39,
     "metadata": {},
     "output_type": "execute_result"
    },
    {
     "name": "stdout",
     "output_type": "stream",
     "text": [
      "train RMSE,MAE: 0.788 0.607\n",
      "test RMSE,MAE: 0.867 0.667 \n",
      "\n",
      "\n",
      "nfactor, lr, reg: 26 0.006 0.8 \n",
      "\n"
     ]
    },
    {
     "data": {
      "text/plain": [
       "<surprise.prediction_algorithms.matrix_factorization.SVD at 0x7f7122ce4460>"
      ]
     },
     "execution_count": 39,
     "metadata": {},
     "output_type": "execute_result"
    },
    {
     "name": "stdout",
     "output_type": "stream",
     "text": [
      "train RMSE,MAE: 0.813 0.632\n",
      "test RMSE,MAE: 0.881 0.684 \n",
      "\n",
      "\n",
      "nfactor, lr, reg: 26 0.006 1 \n",
      "\n"
     ]
    },
    {
     "data": {
      "text/plain": [
       "<surprise.prediction_algorithms.matrix_factorization.SVD at 0x7f7122ce46a0>"
      ]
     },
     "execution_count": 39,
     "metadata": {},
     "output_type": "execute_result"
    },
    {
     "name": "stdout",
     "output_type": "stream",
     "text": [
      "train RMSE,MAE: 0.822 0.642\n",
      "test RMSE,MAE: 0.887 0.690 \n",
      "\n",
      "\n",
      "nfactor, lr, reg: 26 0.006 2 \n",
      "\n"
     ]
    },
    {
     "data": {
      "text/plain": [
       "<surprise.prediction_algorithms.matrix_factorization.SVD at 0x7f7122ce4df0>"
      ]
     },
     "execution_count": 39,
     "metadata": {},
     "output_type": "execute_result"
    },
    {
     "name": "stdout",
     "output_type": "stream",
     "text": [
      "train RMSE,MAE: 0.858 0.674\n",
      "test RMSE,MAE: 0.910 0.713 \n",
      "\n",
      "\n",
      "nfactor, lr, reg: 26 0.006 4 \n",
      "\n"
     ]
    },
    {
     "data": {
      "text/plain": [
       "<surprise.prediction_algorithms.matrix_factorization.SVD at 0x7f7122ce4a30>"
      ]
     },
     "execution_count": 39,
     "metadata": {},
     "output_type": "execute_result"
    },
    {
     "name": "stdout",
     "output_type": "stream",
     "text": [
      "train RMSE,MAE: 0.897 0.709\n",
      "test RMSE,MAE: 0.934 0.736 \n",
      "\n",
      "\n",
      "nfactor, lr, reg: 26 0.006 10 \n",
      "\n"
     ]
    },
    {
     "data": {
      "text/plain": [
       "<surprise.prediction_algorithms.matrix_factorization.SVD at 0x7f7122ce4e50>"
      ]
     },
     "execution_count": 39,
     "metadata": {},
     "output_type": "execute_result"
    },
    {
     "name": "stdout",
     "output_type": "stream",
     "text": [
      "train RMSE,MAE: 0.941 0.748\n",
      "test RMSE,MAE: 0.960 0.761 \n",
      "\n",
      "\n",
      "nfactor, lr, reg: 26 0.007 0.01 \n",
      "\n"
     ]
    },
    {
     "data": {
      "text/plain": [
       "<surprise.prediction_algorithms.matrix_factorization.SVD at 0x7f7122ce4790>"
      ]
     },
     "execution_count": 39,
     "metadata": {},
     "output_type": "execute_result"
    },
    {
     "name": "stdout",
     "output_type": "stream",
     "text": [
      "train RMSE,MAE: 0.660 0.497\n",
      "test RMSE,MAE: 0.860 0.643 \n",
      "\n",
      "\n",
      "nfactor, lr, reg: 26 0.007 0.02 \n",
      "\n"
     ]
    },
    {
     "data": {
      "text/plain": [
       "<surprise.prediction_algorithms.matrix_factorization.SVD at 0x7f7122ce46d0>"
      ]
     },
     "execution_count": 39,
     "metadata": {},
     "output_type": "execute_result"
    },
    {
     "name": "stdout",
     "output_type": "stream",
     "text": [
      "train RMSE,MAE: 0.673 0.508\n",
      "test RMSE,MAE: 0.858 0.643 \n",
      "\n",
      "\n",
      "nfactor, lr, reg: 26 0.007 0.04 \n",
      "\n"
     ]
    },
    {
     "data": {
      "text/plain": [
       "<surprise.prediction_algorithms.matrix_factorization.SVD at 0x7f7122ce42e0>"
      ]
     },
     "execution_count": 39,
     "metadata": {},
     "output_type": "execute_result"
    },
    {
     "name": "stdout",
     "output_type": "stream",
     "text": [
      "train RMSE,MAE: 0.696 0.526\n",
      "test RMSE,MAE: 0.858 0.644 \n",
      "\n",
      "\n",
      "nfactor, lr, reg: 26 0.007 0.08 \n",
      "\n"
     ]
    },
    {
     "data": {
      "text/plain": [
       "<surprise.prediction_algorithms.matrix_factorization.SVD at 0x7f7122ce4e80>"
      ]
     },
     "execution_count": 39,
     "metadata": {},
     "output_type": "execute_result"
    },
    {
     "name": "stdout",
     "output_type": "stream",
     "text": [
      "train RMSE,MAE: 0.724 0.548\n",
      "test RMSE,MAE: 0.857 0.646 \n",
      "\n",
      "\n",
      "nfactor, lr, reg: 26 0.007 0.1 \n",
      "\n"
     ]
    },
    {
     "data": {
      "text/plain": [
       "<surprise.prediction_algorithms.matrix_factorization.SVD at 0x7f7122ce4430>"
      ]
     },
     "execution_count": 39,
     "metadata": {},
     "output_type": "execute_result"
    },
    {
     "name": "stdout",
     "output_type": "stream",
     "text": [
      "train RMSE,MAE: 0.731 0.554\n",
      "test RMSE,MAE: 0.858 0.647 \n",
      "\n",
      "\n",
      "nfactor, lr, reg: 26 0.007 0.2 \n",
      "\n"
     ]
    },
    {
     "data": {
      "text/plain": [
       "<surprise.prediction_algorithms.matrix_factorization.SVD at 0x7f7122ce41f0>"
      ]
     },
     "execution_count": 39,
     "metadata": {},
     "output_type": "execute_result"
    },
    {
     "name": "stdout",
     "output_type": "stream",
     "text": [
      "train RMSE,MAE: 0.758 0.578\n",
      "test RMSE,MAE: 0.860 0.654 \n",
      "\n",
      "\n",
      "nfactor, lr, reg: 26 0.007 0.4 \n",
      "\n"
     ]
    },
    {
     "data": {
      "text/plain": [
       "<surprise.prediction_algorithms.matrix_factorization.SVD at 0x7f7122ce4f70>"
      ]
     },
     "execution_count": 39,
     "metadata": {},
     "output_type": "execute_result"
    },
    {
     "name": "stdout",
     "output_type": "stream",
     "text": [
      "train RMSE,MAE: 0.781 0.601\n",
      "test RMSE,MAE: 0.866 0.666 \n",
      "\n",
      "\n",
      "nfactor, lr, reg: 26 0.007 0.8 \n",
      "\n"
     ]
    },
    {
     "data": {
      "text/plain": [
       "<surprise.prediction_algorithms.matrix_factorization.SVD at 0x7f7122ce4460>"
      ]
     },
     "execution_count": 39,
     "metadata": {},
     "output_type": "execute_result"
    },
    {
     "name": "stdout",
     "output_type": "stream",
     "text": [
      "train RMSE,MAE: 0.807 0.627\n",
      "test RMSE,MAE: 0.880 0.683 \n",
      "\n",
      "\n",
      "nfactor, lr, reg: 26 0.007 1 \n",
      "\n"
     ]
    },
    {
     "data": {
      "text/plain": [
       "<surprise.prediction_algorithms.matrix_factorization.SVD at 0x7f7122ce46a0>"
      ]
     },
     "execution_count": 39,
     "metadata": {},
     "output_type": "execute_result"
    },
    {
     "name": "stdout",
     "output_type": "stream",
     "text": [
      "train RMSE,MAE: 0.817 0.637\n",
      "test RMSE,MAE: 0.886 0.690 \n",
      "\n",
      "\n",
      "nfactor, lr, reg: 26 0.007 2 \n",
      "\n"
     ]
    },
    {
     "data": {
      "text/plain": [
       "<surprise.prediction_algorithms.matrix_factorization.SVD at 0x7f7122ce4df0>"
      ]
     },
     "execution_count": 39,
     "metadata": {},
     "output_type": "execute_result"
    },
    {
     "name": "stdout",
     "output_type": "stream",
     "text": [
      "train RMSE,MAE: 0.855 0.671\n",
      "test RMSE,MAE: 0.909 0.712 \n",
      "\n",
      "\n",
      "nfactor, lr, reg: 26 0.007 4 \n",
      "\n"
     ]
    },
    {
     "data": {
      "text/plain": [
       "<surprise.prediction_algorithms.matrix_factorization.SVD at 0x7f7122ce4a30>"
      ]
     },
     "execution_count": 39,
     "metadata": {},
     "output_type": "execute_result"
    },
    {
     "name": "stdout",
     "output_type": "stream",
     "text": [
      "train RMSE,MAE: 0.896 0.707\n",
      "test RMSE,MAE: 0.934 0.736 \n",
      "\n",
      "\n",
      "nfactor, lr, reg: 26 0.007 10 \n",
      "\n"
     ]
    },
    {
     "data": {
      "text/plain": [
       "<surprise.prediction_algorithms.matrix_factorization.SVD at 0x7f7122ce4e50>"
      ]
     },
     "execution_count": 39,
     "metadata": {},
     "output_type": "execute_result"
    },
    {
     "name": "stdout",
     "output_type": "stream",
     "text": [
      "train RMSE,MAE: 0.941 0.748\n",
      "test RMSE,MAE: 0.960 0.761 \n",
      "\n",
      "\n",
      "nfactor, lr, reg: 26 0.008 0.01 \n",
      "\n"
     ]
    },
    {
     "data": {
      "text/plain": [
       "<surprise.prediction_algorithms.matrix_factorization.SVD at 0x7f7122ce4790>"
      ]
     },
     "execution_count": 39,
     "metadata": {},
     "output_type": "execute_result"
    },
    {
     "name": "stdout",
     "output_type": "stream",
     "text": [
      "train RMSE,MAE: 0.621 0.467\n",
      "test RMSE,MAE: 0.858 0.640 \n",
      "\n",
      "\n",
      "nfactor, lr, reg: 26 0.008 0.02 \n",
      "\n"
     ]
    },
    {
     "data": {
      "text/plain": [
       "<surprise.prediction_algorithms.matrix_factorization.SVD at 0x7f7122ce46d0>"
      ]
     },
     "execution_count": 39,
     "metadata": {},
     "output_type": "execute_result"
    },
    {
     "name": "stdout",
     "output_type": "stream",
     "text": [
      "train RMSE,MAE: 0.641 0.483\n",
      "test RMSE,MAE: 0.858 0.641 \n",
      "\n",
      "\n",
      "nfactor, lr, reg: 26 0.008 0.04 \n",
      "\n"
     ]
    },
    {
     "data": {
      "text/plain": [
       "<surprise.prediction_algorithms.matrix_factorization.SVD at 0x7f7122ce42e0>"
      ]
     },
     "execution_count": 39,
     "metadata": {},
     "output_type": "execute_result"
    },
    {
     "name": "stdout",
     "output_type": "stream",
     "text": [
      "train RMSE,MAE: 0.670 0.506\n",
      "test RMSE,MAE: 0.857 0.643 \n",
      "\n",
      "\n",
      "nfactor, lr, reg: 26 0.008 0.08 \n",
      "\n"
     ]
    },
    {
     "data": {
      "text/plain": [
       "<surprise.prediction_algorithms.matrix_factorization.SVD at 0x7f7122ce4e80>"
      ]
     },
     "execution_count": 39,
     "metadata": {},
     "output_type": "execute_result"
    },
    {
     "name": "stdout",
     "output_type": "stream",
     "text": [
      "train RMSE,MAE: 0.705 0.534\n",
      "test RMSE,MAE: 0.857 0.645 \n",
      "\n",
      "\n",
      "nfactor, lr, reg: 26 0.008 0.1 \n",
      "\n"
     ]
    },
    {
     "data": {
      "text/plain": [
       "<surprise.prediction_algorithms.matrix_factorization.SVD at 0x7f7122ce4430>"
      ]
     },
     "execution_count": 39,
     "metadata": {},
     "output_type": "execute_result"
    },
    {
     "name": "stdout",
     "output_type": "stream",
     "text": [
      "train RMSE,MAE: 0.717 0.544\n",
      "test RMSE,MAE: 0.857 0.646 \n",
      "\n",
      "\n",
      "nfactor, lr, reg: 26 0.008 0.2 \n",
      "\n"
     ]
    },
    {
     "data": {
      "text/plain": [
       "<surprise.prediction_algorithms.matrix_factorization.SVD at 0x7f7122ce41f0>"
      ]
     },
     "execution_count": 39,
     "metadata": {},
     "output_type": "execute_result"
    },
    {
     "name": "stdout",
     "output_type": "stream",
     "text": [
      "train RMSE,MAE: 0.750 0.571\n",
      "test RMSE,MAE: 0.860 0.653 \n",
      "\n",
      "\n",
      "nfactor, lr, reg: 26 0.008 0.4 \n",
      "\n"
     ]
    },
    {
     "data": {
      "text/plain": [
       "<surprise.prediction_algorithms.matrix_factorization.SVD at 0x7f7122ce4f70>"
      ]
     },
     "execution_count": 39,
     "metadata": {},
     "output_type": "execute_result"
    },
    {
     "name": "stdout",
     "output_type": "stream",
     "text": [
      "train RMSE,MAE: 0.775 0.595\n",
      "test RMSE,MAE: 0.866 0.665 \n",
      "\n",
      "\n",
      "nfactor, lr, reg: 26 0.008 0.8 \n",
      "\n"
     ]
    },
    {
     "data": {
      "text/plain": [
       "<surprise.prediction_algorithms.matrix_factorization.SVD at 0x7f7122ce4460>"
      ]
     },
     "execution_count": 39,
     "metadata": {},
     "output_type": "execute_result"
    },
    {
     "name": "stdout",
     "output_type": "stream",
     "text": [
      "train RMSE,MAE: 0.802 0.623\n",
      "test RMSE,MAE: 0.880 0.682 \n",
      "\n",
      "\n",
      "nfactor, lr, reg: 26 0.008 1 \n",
      "\n"
     ]
    },
    {
     "data": {
      "text/plain": [
       "<surprise.prediction_algorithms.matrix_factorization.SVD at 0x7f7122ce46a0>"
      ]
     },
     "execution_count": 39,
     "metadata": {},
     "output_type": "execute_result"
    },
    {
     "name": "stdout",
     "output_type": "stream",
     "text": [
      "train RMSE,MAE: 0.813 0.633\n",
      "test RMSE,MAE: 0.886 0.689 \n",
      "\n",
      "\n",
      "nfactor, lr, reg: 26 0.008 2 \n",
      "\n"
     ]
    },
    {
     "data": {
      "text/plain": [
       "<surprise.prediction_algorithms.matrix_factorization.SVD at 0x7f7122ce4df0>"
      ]
     },
     "execution_count": 39,
     "metadata": {},
     "output_type": "execute_result"
    },
    {
     "name": "stdout",
     "output_type": "stream",
     "text": [
      "train RMSE,MAE: 0.852 0.669\n",
      "test RMSE,MAE: 0.909 0.712 \n",
      "\n",
      "\n",
      "nfactor, lr, reg: 26 0.008 4 \n",
      "\n"
     ]
    },
    {
     "data": {
      "text/plain": [
       "<surprise.prediction_algorithms.matrix_factorization.SVD at 0x7f7122ce4a30>"
      ]
     },
     "execution_count": 39,
     "metadata": {},
     "output_type": "execute_result"
    },
    {
     "name": "stdout",
     "output_type": "stream",
     "text": [
      "train RMSE,MAE: 0.895 0.706\n",
      "test RMSE,MAE: 0.934 0.735 \n",
      "\n",
      "\n",
      "nfactor, lr, reg: 26 0.008 10 \n",
      "\n"
     ]
    },
    {
     "data": {
      "text/plain": [
       "<surprise.prediction_algorithms.matrix_factorization.SVD at 0x7f7122ce4e50>"
      ]
     },
     "execution_count": 39,
     "metadata": {},
     "output_type": "execute_result"
    },
    {
     "name": "stdout",
     "output_type": "stream",
     "text": [
      "train RMSE,MAE: 0.941 0.748\n",
      "test RMSE,MAE: 0.960 0.761 \n",
      "\n",
      "\n",
      "nfactor, lr, reg: 26 0.009000000000000001 0.01 \n",
      "\n"
     ]
    },
    {
     "data": {
      "text/plain": [
       "<surprise.prediction_algorithms.matrix_factorization.SVD at 0x7f7122ce4790>"
      ]
     },
     "execution_count": 39,
     "metadata": {},
     "output_type": "execute_result"
    },
    {
     "name": "stdout",
     "output_type": "stream",
     "text": [
      "train RMSE,MAE: 0.583 0.437\n",
      "test RMSE,MAE: 0.864 0.644 \n",
      "\n",
      "\n",
      "nfactor, lr, reg: 26 0.009000000000000001 0.02 \n",
      "\n"
     ]
    },
    {
     "data": {
      "text/plain": [
       "<surprise.prediction_algorithms.matrix_factorization.SVD at 0x7f7122ce46d0>"
      ]
     },
     "execution_count": 39,
     "metadata": {},
     "output_type": "execute_result"
    },
    {
     "name": "stdout",
     "output_type": "stream",
     "text": [
      "train RMSE,MAE: 0.605 0.456\n",
      "test RMSE,MAE: 0.860 0.641 \n",
      "\n",
      "\n",
      "nfactor, lr, reg: 26 0.009000000000000001 0.04 \n",
      "\n"
     ]
    },
    {
     "data": {
      "text/plain": [
       "<surprise.prediction_algorithms.matrix_factorization.SVD at 0x7f7122ce42e0>"
      ]
     },
     "execution_count": 39,
     "metadata": {},
     "output_type": "execute_result"
    },
    {
     "name": "stdout",
     "output_type": "stream",
     "text": [
      "train RMSE,MAE: 0.641 0.485\n",
      "test RMSE,MAE: 0.858 0.642 \n",
      "\n",
      "\n",
      "nfactor, lr, reg: 26 0.009000000000000001 0.08 \n",
      "\n"
     ]
    },
    {
     "data": {
      "text/plain": [
       "<surprise.prediction_algorithms.matrix_factorization.SVD at 0x7f7122ce4e80>"
      ]
     },
     "execution_count": 39,
     "metadata": {},
     "output_type": "execute_result"
    },
    {
     "name": "stdout",
     "output_type": "stream",
     "text": [
      "train RMSE,MAE: 0.686 0.520\n",
      "test RMSE,MAE: 0.857 0.644 \n",
      "\n",
      "\n",
      "nfactor, lr, reg: 26 0.009000000000000001 0.1 \n",
      "\n"
     ]
    },
    {
     "data": {
      "text/plain": [
       "<surprise.prediction_algorithms.matrix_factorization.SVD at 0x7f7122ce4430>"
      ]
     },
     "execution_count": 39,
     "metadata": {},
     "output_type": "execute_result"
    },
    {
     "name": "stdout",
     "output_type": "stream",
     "text": [
      "train RMSE,MAE: 0.702 0.532\n",
      "test RMSE,MAE: 0.857 0.645 \n",
      "\n",
      "\n",
      "nfactor, lr, reg: 26 0.009000000000000001 0.2 \n",
      "\n"
     ]
    },
    {
     "data": {
      "text/plain": [
       "<surprise.prediction_algorithms.matrix_factorization.SVD at 0x7f7122ce41f0>"
      ]
     },
     "execution_count": 39,
     "metadata": {},
     "output_type": "execute_result"
    },
    {
     "name": "stdout",
     "output_type": "stream",
     "text": [
      "train RMSE,MAE: 0.742 0.564\n",
      "test RMSE,MAE: 0.859 0.652 \n",
      "\n",
      "\n",
      "nfactor, lr, reg: 26 0.009000000000000001 0.4 \n",
      "\n"
     ]
    },
    {
     "data": {
      "text/plain": [
       "<surprise.prediction_algorithms.matrix_factorization.SVD at 0x7f7122ce4f70>"
      ]
     },
     "execution_count": 39,
     "metadata": {},
     "output_type": "execute_result"
    },
    {
     "name": "stdout",
     "output_type": "stream",
     "text": [
      "train RMSE,MAE: 0.770 0.591\n",
      "test RMSE,MAE: 0.866 0.664 \n",
      "\n",
      "\n",
      "nfactor, lr, reg: 26 0.009000000000000001 0.8 \n",
      "\n"
     ]
    },
    {
     "data": {
      "text/plain": [
       "<surprise.prediction_algorithms.matrix_factorization.SVD at 0x7f7122ce4460>"
      ]
     },
     "execution_count": 39,
     "metadata": {},
     "output_type": "execute_result"
    },
    {
     "name": "stdout",
     "output_type": "stream",
     "text": [
      "train RMSE,MAE: 0.798 0.620\n",
      "test RMSE,MAE: 0.879 0.682 \n",
      "\n",
      "\n",
      "nfactor, lr, reg: 26 0.009000000000000001 1 \n",
      "\n"
     ]
    },
    {
     "data": {
      "text/plain": [
       "<surprise.prediction_algorithms.matrix_factorization.SVD at 0x7f7122ce46a0>"
      ]
     },
     "execution_count": 39,
     "metadata": {},
     "output_type": "execute_result"
    },
    {
     "name": "stdout",
     "output_type": "stream",
     "text": [
      "train RMSE,MAE: 0.809 0.630\n",
      "test RMSE,MAE: 0.885 0.689 \n",
      "\n",
      "\n",
      "nfactor, lr, reg: 26 0.009000000000000001 2 \n",
      "\n"
     ]
    },
    {
     "data": {
      "text/plain": [
       "<surprise.prediction_algorithms.matrix_factorization.SVD at 0x7f7122ce4df0>"
      ]
     },
     "execution_count": 39,
     "metadata": {},
     "output_type": "execute_result"
    },
    {
     "name": "stdout",
     "output_type": "stream",
     "text": [
      "train RMSE,MAE: 0.850 0.667\n",
      "test RMSE,MAE: 0.909 0.712 \n",
      "\n",
      "\n",
      "nfactor, lr, reg: 26 0.009000000000000001 4 \n",
      "\n"
     ]
    },
    {
     "data": {
      "text/plain": [
       "<surprise.prediction_algorithms.matrix_factorization.SVD at 0x7f7122ce4a30>"
      ]
     },
     "execution_count": 39,
     "metadata": {},
     "output_type": "execute_result"
    },
    {
     "name": "stdout",
     "output_type": "stream",
     "text": [
      "train RMSE,MAE: 0.894 0.706\n",
      "test RMSE,MAE: 0.934 0.735 \n",
      "\n",
      "\n",
      "nfactor, lr, reg: 26 0.009000000000000001 10 \n",
      "\n"
     ]
    },
    {
     "data": {
      "text/plain": [
       "<surprise.prediction_algorithms.matrix_factorization.SVD at 0x7f7122ce4e50>"
      ]
     },
     "execution_count": 39,
     "metadata": {},
     "output_type": "execute_result"
    },
    {
     "name": "stdout",
     "output_type": "stream",
     "text": [
      "train RMSE,MAE: 0.941 0.748\n",
      "test RMSE,MAE: 0.961 0.761 \n",
      "\n",
      "\n",
      "nfactor, lr, reg: 34 0.001 0.01 \n",
      "\n"
     ]
    },
    {
     "data": {
      "text/plain": [
       "<surprise.prediction_algorithms.matrix_factorization.SVD at 0x7f7122ce4790>"
      ]
     },
     "execution_count": 39,
     "metadata": {},
     "output_type": "execute_result"
    },
    {
     "name": "stdout",
     "output_type": "stream",
     "text": [
      "train RMSE,MAE: 0.849 0.649\n",
      "test RMSE,MAE: 0.887 0.677 \n",
      "\n",
      "\n",
      "nfactor, lr, reg: 34 0.001 0.02 \n",
      "\n"
     ]
    },
    {
     "data": {
      "text/plain": [
       "<surprise.prediction_algorithms.matrix_factorization.SVD at 0x7f7122ce46d0>"
      ]
     },
     "execution_count": 39,
     "metadata": {},
     "output_type": "execute_result"
    },
    {
     "name": "stdout",
     "output_type": "stream",
     "text": [
      "train RMSE,MAE: 0.850 0.649\n",
      "test RMSE,MAE: 0.886 0.678 \n",
      "\n",
      "\n",
      "nfactor, lr, reg: 34 0.001 0.04 \n",
      "\n"
     ]
    },
    {
     "data": {
      "text/plain": [
       "<surprise.prediction_algorithms.matrix_factorization.SVD at 0x7f7122ce42e0>"
      ]
     },
     "execution_count": 39,
     "metadata": {},
     "output_type": "execute_result"
    },
    {
     "name": "stdout",
     "output_type": "stream",
     "text": [
      "train RMSE,MAE: 0.850 0.650\n",
      "test RMSE,MAE: 0.887 0.678 \n",
      "\n",
      "\n",
      "nfactor, lr, reg: 34 0.001 0.08 \n",
      "\n"
     ]
    },
    {
     "data": {
      "text/plain": [
       "<surprise.prediction_algorithms.matrix_factorization.SVD at 0x7f7122ce4e80>"
      ]
     },
     "execution_count": 39,
     "metadata": {},
     "output_type": "execute_result"
    },
    {
     "name": "stdout",
     "output_type": "stream",
     "text": [
      "train RMSE,MAE: 0.852 0.653\n",
      "test RMSE,MAE: 0.887 0.680 \n",
      "\n",
      "\n",
      "nfactor, lr, reg: 34 0.001 0.1 \n",
      "\n"
     ]
    },
    {
     "data": {
      "text/plain": [
       "<surprise.prediction_algorithms.matrix_factorization.SVD at 0x7f7122ce4430>"
      ]
     },
     "execution_count": 39,
     "metadata": {},
     "output_type": "execute_result"
    },
    {
     "name": "stdout",
     "output_type": "stream",
     "text": [
      "train RMSE,MAE: 0.852 0.654\n",
      "test RMSE,MAE: 0.887 0.680 \n",
      "\n",
      "\n",
      "nfactor, lr, reg: 34 0.001 0.2 \n",
      "\n"
     ]
    },
    {
     "data": {
      "text/plain": [
       "<surprise.prediction_algorithms.matrix_factorization.SVD at 0x7f7122ce41f0>"
      ]
     },
     "execution_count": 39,
     "metadata": {},
     "output_type": "execute_result"
    },
    {
     "name": "stdout",
     "output_type": "stream",
     "text": [
      "train RMSE,MAE: 0.856 0.660\n",
      "test RMSE,MAE: 0.889 0.684 \n",
      "\n",
      "\n",
      "nfactor, lr, reg: 34 0.001 0.4 \n",
      "\n"
     ]
    },
    {
     "data": {
      "text/plain": [
       "<surprise.prediction_algorithms.matrix_factorization.SVD at 0x7f7122ce4f70>"
      ]
     },
     "execution_count": 39,
     "metadata": {},
     "output_type": "execute_result"
    },
    {
     "name": "stdout",
     "output_type": "stream",
     "text": [
      "train RMSE,MAE: 0.864 0.670\n",
      "test RMSE,MAE: 0.892 0.691 \n",
      "\n",
      "\n",
      "nfactor, lr, reg: 34 0.001 0.8 \n",
      "\n"
     ]
    },
    {
     "data": {
      "text/plain": [
       "<surprise.prediction_algorithms.matrix_factorization.SVD at 0x7f7122ce4460>"
      ]
     },
     "execution_count": 39,
     "metadata": {},
     "output_type": "execute_result"
    },
    {
     "name": "stdout",
     "output_type": "stream",
     "text": [
      "train RMSE,MAE: 0.876 0.685\n",
      "test RMSE,MAE: 0.902 0.703 \n",
      "\n",
      "\n",
      "nfactor, lr, reg: 34 0.001 1 \n",
      "\n"
     ]
    },
    {
     "data": {
      "text/plain": [
       "<surprise.prediction_algorithms.matrix_factorization.SVD at 0x7f7122ce46a0>"
      ]
     },
     "execution_count": 39,
     "metadata": {},
     "output_type": "execute_result"
    },
    {
     "name": "stdout",
     "output_type": "stream",
     "text": [
      "train RMSE,MAE: 0.882 0.690\n",
      "test RMSE,MAE: 0.906 0.708 \n",
      "\n",
      "\n",
      "nfactor, lr, reg: 34 0.001 2 \n",
      "\n"
     ]
    },
    {
     "data": {
      "text/plain": [
       "<surprise.prediction_algorithms.matrix_factorization.SVD at 0x7f7122ce4df0>"
      ]
     },
     "execution_count": 39,
     "metadata": {},
     "output_type": "execute_result"
    },
    {
     "name": "stdout",
     "output_type": "stream",
     "text": [
      "train RMSE,MAE: 0.903 0.711\n",
      "test RMSE,MAE: 0.924 0.725 \n",
      "\n",
      "\n",
      "nfactor, lr, reg: 34 0.001 4 \n",
      "\n"
     ]
    },
    {
     "data": {
      "text/plain": [
       "<surprise.prediction_algorithms.matrix_factorization.SVD at 0x7f7122ce4a30>"
      ]
     },
     "execution_count": 39,
     "metadata": {},
     "output_type": "execute_result"
    },
    {
     "name": "stdout",
     "output_type": "stream",
     "text": [
      "train RMSE,MAE: 0.926 0.733\n",
      "test RMSE,MAE: 0.943 0.745 \n",
      "\n",
      "\n",
      "nfactor, lr, reg: 34 0.001 10 \n",
      "\n"
     ]
    },
    {
     "data": {
      "text/plain": [
       "<surprise.prediction_algorithms.matrix_factorization.SVD at 0x7f7122ce4e50>"
      ]
     },
     "execution_count": 39,
     "metadata": {},
     "output_type": "execute_result"
    },
    {
     "name": "stdout",
     "output_type": "stream",
     "text": [
      "train RMSE,MAE: 0.951 0.757\n",
      "test RMSE,MAE: 0.964 0.765 \n",
      "\n",
      "\n",
      "nfactor, lr, reg: 34 0.002 0.01 \n",
      "\n"
     ]
    },
    {
     "data": {
      "text/plain": [
       "<surprise.prediction_algorithms.matrix_factorization.SVD at 0x7f7122ce4790>"
      ]
     },
     "execution_count": 39,
     "metadata": {},
     "output_type": "execute_result"
    },
    {
     "name": "stdout",
     "output_type": "stream",
     "text": [
      "train RMSE,MAE: 0.810 0.613\n",
      "test RMSE,MAE: 0.873 0.662 \n",
      "\n",
      "\n",
      "nfactor, lr, reg: 34 0.002 0.02 \n",
      "\n"
     ]
    },
    {
     "data": {
      "text/plain": [
       "<surprise.prediction_algorithms.matrix_factorization.SVD at 0x7f7122ce46d0>"
      ]
     },
     "execution_count": 39,
     "metadata": {},
     "output_type": "execute_result"
    },
    {
     "name": "stdout",
     "output_type": "stream",
     "text": [
      "train RMSE,MAE: 0.811 0.615\n",
      "test RMSE,MAE: 0.873 0.662 \n",
      "\n",
      "\n",
      "nfactor, lr, reg: 34 0.002 0.04 \n",
      "\n"
     ]
    },
    {
     "data": {
      "text/plain": [
       "<surprise.prediction_algorithms.matrix_factorization.SVD at 0x7f7122ce42e0>"
      ]
     },
     "execution_count": 39,
     "metadata": {},
     "output_type": "execute_result"
    },
    {
     "name": "stdout",
     "output_type": "stream",
     "text": [
      "train RMSE,MAE: 0.813 0.618\n",
      "test RMSE,MAE: 0.872 0.662 \n",
      "\n",
      "\n",
      "nfactor, lr, reg: 34 0.002 0.08 \n",
      "\n"
     ]
    },
    {
     "data": {
      "text/plain": [
       "<surprise.prediction_algorithms.matrix_factorization.SVD at 0x7f7122ce4e80>"
      ]
     },
     "execution_count": 39,
     "metadata": {},
     "output_type": "execute_result"
    },
    {
     "name": "stdout",
     "output_type": "stream",
     "text": [
      "train RMSE,MAE: 0.817 0.622\n",
      "test RMSE,MAE: 0.873 0.665 \n",
      "\n",
      "\n",
      "nfactor, lr, reg: 34 0.002 0.1 \n",
      "\n"
     ]
    },
    {
     "data": {
      "text/plain": [
       "<surprise.prediction_algorithms.matrix_factorization.SVD at 0x7f7122ce4430>"
      ]
     },
     "execution_count": 39,
     "metadata": {},
     "output_type": "execute_result"
    },
    {
     "name": "stdout",
     "output_type": "stream",
     "text": [
      "train RMSE,MAE: 0.818 0.624\n",
      "test RMSE,MAE: 0.873 0.666 \n",
      "\n",
      "\n",
      "nfactor, lr, reg: 34 0.002 0.2 \n",
      "\n"
     ]
    },
    {
     "data": {
      "text/plain": [
       "<surprise.prediction_algorithms.matrix_factorization.SVD at 0x7f7122ce41f0>"
      ]
     },
     "execution_count": 39,
     "metadata": {},
     "output_type": "execute_result"
    },
    {
     "name": "stdout",
     "output_type": "stream",
     "text": [
      "train RMSE,MAE: 0.825 0.633\n",
      "test RMSE,MAE: 0.875 0.671 \n",
      "\n",
      "\n",
      "nfactor, lr, reg: 34 0.002 0.4 \n",
      "\n"
     ]
    },
    {
     "data": {
      "text/plain": [
       "<surprise.prediction_algorithms.matrix_factorization.SVD at 0x7f7122ce4f70>"
      ]
     },
     "execution_count": 39,
     "metadata": {},
     "output_type": "execute_result"
    },
    {
     "name": "stdout",
     "output_type": "stream",
     "text": [
      "train RMSE,MAE: 0.836 0.647\n",
      "test RMSE,MAE: 0.880 0.680 \n",
      "\n",
      "\n",
      "nfactor, lr, reg: 34 0.002 0.8 \n",
      "\n"
     ]
    },
    {
     "data": {
      "text/plain": [
       "<surprise.prediction_algorithms.matrix_factorization.SVD at 0x7f7122ce4460>"
      ]
     },
     "execution_count": 39,
     "metadata": {},
     "output_type": "execute_result"
    },
    {
     "name": "stdout",
     "output_type": "stream",
     "text": [
      "train RMSE,MAE: 0.854 0.666\n",
      "test RMSE,MAE: 0.891 0.694 \n",
      "\n",
      "\n",
      "nfactor, lr, reg: 34 0.002 1 \n",
      "\n"
     ]
    },
    {
     "data": {
      "text/plain": [
       "<surprise.prediction_algorithms.matrix_factorization.SVD at 0x7f7122ce46a0>"
      ]
     },
     "execution_count": 39,
     "metadata": {},
     "output_type": "execute_result"
    },
    {
     "name": "stdout",
     "output_type": "stream",
     "text": [
      "train RMSE,MAE: 0.861 0.673\n",
      "test RMSE,MAE: 0.897 0.700 \n",
      "\n",
      "\n",
      "nfactor, lr, reg: 34 0.002 2 \n",
      "\n"
     ]
    },
    {
     "data": {
      "text/plain": [
       "<surprise.prediction_algorithms.matrix_factorization.SVD at 0x7f7122ce4df0>"
      ]
     },
     "execution_count": 39,
     "metadata": {},
     "output_type": "execute_result"
    },
    {
     "name": "stdout",
     "output_type": "stream",
     "text": [
      "train RMSE,MAE: 0.887 0.698\n",
      "test RMSE,MAE: 0.917 0.719 \n",
      "\n",
      "\n",
      "nfactor, lr, reg: 34 0.002 4 \n",
      "\n"
     ]
    },
    {
     "data": {
      "text/plain": [
       "<surprise.prediction_algorithms.matrix_factorization.SVD at 0x7f7122ce4a30>"
      ]
     },
     "execution_count": 39,
     "metadata": {},
     "output_type": "execute_result"
    },
    {
     "name": "stdout",
     "output_type": "stream",
     "text": [
      "train RMSE,MAE: 0.914 0.723\n",
      "test RMSE,MAE: 0.939 0.741 \n",
      "\n",
      "\n",
      "nfactor, lr, reg: 34 0.002 10 \n",
      "\n"
     ]
    },
    {
     "data": {
      "text/plain": [
       "<surprise.prediction_algorithms.matrix_factorization.SVD at 0x7f7122ce4e50>"
      ]
     },
     "execution_count": 39,
     "metadata": {},
     "output_type": "execute_result"
    },
    {
     "name": "stdout",
     "output_type": "stream",
     "text": [
      "train RMSE,MAE: 0.946 0.752\n",
      "test RMSE,MAE: 0.962 0.763 \n",
      "\n",
      "\n",
      "nfactor, lr, reg: 34 0.003 0.01 \n",
      "\n"
     ]
    },
    {
     "data": {
      "text/plain": [
       "<surprise.prediction_algorithms.matrix_factorization.SVD at 0x7f7122ce4790>"
      ]
     },
     "execution_count": 39,
     "metadata": {},
     "output_type": "execute_result"
    },
    {
     "name": "stdout",
     "output_type": "stream",
     "text": [
      "train RMSE,MAE: 0.778 0.588\n",
      "test RMSE,MAE: 0.868 0.655 \n",
      "\n",
      "\n",
      "nfactor, lr, reg: 34 0.003 0.02 \n",
      "\n"
     ]
    },
    {
     "data": {
      "text/plain": [
       "<surprise.prediction_algorithms.matrix_factorization.SVD at 0x7f7122ce46d0>"
      ]
     },
     "execution_count": 39,
     "metadata": {},
     "output_type": "execute_result"
    },
    {
     "name": "stdout",
     "output_type": "stream",
     "text": [
      "train RMSE,MAE: 0.780 0.590\n",
      "test RMSE,MAE: 0.867 0.654 \n",
      "\n",
      "\n",
      "nfactor, lr, reg: 34 0.003 0.04 \n",
      "\n"
     ]
    },
    {
     "data": {
      "text/plain": [
       "<surprise.prediction_algorithms.matrix_factorization.SVD at 0x7f7122ce42e0>"
      ]
     },
     "execution_count": 39,
     "metadata": {},
     "output_type": "execute_result"
    },
    {
     "name": "stdout",
     "output_type": "stream",
     "text": [
      "train RMSE,MAE: 0.784 0.594\n",
      "test RMSE,MAE: 0.867 0.656 \n",
      "\n",
      "\n",
      "nfactor, lr, reg: 34 0.003 0.08 \n",
      "\n"
     ]
    },
    {
     "data": {
      "text/plain": [
       "<surprise.prediction_algorithms.matrix_factorization.SVD at 0x7f7122ce4e80>"
      ]
     },
     "execution_count": 39,
     "metadata": {},
     "output_type": "execute_result"
    },
    {
     "name": "stdout",
     "output_type": "stream",
     "text": [
      "train RMSE,MAE: 0.791 0.601\n",
      "test RMSE,MAE: 0.868 0.658 \n",
      "\n",
      "\n",
      "nfactor, lr, reg: 34 0.003 0.1 \n",
      "\n"
     ]
    },
    {
     "data": {
      "text/plain": [
       "<surprise.prediction_algorithms.matrix_factorization.SVD at 0x7f7122ce4430>"
      ]
     },
     "execution_count": 39,
     "metadata": {},
     "output_type": "execute_result"
    },
    {
     "name": "stdout",
     "output_type": "stream",
     "text": [
      "train RMSE,MAE: 0.794 0.604\n",
      "test RMSE,MAE: 0.867 0.659 \n",
      "\n",
      "\n",
      "nfactor, lr, reg: 34 0.003 0.2 \n",
      "\n"
     ]
    },
    {
     "data": {
      "text/plain": [
       "<surprise.prediction_algorithms.matrix_factorization.SVD at 0x7f7122ce41f0>"
      ]
     },
     "execution_count": 39,
     "metadata": {},
     "output_type": "execute_result"
    },
    {
     "name": "stdout",
     "output_type": "stream",
     "text": [
      "train RMSE,MAE: 0.804 0.616\n",
      "test RMSE,MAE: 0.869 0.665 \n",
      "\n",
      "\n",
      "nfactor, lr, reg: 34 0.003 0.4 \n",
      "\n"
     ]
    },
    {
     "data": {
      "text/plain": [
       "<surprise.prediction_algorithms.matrix_factorization.SVD at 0x7f7122ce4f70>"
      ]
     },
     "execution_count": 39,
     "metadata": {},
     "output_type": "execute_result"
    },
    {
     "name": "stdout",
     "output_type": "stream",
     "text": [
      "train RMSE,MAE: 0.819 0.632\n",
      "test RMSE,MAE: 0.874 0.674 \n",
      "\n",
      "\n",
      "nfactor, lr, reg: 34 0.003 0.8 \n",
      "\n"
     ]
    },
    {
     "data": {
      "text/plain": [
       "<surprise.prediction_algorithms.matrix_factorization.SVD at 0x7f7122ce4460>"
      ]
     },
     "execution_count": 39,
     "metadata": {},
     "output_type": "execute_result"
    },
    {
     "name": "stdout",
     "output_type": "stream",
     "text": [
      "train RMSE,MAE: 0.839 0.654\n",
      "test RMSE,MAE: 0.886 0.690 \n",
      "\n",
      "\n",
      "nfactor, lr, reg: 34 0.003 1 \n",
      "\n"
     ]
    },
    {
     "data": {
      "text/plain": [
       "<surprise.prediction_algorithms.matrix_factorization.SVD at 0x7f7122ce46a0>"
      ]
     },
     "execution_count": 39,
     "metadata": {},
     "output_type": "execute_result"
    },
    {
     "name": "stdout",
     "output_type": "stream",
     "text": [
      "train RMSE,MAE: 0.847 0.662\n",
      "test RMSE,MAE: 0.892 0.696 \n",
      "\n",
      "\n",
      "nfactor, lr, reg: 34 0.003 2 \n",
      "\n"
     ]
    },
    {
     "data": {
      "text/plain": [
       "<surprise.prediction_algorithms.matrix_factorization.SVD at 0x7f7122ce4df0>"
      ]
     },
     "execution_count": 39,
     "metadata": {},
     "output_type": "execute_result"
    },
    {
     "name": "stdout",
     "output_type": "stream",
     "text": [
      "train RMSE,MAE: 0.876 0.689\n",
      "test RMSE,MAE: 0.914 0.717 \n",
      "\n",
      "\n",
      "nfactor, lr, reg: 34 0.003 4 \n",
      "\n"
     ]
    },
    {
     "data": {
      "text/plain": [
       "<surprise.prediction_algorithms.matrix_factorization.SVD at 0x7f7122ce4a30>"
      ]
     },
     "execution_count": 39,
     "metadata": {},
     "output_type": "execute_result"
    },
    {
     "name": "stdout",
     "output_type": "stream",
     "text": [
      "train RMSE,MAE: 0.907 0.717\n",
      "test RMSE,MAE: 0.937 0.739 \n",
      "\n",
      "\n",
      "nfactor, lr, reg: 34 0.003 10 \n",
      "\n"
     ]
    },
    {
     "data": {
      "text/plain": [
       "<surprise.prediction_algorithms.matrix_factorization.SVD at 0x7f7122ce4e50>"
      ]
     },
     "execution_count": 39,
     "metadata": {},
     "output_type": "execute_result"
    },
    {
     "name": "stdout",
     "output_type": "stream",
     "text": [
      "train RMSE,MAE: 0.943 0.750\n",
      "test RMSE,MAE: 0.961 0.762 \n",
      "\n",
      "\n",
      "nfactor, lr, reg: 34 0.004 0.01 \n",
      "\n"
     ]
    },
    {
     "data": {
      "text/plain": [
       "<surprise.prediction_algorithms.matrix_factorization.SVD at 0x7f7122ce4790>"
      ]
     },
     "execution_count": 39,
     "metadata": {},
     "output_type": "execute_result"
    },
    {
     "name": "stdout",
     "output_type": "stream",
     "text": [
      "train RMSE,MAE: 0.745 0.562\n",
      "test RMSE,MAE: 0.864 0.650 \n",
      "\n",
      "\n",
      "nfactor, lr, reg: 34 0.004 0.02 \n",
      "\n"
     ]
    },
    {
     "data": {
      "text/plain": [
       "<surprise.prediction_algorithms.matrix_factorization.SVD at 0x7f7122ce46d0>"
      ]
     },
     "execution_count": 39,
     "metadata": {},
     "output_type": "execute_result"
    },
    {
     "name": "stdout",
     "output_type": "stream",
     "text": [
      "train RMSE,MAE: 0.750 0.566\n",
      "test RMSE,MAE: 0.864 0.651 \n",
      "\n",
      "\n",
      "nfactor, lr, reg: 34 0.004 0.04 \n",
      "\n"
     ]
    },
    {
     "data": {
      "text/plain": [
       "<surprise.prediction_algorithms.matrix_factorization.SVD at 0x7f7122ce42e0>"
      ]
     },
     "execution_count": 39,
     "metadata": {},
     "output_type": "execute_result"
    },
    {
     "name": "stdout",
     "output_type": "stream",
     "text": [
      "train RMSE,MAE: 0.758 0.573\n",
      "test RMSE,MAE: 0.864 0.652 \n",
      "\n",
      "\n",
      "nfactor, lr, reg: 34 0.004 0.08 \n",
      "\n"
     ]
    },
    {
     "data": {
      "text/plain": [
       "<surprise.prediction_algorithms.matrix_factorization.SVD at 0x7f7122ce4e80>"
      ]
     },
     "execution_count": 39,
     "metadata": {},
     "output_type": "execute_result"
    },
    {
     "name": "stdout",
     "output_type": "stream",
     "text": [
      "train RMSE,MAE: 0.769 0.584\n",
      "test RMSE,MAE: 0.863 0.653 \n",
      "\n",
      "\n",
      "nfactor, lr, reg: 34 0.004 0.1 \n",
      "\n"
     ]
    },
    {
     "data": {
      "text/plain": [
       "<surprise.prediction_algorithms.matrix_factorization.SVD at 0x7f7122ce4430>"
      ]
     },
     "execution_count": 39,
     "metadata": {},
     "output_type": "execute_result"
    },
    {
     "name": "stdout",
     "output_type": "stream",
     "text": [
      "train RMSE,MAE: 0.774 0.588\n",
      "test RMSE,MAE: 0.863 0.654 \n",
      "\n",
      "\n",
      "nfactor, lr, reg: 34 0.004 0.2 \n",
      "\n"
     ]
    },
    {
     "data": {
      "text/plain": [
       "<surprise.prediction_algorithms.matrix_factorization.SVD at 0x7f7122ce41f0>"
      ]
     },
     "execution_count": 39,
     "metadata": {},
     "output_type": "execute_result"
    },
    {
     "name": "stdout",
     "output_type": "stream",
     "text": [
      "train RMSE,MAE: 0.788 0.603\n",
      "test RMSE,MAE: 0.865 0.660 \n",
      "\n",
      "\n",
      "nfactor, lr, reg: 34 0.004 0.4 \n",
      "\n"
     ]
    },
    {
     "data": {
      "text/plain": [
       "<surprise.prediction_algorithms.matrix_factorization.SVD at 0x7f7122ce4f70>"
      ]
     },
     "execution_count": 39,
     "metadata": {},
     "output_type": "execute_result"
    },
    {
     "name": "stdout",
     "output_type": "stream",
     "text": [
      "train RMSE,MAE: 0.806 0.622\n",
      "test RMSE,MAE: 0.871 0.671 \n",
      "\n",
      "\n",
      "nfactor, lr, reg: 34 0.004 0.8 \n",
      "\n"
     ]
    },
    {
     "data": {
      "text/plain": [
       "<surprise.prediction_algorithms.matrix_factorization.SVD at 0x7f7122ce4460>"
      ]
     },
     "execution_count": 39,
     "metadata": {},
     "output_type": "execute_result"
    },
    {
     "name": "stdout",
     "output_type": "stream",
     "text": [
      "train RMSE,MAE: 0.828 0.645\n",
      "test RMSE,MAE: 0.884 0.687 \n",
      "\n",
      "\n",
      "nfactor, lr, reg: 34 0.004 1 \n",
      "\n"
     ]
    },
    {
     "data": {
      "text/plain": [
       "<surprise.prediction_algorithms.matrix_factorization.SVD at 0x7f7122ce46a0>"
      ]
     },
     "execution_count": 39,
     "metadata": {},
     "output_type": "execute_result"
    },
    {
     "name": "stdout",
     "output_type": "stream",
     "text": [
      "train RMSE,MAE: 0.837 0.653\n",
      "test RMSE,MAE: 0.889 0.693 \n",
      "\n",
      "\n",
      "nfactor, lr, reg: 34 0.004 2 \n",
      "\n"
     ]
    },
    {
     "data": {
      "text/plain": [
       "<surprise.prediction_algorithms.matrix_factorization.SVD at 0x7f7122ce4df0>"
      ]
     },
     "execution_count": 39,
     "metadata": {},
     "output_type": "execute_result"
    },
    {
     "name": "stdout",
     "output_type": "stream",
     "text": [
      "train RMSE,MAE: 0.868 0.682\n",
      "test RMSE,MAE: 0.912 0.715 \n",
      "\n",
      "\n",
      "nfactor, lr, reg: 34 0.004 4 \n",
      "\n"
     ]
    },
    {
     "data": {
      "text/plain": [
       "<surprise.prediction_algorithms.matrix_factorization.SVD at 0x7f7122ce4a30>"
      ]
     },
     "execution_count": 39,
     "metadata": {},
     "output_type": "execute_result"
    },
    {
     "name": "stdout",
     "output_type": "stream",
     "text": [
      "train RMSE,MAE: 0.903 0.713\n",
      "test RMSE,MAE: 0.935 0.737 \n",
      "\n",
      "\n",
      "nfactor, lr, reg: 34 0.004 10 \n",
      "\n"
     ]
    },
    {
     "data": {
      "text/plain": [
       "<surprise.prediction_algorithms.matrix_factorization.SVD at 0x7f7122ce4e50>"
      ]
     },
     "execution_count": 39,
     "metadata": {},
     "output_type": "execute_result"
    },
    {
     "name": "stdout",
     "output_type": "stream",
     "text": [
      "train RMSE,MAE: 0.942 0.749\n",
      "test RMSE,MAE: 0.961 0.761 \n",
      "\n",
      "\n",
      "nfactor, lr, reg: 34 0.005 0.01 \n",
      "\n"
     ]
    },
    {
     "data": {
      "text/plain": [
       "<surprise.prediction_algorithms.matrix_factorization.SVD at 0x7f7122ce4790>"
      ]
     },
     "execution_count": 39,
     "metadata": {},
     "output_type": "execute_result"
    },
    {
     "name": "stdout",
     "output_type": "stream",
     "text": [
      "train RMSE,MAE: 0.711 0.536\n",
      "test RMSE,MAE: 0.861 0.647 \n",
      "\n",
      "\n",
      "nfactor, lr, reg: 34 0.005 0.02 \n",
      "\n"
     ]
    },
    {
     "data": {
      "text/plain": [
       "<surprise.prediction_algorithms.matrix_factorization.SVD at 0x7f7122ce46d0>"
      ]
     },
     "execution_count": 39,
     "metadata": {},
     "output_type": "execute_result"
    },
    {
     "name": "stdout",
     "output_type": "stream",
     "text": [
      "train RMSE,MAE: 0.719 0.542\n",
      "test RMSE,MAE: 0.862 0.648 \n",
      "\n",
      "\n",
      "nfactor, lr, reg: 34 0.005 0.04 \n",
      "\n"
     ]
    },
    {
     "data": {
      "text/plain": [
       "<surprise.prediction_algorithms.matrix_factorization.SVD at 0x7f7122ce42e0>"
      ]
     },
     "execution_count": 39,
     "metadata": {},
     "output_type": "execute_result"
    },
    {
     "name": "stdout",
     "output_type": "stream",
     "text": [
      "train RMSE,MAE: 0.732 0.553\n",
      "test RMSE,MAE: 0.859 0.647 \n",
      "\n",
      "\n",
      "nfactor, lr, reg: 34 0.005 0.08 \n",
      "\n"
     ]
    },
    {
     "data": {
      "text/plain": [
       "<surprise.prediction_algorithms.matrix_factorization.SVD at 0x7f7122ce4e80>"
      ]
     },
     "execution_count": 39,
     "metadata": {},
     "output_type": "execute_result"
    },
    {
     "name": "stdout",
     "output_type": "stream",
     "text": [
      "train RMSE,MAE: 0.749 0.568\n",
      "test RMSE,MAE: 0.860 0.650 \n",
      "\n",
      "\n",
      "nfactor, lr, reg: 34 0.005 0.1 \n",
      "\n"
     ]
    },
    {
     "data": {
      "text/plain": [
       "<surprise.prediction_algorithms.matrix_factorization.SVD at 0x7f7122ce4430>"
      ]
     },
     "execution_count": 39,
     "metadata": {},
     "output_type": "execute_result"
    },
    {
     "name": "stdout",
     "output_type": "stream",
     "text": [
      "train RMSE,MAE: 0.756 0.574\n",
      "test RMSE,MAE: 0.860 0.651 \n",
      "\n",
      "\n",
      "nfactor, lr, reg: 34 0.005 0.2 \n",
      "\n"
     ]
    },
    {
     "data": {
      "text/plain": [
       "<surprise.prediction_algorithms.matrix_factorization.SVD at 0x7f7122ce41f0>"
      ]
     },
     "execution_count": 39,
     "metadata": {},
     "output_type": "execute_result"
    },
    {
     "name": "stdout",
     "output_type": "stream",
     "text": [
      "train RMSE,MAE: 0.775 0.592\n",
      "test RMSE,MAE: 0.863 0.658 \n",
      "\n",
      "\n",
      "nfactor, lr, reg: 34 0.005 0.4 \n",
      "\n"
     ]
    },
    {
     "data": {
      "text/plain": [
       "<surprise.prediction_algorithms.matrix_factorization.SVD at 0x7f7122ce4f70>"
      ]
     },
     "execution_count": 39,
     "metadata": {},
     "output_type": "execute_result"
    },
    {
     "name": "stdout",
     "output_type": "stream",
     "text": [
      "train RMSE,MAE: 0.795 0.613\n",
      "test RMSE,MAE: 0.869 0.669 \n",
      "\n",
      "\n",
      "nfactor, lr, reg: 34 0.005 0.8 \n",
      "\n"
     ]
    },
    {
     "data": {
      "text/plain": [
       "<surprise.prediction_algorithms.matrix_factorization.SVD at 0x7f7122ce4460>"
      ]
     },
     "execution_count": 39,
     "metadata": {},
     "output_type": "execute_result"
    },
    {
     "name": "stdout",
     "output_type": "stream",
     "text": [
      "train RMSE,MAE: 0.819 0.638\n",
      "test RMSE,MAE: 0.882 0.685 \n",
      "\n",
      "\n",
      "nfactor, lr, reg: 34 0.005 1 \n",
      "\n"
     ]
    },
    {
     "data": {
      "text/plain": [
       "<surprise.prediction_algorithms.matrix_factorization.SVD at 0x7f7122ce46a0>"
      ]
     },
     "execution_count": 39,
     "metadata": {},
     "output_type": "execute_result"
    },
    {
     "name": "stdout",
     "output_type": "stream",
     "text": [
      "train RMSE,MAE: 0.829 0.647\n",
      "test RMSE,MAE: 0.888 0.692 \n",
      "\n",
      "\n",
      "nfactor, lr, reg: 34 0.005 2 \n",
      "\n"
     ]
    },
    {
     "data": {
      "text/plain": [
       "<surprise.prediction_algorithms.matrix_factorization.SVD at 0x7f7122ce4df0>"
      ]
     },
     "execution_count": 39,
     "metadata": {},
     "output_type": "execute_result"
    },
    {
     "name": "stdout",
     "output_type": "stream",
     "text": [
      "train RMSE,MAE: 0.862 0.678\n",
      "test RMSE,MAE: 0.911 0.714 \n",
      "\n",
      "\n",
      "nfactor, lr, reg: 34 0.005 4 \n",
      "\n"
     ]
    },
    {
     "data": {
      "text/plain": [
       "<surprise.prediction_algorithms.matrix_factorization.SVD at 0x7f7122ce4a30>"
      ]
     },
     "execution_count": 39,
     "metadata": {},
     "output_type": "execute_result"
    },
    {
     "name": "stdout",
     "output_type": "stream",
     "text": [
      "train RMSE,MAE: 0.899 0.711\n",
      "test RMSE,MAE: 0.935 0.736 \n",
      "\n",
      "\n",
      "nfactor, lr, reg: 34 0.005 10 \n",
      "\n"
     ]
    },
    {
     "data": {
      "text/plain": [
       "<surprise.prediction_algorithms.matrix_factorization.SVD at 0x7f7122ce4e50>"
      ]
     },
     "execution_count": 39,
     "metadata": {},
     "output_type": "execute_result"
    },
    {
     "name": "stdout",
     "output_type": "stream",
     "text": [
      "train RMSE,MAE: 0.941 0.748\n",
      "test RMSE,MAE: 0.960 0.761 \n",
      "\n",
      "\n",
      "nfactor, lr, reg: 34 0.006 0.01 \n",
      "\n"
     ]
    },
    {
     "data": {
      "text/plain": [
       "<surprise.prediction_algorithms.matrix_factorization.SVD at 0x7f7122ce4790>"
      ]
     },
     "execution_count": 39,
     "metadata": {},
     "output_type": "execute_result"
    },
    {
     "name": "stdout",
     "output_type": "stream",
     "text": [
      "train RMSE,MAE: 0.672 0.506\n",
      "test RMSE,MAE: 0.861 0.646 \n",
      "\n",
      "\n",
      "nfactor, lr, reg: 34 0.006 0.02 \n",
      "\n"
     ]
    },
    {
     "data": {
      "text/plain": [
       "<surprise.prediction_algorithms.matrix_factorization.SVD at 0x7f7122ce46d0>"
      ]
     },
     "execution_count": 39,
     "metadata": {},
     "output_type": "execute_result"
    },
    {
     "name": "stdout",
     "output_type": "stream",
     "text": [
      "train RMSE,MAE: 0.687 0.518\n",
      "test RMSE,MAE: 0.859 0.645 \n",
      "\n",
      "\n",
      "nfactor, lr, reg: 34 0.006 0.04 \n",
      "\n"
     ]
    },
    {
     "data": {
      "text/plain": [
       "<surprise.prediction_algorithms.matrix_factorization.SVD at 0x7f7122ce42e0>"
      ]
     },
     "execution_count": 39,
     "metadata": {},
     "output_type": "execute_result"
    },
    {
     "name": "stdout",
     "output_type": "stream",
     "text": [
      "train RMSE,MAE: 0.705 0.533\n",
      "test RMSE,MAE: 0.859 0.646 \n",
      "\n",
      "\n",
      "nfactor, lr, reg: 34 0.006 0.08 \n",
      "\n"
     ]
    },
    {
     "data": {
      "text/plain": [
       "<surprise.prediction_algorithms.matrix_factorization.SVD at 0x7f7122ce4e80>"
      ]
     },
     "execution_count": 39,
     "metadata": {},
     "output_type": "execute_result"
    },
    {
     "name": "stdout",
     "output_type": "stream",
     "text": [
      "train RMSE,MAE: 0.730 0.553\n",
      "test RMSE,MAE: 0.859 0.648 \n",
      "\n",
      "\n",
      "nfactor, lr, reg: 34 0.006 0.1 \n",
      "\n"
     ]
    },
    {
     "data": {
      "text/plain": [
       "<surprise.prediction_algorithms.matrix_factorization.SVD at 0x7f7122ce4430>"
      ]
     },
     "execution_count": 39,
     "metadata": {},
     "output_type": "execute_result"
    },
    {
     "name": "stdout",
     "output_type": "stream",
     "text": [
      "train RMSE,MAE: 0.738 0.560\n",
      "test RMSE,MAE: 0.859 0.649 \n",
      "\n",
      "\n",
      "nfactor, lr, reg: 34 0.006 0.2 \n",
      "\n"
     ]
    },
    {
     "data": {
      "text/plain": [
       "<surprise.prediction_algorithms.matrix_factorization.SVD at 0x7f7122ce41f0>"
      ]
     },
     "execution_count": 39,
     "metadata": {},
     "output_type": "execute_result"
    },
    {
     "name": "stdout",
     "output_type": "stream",
     "text": [
      "train RMSE,MAE: 0.764 0.583\n",
      "test RMSE,MAE: 0.861 0.655 \n",
      "\n",
      "\n",
      "nfactor, lr, reg: 34 0.006 0.4 \n",
      "\n"
     ]
    },
    {
     "data": {
      "text/plain": [
       "<surprise.prediction_algorithms.matrix_factorization.SVD at 0x7f7122ce4f70>"
      ]
     },
     "execution_count": 39,
     "metadata": {},
     "output_type": "execute_result"
    },
    {
     "name": "stdout",
     "output_type": "stream",
     "text": [
      "train RMSE,MAE: 0.787 0.606\n",
      "test RMSE,MAE: 0.867 0.667 \n",
      "\n",
      "\n",
      "nfactor, lr, reg: 34 0.006 0.8 \n",
      "\n"
     ]
    },
    {
     "data": {
      "text/plain": [
       "<surprise.prediction_algorithms.matrix_factorization.SVD at 0x7f7122ce4460>"
      ]
     },
     "execution_count": 39,
     "metadata": {},
     "output_type": "execute_result"
    },
    {
     "name": "stdout",
     "output_type": "stream",
     "text": [
      "train RMSE,MAE: 0.812 0.632\n",
      "test RMSE,MAE: 0.881 0.684 \n",
      "\n",
      "\n",
      "nfactor, lr, reg: 34 0.006 1 \n",
      "\n"
     ]
    },
    {
     "data": {
      "text/plain": [
       "<surprise.prediction_algorithms.matrix_factorization.SVD at 0x7f7122ce46a0>"
      ]
     },
     "execution_count": 39,
     "metadata": {},
     "output_type": "execute_result"
    },
    {
     "name": "stdout",
     "output_type": "stream",
     "text": [
      "train RMSE,MAE: 0.822 0.641\n",
      "test RMSE,MAE: 0.887 0.690 \n",
      "\n",
      "\n",
      "nfactor, lr, reg: 34 0.006 2 \n",
      "\n"
     ]
    },
    {
     "data": {
      "text/plain": [
       "<surprise.prediction_algorithms.matrix_factorization.SVD at 0x7f7122ce4df0>"
      ]
     },
     "execution_count": 39,
     "metadata": {},
     "output_type": "execute_result"
    },
    {
     "name": "stdout",
     "output_type": "stream",
     "text": [
      "train RMSE,MAE: 0.858 0.674\n",
      "test RMSE,MAE: 0.910 0.713 \n",
      "\n",
      "\n",
      "nfactor, lr, reg: 34 0.006 4 \n",
      "\n"
     ]
    },
    {
     "data": {
      "text/plain": [
       "<surprise.prediction_algorithms.matrix_factorization.SVD at 0x7f7122ce4a30>"
      ]
     },
     "execution_count": 39,
     "metadata": {},
     "output_type": "execute_result"
    },
    {
     "name": "stdout",
     "output_type": "stream",
     "text": [
      "train RMSE,MAE: 0.897 0.709\n",
      "test RMSE,MAE: 0.934 0.736 \n",
      "\n",
      "\n",
      "nfactor, lr, reg: 34 0.006 10 \n",
      "\n"
     ]
    },
    {
     "data": {
      "text/plain": [
       "<surprise.prediction_algorithms.matrix_factorization.SVD at 0x7f7122ce4e50>"
      ]
     },
     "execution_count": 39,
     "metadata": {},
     "output_type": "execute_result"
    },
    {
     "name": "stdout",
     "output_type": "stream",
     "text": [
      "train RMSE,MAE: 0.941 0.748\n",
      "test RMSE,MAE: 0.960 0.761 \n",
      "\n",
      "\n",
      "nfactor, lr, reg: 34 0.007 0.01 \n",
      "\n"
     ]
    },
    {
     "data": {
      "text/plain": [
       "<surprise.prediction_algorithms.matrix_factorization.SVD at 0x7f7122ce4790>"
      ]
     },
     "execution_count": 39,
     "metadata": {},
     "output_type": "execute_result"
    },
    {
     "name": "stdout",
     "output_type": "stream",
     "text": [
      "train RMSE,MAE: 0.632 0.476\n",
      "test RMSE,MAE: 0.861 0.644 \n",
      "\n",
      "\n",
      "nfactor, lr, reg: 34 0.007 0.02 \n",
      "\n"
     ]
    },
    {
     "data": {
      "text/plain": [
       "<surprise.prediction_algorithms.matrix_factorization.SVD at 0x7f7122ce46d0>"
      ]
     },
     "execution_count": 39,
     "metadata": {},
     "output_type": "execute_result"
    },
    {
     "name": "stdout",
     "output_type": "stream",
     "text": [
      "train RMSE,MAE: 0.648 0.490\n",
      "test RMSE,MAE: 0.859 0.643 \n",
      "\n",
      "\n",
      "nfactor, lr, reg: 34 0.007 0.04 \n",
      "\n"
     ]
    },
    {
     "data": {
      "text/plain": [
       "<surprise.prediction_algorithms.matrix_factorization.SVD at 0x7f7122ce42e0>"
      ]
     },
     "execution_count": 39,
     "metadata": {},
     "output_type": "execute_result"
    },
    {
     "name": "stdout",
     "output_type": "stream",
     "text": [
      "train RMSE,MAE: 0.677 0.512\n",
      "test RMSE,MAE: 0.857 0.643 \n",
      "\n",
      "\n",
      "nfactor, lr, reg: 34 0.007 0.08 \n",
      "\n"
     ]
    },
    {
     "data": {
      "text/plain": [
       "<surprise.prediction_algorithms.matrix_factorization.SVD at 0x7f7122ce4e80>"
      ]
     },
     "execution_count": 39,
     "metadata": {},
     "output_type": "execute_result"
    },
    {
     "name": "stdout",
     "output_type": "stream",
     "text": [
      "train RMSE,MAE: 0.713 0.540\n",
      "test RMSE,MAE: 0.858 0.646 \n",
      "\n",
      "\n",
      "nfactor, lr, reg: 34 0.007 0.1 \n",
      "\n"
     ]
    },
    {
     "data": {
      "text/plain": [
       "<surprise.prediction_algorithms.matrix_factorization.SVD at 0x7f7122ce4430>"
      ]
     },
     "execution_count": 39,
     "metadata": {},
     "output_type": "execute_result"
    },
    {
     "name": "stdout",
     "output_type": "stream",
     "text": [
      "train RMSE,MAE: 0.723 0.548\n",
      "test RMSE,MAE: 0.858 0.647 \n",
      "\n",
      "\n",
      "nfactor, lr, reg: 34 0.007 0.2 \n",
      "\n"
     ]
    },
    {
     "data": {
      "text/plain": [
       "<surprise.prediction_algorithms.matrix_factorization.SVD at 0x7f7122ce41f0>"
      ]
     },
     "execution_count": 39,
     "metadata": {},
     "output_type": "execute_result"
    },
    {
     "name": "stdout",
     "output_type": "stream",
     "text": [
      "train RMSE,MAE: 0.754 0.574\n",
      "test RMSE,MAE: 0.860 0.654 \n",
      "\n",
      "\n",
      "nfactor, lr, reg: 34 0.007 0.4 \n",
      "\n"
     ]
    },
    {
     "data": {
      "text/plain": [
       "<surprise.prediction_algorithms.matrix_factorization.SVD at 0x7f7122ce4f70>"
      ]
     },
     "execution_count": 39,
     "metadata": {},
     "output_type": "execute_result"
    },
    {
     "name": "stdout",
     "output_type": "stream",
     "text": [
      "train RMSE,MAE: 0.779 0.600\n",
      "test RMSE,MAE: 0.867 0.666 \n",
      "\n",
      "\n",
      "nfactor, lr, reg: 34 0.007 0.8 \n",
      "\n"
     ]
    },
    {
     "data": {
      "text/plain": [
       "<surprise.prediction_algorithms.matrix_factorization.SVD at 0x7f7122ce4460>"
      ]
     },
     "execution_count": 39,
     "metadata": {},
     "output_type": "execute_result"
    },
    {
     "name": "stdout",
     "output_type": "stream",
     "text": [
      "train RMSE,MAE: 0.807 0.627\n",
      "test RMSE,MAE: 0.880 0.683 \n",
      "\n",
      "\n",
      "nfactor, lr, reg: 34 0.007 1 \n",
      "\n"
     ]
    },
    {
     "data": {
      "text/plain": [
       "<surprise.prediction_algorithms.matrix_factorization.SVD at 0x7f7122ce4df0>"
      ]
     },
     "execution_count": 39,
     "metadata": {},
     "output_type": "execute_result"
    },
    {
     "name": "stdout",
     "output_type": "stream",
     "text": [
      "train RMSE,MAE: 0.817 0.637\n",
      "test RMSE,MAE: 0.886 0.690 \n",
      "\n",
      "\n",
      "nfactor, lr, reg: 34 0.007 2 \n",
      "\n"
     ]
    },
    {
     "data": {
      "text/plain": [
       "<surprise.prediction_algorithms.matrix_factorization.SVD at 0x7f7122ce4cd0>"
      ]
     },
     "execution_count": 39,
     "metadata": {},
     "output_type": "execute_result"
    },
    {
     "name": "stdout",
     "output_type": "stream",
     "text": [
      "train RMSE,MAE: 0.855 0.671\n",
      "test RMSE,MAE: 0.909 0.712 \n",
      "\n",
      "\n",
      "nfactor, lr, reg: 34 0.007 4 \n",
      "\n"
     ]
    },
    {
     "data": {
      "text/plain": [
       "<surprise.prediction_algorithms.matrix_factorization.SVD at 0x7f7122ce4a30>"
      ]
     },
     "execution_count": 39,
     "metadata": {},
     "output_type": "execute_result"
    },
    {
     "name": "stdout",
     "output_type": "stream",
     "text": [
      "train RMSE,MAE: 0.896 0.707\n",
      "test RMSE,MAE: 0.934 0.736 \n",
      "\n",
      "\n",
      "nfactor, lr, reg: 34 0.007 10 \n",
      "\n"
     ]
    },
    {
     "data": {
      "text/plain": [
       "<surprise.prediction_algorithms.matrix_factorization.SVD at 0x7f7122ce4e50>"
      ]
     },
     "execution_count": 39,
     "metadata": {},
     "output_type": "execute_result"
    },
    {
     "name": "stdout",
     "output_type": "stream",
     "text": [
      "train RMSE,MAE: 0.941 0.748\n",
      "test RMSE,MAE: 0.960 0.761 \n",
      "\n",
      "\n",
      "nfactor, lr, reg: 34 0.008 0.01 \n",
      "\n"
     ]
    },
    {
     "data": {
      "text/plain": [
       "<surprise.prediction_algorithms.matrix_factorization.SVD at 0x7f7122ce4790>"
      ]
     },
     "execution_count": 39,
     "metadata": {},
     "output_type": "execute_result"
    },
    {
     "name": "stdout",
     "output_type": "stream",
     "text": [
      "train RMSE,MAE: 0.590 0.443\n",
      "test RMSE,MAE: 0.861 0.643 \n",
      "\n",
      "\n",
      "nfactor, lr, reg: 34 0.008 0.02 \n",
      "\n"
     ]
    },
    {
     "data": {
      "text/plain": [
       "<surprise.prediction_algorithms.matrix_factorization.SVD at 0x7f7122ce46d0>"
      ]
     },
     "execution_count": 39,
     "metadata": {},
     "output_type": "execute_result"
    },
    {
     "name": "stdout",
     "output_type": "stream",
     "text": [
      "train RMSE,MAE: 0.612 0.462\n",
      "test RMSE,MAE: 0.859 0.642 \n",
      "\n",
      "\n",
      "nfactor, lr, reg: 34 0.008 0.04 \n",
      "\n"
     ]
    },
    {
     "data": {
      "text/plain": [
       "<surprise.prediction_algorithms.matrix_factorization.SVD at 0x7f7122ce42e0>"
      ]
     },
     "execution_count": 39,
     "metadata": {},
     "output_type": "execute_result"
    },
    {
     "name": "stdout",
     "output_type": "stream",
     "text": [
      "train RMSE,MAE: 0.647 0.490\n",
      "test RMSE,MAE: 0.856 0.641 \n",
      "\n",
      "\n",
      "nfactor, lr, reg: 34 0.008 0.08 \n",
      "\n"
     ]
    },
    {
     "data": {
      "text/plain": [
       "<surprise.prediction_algorithms.matrix_factorization.SVD at 0x7f7122ce4e80>"
      ]
     },
     "execution_count": 39,
     "metadata": {},
     "output_type": "execute_result"
    },
    {
     "name": "stdout",
     "output_type": "stream",
     "text": [
      "train RMSE,MAE: 0.693 0.525\n",
      "test RMSE,MAE: 0.858 0.645 \n",
      "\n",
      "\n",
      "nfactor, lr, reg: 34 0.008 0.1 \n",
      "\n"
     ]
    },
    {
     "data": {
      "text/plain": [
       "<surprise.prediction_algorithms.matrix_factorization.SVD at 0x7f7122ce4430>"
      ]
     },
     "execution_count": 39,
     "metadata": {},
     "output_type": "execute_result"
    },
    {
     "name": "stdout",
     "output_type": "stream",
     "text": [
      "train RMSE,MAE: 0.705 0.535\n",
      "test RMSE,MAE: 0.856 0.646 \n",
      "\n",
      "\n",
      "nfactor, lr, reg: 34 0.008 0.2 \n",
      "\n"
     ]
    },
    {
     "data": {
      "text/plain": [
       "<surprise.prediction_algorithms.matrix_factorization.SVD at 0x7f7122ce41f0>"
      ]
     },
     "execution_count": 39,
     "metadata": {},
     "output_type": "execute_result"
    },
    {
     "name": "stdout",
     "output_type": "stream",
     "text": [
      "train RMSE,MAE: 0.744 0.567\n",
      "test RMSE,MAE: 0.859 0.652 \n",
      "\n",
      "\n",
      "nfactor, lr, reg: 34 0.008 0.4 \n",
      "\n"
     ]
    },
    {
     "data": {
      "text/plain": [
       "<surprise.prediction_algorithms.matrix_factorization.SVD at 0x7f7122ce4f70>"
      ]
     },
     "execution_count": 39,
     "metadata": {},
     "output_type": "execute_result"
    },
    {
     "name": "stdout",
     "output_type": "stream",
     "text": [
      "train RMSE,MAE: 0.773 0.594\n",
      "test RMSE,MAE: 0.866 0.665 \n",
      "\n",
      "\n",
      "nfactor, lr, reg: 34 0.008 0.8 \n",
      "\n"
     ]
    },
    {
     "data": {
      "text/plain": [
       "<surprise.prediction_algorithms.matrix_factorization.SVD at 0x7f7122ce4460>"
      ]
     },
     "execution_count": 39,
     "metadata": {},
     "output_type": "execute_result"
    },
    {
     "name": "stdout",
     "output_type": "stream",
     "text": [
      "train RMSE,MAE: 0.802 0.623\n",
      "test RMSE,MAE: 0.879 0.682 \n",
      "\n",
      "\n",
      "nfactor, lr, reg: 34 0.008 1 \n",
      "\n"
     ]
    },
    {
     "data": {
      "text/plain": [
       "<surprise.prediction_algorithms.matrix_factorization.SVD at 0x7f7122ce4df0>"
      ]
     },
     "execution_count": 39,
     "metadata": {},
     "output_type": "execute_result"
    },
    {
     "name": "stdout",
     "output_type": "stream",
     "text": [
      "train RMSE,MAE: 0.813 0.633\n",
      "test RMSE,MAE: 0.886 0.689 \n",
      "\n",
      "\n",
      "nfactor, lr, reg: 34 0.008 2 \n",
      "\n"
     ]
    },
    {
     "data": {
      "text/plain": [
       "<surprise.prediction_algorithms.matrix_factorization.SVD at 0x7f7122ce4cd0>"
      ]
     },
     "execution_count": 39,
     "metadata": {},
     "output_type": "execute_result"
    },
    {
     "name": "stdout",
     "output_type": "stream",
     "text": [
      "train RMSE,MAE: 0.852 0.669\n",
      "test RMSE,MAE: 0.909 0.712 \n",
      "\n",
      "\n",
      "nfactor, lr, reg: 34 0.008 4 \n",
      "\n"
     ]
    },
    {
     "data": {
      "text/plain": [
       "<surprise.prediction_algorithms.matrix_factorization.SVD at 0x7f7122ce4a30>"
      ]
     },
     "execution_count": 39,
     "metadata": {},
     "output_type": "execute_result"
    },
    {
     "name": "stdout",
     "output_type": "stream",
     "text": [
      "train RMSE,MAE: 0.895 0.706\n",
      "test RMSE,MAE: 0.934 0.735 \n",
      "\n",
      "\n",
      "nfactor, lr, reg: 34 0.008 10 \n",
      "\n"
     ]
    },
    {
     "data": {
      "text/plain": [
       "<surprise.prediction_algorithms.matrix_factorization.SVD at 0x7f7122ce4e50>"
      ]
     },
     "execution_count": 39,
     "metadata": {},
     "output_type": "execute_result"
    },
    {
     "name": "stdout",
     "output_type": "stream",
     "text": [
      "train RMSE,MAE: 0.941 0.748\n",
      "test RMSE,MAE: 0.960 0.761 \n",
      "\n",
      "\n",
      "nfactor, lr, reg: 34 0.009000000000000001 0.01 \n",
      "\n"
     ]
    },
    {
     "data": {
      "text/plain": [
       "<surprise.prediction_algorithms.matrix_factorization.SVD at 0x7f7122ce4790>"
      ]
     },
     "execution_count": 39,
     "metadata": {},
     "output_type": "execute_result"
    },
    {
     "name": "stdout",
     "output_type": "stream",
     "text": [
      "train RMSE,MAE: 0.546 0.409\n",
      "test RMSE,MAE: 0.864 0.642 \n",
      "\n",
      "\n",
      "nfactor, lr, reg: 34 0.009000000000000001 0.02 \n",
      "\n"
     ]
    },
    {
     "data": {
      "text/plain": [
       "<surprise.prediction_algorithms.matrix_factorization.SVD at 0x7f7122ce46d0>"
      ]
     },
     "execution_count": 39,
     "metadata": {},
     "output_type": "execute_result"
    },
    {
     "name": "stdout",
     "output_type": "stream",
     "text": [
      "train RMSE,MAE: 0.574 0.433\n",
      "test RMSE,MAE: 0.861 0.642 \n",
      "\n",
      "\n",
      "nfactor, lr, reg: 34 0.009000000000000001 0.04 \n",
      "\n"
     ]
    },
    {
     "data": {
      "text/plain": [
       "<surprise.prediction_algorithms.matrix_factorization.SVD at 0x7f7122ce42e0>"
      ]
     },
     "execution_count": 39,
     "metadata": {},
     "output_type": "execute_result"
    },
    {
     "name": "stdout",
     "output_type": "stream",
     "text": [
      "train RMSE,MAE: 0.617 0.467\n",
      "test RMSE,MAE: 0.857 0.640 \n",
      "\n",
      "\n",
      "nfactor, lr, reg: 34 0.009000000000000001 0.08 \n",
      "\n"
     ]
    },
    {
     "data": {
      "text/plain": [
       "<surprise.prediction_algorithms.matrix_factorization.SVD at 0x7f7122ce4e80>"
      ]
     },
     "execution_count": 39,
     "metadata": {},
     "output_type": "execute_result"
    },
    {
     "name": "stdout",
     "output_type": "stream",
     "text": [
      "train RMSE,MAE: 0.671 0.509\n",
      "test RMSE,MAE: 0.857 0.644 \n",
      "\n",
      "\n",
      "nfactor, lr, reg: 34 0.009000000000000001 0.1 \n",
      "\n"
     ]
    },
    {
     "data": {
      "text/plain": [
       "<surprise.prediction_algorithms.matrix_factorization.SVD at 0x7f7122ce4430>"
      ]
     },
     "execution_count": 39,
     "metadata": {},
     "output_type": "execute_result"
    },
    {
     "name": "stdout",
     "output_type": "stream",
     "text": [
      "train RMSE,MAE: 0.690 0.524\n",
      "test RMSE,MAE: 0.856 0.645 \n",
      "\n",
      "\n",
      "nfactor, lr, reg: 34 0.009000000000000001 0.2 \n",
      "\n"
     ]
    },
    {
     "data": {
      "text/plain": [
       "<surprise.prediction_algorithms.matrix_factorization.SVD at 0x7f7122ce41f0>"
      ]
     },
     "execution_count": 39,
     "metadata": {},
     "output_type": "execute_result"
    },
    {
     "name": "stdout",
     "output_type": "stream",
     "text": [
      "train RMSE,MAE: 0.736 0.560\n",
      "test RMSE,MAE: 0.859 0.652 \n",
      "\n",
      "\n",
      "nfactor, lr, reg: 34 0.009000000000000001 0.4 \n",
      "\n"
     ]
    },
    {
     "data": {
      "text/plain": [
       "<surprise.prediction_algorithms.matrix_factorization.SVD at 0x7f7122ce4f70>"
      ]
     },
     "execution_count": 39,
     "metadata": {},
     "output_type": "execute_result"
    },
    {
     "name": "stdout",
     "output_type": "stream",
     "text": [
      "train RMSE,MAE: 0.768 0.589\n",
      "test RMSE,MAE: 0.866 0.664 \n",
      "\n",
      "\n",
      "nfactor, lr, reg: 34 0.009000000000000001 0.8 \n",
      "\n"
     ]
    },
    {
     "data": {
      "text/plain": [
       "<surprise.prediction_algorithms.matrix_factorization.SVD at 0x7f7122ce4460>"
      ]
     },
     "execution_count": 39,
     "metadata": {},
     "output_type": "execute_result"
    },
    {
     "name": "stdout",
     "output_type": "stream",
     "text": [
      "train RMSE,MAE: 0.798 0.619\n",
      "test RMSE,MAE: 0.879 0.682 \n",
      "\n",
      "\n",
      "nfactor, lr, reg: 34 0.009000000000000001 1 \n",
      "\n"
     ]
    },
    {
     "data": {
      "text/plain": [
       "<surprise.prediction_algorithms.matrix_factorization.SVD at 0x7f7122ce4df0>"
      ]
     },
     "execution_count": 39,
     "metadata": {},
     "output_type": "execute_result"
    },
    {
     "name": "stdout",
     "output_type": "stream",
     "text": [
      "train RMSE,MAE: 0.809 0.630\n",
      "test RMSE,MAE: 0.885 0.689 \n",
      "\n",
      "\n",
      "nfactor, lr, reg: 34 0.009000000000000001 2 \n",
      "\n"
     ]
    },
    {
     "data": {
      "text/plain": [
       "<surprise.prediction_algorithms.matrix_factorization.SVD at 0x7f7122ce4cd0>"
      ]
     },
     "execution_count": 39,
     "metadata": {},
     "output_type": "execute_result"
    },
    {
     "name": "stdout",
     "output_type": "stream",
     "text": [
      "train RMSE,MAE: 0.850 0.667\n",
      "test RMSE,MAE: 0.909 0.712 \n",
      "\n",
      "\n",
      "nfactor, lr, reg: 34 0.009000000000000001 4 \n",
      "\n"
     ]
    },
    {
     "data": {
      "text/plain": [
       "<surprise.prediction_algorithms.matrix_factorization.SVD at 0x7f7122ce4a30>"
      ]
     },
     "execution_count": 39,
     "metadata": {},
     "output_type": "execute_result"
    },
    {
     "name": "stdout",
     "output_type": "stream",
     "text": [
      "train RMSE,MAE: 0.894 0.706\n",
      "test RMSE,MAE: 0.934 0.735 \n",
      "\n",
      "\n",
      "nfactor, lr, reg: 34 0.009000000000000001 10 \n",
      "\n"
     ]
    },
    {
     "data": {
      "text/plain": [
       "<surprise.prediction_algorithms.matrix_factorization.SVD at 0x7f7122ce4e50>"
      ]
     },
     "execution_count": 39,
     "metadata": {},
     "output_type": "execute_result"
    },
    {
     "name": "stdout",
     "output_type": "stream",
     "text": [
      "train RMSE,MAE: 0.941 0.748\n",
      "test RMSE,MAE: 0.961 0.761 \n",
      "\n",
      "\n",
      "nfactor, lr, reg: 42 0.001 0.01 \n",
      "\n"
     ]
    },
    {
     "data": {
      "text/plain": [
       "<surprise.prediction_algorithms.matrix_factorization.SVD at 0x7f7122ce4790>"
      ]
     },
     "execution_count": 39,
     "metadata": {},
     "output_type": "execute_result"
    },
    {
     "name": "stdout",
     "output_type": "stream",
     "text": [
      "train RMSE,MAE: 0.847 0.647\n",
      "test RMSE,MAE: 0.887 0.677 \n",
      "\n",
      "\n",
      "nfactor, lr, reg: 42 0.001 0.02 \n",
      "\n"
     ]
    },
    {
     "data": {
      "text/plain": [
       "<surprise.prediction_algorithms.matrix_factorization.SVD at 0x7f7122ce46d0>"
      ]
     },
     "execution_count": 39,
     "metadata": {},
     "output_type": "execute_result"
    },
    {
     "name": "stdout",
     "output_type": "stream",
     "text": [
      "train RMSE,MAE: 0.847 0.648\n",
      "test RMSE,MAE: 0.886 0.677 \n",
      "\n",
      "\n",
      "nfactor, lr, reg: 42 0.001 0.04 \n",
      "\n"
     ]
    },
    {
     "data": {
      "text/plain": [
       "<surprise.prediction_algorithms.matrix_factorization.SVD at 0x7f7122ce42e0>"
      ]
     },
     "execution_count": 39,
     "metadata": {},
     "output_type": "execute_result"
    },
    {
     "name": "stdout",
     "output_type": "stream",
     "text": [
      "train RMSE,MAE: 0.848 0.649\n",
      "test RMSE,MAE: 0.886 0.678 \n",
      "\n",
      "\n",
      "nfactor, lr, reg: 42 0.001 0.08 \n",
      "\n"
     ]
    },
    {
     "data": {
      "text/plain": [
       "<surprise.prediction_algorithms.matrix_factorization.SVD at 0x7f7122ce4e80>"
      ]
     },
     "execution_count": 39,
     "metadata": {},
     "output_type": "execute_result"
    },
    {
     "name": "stdout",
     "output_type": "stream",
     "text": [
      "train RMSE,MAE: 0.850 0.652\n",
      "test RMSE,MAE: 0.886 0.680 \n",
      "\n",
      "\n",
      "nfactor, lr, reg: 42 0.001 0.1 \n",
      "\n"
     ]
    },
    {
     "data": {
      "text/plain": [
       "<surprise.prediction_algorithms.matrix_factorization.SVD at 0x7f7122ce4430>"
      ]
     },
     "execution_count": 39,
     "metadata": {},
     "output_type": "execute_result"
    },
    {
     "name": "stdout",
     "output_type": "stream",
     "text": [
      "train RMSE,MAE: 0.851 0.653\n",
      "test RMSE,MAE: 0.886 0.679 \n",
      "\n",
      "\n",
      "nfactor, lr, reg: 42 0.001 0.2 \n",
      "\n"
     ]
    },
    {
     "data": {
      "text/plain": [
       "<surprise.prediction_algorithms.matrix_factorization.SVD at 0x7f7122ce41f0>"
      ]
     },
     "execution_count": 39,
     "metadata": {},
     "output_type": "execute_result"
    },
    {
     "name": "stdout",
     "output_type": "stream",
     "text": [
      "train RMSE,MAE: 0.855 0.659\n",
      "test RMSE,MAE: 0.889 0.684 \n",
      "\n",
      "\n",
      "nfactor, lr, reg: 42 0.001 0.4 \n",
      "\n"
     ]
    },
    {
     "data": {
      "text/plain": [
       "<surprise.prediction_algorithms.matrix_factorization.SVD at 0x7f7122ce4f70>"
      ]
     },
     "execution_count": 39,
     "metadata": {},
     "output_type": "execute_result"
    },
    {
     "name": "stdout",
     "output_type": "stream",
     "text": [
      "train RMSE,MAE: 0.862 0.669\n",
      "test RMSE,MAE: 0.893 0.691 \n",
      "\n",
      "\n",
      "nfactor, lr, reg: 42 0.001 0.8 \n",
      "\n"
     ]
    },
    {
     "data": {
      "text/plain": [
       "<surprise.prediction_algorithms.matrix_factorization.SVD at 0x7f7122ce4460>"
      ]
     },
     "execution_count": 39,
     "metadata": {},
     "output_type": "execute_result"
    },
    {
     "name": "stdout",
     "output_type": "stream",
     "text": [
      "train RMSE,MAE: 0.876 0.684\n",
      "test RMSE,MAE: 0.902 0.703 \n",
      "\n",
      "\n",
      "nfactor, lr, reg: 42 0.001 1 \n",
      "\n"
     ]
    },
    {
     "data": {
      "text/plain": [
       "<surprise.prediction_algorithms.matrix_factorization.SVD at 0x7f7122ce4df0>"
      ]
     },
     "execution_count": 39,
     "metadata": {},
     "output_type": "execute_result"
    },
    {
     "name": "stdout",
     "output_type": "stream",
     "text": [
      "train RMSE,MAE: 0.881 0.690\n",
      "test RMSE,MAE: 0.906 0.708 \n",
      "\n",
      "\n",
      "nfactor, lr, reg: 42 0.001 2 \n",
      "\n"
     ]
    },
    {
     "data": {
      "text/plain": [
       "<surprise.prediction_algorithms.matrix_factorization.SVD at 0x7f7122ce4cd0>"
      ]
     },
     "execution_count": 39,
     "metadata": {},
     "output_type": "execute_result"
    },
    {
     "name": "stdout",
     "output_type": "stream",
     "text": [
      "train RMSE,MAE: 0.903 0.711\n",
      "test RMSE,MAE: 0.924 0.725 \n",
      "\n",
      "\n",
      "nfactor, lr, reg: 42 0.001 4 \n",
      "\n"
     ]
    },
    {
     "data": {
      "text/plain": [
       "<surprise.prediction_algorithms.matrix_factorization.SVD at 0x7f7122ce4a30>"
      ]
     },
     "execution_count": 39,
     "metadata": {},
     "output_type": "execute_result"
    },
    {
     "name": "stdout",
     "output_type": "stream",
     "text": [
      "train RMSE,MAE: 0.926 0.733\n",
      "test RMSE,MAE: 0.943 0.745 \n",
      "\n",
      "\n",
      "nfactor, lr, reg: 42 0.001 10 \n",
      "\n"
     ]
    },
    {
     "data": {
      "text/plain": [
       "<surprise.prediction_algorithms.matrix_factorization.SVD at 0x7f7122ce4e50>"
      ]
     },
     "execution_count": 39,
     "metadata": {},
     "output_type": "execute_result"
    },
    {
     "name": "stdout",
     "output_type": "stream",
     "text": [
      "train RMSE,MAE: 0.951 0.757\n",
      "test RMSE,MAE: 0.964 0.765 \n",
      "\n",
      "\n",
      "nfactor, lr, reg: 42 0.002 0.01 \n",
      "\n"
     ]
    },
    {
     "data": {
      "text/plain": [
       "<surprise.prediction_algorithms.matrix_factorization.SVD at 0x7f7122ce4790>"
      ]
     },
     "execution_count": 39,
     "metadata": {},
     "output_type": "execute_result"
    },
    {
     "name": "stdout",
     "output_type": "stream",
     "text": [
      "train RMSE,MAE: 0.804 0.609\n",
      "test RMSE,MAE: 0.874 0.662 \n",
      "\n",
      "\n",
      "nfactor, lr, reg: 42 0.002 0.02 \n",
      "\n"
     ]
    },
    {
     "data": {
      "text/plain": [
       "<surprise.prediction_algorithms.matrix_factorization.SVD at 0x7f7122ce46d0>"
      ]
     },
     "execution_count": 39,
     "metadata": {},
     "output_type": "execute_result"
    },
    {
     "name": "stdout",
     "output_type": "stream",
     "text": [
      "train RMSE,MAE: 0.806 0.611\n",
      "test RMSE,MAE: 0.873 0.662 \n",
      "\n",
      "\n",
      "nfactor, lr, reg: 42 0.002 0.04 \n",
      "\n"
     ]
    },
    {
     "data": {
      "text/plain": [
       "<surprise.prediction_algorithms.matrix_factorization.SVD at 0x7f7122ce42e0>"
      ]
     },
     "execution_count": 39,
     "metadata": {},
     "output_type": "execute_result"
    },
    {
     "name": "stdout",
     "output_type": "stream",
     "text": [
      "train RMSE,MAE: 0.808 0.614\n",
      "test RMSE,MAE: 0.874 0.663 \n",
      "\n",
      "\n",
      "nfactor, lr, reg: 42 0.002 0.08 \n",
      "\n"
     ]
    },
    {
     "data": {
      "text/plain": [
       "<surprise.prediction_algorithms.matrix_factorization.SVD at 0x7f7122ce4e80>"
      ]
     },
     "execution_count": 39,
     "metadata": {},
     "output_type": "execute_result"
    },
    {
     "name": "stdout",
     "output_type": "stream",
     "text": [
      "train RMSE,MAE: 0.812 0.619\n",
      "test RMSE,MAE: 0.873 0.665 \n",
      "\n",
      "\n",
      "nfactor, lr, reg: 42 0.002 0.1 \n",
      "\n"
     ]
    },
    {
     "data": {
      "text/plain": [
       "<surprise.prediction_algorithms.matrix_factorization.SVD at 0x7f7122ce4430>"
      ]
     },
     "execution_count": 39,
     "metadata": {},
     "output_type": "execute_result"
    },
    {
     "name": "stdout",
     "output_type": "stream",
     "text": [
      "train RMSE,MAE: 0.814 0.622\n",
      "test RMSE,MAE: 0.874 0.666 \n",
      "\n",
      "\n",
      "nfactor, lr, reg: 42 0.002 0.2 \n",
      "\n"
     ]
    },
    {
     "data": {
      "text/plain": [
       "<surprise.prediction_algorithms.matrix_factorization.SVD at 0x7f7122ce41f0>"
      ]
     },
     "execution_count": 39,
     "metadata": {},
     "output_type": "execute_result"
    },
    {
     "name": "stdout",
     "output_type": "stream",
     "text": [
      "train RMSE,MAE: 0.822 0.631\n",
      "test RMSE,MAE: 0.875 0.671 \n",
      "\n",
      "\n",
      "nfactor, lr, reg: 42 0.002 0.4 \n",
      "\n"
     ]
    },
    {
     "data": {
      "text/plain": [
       "<surprise.prediction_algorithms.matrix_factorization.SVD at 0x7f7122ce4f70>"
      ]
     },
     "execution_count": 39,
     "metadata": {},
     "output_type": "execute_result"
    },
    {
     "name": "stdout",
     "output_type": "stream",
     "text": [
      "train RMSE,MAE: 0.834 0.646\n",
      "test RMSE,MAE: 0.880 0.680 \n",
      "\n",
      "\n",
      "nfactor, lr, reg: 42 0.002 0.8 \n",
      "\n"
     ]
    },
    {
     "data": {
      "text/plain": [
       "<surprise.prediction_algorithms.matrix_factorization.SVD at 0x7f7122ce4460>"
      ]
     },
     "execution_count": 39,
     "metadata": {},
     "output_type": "execute_result"
    },
    {
     "name": "stdout",
     "output_type": "stream",
     "text": [
      "train RMSE,MAE: 0.853 0.665\n",
      "test RMSE,MAE: 0.891 0.694 \n",
      "\n",
      "\n",
      "nfactor, lr, reg: 42 0.002 1 \n",
      "\n"
     ]
    },
    {
     "data": {
      "text/plain": [
       "<surprise.prediction_algorithms.matrix_factorization.SVD at 0x7f7122ce4df0>"
      ]
     },
     "execution_count": 39,
     "metadata": {},
     "output_type": "execute_result"
    },
    {
     "name": "stdout",
     "output_type": "stream",
     "text": [
      "train RMSE,MAE: 0.860 0.672\n",
      "test RMSE,MAE: 0.897 0.700 \n",
      "\n",
      "\n",
      "nfactor, lr, reg: 42 0.002 2 \n",
      "\n"
     ]
    },
    {
     "data": {
      "text/plain": [
       "<surprise.prediction_algorithms.matrix_factorization.SVD at 0x7f7122ce4cd0>"
      ]
     },
     "execution_count": 39,
     "metadata": {},
     "output_type": "execute_result"
    },
    {
     "name": "stdout",
     "output_type": "stream",
     "text": [
      "train RMSE,MAE: 0.887 0.697\n",
      "test RMSE,MAE: 0.917 0.719 \n",
      "\n",
      "\n",
      "nfactor, lr, reg: 42 0.002 4 \n",
      "\n"
     ]
    },
    {
     "data": {
      "text/plain": [
       "<surprise.prediction_algorithms.matrix_factorization.SVD at 0x7f7122ce4a30>"
      ]
     },
     "execution_count": 39,
     "metadata": {},
     "output_type": "execute_result"
    },
    {
     "name": "stdout",
     "output_type": "stream",
     "text": [
      "train RMSE,MAE: 0.914 0.723\n",
      "test RMSE,MAE: 0.939 0.741 \n",
      "\n",
      "\n",
      "nfactor, lr, reg: 42 0.002 10 \n",
      "\n"
     ]
    },
    {
     "data": {
      "text/plain": [
       "<surprise.prediction_algorithms.matrix_factorization.SVD at 0x7f7122ce4e50>"
      ]
     },
     "execution_count": 39,
     "metadata": {},
     "output_type": "execute_result"
    },
    {
     "name": "stdout",
     "output_type": "stream",
     "text": [
      "train RMSE,MAE: 0.946 0.752\n",
      "test RMSE,MAE: 0.962 0.763 \n",
      "\n",
      "\n",
      "nfactor, lr, reg: 42 0.003 0.01 \n",
      "\n"
     ]
    },
    {
     "data": {
      "text/plain": [
       "<surprise.prediction_algorithms.matrix_factorization.SVD at 0x7f7122ce4790>"
      ]
     },
     "execution_count": 39,
     "metadata": {},
     "output_type": "execute_result"
    },
    {
     "name": "stdout",
     "output_type": "stream",
     "text": [
      "train RMSE,MAE: 0.770 0.581\n",
      "test RMSE,MAE: 0.868 0.655 \n",
      "\n",
      "\n",
      "nfactor, lr, reg: 42 0.003 0.02 \n",
      "\n"
     ]
    },
    {
     "data": {
      "text/plain": [
       "<surprise.prediction_algorithms.matrix_factorization.SVD at 0x7f7122ce46d0>"
      ]
     },
     "execution_count": 39,
     "metadata": {},
     "output_type": "execute_result"
    },
    {
     "name": "stdout",
     "output_type": "stream",
     "text": [
      "train RMSE,MAE: 0.773 0.584\n",
      "test RMSE,MAE: 0.867 0.654 \n",
      "\n",
      "\n",
      "nfactor, lr, reg: 42 0.003 0.04 \n",
      "\n"
     ]
    },
    {
     "data": {
      "text/plain": [
       "<surprise.prediction_algorithms.matrix_factorization.SVD at 0x7f7122ce42e0>"
      ]
     },
     "execution_count": 39,
     "metadata": {},
     "output_type": "execute_result"
    },
    {
     "name": "stdout",
     "output_type": "stream",
     "text": [
      "train RMSE,MAE: 0.778 0.589\n",
      "test RMSE,MAE: 0.867 0.656 \n",
      "\n",
      "\n",
      "nfactor, lr, reg: 42 0.003 0.08 \n",
      "\n"
     ]
    },
    {
     "data": {
      "text/plain": [
       "<surprise.prediction_algorithms.matrix_factorization.SVD at 0x7f7122ce4e80>"
      ]
     },
     "execution_count": 39,
     "metadata": {},
     "output_type": "execute_result"
    },
    {
     "name": "stdout",
     "output_type": "stream",
     "text": [
      "train RMSE,MAE: 0.786 0.597\n",
      "test RMSE,MAE: 0.867 0.657 \n",
      "\n",
      "\n",
      "nfactor, lr, reg: 42 0.003 0.1 \n",
      "\n"
     ]
    },
    {
     "data": {
      "text/plain": [
       "<surprise.prediction_algorithms.matrix_factorization.SVD at 0x7f7122ce4430>"
      ]
     },
     "execution_count": 39,
     "metadata": {},
     "output_type": "execute_result"
    },
    {
     "name": "stdout",
     "output_type": "stream",
     "text": [
      "train RMSE,MAE: 0.789 0.601\n",
      "test RMSE,MAE: 0.867 0.659 \n",
      "\n",
      "\n",
      "nfactor, lr, reg: 42 0.003 0.2 \n",
      "\n"
     ]
    },
    {
     "data": {
      "text/plain": [
       "<surprise.prediction_algorithms.matrix_factorization.SVD at 0x7f7122ce41f0>"
      ]
     },
     "execution_count": 39,
     "metadata": {},
     "output_type": "execute_result"
    },
    {
     "name": "stdout",
     "output_type": "stream",
     "text": [
      "train RMSE,MAE: 0.801 0.614\n",
      "test RMSE,MAE: 0.869 0.665 \n",
      "\n",
      "\n",
      "nfactor, lr, reg: 42 0.003 0.4 \n",
      "\n"
     ]
    },
    {
     "data": {
      "text/plain": [
       "<surprise.prediction_algorithms.matrix_factorization.SVD at 0x7f7122ce4f70>"
      ]
     },
     "execution_count": 39,
     "metadata": {},
     "output_type": "execute_result"
    },
    {
     "name": "stdout",
     "output_type": "stream",
     "text": [
      "train RMSE,MAE: 0.817 0.631\n",
      "test RMSE,MAE: 0.874 0.674 \n",
      "\n",
      "\n",
      "nfactor, lr, reg: 42 0.003 0.8 \n",
      "\n"
     ]
    },
    {
     "data": {
      "text/plain": [
       "<surprise.prediction_algorithms.matrix_factorization.SVD at 0x7f7122ce4460>"
      ]
     },
     "execution_count": 39,
     "metadata": {},
     "output_type": "execute_result"
    },
    {
     "name": "stdout",
     "output_type": "stream",
     "text": [
      "train RMSE,MAE: 0.838 0.653\n",
      "test RMSE,MAE: 0.886 0.690 \n",
      "\n",
      "\n",
      "nfactor, lr, reg: 42 0.003 1 \n",
      "\n"
     ]
    },
    {
     "data": {
      "text/plain": [
       "<surprise.prediction_algorithms.matrix_factorization.SVD at 0x7f7122ce4df0>"
      ]
     },
     "execution_count": 39,
     "metadata": {},
     "output_type": "execute_result"
    },
    {
     "name": "stdout",
     "output_type": "stream",
     "text": [
      "train RMSE,MAE: 0.846 0.661\n",
      "test RMSE,MAE: 0.892 0.696 \n",
      "\n",
      "\n",
      "nfactor, lr, reg: 42 0.003 2 \n",
      "\n"
     ]
    },
    {
     "data": {
      "text/plain": [
       "<surprise.prediction_algorithms.matrix_factorization.SVD at 0x7f7122ce4cd0>"
      ]
     },
     "execution_count": 39,
     "metadata": {},
     "output_type": "execute_result"
    },
    {
     "name": "stdout",
     "output_type": "stream",
     "text": [
      "train RMSE,MAE: 0.876 0.689\n",
      "test RMSE,MAE: 0.914 0.717 \n",
      "\n",
      "\n",
      "nfactor, lr, reg: 42 0.003 4 \n",
      "\n"
     ]
    },
    {
     "data": {
      "text/plain": [
       "<surprise.prediction_algorithms.matrix_factorization.SVD at 0x7f7122ce4a30>"
      ]
     },
     "execution_count": 39,
     "metadata": {},
     "output_type": "execute_result"
    },
    {
     "name": "stdout",
     "output_type": "stream",
     "text": [
      "train RMSE,MAE: 0.907 0.717\n",
      "test RMSE,MAE: 0.937 0.739 \n",
      "\n",
      "\n",
      "nfactor, lr, reg: 42 0.003 10 \n",
      "\n"
     ]
    },
    {
     "data": {
      "text/plain": [
       "<surprise.prediction_algorithms.matrix_factorization.SVD at 0x7f7122ce4e50>"
      ]
     },
     "execution_count": 39,
     "metadata": {},
     "output_type": "execute_result"
    },
    {
     "name": "stdout",
     "output_type": "stream",
     "text": [
      "train RMSE,MAE: 0.943 0.750\n",
      "test RMSE,MAE: 0.961 0.762 \n",
      "\n",
      "\n",
      "nfactor, lr, reg: 42 0.004 0.01 \n",
      "\n"
     ]
    },
    {
     "data": {
      "text/plain": [
       "<surprise.prediction_algorithms.matrix_factorization.SVD at 0x7f7122ce4790>"
      ]
     },
     "execution_count": 39,
     "metadata": {},
     "output_type": "execute_result"
    },
    {
     "name": "stdout",
     "output_type": "stream",
     "text": [
      "train RMSE,MAE: 0.734 0.554\n",
      "test RMSE,MAE: 0.864 0.651 \n",
      "\n",
      "\n",
      "nfactor, lr, reg: 42 0.004 0.02 \n",
      "\n"
     ]
    },
    {
     "data": {
      "text/plain": [
       "<surprise.prediction_algorithms.matrix_factorization.SVD at 0x7f7122ce46d0>"
      ]
     },
     "execution_count": 39,
     "metadata": {},
     "output_type": "execute_result"
    },
    {
     "name": "stdout",
     "output_type": "stream",
     "text": [
      "train RMSE,MAE: 0.740 0.559\n",
      "test RMSE,MAE: 0.864 0.650 \n",
      "\n",
      "\n",
      "nfactor, lr, reg: 42 0.004 0.04 \n",
      "\n"
     ]
    },
    {
     "data": {
      "text/plain": [
       "<surprise.prediction_algorithms.matrix_factorization.SVD at 0x7f7122ce42e0>"
      ]
     },
     "execution_count": 39,
     "metadata": {},
     "output_type": "execute_result"
    },
    {
     "name": "stdout",
     "output_type": "stream",
     "text": [
      "train RMSE,MAE: 0.749 0.567\n",
      "test RMSE,MAE: 0.864 0.651 \n",
      "\n",
      "\n",
      "nfactor, lr, reg: 42 0.004 0.08 \n",
      "\n"
     ]
    },
    {
     "data": {
      "text/plain": [
       "<surprise.prediction_algorithms.matrix_factorization.SVD at 0x7f7122ce4e80>"
      ]
     },
     "execution_count": 39,
     "metadata": {},
     "output_type": "execute_result"
    },
    {
     "name": "stdout",
     "output_type": "stream",
     "text": [
      "train RMSE,MAE: 0.763 0.579\n",
      "test RMSE,MAE: 0.862 0.653 \n",
      "\n",
      "\n",
      "nfactor, lr, reg: 42 0.004 0.1 \n",
      "\n"
     ]
    },
    {
     "data": {
      "text/plain": [
       "<surprise.prediction_algorithms.matrix_factorization.SVD at 0x7f7122ce4430>"
      ]
     },
     "execution_count": 39,
     "metadata": {},
     "output_type": "execute_result"
    },
    {
     "name": "stdout",
     "output_type": "stream",
     "text": [
      "train RMSE,MAE: 0.768 0.583\n",
      "test RMSE,MAE: 0.863 0.654 \n",
      "\n",
      "\n",
      "nfactor, lr, reg: 42 0.004 0.2 \n",
      "\n"
     ]
    },
    {
     "data": {
      "text/plain": [
       "<surprise.prediction_algorithms.matrix_factorization.SVD at 0x7f7122ce41f0>"
      ]
     },
     "execution_count": 39,
     "metadata": {},
     "output_type": "execute_result"
    },
    {
     "name": "stdout",
     "output_type": "stream",
     "text": [
      "train RMSE,MAE: 0.785 0.600\n",
      "test RMSE,MAE: 0.865 0.660 \n",
      "\n",
      "\n",
      "nfactor, lr, reg: 42 0.004 0.4 \n",
      "\n"
     ]
    },
    {
     "data": {
      "text/plain": [
       "<surprise.prediction_algorithms.matrix_factorization.SVD at 0x7f7122ce4f70>"
      ]
     },
     "execution_count": 39,
     "metadata": {},
     "output_type": "execute_result"
    },
    {
     "name": "stdout",
     "output_type": "stream",
     "text": [
      "train RMSE,MAE: 0.804 0.620\n",
      "test RMSE,MAE: 0.871 0.671 \n",
      "\n",
      "\n",
      "nfactor, lr, reg: 42 0.004 0.8 \n",
      "\n"
     ]
    },
    {
     "data": {
      "text/plain": [
       "<surprise.prediction_algorithms.matrix_factorization.SVD at 0x7f7122ce4460>"
      ]
     },
     "execution_count": 39,
     "metadata": {},
     "output_type": "execute_result"
    },
    {
     "name": "stdout",
     "output_type": "stream",
     "text": [
      "train RMSE,MAE: 0.827 0.644\n",
      "test RMSE,MAE: 0.884 0.687 \n",
      "\n",
      "\n",
      "nfactor, lr, reg: 42 0.004 1 \n",
      "\n"
     ]
    },
    {
     "data": {
      "text/plain": [
       "<surprise.prediction_algorithms.matrix_factorization.SVD at 0x7f7122ce4df0>"
      ]
     },
     "execution_count": 39,
     "metadata": {},
     "output_type": "execute_result"
    },
    {
     "name": "stdout",
     "output_type": "stream",
     "text": [
      "train RMSE,MAE: 0.836 0.653\n",
      "test RMSE,MAE: 0.889 0.693 \n",
      "\n",
      "\n",
      "nfactor, lr, reg: 42 0.004 2 \n",
      "\n"
     ]
    },
    {
     "data": {
      "text/plain": [
       "<surprise.prediction_algorithms.matrix_factorization.SVD at 0x7f7122ce4cd0>"
      ]
     },
     "execution_count": 39,
     "metadata": {},
     "output_type": "execute_result"
    },
    {
     "name": "stdout",
     "output_type": "stream",
     "text": [
      "train RMSE,MAE: 0.868 0.682\n",
      "test RMSE,MAE: 0.912 0.715 \n",
      "\n",
      "\n",
      "nfactor, lr, reg: 42 0.004 4 \n",
      "\n"
     ]
    },
    {
     "data": {
      "text/plain": [
       "<surprise.prediction_algorithms.matrix_factorization.SVD at 0x7f7122ce4a30>"
      ]
     },
     "execution_count": 39,
     "metadata": {},
     "output_type": "execute_result"
    },
    {
     "name": "stdout",
     "output_type": "stream",
     "text": [
      "train RMSE,MAE: 0.903 0.713\n",
      "test RMSE,MAE: 0.935 0.737 \n",
      "\n",
      "\n",
      "nfactor, lr, reg: 42 0.004 10 \n",
      "\n"
     ]
    },
    {
     "data": {
      "text/plain": [
       "<surprise.prediction_algorithms.matrix_factorization.SVD at 0x7f7122ce4e50>"
      ]
     },
     "execution_count": 39,
     "metadata": {},
     "output_type": "execute_result"
    },
    {
     "name": "stdout",
     "output_type": "stream",
     "text": [
      "train RMSE,MAE: 0.942 0.749\n",
      "test RMSE,MAE: 0.961 0.761 \n",
      "\n",
      "\n",
      "nfactor, lr, reg: 42 0.005 0.01 \n",
      "\n"
     ]
    },
    {
     "data": {
      "text/plain": [
       "<surprise.prediction_algorithms.matrix_factorization.SVD at 0x7f7122ce4790>"
      ]
     },
     "execution_count": 39,
     "metadata": {},
     "output_type": "execute_result"
    },
    {
     "name": "stdout",
     "output_type": "stream",
     "text": [
      "train RMSE,MAE: 0.693 0.523\n",
      "test RMSE,MAE: 0.862 0.647 \n",
      "\n",
      "\n",
      "nfactor, lr, reg: 42 0.005 0.02 \n",
      "\n"
     ]
    },
    {
     "data": {
      "text/plain": [
       "<surprise.prediction_algorithms.matrix_factorization.SVD at 0x7f7122ce46d0>"
      ]
     },
     "execution_count": 39,
     "metadata": {},
     "output_type": "execute_result"
    },
    {
     "name": "stdout",
     "output_type": "stream",
     "text": [
      "train RMSE,MAE: 0.705 0.532\n",
      "test RMSE,MAE: 0.862 0.647 \n",
      "\n",
      "\n",
      "nfactor, lr, reg: 42 0.005 0.04 \n",
      "\n"
     ]
    },
    {
     "data": {
      "text/plain": [
       "<surprise.prediction_algorithms.matrix_factorization.SVD at 0x7f7122ce42e0>"
      ]
     },
     "execution_count": 39,
     "metadata": {},
     "output_type": "execute_result"
    },
    {
     "name": "stdout",
     "output_type": "stream",
     "text": [
      "train RMSE,MAE: 0.720 0.545\n",
      "test RMSE,MAE: 0.861 0.649 \n",
      "\n",
      "\n",
      "nfactor, lr, reg: 42 0.005 0.08 \n",
      "\n"
     ]
    },
    {
     "data": {
      "text/plain": [
       "<surprise.prediction_algorithms.matrix_factorization.SVD at 0x7f7122ce4e80>"
      ]
     },
     "execution_count": 39,
     "metadata": {},
     "output_type": "execute_result"
    },
    {
     "name": "stdout",
     "output_type": "stream",
     "text": [
      "train RMSE,MAE: 0.740 0.562\n",
      "test RMSE,MAE: 0.860 0.650 \n",
      "\n",
      "\n",
      "nfactor, lr, reg: 42 0.005 0.1 \n",
      "\n"
     ]
    },
    {
     "data": {
      "text/plain": [
       "<surprise.prediction_algorithms.matrix_factorization.SVD at 0x7f7122ce4430>"
      ]
     },
     "execution_count": 39,
     "metadata": {},
     "output_type": "execute_result"
    },
    {
     "name": "stdout",
     "output_type": "stream",
     "text": [
      "train RMSE,MAE: 0.748 0.568\n",
      "test RMSE,MAE: 0.860 0.651 \n",
      "\n",
      "\n",
      "nfactor, lr, reg: 42 0.005 0.2 \n",
      "\n"
     ]
    },
    {
     "data": {
      "text/plain": [
       "<surprise.prediction_algorithms.matrix_factorization.SVD at 0x7f7122ce41f0>"
      ]
     },
     "execution_count": 39,
     "metadata": {},
     "output_type": "execute_result"
    },
    {
     "name": "stdout",
     "output_type": "stream",
     "text": [
      "train RMSE,MAE: 0.771 0.589\n",
      "test RMSE,MAE: 0.862 0.658 \n",
      "\n",
      "\n",
      "nfactor, lr, reg: 42 0.005 0.4 \n",
      "\n"
     ]
    },
    {
     "data": {
      "text/plain": [
       "<surprise.prediction_algorithms.matrix_factorization.SVD at 0x7f7122ce4f70>"
      ]
     },
     "execution_count": 39,
     "metadata": {},
     "output_type": "execute_result"
    },
    {
     "name": "stdout",
     "output_type": "stream",
     "text": [
      "train RMSE,MAE: 0.793 0.612\n",
      "test RMSE,MAE: 0.869 0.669 \n",
      "\n",
      "\n",
      "nfactor, lr, reg: 42 0.005 0.8 \n",
      "\n"
     ]
    },
    {
     "data": {
      "text/plain": [
       "<surprise.prediction_algorithms.matrix_factorization.SVD at 0x7f7122ce4460>"
      ]
     },
     "execution_count": 39,
     "metadata": {},
     "output_type": "execute_result"
    },
    {
     "name": "stdout",
     "output_type": "stream",
     "text": [
      "train RMSE,MAE: 0.819 0.637\n",
      "test RMSE,MAE: 0.882 0.685 \n",
      "\n",
      "\n",
      "nfactor, lr, reg: 42 0.005 1 \n",
      "\n"
     ]
    },
    {
     "data": {
      "text/plain": [
       "<surprise.prediction_algorithms.matrix_factorization.SVD at 0x7f7122ce4df0>"
      ]
     },
     "execution_count": 39,
     "metadata": {},
     "output_type": "execute_result"
    },
    {
     "name": "stdout",
     "output_type": "stream",
     "text": [
      "train RMSE,MAE: 0.828 0.646\n",
      "test RMSE,MAE: 0.888 0.692 \n",
      "\n",
      "\n",
      "nfactor, lr, reg: 42 0.005 2 \n",
      "\n"
     ]
    },
    {
     "data": {
      "text/plain": [
       "<surprise.prediction_algorithms.matrix_factorization.SVD at 0x7f7122ce4cd0>"
      ]
     },
     "execution_count": 39,
     "metadata": {},
     "output_type": "execute_result"
    },
    {
     "name": "stdout",
     "output_type": "stream",
     "text": [
      "train RMSE,MAE: 0.862 0.677\n",
      "test RMSE,MAE: 0.911 0.714 \n",
      "\n",
      "\n",
      "nfactor, lr, reg: 42 0.005 4 \n",
      "\n"
     ]
    },
    {
     "data": {
      "text/plain": [
       "<surprise.prediction_algorithms.matrix_factorization.SVD at 0x7f7122ce4a30>"
      ]
     },
     "execution_count": 39,
     "metadata": {},
     "output_type": "execute_result"
    },
    {
     "name": "stdout",
     "output_type": "stream",
     "text": [
      "train RMSE,MAE: 0.899 0.711\n",
      "test RMSE,MAE: 0.935 0.736 \n",
      "\n",
      "\n",
      "nfactor, lr, reg: 42 0.005 10 \n",
      "\n"
     ]
    },
    {
     "data": {
      "text/plain": [
       "<surprise.prediction_algorithms.matrix_factorization.SVD at 0x7f7122ce4e50>"
      ]
     },
     "execution_count": 39,
     "metadata": {},
     "output_type": "execute_result"
    },
    {
     "name": "stdout",
     "output_type": "stream",
     "text": [
      "train RMSE,MAE: 0.941 0.748\n",
      "test RMSE,MAE: 0.960 0.761 \n",
      "\n",
      "\n",
      "nfactor, lr, reg: 42 0.006 0.01 \n",
      "\n"
     ]
    },
    {
     "data": {
      "text/plain": [
       "<surprise.prediction_algorithms.matrix_factorization.SVD at 0x7f7122ce4790>"
      ]
     },
     "execution_count": 39,
     "metadata": {},
     "output_type": "execute_result"
    },
    {
     "name": "stdout",
     "output_type": "stream",
     "text": [
      "train RMSE,MAE: 0.652 0.491\n",
      "test RMSE,MAE: 0.862 0.645 \n",
      "\n",
      "\n",
      "nfactor, lr, reg: 42 0.006 0.02 \n",
      "\n"
     ]
    },
    {
     "data": {
      "text/plain": [
       "<surprise.prediction_algorithms.matrix_factorization.SVD at 0x7f7122ce46d0>"
      ]
     },
     "execution_count": 39,
     "metadata": {},
     "output_type": "execute_result"
    },
    {
     "name": "stdout",
     "output_type": "stream",
     "text": [
      "train RMSE,MAE: 0.667 0.504\n",
      "test RMSE,MAE: 0.860 0.645 \n",
      "\n",
      "\n",
      "nfactor, lr, reg: 42 0.006 0.04 \n",
      "\n"
     ]
    },
    {
     "data": {
      "text/plain": [
       "<surprise.prediction_algorithms.matrix_factorization.SVD at 0x7f7122ce42e0>"
      ]
     },
     "execution_count": 39,
     "metadata": {},
     "output_type": "execute_result"
    },
    {
     "name": "stdout",
     "output_type": "stream",
     "text": [
      "train RMSE,MAE: 0.690 0.522\n",
      "test RMSE,MAE: 0.859 0.646 \n",
      "\n",
      "\n",
      "nfactor, lr, reg: 42 0.006 0.08 \n",
      "\n"
     ]
    },
    {
     "data": {
      "text/plain": [
       "<surprise.prediction_algorithms.matrix_factorization.SVD at 0x7f7122ce4430>"
      ]
     },
     "execution_count": 39,
     "metadata": {},
     "output_type": "execute_result"
    },
    {
     "name": "stdout",
     "output_type": "stream",
     "text": [
      "train RMSE,MAE: 0.719 0.546\n",
      "test RMSE,MAE: 0.858 0.647 \n",
      "\n",
      "\n",
      "nfactor, lr, reg: 42 0.006 0.1 \n",
      "\n"
     ]
    },
    {
     "data": {
      "text/plain": [
       "<surprise.prediction_algorithms.matrix_factorization.SVD at 0x7f7122ce4190>"
      ]
     },
     "execution_count": 39,
     "metadata": {},
     "output_type": "execute_result"
    },
    {
     "name": "stdout",
     "output_type": "stream",
     "text": [
      "train RMSE,MAE: 0.730 0.554\n",
      "test RMSE,MAE: 0.858 0.649 \n",
      "\n",
      "\n",
      "nfactor, lr, reg: 42 0.006 0.2 \n",
      "\n"
     ]
    },
    {
     "data": {
      "text/plain": [
       "<surprise.prediction_algorithms.matrix_factorization.SVD at 0x7f7122ce41f0>"
      ]
     },
     "execution_count": 39,
     "metadata": {},
     "output_type": "execute_result"
    },
    {
     "name": "stdout",
     "output_type": "stream",
     "text": [
      "train RMSE,MAE: 0.759 0.579\n",
      "test RMSE,MAE: 0.861 0.655 \n",
      "\n",
      "\n",
      "nfactor, lr, reg: 42 0.006 0.4 \n",
      "\n"
     ]
    },
    {
     "data": {
      "text/plain": [
       "<surprise.prediction_algorithms.matrix_factorization.SVD at 0x7f7122ce4f70>"
      ]
     },
     "execution_count": 39,
     "metadata": {},
     "output_type": "execute_result"
    },
    {
     "name": "stdout",
     "output_type": "stream",
     "text": [
      "train RMSE,MAE: 0.785 0.604\n",
      "test RMSE,MAE: 0.867 0.667 \n",
      "\n",
      "\n",
      "nfactor, lr, reg: 42 0.006 0.8 \n",
      "\n"
     ]
    },
    {
     "data": {
      "text/plain": [
       "<surprise.prediction_algorithms.matrix_factorization.SVD at 0x7f7122ce4460>"
      ]
     },
     "execution_count": 39,
     "metadata": {},
     "output_type": "execute_result"
    },
    {
     "name": "stdout",
     "output_type": "stream",
     "text": [
      "train RMSE,MAE: 0.812 0.632\n",
      "test RMSE,MAE: 0.881 0.684 \n",
      "\n",
      "\n",
      "nfactor, lr, reg: 42 0.006 1 \n",
      "\n"
     ]
    },
    {
     "data": {
      "text/plain": [
       "<surprise.prediction_algorithms.matrix_factorization.SVD at 0x7f7122ce4df0>"
      ]
     },
     "execution_count": 39,
     "metadata": {},
     "output_type": "execute_result"
    },
    {
     "name": "stdout",
     "output_type": "stream",
     "text": [
      "train RMSE,MAE: 0.822 0.641\n",
      "test RMSE,MAE: 0.887 0.690 \n",
      "\n",
      "\n",
      "nfactor, lr, reg: 42 0.006 2 \n",
      "\n"
     ]
    },
    {
     "data": {
      "text/plain": [
       "<surprise.prediction_algorithms.matrix_factorization.SVD at 0x7f7122ce4cd0>"
      ]
     },
     "execution_count": 39,
     "metadata": {},
     "output_type": "execute_result"
    },
    {
     "name": "stdout",
     "output_type": "stream",
     "text": [
      "train RMSE,MAE: 0.858 0.674\n",
      "test RMSE,MAE: 0.910 0.713 \n",
      "\n",
      "\n",
      "nfactor, lr, reg: 42 0.006 4 \n",
      "\n"
     ]
    },
    {
     "data": {
      "text/plain": [
       "<surprise.prediction_algorithms.matrix_factorization.SVD at 0x7f7122ce4a30>"
      ]
     },
     "execution_count": 39,
     "metadata": {},
     "output_type": "execute_result"
    },
    {
     "name": "stdout",
     "output_type": "stream",
     "text": [
      "train RMSE,MAE: 0.897 0.709\n",
      "test RMSE,MAE: 0.934 0.736 \n",
      "\n",
      "\n",
      "nfactor, lr, reg: 42 0.006 10 \n",
      "\n"
     ]
    },
    {
     "data": {
      "text/plain": [
       "<surprise.prediction_algorithms.matrix_factorization.SVD at 0x7f7122ce4e50>"
      ]
     },
     "execution_count": 39,
     "metadata": {},
     "output_type": "execute_result"
    },
    {
     "name": "stdout",
     "output_type": "stream",
     "text": [
      "train RMSE,MAE: 0.941 0.748\n",
      "test RMSE,MAE: 0.960 0.761 \n",
      "\n",
      "\n",
      "nfactor, lr, reg: 42 0.007 0.01 \n",
      "\n"
     ]
    },
    {
     "data": {
      "text/plain": [
       "<surprise.prediction_algorithms.matrix_factorization.SVD at 0x7f7122ce4790>"
      ]
     },
     "execution_count": 39,
     "metadata": {},
     "output_type": "execute_result"
    },
    {
     "name": "stdout",
     "output_type": "stream",
     "text": [
      "train RMSE,MAE: 0.610 0.459\n",
      "test RMSE,MAE: 0.862 0.644 \n",
      "\n",
      "\n",
      "nfactor, lr, reg: 42 0.007 0.02 \n",
      "\n"
     ]
    },
    {
     "data": {
      "text/plain": [
       "<surprise.prediction_algorithms.matrix_factorization.SVD at 0x7f7122ce46d0>"
      ]
     },
     "execution_count": 39,
     "metadata": {},
     "output_type": "execute_result"
    },
    {
     "name": "stdout",
     "output_type": "stream",
     "text": [
      "train RMSE,MAE: 0.629 0.475\n",
      "test RMSE,MAE: 0.859 0.643 \n",
      "\n",
      "\n",
      "nfactor, lr, reg: 42 0.007 0.04 \n",
      "\n"
     ]
    },
    {
     "data": {
      "text/plain": [
       "<surprise.prediction_algorithms.matrix_factorization.SVD at 0x7f7122ce42e0>"
      ]
     },
     "execution_count": 39,
     "metadata": {},
     "output_type": "execute_result"
    },
    {
     "name": "stdout",
     "output_type": "stream",
     "text": [
      "train RMSE,MAE: 0.660 0.500\n",
      "test RMSE,MAE: 0.857 0.643 \n",
      "\n",
      "\n",
      "nfactor, lr, reg: 42 0.007 0.08 \n",
      "\n"
     ]
    },
    {
     "data": {
      "text/plain": [
       "<surprise.prediction_algorithms.matrix_factorization.SVD at 0x7f7122ce4430>"
      ]
     },
     "execution_count": 39,
     "metadata": {},
     "output_type": "execute_result"
    },
    {
     "name": "stdout",
     "output_type": "stream",
     "text": [
      "train RMSE,MAE: 0.699 0.531\n",
      "test RMSE,MAE: 0.857 0.646 \n",
      "\n",
      "\n",
      "nfactor, lr, reg: 42 0.007 0.1 \n",
      "\n"
     ]
    },
    {
     "data": {
      "text/plain": [
       "<surprise.prediction_algorithms.matrix_factorization.SVD at 0x7f7122ce4190>"
      ]
     },
     "execution_count": 39,
     "metadata": {},
     "output_type": "execute_result"
    },
    {
     "name": "stdout",
     "output_type": "stream",
     "text": [
      "train RMSE,MAE: 0.711 0.540\n",
      "test RMSE,MAE: 0.858 0.648 \n",
      "\n",
      "\n",
      "nfactor, lr, reg: 42 0.007 0.2 \n",
      "\n"
     ]
    },
    {
     "data": {
      "text/plain": [
       "<surprise.prediction_algorithms.matrix_factorization.SVD at 0x7f7122ce41f0>"
      ]
     },
     "execution_count": 39,
     "metadata": {},
     "output_type": "execute_result"
    },
    {
     "name": "stdout",
     "output_type": "stream",
     "text": [
      "train RMSE,MAE: 0.748 0.571\n",
      "test RMSE,MAE: 0.860 0.654 \n",
      "\n",
      "\n",
      "nfactor, lr, reg: 42 0.007 0.4 \n",
      "\n"
     ]
    },
    {
     "data": {
      "text/plain": [
       "<surprise.prediction_algorithms.matrix_factorization.SVD at 0x7f7122ce4f70>"
      ]
     },
     "execution_count": 39,
     "metadata": {},
     "output_type": "execute_result"
    },
    {
     "name": "stdout",
     "output_type": "stream",
     "text": [
      "train RMSE,MAE: 0.777 0.598\n",
      "test RMSE,MAE: 0.866 0.665 \n",
      "\n",
      "\n",
      "nfactor, lr, reg: 42 0.007 0.8 \n",
      "\n"
     ]
    },
    {
     "data": {
      "text/plain": [
       "<surprise.prediction_algorithms.matrix_factorization.SVD at 0x7f7122ce4460>"
      ]
     },
     "execution_count": 39,
     "metadata": {},
     "output_type": "execute_result"
    },
    {
     "name": "stdout",
     "output_type": "stream",
     "text": [
      "train RMSE,MAE: 0.806 0.627\n",
      "test RMSE,MAE: 0.880 0.683 \n",
      "\n",
      "\n",
      "nfactor, lr, reg: 42 0.007 1 \n",
      "\n"
     ]
    },
    {
     "data": {
      "text/plain": [
       "<surprise.prediction_algorithms.matrix_factorization.SVD at 0x7f7122ce4df0>"
      ]
     },
     "execution_count": 39,
     "metadata": {},
     "output_type": "execute_result"
    },
    {
     "name": "stdout",
     "output_type": "stream",
     "text": [
      "train RMSE,MAE: 0.817 0.637\n",
      "test RMSE,MAE: 0.886 0.690 \n",
      "\n",
      "\n",
      "nfactor, lr, reg: 42 0.007 2 \n",
      "\n"
     ]
    },
    {
     "data": {
      "text/plain": [
       "<surprise.prediction_algorithms.matrix_factorization.SVD at 0x7f7122ce4cd0>"
      ]
     },
     "execution_count": 39,
     "metadata": {},
     "output_type": "execute_result"
    },
    {
     "name": "stdout",
     "output_type": "stream",
     "text": [
      "train RMSE,MAE: 0.854 0.671\n",
      "test RMSE,MAE: 0.909 0.712 \n",
      "\n",
      "\n",
      "nfactor, lr, reg: 42 0.007 4 \n",
      "\n"
     ]
    },
    {
     "data": {
      "text/plain": [
       "<surprise.prediction_algorithms.matrix_factorization.SVD at 0x7f7122ce4a30>"
      ]
     },
     "execution_count": 39,
     "metadata": {},
     "output_type": "execute_result"
    },
    {
     "name": "stdout",
     "output_type": "stream",
     "text": [
      "train RMSE,MAE: 0.896 0.707\n",
      "test RMSE,MAE: 0.934 0.736 \n",
      "\n",
      "\n",
      "nfactor, lr, reg: 42 0.007 10 \n",
      "\n"
     ]
    },
    {
     "data": {
      "text/plain": [
       "<surprise.prediction_algorithms.matrix_factorization.SVD at 0x7f7122ce4e50>"
      ]
     },
     "execution_count": 39,
     "metadata": {},
     "output_type": "execute_result"
    },
    {
     "name": "stdout",
     "output_type": "stream",
     "text": [
      "train RMSE,MAE: 0.941 0.748\n",
      "test RMSE,MAE: 0.960 0.761 \n",
      "\n",
      "\n",
      "nfactor, lr, reg: 42 0.008 0.01 \n",
      "\n"
     ]
    },
    {
     "data": {
      "text/plain": [
       "<surprise.prediction_algorithms.matrix_factorization.SVD at 0x7f7122ce4790>"
      ]
     },
     "execution_count": 39,
     "metadata": {},
     "output_type": "execute_result"
    },
    {
     "name": "stdout",
     "output_type": "stream",
     "text": [
      "train RMSE,MAE: 0.564 0.424\n",
      "test RMSE,MAE: 0.860 0.640 \n",
      "\n",
      "\n",
      "nfactor, lr, reg: 42 0.008 0.02 \n",
      "\n"
     ]
    },
    {
     "data": {
      "text/plain": [
       "<surprise.prediction_algorithms.matrix_factorization.SVD at 0x7f7122ce46d0>"
      ]
     },
     "execution_count": 39,
     "metadata": {},
     "output_type": "execute_result"
    },
    {
     "name": "stdout",
     "output_type": "stream",
     "text": [
      "train RMSE,MAE: 0.589 0.444\n",
      "test RMSE,MAE: 0.860 0.643 \n",
      "\n",
      "\n",
      "nfactor, lr, reg: 42 0.008 0.04 \n",
      "\n"
     ]
    },
    {
     "data": {
      "text/plain": [
       "<surprise.prediction_algorithms.matrix_factorization.SVD at 0x7f7122ce42e0>"
      ]
     },
     "execution_count": 39,
     "metadata": {},
     "output_type": "execute_result"
    },
    {
     "name": "stdout",
     "output_type": "stream",
     "text": [
      "train RMSE,MAE: 0.626 0.475\n",
      "test RMSE,MAE: 0.858 0.642 \n",
      "\n",
      "\n",
      "nfactor, lr, reg: 42 0.008 0.08 \n",
      "\n"
     ]
    },
    {
     "data": {
      "text/plain": [
       "<surprise.prediction_algorithms.matrix_factorization.SVD at 0x7f7122ce4430>"
      ]
     },
     "execution_count": 39,
     "metadata": {},
     "output_type": "execute_result"
    },
    {
     "name": "stdout",
     "output_type": "stream",
     "text": [
      "train RMSE,MAE: 0.677 0.514\n",
      "test RMSE,MAE: 0.856 0.644 \n",
      "\n",
      "\n",
      "nfactor, lr, reg: 42 0.008 0.1 \n",
      "\n"
     ]
    },
    {
     "data": {
      "text/plain": [
       "<surprise.prediction_algorithms.matrix_factorization.SVD at 0x7f7122ce4190>"
      ]
     },
     "execution_count": 39,
     "metadata": {},
     "output_type": "execute_result"
    },
    {
     "name": "stdout",
     "output_type": "stream",
     "text": [
      "train RMSE,MAE: 0.695 0.528\n",
      "test RMSE,MAE: 0.857 0.646 \n",
      "\n",
      "\n",
      "nfactor, lr, reg: 42 0.008 0.2 \n",
      "\n"
     ]
    },
    {
     "data": {
      "text/plain": [
       "<surprise.prediction_algorithms.matrix_factorization.SVD at 0x7f7122ce41f0>"
      ]
     },
     "execution_count": 39,
     "metadata": {},
     "output_type": "execute_result"
    },
    {
     "name": "stdout",
     "output_type": "stream",
     "text": [
      "train RMSE,MAE: 0.739 0.563\n",
      "test RMSE,MAE: 0.859 0.653 \n",
      "\n",
      "\n",
      "nfactor, lr, reg: 42 0.008 0.4 \n",
      "\n"
     ]
    },
    {
     "data": {
      "text/plain": [
       "<surprise.prediction_algorithms.matrix_factorization.SVD at 0x7f7122ce4f70>"
      ]
     },
     "execution_count": 39,
     "metadata": {},
     "output_type": "execute_result"
    },
    {
     "name": "stdout",
     "output_type": "stream",
     "text": [
      "train RMSE,MAE: 0.771 0.593\n",
      "test RMSE,MAE: 0.866 0.665 \n",
      "\n",
      "\n",
      "nfactor, lr, reg: 42 0.008 0.8 \n",
      "\n"
     ]
    },
    {
     "data": {
      "text/plain": [
       "<surprise.prediction_algorithms.matrix_factorization.SVD at 0x7f7122ce4460>"
      ]
     },
     "execution_count": 39,
     "metadata": {},
     "output_type": "execute_result"
    },
    {
     "name": "stdout",
     "output_type": "stream",
     "text": [
      "train RMSE,MAE: 0.801 0.623\n",
      "test RMSE,MAE: 0.879 0.682 \n",
      "\n",
      "\n",
      "nfactor, lr, reg: 42 0.008 1 \n",
      "\n"
     ]
    },
    {
     "data": {
      "text/plain": [
       "<surprise.prediction_algorithms.matrix_factorization.SVD at 0x7f7122ce4df0>"
      ]
     },
     "execution_count": 39,
     "metadata": {},
     "output_type": "execute_result"
    },
    {
     "name": "stdout",
     "output_type": "stream",
     "text": [
      "train RMSE,MAE: 0.812 0.633\n",
      "test RMSE,MAE: 0.886 0.689 \n",
      "\n",
      "\n",
      "nfactor, lr, reg: 42 0.008 2 \n",
      "\n"
     ]
    },
    {
     "data": {
      "text/plain": [
       "<surprise.prediction_algorithms.matrix_factorization.SVD at 0x7f7122ce4cd0>"
      ]
     },
     "execution_count": 39,
     "metadata": {},
     "output_type": "execute_result"
    },
    {
     "name": "stdout",
     "output_type": "stream",
     "text": [
      "train RMSE,MAE: 0.852 0.669\n",
      "test RMSE,MAE: 0.909 0.712 \n",
      "\n",
      "\n",
      "nfactor, lr, reg: 42 0.008 4 \n",
      "\n"
     ]
    },
    {
     "data": {
      "text/plain": [
       "<surprise.prediction_algorithms.matrix_factorization.SVD at 0x7f7122ce4a30>"
      ]
     },
     "execution_count": 39,
     "metadata": {},
     "output_type": "execute_result"
    },
    {
     "name": "stdout",
     "output_type": "stream",
     "text": [
      "train RMSE,MAE: 0.895 0.706\n",
      "test RMSE,MAE: 0.934 0.735 \n",
      "\n",
      "\n",
      "nfactor, lr, reg: 42 0.008 10 \n",
      "\n"
     ]
    },
    {
     "data": {
      "text/plain": [
       "<surprise.prediction_algorithms.matrix_factorization.SVD at 0x7f7122ce4e50>"
      ]
     },
     "execution_count": 39,
     "metadata": {},
     "output_type": "execute_result"
    },
    {
     "name": "stdout",
     "output_type": "stream",
     "text": [
      "train RMSE,MAE: 0.941 0.748\n",
      "test RMSE,MAE: 0.960 0.761 \n",
      "\n",
      "\n",
      "nfactor, lr, reg: 42 0.009000000000000001 0.01 \n",
      "\n"
     ]
    },
    {
     "data": {
      "text/plain": [
       "<surprise.prediction_algorithms.matrix_factorization.SVD at 0x7f7122ce4790>"
      ]
     },
     "execution_count": 39,
     "metadata": {},
     "output_type": "execute_result"
    },
    {
     "name": "stdout",
     "output_type": "stream",
     "text": [
      "train RMSE,MAE: 0.517 0.387\n",
      "test RMSE,MAE: 0.862 0.640 \n",
      "\n",
      "\n",
      "nfactor, lr, reg: 42 0.009000000000000001 0.02 \n",
      "\n"
     ]
    },
    {
     "data": {
      "text/plain": [
       "<surprise.prediction_algorithms.matrix_factorization.SVD at 0x7f7122ce46d0>"
      ]
     },
     "execution_count": 39,
     "metadata": {},
     "output_type": "execute_result"
    },
    {
     "name": "stdout",
     "output_type": "stream",
     "text": [
      "train RMSE,MAE: 0.546 0.411\n",
      "test RMSE,MAE: 0.858 0.640 \n",
      "\n",
      "\n",
      "nfactor, lr, reg: 42 0.009000000000000001 0.04 \n",
      "\n"
     ]
    },
    {
     "data": {
      "text/plain": [
       "<surprise.prediction_algorithms.matrix_factorization.SVD at 0x7f7122ce42e0>"
      ]
     },
     "execution_count": 39,
     "metadata": {},
     "output_type": "execute_result"
    },
    {
     "name": "stdout",
     "output_type": "stream",
     "text": [
      "train RMSE,MAE: 0.595 0.452\n",
      "test RMSE,MAE: 0.857 0.641 \n",
      "\n",
      "\n",
      "nfactor, lr, reg: 42 0.009000000000000001 0.08 \n",
      "\n"
     ]
    },
    {
     "data": {
      "text/plain": [
       "<surprise.prediction_algorithms.matrix_factorization.SVD at 0x7f7122ce4430>"
      ]
     },
     "execution_count": 39,
     "metadata": {},
     "output_type": "execute_result"
    },
    {
     "name": "stdout",
     "output_type": "stream",
     "text": [
      "train RMSE,MAE: 0.656 0.499\n",
      "test RMSE,MAE: 0.857 0.644 \n",
      "\n",
      "\n",
      "nfactor, lr, reg: 42 0.009000000000000001 0.1 \n",
      "\n"
     ]
    },
    {
     "data": {
      "text/plain": [
       "<surprise.prediction_algorithms.matrix_factorization.SVD at 0x7f7122ce4190>"
      ]
     },
     "execution_count": 39,
     "metadata": {},
     "output_type": "execute_result"
    },
    {
     "name": "stdout",
     "output_type": "stream",
     "text": [
      "train RMSE,MAE: 0.677 0.515\n",
      "test RMSE,MAE: 0.855 0.644 \n",
      "\n",
      "\n",
      "nfactor, lr, reg: 42 0.009000000000000001 0.2 \n",
      "\n"
     ]
    },
    {
     "data": {
      "text/plain": [
       "<surprise.prediction_algorithms.matrix_factorization.SVD at 0x7f7122ce41f0>"
      ]
     },
     "execution_count": 39,
     "metadata": {},
     "output_type": "execute_result"
    },
    {
     "name": "stdout",
     "output_type": "stream",
     "text": [
      "train RMSE,MAE: 0.729 0.556\n",
      "test RMSE,MAE: 0.859 0.651 \n",
      "\n",
      "\n",
      "nfactor, lr, reg: 42 0.009000000000000001 0.4 \n",
      "\n"
     ]
    },
    {
     "data": {
      "text/plain": [
       "<surprise.prediction_algorithms.matrix_factorization.SVD at 0x7f7122ce4f70>"
      ]
     },
     "execution_count": 39,
     "metadata": {},
     "output_type": "execute_result"
    },
    {
     "name": "stdout",
     "output_type": "stream",
     "text": [
      "train RMSE,MAE: 0.766 0.588\n",
      "test RMSE,MAE: 0.866 0.664 \n",
      "\n",
      "\n",
      "nfactor, lr, reg: 42 0.009000000000000001 0.8 \n",
      "\n"
     ]
    },
    {
     "data": {
      "text/plain": [
       "<surprise.prediction_algorithms.matrix_factorization.SVD at 0x7f7122ce4460>"
      ]
     },
     "execution_count": 39,
     "metadata": {},
     "output_type": "execute_result"
    },
    {
     "name": "stdout",
     "output_type": "stream",
     "text": [
      "train RMSE,MAE: 0.797 0.619\n",
      "test RMSE,MAE: 0.879 0.682 \n",
      "\n",
      "\n",
      "nfactor, lr, reg: 42 0.009000000000000001 1 \n",
      "\n"
     ]
    },
    {
     "data": {
      "text/plain": [
       "<surprise.prediction_algorithms.matrix_factorization.SVD at 0x7f7122ce4df0>"
      ]
     },
     "execution_count": 39,
     "metadata": {},
     "output_type": "execute_result"
    },
    {
     "name": "stdout",
     "output_type": "stream",
     "text": [
      "train RMSE,MAE: 0.809 0.630\n",
      "test RMSE,MAE: 0.885 0.689 \n",
      "\n",
      "\n",
      "nfactor, lr, reg: 42 0.009000000000000001 2 \n",
      "\n"
     ]
    },
    {
     "data": {
      "text/plain": [
       "<surprise.prediction_algorithms.matrix_factorization.SVD at 0x7f7122ce4cd0>"
      ]
     },
     "execution_count": 39,
     "metadata": {},
     "output_type": "execute_result"
    },
    {
     "name": "stdout",
     "output_type": "stream",
     "text": [
      "train RMSE,MAE: 0.850 0.667\n",
      "test RMSE,MAE: 0.909 0.712 \n",
      "\n",
      "\n",
      "nfactor, lr, reg: 42 0.009000000000000001 4 \n",
      "\n"
     ]
    },
    {
     "data": {
      "text/plain": [
       "<surprise.prediction_algorithms.matrix_factorization.SVD at 0x7f7122ce4a30>"
      ]
     },
     "execution_count": 39,
     "metadata": {},
     "output_type": "execute_result"
    },
    {
     "name": "stdout",
     "output_type": "stream",
     "text": [
      "train RMSE,MAE: 0.894 0.706\n",
      "test RMSE,MAE: 0.934 0.735 \n",
      "\n",
      "\n",
      "nfactor, lr, reg: 42 0.009000000000000001 10 \n",
      "\n"
     ]
    },
    {
     "data": {
      "text/plain": [
       "<surprise.prediction_algorithms.matrix_factorization.SVD at 0x7f7122ce4e50>"
      ]
     },
     "execution_count": 39,
     "metadata": {},
     "output_type": "execute_result"
    },
    {
     "name": "stdout",
     "output_type": "stream",
     "text": [
      "train RMSE,MAE: 0.941 0.748\n",
      "test RMSE,MAE: 0.961 0.761 \n",
      "\n",
      "\n",
      "nfactor, lr, reg: 50 0.001 0.01 \n",
      "\n"
     ]
    },
    {
     "data": {
      "text/plain": [
       "<surprise.prediction_algorithms.matrix_factorization.SVD at 0x7f7122ce4790>"
      ]
     },
     "execution_count": 39,
     "metadata": {},
     "output_type": "execute_result"
    },
    {
     "name": "stdout",
     "output_type": "stream",
     "text": [
      "train RMSE,MAE: 0.844 0.645\n",
      "test RMSE,MAE: 0.887 0.677 \n",
      "\n",
      "\n",
      "nfactor, lr, reg: 50 0.001 0.02 \n",
      "\n"
     ]
    },
    {
     "data": {
      "text/plain": [
       "<surprise.prediction_algorithms.matrix_factorization.SVD at 0x7f7122ce46d0>"
      ]
     },
     "execution_count": 39,
     "metadata": {},
     "output_type": "execute_result"
    },
    {
     "name": "stdout",
     "output_type": "stream",
     "text": [
      "train RMSE,MAE: 0.846 0.646\n",
      "test RMSE,MAE: 0.887 0.677 \n",
      "\n",
      "\n",
      "nfactor, lr, reg: 50 0.001 0.04 \n",
      "\n"
     ]
    },
    {
     "data": {
      "text/plain": [
       "<surprise.prediction_algorithms.matrix_factorization.SVD at 0x7f7122ce42e0>"
      ]
     },
     "execution_count": 39,
     "metadata": {},
     "output_type": "execute_result"
    },
    {
     "name": "stdout",
     "output_type": "stream",
     "text": [
      "train RMSE,MAE: 0.846 0.647\n",
      "test RMSE,MAE: 0.887 0.678 \n",
      "\n",
      "\n",
      "nfactor, lr, reg: 50 0.001 0.08 \n",
      "\n"
     ]
    },
    {
     "data": {
      "text/plain": [
       "<surprise.prediction_algorithms.matrix_factorization.SVD at 0x7f7122ce4430>"
      ]
     },
     "execution_count": 39,
     "metadata": {},
     "output_type": "execute_result"
    },
    {
     "name": "stdout",
     "output_type": "stream",
     "text": [
      "train RMSE,MAE: 0.848 0.650\n",
      "test RMSE,MAE: 0.887 0.679 \n",
      "\n",
      "\n",
      "nfactor, lr, reg: 50 0.001 0.1 \n",
      "\n"
     ]
    },
    {
     "data": {
      "text/plain": [
       "<surprise.prediction_algorithms.matrix_factorization.SVD at 0x7f7122ce4190>"
      ]
     },
     "execution_count": 39,
     "metadata": {},
     "output_type": "execute_result"
    },
    {
     "name": "stdout",
     "output_type": "stream",
     "text": [
      "train RMSE,MAE: 0.849 0.651\n",
      "test RMSE,MAE: 0.887 0.681 \n",
      "\n",
      "\n",
      "nfactor, lr, reg: 50 0.001 0.2 \n",
      "\n"
     ]
    },
    {
     "data": {
      "text/plain": [
       "<surprise.prediction_algorithms.matrix_factorization.SVD at 0x7f7122ce41f0>"
      ]
     },
     "execution_count": 39,
     "metadata": {},
     "output_type": "execute_result"
    },
    {
     "name": "stdout",
     "output_type": "stream",
     "text": [
      "train RMSE,MAE: 0.853 0.658\n",
      "test RMSE,MAE: 0.888 0.684 \n",
      "\n",
      "\n",
      "nfactor, lr, reg: 50 0.001 0.4 \n",
      "\n"
     ]
    },
    {
     "data": {
      "text/plain": [
       "<surprise.prediction_algorithms.matrix_factorization.SVD at 0x7f7122ce4f70>"
      ]
     },
     "execution_count": 39,
     "metadata": {},
     "output_type": "execute_result"
    },
    {
     "name": "stdout",
     "output_type": "stream",
     "text": [
      "train RMSE,MAE: 0.861 0.668\n",
      "test RMSE,MAE: 0.893 0.691 \n",
      "\n",
      "\n",
      "nfactor, lr, reg: 50 0.001 0.8 \n",
      "\n"
     ]
    },
    {
     "data": {
      "text/plain": [
       "<surprise.prediction_algorithms.matrix_factorization.SVD at 0x7f7122ce4460>"
      ]
     },
     "execution_count": 39,
     "metadata": {},
     "output_type": "execute_result"
    },
    {
     "name": "stdout",
     "output_type": "stream",
     "text": [
      "train RMSE,MAE: 0.875 0.683\n",
      "test RMSE,MAE: 0.902 0.703 \n",
      "\n",
      "\n",
      "nfactor, lr, reg: 50 0.001 1 \n",
      "\n"
     ]
    },
    {
     "data": {
      "text/plain": [
       "<surprise.prediction_algorithms.matrix_factorization.SVD at 0x7f7122ce4df0>"
      ]
     },
     "execution_count": 39,
     "metadata": {},
     "output_type": "execute_result"
    },
    {
     "name": "stdout",
     "output_type": "stream",
     "text": [
      "train RMSE,MAE: 0.881 0.690\n",
      "test RMSE,MAE: 0.906 0.708 \n",
      "\n",
      "\n",
      "nfactor, lr, reg: 50 0.001 2 \n",
      "\n"
     ]
    },
    {
     "data": {
      "text/plain": [
       "<surprise.prediction_algorithms.matrix_factorization.SVD at 0x7f7122ce4cd0>"
      ]
     },
     "execution_count": 39,
     "metadata": {},
     "output_type": "execute_result"
    },
    {
     "name": "stdout",
     "output_type": "stream",
     "text": [
      "train RMSE,MAE: 0.903 0.711\n",
      "test RMSE,MAE: 0.924 0.725 \n",
      "\n",
      "\n",
      "nfactor, lr, reg: 50 0.001 4 \n",
      "\n"
     ]
    },
    {
     "data": {
      "text/plain": [
       "<surprise.prediction_algorithms.matrix_factorization.SVD at 0x7f7122ce4a30>"
      ]
     },
     "execution_count": 39,
     "metadata": {},
     "output_type": "execute_result"
    },
    {
     "name": "stdout",
     "output_type": "stream",
     "text": [
      "train RMSE,MAE: 0.926 0.733\n",
      "test RMSE,MAE: 0.943 0.745 \n",
      "\n",
      "\n",
      "nfactor, lr, reg: 50 0.001 10 \n",
      "\n"
     ]
    },
    {
     "data": {
      "text/plain": [
       "<surprise.prediction_algorithms.matrix_factorization.SVD at 0x7f7122ce4e50>"
      ]
     },
     "execution_count": 39,
     "metadata": {},
     "output_type": "execute_result"
    },
    {
     "name": "stdout",
     "output_type": "stream",
     "text": [
      "train RMSE,MAE: 0.951 0.757\n",
      "test RMSE,MAE: 0.964 0.765 \n",
      "\n",
      "\n",
      "nfactor, lr, reg: 50 0.002 0.01 \n",
      "\n"
     ]
    },
    {
     "data": {
      "text/plain": [
       "<surprise.prediction_algorithms.matrix_factorization.SVD at 0x7f7122ce4790>"
      ]
     },
     "execution_count": 39,
     "metadata": {},
     "output_type": "execute_result"
    },
    {
     "name": "stdout",
     "output_type": "stream",
     "text": [
      "train RMSE,MAE: 0.799 0.605\n",
      "test RMSE,MAE: 0.874 0.662 \n",
      "\n",
      "\n",
      "nfactor, lr, reg: 50 0.002 0.02 \n",
      "\n"
     ]
    },
    {
     "data": {
      "text/plain": [
       "<surprise.prediction_algorithms.matrix_factorization.SVD at 0x7f7122ce46d0>"
      ]
     },
     "execution_count": 39,
     "metadata": {},
     "output_type": "execute_result"
    },
    {
     "name": "stdout",
     "output_type": "stream",
     "text": [
      "train RMSE,MAE: 0.801 0.608\n",
      "test RMSE,MAE: 0.874 0.663 \n",
      "\n",
      "\n",
      "nfactor, lr, reg: 50 0.002 0.04 \n",
      "\n"
     ]
    },
    {
     "data": {
      "text/plain": [
       "<surprise.prediction_algorithms.matrix_factorization.SVD at 0x7f7122ce42e0>"
      ]
     },
     "execution_count": 39,
     "metadata": {},
     "output_type": "execute_result"
    },
    {
     "name": "stdout",
     "output_type": "stream",
     "text": [
      "train RMSE,MAE: 0.804 0.611\n",
      "test RMSE,MAE: 0.873 0.663 \n",
      "\n",
      "\n",
      "nfactor, lr, reg: 50 0.002 0.08 \n",
      "\n"
     ]
    },
    {
     "data": {
      "text/plain": [
       "<surprise.prediction_algorithms.matrix_factorization.SVD at 0x7f7122ce4430>"
      ]
     },
     "execution_count": 39,
     "metadata": {},
     "output_type": "execute_result"
    },
    {
     "name": "stdout",
     "output_type": "stream",
     "text": [
      "train RMSE,MAE: 0.809 0.616\n",
      "test RMSE,MAE: 0.874 0.665 \n",
      "\n",
      "\n",
      "nfactor, lr, reg: 50 0.002 0.1 \n",
      "\n"
     ]
    },
    {
     "data": {
      "text/plain": [
       "<surprise.prediction_algorithms.matrix_factorization.SVD at 0x7f7122ce4190>"
      ]
     },
     "execution_count": 39,
     "metadata": {},
     "output_type": "execute_result"
    },
    {
     "name": "stdout",
     "output_type": "stream",
     "text": [
      "train RMSE,MAE: 0.811 0.619\n",
      "test RMSE,MAE: 0.874 0.666 \n",
      "\n",
      "\n",
      "nfactor, lr, reg: 50 0.002 0.2 \n",
      "\n"
     ]
    },
    {
     "data": {
      "text/plain": [
       "<surprise.prediction_algorithms.matrix_factorization.SVD at 0x7f7122ce41f0>"
      ]
     },
     "execution_count": 39,
     "metadata": {},
     "output_type": "execute_result"
    },
    {
     "name": "stdout",
     "output_type": "stream",
     "text": [
      "train RMSE,MAE: 0.820 0.629\n",
      "test RMSE,MAE: 0.875 0.671 \n",
      "\n",
      "\n",
      "nfactor, lr, reg: 50 0.002 0.4 \n",
      "\n"
     ]
    },
    {
     "data": {
      "text/plain": [
       "<surprise.prediction_algorithms.matrix_factorization.SVD at 0x7f7122ce4f70>"
      ]
     },
     "execution_count": 39,
     "metadata": {},
     "output_type": "execute_result"
    },
    {
     "name": "stdout",
     "output_type": "stream",
     "text": [
      "train RMSE,MAE: 0.833 0.644\n",
      "test RMSE,MAE: 0.880 0.680 \n",
      "\n",
      "\n",
      "nfactor, lr, reg: 50 0.002 0.8 \n",
      "\n"
     ]
    },
    {
     "data": {
      "text/plain": [
       "<surprise.prediction_algorithms.matrix_factorization.SVD at 0x7f7122ce4460>"
      ]
     },
     "execution_count": 39,
     "metadata": {},
     "output_type": "execute_result"
    },
    {
     "name": "stdout",
     "output_type": "stream",
     "text": [
      "train RMSE,MAE: 0.852 0.665\n",
      "test RMSE,MAE: 0.891 0.694 \n",
      "\n",
      "\n",
      "nfactor, lr, reg: 50 0.002 1 \n",
      "\n"
     ]
    },
    {
     "data": {
      "text/plain": [
       "<surprise.prediction_algorithms.matrix_factorization.SVD at 0x7f7122ce4df0>"
      ]
     },
     "execution_count": 39,
     "metadata": {},
     "output_type": "execute_result"
    },
    {
     "name": "stdout",
     "output_type": "stream",
     "text": [
      "train RMSE,MAE: 0.859 0.672\n",
      "test RMSE,MAE: 0.897 0.700 \n",
      "\n",
      "\n",
      "nfactor, lr, reg: 50 0.002 2 \n",
      "\n"
     ]
    },
    {
     "data": {
      "text/plain": [
       "<surprise.prediction_algorithms.matrix_factorization.SVD at 0x7f7122ce4cd0>"
      ]
     },
     "execution_count": 39,
     "metadata": {},
     "output_type": "execute_result"
    },
    {
     "name": "stdout",
     "output_type": "stream",
     "text": [
      "train RMSE,MAE: 0.886 0.697\n",
      "test RMSE,MAE: 0.917 0.719 \n",
      "\n",
      "\n",
      "nfactor, lr, reg: 50 0.002 4 \n",
      "\n"
     ]
    },
    {
     "data": {
      "text/plain": [
       "<surprise.prediction_algorithms.matrix_factorization.SVD at 0x7f7122ce4a30>"
      ]
     },
     "execution_count": 39,
     "metadata": {},
     "output_type": "execute_result"
    },
    {
     "name": "stdout",
     "output_type": "stream",
     "text": [
      "train RMSE,MAE: 0.914 0.723\n",
      "test RMSE,MAE: 0.939 0.741 \n",
      "\n",
      "\n",
      "nfactor, lr, reg: 50 0.002 10 \n",
      "\n"
     ]
    },
    {
     "data": {
      "text/plain": [
       "<surprise.prediction_algorithms.matrix_factorization.SVD at 0x7f7122ce4e50>"
      ]
     },
     "execution_count": 39,
     "metadata": {},
     "output_type": "execute_result"
    },
    {
     "name": "stdout",
     "output_type": "stream",
     "text": [
      "train RMSE,MAE: 0.946 0.752\n",
      "test RMSE,MAE: 0.962 0.763 \n",
      "\n",
      "\n",
      "nfactor, lr, reg: 50 0.003 0.01 \n",
      "\n"
     ]
    },
    {
     "data": {
      "text/plain": [
       "<surprise.prediction_algorithms.matrix_factorization.SVD at 0x7f7122ce4790>"
      ]
     },
     "execution_count": 39,
     "metadata": {},
     "output_type": "execute_result"
    },
    {
     "name": "stdout",
     "output_type": "stream",
     "text": [
      "train RMSE,MAE: 0.761 0.575\n",
      "test RMSE,MAE: 0.867 0.654 \n",
      "\n",
      "\n",
      "nfactor, lr, reg: 50 0.003 0.02 \n",
      "\n"
     ]
    },
    {
     "data": {
      "text/plain": [
       "<surprise.prediction_algorithms.matrix_factorization.SVD at 0x7f7122ce46d0>"
      ]
     },
     "execution_count": 39,
     "metadata": {},
     "output_type": "execute_result"
    },
    {
     "name": "stdout",
     "output_type": "stream",
     "text": [
      "train RMSE,MAE: 0.765 0.578\n",
      "test RMSE,MAE: 0.867 0.655 \n",
      "\n",
      "\n",
      "nfactor, lr, reg: 50 0.003 0.04 \n",
      "\n"
     ]
    },
    {
     "data": {
      "text/plain": [
       "<surprise.prediction_algorithms.matrix_factorization.SVD at 0x7f7122ce42e0>"
      ]
     },
     "execution_count": 39,
     "metadata": {},
     "output_type": "execute_result"
    },
    {
     "name": "stdout",
     "output_type": "stream",
     "text": [
      "train RMSE,MAE: 0.771 0.584\n",
      "test RMSE,MAE: 0.867 0.655 \n",
      "\n",
      "\n",
      "nfactor, lr, reg: 50 0.003 0.08 \n",
      "\n"
     ]
    },
    {
     "data": {
      "text/plain": [
       "<surprise.prediction_algorithms.matrix_factorization.SVD at 0x7f7122ce4430>"
      ]
     },
     "execution_count": 39,
     "metadata": {},
     "output_type": "execute_result"
    },
    {
     "name": "stdout",
     "output_type": "stream",
     "text": [
      "train RMSE,MAE: 0.780 0.593\n",
      "test RMSE,MAE: 0.867 0.658 \n",
      "\n",
      "\n",
      "nfactor, lr, reg: 50 0.003 0.1 \n",
      "\n"
     ]
    },
    {
     "data": {
      "text/plain": [
       "<surprise.prediction_algorithms.matrix_factorization.SVD at 0x7f7122ce4190>"
      ]
     },
     "execution_count": 39,
     "metadata": {},
     "output_type": "execute_result"
    },
    {
     "name": "stdout",
     "output_type": "stream",
     "text": [
      "train RMSE,MAE: 0.785 0.597\n",
      "test RMSE,MAE: 0.868 0.659 \n",
      "\n",
      "\n",
      "nfactor, lr, reg: 50 0.003 0.2 \n",
      "\n"
     ]
    },
    {
     "data": {
      "text/plain": [
       "<surprise.prediction_algorithms.matrix_factorization.SVD at 0x7f7122ce41f0>"
      ]
     },
     "execution_count": 39,
     "metadata": {},
     "output_type": "execute_result"
    },
    {
     "name": "stdout",
     "output_type": "stream",
     "text": [
      "train RMSE,MAE: 0.798 0.611\n",
      "test RMSE,MAE: 0.869 0.664 \n",
      "\n",
      "\n",
      "nfactor, lr, reg: 50 0.003 0.4 \n",
      "\n"
     ]
    },
    {
     "data": {
      "text/plain": [
       "<surprise.prediction_algorithms.matrix_factorization.SVD at 0x7f7122ce4f70>"
      ]
     },
     "execution_count": 39,
     "metadata": {},
     "output_type": "execute_result"
    },
    {
     "name": "stdout",
     "output_type": "stream",
     "text": [
      "train RMSE,MAE: 0.815 0.630\n",
      "test RMSE,MAE: 0.874 0.674 \n",
      "\n",
      "\n",
      "nfactor, lr, reg: 50 0.003 0.8 \n",
      "\n"
     ]
    },
    {
     "data": {
      "text/plain": [
       "<surprise.prediction_algorithms.matrix_factorization.SVD at 0x7f7122ce4460>"
      ]
     },
     "execution_count": 39,
     "metadata": {},
     "output_type": "execute_result"
    },
    {
     "name": "stdout",
     "output_type": "stream",
     "text": [
      "train RMSE,MAE: 0.837 0.653\n",
      "test RMSE,MAE: 0.886 0.690 \n",
      "\n",
      "\n",
      "nfactor, lr, reg: 50 0.003 1 \n",
      "\n"
     ]
    },
    {
     "data": {
      "text/plain": [
       "<surprise.prediction_algorithms.matrix_factorization.SVD at 0x7f7122ce4df0>"
      ]
     },
     "execution_count": 39,
     "metadata": {},
     "output_type": "execute_result"
    },
    {
     "name": "stdout",
     "output_type": "stream",
     "text": [
      "train RMSE,MAE: 0.846 0.661\n",
      "test RMSE,MAE: 0.892 0.696 \n",
      "\n",
      "\n",
      "nfactor, lr, reg: 50 0.003 2 \n",
      "\n"
     ]
    },
    {
     "data": {
      "text/plain": [
       "<surprise.prediction_algorithms.matrix_factorization.SVD at 0x7f7122ce4cd0>"
      ]
     },
     "execution_count": 39,
     "metadata": {},
     "output_type": "execute_result"
    },
    {
     "name": "stdout",
     "output_type": "stream",
     "text": [
      "train RMSE,MAE: 0.876 0.688\n",
      "test RMSE,MAE: 0.914 0.717 \n",
      "\n",
      "\n",
      "nfactor, lr, reg: 50 0.003 4 \n",
      "\n"
     ]
    },
    {
     "data": {
      "text/plain": [
       "<surprise.prediction_algorithms.matrix_factorization.SVD at 0x7f7122ce4a30>"
      ]
     },
     "execution_count": 39,
     "metadata": {},
     "output_type": "execute_result"
    },
    {
     "name": "stdout",
     "output_type": "stream",
     "text": [
      "train RMSE,MAE: 0.907 0.717\n",
      "test RMSE,MAE: 0.937 0.739 \n",
      "\n",
      "\n",
      "nfactor, lr, reg: 50 0.003 10 \n",
      "\n"
     ]
    },
    {
     "data": {
      "text/plain": [
       "<surprise.prediction_algorithms.matrix_factorization.SVD at 0x7f7122ce4e50>"
      ]
     },
     "execution_count": 39,
     "metadata": {},
     "output_type": "execute_result"
    },
    {
     "name": "stdout",
     "output_type": "stream",
     "text": [
      "train RMSE,MAE: 0.943 0.750\n",
      "test RMSE,MAE: 0.961 0.762 \n",
      "\n",
      "\n",
      "nfactor, lr, reg: 50 0.004 0.01 \n",
      "\n"
     ]
    },
    {
     "data": {
      "text/plain": [
       "<surprise.prediction_algorithms.matrix_factorization.SVD at 0x7f7122ce4790>"
      ]
     },
     "execution_count": 39,
     "metadata": {},
     "output_type": "execute_result"
    },
    {
     "name": "stdout",
     "output_type": "stream",
     "text": [
      "train RMSE,MAE: 0.722 0.545\n",
      "test RMSE,MAE: 0.865 0.651 \n",
      "\n",
      "\n",
      "nfactor, lr, reg: 50 0.004 0.02 \n",
      "\n"
     ]
    },
    {
     "data": {
      "text/plain": [
       "<surprise.prediction_algorithms.matrix_factorization.SVD at 0x7f7122ce46d0>"
      ]
     },
     "execution_count": 39,
     "metadata": {},
     "output_type": "execute_result"
    },
    {
     "name": "stdout",
     "output_type": "stream",
     "text": [
      "train RMSE,MAE: 0.728 0.550\n",
      "test RMSE,MAE: 0.864 0.651 \n",
      "\n",
      "\n",
      "nfactor, lr, reg: 50 0.004 0.04 \n",
      "\n"
     ]
    },
    {
     "data": {
      "text/plain": [
       "<surprise.prediction_algorithms.matrix_factorization.SVD at 0x7f7122ce42e0>"
      ]
     },
     "execution_count": 39,
     "metadata": {},
     "output_type": "execute_result"
    },
    {
     "name": "stdout",
     "output_type": "stream",
     "text": [
      "train RMSE,MAE: 0.740 0.560\n",
      "test RMSE,MAE: 0.864 0.652 \n",
      "\n",
      "\n",
      "nfactor, lr, reg: 50 0.004 0.08 \n",
      "\n"
     ]
    },
    {
     "data": {
      "text/plain": [
       "<surprise.prediction_algorithms.matrix_factorization.SVD at 0x7f7122ce4430>"
      ]
     },
     "execution_count": 39,
     "metadata": {},
     "output_type": "execute_result"
    },
    {
     "name": "stdout",
     "output_type": "stream",
     "text": [
      "train RMSE,MAE: 0.756 0.574\n",
      "test RMSE,MAE: 0.863 0.653 \n",
      "\n",
      "\n",
      "nfactor, lr, reg: 50 0.004 0.1 \n",
      "\n"
     ]
    },
    {
     "data": {
      "text/plain": [
       "<surprise.prediction_algorithms.matrix_factorization.SVD at 0x7f7122ce4190>"
      ]
     },
     "execution_count": 39,
     "metadata": {},
     "output_type": "execute_result"
    },
    {
     "name": "stdout",
     "output_type": "stream",
     "text": [
      "train RMSE,MAE: 0.761 0.579\n",
      "test RMSE,MAE: 0.863 0.655 \n",
      "\n",
      "\n",
      "nfactor, lr, reg: 50 0.004 0.2 \n",
      "\n"
     ]
    },
    {
     "data": {
      "text/plain": [
       "<surprise.prediction_algorithms.matrix_factorization.SVD at 0x7f7122ce41f0>"
      ]
     },
     "execution_count": 39,
     "metadata": {},
     "output_type": "execute_result"
    },
    {
     "name": "stdout",
     "output_type": "stream",
     "text": [
      "train RMSE,MAE: 0.781 0.598\n",
      "test RMSE,MAE: 0.865 0.661 \n",
      "\n",
      "\n",
      "nfactor, lr, reg: 50 0.004 0.4 \n",
      "\n"
     ]
    },
    {
     "data": {
      "text/plain": [
       "<surprise.prediction_algorithms.matrix_factorization.SVD at 0x7f7122ce4f70>"
      ]
     },
     "execution_count": 39,
     "metadata": {},
     "output_type": "execute_result"
    },
    {
     "name": "stdout",
     "output_type": "stream",
     "text": [
      "train RMSE,MAE: 0.802 0.619\n",
      "test RMSE,MAE: 0.870 0.671 \n",
      "\n",
      "\n",
      "nfactor, lr, reg: 50 0.004 0.8 \n",
      "\n"
     ]
    },
    {
     "data": {
      "text/plain": [
       "<surprise.prediction_algorithms.matrix_factorization.SVD at 0x7f7122ce4460>"
      ]
     },
     "execution_count": 39,
     "metadata": {},
     "output_type": "execute_result"
    },
    {
     "name": "stdout",
     "output_type": "stream",
     "text": [
      "train RMSE,MAE: 0.827 0.644\n",
      "test RMSE,MAE: 0.884 0.687 \n",
      "\n",
      "\n",
      "nfactor, lr, reg: 50 0.004 1 \n",
      "\n"
     ]
    },
    {
     "data": {
      "text/plain": [
       "<surprise.prediction_algorithms.matrix_factorization.SVD at 0x7f7122ce4df0>"
      ]
     },
     "execution_count": 39,
     "metadata": {},
     "output_type": "execute_result"
    },
    {
     "name": "stdout",
     "output_type": "stream",
     "text": [
      "train RMSE,MAE: 0.836 0.653\n",
      "test RMSE,MAE: 0.889 0.693 \n",
      "\n",
      "\n",
      "nfactor, lr, reg: 50 0.004 2 \n",
      "\n"
     ]
    },
    {
     "data": {
      "text/plain": [
       "<surprise.prediction_algorithms.matrix_factorization.SVD at 0x7f7122ce4cd0>"
      ]
     },
     "execution_count": 39,
     "metadata": {},
     "output_type": "execute_result"
    },
    {
     "name": "stdout",
     "output_type": "stream",
     "text": [
      "train RMSE,MAE: 0.868 0.682\n",
      "test RMSE,MAE: 0.912 0.715 \n",
      "\n",
      "\n",
      "nfactor, lr, reg: 50 0.004 4 \n",
      "\n"
     ]
    },
    {
     "data": {
      "text/plain": [
       "<surprise.prediction_algorithms.matrix_factorization.SVD at 0x7f7122ce4a30>"
      ]
     },
     "execution_count": 39,
     "metadata": {},
     "output_type": "execute_result"
    },
    {
     "name": "stdout",
     "output_type": "stream",
     "text": [
      "train RMSE,MAE: 0.903 0.713\n",
      "test RMSE,MAE: 0.935 0.737 \n",
      "\n",
      "\n",
      "nfactor, lr, reg: 50 0.004 10 \n",
      "\n"
     ]
    },
    {
     "data": {
      "text/plain": [
       "<surprise.prediction_algorithms.matrix_factorization.SVD at 0x7f7122ce4e50>"
      ]
     },
     "execution_count": 39,
     "metadata": {},
     "output_type": "execute_result"
    },
    {
     "name": "stdout",
     "output_type": "stream",
     "text": [
      "train RMSE,MAE: 0.942 0.749\n",
      "test RMSE,MAE: 0.961 0.761 \n",
      "\n",
      "\n",
      "nfactor, lr, reg: 50 0.005 0.01 \n",
      "\n"
     ]
    },
    {
     "data": {
      "text/plain": [
       "<surprise.prediction_algorithms.matrix_factorization.SVD at 0x7f7122ce4790>"
      ]
     },
     "execution_count": 39,
     "metadata": {},
     "output_type": "execute_result"
    },
    {
     "name": "stdout",
     "output_type": "stream",
     "text": [
      "train RMSE,MAE: 0.680 0.513\n",
      "test RMSE,MAE: 0.861 0.646 \n",
      "\n",
      "\n",
      "nfactor, lr, reg: 50 0.005 0.02 \n",
      "\n"
     ]
    },
    {
     "data": {
      "text/plain": [
       "<surprise.prediction_algorithms.matrix_factorization.SVD at 0x7f7122ce46d0>"
      ]
     },
     "execution_count": 39,
     "metadata": {},
     "output_type": "execute_result"
    },
    {
     "name": "stdout",
     "output_type": "stream",
     "text": [
      "train RMSE,MAE: 0.691 0.522\n",
      "test RMSE,MAE: 0.862 0.647 \n",
      "\n",
      "\n",
      "nfactor, lr, reg: 50 0.005 0.04 \n",
      "\n"
     ]
    },
    {
     "data": {
      "text/plain": [
       "<surprise.prediction_algorithms.matrix_factorization.SVD at 0x7f7122ce42e0>"
      ]
     },
     "execution_count": 39,
     "metadata": {},
     "output_type": "execute_result"
    },
    {
     "name": "stdout",
     "output_type": "stream",
     "text": [
      "train RMSE,MAE: 0.709 0.537\n",
      "test RMSE,MAE: 0.860 0.648 \n",
      "\n",
      "\n",
      "nfactor, lr, reg: 50 0.005 0.08 \n",
      "\n"
     ]
    },
    {
     "data": {
      "text/plain": [
       "<surprise.prediction_algorithms.matrix_factorization.SVD at 0x7f7122ce4430>"
      ]
     },
     "execution_count": 39,
     "metadata": {},
     "output_type": "execute_result"
    },
    {
     "name": "stdout",
     "output_type": "stream",
     "text": [
      "train RMSE,MAE: 0.732 0.556\n",
      "test RMSE,MAE: 0.860 0.650 \n",
      "\n",
      "\n",
      "nfactor, lr, reg: 50 0.005 0.1 \n",
      "\n"
     ]
    },
    {
     "data": {
      "text/plain": [
       "<surprise.prediction_algorithms.matrix_factorization.SVD at 0x7f7122ce4190>"
      ]
     },
     "execution_count": 39,
     "metadata": {},
     "output_type": "execute_result"
    },
    {
     "name": "stdout",
     "output_type": "stream",
     "text": [
      "train RMSE,MAE: 0.741 0.563\n",
      "test RMSE,MAE: 0.860 0.651 \n",
      "\n",
      "\n",
      "nfactor, lr, reg: 50 0.005 0.2 \n",
      "\n"
     ]
    },
    {
     "data": {
      "text/plain": [
       "<surprise.prediction_algorithms.matrix_factorization.SVD at 0x7f7122ce41f0>"
      ]
     },
     "execution_count": 39,
     "metadata": {},
     "output_type": "execute_result"
    },
    {
     "name": "stdout",
     "output_type": "stream",
     "text": [
      "train RMSE,MAE: 0.767 0.587\n",
      "test RMSE,MAE: 0.862 0.657 \n",
      "\n",
      "\n",
      "nfactor, lr, reg: 50 0.005 0.4 \n",
      "\n"
     ]
    },
    {
     "data": {
      "text/plain": [
       "<surprise.prediction_algorithms.matrix_factorization.SVD at 0x7f7122ce4f70>"
      ]
     },
     "execution_count": 39,
     "metadata": {},
     "output_type": "execute_result"
    },
    {
     "name": "stdout",
     "output_type": "stream",
     "text": [
      "train RMSE,MAE: 0.792 0.610\n",
      "test RMSE,MAE: 0.868 0.668 \n",
      "\n",
      "\n",
      "nfactor, lr, reg: 50 0.005 0.8 \n",
      "\n"
     ]
    },
    {
     "data": {
      "text/plain": [
       "<surprise.prediction_algorithms.matrix_factorization.SVD at 0x7f7122ce4460>"
      ]
     },
     "execution_count": 39,
     "metadata": {},
     "output_type": "execute_result"
    },
    {
     "name": "stdout",
     "output_type": "stream",
     "text": [
      "train RMSE,MAE: 0.818 0.637\n",
      "test RMSE,MAE: 0.882 0.685 \n",
      "\n",
      "\n",
      "nfactor, lr, reg: 50 0.005 1 \n",
      "\n"
     ]
    },
    {
     "data": {
      "text/plain": [
       "<surprise.prediction_algorithms.matrix_factorization.SVD at 0x7f7122ce4df0>"
      ]
     },
     "execution_count": 39,
     "metadata": {},
     "output_type": "execute_result"
    },
    {
     "name": "stdout",
     "output_type": "stream",
     "text": [
      "train RMSE,MAE: 0.828 0.646\n",
      "test RMSE,MAE: 0.888 0.692 \n",
      "\n",
      "\n",
      "nfactor, lr, reg: 50 0.005 2 \n",
      "\n"
     ]
    },
    {
     "data": {
      "text/plain": [
       "<surprise.prediction_algorithms.matrix_factorization.SVD at 0x7f7122ce4cd0>"
      ]
     },
     "execution_count": 39,
     "metadata": {},
     "output_type": "execute_result"
    },
    {
     "name": "stdout",
     "output_type": "stream",
     "text": [
      "train RMSE,MAE: 0.862 0.677\n",
      "test RMSE,MAE: 0.911 0.714 \n",
      "\n",
      "\n",
      "nfactor, lr, reg: 50 0.005 4 \n",
      "\n"
     ]
    },
    {
     "data": {
      "text/plain": [
       "<surprise.prediction_algorithms.matrix_factorization.SVD at 0x7f7122ce4a30>"
      ]
     },
     "execution_count": 39,
     "metadata": {},
     "output_type": "execute_result"
    },
    {
     "name": "stdout",
     "output_type": "stream",
     "text": [
      "train RMSE,MAE: 0.899 0.710\n",
      "test RMSE,MAE: 0.935 0.736 \n",
      "\n",
      "\n",
      "nfactor, lr, reg: 50 0.005 10 \n",
      "\n"
     ]
    },
    {
     "data": {
      "text/plain": [
       "<surprise.prediction_algorithms.matrix_factorization.SVD at 0x7f7122ce4e50>"
      ]
     },
     "execution_count": 39,
     "metadata": {},
     "output_type": "execute_result"
    },
    {
     "name": "stdout",
     "output_type": "stream",
     "text": [
      "train RMSE,MAE: 0.941 0.748\n",
      "test RMSE,MAE: 0.960 0.761 \n",
      "\n",
      "\n",
      "nfactor, lr, reg: 50 0.006 0.01 \n",
      "\n"
     ]
    },
    {
     "data": {
      "text/plain": [
       "<surprise.prediction_algorithms.matrix_factorization.SVD at 0x7f7122ce4790>"
      ]
     },
     "execution_count": 39,
     "metadata": {},
     "output_type": "execute_result"
    },
    {
     "name": "stdout",
     "output_type": "stream",
     "text": [
      "train RMSE,MAE: 0.637 0.480\n",
      "test RMSE,MAE: 0.862 0.646 \n",
      "\n",
      "\n",
      "nfactor, lr, reg: 50 0.006 0.02 \n",
      "\n"
     ]
    },
    {
     "data": {
      "text/plain": [
       "<surprise.prediction_algorithms.matrix_factorization.SVD at 0x7f7122ce46d0>"
      ]
     },
     "execution_count": 39,
     "metadata": {},
     "output_type": "execute_result"
    },
    {
     "name": "stdout",
     "output_type": "stream",
     "text": [
      "train RMSE,MAE: 0.650 0.491\n",
      "test RMSE,MAE: 0.859 0.645 \n",
      "\n",
      "\n",
      "nfactor, lr, reg: 50 0.006 0.04 \n",
      "\n"
     ]
    },
    {
     "data": {
      "text/plain": [
       "<surprise.prediction_algorithms.matrix_factorization.SVD at 0x7f7122ce42e0>"
      ]
     },
     "execution_count": 39,
     "metadata": {},
     "output_type": "execute_result"
    },
    {
     "name": "stdout",
     "output_type": "stream",
     "text": [
      "train RMSE,MAE: 0.675 0.512\n",
      "test RMSE,MAE: 0.859 0.645 \n",
      "\n",
      "\n",
      "nfactor, lr, reg: 50 0.006 0.08 \n",
      "\n"
     ]
    },
    {
     "data": {
      "text/plain": [
       "<surprise.prediction_algorithms.matrix_factorization.SVD at 0x7f7122ce4430>"
      ]
     },
     "execution_count": 39,
     "metadata": {},
     "output_type": "execute_result"
    },
    {
     "name": "stdout",
     "output_type": "stream",
     "text": [
      "train RMSE,MAE: 0.709 0.539\n",
      "test RMSE,MAE: 0.858 0.647 \n",
      "\n",
      "\n",
      "nfactor, lr, reg: 50 0.006 0.1 \n",
      "\n"
     ]
    },
    {
     "data": {
      "text/plain": [
       "<surprise.prediction_algorithms.matrix_factorization.SVD at 0x7f7122ce4190>"
      ]
     },
     "execution_count": 39,
     "metadata": {},
     "output_type": "execute_result"
    },
    {
     "name": "stdout",
     "output_type": "stream",
     "text": [
      "train RMSE,MAE: 0.721 0.548\n",
      "test RMSE,MAE: 0.858 0.649 \n",
      "\n",
      "\n",
      "nfactor, lr, reg: 50 0.006 0.2 \n",
      "\n"
     ]
    },
    {
     "data": {
      "text/plain": [
       "<surprise.prediction_algorithms.matrix_factorization.SVD at 0x7f7122ce41f0>"
      ]
     },
     "execution_count": 39,
     "metadata": {},
     "output_type": "execute_result"
    },
    {
     "name": "stdout",
     "output_type": "stream",
     "text": [
      "train RMSE,MAE: 0.755 0.576\n",
      "test RMSE,MAE: 0.861 0.655 \n",
      "\n",
      "\n",
      "nfactor, lr, reg: 50 0.006 0.4 \n",
      "\n"
     ]
    },
    {
     "data": {
      "text/plain": [
       "<surprise.prediction_algorithms.matrix_factorization.SVD at 0x7f7122ce4f70>"
      ]
     },
     "execution_count": 39,
     "metadata": {},
     "output_type": "execute_result"
    },
    {
     "name": "stdout",
     "output_type": "stream",
     "text": [
      "train RMSE,MAE: 0.783 0.603\n",
      "test RMSE,MAE: 0.867 0.667 \n",
      "\n",
      "\n",
      "nfactor, lr, reg: 50 0.006 0.8 \n",
      "\n"
     ]
    },
    {
     "data": {
      "text/plain": [
       "<surprise.prediction_algorithms.matrix_factorization.SVD at 0x7f7122ce4460>"
      ]
     },
     "execution_count": 39,
     "metadata": {},
     "output_type": "execute_result"
    },
    {
     "name": "stdout",
     "output_type": "stream",
     "text": [
      "train RMSE,MAE: 0.811 0.631\n",
      "test RMSE,MAE: 0.881 0.684 \n",
      "\n",
      "\n",
      "nfactor, lr, reg: 50 0.006 1 \n",
      "\n"
     ]
    },
    {
     "data": {
      "text/plain": [
       "<surprise.prediction_algorithms.matrix_factorization.SVD at 0x7f7122ce4df0>"
      ]
     },
     "execution_count": 39,
     "metadata": {},
     "output_type": "execute_result"
    },
    {
     "name": "stdout",
     "output_type": "stream",
     "text": [
      "train RMSE,MAE: 0.821 0.641\n",
      "test RMSE,MAE: 0.887 0.690 \n",
      "\n",
      "\n",
      "nfactor, lr, reg: 50 0.006 2 \n",
      "\n"
     ]
    },
    {
     "data": {
      "text/plain": [
       "<surprise.prediction_algorithms.matrix_factorization.SVD at 0x7f7122ce4cd0>"
      ]
     },
     "execution_count": 39,
     "metadata": {},
     "output_type": "execute_result"
    },
    {
     "name": "stdout",
     "output_type": "stream",
     "text": [
      "train RMSE,MAE: 0.858 0.674\n",
      "test RMSE,MAE: 0.910 0.713 \n",
      "\n",
      "\n",
      "nfactor, lr, reg: 50 0.006 4 \n",
      "\n"
     ]
    },
    {
     "data": {
      "text/plain": [
       "<surprise.prediction_algorithms.matrix_factorization.SVD at 0x7f7122ce4a30>"
      ]
     },
     "execution_count": 39,
     "metadata": {},
     "output_type": "execute_result"
    },
    {
     "name": "stdout",
     "output_type": "stream",
     "text": [
      "train RMSE,MAE: 0.897 0.709\n",
      "test RMSE,MAE: 0.934 0.736 \n",
      "\n",
      "\n",
      "nfactor, lr, reg: 50 0.006 10 \n",
      "\n"
     ]
    },
    {
     "data": {
      "text/plain": [
       "<surprise.prediction_algorithms.matrix_factorization.SVD at 0x7f7122ce4e50>"
      ]
     },
     "execution_count": 39,
     "metadata": {},
     "output_type": "execute_result"
    },
    {
     "name": "stdout",
     "output_type": "stream",
     "text": [
      "train RMSE,MAE: 0.941 0.748\n",
      "test RMSE,MAE: 0.960 0.761 \n",
      "\n",
      "\n",
      "nfactor, lr, reg: 50 0.007 0.01 \n",
      "\n"
     ]
    },
    {
     "data": {
      "text/plain": [
       "<surprise.prediction_algorithms.matrix_factorization.SVD at 0x7f7122ce4790>"
      ]
     },
     "execution_count": 39,
     "metadata": {},
     "output_type": "execute_result"
    },
    {
     "name": "stdout",
     "output_type": "stream",
     "text": [
      "train RMSE,MAE: 0.586 0.441\n",
      "test RMSE,MAE: 0.862 0.644 \n",
      "\n",
      "\n",
      "nfactor, lr, reg: 50 0.007 0.02 \n",
      "\n"
     ]
    },
    {
     "data": {
      "text/plain": [
       "<surprise.prediction_algorithms.matrix_factorization.SVD at 0x7f7122ce46d0>"
      ]
     },
     "execution_count": 39,
     "metadata": {},
     "output_type": "execute_result"
    },
    {
     "name": "stdout",
     "output_type": "stream",
     "text": [
      "train RMSE,MAE: 0.609 0.461\n",
      "test RMSE,MAE: 0.859 0.643 \n",
      "\n",
      "\n",
      "nfactor, lr, reg: 50 0.007 0.04 \n",
      "\n"
     ]
    },
    {
     "data": {
      "text/plain": [
       "<surprise.prediction_algorithms.matrix_factorization.SVD at 0x7f7122ce42e0>"
      ]
     },
     "execution_count": 39,
     "metadata": {},
     "output_type": "execute_result"
    },
    {
     "name": "stdout",
     "output_type": "stream",
     "text": [
      "train RMSE,MAE: 0.644 0.488\n",
      "test RMSE,MAE: 0.857 0.643 \n",
      "\n",
      "\n",
      "nfactor, lr, reg: 50 0.007 0.08 \n",
      "\n"
     ]
    },
    {
     "data": {
      "text/plain": [
       "<surprise.prediction_algorithms.matrix_factorization.SVD at 0x7f7122ce4430>"
      ]
     },
     "execution_count": 39,
     "metadata": {},
     "output_type": "execute_result"
    },
    {
     "name": "stdout",
     "output_type": "stream",
     "text": [
      "train RMSE,MAE: 0.688 0.523\n",
      "test RMSE,MAE: 0.857 0.646 \n",
      "\n",
      "\n",
      "nfactor, lr, reg: 50 0.007 0.1 \n",
      "\n"
     ]
    },
    {
     "data": {
      "text/plain": [
       "<surprise.prediction_algorithms.matrix_factorization.SVD at 0x7f7122ce4190>"
      ]
     },
     "execution_count": 39,
     "metadata": {},
     "output_type": "execute_result"
    },
    {
     "name": "stdout",
     "output_type": "stream",
     "text": [
      "train RMSE,MAE: 0.702 0.534\n",
      "test RMSE,MAE: 0.857 0.648 \n",
      "\n",
      "\n",
      "nfactor, lr, reg: 50 0.007 0.2 \n",
      "\n"
     ]
    },
    {
     "data": {
      "text/plain": [
       "<surprise.prediction_algorithms.matrix_factorization.SVD at 0x7f7122ce41f0>"
      ]
     },
     "execution_count": 39,
     "metadata": {},
     "output_type": "execute_result"
    },
    {
     "name": "stdout",
     "output_type": "stream",
     "text": [
      "train RMSE,MAE: 0.743 0.567\n",
      "test RMSE,MAE: 0.860 0.654 \n",
      "\n",
      "\n",
      "nfactor, lr, reg: 50 0.007 0.4 \n",
      "\n"
     ]
    },
    {
     "data": {
      "text/plain": [
       "<surprise.prediction_algorithms.matrix_factorization.SVD at 0x7f7122ce4f70>"
      ]
     },
     "execution_count": 39,
     "metadata": {},
     "output_type": "execute_result"
    },
    {
     "name": "stdout",
     "output_type": "stream",
     "text": [
      "train RMSE,MAE: 0.776 0.597\n",
      "test RMSE,MAE: 0.866 0.665 \n",
      "\n",
      "\n",
      "nfactor, lr, reg: 50 0.007 0.8 \n",
      "\n"
     ]
    },
    {
     "data": {
      "text/plain": [
       "<surprise.prediction_algorithms.matrix_factorization.SVD at 0x7f7122ce4460>"
      ]
     },
     "execution_count": 39,
     "metadata": {},
     "output_type": "execute_result"
    },
    {
     "name": "stdout",
     "output_type": "stream",
     "text": [
      "train RMSE,MAE: 0.806 0.626\n",
      "test RMSE,MAE: 0.880 0.683 \n",
      "\n",
      "\n",
      "nfactor, lr, reg: 50 0.007 1 \n",
      "\n"
     ]
    },
    {
     "data": {
      "text/plain": [
       "<surprise.prediction_algorithms.matrix_factorization.SVD at 0x7f7122ce4df0>"
      ]
     },
     "execution_count": 39,
     "metadata": {},
     "output_type": "execute_result"
    },
    {
     "name": "stdout",
     "output_type": "stream",
     "text": [
      "train RMSE,MAE: 0.816 0.637\n",
      "test RMSE,MAE: 0.886 0.690 \n",
      "\n",
      "\n",
      "nfactor, lr, reg: 50 0.007 2 \n",
      "\n"
     ]
    },
    {
     "data": {
      "text/plain": [
       "<surprise.prediction_algorithms.matrix_factorization.SVD at 0x7f7122ce4cd0>"
      ]
     },
     "execution_count": 39,
     "metadata": {},
     "output_type": "execute_result"
    },
    {
     "name": "stdout",
     "output_type": "stream",
     "text": [
      "train RMSE,MAE: 0.854 0.671\n",
      "test RMSE,MAE: 0.909 0.712 \n",
      "\n",
      "\n",
      "nfactor, lr, reg: 50 0.007 4 \n",
      "\n"
     ]
    },
    {
     "data": {
      "text/plain": [
       "<surprise.prediction_algorithms.matrix_factorization.SVD at 0x7f7122ce4a30>"
      ]
     },
     "execution_count": 39,
     "metadata": {},
     "output_type": "execute_result"
    },
    {
     "name": "stdout",
     "output_type": "stream",
     "text": [
      "train RMSE,MAE: 0.896 0.707\n",
      "test RMSE,MAE: 0.934 0.736 \n",
      "\n",
      "\n",
      "nfactor, lr, reg: 50 0.007 10 \n",
      "\n"
     ]
    },
    {
     "data": {
      "text/plain": [
       "<surprise.prediction_algorithms.matrix_factorization.SVD at 0x7f7122ce4e50>"
      ]
     },
     "execution_count": 39,
     "metadata": {},
     "output_type": "execute_result"
    },
    {
     "name": "stdout",
     "output_type": "stream",
     "text": [
      "train RMSE,MAE: 0.941 0.748\n",
      "test RMSE,MAE: 0.960 0.761 \n",
      "\n",
      "\n",
      "nfactor, lr, reg: 50 0.008 0.01 \n",
      "\n"
     ]
    },
    {
     "data": {
      "text/plain": [
       "<surprise.prediction_algorithms.matrix_factorization.SVD at 0x7f7122ce4790>"
      ]
     },
     "execution_count": 39,
     "metadata": {},
     "output_type": "execute_result"
    },
    {
     "name": "stdout",
     "output_type": "stream",
     "text": [
      "train RMSE,MAE: 0.539 0.405\n",
      "test RMSE,MAE: 0.863 0.643 \n",
      "\n",
      "\n",
      "nfactor, lr, reg: 50 0.008 0.02 \n",
      "\n"
     ]
    },
    {
     "data": {
      "text/plain": [
       "<surprise.prediction_algorithms.matrix_factorization.SVD at 0x7f7122ce46d0>"
      ]
     },
     "execution_count": 39,
     "metadata": {},
     "output_type": "execute_result"
    },
    {
     "name": "stdout",
     "output_type": "stream",
     "text": [
      "train RMSE,MAE: 0.565 0.427\n",
      "test RMSE,MAE: 0.859 0.642 \n",
      "\n",
      "\n",
      "nfactor, lr, reg: 50 0.008 0.04 \n",
      "\n"
     ]
    },
    {
     "data": {
      "text/plain": [
       "<surprise.prediction_algorithms.matrix_factorization.SVD at 0x7f7122ce42e0>"
      ]
     },
     "execution_count": 39,
     "metadata": {},
     "output_type": "execute_result"
    },
    {
     "name": "stdout",
     "output_type": "stream",
     "text": [
      "train RMSE,MAE: 0.608 0.461\n",
      "test RMSE,MAE: 0.858 0.643 \n",
      "\n",
      "\n",
      "nfactor, lr, reg: 50 0.008 0.08 \n",
      "\n"
     ]
    },
    {
     "data": {
      "text/plain": [
       "<surprise.prediction_algorithms.matrix_factorization.SVD at 0x7f7122ce4430>"
      ]
     },
     "execution_count": 39,
     "metadata": {},
     "output_type": "execute_result"
    },
    {
     "name": "stdout",
     "output_type": "stream",
     "text": [
      "train RMSE,MAE: 0.665 0.505\n",
      "test RMSE,MAE: 0.855 0.644 \n",
      "\n",
      "\n",
      "nfactor, lr, reg: 50 0.008 0.1 \n",
      "\n"
     ]
    },
    {
     "data": {
      "text/plain": [
       "<surprise.prediction_algorithms.matrix_factorization.SVD at 0x7f7122ce4190>"
      ]
     },
     "execution_count": 39,
     "metadata": {},
     "output_type": "execute_result"
    },
    {
     "name": "stdout",
     "output_type": "stream",
     "text": [
      "train RMSE,MAE: 0.683 0.519\n",
      "test RMSE,MAE: 0.856 0.645 \n",
      "\n",
      "\n",
      "nfactor, lr, reg: 50 0.008 0.2 \n",
      "\n"
     ]
    },
    {
     "data": {
      "text/plain": [
       "<surprise.prediction_algorithms.matrix_factorization.SVD at 0x7f7122ce41f0>"
      ]
     },
     "execution_count": 39,
     "metadata": {},
     "output_type": "execute_result"
    },
    {
     "name": "stdout",
     "output_type": "stream",
     "text": [
      "train RMSE,MAE: 0.735 0.560\n",
      "test RMSE,MAE: 0.859 0.652 \n",
      "\n",
      "\n",
      "nfactor, lr, reg: 50 0.008 0.4 \n",
      "\n"
     ]
    },
    {
     "data": {
      "text/plain": [
       "<surprise.prediction_algorithms.matrix_factorization.SVD at 0x7f7122ce4f70>"
      ]
     },
     "execution_count": 39,
     "metadata": {},
     "output_type": "execute_result"
    },
    {
     "name": "stdout",
     "output_type": "stream",
     "text": [
      "train RMSE,MAE: 0.770 0.592\n",
      "test RMSE,MAE: 0.866 0.665 \n",
      "\n",
      "\n",
      "nfactor, lr, reg: 50 0.008 0.8 \n",
      "\n"
     ]
    },
    {
     "data": {
      "text/plain": [
       "<surprise.prediction_algorithms.matrix_factorization.SVD at 0x7f7122ce4460>"
      ]
     },
     "execution_count": 39,
     "metadata": {},
     "output_type": "execute_result"
    },
    {
     "name": "stdout",
     "output_type": "stream",
     "text": [
      "train RMSE,MAE: 0.801 0.622\n",
      "test RMSE,MAE: 0.879 0.682 \n",
      "\n",
      "\n",
      "nfactor, lr, reg: 50 0.008 1 \n",
      "\n"
     ]
    },
    {
     "data": {
      "text/plain": [
       "<surprise.prediction_algorithms.matrix_factorization.SVD at 0x7f7122ce4df0>"
      ]
     },
     "execution_count": 39,
     "metadata": {},
     "output_type": "execute_result"
    },
    {
     "name": "stdout",
     "output_type": "stream",
     "text": [
      "train RMSE,MAE: 0.812 0.633\n",
      "test RMSE,MAE: 0.886 0.689 \n",
      "\n",
      "\n",
      "nfactor, lr, reg: 50 0.008 2 \n",
      "\n"
     ]
    },
    {
     "data": {
      "text/plain": [
       "<surprise.prediction_algorithms.matrix_factorization.SVD at 0x7f7122ce4cd0>"
      ]
     },
     "execution_count": 39,
     "metadata": {},
     "output_type": "execute_result"
    },
    {
     "name": "stdout",
     "output_type": "stream",
     "text": [
      "train RMSE,MAE: 0.852 0.669\n",
      "test RMSE,MAE: 0.909 0.712 \n",
      "\n",
      "\n",
      "nfactor, lr, reg: 50 0.008 4 \n",
      "\n"
     ]
    },
    {
     "data": {
      "text/plain": [
       "<surprise.prediction_algorithms.matrix_factorization.SVD at 0x7f7122ce4a30>"
      ]
     },
     "execution_count": 39,
     "metadata": {},
     "output_type": "execute_result"
    },
    {
     "name": "stdout",
     "output_type": "stream",
     "text": [
      "train RMSE,MAE: 0.895 0.706\n",
      "test RMSE,MAE: 0.934 0.735 \n",
      "\n",
      "\n",
      "nfactor, lr, reg: 50 0.008 10 \n",
      "\n"
     ]
    },
    {
     "data": {
      "text/plain": [
       "<surprise.prediction_algorithms.matrix_factorization.SVD at 0x7f7122ce4e50>"
      ]
     },
     "execution_count": 39,
     "metadata": {},
     "output_type": "execute_result"
    },
    {
     "name": "stdout",
     "output_type": "stream",
     "text": [
      "train RMSE,MAE: 0.941 0.748\n",
      "test RMSE,MAE: 0.960 0.761 \n",
      "\n",
      "\n",
      "nfactor, lr, reg: 50 0.009000000000000001 0.01 \n",
      "\n"
     ]
    },
    {
     "data": {
      "text/plain": [
       "<surprise.prediction_algorithms.matrix_factorization.SVD at 0x7f7122ce4790>"
      ]
     },
     "execution_count": 39,
     "metadata": {},
     "output_type": "execute_result"
    },
    {
     "name": "stdout",
     "output_type": "stream",
     "text": [
      "train RMSE,MAE: 0.490 0.366\n",
      "test RMSE,MAE: 0.864 0.642 \n",
      "\n",
      "\n",
      "nfactor, lr, reg: 50 0.009000000000000001 0.02 \n",
      "\n"
     ]
    },
    {
     "data": {
      "text/plain": [
       "<surprise.prediction_algorithms.matrix_factorization.SVD at 0x7f7122ce46d0>"
      ]
     },
     "execution_count": 39,
     "metadata": {},
     "output_type": "execute_result"
    },
    {
     "name": "stdout",
     "output_type": "stream",
     "text": [
      "train RMSE,MAE: 0.524 0.395\n",
      "test RMSE,MAE: 0.860 0.640 \n",
      "\n",
      "\n",
      "nfactor, lr, reg: 50 0.009000000000000001 0.04 \n",
      "\n"
     ]
    },
    {
     "data": {
      "text/plain": [
       "<surprise.prediction_algorithms.matrix_factorization.SVD at 0x7f7122ce42e0>"
      ]
     },
     "execution_count": 39,
     "metadata": {},
     "output_type": "execute_result"
    },
    {
     "name": "stdout",
     "output_type": "stream",
     "text": [
      "train RMSE,MAE: 0.576 0.438\n",
      "test RMSE,MAE: 0.857 0.640 \n",
      "\n",
      "\n",
      "nfactor, lr, reg: 50 0.009000000000000001 0.08 \n",
      "\n"
     ]
    },
    {
     "data": {
      "text/plain": [
       "<surprise.prediction_algorithms.matrix_factorization.SVD at 0x7f7122ce4430>"
      ]
     },
     "execution_count": 39,
     "metadata": {},
     "output_type": "execute_result"
    },
    {
     "name": "stdout",
     "output_type": "stream",
     "text": [
      "train RMSE,MAE: 0.644 0.490\n",
      "test RMSE,MAE: 0.856 0.643 \n",
      "\n",
      "\n",
      "nfactor, lr, reg: 50 0.009000000000000001 0.1 \n",
      "\n"
     ]
    },
    {
     "data": {
      "text/plain": [
       "<surprise.prediction_algorithms.matrix_factorization.SVD at 0x7f7122ce4190>"
      ]
     },
     "execution_count": 39,
     "metadata": {},
     "output_type": "execute_result"
    },
    {
     "name": "stdout",
     "output_type": "stream",
     "text": [
      "train RMSE,MAE: 0.666 0.506\n",
      "test RMSE,MAE: 0.856 0.644 \n",
      "\n",
      "\n",
      "nfactor, lr, reg: 50 0.009000000000000001 0.2 \n",
      "\n"
     ]
    },
    {
     "data": {
      "text/plain": [
       "<surprise.prediction_algorithms.matrix_factorization.SVD at 0x7f7122ce41f0>"
      ]
     },
     "execution_count": 39,
     "metadata": {},
     "output_type": "execute_result"
    },
    {
     "name": "stdout",
     "output_type": "stream",
     "text": [
      "train RMSE,MAE: 0.725 0.553\n",
      "test RMSE,MAE: 0.859 0.652 \n",
      "\n",
      "\n",
      "nfactor, lr, reg: 50 0.009000000000000001 0.4 \n",
      "\n"
     ]
    },
    {
     "data": {
      "text/plain": [
       "<surprise.prediction_algorithms.matrix_factorization.SVD at 0x7f7122ce4f70>"
      ]
     },
     "execution_count": 39,
     "metadata": {},
     "output_type": "execute_result"
    },
    {
     "name": "stdout",
     "output_type": "stream",
     "text": [
      "train RMSE,MAE: 0.764 0.587\n",
      "test RMSE,MAE: 0.866 0.664 \n",
      "\n",
      "\n",
      "nfactor, lr, reg: 50 0.009000000000000001 0.8 \n",
      "\n"
     ]
    },
    {
     "data": {
      "text/plain": [
       "<surprise.prediction_algorithms.matrix_factorization.SVD at 0x7f7122ce4460>"
      ]
     },
     "execution_count": 39,
     "metadata": {},
     "output_type": "execute_result"
    },
    {
     "name": "stdout",
     "output_type": "stream",
     "text": [
      "train RMSE,MAE: 0.797 0.619\n",
      "test RMSE,MAE: 0.879 0.682 \n",
      "\n",
      "\n",
      "nfactor, lr, reg: 50 0.009000000000000001 1 \n",
      "\n"
     ]
    },
    {
     "data": {
      "text/plain": [
       "<surprise.prediction_algorithms.matrix_factorization.SVD at 0x7f7122ce4df0>"
      ]
     },
     "execution_count": 39,
     "metadata": {},
     "output_type": "execute_result"
    },
    {
     "name": "stdout",
     "output_type": "stream",
     "text": [
      "train RMSE,MAE: 0.808 0.630\n",
      "test RMSE,MAE: 0.885 0.689 \n",
      "\n",
      "\n",
      "nfactor, lr, reg: 50 0.009000000000000001 2 \n",
      "\n"
     ]
    },
    {
     "data": {
      "text/plain": [
       "<surprise.prediction_algorithms.matrix_factorization.SVD at 0x7f7122ce4cd0>"
      ]
     },
     "execution_count": 39,
     "metadata": {},
     "output_type": "execute_result"
    },
    {
     "name": "stdout",
     "output_type": "stream",
     "text": [
      "train RMSE,MAE: 0.850 0.667\n",
      "test RMSE,MAE: 0.909 0.712 \n",
      "\n",
      "\n",
      "nfactor, lr, reg: 50 0.009000000000000001 4 \n",
      "\n"
     ]
    },
    {
     "data": {
      "text/plain": [
       "<surprise.prediction_algorithms.matrix_factorization.SVD at 0x7f7122ce4a30>"
      ]
     },
     "execution_count": 39,
     "metadata": {},
     "output_type": "execute_result"
    },
    {
     "name": "stdout",
     "output_type": "stream",
     "text": [
      "train RMSE,MAE: 0.894 0.706\n",
      "test RMSE,MAE: 0.934 0.735 \n",
      "\n",
      "\n",
      "nfactor, lr, reg: 50 0.009000000000000001 10 \n",
      "\n"
     ]
    },
    {
     "data": {
      "text/plain": [
       "<surprise.prediction_algorithms.matrix_factorization.SVD at 0x7f7122ce4e50>"
      ]
     },
     "execution_count": 39,
     "metadata": {},
     "output_type": "execute_result"
    },
    {
     "name": "stdout",
     "output_type": "stream",
     "text": [
      "train RMSE,MAE: 0.941 0.748\n",
      "test RMSE,MAE: 0.961 0.761 \n",
      "\n",
      "\n",
      "nfactor, lr, reg: 58 0.001 0.01 \n",
      "\n"
     ]
    },
    {
     "data": {
      "text/plain": [
       "<surprise.prediction_algorithms.matrix_factorization.SVD at 0x7f7122ce4790>"
      ]
     },
     "execution_count": 39,
     "metadata": {},
     "output_type": "execute_result"
    },
    {
     "name": "stdout",
     "output_type": "stream",
     "text": [
      "train RMSE,MAE: 0.842 0.643\n",
      "test RMSE,MAE: 0.887 0.677 \n",
      "\n",
      "\n",
      "nfactor, lr, reg: 58 0.001 0.02 \n",
      "\n"
     ]
    },
    {
     "data": {
      "text/plain": [
       "<surprise.prediction_algorithms.matrix_factorization.SVD at 0x7f7122ce46d0>"
      ]
     },
     "execution_count": 39,
     "metadata": {},
     "output_type": "execute_result"
    },
    {
     "name": "stdout",
     "output_type": "stream",
     "text": [
      "train RMSE,MAE: 0.843 0.644\n",
      "test RMSE,MAE: 0.887 0.677 \n",
      "\n",
      "\n",
      "nfactor, lr, reg: 58 0.001 0.04 \n",
      "\n"
     ]
    },
    {
     "data": {
      "text/plain": [
       "<surprise.prediction_algorithms.matrix_factorization.SVD at 0x7f7122ce42e0>"
      ]
     },
     "execution_count": 39,
     "metadata": {},
     "output_type": "execute_result"
    },
    {
     "name": "stdout",
     "output_type": "stream",
     "text": [
      "train RMSE,MAE: 0.844 0.645\n",
      "test RMSE,MAE: 0.887 0.679 \n",
      "\n",
      "\n",
      "nfactor, lr, reg: 58 0.001 0.08 \n",
      "\n"
     ]
    },
    {
     "data": {
      "text/plain": [
       "<surprise.prediction_algorithms.matrix_factorization.SVD at 0x7f7122ce4430>"
      ]
     },
     "execution_count": 39,
     "metadata": {},
     "output_type": "execute_result"
    },
    {
     "name": "stdout",
     "output_type": "stream",
     "text": [
      "train RMSE,MAE: 0.846 0.649\n",
      "test RMSE,MAE: 0.887 0.680 \n",
      "\n",
      "\n",
      "nfactor, lr, reg: 58 0.001 0.1 \n",
      "\n"
     ]
    },
    {
     "data": {
      "text/plain": [
       "<surprise.prediction_algorithms.matrix_factorization.SVD at 0x7f7122ce4190>"
      ]
     },
     "execution_count": 39,
     "metadata": {},
     "output_type": "execute_result"
    },
    {
     "name": "stdout",
     "output_type": "stream",
     "text": [
      "train RMSE,MAE: 0.847 0.650\n",
      "test RMSE,MAE: 0.887 0.681 \n",
      "\n",
      "\n",
      "nfactor, lr, reg: 58 0.001 0.2 \n",
      "\n"
     ]
    },
    {
     "data": {
      "text/plain": [
       "<surprise.prediction_algorithms.matrix_factorization.SVD at 0x7f7122ce41f0>"
      ]
     },
     "execution_count": 39,
     "metadata": {},
     "output_type": "execute_result"
    },
    {
     "name": "stdout",
     "output_type": "stream",
     "text": [
      "train RMSE,MAE: 0.851 0.656\n",
      "test RMSE,MAE: 0.889 0.684 \n",
      "\n",
      "\n",
      "nfactor, lr, reg: 58 0.001 0.4 \n",
      "\n"
     ]
    },
    {
     "data": {
      "text/plain": [
       "<surprise.prediction_algorithms.matrix_factorization.SVD at 0x7f7122ce4f70>"
      ]
     },
     "execution_count": 39,
     "metadata": {},
     "output_type": "execute_result"
    },
    {
     "name": "stdout",
     "output_type": "stream",
     "text": [
      "train RMSE,MAE: 0.860 0.667\n",
      "test RMSE,MAE: 0.893 0.692 \n",
      "\n",
      "\n",
      "nfactor, lr, reg: 58 0.001 0.8 \n",
      "\n"
     ]
    },
    {
     "data": {
      "text/plain": [
       "<surprise.prediction_algorithms.matrix_factorization.SVD at 0x7f7122ce4460>"
      ]
     },
     "execution_count": 39,
     "metadata": {},
     "output_type": "execute_result"
    },
    {
     "name": "stdout",
     "output_type": "stream",
     "text": [
      "train RMSE,MAE: 0.874 0.683\n",
      "test RMSE,MAE: 0.902 0.703 \n",
      "\n",
      "\n",
      "nfactor, lr, reg: 58 0.001 1 \n",
      "\n"
     ]
    },
    {
     "data": {
      "text/plain": [
       "<surprise.prediction_algorithms.matrix_factorization.SVD at 0x7f7122ce4df0>"
      ]
     },
     "execution_count": 39,
     "metadata": {},
     "output_type": "execute_result"
    },
    {
     "name": "stdout",
     "output_type": "stream",
     "text": [
      "train RMSE,MAE: 0.880 0.689\n",
      "test RMSE,MAE: 0.906 0.708 \n",
      "\n",
      "\n",
      "nfactor, lr, reg: 58 0.001 2 \n",
      "\n"
     ]
    },
    {
     "data": {
      "text/plain": [
       "<surprise.prediction_algorithms.matrix_factorization.SVD at 0x7f7122ce4cd0>"
      ]
     },
     "execution_count": 39,
     "metadata": {},
     "output_type": "execute_result"
    },
    {
     "name": "stdout",
     "output_type": "stream",
     "text": [
      "train RMSE,MAE: 0.902 0.711\n",
      "test RMSE,MAE: 0.924 0.725 \n",
      "\n",
      "\n",
      "nfactor, lr, reg: 58 0.001 4 \n",
      "\n"
     ]
    },
    {
     "data": {
      "text/plain": [
       "<surprise.prediction_algorithms.matrix_factorization.SVD at 0x7f7122ce4a30>"
      ]
     },
     "execution_count": 39,
     "metadata": {},
     "output_type": "execute_result"
    },
    {
     "name": "stdout",
     "output_type": "stream",
     "text": [
      "train RMSE,MAE: 0.926 0.733\n",
      "test RMSE,MAE: 0.943 0.745 \n",
      "\n",
      "\n",
      "nfactor, lr, reg: 58 0.001 10 \n",
      "\n"
     ]
    },
    {
     "data": {
      "text/plain": [
       "<surprise.prediction_algorithms.matrix_factorization.SVD at 0x7f7122ce4e50>"
      ]
     },
     "execution_count": 39,
     "metadata": {},
     "output_type": "execute_result"
    },
    {
     "name": "stdout",
     "output_type": "stream",
     "text": [
      "train RMSE,MAE: 0.951 0.757\n",
      "test RMSE,MAE: 0.964 0.765 \n",
      "\n",
      "\n",
      "nfactor, lr, reg: 58 0.002 0.01 \n",
      "\n"
     ]
    },
    {
     "data": {
      "text/plain": [
       "<surprise.prediction_algorithms.matrix_factorization.SVD at 0x7f7122ce46a0>"
      ]
     },
     "execution_count": 39,
     "metadata": {},
     "output_type": "execute_result"
    },
    {
     "name": "stdout",
     "output_type": "stream",
     "text": [
      "train RMSE,MAE: 0.795 0.602\n",
      "test RMSE,MAE: 0.875 0.663 \n",
      "\n",
      "\n",
      "nfactor, lr, reg: 58 0.002 0.02 \n",
      "\n"
     ]
    },
    {
     "data": {
      "text/plain": [
       "<surprise.prediction_algorithms.matrix_factorization.SVD at 0x7f7122ce41f0>"
      ]
     },
     "execution_count": 39,
     "metadata": {},
     "output_type": "execute_result"
    },
    {
     "name": "stdout",
     "output_type": "stream",
     "text": [
      "train RMSE,MAE: 0.796 0.604\n",
      "test RMSE,MAE: 0.875 0.664 \n",
      "\n",
      "\n",
      "nfactor, lr, reg: 58 0.002 0.04 \n",
      "\n"
     ]
    },
    {
     "data": {
      "text/plain": [
       "<surprise.prediction_algorithms.matrix_factorization.SVD at 0x7f7122ce45b0>"
      ]
     },
     "execution_count": 39,
     "metadata": {},
     "output_type": "execute_result"
    },
    {
     "name": "stdout",
     "output_type": "stream",
     "text": [
      "train RMSE,MAE: 0.799 0.608\n",
      "test RMSE,MAE: 0.873 0.663 \n",
      "\n",
      "\n",
      "nfactor, lr, reg: 58 0.002 0.08 \n",
      "\n"
     ]
    },
    {
     "data": {
      "text/plain": [
       "<surprise.prediction_algorithms.matrix_factorization.SVD at 0x7f7122ce4cd0>"
      ]
     },
     "execution_count": 39,
     "metadata": {},
     "output_type": "execute_result"
    },
    {
     "name": "stdout",
     "output_type": "stream",
     "text": [
      "train RMSE,MAE: 0.805 0.614\n",
      "test RMSE,MAE: 0.874 0.665 \n",
      "\n",
      "\n",
      "nfactor, lr, reg: 58 0.002 0.1 \n",
      "\n"
     ]
    },
    {
     "data": {
      "text/plain": [
       "<surprise.prediction_algorithms.matrix_factorization.SVD at 0x7f7122ce4f70>"
      ]
     },
     "execution_count": 39,
     "metadata": {},
     "output_type": "execute_result"
    },
    {
     "name": "stdout",
     "output_type": "stream",
     "text": [
      "train RMSE,MAE: 0.807 0.616\n",
      "test RMSE,MAE: 0.873 0.666 \n",
      "\n",
      "\n",
      "nfactor, lr, reg: 58 0.002 0.2 \n",
      "\n"
     ]
    },
    {
     "data": {
      "text/plain": [
       "<surprise.prediction_algorithms.matrix_factorization.SVD at 0x7f7122ce4460>"
      ]
     },
     "execution_count": 39,
     "metadata": {},
     "output_type": "execute_result"
    },
    {
     "name": "stdout",
     "output_type": "stream",
     "text": [
      "train RMSE,MAE: 0.817 0.628\n",
      "test RMSE,MAE: 0.875 0.671 \n",
      "\n",
      "\n",
      "nfactor, lr, reg: 58 0.002 0.4 \n",
      "\n"
     ]
    },
    {
     "data": {
      "text/plain": [
       "<surprise.prediction_algorithms.matrix_factorization.SVD at 0x7f7122ce47f0>"
      ]
     },
     "execution_count": 39,
     "metadata": {},
     "output_type": "execute_result"
    },
    {
     "name": "stdout",
     "output_type": "stream",
     "text": [
      "train RMSE,MAE: 0.831 0.643\n",
      "test RMSE,MAE: 0.880 0.680 \n",
      "\n",
      "\n",
      "nfactor, lr, reg: 58 0.002 0.8 \n",
      "\n"
     ]
    },
    {
     "data": {
      "text/plain": [
       "<surprise.prediction_algorithms.matrix_factorization.SVD at 0x7f7122ce46d0>"
      ]
     },
     "execution_count": 39,
     "metadata": {},
     "output_type": "execute_result"
    },
    {
     "name": "stdout",
     "output_type": "stream",
     "text": [
      "train RMSE,MAE: 0.851 0.664\n",
      "test RMSE,MAE: 0.891 0.694 \n",
      "\n",
      "\n",
      "nfactor, lr, reg: 58 0.002 1 \n",
      "\n"
     ]
    },
    {
     "data": {
      "text/plain": [
       "<surprise.prediction_algorithms.matrix_factorization.SVD at 0x7f7122ce45b0>"
      ]
     },
     "execution_count": 39,
     "metadata": {},
     "output_type": "execute_result"
    },
    {
     "name": "stdout",
     "output_type": "stream",
     "text": [
      "train RMSE,MAE: 0.859 0.672\n",
      "test RMSE,MAE: 0.897 0.700 \n",
      "\n",
      "\n",
      "nfactor, lr, reg: 58 0.002 2 \n",
      "\n"
     ]
    },
    {
     "data": {
      "text/plain": [
       "<surprise.prediction_algorithms.matrix_factorization.SVD at 0x7f7122ce4df0>"
      ]
     },
     "execution_count": 39,
     "metadata": {},
     "output_type": "execute_result"
    },
    {
     "name": "stdout",
     "output_type": "stream",
     "text": [
      "train RMSE,MAE: 0.886 0.697\n",
      "test RMSE,MAE: 0.917 0.719 \n",
      "\n",
      "\n",
      "nfactor, lr, reg: 58 0.002 4 \n",
      "\n"
     ]
    },
    {
     "data": {
      "text/plain": [
       "<surprise.prediction_algorithms.matrix_factorization.SVD at 0x7f7122ce41f0>"
      ]
     },
     "execution_count": 39,
     "metadata": {},
     "output_type": "execute_result"
    },
    {
     "name": "stdout",
     "output_type": "stream",
     "text": [
      "train RMSE,MAE: 0.914 0.723\n",
      "test RMSE,MAE: 0.939 0.741 \n",
      "\n",
      "\n",
      "nfactor, lr, reg: 58 0.002 10 \n",
      "\n"
     ]
    },
    {
     "data": {
      "text/plain": [
       "<surprise.prediction_algorithms.matrix_factorization.SVD at 0x7f7122ce4a30>"
      ]
     },
     "execution_count": 39,
     "metadata": {},
     "output_type": "execute_result"
    },
    {
     "name": "stdout",
     "output_type": "stream",
     "text": [
      "train RMSE,MAE: 0.946 0.752\n",
      "test RMSE,MAE: 0.962 0.763 \n",
      "\n",
      "\n",
      "nfactor, lr, reg: 58 0.003 0.01 \n",
      "\n"
     ]
    },
    {
     "data": {
      "text/plain": [
       "<surprise.prediction_algorithms.matrix_factorization.SVD at 0x7f7122ce4190>"
      ]
     },
     "execution_count": 39,
     "metadata": {},
     "output_type": "execute_result"
    },
    {
     "name": "stdout",
     "output_type": "stream",
     "text": [
      "train RMSE,MAE: 0.754 0.570\n",
      "test RMSE,MAE: 0.868 0.655 \n",
      "\n",
      "\n",
      "nfactor, lr, reg: 58 0.003 0.02 \n",
      "\n"
     ]
    },
    {
     "data": {
      "text/plain": [
       "<surprise.prediction_algorithms.matrix_factorization.SVD at 0x7f7122ce46d0>"
      ]
     },
     "execution_count": 39,
     "metadata": {},
     "output_type": "execute_result"
    },
    {
     "name": "stdout",
     "output_type": "stream",
     "text": [
      "train RMSE,MAE: 0.757 0.573\n",
      "test RMSE,MAE: 0.868 0.655 \n",
      "\n",
      "\n",
      "nfactor, lr, reg: 58 0.003 0.04 \n",
      "\n"
     ]
    },
    {
     "data": {
      "text/plain": [
       "<surprise.prediction_algorithms.matrix_factorization.SVD at 0x7f7122ce42e0>"
      ]
     },
     "execution_count": 39,
     "metadata": {},
     "output_type": "execute_result"
    },
    {
     "name": "stdout",
     "output_type": "stream",
     "text": [
      "train RMSE,MAE: 0.765 0.580\n",
      "test RMSE,MAE: 0.867 0.656 \n",
      "\n",
      "\n",
      "nfactor, lr, reg: 58 0.003 0.08 \n",
      "\n"
     ]
    },
    {
     "data": {
      "text/plain": [
       "<surprise.prediction_algorithms.matrix_factorization.SVD at 0x7f7122ce47f0>"
      ]
     },
     "execution_count": 39,
     "metadata": {},
     "output_type": "execute_result"
    },
    {
     "name": "stdout",
     "output_type": "stream",
     "text": [
      "train RMSE,MAE: 0.775 0.589\n",
      "test RMSE,MAE: 0.867 0.658 \n",
      "\n",
      "\n",
      "nfactor, lr, reg: 58 0.003 0.1 \n",
      "\n"
     ]
    },
    {
     "data": {
      "text/plain": [
       "<surprise.prediction_algorithms.matrix_factorization.SVD at 0x7f7122ce4cd0>"
      ]
     },
     "execution_count": 39,
     "metadata": {},
     "output_type": "execute_result"
    },
    {
     "name": "stdout",
     "output_type": "stream",
     "text": [
      "train RMSE,MAE: 0.780 0.594\n",
      "test RMSE,MAE: 0.867 0.659 \n",
      "\n",
      "\n",
      "nfactor, lr, reg: 58 0.003 0.2 \n",
      "\n"
     ]
    },
    {
     "data": {
      "text/plain": [
       "<surprise.prediction_algorithms.matrix_factorization.SVD at 0x7f7122ce4790>"
      ]
     },
     "execution_count": 39,
     "metadata": {},
     "output_type": "execute_result"
    },
    {
     "name": "stdout",
     "output_type": "stream",
     "text": [
      "train RMSE,MAE: 0.795 0.609\n",
      "test RMSE,MAE: 0.868 0.664 \n",
      "\n",
      "\n",
      "nfactor, lr, reg: 58 0.003 0.4 \n",
      "\n"
     ]
    },
    {
     "data": {
      "text/plain": [
       "<surprise.prediction_algorithms.matrix_factorization.SVD at 0x7f7122ce4190>"
      ]
     },
     "execution_count": 39,
     "metadata": {},
     "output_type": "execute_result"
    },
    {
     "name": "stdout",
     "output_type": "stream",
     "text": [
      "train RMSE,MAE: 0.814 0.629\n",
      "test RMSE,MAE: 0.874 0.674 \n",
      "\n",
      "\n",
      "nfactor, lr, reg: 58 0.003 0.8 \n",
      "\n"
     ]
    },
    {
     "data": {
      "text/plain": [
       "<surprise.prediction_algorithms.matrix_factorization.SVD at 0x7f7122ce4e80>"
      ]
     },
     "execution_count": 39,
     "metadata": {},
     "output_type": "execute_result"
    },
    {
     "name": "stdout",
     "output_type": "stream",
     "text": [
      "train RMSE,MAE: 0.837 0.652\n",
      "test RMSE,MAE: 0.886 0.690 \n",
      "\n",
      "\n",
      "nfactor, lr, reg: 58 0.003 1 \n",
      "\n"
     ]
    },
    {
     "data": {
      "text/plain": [
       "<surprise.prediction_algorithms.matrix_factorization.SVD at 0x7f7122ce4a30>"
      ]
     },
     "execution_count": 39,
     "metadata": {},
     "output_type": "execute_result"
    },
    {
     "name": "stdout",
     "output_type": "stream",
     "text": [
      "train RMSE,MAE: 0.845 0.661\n",
      "test RMSE,MAE: 0.892 0.696 \n",
      "\n",
      "\n",
      "nfactor, lr, reg: 58 0.003 2 \n",
      "\n"
     ]
    },
    {
     "data": {
      "text/plain": [
       "<surprise.prediction_algorithms.matrix_factorization.SVD at 0x7f7122ce46a0>"
      ]
     },
     "execution_count": 39,
     "metadata": {},
     "output_type": "execute_result"
    },
    {
     "name": "stdout",
     "output_type": "stream",
     "text": [
      "train RMSE,MAE: 0.876 0.688\n",
      "test RMSE,MAE: 0.914 0.717 \n",
      "\n",
      "\n",
      "nfactor, lr, reg: 58 0.003 4 \n",
      "\n"
     ]
    },
    {
     "data": {
      "text/plain": [
       "<surprise.prediction_algorithms.matrix_factorization.SVD at 0x7f7122ce4040>"
      ]
     },
     "execution_count": 39,
     "metadata": {},
     "output_type": "execute_result"
    },
    {
     "name": "stdout",
     "output_type": "stream",
     "text": [
      "train RMSE,MAE: 0.907 0.717\n",
      "test RMSE,MAE: 0.937 0.739 \n",
      "\n",
      "\n",
      "nfactor, lr, reg: 58 0.003 10 \n",
      "\n"
     ]
    },
    {
     "data": {
      "text/plain": [
       "<surprise.prediction_algorithms.matrix_factorization.SVD at 0x7f7122ce4790>"
      ]
     },
     "execution_count": 39,
     "metadata": {},
     "output_type": "execute_result"
    },
    {
     "name": "stdout",
     "output_type": "stream",
     "text": [
      "train RMSE,MAE: 0.943 0.750\n",
      "test RMSE,MAE: 0.961 0.762 \n",
      "\n",
      "\n",
      "nfactor, lr, reg: 58 0.004 0.01 \n",
      "\n"
     ]
    },
    {
     "data": {
      "text/plain": [
       "<surprise.prediction_algorithms.matrix_factorization.SVD at 0x7f7122ce4e50>"
      ]
     },
     "execution_count": 39,
     "metadata": {},
     "output_type": "execute_result"
    },
    {
     "name": "stdout",
     "output_type": "stream",
     "text": [
      "train RMSE,MAE: 0.711 0.537\n",
      "test RMSE,MAE: 0.863 0.650 \n",
      "\n",
      "\n",
      "nfactor, lr, reg: 58 0.004 0.02 \n",
      "\n"
     ]
    },
    {
     "data": {
      "text/plain": [
       "<surprise.prediction_algorithms.matrix_factorization.SVD at 0x7f7122ce4cd0>"
      ]
     },
     "execution_count": 39,
     "metadata": {},
     "output_type": "execute_result"
    },
    {
     "name": "stdout",
     "output_type": "stream",
     "text": [
      "train RMSE,MAE: 0.718 0.543\n",
      "test RMSE,MAE: 0.865 0.651 \n",
      "\n",
      "\n",
      "nfactor, lr, reg: 58 0.004 0.04 \n",
      "\n"
     ]
    },
    {
     "data": {
      "text/plain": [
       "<surprise.prediction_algorithms.matrix_factorization.SVD at 0x7f7122ce4460>"
      ]
     },
     "execution_count": 39,
     "metadata": {},
     "output_type": "execute_result"
    },
    {
     "name": "stdout",
     "output_type": "stream",
     "text": [
      "train RMSE,MAE: 0.731 0.553\n",
      "test RMSE,MAE: 0.863 0.651 \n",
      "\n",
      "\n",
      "nfactor, lr, reg: 58 0.004 0.08 \n",
      "\n"
     ]
    },
    {
     "data": {
      "text/plain": [
       "<surprise.prediction_algorithms.matrix_factorization.SVD at 0x7f7122ce45b0>"
      ]
     },
     "execution_count": 39,
     "metadata": {},
     "output_type": "execute_result"
    },
    {
     "name": "stdout",
     "output_type": "stream",
     "text": [
      "train RMSE,MAE: 0.749 0.569\n",
      "test RMSE,MAE: 0.863 0.653 \n",
      "\n",
      "\n",
      "nfactor, lr, reg: 58 0.004 0.1 \n",
      "\n"
     ]
    },
    {
     "data": {
      "text/plain": [
       "<surprise.prediction_algorithms.matrix_factorization.SVD at 0x7f7122ce4040>"
      ]
     },
     "execution_count": 39,
     "metadata": {},
     "output_type": "execute_result"
    },
    {
     "name": "stdout",
     "output_type": "stream",
     "text": [
      "train RMSE,MAE: 0.756 0.575\n",
      "test RMSE,MAE: 0.863 0.655 \n",
      "\n",
      "\n",
      "nfactor, lr, reg: 58 0.004 0.2 \n",
      "\n"
     ]
    },
    {
     "data": {
      "text/plain": [
       "<surprise.prediction_algorithms.matrix_factorization.SVD at 0x7f7122ce4f70>"
      ]
     },
     "execution_count": 39,
     "metadata": {},
     "output_type": "execute_result"
    },
    {
     "name": "stdout",
     "output_type": "stream",
     "text": [
      "train RMSE,MAE: 0.777 0.595\n",
      "test RMSE,MAE: 0.864 0.660 \n",
      "\n",
      "\n",
      "nfactor, lr, reg: 58 0.004 0.4 \n",
      "\n"
     ]
    },
    {
     "data": {
      "text/plain": [
       "<surprise.prediction_algorithms.matrix_factorization.SVD at 0x7f7122ce46a0>"
      ]
     },
     "execution_count": 39,
     "metadata": {},
     "output_type": "execute_result"
    },
    {
     "name": "stdout",
     "output_type": "stream",
     "text": [
      "train RMSE,MAE: 0.800 0.618\n",
      "test RMSE,MAE: 0.871 0.671 \n",
      "\n",
      "\n",
      "nfactor, lr, reg: 58 0.004 0.8 \n",
      "\n"
     ]
    },
    {
     "data": {
      "text/plain": [
       "<surprise.prediction_algorithms.matrix_factorization.SVD at 0x7f7122ce41f0>"
      ]
     },
     "execution_count": 39,
     "metadata": {},
     "output_type": "execute_result"
    },
    {
     "name": "stdout",
     "output_type": "stream",
     "text": [
      "train RMSE,MAE: 0.826 0.643\n",
      "test RMSE,MAE: 0.884 0.687 \n",
      "\n",
      "\n",
      "nfactor, lr, reg: 58 0.004 1 \n",
      "\n"
     ]
    },
    {
     "data": {
      "text/plain": [
       "<surprise.prediction_algorithms.matrix_factorization.SVD at 0x7f7122ce46d0>"
      ]
     },
     "execution_count": 39,
     "metadata": {},
     "output_type": "execute_result"
    },
    {
     "name": "stdout",
     "output_type": "stream",
     "text": [
      "train RMSE,MAE: 0.835 0.652\n",
      "test RMSE,MAE: 0.889 0.693 \n",
      "\n",
      "\n",
      "nfactor, lr, reg: 58 0.004 2 \n",
      "\n"
     ]
    },
    {
     "data": {
      "text/plain": [
       "<surprise.prediction_algorithms.matrix_factorization.SVD at 0x7f7122ce45b0>"
      ]
     },
     "execution_count": 39,
     "metadata": {},
     "output_type": "execute_result"
    },
    {
     "name": "stdout",
     "output_type": "stream",
     "text": [
      "train RMSE,MAE: 0.868 0.682\n",
      "test RMSE,MAE: 0.912 0.715 \n",
      "\n",
      "\n",
      "nfactor, lr, reg: 58 0.004 4 \n",
      "\n"
     ]
    },
    {
     "data": {
      "text/plain": [
       "<surprise.prediction_algorithms.matrix_factorization.SVD at 0x7f7122ce4df0>"
      ]
     },
     "execution_count": 39,
     "metadata": {},
     "output_type": "execute_result"
    },
    {
     "name": "stdout",
     "output_type": "stream",
     "text": [
      "train RMSE,MAE: 0.903 0.713\n",
      "test RMSE,MAE: 0.935 0.737 \n",
      "\n",
      "\n",
      "nfactor, lr, reg: 58 0.004 10 \n",
      "\n"
     ]
    },
    {
     "data": {
      "text/plain": [
       "<surprise.prediction_algorithms.matrix_factorization.SVD at 0x7f7122ce4460>"
      ]
     },
     "execution_count": 39,
     "metadata": {},
     "output_type": "execute_result"
    },
    {
     "name": "stdout",
     "output_type": "stream",
     "text": [
      "train RMSE,MAE: 0.942 0.749\n",
      "test RMSE,MAE: 0.961 0.761 \n",
      "\n",
      "\n",
      "nfactor, lr, reg: 58 0.005 0.01 \n",
      "\n"
     ]
    },
    {
     "data": {
      "text/plain": [
       "<surprise.prediction_algorithms.matrix_factorization.SVD at 0x7f7122ce47f0>"
      ]
     },
     "execution_count": 39,
     "metadata": {},
     "output_type": "execute_result"
    },
    {
     "name": "stdout",
     "output_type": "stream",
     "text": [
      "train RMSE,MAE: 0.665 0.502\n",
      "test RMSE,MAE: 0.864 0.648 \n",
      "\n",
      "\n",
      "nfactor, lr, reg: 58 0.005 0.02 \n",
      "\n"
     ]
    },
    {
     "data": {
      "text/plain": [
       "<surprise.prediction_algorithms.matrix_factorization.SVD at 0x7f7122ce4a30>"
      ]
     },
     "execution_count": 39,
     "metadata": {},
     "output_type": "execute_result"
    },
    {
     "name": "stdout",
     "output_type": "stream",
     "text": [
      "train RMSE,MAE: 0.677 0.512\n",
      "test RMSE,MAE: 0.860 0.647 \n",
      "\n",
      "\n",
      "nfactor, lr, reg: 58 0.005 0.04 \n",
      "\n"
     ]
    },
    {
     "data": {
      "text/plain": [
       "<surprise.prediction_algorithms.matrix_factorization.SVD at 0x7f7122ce46d0>"
      ]
     },
     "execution_count": 39,
     "metadata": {},
     "output_type": "execute_result"
    },
    {
     "name": "stdout",
     "output_type": "stream",
     "text": [
      "train RMSE,MAE: 0.698 0.529\n",
      "test RMSE,MAE: 0.860 0.648 \n",
      "\n",
      "\n",
      "nfactor, lr, reg: 58 0.005 0.08 \n",
      "\n"
     ]
    },
    {
     "data": {
      "text/plain": [
       "<surprise.prediction_algorithms.matrix_factorization.SVD at 0x7f7122ce42e0>"
      ]
     },
     "execution_count": 39,
     "metadata": {},
     "output_type": "execute_result"
    },
    {
     "name": "stdout",
     "output_type": "stream",
     "text": [
      "train RMSE,MAE: 0.725 0.550\n",
      "test RMSE,MAE: 0.861 0.650 \n",
      "\n",
      "\n",
      "nfactor, lr, reg: 58 0.005 0.1 \n",
      "\n"
     ]
    },
    {
     "data": {
      "text/plain": [
       "<surprise.prediction_algorithms.matrix_factorization.SVD at 0x7f7122ce41f0>"
      ]
     },
     "execution_count": 39,
     "metadata": {},
     "output_type": "execute_result"
    },
    {
     "name": "stdout",
     "output_type": "stream",
     "text": [
      "train RMSE,MAE: 0.734 0.558\n",
      "test RMSE,MAE: 0.861 0.652 \n",
      "\n",
      "\n",
      "nfactor, lr, reg: 58 0.005 0.2 \n",
      "\n"
     ]
    },
    {
     "data": {
      "text/plain": [
       "<surprise.prediction_algorithms.matrix_factorization.SVD at 0x7f7122ce4040>"
      ]
     },
     "execution_count": 39,
     "metadata": {},
     "output_type": "execute_result"
    },
    {
     "name": "stdout",
     "output_type": "stream",
     "text": [
      "train RMSE,MAE: 0.763 0.583\n",
      "test RMSE,MAE: 0.863 0.658 \n",
      "\n",
      "\n",
      "nfactor, lr, reg: 58 0.005 0.4 \n",
      "\n"
     ]
    },
    {
     "data": {
      "text/plain": [
       "<surprise.prediction_algorithms.matrix_factorization.SVD at 0x7f7122ce4790>"
      ]
     },
     "execution_count": 39,
     "metadata": {},
     "output_type": "execute_result"
    },
    {
     "name": "stdout",
     "output_type": "stream",
     "text": [
      "train RMSE,MAE: 0.790 0.609\n",
      "test RMSE,MAE: 0.869 0.669 \n",
      "\n",
      "\n",
      "nfactor, lr, reg: 58 0.005 0.8 \n",
      "\n"
     ]
    },
    {
     "data": {
      "text/plain": [
       "<surprise.prediction_algorithms.matrix_factorization.SVD at 0x7f7122ce4a30>"
      ]
     },
     "execution_count": 39,
     "metadata": {},
     "output_type": "execute_result"
    },
    {
     "name": "stdout",
     "output_type": "stream",
     "text": [
      "train RMSE,MAE: 0.818 0.636\n",
      "test RMSE,MAE: 0.882 0.685 \n",
      "\n",
      "\n",
      "nfactor, lr, reg: 58 0.005 1 \n",
      "\n"
     ]
    },
    {
     "data": {
      "text/plain": [
       "<surprise.prediction_algorithms.matrix_factorization.SVD at 0x7f7122ce4e80>"
      ]
     },
     "execution_count": 39,
     "metadata": {},
     "output_type": "execute_result"
    },
    {
     "name": "stdout",
     "output_type": "stream",
     "text": [
      "train RMSE,MAE: 0.827 0.646\n",
      "test RMSE,MAE: 0.888 0.692 \n",
      "\n",
      "\n",
      "nfactor, lr, reg: 58 0.005 2 \n",
      "\n"
     ]
    },
    {
     "data": {
      "text/plain": [
       "<surprise.prediction_algorithms.matrix_factorization.SVD at 0x7f7122ce47f0>"
      ]
     },
     "execution_count": 39,
     "metadata": {},
     "output_type": "execute_result"
    },
    {
     "name": "stdout",
     "output_type": "stream",
     "text": [
      "train RMSE,MAE: 0.862 0.677\n",
      "test RMSE,MAE: 0.911 0.714 \n",
      "\n",
      "\n",
      "nfactor, lr, reg: 58 0.005 4 \n",
      "\n"
     ]
    },
    {
     "data": {
      "text/plain": [
       "<surprise.prediction_algorithms.matrix_factorization.SVD at 0x7f7122ce4cd0>"
      ]
     },
     "execution_count": 39,
     "metadata": {},
     "output_type": "execute_result"
    },
    {
     "name": "stdout",
     "output_type": "stream",
     "text": [
      "train RMSE,MAE: 0.899 0.710\n",
      "test RMSE,MAE: 0.935 0.736 \n",
      "\n",
      "\n",
      "nfactor, lr, reg: 58 0.005 10 \n",
      "\n"
     ]
    },
    {
     "data": {
      "text/plain": [
       "<surprise.prediction_algorithms.matrix_factorization.SVD at 0x7f7122ce4190>"
      ]
     },
     "execution_count": 39,
     "metadata": {},
     "output_type": "execute_result"
    },
    {
     "name": "stdout",
     "output_type": "stream",
     "text": [
      "train RMSE,MAE: 0.941 0.748\n",
      "test RMSE,MAE: 0.960 0.761 \n",
      "\n",
      "\n",
      "nfactor, lr, reg: 58 0.006 0.01 \n",
      "\n"
     ]
    },
    {
     "data": {
      "text/plain": [
       "<surprise.prediction_algorithms.matrix_factorization.SVD at 0x7f7122ce4790>"
      ]
     },
     "execution_count": 39,
     "metadata": {},
     "output_type": "execute_result"
    },
    {
     "name": "stdout",
     "output_type": "stream",
     "text": [
      "train RMSE,MAE: 0.619 0.467\n",
      "test RMSE,MAE: 0.861 0.645 \n",
      "\n",
      "\n",
      "nfactor, lr, reg: 58 0.006 0.02 \n",
      "\n"
     ]
    },
    {
     "data": {
      "text/plain": [
       "<surprise.prediction_algorithms.matrix_factorization.SVD at 0x7f7122ce4e50>"
      ]
     },
     "execution_count": 39,
     "metadata": {},
     "output_type": "execute_result"
    },
    {
     "name": "stdout",
     "output_type": "stream",
     "text": [
      "train RMSE,MAE: 0.634 0.480\n",
      "test RMSE,MAE: 0.859 0.643 \n",
      "\n",
      "\n",
      "nfactor, lr, reg: 58 0.006 0.04 \n",
      "\n"
     ]
    },
    {
     "data": {
      "text/plain": [
       "<surprise.prediction_algorithms.matrix_factorization.SVD at 0x7f7122ce4040>"
      ]
     },
     "execution_count": 39,
     "metadata": {},
     "output_type": "execute_result"
    },
    {
     "name": "stdout",
     "output_type": "stream",
     "text": [
      "train RMSE,MAE: 0.663 0.503\n",
      "test RMSE,MAE: 0.860 0.647 \n",
      "\n",
      "\n",
      "nfactor, lr, reg: 58 0.006 0.08 \n",
      "\n"
     ]
    },
    {
     "data": {
      "text/plain": [
       "<surprise.prediction_algorithms.matrix_factorization.SVD at 0x7f7122ce46a0>"
      ]
     },
     "execution_count": 39,
     "metadata": {},
     "output_type": "execute_result"
    },
    {
     "name": "stdout",
     "output_type": "stream",
     "text": [
      "train RMSE,MAE: 0.700 0.532\n",
      "test RMSE,MAE: 0.857 0.648 \n",
      "\n",
      "\n",
      "nfactor, lr, reg: 58 0.006 0.1 \n",
      "\n"
     ]
    },
    {
     "data": {
      "text/plain": [
       "<surprise.prediction_algorithms.matrix_factorization.SVD at 0x7f7122ce45b0>"
      ]
     },
     "execution_count": 39,
     "metadata": {},
     "output_type": "execute_result"
    },
    {
     "name": "stdout",
     "output_type": "stream",
     "text": [
      "train RMSE,MAE: 0.714 0.543\n",
      "test RMSE,MAE: 0.859 0.649 \n",
      "\n",
      "\n",
      "nfactor, lr, reg: 58 0.006 0.2 \n",
      "\n"
     ]
    },
    {
     "data": {
      "text/plain": [
       "<surprise.prediction_algorithms.matrix_factorization.SVD at 0x7f7122ce4190>"
      ]
     },
     "execution_count": 39,
     "metadata": {},
     "output_type": "execute_result"
    },
    {
     "name": "stdout",
     "output_type": "stream",
     "text": [
      "train RMSE,MAE: 0.750 0.573\n",
      "test RMSE,MAE: 0.860 0.655 \n",
      "\n",
      "\n",
      "nfactor, lr, reg: 58 0.006 0.4 \n",
      "\n"
     ]
    },
    {
     "data": {
      "text/plain": [
       "<surprise.prediction_algorithms.matrix_factorization.SVD at 0x7f7122ce4f70>"
      ]
     },
     "execution_count": 39,
     "metadata": {},
     "output_type": "execute_result"
    },
    {
     "name": "stdout",
     "output_type": "stream",
     "text": [
      "train RMSE,MAE: 0.781 0.602\n",
      "test RMSE,MAE: 0.867 0.667 \n",
      "\n",
      "\n",
      "nfactor, lr, reg: 58 0.006 0.8 \n",
      "\n"
     ]
    },
    {
     "data": {
      "text/plain": [
       "<surprise.prediction_algorithms.matrix_factorization.SVD at 0x7f7122ce4df0>"
      ]
     },
     "execution_count": 39,
     "metadata": {},
     "output_type": "execute_result"
    },
    {
     "name": "stdout",
     "output_type": "stream",
     "text": [
      "train RMSE,MAE: 0.811 0.631\n",
      "test RMSE,MAE: 0.881 0.684 \n",
      "\n",
      "\n",
      "nfactor, lr, reg: 58 0.006 1 \n",
      "\n"
     ]
    },
    {
     "data": {
      "text/plain": [
       "<surprise.prediction_algorithms.matrix_factorization.SVD at 0x7f7122ce47f0>"
      ]
     },
     "execution_count": 39,
     "metadata": {},
     "output_type": "execute_result"
    },
    {
     "name": "stdout",
     "output_type": "stream",
     "text": [
      "train RMSE,MAE: 0.821 0.641\n",
      "test RMSE,MAE: 0.887 0.690 \n",
      "\n",
      "\n",
      "nfactor, lr, reg: 58 0.006 2 \n",
      "\n"
     ]
    },
    {
     "data": {
      "text/plain": [
       "<surprise.prediction_algorithms.matrix_factorization.SVD at 0x7f7122ce46d0>"
      ]
     },
     "execution_count": 39,
     "metadata": {},
     "output_type": "execute_result"
    },
    {
     "name": "stdout",
     "output_type": "stream",
     "text": [
      "train RMSE,MAE: 0.858 0.674\n",
      "test RMSE,MAE: 0.910 0.713 \n",
      "\n",
      "\n",
      "nfactor, lr, reg: 58 0.006 4 \n",
      "\n"
     ]
    },
    {
     "data": {
      "text/plain": [
       "<surprise.prediction_algorithms.matrix_factorization.SVD at 0x7f7122ce45b0>"
      ]
     },
     "execution_count": 39,
     "metadata": {},
     "output_type": "execute_result"
    },
    {
     "name": "stdout",
     "output_type": "stream",
     "text": [
      "train RMSE,MAE: 0.897 0.709\n",
      "test RMSE,MAE: 0.934 0.736 \n",
      "\n",
      "\n",
      "nfactor, lr, reg: 58 0.006 10 \n",
      "\n"
     ]
    },
    {
     "data": {
      "text/plain": [
       "<surprise.prediction_algorithms.matrix_factorization.SVD at 0x7f7122ce4040>"
      ]
     },
     "execution_count": 39,
     "metadata": {},
     "output_type": "execute_result"
    },
    {
     "name": "stdout",
     "output_type": "stream",
     "text": [
      "train RMSE,MAE: 0.941 0.748\n",
      "test RMSE,MAE: 0.960 0.761 \n",
      "\n",
      "\n",
      "nfactor, lr, reg: 58 0.007 0.01 \n",
      "\n"
     ]
    },
    {
     "data": {
      "text/plain": [
       "<surprise.prediction_algorithms.matrix_factorization.SVD at 0x7f7122ce46a0>"
      ]
     },
     "execution_count": 39,
     "metadata": {},
     "output_type": "execute_result"
    },
    {
     "name": "stdout",
     "output_type": "stream",
     "text": [
      "train RMSE,MAE: 0.568 0.428\n",
      "test RMSE,MAE: 0.865 0.646 \n",
      "\n",
      "\n",
      "nfactor, lr, reg: 58 0.007 0.02 \n",
      "\n"
     ]
    },
    {
     "data": {
      "text/plain": [
       "<surprise.prediction_algorithms.matrix_factorization.SVD at 0x7f7122ce4790>"
      ]
     },
     "execution_count": 39,
     "metadata": {},
     "output_type": "execute_result"
    },
    {
     "name": "stdout",
     "output_type": "stream",
     "text": [
      "train RMSE,MAE: 0.592 0.448\n",
      "test RMSE,MAE: 0.859 0.642 \n",
      "\n",
      "\n",
      "nfactor, lr, reg: 58 0.007 0.04 \n",
      "\n"
     ]
    },
    {
     "data": {
      "text/plain": [
       "<surprise.prediction_algorithms.matrix_factorization.SVD at 0x7f7122ce42e0>"
      ]
     },
     "execution_count": 39,
     "metadata": {},
     "output_type": "execute_result"
    },
    {
     "name": "stdout",
     "output_type": "stream",
     "text": [
      "train RMSE,MAE: 0.627 0.476\n",
      "test RMSE,MAE: 0.857 0.643 \n",
      "\n",
      "\n",
      "nfactor, lr, reg: 58 0.007 0.08 \n",
      "\n"
     ]
    },
    {
     "data": {
      "text/plain": [
       "<surprise.prediction_algorithms.matrix_factorization.SVD at 0x7f7122ce46d0>"
      ]
     },
     "execution_count": 39,
     "metadata": {},
     "output_type": "execute_result"
    },
    {
     "name": "stdout",
     "output_type": "stream",
     "text": [
      "train RMSE,MAE: 0.677 0.515\n",
      "test RMSE,MAE: 0.857 0.646 \n",
      "\n",
      "\n",
      "nfactor, lr, reg: 58 0.007 0.1 \n",
      "\n"
     ]
    },
    {
     "data": {
      "text/plain": [
       "<surprise.prediction_algorithms.matrix_factorization.SVD at 0x7f7122ce4df0>"
      ]
     },
     "execution_count": 39,
     "metadata": {},
     "output_type": "execute_result"
    },
    {
     "name": "stdout",
     "output_type": "stream",
     "text": [
      "train RMSE,MAE: 0.694 0.528\n",
      "test RMSE,MAE: 0.857 0.647 \n",
      "\n",
      "\n",
      "nfactor, lr, reg: 58 0.007 0.2 \n",
      "\n"
     ]
    },
    {
     "data": {
      "text/plain": [
       "<surprise.prediction_algorithms.matrix_factorization.SVD at 0x7f7122ce47f0>"
      ]
     },
     "execution_count": 39,
     "metadata": {},
     "output_type": "execute_result"
    },
    {
     "name": "stdout",
     "output_type": "stream",
     "text": [
      "train RMSE,MAE: 0.739 0.564\n",
      "test RMSE,MAE: 0.859 0.653 \n",
      "\n",
      "\n",
      "nfactor, lr, reg: 58 0.007 0.4 \n",
      "\n"
     ]
    },
    {
     "data": {
      "text/plain": [
       "<surprise.prediction_algorithms.matrix_factorization.SVD at 0x7f7122ce4190>"
      ]
     },
     "execution_count": 39,
     "metadata": {},
     "output_type": "execute_result"
    },
    {
     "name": "stdout",
     "output_type": "stream",
     "text": [
      "train RMSE,MAE: 0.774 0.596\n",
      "test RMSE,MAE: 0.866 0.665 \n",
      "\n",
      "\n",
      "nfactor, lr, reg: 58 0.007 0.8 \n",
      "\n"
     ]
    },
    {
     "data": {
      "text/plain": [
       "<surprise.prediction_algorithms.matrix_factorization.SVD at 0x7f7122ce4e80>"
      ]
     },
     "execution_count": 39,
     "metadata": {},
     "output_type": "execute_result"
    },
    {
     "name": "stdout",
     "output_type": "stream",
     "text": [
      "train RMSE,MAE: 0.805 0.626\n",
      "test RMSE,MAE: 0.880 0.683 \n",
      "\n",
      "\n",
      "nfactor, lr, reg: 58 0.007 1 \n",
      "\n"
     ]
    },
    {
     "data": {
      "text/plain": [
       "<surprise.prediction_algorithms.matrix_factorization.SVD at 0x7f7122ce42e0>"
      ]
     },
     "execution_count": 39,
     "metadata": {},
     "output_type": "execute_result"
    },
    {
     "name": "stdout",
     "output_type": "stream",
     "text": [
      "train RMSE,MAE: 0.816 0.636\n",
      "test RMSE,MAE: 0.886 0.690 \n",
      "\n",
      "\n",
      "nfactor, lr, reg: 58 0.007 2 \n",
      "\n"
     ]
    },
    {
     "data": {
      "text/plain": [
       "<surprise.prediction_algorithms.matrix_factorization.SVD at 0x7f7122ce46a0>"
      ]
     },
     "execution_count": 39,
     "metadata": {},
     "output_type": "execute_result"
    },
    {
     "name": "stdout",
     "output_type": "stream",
     "text": [
      "train RMSE,MAE: 0.854 0.671\n",
      "test RMSE,MAE: 0.909 0.712 \n",
      "\n",
      "\n",
      "nfactor, lr, reg: 58 0.007 4 \n",
      "\n"
     ]
    },
    {
     "data": {
      "text/plain": [
       "<surprise.prediction_algorithms.matrix_factorization.SVD at 0x7f7122ce4790>"
      ]
     },
     "execution_count": 39,
     "metadata": {},
     "output_type": "execute_result"
    },
    {
     "name": "stdout",
     "output_type": "stream",
     "text": [
      "train RMSE,MAE: 0.896 0.707\n",
      "test RMSE,MAE: 0.934 0.736 \n",
      "\n",
      "\n",
      "nfactor, lr, reg: 58 0.007 10 \n",
      "\n"
     ]
    },
    {
     "data": {
      "text/plain": [
       "<surprise.prediction_algorithms.matrix_factorization.SVD at 0x7f7122ce45b0>"
      ]
     },
     "execution_count": 39,
     "metadata": {},
     "output_type": "execute_result"
    },
    {
     "name": "stdout",
     "output_type": "stream",
     "text": [
      "train RMSE,MAE: 0.941 0.748\n",
      "test RMSE,MAE: 0.960 0.761 \n",
      "\n",
      "\n",
      "nfactor, lr, reg: 58 0.008 0.01 \n",
      "\n"
     ]
    },
    {
     "data": {
      "text/plain": [
       "<surprise.prediction_algorithms.matrix_factorization.SVD at 0x7f7122ce4e50>"
      ]
     },
     "execution_count": 39,
     "metadata": {},
     "output_type": "execute_result"
    },
    {
     "name": "stdout",
     "output_type": "stream",
     "text": [
      "train RMSE,MAE: 0.517 0.387\n",
      "test RMSE,MAE: 0.863 0.644 \n",
      "\n",
      "\n",
      "nfactor, lr, reg: 58 0.008 0.02 \n",
      "\n"
     ]
    },
    {
     "data": {
      "text/plain": [
       "<surprise.prediction_algorithms.matrix_factorization.SVD at 0x7f7122ce4e80>"
      ]
     },
     "execution_count": 39,
     "metadata": {},
     "output_type": "execute_result"
    },
    {
     "name": "stdout",
     "output_type": "stream",
     "text": [
      "train RMSE,MAE: 0.547 0.413\n",
      "test RMSE,MAE: 0.859 0.641 \n",
      "\n",
      "\n",
      "nfactor, lr, reg: 58 0.008 0.04 \n",
      "\n"
     ]
    },
    {
     "data": {
      "text/plain": [
       "<surprise.prediction_algorithms.matrix_factorization.SVD at 0x7f7122ce47f0>"
      ]
     },
     "execution_count": 39,
     "metadata": {},
     "output_type": "execute_result"
    },
    {
     "name": "stdout",
     "output_type": "stream",
     "text": [
      "train RMSE,MAE: 0.592 0.450\n",
      "test RMSE,MAE: 0.856 0.640 \n",
      "\n",
      "\n",
      "nfactor, lr, reg: 58 0.008 0.08 \n",
      "\n"
     ]
    },
    {
     "data": {
      "text/plain": [
       "<surprise.prediction_algorithms.matrix_factorization.SVD at 0x7f7122ce4cd0>"
      ]
     },
     "execution_count": 39,
     "metadata": {},
     "output_type": "execute_result"
    },
    {
     "name": "stdout",
     "output_type": "stream",
     "text": [
      "train RMSE,MAE: 0.653 0.497\n",
      "test RMSE,MAE: 0.856 0.644 \n",
      "\n",
      "\n",
      "nfactor, lr, reg: 58 0.008 0.1 \n",
      "\n"
     ]
    },
    {
     "data": {
      "text/plain": [
       "<surprise.prediction_algorithms.matrix_factorization.SVD at 0x7f7122ce4a30>"
      ]
     },
     "execution_count": 39,
     "metadata": {},
     "output_type": "execute_result"
    },
    {
     "name": "stdout",
     "output_type": "stream",
     "text": [
      "train RMSE,MAE: 0.674 0.513\n",
      "test RMSE,MAE: 0.856 0.645 \n",
      "\n",
      "\n",
      "nfactor, lr, reg: 58 0.008 0.2 \n",
      "\n"
     ]
    },
    {
     "data": {
      "text/plain": [
       "<surprise.prediction_algorithms.matrix_factorization.SVD at 0x7f7122ce4f70>"
      ]
     },
     "execution_count": 39,
     "metadata": {},
     "output_type": "execute_result"
    },
    {
     "name": "stdout",
     "output_type": "stream",
     "text": [
      "train RMSE,MAE: 0.729 0.556\n",
      "test RMSE,MAE: 0.859 0.652 \n",
      "\n",
      "\n",
      "nfactor, lr, reg: 58 0.008 0.4 \n",
      "\n"
     ]
    },
    {
     "data": {
      "text/plain": [
       "<surprise.prediction_algorithms.matrix_factorization.SVD at 0x7f7122ce4e50>"
      ]
     },
     "execution_count": 39,
     "metadata": {},
     "output_type": "execute_result"
    },
    {
     "name": "stdout",
     "output_type": "stream",
     "text": [
      "train RMSE,MAE: 0.768 0.591\n",
      "test RMSE,MAE: 0.866 0.665 \n",
      "\n",
      "\n",
      "nfactor, lr, reg: 58 0.008 0.8 \n",
      "\n"
     ]
    },
    {
     "data": {
      "text/plain": [
       "<surprise.prediction_algorithms.matrix_factorization.SVD at 0x7f7122ce4190>"
      ]
     },
     "execution_count": 39,
     "metadata": {},
     "output_type": "execute_result"
    },
    {
     "name": "stdout",
     "output_type": "stream",
     "text": [
      "train RMSE,MAE: 0.800 0.622\n",
      "test RMSE,MAE: 0.880 0.682 \n",
      "\n",
      "\n",
      "nfactor, lr, reg: 58 0.008 1 \n",
      "\n"
     ]
    },
    {
     "data": {
      "text/plain": [
       "<surprise.prediction_algorithms.matrix_factorization.SVD at 0x7f7122ce4040>"
      ]
     },
     "execution_count": 39,
     "metadata": {},
     "output_type": "execute_result"
    },
    {
     "name": "stdout",
     "output_type": "stream",
     "text": [
      "train RMSE,MAE: 0.812 0.633\n",
      "test RMSE,MAE: 0.886 0.689 \n",
      "\n",
      "\n",
      "nfactor, lr, reg: 58 0.008 2 \n",
      "\n"
     ]
    },
    {
     "data": {
      "text/plain": [
       "<surprise.prediction_algorithms.matrix_factorization.SVD at 0x7f7122ce4790>"
      ]
     },
     "execution_count": 39,
     "metadata": {},
     "output_type": "execute_result"
    },
    {
     "name": "stdout",
     "output_type": "stream",
     "text": [
      "train RMSE,MAE: 0.852 0.669\n",
      "test RMSE,MAE: 0.909 0.712 \n",
      "\n",
      "\n",
      "nfactor, lr, reg: 58 0.008 4 \n",
      "\n"
     ]
    },
    {
     "data": {
      "text/plain": [
       "<surprise.prediction_algorithms.matrix_factorization.SVD at 0x7f7122ce42e0>"
      ]
     },
     "execution_count": 39,
     "metadata": {},
     "output_type": "execute_result"
    },
    {
     "name": "stdout",
     "output_type": "stream",
     "text": [
      "train RMSE,MAE: 0.895 0.706\n",
      "test RMSE,MAE: 0.934 0.735 \n",
      "\n",
      "\n",
      "nfactor, lr, reg: 58 0.008 10 \n",
      "\n"
     ]
    },
    {
     "data": {
      "text/plain": [
       "<surprise.prediction_algorithms.matrix_factorization.SVD at 0x7f7122ce4f70>"
      ]
     },
     "execution_count": 39,
     "metadata": {},
     "output_type": "execute_result"
    },
    {
     "name": "stdout",
     "output_type": "stream",
     "text": [
      "train RMSE,MAE: 0.941 0.748\n",
      "test RMSE,MAE: 0.960 0.761 \n",
      "\n",
      "\n",
      "nfactor, lr, reg: 58 0.009000000000000001 0.01 \n",
      "\n"
     ]
    },
    {
     "data": {
      "text/plain": [
       "<surprise.prediction_algorithms.matrix_factorization.SVD at 0x7f7122ce4cd0>"
      ]
     },
     "execution_count": 39,
     "metadata": {},
     "output_type": "execute_result"
    },
    {
     "name": "stdout",
     "output_type": "stream",
     "text": [
      "train RMSE,MAE: 0.469 0.350\n",
      "test RMSE,MAE: 0.864 0.643 \n",
      "\n",
      "\n",
      "nfactor, lr, reg: 58 0.009000000000000001 0.02 \n",
      "\n"
     ]
    },
    {
     "data": {
      "text/plain": [
       "<surprise.prediction_algorithms.matrix_factorization.SVD at 0x7f7122ce4a30>"
      ]
     },
     "execution_count": 39,
     "metadata": {},
     "output_type": "execute_result"
    },
    {
     "name": "stdout",
     "output_type": "stream",
     "text": [
      "train RMSE,MAE: 0.504 0.380\n",
      "test RMSE,MAE: 0.860 0.641 \n",
      "\n",
      "\n",
      "nfactor, lr, reg: 58 0.009000000000000001 0.04 \n",
      "\n"
     ]
    },
    {
     "data": {
      "text/plain": [
       "<surprise.prediction_algorithms.matrix_factorization.SVD at 0x7f7122ce4e80>"
      ]
     },
     "execution_count": 39,
     "metadata": {},
     "output_type": "execute_result"
    },
    {
     "name": "stdout",
     "output_type": "stream",
     "text": [
      "train RMSE,MAE: 0.558 0.424\n",
      "test RMSE,MAE: 0.858 0.642 \n",
      "\n",
      "\n",
      "nfactor, lr, reg: 58 0.009000000000000001 0.08 \n",
      "\n"
     ]
    },
    {
     "data": {
      "text/plain": [
       "<surprise.prediction_algorithms.matrix_factorization.SVD at 0x7f7122ce4df0>"
      ]
     },
     "execution_count": 39,
     "metadata": {},
     "output_type": "execute_result"
    },
    {
     "name": "stdout",
     "output_type": "stream",
     "text": [
      "train RMSE,MAE: 0.629 0.479\n",
      "test RMSE,MAE: 0.855 0.642 \n",
      "\n",
      "\n",
      "nfactor, lr, reg: 58 0.009000000000000001 0.1 \n",
      "\n"
     ]
    },
    {
     "data": {
      "text/plain": [
       "<surprise.prediction_algorithms.matrix_factorization.SVD at 0x7f7122ce42e0>"
      ]
     },
     "execution_count": 39,
     "metadata": {},
     "output_type": "execute_result"
    },
    {
     "name": "stdout",
     "output_type": "stream",
     "text": [
      "train RMSE,MAE: 0.655 0.498\n",
      "test RMSE,MAE: 0.856 0.645 \n",
      "\n",
      "\n",
      "nfactor, lr, reg: 58 0.009000000000000001 0.2 \n",
      "\n"
     ]
    },
    {
     "data": {
      "text/plain": [
       "<surprise.prediction_algorithms.matrix_factorization.SVD at 0x7f7122ce4040>"
      ]
     },
     "execution_count": 39,
     "metadata": {},
     "output_type": "execute_result"
    },
    {
     "name": "stdout",
     "output_type": "stream",
     "text": [
      "train RMSE,MAE: 0.719 0.549\n",
      "test RMSE,MAE: 0.858 0.651 \n",
      "\n",
      "\n",
      "nfactor, lr, reg: 58 0.009000000000000001 0.4 \n",
      "\n"
     ]
    },
    {
     "data": {
      "text/plain": [
       "<surprise.prediction_algorithms.matrix_factorization.SVD at 0x7f7122ce46a0>"
      ]
     },
     "execution_count": 39,
     "metadata": {},
     "output_type": "execute_result"
    },
    {
     "name": "stdout",
     "output_type": "stream",
     "text": [
      "train RMSE,MAE: 0.763 0.586\n",
      "test RMSE,MAE: 0.866 0.664 \n",
      "\n",
      "\n",
      "nfactor, lr, reg: 58 0.009000000000000001 0.8 \n",
      "\n"
     ]
    },
    {
     "data": {
      "text/plain": [
       "<surprise.prediction_algorithms.matrix_factorization.SVD at 0x7f7122ce4e50>"
      ]
     },
     "execution_count": 39,
     "metadata": {},
     "output_type": "execute_result"
    },
    {
     "name": "stdout",
     "output_type": "stream",
     "text": [
      "train RMSE,MAE: 0.796 0.619\n",
      "test RMSE,MAE: 0.879 0.682 \n",
      "\n",
      "\n",
      "nfactor, lr, reg: 58 0.009000000000000001 1 \n",
      "\n"
     ]
    },
    {
     "data": {
      "text/plain": [
       "<surprise.prediction_algorithms.matrix_factorization.SVD at 0x7f7122ce46d0>"
      ]
     },
     "execution_count": 39,
     "metadata": {},
     "output_type": "execute_result"
    },
    {
     "name": "stdout",
     "output_type": "stream",
     "text": [
      "train RMSE,MAE: 0.808 0.630\n",
      "test RMSE,MAE: 0.885 0.689 \n",
      "\n",
      "\n",
      "nfactor, lr, reg: 58 0.009000000000000001 2 \n",
      "\n"
     ]
    },
    {
     "data": {
      "text/plain": [
       "<surprise.prediction_algorithms.matrix_factorization.SVD at 0x7f7122ce4df0>"
      ]
     },
     "execution_count": 39,
     "metadata": {},
     "output_type": "execute_result"
    },
    {
     "name": "stdout",
     "output_type": "stream",
     "text": [
      "train RMSE,MAE: 0.849 0.667\n",
      "test RMSE,MAE: 0.909 0.712 \n",
      "\n",
      "\n",
      "nfactor, lr, reg: 58 0.009000000000000001 4 \n",
      "\n"
     ]
    },
    {
     "data": {
      "text/plain": [
       "<surprise.prediction_algorithms.matrix_factorization.SVD at 0x7f7122ce4a30>"
      ]
     },
     "execution_count": 39,
     "metadata": {},
     "output_type": "execute_result"
    },
    {
     "name": "stdout",
     "output_type": "stream",
     "text": [
      "train RMSE,MAE: 0.894 0.706\n",
      "test RMSE,MAE: 0.934 0.735 \n",
      "\n",
      "\n",
      "nfactor, lr, reg: 58 0.009000000000000001 10 \n",
      "\n"
     ]
    },
    {
     "data": {
      "text/plain": [
       "<surprise.prediction_algorithms.matrix_factorization.SVD at 0x7f7122ce4e80>"
      ]
     },
     "execution_count": 39,
     "metadata": {},
     "output_type": "execute_result"
    },
    {
     "name": "stdout",
     "output_type": "stream",
     "text": [
      "train RMSE,MAE: 0.941 0.748\n",
      "test RMSE,MAE: 0.961 0.761 \n",
      "\n",
      "\n",
      "nfactor, lr, reg: 66 0.001 0.01 \n",
      "\n"
     ]
    },
    {
     "data": {
      "text/plain": [
       "<surprise.prediction_algorithms.matrix_factorization.SVD at 0x7f7122ce4f70>"
      ]
     },
     "execution_count": 39,
     "metadata": {},
     "output_type": "execute_result"
    },
    {
     "name": "stdout",
     "output_type": "stream",
     "text": [
      "train RMSE,MAE: 0.840 0.641\n",
      "test RMSE,MAE: 0.887 0.677 \n",
      "\n",
      "\n",
      "nfactor, lr, reg: 66 0.001 0.02 \n",
      "\n"
     ]
    },
    {
     "data": {
      "text/plain": [
       "<surprise.prediction_algorithms.matrix_factorization.SVD at 0x7f7122ce47f0>"
      ]
     },
     "execution_count": 39,
     "metadata": {},
     "output_type": "execute_result"
    },
    {
     "name": "stdout",
     "output_type": "stream",
     "text": [
      "train RMSE,MAE: 0.840 0.642\n",
      "test RMSE,MAE: 0.887 0.678 \n",
      "\n",
      "\n",
      "nfactor, lr, reg: 66 0.001 0.04 \n",
      "\n"
     ]
    },
    {
     "data": {
      "text/plain": [
       "<surprise.prediction_algorithms.matrix_factorization.SVD at 0x7f7122ce46d0>"
      ]
     },
     "execution_count": 39,
     "metadata": {},
     "output_type": "execute_result"
    },
    {
     "name": "stdout",
     "output_type": "stream",
     "text": [
      "train RMSE,MAE: 0.841 0.644\n",
      "test RMSE,MAE: 0.887 0.679 \n",
      "\n",
      "\n",
      "nfactor, lr, reg: 66 0.001 0.08 \n",
      "\n"
     ]
    },
    {
     "data": {
      "text/plain": [
       "<surprise.prediction_algorithms.matrix_factorization.SVD at 0x7f7122ce46a0>"
      ]
     },
     "execution_count": 39,
     "metadata": {},
     "output_type": "execute_result"
    },
    {
     "name": "stdout",
     "output_type": "stream",
     "text": [
      "train RMSE,MAE: 0.844 0.647\n",
      "test RMSE,MAE: 0.887 0.680 \n",
      "\n",
      "\n",
      "nfactor, lr, reg: 66 0.001 0.1 \n",
      "\n"
     ]
    },
    {
     "data": {
      "text/plain": [
       "<surprise.prediction_algorithms.matrix_factorization.SVD at 0x7f7122ce4e50>"
      ]
     },
     "execution_count": 39,
     "metadata": {},
     "output_type": "execute_result"
    },
    {
     "name": "stdout",
     "output_type": "stream",
     "text": [
      "train RMSE,MAE: 0.845 0.648\n",
      "test RMSE,MAE: 0.887 0.680 \n",
      "\n",
      "\n",
      "nfactor, lr, reg: 66 0.001 0.2 \n",
      "\n"
     ]
    },
    {
     "data": {
      "text/plain": [
       "<surprise.prediction_algorithms.matrix_factorization.SVD at 0x7f7122ce42e0>"
      ]
     },
     "execution_count": 39,
     "metadata": {},
     "output_type": "execute_result"
    },
    {
     "name": "stdout",
     "output_type": "stream",
     "text": [
      "train RMSE,MAE: 0.849 0.655\n",
      "test RMSE,MAE: 0.888 0.684 \n",
      "\n",
      "\n",
      "nfactor, lr, reg: 66 0.001 0.4 \n",
      "\n"
     ]
    },
    {
     "data": {
      "text/plain": [
       "<surprise.prediction_algorithms.matrix_factorization.SVD at 0x7f7122ce4190>"
      ]
     },
     "execution_count": 39,
     "metadata": {},
     "output_type": "execute_result"
    },
    {
     "name": "stdout",
     "output_type": "stream",
     "text": [
      "train RMSE,MAE: 0.859 0.666\n",
      "test RMSE,MAE: 0.892 0.691 \n",
      "\n",
      "\n",
      "nfactor, lr, reg: 66 0.001 0.8 \n",
      "\n"
     ]
    },
    {
     "data": {
      "text/plain": [
       "<surprise.prediction_algorithms.matrix_factorization.SVD at 0x7f7122ce47f0>"
      ]
     },
     "execution_count": 39,
     "metadata": {},
     "output_type": "execute_result"
    },
    {
     "name": "stdout",
     "output_type": "stream",
     "text": [
      "train RMSE,MAE: 0.873 0.682\n",
      "test RMSE,MAE: 0.902 0.703 \n",
      "\n",
      "\n",
      "nfactor, lr, reg: 66 0.001 1 \n",
      "\n"
     ]
    },
    {
     "data": {
      "text/plain": [
       "<surprise.prediction_algorithms.matrix_factorization.SVD at 0x7f7122ce4e80>"
      ]
     },
     "execution_count": 39,
     "metadata": {},
     "output_type": "execute_result"
    },
    {
     "name": "stdout",
     "output_type": "stream",
     "text": [
      "train RMSE,MAE: 0.879 0.688\n",
      "test RMSE,MAE: 0.906 0.708 \n",
      "\n",
      "\n",
      "nfactor, lr, reg: 66 0.001 2 \n",
      "\n"
     ]
    },
    {
     "data": {
      "text/plain": [
       "<surprise.prediction_algorithms.matrix_factorization.SVD at 0x7f7122ce4f70>"
      ]
     },
     "execution_count": 39,
     "metadata": {},
     "output_type": "execute_result"
    },
    {
     "name": "stdout",
     "output_type": "stream",
     "text": [
      "train RMSE,MAE: 0.902 0.710\n",
      "test RMSE,MAE: 0.924 0.725 \n",
      "\n",
      "\n",
      "nfactor, lr, reg: 66 0.001 4 \n",
      "\n"
     ]
    },
    {
     "data": {
      "text/plain": [
       "<surprise.prediction_algorithms.matrix_factorization.SVD at 0x7f7122ce4df0>"
      ]
     },
     "execution_count": 39,
     "metadata": {},
     "output_type": "execute_result"
    },
    {
     "name": "stdout",
     "output_type": "stream",
     "text": [
      "train RMSE,MAE: 0.926 0.733\n",
      "test RMSE,MAE: 0.943 0.745 \n",
      "\n",
      "\n",
      "nfactor, lr, reg: 66 0.001 10 \n",
      "\n"
     ]
    },
    {
     "data": {
      "text/plain": [
       "<surprise.prediction_algorithms.matrix_factorization.SVD at 0x7f7122ce4cd0>"
      ]
     },
     "execution_count": 39,
     "metadata": {},
     "output_type": "execute_result"
    },
    {
     "name": "stdout",
     "output_type": "stream",
     "text": [
      "train RMSE,MAE: 0.951 0.757\n",
      "test RMSE,MAE: 0.964 0.765 \n",
      "\n",
      "\n",
      "nfactor, lr, reg: 66 0.002 0.01 \n",
      "\n"
     ]
    },
    {
     "data": {
      "text/plain": [
       "<surprise.prediction_algorithms.matrix_factorization.SVD at 0x7f7122ce4190>"
      ]
     },
     "execution_count": 39,
     "metadata": {},
     "output_type": "execute_result"
    },
    {
     "name": "stdout",
     "output_type": "stream",
     "text": [
      "train RMSE,MAE: 0.789 0.598\n",
      "test RMSE,MAE: 0.874 0.662 \n",
      "\n",
      "\n",
      "nfactor, lr, reg: 66 0.002 0.02 \n",
      "\n"
     ]
    },
    {
     "data": {
      "text/plain": [
       "<surprise.prediction_algorithms.matrix_factorization.SVD at 0x7f7122ce4f70>"
      ]
     },
     "execution_count": 39,
     "metadata": {},
     "output_type": "execute_result"
    },
    {
     "name": "stdout",
     "output_type": "stream",
     "text": [
      "train RMSE,MAE: 0.791 0.600\n",
      "test RMSE,MAE: 0.873 0.662 \n",
      "\n",
      "\n",
      "nfactor, lr, reg: 66 0.002 0.04 \n",
      "\n"
     ]
    },
    {
     "data": {
      "text/plain": [
       "<surprise.prediction_algorithms.matrix_factorization.SVD at 0x7f7122ce42e0>"
      ]
     },
     "execution_count": 39,
     "metadata": {},
     "output_type": "execute_result"
    },
    {
     "name": "stdout",
     "output_type": "stream",
     "text": [
      "train RMSE,MAE: 0.795 0.604\n",
      "test RMSE,MAE: 0.874 0.664 \n",
      "\n",
      "\n",
      "nfactor, lr, reg: 66 0.002 0.08 \n",
      "\n"
     ]
    },
    {
     "data": {
      "text/plain": [
       "<surprise.prediction_algorithms.matrix_factorization.SVD at 0x7f7122ce46d0>"
      ]
     },
     "execution_count": 39,
     "metadata": {},
     "output_type": "execute_result"
    },
    {
     "name": "stdout",
     "output_type": "stream",
     "text": [
      "train RMSE,MAE: 0.801 0.611\n",
      "test RMSE,MAE: 0.873 0.665 \n",
      "\n",
      "\n",
      "nfactor, lr, reg: 66 0.002 0.1 \n",
      "\n"
     ]
    },
    {
     "data": {
      "text/plain": [
       "<surprise.prediction_algorithms.matrix_factorization.SVD at 0x7f7122ce4040>"
      ]
     },
     "execution_count": 39,
     "metadata": {},
     "output_type": "execute_result"
    },
    {
     "name": "stdout",
     "output_type": "stream",
     "text": [
      "train RMSE,MAE: 0.804 0.614\n",
      "test RMSE,MAE: 0.874 0.666 \n",
      "\n",
      "\n",
      "nfactor, lr, reg: 66 0.002 0.2 \n",
      "\n"
     ]
    },
    {
     "data": {
      "text/plain": [
       "<surprise.prediction_algorithms.matrix_factorization.SVD at 0x7f7122ce4cd0>"
      ]
     },
     "execution_count": 39,
     "metadata": {},
     "output_type": "execute_result"
    },
    {
     "name": "stdout",
     "output_type": "stream",
     "text": [
      "train RMSE,MAE: 0.814 0.625\n",
      "test RMSE,MAE: 0.875 0.671 \n",
      "\n",
      "\n",
      "nfactor, lr, reg: 66 0.002 0.4 \n",
      "\n"
     ]
    },
    {
     "data": {
      "text/plain": [
       "<surprise.prediction_algorithms.matrix_factorization.SVD at 0x7f7122ce42e0>"
      ]
     },
     "execution_count": 39,
     "metadata": {},
     "output_type": "execute_result"
    },
    {
     "name": "stdout",
     "output_type": "stream",
     "text": [
      "train RMSE,MAE: 0.829 0.642\n",
      "test RMSE,MAE: 0.879 0.679 \n",
      "\n",
      "\n",
      "nfactor, lr, reg: 66 0.002 0.8 \n",
      "\n"
     ]
    },
    {
     "data": {
      "text/plain": [
       "<surprise.prediction_algorithms.matrix_factorization.SVD at 0x7f7122ce4df0>"
      ]
     },
     "execution_count": 39,
     "metadata": {},
     "output_type": "execute_result"
    },
    {
     "name": "stdout",
     "output_type": "stream",
     "text": [
      "train RMSE,MAE: 0.850 0.663\n",
      "test RMSE,MAE: 0.891 0.694 \n",
      "\n",
      "\n",
      "nfactor, lr, reg: 66 0.002 1 \n",
      "\n"
     ]
    },
    {
     "data": {
      "text/plain": [
       "<surprise.prediction_algorithms.matrix_factorization.SVD at 0x7f7122ce47f0>"
      ]
     },
     "execution_count": 39,
     "metadata": {},
     "output_type": "execute_result"
    },
    {
     "name": "stdout",
     "output_type": "stream",
     "text": [
      "train RMSE,MAE: 0.858 0.671\n",
      "test RMSE,MAE: 0.897 0.700 \n",
      "\n",
      "\n",
      "nfactor, lr, reg: 66 0.002 2 \n",
      "\n"
     ]
    },
    {
     "data": {
      "text/plain": [
       "<surprise.prediction_algorithms.matrix_factorization.SVD at 0x7f7122ce4460>"
      ]
     },
     "execution_count": 39,
     "metadata": {},
     "output_type": "execute_result"
    },
    {
     "name": "stdout",
     "output_type": "stream",
     "text": [
      "train RMSE,MAE: 0.886 0.697\n",
      "test RMSE,MAE: 0.917 0.719 \n",
      "\n",
      "\n",
      "nfactor, lr, reg: 66 0.002 4 \n",
      "\n"
     ]
    },
    {
     "data": {
      "text/plain": [
       "<surprise.prediction_algorithms.matrix_factorization.SVD at 0x7f7122ce4040>"
      ]
     },
     "execution_count": 39,
     "metadata": {},
     "output_type": "execute_result"
    },
    {
     "name": "stdout",
     "output_type": "stream",
     "text": [
      "train RMSE,MAE: 0.914 0.723\n",
      "test RMSE,MAE: 0.939 0.741 \n",
      "\n",
      "\n",
      "nfactor, lr, reg: 66 0.002 10 \n",
      "\n"
     ]
    },
    {
     "data": {
      "text/plain": [
       "<surprise.prediction_algorithms.matrix_factorization.SVD at 0x7f7122ce4e80>"
      ]
     },
     "execution_count": 39,
     "metadata": {},
     "output_type": "execute_result"
    },
    {
     "name": "stdout",
     "output_type": "stream",
     "text": [
      "train RMSE,MAE: 0.946 0.752\n",
      "test RMSE,MAE: 0.962 0.763 \n",
      "\n",
      "\n",
      "nfactor, lr, reg: 66 0.003 0.01 \n",
      "\n"
     ]
    },
    {
     "data": {
      "text/plain": [
       "<surprise.prediction_algorithms.matrix_factorization.SVD at 0x7f7122ce46d0>"
      ]
     },
     "execution_count": 39,
     "metadata": {},
     "output_type": "execute_result"
    },
    {
     "name": "stdout",
     "output_type": "stream",
     "text": [
      "train RMSE,MAE: 0.746 0.564\n",
      "test RMSE,MAE: 0.868 0.656 \n",
      "\n",
      "\n",
      "nfactor, lr, reg: 66 0.003 0.02 \n",
      "\n"
     ]
    },
    {
     "data": {
      "text/plain": [
       "<surprise.prediction_algorithms.matrix_factorization.SVD at 0x7f7122ce4790>"
      ]
     },
     "execution_count": 39,
     "metadata": {},
     "output_type": "execute_result"
    },
    {
     "name": "stdout",
     "output_type": "stream",
     "text": [
      "train RMSE,MAE: 0.749 0.566\n",
      "test RMSE,MAE: 0.867 0.655 \n",
      "\n",
      "\n",
      "nfactor, lr, reg: 66 0.003 0.04 \n",
      "\n"
     ]
    },
    {
     "data": {
      "text/plain": [
       "<surprise.prediction_algorithms.matrix_factorization.SVD at 0x7f7122ce47f0>"
      ]
     },
     "execution_count": 39,
     "metadata": {},
     "output_type": "execute_result"
    },
    {
     "name": "stdout",
     "output_type": "stream",
     "text": [
      "train RMSE,MAE: 0.758 0.575\n",
      "test RMSE,MAE: 0.867 0.656 \n",
      "\n",
      "\n",
      "nfactor, lr, reg: 66 0.003 0.08 \n",
      "\n"
     ]
    },
    {
     "data": {
      "text/plain": [
       "<surprise.prediction_algorithms.matrix_factorization.SVD at 0x7f7122ce4460>"
      ]
     },
     "execution_count": 39,
     "metadata": {},
     "output_type": "execute_result"
    },
    {
     "name": "stdout",
     "output_type": "stream",
     "text": [
      "train RMSE,MAE: 0.770 0.585\n",
      "test RMSE,MAE: 0.867 0.659 \n",
      "\n",
      "\n",
      "nfactor, lr, reg: 66 0.003 0.1 \n",
      "\n"
     ]
    },
    {
     "data": {
      "text/plain": [
       "<surprise.prediction_algorithms.matrix_factorization.SVD at 0x7f7122ce4df0>"
      ]
     },
     "execution_count": 39,
     "metadata": {},
     "output_type": "execute_result"
    },
    {
     "name": "stdout",
     "output_type": "stream",
     "text": [
      "train RMSE,MAE: 0.774 0.590\n",
      "test RMSE,MAE: 0.867 0.659 \n",
      "\n",
      "\n",
      "nfactor, lr, reg: 66 0.003 0.2 \n",
      "\n"
     ]
    },
    {
     "data": {
      "text/plain": [
       "<surprise.prediction_algorithms.matrix_factorization.SVD at 0x7f7122ce46a0>"
      ]
     },
     "execution_count": 39,
     "metadata": {},
     "output_type": "execute_result"
    },
    {
     "name": "stdout",
     "output_type": "stream",
     "text": [
      "train RMSE,MAE: 0.792 0.607\n",
      "test RMSE,MAE: 0.868 0.664 \n",
      "\n",
      "\n",
      "nfactor, lr, reg: 66 0.003 0.4 \n",
      "\n"
     ]
    },
    {
     "data": {
      "text/plain": [
       "<surprise.prediction_algorithms.matrix_factorization.SVD at 0x7f7122ce4f70>"
      ]
     },
     "execution_count": 39,
     "metadata": {},
     "output_type": "execute_result"
    },
    {
     "name": "stdout",
     "output_type": "stream",
     "text": [
      "train RMSE,MAE: 0.812 0.628\n",
      "test RMSE,MAE: 0.874 0.674 \n",
      "\n",
      "\n",
      "nfactor, lr, reg: 66 0.003 0.8 \n",
      "\n"
     ]
    },
    {
     "data": {
      "text/plain": [
       "<surprise.prediction_algorithms.matrix_factorization.SVD at 0x7f7122ce4790>"
      ]
     },
     "execution_count": 39,
     "metadata": {},
     "output_type": "execute_result"
    },
    {
     "name": "stdout",
     "output_type": "stream",
     "text": [
      "train RMSE,MAE: 0.836 0.652\n",
      "test RMSE,MAE: 0.887 0.690 \n",
      "\n",
      "\n",
      "nfactor, lr, reg: 66 0.003 1 \n",
      "\n"
     ]
    },
    {
     "data": {
      "text/plain": [
       "<surprise.prediction_algorithms.matrix_factorization.SVD at 0x7f7122ce47f0>"
      ]
     },
     "execution_count": 39,
     "metadata": {},
     "output_type": "execute_result"
    },
    {
     "name": "stdout",
     "output_type": "stream",
     "text": [
      "train RMSE,MAE: 0.845 0.660\n",
      "test RMSE,MAE: 0.892 0.696 \n",
      "\n",
      "\n",
      "nfactor, lr, reg: 66 0.003 2 \n",
      "\n"
     ]
    },
    {
     "data": {
      "text/plain": [
       "<surprise.prediction_algorithms.matrix_factorization.SVD at 0x7f7122ce46d0>"
      ]
     },
     "execution_count": 39,
     "metadata": {},
     "output_type": "execute_result"
    },
    {
     "name": "stdout",
     "output_type": "stream",
     "text": [
      "train RMSE,MAE: 0.875 0.688\n",
      "test RMSE,MAE: 0.914 0.717 \n",
      "\n",
      "\n",
      "nfactor, lr, reg: 66 0.003 4 \n",
      "\n"
     ]
    },
    {
     "data": {
      "text/plain": [
       "<surprise.prediction_algorithms.matrix_factorization.SVD at 0x7f7122ce4a30>"
      ]
     },
     "execution_count": 39,
     "metadata": {},
     "output_type": "execute_result"
    },
    {
     "name": "stdout",
     "output_type": "stream",
     "text": [
      "train RMSE,MAE: 0.907 0.717\n",
      "test RMSE,MAE: 0.937 0.739 \n",
      "\n",
      "\n",
      "nfactor, lr, reg: 66 0.003 10 \n",
      "\n"
     ]
    },
    {
     "data": {
      "text/plain": [
       "<surprise.prediction_algorithms.matrix_factorization.SVD at 0x7f7122ce42e0>"
      ]
     },
     "execution_count": 39,
     "metadata": {},
     "output_type": "execute_result"
    },
    {
     "name": "stdout",
     "output_type": "stream",
     "text": [
      "train RMSE,MAE: 0.943 0.750\n",
      "test RMSE,MAE: 0.961 0.762 \n",
      "\n",
      "\n",
      "nfactor, lr, reg: 66 0.004 0.01 \n",
      "\n"
     ]
    },
    {
     "data": {
      "text/plain": [
       "<surprise.prediction_algorithms.matrix_factorization.SVD at 0x7f7122ce4f70>"
      ]
     },
     "execution_count": 39,
     "metadata": {},
     "output_type": "execute_result"
    },
    {
     "name": "stdout",
     "output_type": "stream",
     "text": [
      "train RMSE,MAE: 0.701 0.529\n",
      "test RMSE,MAE: 0.865 0.651 \n",
      "\n",
      "\n",
      "nfactor, lr, reg: 66 0.004 0.02 \n",
      "\n"
     ]
    },
    {
     "data": {
      "text/plain": [
       "<surprise.prediction_algorithms.matrix_factorization.SVD at 0x7f7122ce4cd0>"
      ]
     },
     "execution_count": 39,
     "metadata": {},
     "output_type": "execute_result"
    },
    {
     "name": "stdout",
     "output_type": "stream",
     "text": [
      "train RMSE,MAE: 0.709 0.536\n",
      "test RMSE,MAE: 0.863 0.650 \n",
      "\n",
      "\n",
      "nfactor, lr, reg: 66 0.004 0.04 \n",
      "\n"
     ]
    },
    {
     "data": {
      "text/plain": [
       "<surprise.prediction_algorithms.matrix_factorization.SVD at 0x7f7122ce46a0>"
      ]
     },
     "execution_count": 39,
     "metadata": {},
     "output_type": "execute_result"
    },
    {
     "name": "stdout",
     "output_type": "stream",
     "text": [
      "train RMSE,MAE: 0.722 0.547\n",
      "test RMSE,MAE: 0.864 0.652 \n",
      "\n",
      "\n",
      "nfactor, lr, reg: 66 0.004 0.08 \n",
      "\n"
     ]
    },
    {
     "data": {
      "text/plain": [
       "<surprise.prediction_algorithms.matrix_factorization.SVD at 0x7f7122ce41f0>"
      ]
     },
     "execution_count": 39,
     "metadata": {},
     "output_type": "execute_result"
    },
    {
     "name": "stdout",
     "output_type": "stream",
     "text": [
      "train RMSE,MAE: 0.742 0.564\n",
      "test RMSE,MAE: 0.862 0.653 \n",
      "\n",
      "\n",
      "nfactor, lr, reg: 66 0.004 0.1 \n",
      "\n"
     ]
    },
    {
     "data": {
      "text/plain": [
       "<surprise.prediction_algorithms.matrix_factorization.SVD at 0x7f7122ce4e50>"
      ]
     },
     "execution_count": 39,
     "metadata": {},
     "output_type": "execute_result"
    },
    {
     "name": "stdout",
     "output_type": "stream",
     "text": [
      "train RMSE,MAE: 0.750 0.571\n",
      "test RMSE,MAE: 0.863 0.654 \n",
      "\n",
      "\n",
      "nfactor, lr, reg: 66 0.004 0.2 \n",
      "\n"
     ]
    },
    {
     "data": {
      "text/plain": [
       "<surprise.prediction_algorithms.matrix_factorization.SVD at 0x7f7122ce42e0>"
      ]
     },
     "execution_count": 39,
     "metadata": {},
     "output_type": "execute_result"
    },
    {
     "name": "stdout",
     "output_type": "stream",
     "text": [
      "train RMSE,MAE: 0.774 0.593\n",
      "test RMSE,MAE: 0.864 0.660 \n",
      "\n",
      "\n",
      "nfactor, lr, reg: 66 0.004 0.4 \n",
      "\n"
     ]
    },
    {
     "data": {
      "text/plain": [
       "<surprise.prediction_algorithms.matrix_factorization.SVD at 0x7f7122ce45b0>"
      ]
     },
     "execution_count": 39,
     "metadata": {},
     "output_type": "execute_result"
    },
    {
     "name": "stdout",
     "output_type": "stream",
     "text": [
      "train RMSE,MAE: 0.799 0.617\n",
      "test RMSE,MAE: 0.870 0.671 \n",
      "\n",
      "\n",
      "nfactor, lr, reg: 66 0.004 0.8 \n",
      "\n"
     ]
    },
    {
     "data": {
      "text/plain": [
       "<surprise.prediction_algorithms.matrix_factorization.SVD at 0x7f7122ce4040>"
      ]
     },
     "execution_count": 39,
     "metadata": {},
     "output_type": "execute_result"
    },
    {
     "name": "stdout",
     "output_type": "stream",
     "text": [
      "train RMSE,MAE: 0.825 0.643\n",
      "test RMSE,MAE: 0.883 0.687 \n",
      "\n",
      "\n",
      "nfactor, lr, reg: 66 0.004 1 \n",
      "\n"
     ]
    },
    {
     "data": {
      "text/plain": [
       "<surprise.prediction_algorithms.matrix_factorization.SVD at 0x7f7122ce46d0>"
      ]
     },
     "execution_count": 39,
     "metadata": {},
     "output_type": "execute_result"
    },
    {
     "name": "stdout",
     "output_type": "stream",
     "text": [
      "train RMSE,MAE: 0.835 0.652\n",
      "test RMSE,MAE: 0.889 0.693 \n",
      "\n",
      "\n",
      "nfactor, lr, reg: 66 0.004 2 \n",
      "\n"
     ]
    },
    {
     "data": {
      "text/plain": [
       "<surprise.prediction_algorithms.matrix_factorization.SVD at 0x7f7122ce4190>"
      ]
     },
     "execution_count": 39,
     "metadata": {},
     "output_type": "execute_result"
    },
    {
     "name": "stdout",
     "output_type": "stream",
     "text": [
      "train RMSE,MAE: 0.868 0.682\n",
      "test RMSE,MAE: 0.912 0.715 \n",
      "\n",
      "\n",
      "nfactor, lr, reg: 66 0.004 4 \n",
      "\n"
     ]
    },
    {
     "data": {
      "text/plain": [
       "<surprise.prediction_algorithms.matrix_factorization.SVD at 0x7f7122ce4e50>"
      ]
     },
     "execution_count": 39,
     "metadata": {},
     "output_type": "execute_result"
    },
    {
     "name": "stdout",
     "output_type": "stream",
     "text": [
      "train RMSE,MAE: 0.903 0.713\n",
      "test RMSE,MAE: 0.935 0.737 \n",
      "\n",
      "\n",
      "nfactor, lr, reg: 66 0.004 10 \n",
      "\n"
     ]
    },
    {
     "data": {
      "text/plain": [
       "<surprise.prediction_algorithms.matrix_factorization.SVD at 0x7f7122ce46a0>"
      ]
     },
     "execution_count": 39,
     "metadata": {},
     "output_type": "execute_result"
    },
    {
     "name": "stdout",
     "output_type": "stream",
     "text": [
      "train RMSE,MAE: 0.942 0.749\n",
      "test RMSE,MAE: 0.961 0.761 \n",
      "\n",
      "\n",
      "nfactor, lr, reg: 66 0.005 0.01 \n",
      "\n"
     ]
    },
    {
     "data": {
      "text/plain": [
       "<surprise.prediction_algorithms.matrix_factorization.SVD at 0x7f7122ce41f0>"
      ]
     },
     "execution_count": 39,
     "metadata": {},
     "output_type": "execute_result"
    },
    {
     "name": "stdout",
     "output_type": "stream",
     "text": [
      "train RMSE,MAE: 0.652 0.492\n",
      "test RMSE,MAE: 0.864 0.647 \n",
      "\n",
      "\n",
      "nfactor, lr, reg: 66 0.005 0.02 \n",
      "\n"
     ]
    },
    {
     "data": {
      "text/plain": [
       "<surprise.prediction_algorithms.matrix_factorization.SVD at 0x7f7122ce4f70>"
      ]
     },
     "execution_count": 39,
     "metadata": {},
     "output_type": "execute_result"
    },
    {
     "name": "stdout",
     "output_type": "stream",
     "text": [
      "train RMSE,MAE: 0.666 0.503\n",
      "test RMSE,MAE: 0.861 0.646 \n",
      "\n",
      "\n",
      "nfactor, lr, reg: 66 0.005 0.04 \n",
      "\n"
     ]
    },
    {
     "data": {
      "text/plain": [
       "<surprise.prediction_algorithms.matrix_factorization.SVD at 0x7f7122ce4460>"
      ]
     },
     "execution_count": 39,
     "metadata": {},
     "output_type": "execute_result"
    },
    {
     "name": "stdout",
     "output_type": "stream",
     "text": [
      "train RMSE,MAE: 0.688 0.521\n",
      "test RMSE,MAE: 0.861 0.649 \n",
      "\n",
      "\n",
      "nfactor, lr, reg: 66 0.005 0.08 \n",
      "\n"
     ]
    },
    {
     "data": {
      "text/plain": [
       "<surprise.prediction_algorithms.matrix_factorization.SVD at 0x7f7122ce4190>"
      ]
     },
     "execution_count": 39,
     "metadata": {},
     "output_type": "execute_result"
    },
    {
     "name": "stdout",
     "output_type": "stream",
     "text": [
      "train RMSE,MAE: 0.716 0.544\n",
      "test RMSE,MAE: 0.860 0.650 \n",
      "\n",
      "\n",
      "nfactor, lr, reg: 66 0.005 0.1 \n",
      "\n"
     ]
    },
    {
     "data": {
      "text/plain": [
       "<surprise.prediction_algorithms.matrix_factorization.SVD at 0x7f7122ce4040>"
      ]
     },
     "execution_count": 39,
     "metadata": {},
     "output_type": "execute_result"
    },
    {
     "name": "stdout",
     "output_type": "stream",
     "text": [
      "train RMSE,MAE: 0.727 0.554\n",
      "test RMSE,MAE: 0.860 0.652 \n",
      "\n",
      "\n",
      "nfactor, lr, reg: 66 0.005 0.2 \n",
      "\n"
     ]
    },
    {
     "data": {
      "text/plain": [
       "<surprise.prediction_algorithms.matrix_factorization.SVD at 0x7f7122ce46d0>"
      ]
     },
     "execution_count": 39,
     "metadata": {},
     "output_type": "execute_result"
    },
    {
     "name": "stdout",
     "output_type": "stream",
     "text": [
      "train RMSE,MAE: 0.759 0.581\n",
      "test RMSE,MAE: 0.862 0.658 \n",
      "\n",
      "\n",
      "nfactor, lr, reg: 66 0.005 0.4 \n",
      "\n"
     ]
    },
    {
     "data": {
      "text/plain": [
       "<surprise.prediction_algorithms.matrix_factorization.SVD at 0x7f7122ce42e0>"
      ]
     },
     "execution_count": 39,
     "metadata": {},
     "output_type": "execute_result"
    },
    {
     "name": "stdout",
     "output_type": "stream",
     "text": [
      "train RMSE,MAE: 0.788 0.608\n",
      "test RMSE,MAE: 0.868 0.668 \n",
      "\n",
      "\n",
      "nfactor, lr, reg: 66 0.005 0.8 \n",
      "\n"
     ]
    },
    {
     "data": {
      "text/plain": [
       "<surprise.prediction_algorithms.matrix_factorization.SVD at 0x7f7122ce47f0>"
      ]
     },
     "execution_count": 39,
     "metadata": {},
     "output_type": "execute_result"
    },
    {
     "name": "stdout",
     "output_type": "stream",
     "text": [
      "train RMSE,MAE: 0.817 0.636\n",
      "test RMSE,MAE: 0.882 0.685 \n",
      "\n",
      "\n",
      "nfactor, lr, reg: 66 0.005 1 \n",
      "\n"
     ]
    },
    {
     "data": {
      "text/plain": [
       "<surprise.prediction_algorithms.matrix_factorization.SVD at 0x7f7122ce4460>"
      ]
     },
     "execution_count": 39,
     "metadata": {},
     "output_type": "execute_result"
    },
    {
     "name": "stdout",
     "output_type": "stream",
     "text": [
      "train RMSE,MAE: 0.827 0.646\n",
      "test RMSE,MAE: 0.888 0.692 \n",
      "\n",
      "\n",
      "nfactor, lr, reg: 66 0.005 2 \n",
      "\n"
     ]
    },
    {
     "data": {
      "text/plain": [
       "<surprise.prediction_algorithms.matrix_factorization.SVD at 0x7f7122ce41f0>"
      ]
     },
     "execution_count": 39,
     "metadata": {},
     "output_type": "execute_result"
    },
    {
     "name": "stdout",
     "output_type": "stream",
     "text": [
      "train RMSE,MAE: 0.862 0.677\n",
      "test RMSE,MAE: 0.910 0.714 \n",
      "\n",
      "\n",
      "nfactor, lr, reg: 66 0.005 4 \n",
      "\n"
     ]
    },
    {
     "data": {
      "text/plain": [
       "<surprise.prediction_algorithms.matrix_factorization.SVD at 0x7f7122ce4f70>"
      ]
     },
     "execution_count": 39,
     "metadata": {},
     "output_type": "execute_result"
    },
    {
     "name": "stdout",
     "output_type": "stream",
     "text": [
      "train RMSE,MAE: 0.899 0.710\n",
      "test RMSE,MAE: 0.935 0.736 \n",
      "\n",
      "\n",
      "nfactor, lr, reg: 66 0.005 10 \n",
      "\n"
     ]
    },
    {
     "data": {
      "text/plain": [
       "<surprise.prediction_algorithms.matrix_factorization.SVD at 0x7f7122ce4e50>"
      ]
     },
     "execution_count": 39,
     "metadata": {},
     "output_type": "execute_result"
    },
    {
     "name": "stdout",
     "output_type": "stream",
     "text": [
      "train RMSE,MAE: 0.941 0.748\n",
      "test RMSE,MAE: 0.960 0.761 \n",
      "\n",
      "\n",
      "nfactor, lr, reg: 66 0.006 0.01 \n",
      "\n"
     ]
    },
    {
     "data": {
      "text/plain": [
       "<surprise.prediction_algorithms.matrix_factorization.SVD at 0x7f7122ce45b0>"
      ]
     },
     "execution_count": 39,
     "metadata": {},
     "output_type": "execute_result"
    },
    {
     "name": "stdout",
     "output_type": "stream",
     "text": [
      "train RMSE,MAE: 0.601 0.453\n",
      "test RMSE,MAE: 0.863 0.647 \n",
      "\n",
      "\n",
      "nfactor, lr, reg: 66 0.006 0.02 \n",
      "\n"
     ]
    },
    {
     "data": {
      "text/plain": [
       "<surprise.prediction_algorithms.matrix_factorization.SVD at 0x7f7122ce47f0>"
      ]
     },
     "execution_count": 39,
     "metadata": {},
     "output_type": "execute_result"
    },
    {
     "name": "stdout",
     "output_type": "stream",
     "text": [
      "train RMSE,MAE: 0.620 0.469\n",
      "test RMSE,MAE: 0.860 0.645 \n",
      "\n",
      "\n",
      "nfactor, lr, reg: 66 0.006 0.04 \n",
      "\n"
     ]
    },
    {
     "data": {
      "text/plain": [
       "<surprise.prediction_algorithms.matrix_factorization.SVD at 0x7f7122ce4f70>"
      ]
     },
     "execution_count": 39,
     "metadata": {},
     "output_type": "execute_result"
    },
    {
     "name": "stdout",
     "output_type": "stream",
     "text": [
      "train RMSE,MAE: 0.652 0.495\n",
      "test RMSE,MAE: 0.859 0.645 \n",
      "\n",
      "\n",
      "nfactor, lr, reg: 66 0.006 0.08 \n",
      "\n"
     ]
    },
    {
     "data": {
      "text/plain": [
       "<surprise.prediction_algorithms.matrix_factorization.SVD at 0x7f7122ce42e0>"
      ]
     },
     "execution_count": 39,
     "metadata": {},
     "output_type": "execute_result"
    },
    {
     "name": "stdout",
     "output_type": "stream",
     "text": [
      "train RMSE,MAE: 0.691 0.526\n",
      "test RMSE,MAE: 0.858 0.648 \n",
      "\n",
      "\n",
      "nfactor, lr, reg: 66 0.006 0.1 \n",
      "\n"
     ]
    },
    {
     "data": {
      "text/plain": [
       "<surprise.prediction_algorithms.matrix_factorization.SVD at 0x7f7122ce4190>"
      ]
     },
     "execution_count": 39,
     "metadata": {},
     "output_type": "execute_result"
    },
    {
     "name": "stdout",
     "output_type": "stream",
     "text": [
      "train RMSE,MAE: 0.706 0.537\n",
      "test RMSE,MAE: 0.858 0.650 \n",
      "\n",
      "\n",
      "nfactor, lr, reg: 66 0.006 0.2 \n",
      "\n"
     ]
    },
    {
     "data": {
      "text/plain": [
       "<surprise.prediction_algorithms.matrix_factorization.SVD at 0x7f7122ce4790>"
      ]
     },
     "execution_count": 39,
     "metadata": {},
     "output_type": "execute_result"
    },
    {
     "name": "stdout",
     "output_type": "stream",
     "text": [
      "train RMSE,MAE: 0.746 0.570\n",
      "test RMSE,MAE: 0.860 0.655 \n",
      "\n",
      "\n",
      "nfactor, lr, reg: 66 0.006 0.4 \n",
      "\n"
     ]
    },
    {
     "data": {
      "text/plain": [
       "<surprise.prediction_algorithms.matrix_factorization.SVD at 0x7f7122ce45b0>"
      ]
     },
     "execution_count": 39,
     "metadata": {},
     "output_type": "execute_result"
    },
    {
     "name": "stdout",
     "output_type": "stream",
     "text": [
      "train RMSE,MAE: 0.780 0.601\n",
      "test RMSE,MAE: 0.867 0.667 \n",
      "\n",
      "\n",
      "nfactor, lr, reg: 66 0.006 0.8 \n",
      "\n"
     ]
    },
    {
     "data": {
      "text/plain": [
       "<surprise.prediction_algorithms.matrix_factorization.SVD at 0x7f7122ce4040>"
      ]
     },
     "execution_count": 39,
     "metadata": {},
     "output_type": "execute_result"
    },
    {
     "name": "stdout",
     "output_type": "stream",
     "text": [
      "train RMSE,MAE: 0.810 0.630\n",
      "test RMSE,MAE: 0.881 0.684 \n",
      "\n",
      "\n",
      "nfactor, lr, reg: 66 0.006 1 \n",
      "\n"
     ]
    },
    {
     "data": {
      "text/plain": [
       "<surprise.prediction_algorithms.matrix_factorization.SVD at 0x7f7122ce4e50>"
      ]
     },
     "execution_count": 39,
     "metadata": {},
     "output_type": "execute_result"
    },
    {
     "name": "stdout",
     "output_type": "stream",
     "text": [
      "train RMSE,MAE: 0.821 0.640\n",
      "test RMSE,MAE: 0.887 0.690 \n",
      "\n",
      "\n",
      "nfactor, lr, reg: 66 0.006 2 \n",
      "\n"
     ]
    },
    {
     "data": {
      "text/plain": [
       "<surprise.prediction_algorithms.matrix_factorization.SVD at 0x7f7122ce4460>"
      ]
     },
     "execution_count": 39,
     "metadata": {},
     "output_type": "execute_result"
    },
    {
     "name": "stdout",
     "output_type": "stream",
     "text": [
      "train RMSE,MAE: 0.858 0.674\n",
      "test RMSE,MAE: 0.910 0.713 \n",
      "\n",
      "\n",
      "nfactor, lr, reg: 66 0.006 4 \n",
      "\n"
     ]
    },
    {
     "data": {
      "text/plain": [
       "<surprise.prediction_algorithms.matrix_factorization.SVD at 0x7f7122ce4190>"
      ]
     },
     "execution_count": 39,
     "metadata": {},
     "output_type": "execute_result"
    },
    {
     "name": "stdout",
     "output_type": "stream",
     "text": [
      "train RMSE,MAE: 0.897 0.709\n",
      "test RMSE,MAE: 0.934 0.736 \n",
      "\n",
      "\n",
      "nfactor, lr, reg: 66 0.006 10 \n",
      "\n"
     ]
    },
    {
     "data": {
      "text/plain": [
       "<surprise.prediction_algorithms.matrix_factorization.SVD at 0x7f7122ce4790>"
      ]
     },
     "execution_count": 39,
     "metadata": {},
     "output_type": "execute_result"
    },
    {
     "name": "stdout",
     "output_type": "stream",
     "text": [
      "train RMSE,MAE: 0.941 0.748\n",
      "test RMSE,MAE: 0.960 0.761 \n",
      "\n",
      "\n",
      "nfactor, lr, reg: 66 0.007 0.01 \n",
      "\n"
     ]
    },
    {
     "data": {
      "text/plain": [
       "<surprise.prediction_algorithms.matrix_factorization.SVD at 0x7f7122ce42e0>"
      ]
     },
     "execution_count": 39,
     "metadata": {},
     "output_type": "execute_result"
    },
    {
     "name": "stdout",
     "output_type": "stream",
     "text": [
      "train RMSE,MAE: 0.549 0.413\n",
      "test RMSE,MAE: 0.861 0.643 \n",
      "\n",
      "\n",
      "nfactor, lr, reg: 66 0.007 0.02 \n",
      "\n"
     ]
    },
    {
     "data": {
      "text/plain": [
       "<surprise.prediction_algorithms.matrix_factorization.SVD at 0x7f7122ce46a0>"
      ]
     },
     "execution_count": 39,
     "metadata": {},
     "output_type": "execute_result"
    },
    {
     "name": "stdout",
     "output_type": "stream",
     "text": [
      "train RMSE,MAE: 0.573 0.434\n",
      "test RMSE,MAE: 0.861 0.644 \n",
      "\n",
      "\n",
      "nfactor, lr, reg: 66 0.007 0.04 \n",
      "\n"
     ]
    },
    {
     "data": {
      "text/plain": [
       "<surprise.prediction_algorithms.matrix_factorization.SVD at 0x7f7122ce41f0>"
      ]
     },
     "execution_count": 39,
     "metadata": {},
     "output_type": "execute_result"
    },
    {
     "name": "stdout",
     "output_type": "stream",
     "text": [
      "train RMSE,MAE: 0.615 0.467\n",
      "test RMSE,MAE: 0.858 0.644 \n",
      "\n",
      "\n",
      "nfactor, lr, reg: 66 0.007 0.08 \n",
      "\n"
     ]
    },
    {
     "data": {
      "text/plain": [
       "<surprise.prediction_algorithms.matrix_factorization.SVD at 0x7f7122ce4460>"
      ]
     },
     "execution_count": 39,
     "metadata": {},
     "output_type": "execute_result"
    },
    {
     "name": "stdout",
     "output_type": "stream",
     "text": [
      "train RMSE,MAE: 0.666 0.507\n",
      "test RMSE,MAE: 0.856 0.645 \n",
      "\n",
      "\n",
      "nfactor, lr, reg: 66 0.007 0.1 \n",
      "\n"
     ]
    },
    {
     "data": {
      "text/plain": [
       "<surprise.prediction_algorithms.matrix_factorization.SVD at 0x7f7122ce4a30>"
      ]
     },
     "execution_count": 39,
     "metadata": {},
     "output_type": "execute_result"
    },
    {
     "name": "stdout",
     "output_type": "stream",
     "text": [
      "train RMSE,MAE: 0.685 0.521\n",
      "test RMSE,MAE: 0.857 0.646 \n",
      "\n",
      "\n",
      "nfactor, lr, reg: 66 0.007 0.2 \n",
      "\n"
     ]
    },
    {
     "data": {
      "text/plain": [
       "<surprise.prediction_algorithms.matrix_factorization.SVD at 0x7f7122ce4e50>"
      ]
     },
     "execution_count": 39,
     "metadata": {},
     "output_type": "execute_result"
    },
    {
     "name": "stdout",
     "output_type": "stream",
     "text": [
      "train RMSE,MAE: 0.735 0.561\n",
      "test RMSE,MAE: 0.859 0.653 \n",
      "\n",
      "\n",
      "nfactor, lr, reg: 66 0.007 0.4 \n",
      "\n"
     ]
    },
    {
     "data": {
      "text/plain": [
       "<surprise.prediction_algorithms.matrix_factorization.SVD at 0x7f7122ce4e80>"
      ]
     },
     "execution_count": 39,
     "metadata": {},
     "output_type": "execute_result"
    },
    {
     "name": "stdout",
     "output_type": "stream",
     "text": [
      "train RMSE,MAE: 0.772 0.595\n",
      "test RMSE,MAE: 0.866 0.665 \n",
      "\n",
      "\n",
      "nfactor, lr, reg: 66 0.007 0.8 \n",
      "\n"
     ]
    },
    {
     "data": {
      "text/plain": [
       "<surprise.prediction_algorithms.matrix_factorization.SVD at 0x7f7122ce4f70>"
      ]
     },
     "execution_count": 39,
     "metadata": {},
     "output_type": "execute_result"
    },
    {
     "name": "stdout",
     "output_type": "stream",
     "text": [
      "train RMSE,MAE: 0.805 0.626\n",
      "test RMSE,MAE: 0.880 0.683 \n",
      "\n",
      "\n",
      "nfactor, lr, reg: 66 0.007 1 \n",
      "\n"
     ]
    },
    {
     "data": {
      "text/plain": [
       "<surprise.prediction_algorithms.matrix_factorization.SVD at 0x7f7122ce41f0>"
      ]
     },
     "execution_count": 39,
     "metadata": {},
     "output_type": "execute_result"
    },
    {
     "name": "stdout",
     "output_type": "stream",
     "text": [
      "train RMSE,MAE: 0.816 0.636\n",
      "test RMSE,MAE: 0.886 0.690 \n",
      "\n",
      "\n",
      "nfactor, lr, reg: 66 0.007 2 \n",
      "\n"
     ]
    },
    {
     "data": {
      "text/plain": [
       "<surprise.prediction_algorithms.matrix_factorization.SVD at 0x7f7122ce4460>"
      ]
     },
     "execution_count": 39,
     "metadata": {},
     "output_type": "execute_result"
    },
    {
     "name": "stdout",
     "output_type": "stream",
     "text": [
      "train RMSE,MAE: 0.854 0.671\n",
      "test RMSE,MAE: 0.909 0.712 \n",
      "\n",
      "\n",
      "nfactor, lr, reg: 66 0.007 4 \n",
      "\n"
     ]
    },
    {
     "data": {
      "text/plain": [
       "<surprise.prediction_algorithms.matrix_factorization.SVD at 0x7f7122ce46a0>"
      ]
     },
     "execution_count": 39,
     "metadata": {},
     "output_type": "execute_result"
    },
    {
     "name": "stdout",
     "output_type": "stream",
     "text": [
      "train RMSE,MAE: 0.896 0.707\n",
      "test RMSE,MAE: 0.934 0.736 \n",
      "\n",
      "\n",
      "nfactor, lr, reg: 66 0.007 10 \n",
      "\n"
     ]
    },
    {
     "data": {
      "text/plain": [
       "<surprise.prediction_algorithms.matrix_factorization.SVD at 0x7f7122ce47f0>"
      ]
     },
     "execution_count": 39,
     "metadata": {},
     "output_type": "execute_result"
    },
    {
     "name": "stdout",
     "output_type": "stream",
     "text": [
      "train RMSE,MAE: 0.941 0.748\n",
      "test RMSE,MAE: 0.960 0.761 \n",
      "\n",
      "\n",
      "nfactor, lr, reg: 66 0.008 0.01 \n",
      "\n"
     ]
    },
    {
     "data": {
      "text/plain": [
       "<surprise.prediction_algorithms.matrix_factorization.SVD at 0x7f7122ce4040>"
      ]
     },
     "execution_count": 39,
     "metadata": {},
     "output_type": "execute_result"
    },
    {
     "name": "stdout",
     "output_type": "stream",
     "text": [
      "train RMSE,MAE: 0.499 0.374\n",
      "test RMSE,MAE: 0.863 0.643 \n",
      "\n",
      "\n",
      "nfactor, lr, reg: 66 0.008 0.02 \n",
      "\n"
     ]
    },
    {
     "data": {
      "text/plain": [
       "<surprise.prediction_algorithms.matrix_factorization.SVD at 0x7f7122ce4f70>"
      ]
     },
     "execution_count": 39,
     "metadata": {},
     "output_type": "execute_result"
    },
    {
     "name": "stdout",
     "output_type": "stream",
     "text": [
      "train RMSE,MAE: 0.528 0.399\n",
      "test RMSE,MAE: 0.864 0.644 \n",
      "\n",
      "\n",
      "nfactor, lr, reg: 66 0.008 0.04 \n",
      "\n"
     ]
    },
    {
     "data": {
      "text/plain": [
       "<surprise.prediction_algorithms.matrix_factorization.SVD at 0x7f7122ce41f0>"
      ]
     },
     "execution_count": 39,
     "metadata": {},
     "output_type": "execute_result"
    },
    {
     "name": "stdout",
     "output_type": "stream",
     "text": [
      "train RMSE,MAE: 0.577 0.439\n",
      "test RMSE,MAE: 0.859 0.643 \n",
      "\n",
      "\n",
      "nfactor, lr, reg: 66 0.008 0.08 \n",
      "\n"
     ]
    },
    {
     "data": {
      "text/plain": [
       "<surprise.prediction_algorithms.matrix_factorization.SVD at 0x7f7122ce45b0>"
      ]
     },
     "execution_count": 39,
     "metadata": {},
     "output_type": "execute_result"
    },
    {
     "name": "stdout",
     "output_type": "stream",
     "text": [
      "train RMSE,MAE: 0.642 0.489\n",
      "test RMSE,MAE: 0.856 0.644 \n",
      "\n",
      "\n",
      "nfactor, lr, reg: 66 0.008 0.1 \n",
      "\n"
     ]
    },
    {
     "data": {
      "text/plain": [
       "<surprise.prediction_algorithms.matrix_factorization.SVD at 0x7f7122ce46d0>"
      ]
     },
     "execution_count": 39,
     "metadata": {},
     "output_type": "execute_result"
    },
    {
     "name": "stdout",
     "output_type": "stream",
     "text": [
      "train RMSE,MAE: 0.664 0.506\n",
      "test RMSE,MAE: 0.855 0.645 \n",
      "\n",
      "\n",
      "nfactor, lr, reg: 66 0.008 0.2 \n",
      "\n"
     ]
    },
    {
     "data": {
      "text/plain": [
       "<surprise.prediction_algorithms.matrix_factorization.SVD at 0x7f7122ce42e0>"
      ]
     },
     "execution_count": 39,
     "metadata": {},
     "output_type": "execute_result"
    },
    {
     "name": "stdout",
     "output_type": "stream",
     "text": [
      "train RMSE,MAE: 0.724 0.553\n",
      "test RMSE,MAE: 0.859 0.652 \n",
      "\n",
      "\n",
      "nfactor, lr, reg: 66 0.008 0.4 \n",
      "\n"
     ]
    },
    {
     "data": {
      "text/plain": [
       "<surprise.prediction_algorithms.matrix_factorization.SVD at 0x7f7122ce4cd0>"
      ]
     },
     "execution_count": 39,
     "metadata": {},
     "output_type": "execute_result"
    },
    {
     "name": "stdout",
     "output_type": "stream",
     "text": [
      "train RMSE,MAE: 0.766 0.589\n",
      "test RMSE,MAE: 0.866 0.664 \n",
      "\n",
      "\n",
      "nfactor, lr, reg: 66 0.008 0.8 \n",
      "\n"
     ]
    },
    {
     "data": {
      "text/plain": [
       "<surprise.prediction_algorithms.matrix_factorization.SVD at 0x7f7122ce4f70>"
      ]
     },
     "execution_count": 39,
     "metadata": {},
     "output_type": "execute_result"
    },
    {
     "name": "stdout",
     "output_type": "stream",
     "text": [
      "train RMSE,MAE: 0.800 0.622\n",
      "test RMSE,MAE: 0.880 0.682 \n",
      "\n",
      "\n",
      "nfactor, lr, reg: 66 0.008 1 \n",
      "\n"
     ]
    },
    {
     "data": {
      "text/plain": [
       "<surprise.prediction_algorithms.matrix_factorization.SVD at 0x7f7122ce46d0>"
      ]
     },
     "execution_count": 39,
     "metadata": {},
     "output_type": "execute_result"
    },
    {
     "name": "stdout",
     "output_type": "stream",
     "text": [
      "train RMSE,MAE: 0.811 0.633\n",
      "test RMSE,MAE: 0.886 0.689 \n",
      "\n",
      "\n",
      "nfactor, lr, reg: 66 0.008 2 \n",
      "\n"
     ]
    },
    {
     "data": {
      "text/plain": [
       "<surprise.prediction_algorithms.matrix_factorization.SVD at 0x7f7122ce4040>"
      ]
     },
     "execution_count": 39,
     "metadata": {},
     "output_type": "execute_result"
    },
    {
     "name": "stdout",
     "output_type": "stream",
     "text": [
      "train RMSE,MAE: 0.852 0.669\n",
      "test RMSE,MAE: 0.909 0.712 \n",
      "\n",
      "\n",
      "nfactor, lr, reg: 66 0.008 4 \n",
      "\n"
     ]
    },
    {
     "data": {
      "text/plain": [
       "<surprise.prediction_algorithms.matrix_factorization.SVD at 0x7f7122ce47f0>"
      ]
     },
     "execution_count": 39,
     "metadata": {},
     "output_type": "execute_result"
    },
    {
     "name": "stdout",
     "output_type": "stream",
     "text": [
      "train RMSE,MAE: 0.895 0.706\n",
      "test RMSE,MAE: 0.934 0.735 \n",
      "\n",
      "\n",
      "nfactor, lr, reg: 66 0.008 10 \n",
      "\n"
     ]
    },
    {
     "data": {
      "text/plain": [
       "<surprise.prediction_algorithms.matrix_factorization.SVD at 0x7f7122ce4790>"
      ]
     },
     "execution_count": 39,
     "metadata": {},
     "output_type": "execute_result"
    },
    {
     "name": "stdout",
     "output_type": "stream",
     "text": [
      "train RMSE,MAE: 0.941 0.748\n",
      "test RMSE,MAE: 0.960 0.761 \n",
      "\n",
      "\n",
      "nfactor, lr, reg: 66 0.009000000000000001 0.01 \n",
      "\n"
     ]
    },
    {
     "data": {
      "text/plain": [
       "<surprise.prediction_algorithms.matrix_factorization.SVD at 0x7f7122ce4cd0>"
      ]
     },
     "execution_count": 39,
     "metadata": {},
     "output_type": "execute_result"
    },
    {
     "name": "stdout",
     "output_type": "stream",
     "text": [
      "train RMSE,MAE: 0.449 0.334\n",
      "test RMSE,MAE: 0.866 0.643 \n",
      "\n",
      "\n",
      "nfactor, lr, reg: 66 0.009000000000000001 0.02 \n",
      "\n"
     ]
    },
    {
     "data": {
      "text/plain": [
       "<surprise.prediction_algorithms.matrix_factorization.SVD at 0x7f7122ce4a30>"
      ]
     },
     "execution_count": 39,
     "metadata": {},
     "output_type": "execute_result"
    },
    {
     "name": "stdout",
     "output_type": "stream",
     "text": [
      "train RMSE,MAE: 0.484 0.364\n",
      "test RMSE,MAE: 0.862 0.642 \n",
      "\n",
      "\n",
      "nfactor, lr, reg: 66 0.009000000000000001 0.04 \n",
      "\n"
     ]
    },
    {
     "data": {
      "text/plain": [
       "<surprise.prediction_algorithms.matrix_factorization.SVD at 0x7f7122ce42e0>"
      ]
     },
     "execution_count": 39,
     "metadata": {},
     "output_type": "execute_result"
    },
    {
     "name": "stdout",
     "output_type": "stream",
     "text": [
      "train RMSE,MAE: 0.541 0.411\n",
      "test RMSE,MAE: 0.858 0.641 \n",
      "\n",
      "\n",
      "nfactor, lr, reg: 66 0.009000000000000001 0.08 \n",
      "\n"
     ]
    },
    {
     "data": {
      "text/plain": [
       "<surprise.prediction_algorithms.matrix_factorization.SVD at 0x7f7122ce4df0>"
      ]
     },
     "execution_count": 39,
     "metadata": {},
     "output_type": "execute_result"
    },
    {
     "name": "stdout",
     "output_type": "stream",
     "text": [
      "train RMSE,MAE: 0.618 0.471\n",
      "test RMSE,MAE: 0.854 0.641 \n",
      "\n",
      "\n",
      "nfactor, lr, reg: 66 0.009000000000000001 0.1 \n",
      "\n"
     ]
    },
    {
     "data": {
      "text/plain": [
       "<surprise.prediction_algorithms.matrix_factorization.SVD at 0x7f7122ce46a0>"
      ]
     },
     "execution_count": 39,
     "metadata": {},
     "output_type": "execute_result"
    },
    {
     "name": "stdout",
     "output_type": "stream",
     "text": [
      "train RMSE,MAE: 0.645 0.491\n",
      "test RMSE,MAE: 0.856 0.644 \n",
      "\n",
      "\n",
      "nfactor, lr, reg: 66 0.009000000000000001 0.2 \n",
      "\n"
     ]
    },
    {
     "data": {
      "text/plain": [
       "<surprise.prediction_algorithms.matrix_factorization.SVD at 0x7f7122ce4790>"
      ]
     },
     "execution_count": 39,
     "metadata": {},
     "output_type": "execute_result"
    },
    {
     "name": "stdout",
     "output_type": "stream",
     "text": [
      "train RMSE,MAE: 0.714 0.545\n",
      "test RMSE,MAE: 0.859 0.651 \n",
      "\n",
      "\n",
      "nfactor, lr, reg: 66 0.009000000000000001 0.4 \n",
      "\n"
     ]
    },
    {
     "data": {
      "text/plain": [
       "<surprise.prediction_algorithms.matrix_factorization.SVD at 0x7f7122ce4040>"
      ]
     },
     "execution_count": 39,
     "metadata": {},
     "output_type": "execute_result"
    },
    {
     "name": "stdout",
     "output_type": "stream",
     "text": [
      "train RMSE,MAE: 0.761 0.585\n",
      "test RMSE,MAE: 0.866 0.664 \n",
      "\n",
      "\n",
      "nfactor, lr, reg: 66 0.009000000000000001 0.8 \n",
      "\n"
     ]
    },
    {
     "data": {
      "text/plain": [
       "<surprise.prediction_algorithms.matrix_factorization.SVD at 0x7f7122ce47f0>"
      ]
     },
     "execution_count": 39,
     "metadata": {},
     "output_type": "execute_result"
    },
    {
     "name": "stdout",
     "output_type": "stream",
     "text": [
      "train RMSE,MAE: 0.796 0.618\n",
      "test RMSE,MAE: 0.879 0.682 \n",
      "\n",
      "\n",
      "nfactor, lr, reg: 66 0.009000000000000001 1 \n",
      "\n"
     ]
    },
    {
     "data": {
      "text/plain": [
       "<surprise.prediction_algorithms.matrix_factorization.SVD at 0x7f7122ce4f70>"
      ]
     },
     "execution_count": 39,
     "metadata": {},
     "output_type": "execute_result"
    },
    {
     "name": "stdout",
     "output_type": "stream",
     "text": [
      "train RMSE,MAE: 0.808 0.629\n",
      "test RMSE,MAE: 0.885 0.689 \n",
      "\n",
      "\n",
      "nfactor, lr, reg: 66 0.009000000000000001 2 \n",
      "\n"
     ]
    },
    {
     "data": {
      "text/plain": [
       "<surprise.prediction_algorithms.matrix_factorization.SVD at 0x7f7122ce4e50>"
      ]
     },
     "execution_count": 39,
     "metadata": {},
     "output_type": "execute_result"
    },
    {
     "name": "stdout",
     "output_type": "stream",
     "text": [
      "train RMSE,MAE: 0.849 0.667\n",
      "test RMSE,MAE: 0.909 0.712 \n",
      "\n",
      "\n",
      "nfactor, lr, reg: 66 0.009000000000000001 4 \n",
      "\n"
     ]
    },
    {
     "data": {
      "text/plain": [
       "<surprise.prediction_algorithms.matrix_factorization.SVD at 0x7f7122ce46a0>"
      ]
     },
     "execution_count": 39,
     "metadata": {},
     "output_type": "execute_result"
    },
    {
     "name": "stdout",
     "output_type": "stream",
     "text": [
      "train RMSE,MAE: 0.894 0.706\n",
      "test RMSE,MAE: 0.934 0.735 \n",
      "\n",
      "\n",
      "nfactor, lr, reg: 66 0.009000000000000001 10 \n",
      "\n"
     ]
    },
    {
     "data": {
      "text/plain": [
       "<surprise.prediction_algorithms.matrix_factorization.SVD at 0x7f7122ce42e0>"
      ]
     },
     "execution_count": 39,
     "metadata": {},
     "output_type": "execute_result"
    },
    {
     "name": "stdout",
     "output_type": "stream",
     "text": [
      "train RMSE,MAE: 0.941 0.748\n",
      "test RMSE,MAE: 0.961 0.761 \n",
      "\n",
      "\n",
      "nfactor, lr, reg: 74 0.001 0.01 \n",
      "\n"
     ]
    },
    {
     "data": {
      "text/plain": [
       "<surprise.prediction_algorithms.matrix_factorization.SVD at 0x7f7122ce4e80>"
      ]
     },
     "execution_count": 39,
     "metadata": {},
     "output_type": "execute_result"
    },
    {
     "name": "stdout",
     "output_type": "stream",
     "text": [
      "train RMSE,MAE: 0.837 0.639\n",
      "test RMSE,MAE: 0.887 0.677 \n",
      "\n",
      "\n",
      "nfactor, lr, reg: 74 0.001 0.02 \n",
      "\n"
     ]
    },
    {
     "data": {
      "text/plain": [
       "<surprise.prediction_algorithms.matrix_factorization.SVD at 0x7f7122ce4460>"
      ]
     },
     "execution_count": 39,
     "metadata": {},
     "output_type": "execute_result"
    },
    {
     "name": "stdout",
     "output_type": "stream",
     "text": [
      "train RMSE,MAE: 0.838 0.640\n",
      "test RMSE,MAE: 0.888 0.678 \n",
      "\n",
      "\n",
      "nfactor, lr, reg: 74 0.001 0.04 \n",
      "\n"
     ]
    },
    {
     "data": {
      "text/plain": [
       "<surprise.prediction_algorithms.matrix_factorization.SVD at 0x7f7122ce45b0>"
      ]
     },
     "execution_count": 39,
     "metadata": {},
     "output_type": "execute_result"
    },
    {
     "name": "stdout",
     "output_type": "stream",
     "text": [
      "train RMSE,MAE: 0.840 0.642\n",
      "test RMSE,MAE: 0.888 0.679 \n",
      "\n",
      "\n",
      "nfactor, lr, reg: 74 0.001 0.08 \n",
      "\n"
     ]
    },
    {
     "data": {
      "text/plain": [
       "<surprise.prediction_algorithms.matrix_factorization.SVD at 0x7f7122ce4e50>"
      ]
     },
     "execution_count": 39,
     "metadata": {},
     "output_type": "execute_result"
    },
    {
     "name": "stdout",
     "output_type": "stream",
     "text": [
      "train RMSE,MAE: 0.842 0.645\n",
      "test RMSE,MAE: 0.887 0.680 \n",
      "\n",
      "\n",
      "nfactor, lr, reg: 74 0.001 0.1 \n",
      "\n"
     ]
    },
    {
     "data": {
      "text/plain": [
       "<surprise.prediction_algorithms.matrix_factorization.SVD at 0x7f7122ce4cd0>"
      ]
     },
     "execution_count": 39,
     "metadata": {},
     "output_type": "execute_result"
    },
    {
     "name": "stdout",
     "output_type": "stream",
     "text": [
      "train RMSE,MAE: 0.843 0.647\n",
      "test RMSE,MAE: 0.888 0.680 \n",
      "\n",
      "\n",
      "nfactor, lr, reg: 74 0.001 0.2 \n",
      "\n"
     ]
    },
    {
     "data": {
      "text/plain": [
       "<surprise.prediction_algorithms.matrix_factorization.SVD at 0x7f7122ce46d0>"
      ]
     },
     "execution_count": 39,
     "metadata": {},
     "output_type": "execute_result"
    },
    {
     "name": "stdout",
     "output_type": "stream",
     "text": [
      "train RMSE,MAE: 0.848 0.654\n",
      "test RMSE,MAE: 0.889 0.684 \n",
      "\n",
      "\n",
      "nfactor, lr, reg: 74 0.001 0.4 \n",
      "\n"
     ]
    },
    {
     "data": {
      "text/plain": [
       "<surprise.prediction_algorithms.matrix_factorization.SVD at 0x7f7122ce4100>"
      ]
     },
     "execution_count": 39,
     "metadata": {},
     "output_type": "execute_result"
    },
    {
     "name": "stdout",
     "output_type": "stream",
     "text": [
      "train RMSE,MAE: 0.857 0.665\n",
      "test RMSE,MAE: 0.893 0.691 \n",
      "\n",
      "\n",
      "nfactor, lr, reg: 74 0.001 0.8 \n",
      "\n"
     ]
    },
    {
     "data": {
      "text/plain": [
       "<surprise.prediction_algorithms.matrix_factorization.SVD at 0x7f7122ce4460>"
      ]
     },
     "execution_count": 39,
     "metadata": {},
     "output_type": "execute_result"
    },
    {
     "name": "stdout",
     "output_type": "stream",
     "text": [
      "train RMSE,MAE: 0.872 0.682\n",
      "test RMSE,MAE: 0.902 0.703 \n",
      "\n",
      "\n",
      "nfactor, lr, reg: 74 0.001 1 \n",
      "\n"
     ]
    },
    {
     "data": {
      "text/plain": [
       "<surprise.prediction_algorithms.matrix_factorization.SVD at 0x7f7122ce45b0>"
      ]
     },
     "execution_count": 39,
     "metadata": {},
     "output_type": "execute_result"
    },
    {
     "name": "stdout",
     "output_type": "stream",
     "text": [
      "train RMSE,MAE: 0.879 0.688\n",
      "test RMSE,MAE: 0.906 0.708 \n",
      "\n",
      "\n",
      "nfactor, lr, reg: 74 0.001 2 \n",
      "\n"
     ]
    },
    {
     "data": {
      "text/plain": [
       "<surprise.prediction_algorithms.matrix_factorization.SVD at 0x7f7122ce4e20>"
      ]
     },
     "execution_count": 39,
     "metadata": {},
     "output_type": "execute_result"
    },
    {
     "name": "stdout",
     "output_type": "stream",
     "text": [
      "train RMSE,MAE: 0.902 0.710\n",
      "test RMSE,MAE: 0.924 0.725 \n",
      "\n",
      "\n",
      "nfactor, lr, reg: 74 0.001 4 \n",
      "\n"
     ]
    },
    {
     "data": {
      "text/plain": [
       "<surprise.prediction_algorithms.matrix_factorization.SVD at 0x7f7122ce46a0>"
      ]
     },
     "execution_count": 39,
     "metadata": {},
     "output_type": "execute_result"
    },
    {
     "name": "stdout",
     "output_type": "stream",
     "text": [
      "train RMSE,MAE: 0.926 0.733\n",
      "test RMSE,MAE: 0.943 0.745 \n",
      "\n",
      "\n",
      "nfactor, lr, reg: 74 0.001 10 \n",
      "\n"
     ]
    },
    {
     "data": {
      "text/plain": [
       "<surprise.prediction_algorithms.matrix_factorization.SVD at 0x7f7122ce4a30>"
      ]
     },
     "execution_count": 39,
     "metadata": {},
     "output_type": "execute_result"
    },
    {
     "name": "stdout",
     "output_type": "stream",
     "text": [
      "train RMSE,MAE: 0.951 0.757\n",
      "test RMSE,MAE: 0.964 0.765 \n",
      "\n",
      "\n",
      "nfactor, lr, reg: 74 0.002 0.01 \n",
      "\n"
     ]
    },
    {
     "data": {
      "text/plain": [
       "<surprise.prediction_algorithms.matrix_factorization.SVD at 0x7f7122ce4fd0>"
      ]
     },
     "execution_count": 39,
     "metadata": {},
     "output_type": "execute_result"
    },
    {
     "name": "stdout",
     "output_type": "stream",
     "text": [
      "train RMSE,MAE: 0.785 0.595\n",
      "test RMSE,MAE: 0.873 0.662 \n",
      "\n",
      "\n",
      "nfactor, lr, reg: 74 0.002 0.02 \n",
      "\n"
     ]
    },
    {
     "data": {
      "text/plain": [
       "<surprise.prediction_algorithms.matrix_factorization.SVD at 0x7f7122ce4460>"
      ]
     },
     "execution_count": 39,
     "metadata": {},
     "output_type": "execute_result"
    },
    {
     "name": "stdout",
     "output_type": "stream",
     "text": [
      "train RMSE,MAE: 0.787 0.597\n",
      "test RMSE,MAE: 0.875 0.663 \n",
      "\n",
      "\n",
      "nfactor, lr, reg: 74 0.002 0.04 \n",
      "\n"
     ]
    },
    {
     "data": {
      "text/plain": [
       "<surprise.prediction_algorithms.matrix_factorization.SVD at 0x7f7122ce46d0>"
      ]
     },
     "execution_count": 39,
     "metadata": {},
     "output_type": "execute_result"
    },
    {
     "name": "stdout",
     "output_type": "stream",
     "text": [
      "train RMSE,MAE: 0.791 0.601\n",
      "test RMSE,MAE: 0.874 0.663 \n",
      "\n",
      "\n",
      "nfactor, lr, reg: 74 0.002 0.08 \n",
      "\n"
     ]
    },
    {
     "data": {
      "text/plain": [
       "<surprise.prediction_algorithms.matrix_factorization.SVD at 0x7f7122ce4100>"
      ]
     },
     "execution_count": 39,
     "metadata": {},
     "output_type": "execute_result"
    },
    {
     "name": "stdout",
     "output_type": "stream",
     "text": [
      "train RMSE,MAE: 0.798 0.609\n",
      "test RMSE,MAE: 0.874 0.665 \n",
      "\n",
      "\n",
      "nfactor, lr, reg: 74 0.002 0.1 \n",
      "\n"
     ]
    },
    {
     "data": {
      "text/plain": [
       "<surprise.prediction_algorithms.matrix_factorization.SVD at 0x7f7122ce4a90>"
      ]
     },
     "execution_count": 39,
     "metadata": {},
     "output_type": "execute_result"
    },
    {
     "name": "stdout",
     "output_type": "stream",
     "text": [
      "train RMSE,MAE: 0.801 0.611\n",
      "test RMSE,MAE: 0.874 0.667 \n",
      "\n",
      "\n",
      "nfactor, lr, reg: 74 0.002 0.2 \n",
      "\n"
     ]
    },
    {
     "data": {
      "text/plain": [
       "<surprise.prediction_algorithms.matrix_factorization.SVD at 0x7f7122ce4430>"
      ]
     },
     "execution_count": 39,
     "metadata": {},
     "output_type": "execute_result"
    },
    {
     "name": "stdout",
     "output_type": "stream",
     "text": [
      "train RMSE,MAE: 0.812 0.624\n",
      "test RMSE,MAE: 0.874 0.670 \n",
      "\n",
      "\n",
      "nfactor, lr, reg: 74 0.002 0.4 \n",
      "\n"
     ]
    },
    {
     "data": {
      "text/plain": [
       "<surprise.prediction_algorithms.matrix_factorization.SVD at 0x7f7122ce4fd0>"
      ]
     },
     "execution_count": 39,
     "metadata": {},
     "output_type": "execute_result"
    },
    {
     "name": "stdout",
     "output_type": "stream",
     "text": [
      "train RMSE,MAE: 0.828 0.641\n",
      "test RMSE,MAE: 0.880 0.680 \n",
      "\n",
      "\n",
      "nfactor, lr, reg: 74 0.002 0.8 \n",
      "\n"
     ]
    },
    {
     "data": {
      "text/plain": [
       "<surprise.prediction_algorithms.matrix_factorization.SVD at 0x7f7122ce46a0>"
      ]
     },
     "execution_count": 39,
     "metadata": {},
     "output_type": "execute_result"
    },
    {
     "name": "stdout",
     "output_type": "stream",
     "text": [
      "train RMSE,MAE: 0.850 0.663\n",
      "test RMSE,MAE: 0.891 0.694 \n",
      "\n",
      "\n",
      "nfactor, lr, reg: 74 0.002 1 \n",
      "\n"
     ]
    },
    {
     "data": {
      "text/plain": [
       "<surprise.prediction_algorithms.matrix_factorization.SVD at 0x7f7122ce4a30>"
      ]
     },
     "execution_count": 39,
     "metadata": {},
     "output_type": "execute_result"
    },
    {
     "name": "stdout",
     "output_type": "stream",
     "text": [
      "train RMSE,MAE: 0.858 0.671\n",
      "test RMSE,MAE: 0.897 0.700 \n",
      "\n",
      "\n",
      "nfactor, lr, reg: 74 0.002 2 \n",
      "\n"
     ]
    },
    {
     "data": {
      "text/plain": [
       "<surprise.prediction_algorithms.matrix_factorization.SVD at 0x7f7122ce45b0>"
      ]
     },
     "execution_count": 39,
     "metadata": {},
     "output_type": "execute_result"
    },
    {
     "name": "stdout",
     "output_type": "stream",
     "text": [
      "train RMSE,MAE: 0.886 0.697\n",
      "test RMSE,MAE: 0.917 0.719 \n",
      "\n",
      "\n",
      "nfactor, lr, reg: 74 0.002 4 \n",
      "\n"
     ]
    },
    {
     "data": {
      "text/plain": [
       "<surprise.prediction_algorithms.matrix_factorization.SVD at 0x7f7122ce41f0>"
      ]
     },
     "execution_count": 39,
     "metadata": {},
     "output_type": "execute_result"
    },
    {
     "name": "stdout",
     "output_type": "stream",
     "text": [
      "train RMSE,MAE: 0.914 0.723\n",
      "test RMSE,MAE: 0.939 0.741 \n",
      "\n",
      "\n",
      "nfactor, lr, reg: 74 0.002 10 \n",
      "\n"
     ]
    },
    {
     "data": {
      "text/plain": [
       "<surprise.prediction_algorithms.matrix_factorization.SVD at 0x7f7122ce4430>"
      ]
     },
     "execution_count": 39,
     "metadata": {},
     "output_type": "execute_result"
    },
    {
     "name": "stdout",
     "output_type": "stream",
     "text": [
      "train RMSE,MAE: 0.946 0.752\n",
      "test RMSE,MAE: 0.962 0.763 \n",
      "\n",
      "\n",
      "nfactor, lr, reg: 74 0.003 0.01 \n",
      "\n"
     ]
    },
    {
     "data": {
      "text/plain": [
       "<surprise.prediction_algorithms.matrix_factorization.SVD at 0x7f7122ce4100>"
      ]
     },
     "execution_count": 39,
     "metadata": {},
     "output_type": "execute_result"
    },
    {
     "name": "stdout",
     "output_type": "stream",
     "text": [
      "train RMSE,MAE: 0.738 0.557\n",
      "test RMSE,MAE: 0.869 0.656 \n",
      "\n",
      "\n",
      "nfactor, lr, reg: 74 0.003 0.02 \n",
      "\n"
     ]
    },
    {
     "data": {
      "text/plain": [
       "<surprise.prediction_algorithms.matrix_factorization.SVD at 0x7f7122ce4a90>"
      ]
     },
     "execution_count": 39,
     "metadata": {},
     "output_type": "execute_result"
    },
    {
     "name": "stdout",
     "output_type": "stream",
     "text": [
      "train RMSE,MAE: 0.743 0.562\n",
      "test RMSE,MAE: 0.867 0.656 \n",
      "\n",
      "\n",
      "nfactor, lr, reg: 74 0.003 0.04 \n",
      "\n"
     ]
    },
    {
     "data": {
      "text/plain": [
       "<surprise.prediction_algorithms.matrix_factorization.SVD at 0x7f7122ce4460>"
      ]
     },
     "execution_count": 39,
     "metadata": {},
     "output_type": "execute_result"
    },
    {
     "name": "stdout",
     "output_type": "stream",
     "text": [
      "train RMSE,MAE: 0.752 0.570\n",
      "test RMSE,MAE: 0.867 0.656 \n",
      "\n",
      "\n",
      "nfactor, lr, reg: 74 0.003 0.08 \n",
      "\n"
     ]
    },
    {
     "data": {
      "text/plain": [
       "<surprise.prediction_algorithms.matrix_factorization.SVD at 0x7f7122ce4cd0>"
      ]
     },
     "execution_count": 39,
     "metadata": {},
     "output_type": "execute_result"
    },
    {
     "name": "stdout",
     "output_type": "stream",
     "text": [
      "train RMSE,MAE: 0.765 0.582\n",
      "test RMSE,MAE: 0.867 0.658 \n",
      "\n",
      "\n",
      "nfactor, lr, reg: 74 0.003 0.1 \n",
      "\n"
     ]
    },
    {
     "data": {
      "text/plain": [
       "<surprise.prediction_algorithms.matrix_factorization.SVD at 0x7f7122ce41f0>"
      ]
     },
     "execution_count": 39,
     "metadata": {},
     "output_type": "execute_result"
    },
    {
     "name": "stdout",
     "output_type": "stream",
     "text": [
      "train RMSE,MAE: 0.770 0.587\n",
      "test RMSE,MAE: 0.867 0.659 \n",
      "\n",
      "\n",
      "nfactor, lr, reg: 74 0.003 0.2 \n",
      "\n"
     ]
    },
    {
     "data": {
      "text/plain": [
       "<surprise.prediction_algorithms.matrix_factorization.SVD at 0x7f7122ce4a30>"
      ]
     },
     "execution_count": 39,
     "metadata": {},
     "output_type": "execute_result"
    },
    {
     "name": "stdout",
     "output_type": "stream",
     "text": [
      "train RMSE,MAE: 0.789 0.605\n",
      "test RMSE,MAE: 0.869 0.664 \n",
      "\n",
      "\n",
      "nfactor, lr, reg: 74 0.003 0.4 \n",
      "\n"
     ]
    },
    {
     "data": {
      "text/plain": [
       "<surprise.prediction_algorithms.matrix_factorization.SVD at 0x7f7122ce4e80>"
      ]
     },
     "execution_count": 39,
     "metadata": {},
     "output_type": "execute_result"
    },
    {
     "name": "stdout",
     "output_type": "stream",
     "text": [
      "train RMSE,MAE: 0.810 0.626\n",
      "test RMSE,MAE: 0.874 0.674 \n",
      "\n",
      "\n",
      "nfactor, lr, reg: 74 0.003 0.8 \n",
      "\n"
     ]
    },
    {
     "data": {
      "text/plain": [
       "<surprise.prediction_algorithms.matrix_factorization.SVD at 0x7f7122ce4790>"
      ]
     },
     "execution_count": 39,
     "metadata": {},
     "output_type": "execute_result"
    },
    {
     "name": "stdout",
     "output_type": "stream",
     "text": [
      "train RMSE,MAE: 0.835 0.651\n",
      "test RMSE,MAE: 0.886 0.690 \n",
      "\n",
      "\n",
      "nfactor, lr, reg: 74 0.003 1 \n",
      "\n"
     ]
    },
    {
     "data": {
      "text/plain": [
       "<surprise.prediction_algorithms.matrix_factorization.SVD at 0x7f7122ce4e20>"
      ]
     },
     "execution_count": 39,
     "metadata": {},
     "output_type": "execute_result"
    },
    {
     "name": "stdout",
     "output_type": "stream",
     "text": [
      "train RMSE,MAE: 0.844 0.660\n",
      "test RMSE,MAE: 0.892 0.696 \n",
      "\n",
      "\n",
      "nfactor, lr, reg: 74 0.003 2 \n",
      "\n"
     ]
    },
    {
     "data": {
      "text/plain": [
       "<surprise.prediction_algorithms.matrix_factorization.SVD at 0x7f7122ce4cd0>"
      ]
     },
     "execution_count": 39,
     "metadata": {},
     "output_type": "execute_result"
    },
    {
     "name": "stdout",
     "output_type": "stream",
     "text": [
      "train RMSE,MAE: 0.875 0.688\n",
      "test RMSE,MAE: 0.914 0.717 \n",
      "\n",
      "\n",
      "nfactor, lr, reg: 74 0.003 4 \n",
      "\n"
     ]
    },
    {
     "data": {
      "text/plain": [
       "<surprise.prediction_algorithms.matrix_factorization.SVD at 0x7f7122ce45b0>"
      ]
     },
     "execution_count": 39,
     "metadata": {},
     "output_type": "execute_result"
    },
    {
     "name": "stdout",
     "output_type": "stream",
     "text": [
      "train RMSE,MAE: 0.907 0.717\n",
      "test RMSE,MAE: 0.937 0.739 \n",
      "\n",
      "\n",
      "nfactor, lr, reg: 74 0.003 10 \n",
      "\n"
     ]
    },
    {
     "data": {
      "text/plain": [
       "<surprise.prediction_algorithms.matrix_factorization.SVD at 0x7f7122ce4460>"
      ]
     },
     "execution_count": 39,
     "metadata": {},
     "output_type": "execute_result"
    },
    {
     "name": "stdout",
     "output_type": "stream",
     "text": [
      "train RMSE,MAE: 0.943 0.750\n",
      "test RMSE,MAE: 0.961 0.762 \n",
      "\n",
      "\n",
      "nfactor, lr, reg: 74 0.004 0.01 \n",
      "\n"
     ]
    },
    {
     "data": {
      "text/plain": [
       "<surprise.prediction_algorithms.matrix_factorization.SVD at 0x7f7122ce42b0>"
      ]
     },
     "execution_count": 39,
     "metadata": {},
     "output_type": "execute_result"
    },
    {
     "name": "stdout",
     "output_type": "stream",
     "text": [
      "train RMSE,MAE: 0.688 0.520\n",
      "test RMSE,MAE: 0.866 0.651 \n",
      "\n",
      "\n",
      "nfactor, lr, reg: 74 0.004 0.02 \n",
      "\n"
     ]
    },
    {
     "data": {
      "text/plain": [
       "<surprise.prediction_algorithms.matrix_factorization.SVD at 0x7f7122ce4430>"
      ]
     },
     "execution_count": 39,
     "metadata": {},
     "output_type": "execute_result"
    },
    {
     "name": "stdout",
     "output_type": "stream",
     "text": [
      "train RMSE,MAE: 0.699 0.529\n",
      "test RMSE,MAE: 0.864 0.651 \n",
      "\n",
      "\n",
      "nfactor, lr, reg: 74 0.004 0.04 \n",
      "\n"
     ]
    },
    {
     "data": {
      "text/plain": [
       "<surprise.prediction_algorithms.matrix_factorization.SVD at 0x7f7122ce4e20>"
      ]
     },
     "execution_count": 39,
     "metadata": {},
     "output_type": "execute_result"
    },
    {
     "name": "stdout",
     "output_type": "stream",
     "text": [
      "train RMSE,MAE: 0.715 0.542\n",
      "test RMSE,MAE: 0.864 0.652 \n",
      "\n",
      "\n",
      "nfactor, lr, reg: 74 0.004 0.08 \n",
      "\n"
     ]
    },
    {
     "data": {
      "text/plain": [
       "<surprise.prediction_algorithms.matrix_factorization.SVD at 0x7f7122ce46d0>"
      ]
     },
     "execution_count": 39,
     "metadata": {},
     "output_type": "execute_result"
    },
    {
     "name": "stdout",
     "output_type": "stream",
     "text": [
      "train RMSE,MAE: 0.736 0.560\n",
      "test RMSE,MAE: 0.863 0.654 \n",
      "\n",
      "\n",
      "nfactor, lr, reg: 74 0.004 0.1 \n",
      "\n"
     ]
    },
    {
     "data": {
      "text/plain": [
       "<surprise.prediction_algorithms.matrix_factorization.SVD at 0x7f7122ce4790>"
      ]
     },
     "execution_count": 39,
     "metadata": {},
     "output_type": "execute_result"
    },
    {
     "name": "stdout",
     "output_type": "stream",
     "text": [
      "train RMSE,MAE: 0.744 0.567\n",
      "test RMSE,MAE: 0.863 0.654 \n",
      "\n",
      "\n",
      "nfactor, lr, reg: 74 0.004 0.2 \n",
      "\n"
     ]
    },
    {
     "data": {
      "text/plain": [
       "<surprise.prediction_algorithms.matrix_factorization.SVD at 0x7f7122ce4fd0>"
      ]
     },
     "execution_count": 39,
     "metadata": {},
     "output_type": "execute_result"
    },
    {
     "name": "stdout",
     "output_type": "stream",
     "text": [
      "train RMSE,MAE: 0.770 0.590\n",
      "test RMSE,MAE: 0.864 0.660 \n",
      "\n",
      "\n",
      "nfactor, lr, reg: 74 0.004 0.4 \n",
      "\n"
     ]
    },
    {
     "data": {
      "text/plain": [
       "<surprise.prediction_algorithms.matrix_factorization.SVD at 0x7f7122ce4a90>"
      ]
     },
     "execution_count": 39,
     "metadata": {},
     "output_type": "execute_result"
    },
    {
     "name": "stdout",
     "output_type": "stream",
     "text": [
      "train RMSE,MAE: 0.797 0.616\n",
      "test RMSE,MAE: 0.871 0.671 \n",
      "\n",
      "\n",
      "nfactor, lr, reg: 74 0.004 0.8 \n",
      "\n"
     ]
    },
    {
     "data": {
      "text/plain": [
       "<surprise.prediction_algorithms.matrix_factorization.SVD at 0x7f7122ce4430>"
      ]
     },
     "execution_count": 39,
     "metadata": {},
     "output_type": "execute_result"
    },
    {
     "name": "stdout",
     "output_type": "stream",
     "text": [
      "train RMSE,MAE: 0.825 0.642\n",
      "test RMSE,MAE: 0.884 0.687 \n",
      "\n",
      "\n",
      "nfactor, lr, reg: 74 0.004 1 \n",
      "\n"
     ]
    },
    {
     "data": {
      "text/plain": [
       "<surprise.prediction_algorithms.matrix_factorization.SVD at 0x7f7122ce46a0>"
      ]
     },
     "execution_count": 39,
     "metadata": {},
     "output_type": "execute_result"
    },
    {
     "name": "stdout",
     "output_type": "stream",
     "text": [
      "train RMSE,MAE: 0.834 0.652\n",
      "test RMSE,MAE: 0.890 0.693 \n",
      "\n",
      "\n",
      "nfactor, lr, reg: 74 0.004 2 \n",
      "\n"
     ]
    },
    {
     "data": {
      "text/plain": [
       "<surprise.prediction_algorithms.matrix_factorization.SVD at 0x7f7122ce42b0>"
      ]
     },
     "execution_count": 39,
     "metadata": {},
     "output_type": "execute_result"
    },
    {
     "name": "stdout",
     "output_type": "stream",
     "text": [
      "train RMSE,MAE: 0.868 0.682\n",
      "test RMSE,MAE: 0.912 0.715 \n",
      "\n",
      "\n",
      "nfactor, lr, reg: 74 0.004 4 \n",
      "\n"
     ]
    },
    {
     "data": {
      "text/plain": [
       "<surprise.prediction_algorithms.matrix_factorization.SVD at 0x7f7122ce4cd0>"
      ]
     },
     "execution_count": 39,
     "metadata": {},
     "output_type": "execute_result"
    },
    {
     "name": "stdout",
     "output_type": "stream",
     "text": [
      "train RMSE,MAE: 0.903 0.713\n",
      "test RMSE,MAE: 0.935 0.737 \n",
      "\n",
      "\n",
      "nfactor, lr, reg: 74 0.004 10 \n",
      "\n"
     ]
    },
    {
     "data": {
      "text/plain": [
       "<surprise.prediction_algorithms.matrix_factorization.SVD at 0x7f7122ce4e80>"
      ]
     },
     "execution_count": 39,
     "metadata": {},
     "output_type": "execute_result"
    },
    {
     "name": "stdout",
     "output_type": "stream",
     "text": [
      "train RMSE,MAE: 0.942 0.749\n",
      "test RMSE,MAE: 0.961 0.761 \n",
      "\n",
      "\n",
      "nfactor, lr, reg: 74 0.005 0.01 \n",
      "\n"
     ]
    },
    {
     "data": {
      "text/plain": [
       "<surprise.prediction_algorithms.matrix_factorization.SVD at 0x7f7122ce4a90>"
      ]
     },
     "execution_count": 39,
     "metadata": {},
     "output_type": "execute_result"
    },
    {
     "name": "stdout",
     "output_type": "stream",
     "text": [
      "train RMSE,MAE: 0.638 0.482\n",
      "test RMSE,MAE: 0.863 0.649 \n",
      "\n",
      "\n",
      "nfactor, lr, reg: 74 0.005 0.02 \n",
      "\n"
     ]
    },
    {
     "data": {
      "text/plain": [
       "<surprise.prediction_algorithms.matrix_factorization.SVD at 0x7f7122ce4430>"
      ]
     },
     "execution_count": 39,
     "metadata": {},
     "output_type": "execute_result"
    },
    {
     "name": "stdout",
     "output_type": "stream",
     "text": [
      "train RMSE,MAE: 0.654 0.495\n",
      "test RMSE,MAE: 0.861 0.647 \n",
      "\n",
      "\n",
      "nfactor, lr, reg: 74 0.005 0.04 \n",
      "\n"
     ]
    },
    {
     "data": {
      "text/plain": [
       "<surprise.prediction_algorithms.matrix_factorization.SVD at 0x7f7122ce46a0>"
      ]
     },
     "execution_count": 39,
     "metadata": {},
     "output_type": "execute_result"
    },
    {
     "name": "stdout",
     "output_type": "stream",
     "text": [
      "train RMSE,MAE: 0.677 0.513\n",
      "test RMSE,MAE: 0.862 0.649 \n",
      "\n",
      "\n",
      "nfactor, lr, reg: 74 0.005 0.08 \n",
      "\n"
     ]
    },
    {
     "data": {
      "text/plain": [
       "<surprise.prediction_algorithms.matrix_factorization.SVD at 0x7f7122ce4eb0>"
      ]
     },
     "execution_count": 39,
     "metadata": {},
     "output_type": "execute_result"
    },
    {
     "name": "stdout",
     "output_type": "stream",
     "text": [
      "train RMSE,MAE: 0.709 0.540\n",
      "test RMSE,MAE: 0.859 0.650 \n",
      "\n",
      "\n",
      "nfactor, lr, reg: 74 0.005 0.1 \n",
      "\n"
     ]
    },
    {
     "data": {
      "text/plain": [
       "<surprise.prediction_algorithms.matrix_factorization.SVD at 0x7f7122ce4c70>"
      ]
     },
     "execution_count": 39,
     "metadata": {},
     "output_type": "execute_result"
    },
    {
     "name": "stdout",
     "output_type": "stream",
     "text": [
      "train RMSE,MAE: 0.721 0.549\n",
      "test RMSE,MAE: 0.860 0.651 \n",
      "\n",
      "\n",
      "nfactor, lr, reg: 74 0.005 0.2 \n",
      "\n"
     ]
    },
    {
     "data": {
      "text/plain": [
       "<surprise.prediction_algorithms.matrix_factorization.SVD at 0x7f7122ce4e80>"
      ]
     },
     "execution_count": 39,
     "metadata": {},
     "output_type": "execute_result"
    },
    {
     "name": "stdout",
     "output_type": "stream",
     "text": [
      "train RMSE,MAE: 0.756 0.578\n",
      "test RMSE,MAE: 0.862 0.657 \n",
      "\n",
      "\n",
      "nfactor, lr, reg: 74 0.005 0.4 \n",
      "\n"
     ]
    },
    {
     "data": {
      "text/plain": [
       "<surprise.prediction_algorithms.matrix_factorization.SVD at 0x7f7122ce4a90>"
      ]
     },
     "execution_count": 39,
     "metadata": {},
     "output_type": "execute_result"
    },
    {
     "name": "stdout",
     "output_type": "stream",
     "text": [
      "train RMSE,MAE: 0.787 0.607\n",
      "test RMSE,MAE: 0.868 0.668 \n",
      "\n",
      "\n",
      "nfactor, lr, reg: 74 0.005 0.8 \n",
      "\n"
     ]
    },
    {
     "data": {
      "text/plain": [
       "<surprise.prediction_algorithms.matrix_factorization.SVD at 0x7f7122ce4cd0>"
      ]
     },
     "execution_count": 39,
     "metadata": {},
     "output_type": "execute_result"
    },
    {
     "name": "stdout",
     "output_type": "stream",
     "text": [
      "train RMSE,MAE: 0.816 0.636\n",
      "test RMSE,MAE: 0.882 0.685 \n",
      "\n",
      "\n",
      "nfactor, lr, reg: 74 0.005 1 \n",
      "\n"
     ]
    },
    {
     "data": {
      "text/plain": [
       "<surprise.prediction_algorithms.matrix_factorization.SVD at 0x7f7122ce4fd0>"
      ]
     },
     "execution_count": 39,
     "metadata": {},
     "output_type": "execute_result"
    },
    {
     "name": "stdout",
     "output_type": "stream",
     "text": [
      "train RMSE,MAE: 0.827 0.645\n",
      "test RMSE,MAE: 0.888 0.692 \n",
      "\n",
      "\n",
      "nfactor, lr, reg: 74 0.005 2 \n",
      "\n"
     ]
    },
    {
     "data": {
      "text/plain": [
       "<surprise.prediction_algorithms.matrix_factorization.SVD at 0x7f7122ce4100>"
      ]
     },
     "execution_count": 39,
     "metadata": {},
     "output_type": "execute_result"
    },
    {
     "name": "stdout",
     "output_type": "stream",
     "text": [
      "train RMSE,MAE: 0.862 0.677\n",
      "test RMSE,MAE: 0.911 0.714 \n",
      "\n",
      "\n",
      "nfactor, lr, reg: 74 0.005 4 \n",
      "\n"
     ]
    },
    {
     "data": {
      "text/plain": [
       "<surprise.prediction_algorithms.matrix_factorization.SVD at 0x7f7122ce4c70>"
      ]
     },
     "execution_count": 39,
     "metadata": {},
     "output_type": "execute_result"
    },
    {
     "name": "stdout",
     "output_type": "stream",
     "text": [
      "train RMSE,MAE: 0.899 0.710\n",
      "test RMSE,MAE: 0.935 0.736 \n",
      "\n",
      "\n",
      "nfactor, lr, reg: 74 0.005 10 \n",
      "\n"
     ]
    },
    {
     "data": {
      "text/plain": [
       "<surprise.prediction_algorithms.matrix_factorization.SVD at 0x7f7122ce4e80>"
      ]
     },
     "execution_count": 39,
     "metadata": {},
     "output_type": "execute_result"
    },
    {
     "name": "stdout",
     "output_type": "stream",
     "text": [
      "train RMSE,MAE: 0.941 0.748\n",
      "test RMSE,MAE: 0.960 0.761 \n",
      "\n",
      "\n",
      "nfactor, lr, reg: 74 0.006 0.01 \n",
      "\n"
     ]
    },
    {
     "data": {
      "text/plain": [
       "<surprise.prediction_algorithms.matrix_factorization.SVD at 0x7f7122ce4eb0>"
      ]
     },
     "execution_count": 39,
     "metadata": {},
     "output_type": "execute_result"
    },
    {
     "name": "stdout",
     "output_type": "stream",
     "text": [
      "train RMSE,MAE: 0.584 0.441\n",
      "test RMSE,MAE: 0.862 0.646 \n",
      "\n",
      "\n",
      "nfactor, lr, reg: 74 0.006 0.02 \n",
      "\n"
     ]
    },
    {
     "data": {
      "text/plain": [
       "<surprise.prediction_algorithms.matrix_factorization.SVD at 0x7f7122ce45b0>"
      ]
     },
     "execution_count": 39,
     "metadata": {},
     "output_type": "execute_result"
    },
    {
     "name": "stdout",
     "output_type": "stream",
     "text": [
      "train RMSE,MAE: 0.606 0.459\n",
      "test RMSE,MAE: 0.861 0.645 \n",
      "\n",
      "\n",
      "nfactor, lr, reg: 74 0.006 0.04 \n",
      "\n"
     ]
    },
    {
     "data": {
      "text/plain": [
       "<surprise.prediction_algorithms.matrix_factorization.SVD at 0x7f7122ce41f0>"
      ]
     },
     "execution_count": 39,
     "metadata": {},
     "output_type": "execute_result"
    },
    {
     "name": "stdout",
     "output_type": "stream",
     "text": [
      "train RMSE,MAE: 0.639 0.485\n",
      "test RMSE,MAE: 0.860 0.646 \n",
      "\n",
      "\n",
      "nfactor, lr, reg: 74 0.006 0.08 \n",
      "\n"
     ]
    },
    {
     "data": {
      "text/plain": [
       "<surprise.prediction_algorithms.matrix_factorization.SVD at 0x7f7122ce4100>"
      ]
     },
     "execution_count": 39,
     "metadata": {},
     "output_type": "execute_result"
    },
    {
     "name": "stdout",
     "output_type": "stream",
     "text": [
      "train RMSE,MAE: 0.682 0.519\n",
      "test RMSE,MAE: 0.857 0.647 \n",
      "\n",
      "\n",
      "nfactor, lr, reg: 74 0.006 0.1 \n",
      "\n"
     ]
    },
    {
     "data": {
      "text/plain": [
       "<surprise.prediction_algorithms.matrix_factorization.SVD at 0x7f7122ce4c70>"
      ]
     },
     "execution_count": 39,
     "metadata": {},
     "output_type": "execute_result"
    },
    {
     "name": "stdout",
     "output_type": "stream",
     "text": [
      "train RMSE,MAE: 0.699 0.532\n",
      "test RMSE,MAE: 0.858 0.649 \n",
      "\n",
      "\n",
      "nfactor, lr, reg: 74 0.006 0.2 \n",
      "\n"
     ]
    },
    {
     "data": {
      "text/plain": [
       "<surprise.prediction_algorithms.matrix_factorization.SVD at 0x7f7122ce4fd0>"
      ]
     },
     "execution_count": 39,
     "metadata": {},
     "output_type": "execute_result"
    },
    {
     "name": "stdout",
     "output_type": "stream",
     "text": [
      "train RMSE,MAE: 0.742 0.568\n",
      "test RMSE,MAE: 0.860 0.654 \n",
      "\n",
      "\n",
      "nfactor, lr, reg: 74 0.006 0.4 \n",
      "\n"
     ]
    },
    {
     "data": {
      "text/plain": [
       "<surprise.prediction_algorithms.matrix_factorization.SVD at 0x7f7122ce4460>"
      ]
     },
     "execution_count": 39,
     "metadata": {},
     "output_type": "execute_result"
    },
    {
     "name": "stdout",
     "output_type": "stream",
     "text": [
      "train RMSE,MAE: 0.778 0.599\n",
      "test RMSE,MAE: 0.867 0.667 \n",
      "\n",
      "\n",
      "nfactor, lr, reg: 74 0.006 0.8 \n",
      "\n"
     ]
    },
    {
     "data": {
      "text/plain": [
       "<surprise.prediction_algorithms.matrix_factorization.SVD at 0x7f7122ce46a0>"
      ]
     },
     "execution_count": 39,
     "metadata": {},
     "output_type": "execute_result"
    },
    {
     "name": "stdout",
     "output_type": "stream",
     "text": [
      "train RMSE,MAE: 0.810 0.630\n",
      "test RMSE,MAE: 0.881 0.684 \n",
      "\n",
      "\n",
      "nfactor, lr, reg: 74 0.006 1 \n",
      "\n"
     ]
    },
    {
     "data": {
      "text/plain": [
       "<surprise.prediction_algorithms.matrix_factorization.SVD at 0x7f7122ce41f0>"
      ]
     },
     "execution_count": 39,
     "metadata": {},
     "output_type": "execute_result"
    },
    {
     "name": "stdout",
     "output_type": "stream",
     "text": [
      "train RMSE,MAE: 0.820 0.640\n",
      "test RMSE,MAE: 0.887 0.690 \n",
      "\n",
      "\n",
      "nfactor, lr, reg: 74 0.006 2 \n",
      "\n"
     ]
    },
    {
     "data": {
      "text/plain": [
       "<surprise.prediction_algorithms.matrix_factorization.SVD at 0x7f7122ce4100>"
      ]
     },
     "execution_count": 39,
     "metadata": {},
     "output_type": "execute_result"
    },
    {
     "name": "stdout",
     "output_type": "stream",
     "text": [
      "train RMSE,MAE: 0.858 0.674\n",
      "test RMSE,MAE: 0.910 0.713 \n",
      "\n",
      "\n",
      "nfactor, lr, reg: 74 0.006 4 \n",
      "\n"
     ]
    },
    {
     "data": {
      "text/plain": [
       "<surprise.prediction_algorithms.matrix_factorization.SVD at 0x7f7122ce45b0>"
      ]
     },
     "execution_count": 39,
     "metadata": {},
     "output_type": "execute_result"
    },
    {
     "name": "stdout",
     "output_type": "stream",
     "text": [
      "train RMSE,MAE: 0.897 0.709\n",
      "test RMSE,MAE: 0.934 0.736 \n",
      "\n",
      "\n",
      "nfactor, lr, reg: 74 0.006 10 \n",
      "\n"
     ]
    },
    {
     "data": {
      "text/plain": [
       "<surprise.prediction_algorithms.matrix_factorization.SVD at 0x7f7122ce42b0>"
      ]
     },
     "execution_count": 39,
     "metadata": {},
     "output_type": "execute_result"
    },
    {
     "name": "stdout",
     "output_type": "stream",
     "text": [
      "train RMSE,MAE: 0.941 0.748\n",
      "test RMSE,MAE: 0.960 0.761 \n",
      "\n",
      "\n",
      "nfactor, lr, reg: 74 0.007 0.01 \n",
      "\n"
     ]
    },
    {
     "data": {
      "text/plain": [
       "<surprise.prediction_algorithms.matrix_factorization.SVD at 0x7f7122ce4cd0>"
      ]
     },
     "execution_count": 39,
     "metadata": {},
     "output_type": "execute_result"
    },
    {
     "name": "stdout",
     "output_type": "stream",
     "text": [
      "train RMSE,MAE: 0.532 0.400\n",
      "test RMSE,MAE: 0.861 0.642 \n",
      "\n",
      "\n",
      "nfactor, lr, reg: 74 0.007 0.02 \n",
      "\n"
     ]
    },
    {
     "data": {
      "text/plain": [
       "<surprise.prediction_algorithms.matrix_factorization.SVD at 0x7f7122ce46a0>"
      ]
     },
     "execution_count": 39,
     "metadata": {},
     "output_type": "execute_result"
    },
    {
     "name": "stdout",
     "output_type": "stream",
     "text": [
      "train RMSE,MAE: 0.556 0.421\n",
      "test RMSE,MAE: 0.860 0.643 \n",
      "\n",
      "\n",
      "nfactor, lr, reg: 74 0.007 0.04 \n",
      "\n"
     ]
    },
    {
     "data": {
      "text/plain": [
       "<surprise.prediction_algorithms.matrix_factorization.SVD at 0x7f7122ce41f0>"
      ]
     },
     "execution_count": 39,
     "metadata": {},
     "output_type": "execute_result"
    },
    {
     "name": "stdout",
     "output_type": "stream",
     "text": [
      "train RMSE,MAE: 0.601 0.457\n",
      "test RMSE,MAE: 0.858 0.643 \n",
      "\n",
      "\n",
      "nfactor, lr, reg: 74 0.007 0.08 \n",
      "\n"
     ]
    },
    {
     "data": {
      "text/plain": [
       "<surprise.prediction_algorithms.matrix_factorization.SVD at 0x7f7122ce4460>"
      ]
     },
     "execution_count": 39,
     "metadata": {},
     "output_type": "execute_result"
    },
    {
     "name": "stdout",
     "output_type": "stream",
     "text": [
      "train RMSE,MAE: 0.659 0.501\n",
      "test RMSE,MAE: 0.857 0.646 \n",
      "\n",
      "\n",
      "nfactor, lr, reg: 74 0.007 0.1 \n",
      "\n"
     ]
    },
    {
     "data": {
      "text/plain": [
       "<surprise.prediction_algorithms.matrix_factorization.SVD at 0x7f7122ce4a30>"
      ]
     },
     "execution_count": 39,
     "metadata": {},
     "output_type": "execute_result"
    },
    {
     "name": "stdout",
     "output_type": "stream",
     "text": [
      "train RMSE,MAE: 0.676 0.515\n",
      "test RMSE,MAE: 0.857 0.646 \n",
      "\n",
      "\n",
      "nfactor, lr, reg: 74 0.007 0.2 \n",
      "\n"
     ]
    },
    {
     "data": {
      "text/plain": [
       "<surprise.prediction_algorithms.matrix_factorization.SVD at 0x7f7122ce4eb0>"
      ]
     },
     "execution_count": 39,
     "metadata": {},
     "output_type": "execute_result"
    },
    {
     "name": "stdout",
     "output_type": "stream",
     "text": [
      "train RMSE,MAE: 0.731 0.558\n",
      "test RMSE,MAE: 0.859 0.653 \n",
      "\n",
      "\n",
      "nfactor, lr, reg: 74 0.007 0.4 \n",
      "\n"
     ]
    },
    {
     "data": {
      "text/plain": [
       "<surprise.prediction_algorithms.matrix_factorization.SVD at 0x7f7122ce4cd0>"
      ]
     },
     "execution_count": 39,
     "metadata": {},
     "output_type": "execute_result"
    },
    {
     "name": "stdout",
     "output_type": "stream",
     "text": [
      "train RMSE,MAE: 0.771 0.593\n",
      "test RMSE,MAE: 0.866 0.665 \n",
      "\n",
      "\n",
      "nfactor, lr, reg: 74 0.007 0.8 \n",
      "\n"
     ]
    },
    {
     "data": {
      "text/plain": [
       "<surprise.prediction_algorithms.matrix_factorization.SVD at 0x7f7122ce46a0>"
      ]
     },
     "execution_count": 39,
     "metadata": {},
     "output_type": "execute_result"
    },
    {
     "name": "stdout",
     "output_type": "stream",
     "text": [
      "train RMSE,MAE: 0.804 0.625\n",
      "test RMSE,MAE: 0.880 0.683 \n",
      "\n",
      "\n",
      "nfactor, lr, reg: 74 0.007 1 \n",
      "\n"
     ]
    },
    {
     "data": {
      "text/plain": [
       "<surprise.prediction_algorithms.matrix_factorization.SVD at 0x7f7122ce42b0>"
      ]
     },
     "execution_count": 39,
     "metadata": {},
     "output_type": "execute_result"
    },
    {
     "name": "stdout",
     "output_type": "stream",
     "text": [
      "train RMSE,MAE: 0.815 0.636\n",
      "test RMSE,MAE: 0.886 0.690 \n",
      "\n",
      "\n",
      "nfactor, lr, reg: 74 0.007 2 \n",
      "\n"
     ]
    },
    {
     "data": {
      "text/plain": [
       "<surprise.prediction_algorithms.matrix_factorization.SVD at 0x7f7122ce42e0>"
      ]
     },
     "execution_count": 39,
     "metadata": {},
     "output_type": "execute_result"
    },
    {
     "name": "stdout",
     "output_type": "stream",
     "text": [
      "train RMSE,MAE: 0.854 0.671\n",
      "test RMSE,MAE: 0.909 0.712 \n",
      "\n",
      "\n",
      "nfactor, lr, reg: 74 0.007 4 \n",
      "\n"
     ]
    },
    {
     "data": {
      "text/plain": [
       "<surprise.prediction_algorithms.matrix_factorization.SVD at 0x7f7122ce4fd0>"
      ]
     },
     "execution_count": 39,
     "metadata": {},
     "output_type": "execute_result"
    },
    {
     "name": "stdout",
     "output_type": "stream",
     "text": [
      "train RMSE,MAE: 0.896 0.707\n",
      "test RMSE,MAE: 0.934 0.736 \n",
      "\n",
      "\n",
      "nfactor, lr, reg: 74 0.007 10 \n",
      "\n"
     ]
    },
    {
     "data": {
      "text/plain": [
       "<surprise.prediction_algorithms.matrix_factorization.SVD at 0x7f7122ce4eb0>"
      ]
     },
     "execution_count": 39,
     "metadata": {},
     "output_type": "execute_result"
    },
    {
     "name": "stdout",
     "output_type": "stream",
     "text": [
      "train RMSE,MAE: 0.941 0.748\n",
      "test RMSE,MAE: 0.960 0.761 \n",
      "\n",
      "\n",
      "nfactor, lr, reg: 74 0.008 0.01 \n",
      "\n"
     ]
    },
    {
     "data": {
      "text/plain": [
       "<surprise.prediction_algorithms.matrix_factorization.SVD at 0x7f7122ce4cd0>"
      ]
     },
     "execution_count": 39,
     "metadata": {},
     "output_type": "execute_result"
    },
    {
     "name": "stdout",
     "output_type": "stream",
     "text": [
      "train RMSE,MAE: 0.479 0.359\n",
      "test RMSE,MAE: 0.864 0.644 \n",
      "\n",
      "\n",
      "nfactor, lr, reg: 74 0.008 0.02 \n",
      "\n"
     ]
    },
    {
     "data": {
      "text/plain": [
       "<surprise.prediction_algorithms.matrix_factorization.SVD at 0x7f7122ce4a30>"
      ]
     },
     "execution_count": 39,
     "metadata": {},
     "output_type": "execute_result"
    },
    {
     "name": "stdout",
     "output_type": "stream",
     "text": [
      "train RMSE,MAE: 0.511 0.386\n",
      "test RMSE,MAE: 0.860 0.641 \n",
      "\n",
      "\n",
      "nfactor, lr, reg: 74 0.008 0.04 \n",
      "\n"
     ]
    },
    {
     "data": {
      "text/plain": [
       "<surprise.prediction_algorithms.matrix_factorization.SVD at 0x7f7122ce4790>"
      ]
     },
     "execution_count": 39,
     "metadata": {},
     "output_type": "execute_result"
    },
    {
     "name": "stdout",
     "output_type": "stream",
     "text": [
      "train RMSE,MAE: 0.563 0.428\n",
      "test RMSE,MAE: 0.858 0.642 \n",
      "\n",
      "\n",
      "nfactor, lr, reg: 74 0.008 0.08 \n",
      "\n"
     ]
    },
    {
     "data": {
      "text/plain": [
       "<surprise.prediction_algorithms.matrix_factorization.SVD at 0x7f7122ce45b0>"
      ]
     },
     "execution_count": 39,
     "metadata": {},
     "output_type": "execute_result"
    },
    {
     "name": "stdout",
     "output_type": "stream",
     "text": [
      "train RMSE,MAE: 0.631 0.481\n",
      "test RMSE,MAE: 0.855 0.644 \n",
      "\n",
      "\n",
      "nfactor, lr, reg: 74 0.008 0.1 \n",
      "\n"
     ]
    },
    {
     "data": {
      "text/plain": [
       "<surprise.prediction_algorithms.matrix_factorization.SVD at 0x7f7122ce4fd0>"
      ]
     },
     "execution_count": 39,
     "metadata": {},
     "output_type": "execute_result"
    },
    {
     "name": "stdout",
     "output_type": "stream",
     "text": [
      "train RMSE,MAE: 0.655 0.499\n",
      "test RMSE,MAE: 0.856 0.646 \n",
      "\n",
      "\n",
      "nfactor, lr, reg: 74 0.008 0.2 \n",
      "\n"
     ]
    },
    {
     "data": {
      "text/plain": [
       "<surprise.prediction_algorithms.matrix_factorization.SVD at 0x7f7122ce4eb0>"
      ]
     },
     "execution_count": 39,
     "metadata": {},
     "output_type": "execute_result"
    },
    {
     "name": "stdout",
     "output_type": "stream",
     "text": [
      "train RMSE,MAE: 0.719 0.550\n",
      "test RMSE,MAE: 0.858 0.652 \n",
      "\n",
      "\n",
      "nfactor, lr, reg: 74 0.008 0.4 \n",
      "\n"
     ]
    },
    {
     "data": {
      "text/plain": [
       "<surprise.prediction_algorithms.matrix_factorization.SVD at 0x7f7122ce42e0>"
      ]
     },
     "execution_count": 39,
     "metadata": {},
     "output_type": "execute_result"
    },
    {
     "name": "stdout",
     "output_type": "stream",
     "text": [
      "train RMSE,MAE: 0.765 0.588\n",
      "test RMSE,MAE: 0.866 0.664 \n",
      "\n",
      "\n",
      "nfactor, lr, reg: 74 0.008 0.8 \n",
      "\n"
     ]
    },
    {
     "data": {
      "text/plain": [
       "<surprise.prediction_algorithms.matrix_factorization.SVD at 0x7f7122ce4430>"
      ]
     },
     "execution_count": 39,
     "metadata": {},
     "output_type": "execute_result"
    },
    {
     "name": "stdout",
     "output_type": "stream",
     "text": [
      "train RMSE,MAE: 0.800 0.621\n",
      "test RMSE,MAE: 0.879 0.682 \n",
      "\n",
      "\n",
      "nfactor, lr, reg: 74 0.008 1 \n",
      "\n"
     ]
    },
    {
     "data": {
      "text/plain": [
       "<surprise.prediction_algorithms.matrix_factorization.SVD at 0x7f7122ce4460>"
      ]
     },
     "execution_count": 39,
     "metadata": {},
     "output_type": "execute_result"
    },
    {
     "name": "stdout",
     "output_type": "stream",
     "text": [
      "train RMSE,MAE: 0.811 0.632\n",
      "test RMSE,MAE: 0.886 0.689 \n",
      "\n",
      "\n",
      "nfactor, lr, reg: 74 0.008 2 \n",
      "\n"
     ]
    },
    {
     "data": {
      "text/plain": [
       "<surprise.prediction_algorithms.matrix_factorization.SVD at 0x7f7122ce4100>"
      ]
     },
     "execution_count": 39,
     "metadata": {},
     "output_type": "execute_result"
    },
    {
     "name": "stdout",
     "output_type": "stream",
     "text": [
      "train RMSE,MAE: 0.852 0.669\n",
      "test RMSE,MAE: 0.909 0.712 \n",
      "\n",
      "\n",
      "nfactor, lr, reg: 74 0.008 4 \n",
      "\n"
     ]
    },
    {
     "data": {
      "text/plain": [
       "<surprise.prediction_algorithms.matrix_factorization.SVD at 0x7f7122ce4fd0>"
      ]
     },
     "execution_count": 39,
     "metadata": {},
     "output_type": "execute_result"
    },
    {
     "name": "stdout",
     "output_type": "stream",
     "text": [
      "train RMSE,MAE: 0.895 0.706\n",
      "test RMSE,MAE: 0.934 0.735 \n",
      "\n",
      "\n",
      "nfactor, lr, reg: 74 0.008 10 \n",
      "\n"
     ]
    },
    {
     "data": {
      "text/plain": [
       "<surprise.prediction_algorithms.matrix_factorization.SVD at 0x7f7122ce4430>"
      ]
     },
     "execution_count": 39,
     "metadata": {},
     "output_type": "execute_result"
    },
    {
     "name": "stdout",
     "output_type": "stream",
     "text": [
      "train RMSE,MAE: 0.941 0.748\n",
      "test RMSE,MAE: 0.960 0.761 \n",
      "\n",
      "\n",
      "nfactor, lr, reg: 74 0.009000000000000001 0.01 \n",
      "\n"
     ]
    },
    {
     "data": {
      "text/plain": [
       "<surprise.prediction_algorithms.matrix_factorization.SVD at 0x7f7122ce45b0>"
      ]
     },
     "execution_count": 39,
     "metadata": {},
     "output_type": "execute_result"
    },
    {
     "name": "stdout",
     "output_type": "stream",
     "text": [
      "train RMSE,MAE: 0.431 0.322\n",
      "test RMSE,MAE: 0.866 0.643 \n",
      "\n",
      "\n",
      "nfactor, lr, reg: 74 0.009000000000000001 0.02 \n",
      "\n"
     ]
    },
    {
     "data": {
      "text/plain": [
       "<surprise.prediction_algorithms.matrix_factorization.SVD at 0x7f7122ce4790>"
      ]
     },
     "execution_count": 39,
     "metadata": {},
     "output_type": "execute_result"
    },
    {
     "name": "stdout",
     "output_type": "stream",
     "text": [
      "train RMSE,MAE: 0.465 0.350\n",
      "test RMSE,MAE: 0.861 0.641 \n",
      "\n",
      "\n",
      "nfactor, lr, reg: 74 0.009000000000000001 0.04 \n",
      "\n"
     ]
    },
    {
     "data": {
      "text/plain": [
       "<surprise.prediction_algorithms.matrix_factorization.SVD at 0x7f7122ce41f0>"
      ]
     },
     "execution_count": 39,
     "metadata": {},
     "output_type": "execute_result"
    },
    {
     "name": "stdout",
     "output_type": "stream",
     "text": [
      "train RMSE,MAE: 0.525 0.399\n",
      "test RMSE,MAE: 0.857 0.641 \n",
      "\n",
      "\n",
      "nfactor, lr, reg: 74 0.009000000000000001 0.08 \n",
      "\n"
     ]
    },
    {
     "data": {
      "text/plain": [
       "<surprise.prediction_algorithms.matrix_factorization.SVD at 0x7f7122ce4100>"
      ]
     },
     "execution_count": 39,
     "metadata": {},
     "output_type": "execute_result"
    },
    {
     "name": "stdout",
     "output_type": "stream",
     "text": [
      "train RMSE,MAE: 0.606 0.462\n",
      "test RMSE,MAE: 0.856 0.643 \n",
      "\n",
      "\n",
      "nfactor, lr, reg: 74 0.009000000000000001 0.1 \n",
      "\n"
     ]
    },
    {
     "data": {
      "text/plain": [
       "<surprise.prediction_algorithms.matrix_factorization.SVD at 0x7f7122ce45b0>"
      ]
     },
     "execution_count": 39,
     "metadata": {},
     "output_type": "execute_result"
    },
    {
     "name": "stdout",
     "output_type": "stream",
     "text": [
      "train RMSE,MAE: 0.635 0.485\n",
      "test RMSE,MAE: 0.855 0.643 \n",
      "\n",
      "\n",
      "nfactor, lr, reg: 74 0.009000000000000001 0.2 \n",
      "\n"
     ]
    },
    {
     "data": {
      "text/plain": [
       "<surprise.prediction_algorithms.matrix_factorization.SVD at 0x7f7122ce4460>"
      ]
     },
     "execution_count": 39,
     "metadata": {},
     "output_type": "execute_result"
    },
    {
     "name": "stdout",
     "output_type": "stream",
     "text": [
      "train RMSE,MAE: 0.710 0.542\n",
      "test RMSE,MAE: 0.858 0.651 \n",
      "\n",
      "\n",
      "nfactor, lr, reg: 74 0.009000000000000001 0.4 \n",
      "\n"
     ]
    },
    {
     "data": {
      "text/plain": [
       "<surprise.prediction_algorithms.matrix_factorization.SVD at 0x7f7122ce4a90>"
      ]
     },
     "execution_count": 39,
     "metadata": {},
     "output_type": "execute_result"
    },
    {
     "name": "stdout",
     "output_type": "stream",
     "text": [
      "train RMSE,MAE: 0.759 0.584\n",
      "test RMSE,MAE: 0.866 0.664 \n",
      "\n",
      "\n",
      "nfactor, lr, reg: 74 0.009000000000000001 0.8 \n",
      "\n"
     ]
    },
    {
     "data": {
      "text/plain": [
       "<surprise.prediction_algorithms.matrix_factorization.SVD at 0x7f7122ce4e80>"
      ]
     },
     "execution_count": 39,
     "metadata": {},
     "output_type": "execute_result"
    },
    {
     "name": "stdout",
     "output_type": "stream",
     "text": [
      "train RMSE,MAE: 0.796 0.618\n",
      "test RMSE,MAE: 0.879 0.682 \n",
      "\n",
      "\n",
      "nfactor, lr, reg: 74 0.009000000000000001 1 \n",
      "\n"
     ]
    },
    {
     "data": {
      "text/plain": [
       "<surprise.prediction_algorithms.matrix_factorization.SVD at 0x7f7122ce41f0>"
      ]
     },
     "execution_count": 39,
     "metadata": {},
     "output_type": "execute_result"
    },
    {
     "name": "stdout",
     "output_type": "stream",
     "text": [
      "train RMSE,MAE: 0.808 0.629\n",
      "test RMSE,MAE: 0.885 0.689 \n",
      "\n",
      "\n",
      "nfactor, lr, reg: 74 0.009000000000000001 2 \n",
      "\n"
     ]
    },
    {
     "data": {
      "text/plain": [
       "<surprise.prediction_algorithms.matrix_factorization.SVD at 0x7f7122ce4cd0>"
      ]
     },
     "execution_count": 39,
     "metadata": {},
     "output_type": "execute_result"
    },
    {
     "name": "stdout",
     "output_type": "stream",
     "text": [
      "train RMSE,MAE: 0.849 0.667\n",
      "test RMSE,MAE: 0.909 0.712 \n",
      "\n",
      "\n",
      "nfactor, lr, reg: 74 0.009000000000000001 4 \n",
      "\n"
     ]
    },
    {
     "data": {
      "text/plain": [
       "<surprise.prediction_algorithms.matrix_factorization.SVD at 0x7f7122ce4790>"
      ]
     },
     "execution_count": 39,
     "metadata": {},
     "output_type": "execute_result"
    },
    {
     "name": "stdout",
     "output_type": "stream",
     "text": [
      "train RMSE,MAE: 0.894 0.706\n",
      "test RMSE,MAE: 0.934 0.735 \n",
      "\n",
      "\n",
      "nfactor, lr, reg: 74 0.009000000000000001 10 \n",
      "\n"
     ]
    },
    {
     "data": {
      "text/plain": [
       "<surprise.prediction_algorithms.matrix_factorization.SVD at 0x7f7122ce45b0>"
      ]
     },
     "execution_count": 39,
     "metadata": {},
     "output_type": "execute_result"
    },
    {
     "name": "stdout",
     "output_type": "stream",
     "text": [
      "train RMSE,MAE: 0.941 0.748\n",
      "test RMSE,MAE: 0.961 0.761 \n",
      "\n",
      "\n",
      "nfactor, lr, reg: 82 0.001 0.01 \n",
      "\n"
     ]
    },
    {
     "data": {
      "text/plain": [
       "<surprise.prediction_algorithms.matrix_factorization.SVD at 0x7f7122ce4100>"
      ]
     },
     "execution_count": 39,
     "metadata": {},
     "output_type": "execute_result"
    },
    {
     "name": "stdout",
     "output_type": "stream",
     "text": [
      "train RMSE,MAE: 0.835 0.638\n",
      "test RMSE,MAE: 0.887 0.678 \n",
      "\n",
      "\n",
      "nfactor, lr, reg: 82 0.001 0.02 \n",
      "\n"
     ]
    },
    {
     "data": {
      "text/plain": [
       "<surprise.prediction_algorithms.matrix_factorization.SVD at 0x7f7122ce4e80>"
      ]
     },
     "execution_count": 39,
     "metadata": {},
     "output_type": "execute_result"
    },
    {
     "name": "stdout",
     "output_type": "stream",
     "text": [
      "train RMSE,MAE: 0.836 0.639\n",
      "test RMSE,MAE: 0.888 0.678 \n",
      "\n",
      "\n",
      "nfactor, lr, reg: 82 0.001 0.04 \n",
      "\n"
     ]
    },
    {
     "data": {
      "text/plain": [
       "<surprise.prediction_algorithms.matrix_factorization.SVD at 0x7f7122ce4460>"
      ]
     },
     "execution_count": 39,
     "metadata": {},
     "output_type": "execute_result"
    },
    {
     "name": "stdout",
     "output_type": "stream",
     "text": [
      "train RMSE,MAE: 0.837 0.641\n",
      "test RMSE,MAE: 0.888 0.678 \n",
      "\n",
      "\n",
      "nfactor, lr, reg: 82 0.001 0.08 \n",
      "\n"
     ]
    },
    {
     "data": {
      "text/plain": [
       "<surprise.prediction_algorithms.matrix_factorization.SVD at 0x7f7122ce4a90>"
      ]
     },
     "execution_count": 39,
     "metadata": {},
     "output_type": "execute_result"
    },
    {
     "name": "stdout",
     "output_type": "stream",
     "text": [
      "train RMSE,MAE: 0.839 0.644\n",
      "test RMSE,MAE: 0.887 0.680 \n",
      "\n",
      "\n",
      "nfactor, lr, reg: 82 0.001 0.1 \n",
      "\n"
     ]
    },
    {
     "data": {
      "text/plain": [
       "<surprise.prediction_algorithms.matrix_factorization.SVD at 0x7f7122ce46a0>"
      ]
     },
     "execution_count": 39,
     "metadata": {},
     "output_type": "execute_result"
    },
    {
     "name": "stdout",
     "output_type": "stream",
     "text": [
      "train RMSE,MAE: 0.841 0.646\n",
      "test RMSE,MAE: 0.888 0.681 \n",
      "\n",
      "\n",
      "nfactor, lr, reg: 82 0.001 0.2 \n",
      "\n"
     ]
    },
    {
     "data": {
      "text/plain": [
       "<surprise.prediction_algorithms.matrix_factorization.SVD at 0x7f7122ce4a30>"
      ]
     },
     "execution_count": 39,
     "metadata": {},
     "output_type": "execute_result"
    },
    {
     "name": "stdout",
     "output_type": "stream",
     "text": [
      "train RMSE,MAE: 0.846 0.652\n",
      "test RMSE,MAE: 0.890 0.685 \n",
      "\n",
      "\n",
      "nfactor, lr, reg: 82 0.001 0.4 \n",
      "\n"
     ]
    },
    {
     "data": {
      "text/plain": [
       "<surprise.prediction_algorithms.matrix_factorization.SVD at 0x7f7122ce4100>"
      ]
     },
     "execution_count": 39,
     "metadata": {},
     "output_type": "execute_result"
    },
    {
     "name": "stdout",
     "output_type": "stream",
     "text": [
      "train RMSE,MAE: 0.856 0.664\n",
      "test RMSE,MAE: 0.893 0.692 \n",
      "\n",
      "\n",
      "nfactor, lr, reg: 82 0.001 0.8 \n",
      "\n"
     ]
    },
    {
     "data": {
      "text/plain": [
       "<surprise.prediction_algorithms.matrix_factorization.SVD at 0x7f7122ce4790>"
      ]
     },
     "execution_count": 39,
     "metadata": {},
     "output_type": "execute_result"
    },
    {
     "name": "stdout",
     "output_type": "stream",
     "text": [
      "train RMSE,MAE: 0.872 0.681\n",
      "test RMSE,MAE: 0.902 0.703 \n",
      "\n",
      "\n",
      "nfactor, lr, reg: 82 0.001 1 \n",
      "\n"
     ]
    },
    {
     "data": {
      "text/plain": [
       "<surprise.prediction_algorithms.matrix_factorization.SVD at 0x7f7122ce45b0>"
      ]
     },
     "execution_count": 39,
     "metadata": {},
     "output_type": "execute_result"
    },
    {
     "name": "stdout",
     "output_type": "stream",
     "text": [
      "train RMSE,MAE: 0.878 0.687\n",
      "test RMSE,MAE: 0.906 0.708 \n",
      "\n",
      "\n",
      "nfactor, lr, reg: 82 0.001 2 \n",
      "\n"
     ]
    },
    {
     "data": {
      "text/plain": [
       "<surprise.prediction_algorithms.matrix_factorization.SVD at 0x7f7122ce41f0>"
      ]
     },
     "execution_count": 39,
     "metadata": {},
     "output_type": "execute_result"
    },
    {
     "name": "stdout",
     "output_type": "stream",
     "text": [
      "train RMSE,MAE: 0.902 0.710\n",
      "test RMSE,MAE: 0.924 0.725 \n",
      "\n",
      "\n",
      "nfactor, lr, reg: 82 0.001 4 \n",
      "\n"
     ]
    },
    {
     "data": {
      "text/plain": [
       "<surprise.prediction_algorithms.matrix_factorization.SVD at 0x7f7122ce4430>"
      ]
     },
     "execution_count": 39,
     "metadata": {},
     "output_type": "execute_result"
    },
    {
     "name": "stdout",
     "output_type": "stream",
     "text": [
      "train RMSE,MAE: 0.926 0.733\n",
      "test RMSE,MAE: 0.943 0.745 \n",
      "\n",
      "\n",
      "nfactor, lr, reg: 82 0.001 10 \n",
      "\n"
     ]
    },
    {
     "data": {
      "text/plain": [
       "<surprise.prediction_algorithms.matrix_factorization.SVD at 0x7f7122ce4a30>"
      ]
     },
     "execution_count": 39,
     "metadata": {},
     "output_type": "execute_result"
    },
    {
     "name": "stdout",
     "output_type": "stream",
     "text": [
      "train RMSE,MAE: 0.951 0.757\n",
      "test RMSE,MAE: 0.964 0.765 \n",
      "\n",
      "\n",
      "nfactor, lr, reg: 82 0.002 0.01 \n",
      "\n"
     ]
    },
    {
     "data": {
      "text/plain": [
       "<surprise.prediction_algorithms.matrix_factorization.SVD at 0x7f7122ce4a90>"
      ]
     },
     "execution_count": 39,
     "metadata": {},
     "output_type": "execute_result"
    },
    {
     "name": "stdout",
     "output_type": "stream",
     "text": [
      "train RMSE,MAE: 0.779 0.590\n",
      "test RMSE,MAE: 0.875 0.663 \n",
      "\n",
      "\n",
      "nfactor, lr, reg: 82 0.002 0.02 \n",
      "\n"
     ]
    },
    {
     "data": {
      "text/plain": [
       "<surprise.prediction_algorithms.matrix_factorization.SVD at 0x7f7122ce46a0>"
      ]
     },
     "execution_count": 39,
     "metadata": {},
     "output_type": "execute_result"
    },
    {
     "name": "stdout",
     "output_type": "stream",
     "text": [
      "train RMSE,MAE: 0.782 0.594\n",
      "test RMSE,MAE: 0.875 0.663 \n",
      "\n",
      "\n",
      "nfactor, lr, reg: 82 0.002 0.04 \n",
      "\n"
     ]
    },
    {
     "data": {
      "text/plain": [
       "<surprise.prediction_algorithms.matrix_factorization.SVD at 0x7f7122ce4e80>"
      ]
     },
     "execution_count": 39,
     "metadata": {},
     "output_type": "execute_result"
    },
    {
     "name": "stdout",
     "output_type": "stream",
     "text": [
      "train RMSE,MAE: 0.787 0.598\n",
      "test RMSE,MAE: 0.875 0.664 \n",
      "\n",
      "\n",
      "nfactor, lr, reg: 82 0.002 0.08 \n",
      "\n"
     ]
    },
    {
     "data": {
      "text/plain": [
       "<surprise.prediction_algorithms.matrix_factorization.SVD at 0x7f7122ce4100>"
      ]
     },
     "execution_count": 39,
     "metadata": {},
     "output_type": "execute_result"
    },
    {
     "name": "stdout",
     "output_type": "stream",
     "text": [
      "train RMSE,MAE: 0.794 0.606\n",
      "test RMSE,MAE: 0.874 0.666 \n",
      "\n",
      "\n",
      "nfactor, lr, reg: 82 0.002 0.1 \n",
      "\n"
     ]
    },
    {
     "data": {
      "text/plain": [
       "<surprise.prediction_algorithms.matrix_factorization.SVD at 0x7f7122ce4430>"
      ]
     },
     "execution_count": 39,
     "metadata": {},
     "output_type": "execute_result"
    },
    {
     "name": "stdout",
     "output_type": "stream",
     "text": [
      "train RMSE,MAE: 0.797 0.609\n",
      "test RMSE,MAE: 0.873 0.666 \n",
      "\n",
      "\n",
      "nfactor, lr, reg: 82 0.002 0.2 \n",
      "\n"
     ]
    },
    {
     "data": {
      "text/plain": [
       "<surprise.prediction_algorithms.matrix_factorization.SVD at 0x7f7122ce46a0>"
      ]
     },
     "execution_count": 39,
     "metadata": {},
     "output_type": "execute_result"
    },
    {
     "name": "stdout",
     "output_type": "stream",
     "text": [
      "train RMSE,MAE: 0.809 0.622\n",
      "test RMSE,MAE: 0.875 0.671 \n",
      "\n",
      "\n",
      "nfactor, lr, reg: 82 0.002 0.4 \n",
      "\n"
     ]
    },
    {
     "data": {
      "text/plain": [
       "<surprise.prediction_algorithms.matrix_factorization.SVD at 0x7f7122ce41f0>"
      ]
     },
     "execution_count": 39,
     "metadata": {},
     "output_type": "execute_result"
    },
    {
     "name": "stdout",
     "output_type": "stream",
     "text": [
      "train RMSE,MAE: 0.826 0.640\n",
      "test RMSE,MAE: 0.880 0.680 \n",
      "\n",
      "\n",
      "nfactor, lr, reg: 82 0.002 0.8 \n",
      "\n"
     ]
    },
    {
     "data": {
      "text/plain": [
       "<surprise.prediction_algorithms.matrix_factorization.SVD at 0x7f7122ce42b0>"
      ]
     },
     "execution_count": 39,
     "metadata": {},
     "output_type": "execute_result"
    },
    {
     "name": "stdout",
     "output_type": "stream",
     "text": [
      "train RMSE,MAE: 0.849 0.662\n",
      "test RMSE,MAE: 0.891 0.694 \n",
      "\n",
      "\n",
      "nfactor, lr, reg: 82 0.002 1 \n",
      "\n"
     ]
    },
    {
     "data": {
      "text/plain": [
       "<surprise.prediction_algorithms.matrix_factorization.SVD at 0x7f7122ce4fd0>"
      ]
     },
     "execution_count": 39,
     "metadata": {},
     "output_type": "execute_result"
    },
    {
     "name": "stdout",
     "output_type": "stream",
     "text": [
      "train RMSE,MAE: 0.857 0.670\n",
      "test RMSE,MAE: 0.897 0.699 \n",
      "\n",
      "\n",
      "nfactor, lr, reg: 82 0.002 2 \n",
      "\n"
     ]
    },
    {
     "data": {
      "text/plain": [
       "<surprise.prediction_algorithms.matrix_factorization.SVD at 0x7f7122ce4100>"
      ]
     },
     "execution_count": 39,
     "metadata": {},
     "output_type": "execute_result"
    },
    {
     "name": "stdout",
     "output_type": "stream",
     "text": [
      "train RMSE,MAE: 0.885 0.697\n",
      "test RMSE,MAE: 0.917 0.720 \n",
      "\n",
      "\n",
      "nfactor, lr, reg: 82 0.002 4 \n",
      "\n"
     ]
    },
    {
     "data": {
      "text/plain": [
       "<surprise.prediction_algorithms.matrix_factorization.SVD at 0x7f7122ce41f0>"
      ]
     },
     "execution_count": 39,
     "metadata": {},
     "output_type": "execute_result"
    },
    {
     "name": "stdout",
     "output_type": "stream",
     "text": [
      "train RMSE,MAE: 0.914 0.723\n",
      "test RMSE,MAE: 0.939 0.741 \n",
      "\n",
      "\n",
      "nfactor, lr, reg: 82 0.002 10 \n",
      "\n"
     ]
    },
    {
     "data": {
      "text/plain": [
       "<surprise.prediction_algorithms.matrix_factorization.SVD at 0x7f7122ce4e80>"
      ]
     },
     "execution_count": 39,
     "metadata": {},
     "output_type": "execute_result"
    },
    {
     "name": "stdout",
     "output_type": "stream",
     "text": [
      "train RMSE,MAE: 0.946 0.752\n",
      "test RMSE,MAE: 0.962 0.763 \n",
      "\n",
      "\n",
      "nfactor, lr, reg: 82 0.003 0.01 \n",
      "\n"
     ]
    },
    {
     "data": {
      "text/plain": [
       "<surprise.prediction_algorithms.matrix_factorization.SVD at 0x7f7122ce4a30>"
      ]
     },
     "execution_count": 39,
     "metadata": {},
     "output_type": "execute_result"
    },
    {
     "name": "stdout",
     "output_type": "stream",
     "text": [
      "train RMSE,MAE: 0.731 0.553\n",
      "test RMSE,MAE: 0.869 0.655 \n",
      "\n",
      "\n",
      "nfactor, lr, reg: 82 0.003 0.02 \n",
      "\n"
     ]
    },
    {
     "data": {
      "text/plain": [
       "<surprise.prediction_algorithms.matrix_factorization.SVD at 0x7f7122ce4cd0>"
      ]
     },
     "execution_count": 39,
     "metadata": {},
     "output_type": "execute_result"
    },
    {
     "name": "stdout",
     "output_type": "stream",
     "text": [
      "train RMSE,MAE: 0.736 0.557\n",
      "test RMSE,MAE: 0.868 0.655 \n",
      "\n",
      "\n",
      "nfactor, lr, reg: 82 0.003 0.04 \n",
      "\n"
     ]
    },
    {
     "data": {
      "text/plain": [
       "<surprise.prediction_algorithms.matrix_factorization.SVD at 0x7f7122ce4fd0>"
      ]
     },
     "execution_count": 39,
     "metadata": {},
     "output_type": "execute_result"
    },
    {
     "name": "stdout",
     "output_type": "stream",
     "text": [
      "train RMSE,MAE: 0.746 0.566\n",
      "test RMSE,MAE: 0.868 0.657 \n",
      "\n",
      "\n",
      "nfactor, lr, reg: 82 0.003 0.08 \n",
      "\n"
     ]
    },
    {
     "data": {
      "text/plain": [
       "<surprise.prediction_algorithms.matrix_factorization.SVD at 0x7f7122ce4e80>"
      ]
     },
     "execution_count": 39,
     "metadata": {},
     "output_type": "execute_result"
    },
    {
     "name": "stdout",
     "output_type": "stream",
     "text": [
      "train RMSE,MAE: 0.760 0.578\n",
      "test RMSE,MAE: 0.867 0.658 \n",
      "\n",
      "\n",
      "nfactor, lr, reg: 82 0.003 0.1 \n",
      "\n"
     ]
    },
    {
     "data": {
      "text/plain": [
       "<surprise.prediction_algorithms.matrix_factorization.SVD at 0x7f7122ce42b0>"
      ]
     },
     "execution_count": 39,
     "metadata": {},
     "output_type": "execute_result"
    },
    {
     "name": "stdout",
     "output_type": "stream",
     "text": [
      "train RMSE,MAE: 0.766 0.584\n",
      "test RMSE,MAE: 0.866 0.659 \n",
      "\n",
      "\n",
      "nfactor, lr, reg: 82 0.003 0.2 \n",
      "\n"
     ]
    },
    {
     "data": {
      "text/plain": [
       "<surprise.prediction_algorithms.matrix_factorization.SVD at 0x7f7122ce4430>"
      ]
     },
     "execution_count": 39,
     "metadata": {},
     "output_type": "execute_result"
    },
    {
     "name": "stdout",
     "output_type": "stream",
     "text": [
      "train RMSE,MAE: 0.785 0.602\n",
      "test RMSE,MAE: 0.868 0.664 \n",
      "\n",
      "\n",
      "nfactor, lr, reg: 82 0.003 0.4 \n",
      "\n"
     ]
    },
    {
     "data": {
      "text/plain": [
       "<surprise.prediction_algorithms.matrix_factorization.SVD at 0x7f7122ce4460>"
      ]
     },
     "execution_count": 39,
     "metadata": {},
     "output_type": "execute_result"
    },
    {
     "name": "stdout",
     "output_type": "stream",
     "text": [
      "train RMSE,MAE: 0.809 0.625\n",
      "test RMSE,MAE: 0.874 0.674 \n",
      "\n",
      "\n",
      "nfactor, lr, reg: 82 0.003 0.8 \n",
      "\n"
     ]
    },
    {
     "data": {
      "text/plain": [
       "<surprise.prediction_algorithms.matrix_factorization.SVD at 0x7f7122ce4cd0>"
      ]
     },
     "execution_count": 39,
     "metadata": {},
     "output_type": "execute_result"
    },
    {
     "name": "stdout",
     "output_type": "stream",
     "text": [
      "train RMSE,MAE: 0.835 0.651\n",
      "test RMSE,MAE: 0.886 0.690 \n",
      "\n",
      "\n",
      "nfactor, lr, reg: 82 0.003 1 \n",
      "\n"
     ]
    },
    {
     "data": {
      "text/plain": [
       "<surprise.prediction_algorithms.matrix_factorization.SVD at 0x7f7122ce42b0>"
      ]
     },
     "execution_count": 39,
     "metadata": {},
     "output_type": "execute_result"
    },
    {
     "name": "stdout",
     "output_type": "stream",
     "text": [
      "train RMSE,MAE: 0.844 0.659\n",
      "test RMSE,MAE: 0.892 0.696 \n",
      "\n",
      "\n",
      "nfactor, lr, reg: 82 0.003 2 \n",
      "\n"
     ]
    },
    {
     "data": {
      "text/plain": [
       "<surprise.prediction_algorithms.matrix_factorization.SVD at 0x7f7122ce4a30>"
      ]
     },
     "execution_count": 39,
     "metadata": {},
     "output_type": "execute_result"
    },
    {
     "name": "stdout",
     "output_type": "stream",
     "text": [
      "train RMSE,MAE: 0.875 0.688\n",
      "test RMSE,MAE: 0.914 0.717 \n",
      "\n",
      "\n",
      "nfactor, lr, reg: 82 0.003 4 \n",
      "\n"
     ]
    },
    {
     "data": {
      "text/plain": [
       "<surprise.prediction_algorithms.matrix_factorization.SVD at 0x7f7122ce4100>"
      ]
     },
     "execution_count": 39,
     "metadata": {},
     "output_type": "execute_result"
    },
    {
     "name": "stdout",
     "output_type": "stream",
     "text": [
      "train RMSE,MAE: 0.907 0.717\n",
      "test RMSE,MAE: 0.937 0.739 \n",
      "\n",
      "\n",
      "nfactor, lr, reg: 82 0.003 10 \n",
      "\n"
     ]
    },
    {
     "data": {
      "text/plain": [
       "<surprise.prediction_algorithms.matrix_factorization.SVD at 0x7f7122ce4790>"
      ]
     },
     "execution_count": 39,
     "metadata": {},
     "output_type": "execute_result"
    },
    {
     "name": "stdout",
     "output_type": "stream",
     "text": [
      "train RMSE,MAE: 0.943 0.750\n",
      "test RMSE,MAE: 0.961 0.762 \n",
      "\n",
      "\n",
      "nfactor, lr, reg: 82 0.004 0.01 \n",
      "\n"
     ]
    },
    {
     "data": {
      "text/plain": [
       "<surprise.prediction_algorithms.matrix_factorization.SVD at 0x7f7122ce4460>"
      ]
     },
     "execution_count": 39,
     "metadata": {},
     "output_type": "execute_result"
    },
    {
     "name": "stdout",
     "output_type": "stream",
     "text": [
      "train RMSE,MAE: 0.680 0.514\n",
      "test RMSE,MAE: 0.867 0.652 \n",
      "\n",
      "\n",
      "nfactor, lr, reg: 82 0.004 0.02 \n",
      "\n"
     ]
    },
    {
     "data": {
      "text/plain": [
       "<surprise.prediction_algorithms.matrix_factorization.SVD at 0x7f7122ce4a30>"
      ]
     },
     "execution_count": 39,
     "metadata": {},
     "output_type": "execute_result"
    },
    {
     "name": "stdout",
     "output_type": "stream",
     "text": [
      "train RMSE,MAE: 0.690 0.522\n",
      "test RMSE,MAE: 0.865 0.651 \n",
      "\n",
      "\n",
      "nfactor, lr, reg: 82 0.004 0.04 \n",
      "\n"
     ]
    },
    {
     "data": {
      "text/plain": [
       "<surprise.prediction_algorithms.matrix_factorization.SVD at 0x7f7122ce4430>"
      ]
     },
     "execution_count": 39,
     "metadata": {},
     "output_type": "execute_result"
    },
    {
     "name": "stdout",
     "output_type": "stream",
     "text": [
      "train RMSE,MAE: 0.706 0.535\n",
      "test RMSE,MAE: 0.863 0.651 \n",
      "\n",
      "\n",
      "nfactor, lr, reg: 82 0.004 0.08 \n",
      "\n"
     ]
    },
    {
     "data": {
      "text/plain": [
       "<surprise.prediction_algorithms.matrix_factorization.SVD at 0x7f7122ce4fd0>"
      ]
     },
     "execution_count": 39,
     "metadata": {},
     "output_type": "execute_result"
    },
    {
     "name": "stdout",
     "output_type": "stream",
     "text": [
      "train RMSE,MAE: 0.730 0.555\n",
      "test RMSE,MAE: 0.862 0.653 \n",
      "\n",
      "\n",
      "nfactor, lr, reg: 82 0.004 0.1 \n",
      "\n"
     ]
    },
    {
     "data": {
      "text/plain": [
       "<surprise.prediction_algorithms.matrix_factorization.SVD at 0x7f7122ce45b0>"
      ]
     },
     "execution_count": 39,
     "metadata": {},
     "output_type": "execute_result"
    },
    {
     "name": "stdout",
     "output_type": "stream",
     "text": [
      "train RMSE,MAE: 0.739 0.562\n",
      "test RMSE,MAE: 0.863 0.655 \n",
      "\n",
      "\n",
      "nfactor, lr, reg: 82 0.004 0.2 \n",
      "\n"
     ]
    },
    {
     "data": {
      "text/plain": [
       "<surprise.prediction_algorithms.matrix_factorization.SVD at 0x7f7122ce4790>"
      ]
     },
     "execution_count": 39,
     "metadata": {},
     "output_type": "execute_result"
    },
    {
     "name": "stdout",
     "output_type": "stream",
     "text": [
      "train RMSE,MAE: 0.767 0.588\n",
      "test RMSE,MAE: 0.865 0.660 \n",
      "\n",
      "\n",
      "nfactor, lr, reg: 82 0.004 0.4 \n",
      "\n"
     ]
    },
    {
     "data": {
      "text/plain": [
       "<surprise.prediction_algorithms.matrix_factorization.SVD at 0x7f7122ce4430>"
      ]
     },
     "execution_count": 39,
     "metadata": {},
     "output_type": "execute_result"
    },
    {
     "name": "stdout",
     "output_type": "stream",
     "text": [
      "train RMSE,MAE: 0.795 0.614\n",
      "test RMSE,MAE: 0.870 0.671 \n",
      "\n",
      "\n",
      "nfactor, lr, reg: 82 0.004 0.8 \n",
      "\n"
     ]
    },
    {
     "data": {
      "text/plain": [
       "<surprise.prediction_algorithms.matrix_factorization.SVD at 0x7f7122ce4100>"
      ]
     },
     "execution_count": 39,
     "metadata": {},
     "output_type": "execute_result"
    },
    {
     "name": "stdout",
     "output_type": "stream",
     "text": [
      "train RMSE,MAE: 0.824 0.642\n",
      "test RMSE,MAE: 0.884 0.687 \n",
      "\n",
      "\n",
      "nfactor, lr, reg: 82 0.004 1 \n",
      "\n"
     ]
    },
    {
     "data": {
      "text/plain": [
       "<surprise.prediction_algorithms.matrix_factorization.SVD at 0x7f7122ce4a90>"
      ]
     },
     "execution_count": 39,
     "metadata": {},
     "output_type": "execute_result"
    },
    {
     "name": "stdout",
     "output_type": "stream",
     "text": [
      "train RMSE,MAE: 0.834 0.651\n",
      "test RMSE,MAE: 0.889 0.693 \n",
      "\n",
      "\n",
      "nfactor, lr, reg: 82 0.004 2 \n",
      "\n"
     ]
    },
    {
     "data": {
      "text/plain": [
       "<surprise.prediction_algorithms.matrix_factorization.SVD at 0x7f7122ce46a0>"
      ]
     },
     "execution_count": 39,
     "metadata": {},
     "output_type": "execute_result"
    },
    {
     "name": "stdout",
     "output_type": "stream",
     "text": [
      "train RMSE,MAE: 0.868 0.682\n",
      "test RMSE,MAE: 0.912 0.715 \n",
      "\n",
      "\n",
      "nfactor, lr, reg: 82 0.004 4 \n",
      "\n"
     ]
    },
    {
     "data": {
      "text/plain": [
       "<surprise.prediction_algorithms.matrix_factorization.SVD at 0x7f7122ce45b0>"
      ]
     },
     "execution_count": 39,
     "metadata": {},
     "output_type": "execute_result"
    },
    {
     "name": "stdout",
     "output_type": "stream",
     "text": [
      "train RMSE,MAE: 0.903 0.713\n",
      "test RMSE,MAE: 0.935 0.737 \n",
      "\n",
      "\n",
      "nfactor, lr, reg: 82 0.004 10 \n",
      "\n"
     ]
    },
    {
     "data": {
      "text/plain": [
       "<surprise.prediction_algorithms.matrix_factorization.SVD at 0x7f7122ce4100>"
      ]
     },
     "execution_count": 39,
     "metadata": {},
     "output_type": "execute_result"
    },
    {
     "name": "stdout",
     "output_type": "stream",
     "text": [
      "train RMSE,MAE: 0.942 0.749\n",
      "test RMSE,MAE: 0.961 0.761 \n",
      "\n",
      "\n",
      "nfactor, lr, reg: 82 0.005 0.01 \n",
      "\n"
     ]
    },
    {
     "data": {
      "text/plain": [
       "<surprise.prediction_algorithms.matrix_factorization.SVD at 0x7f7122ce4fd0>"
      ]
     },
     "execution_count": 39,
     "metadata": {},
     "output_type": "execute_result"
    },
    {
     "name": "stdout",
     "output_type": "stream",
     "text": [
      "train RMSE,MAE: 0.626 0.473\n",
      "test RMSE,MAE: 0.864 0.648 \n",
      "\n",
      "\n",
      "nfactor, lr, reg: 82 0.005 0.02 \n",
      "\n"
     ]
    },
    {
     "data": {
      "text/plain": [
       "<surprise.prediction_algorithms.matrix_factorization.SVD at 0x7f7122ce4460>"
      ]
     },
     "execution_count": 39,
     "metadata": {},
     "output_type": "execute_result"
    },
    {
     "name": "stdout",
     "output_type": "stream",
     "text": [
      "train RMSE,MAE: 0.643 0.486\n",
      "test RMSE,MAE: 0.862 0.647 \n",
      "\n",
      "\n",
      "nfactor, lr, reg: 82 0.005 0.04 \n",
      "\n"
     ]
    },
    {
     "data": {
      "text/plain": [
       "<surprise.prediction_algorithms.matrix_factorization.SVD at 0x7f7122ce4eb0>"
      ]
     },
     "execution_count": 39,
     "metadata": {},
     "output_type": "execute_result"
    },
    {
     "name": "stdout",
     "output_type": "stream",
     "text": [
      "train RMSE,MAE: 0.668 0.507\n",
      "test RMSE,MAE: 0.859 0.647 \n",
      "\n",
      "\n",
      "nfactor, lr, reg: 82 0.005 0.08 \n",
      "\n"
     ]
    },
    {
     "data": {
      "text/plain": [
       "<surprise.prediction_algorithms.matrix_factorization.SVD at 0x7f7122ce46a0>"
      ]
     },
     "execution_count": 39,
     "metadata": {},
     "output_type": "execute_result"
    },
    {
     "name": "stdout",
     "output_type": "stream",
     "text": [
      "train RMSE,MAE: 0.702 0.534\n",
      "test RMSE,MAE: 0.860 0.651 \n",
      "\n",
      "\n",
      "nfactor, lr, reg: 82 0.005 0.1 \n",
      "\n"
     ]
    },
    {
     "data": {
      "text/plain": [
       "<surprise.prediction_algorithms.matrix_factorization.SVD at 0x7f7122ce4fd0>"
      ]
     },
     "execution_count": 39,
     "metadata": {},
     "output_type": "execute_result"
    },
    {
     "name": "stdout",
     "output_type": "stream",
     "text": [
      "train RMSE,MAE: 0.715 0.544\n",
      "test RMSE,MAE: 0.860 0.651 \n",
      "\n",
      "\n",
      "nfactor, lr, reg: 82 0.005 0.2 \n",
      "\n"
     ]
    },
    {
     "data": {
      "text/plain": [
       "<surprise.prediction_algorithms.matrix_factorization.SVD at 0x7f7122ce4a90>"
      ]
     },
     "execution_count": 39,
     "metadata": {},
     "output_type": "execute_result"
    },
    {
     "name": "stdout",
     "output_type": "stream",
     "text": [
      "train RMSE,MAE: 0.752 0.575\n",
      "test RMSE,MAE: 0.863 0.658 \n",
      "\n",
      "\n",
      "nfactor, lr, reg: 82 0.005 0.4 \n",
      "\n"
     ]
    },
    {
     "data": {
      "text/plain": [
       "<surprise.prediction_algorithms.matrix_factorization.SVD at 0x7f7122ce41f0>"
      ]
     },
     "execution_count": 39,
     "metadata": {},
     "output_type": "execute_result"
    },
    {
     "name": "stdout",
     "output_type": "stream",
     "text": [
      "train RMSE,MAE: 0.785 0.606\n",
      "test RMSE,MAE: 0.868 0.668 \n",
      "\n",
      "\n",
      "nfactor, lr, reg: 82 0.005 0.8 \n",
      "\n"
     ]
    },
    {
     "data": {
      "text/plain": [
       "<surprise.prediction_algorithms.matrix_factorization.SVD at 0x7f7122ce42e0>"
      ]
     },
     "execution_count": 39,
     "metadata": {},
     "output_type": "execute_result"
    },
    {
     "name": "stdout",
     "output_type": "stream",
     "text": [
      "train RMSE,MAE: 0.816 0.635\n",
      "test RMSE,MAE: 0.882 0.685 \n",
      "\n",
      "\n",
      "nfactor, lr, reg: 82 0.005 1 \n",
      "\n"
     ]
    },
    {
     "data": {
      "text/plain": [
       "<surprise.prediction_algorithms.matrix_factorization.SVD at 0x7f7122ce4eb0>"
      ]
     },
     "execution_count": 39,
     "metadata": {},
     "output_type": "execute_result"
    },
    {
     "name": "stdout",
     "output_type": "stream",
     "text": [
      "train RMSE,MAE: 0.826 0.645\n",
      "test RMSE,MAE: 0.888 0.692 \n",
      "\n",
      "\n",
      "nfactor, lr, reg: 82 0.005 2 \n",
      "\n"
     ]
    },
    {
     "data": {
      "text/plain": [
       "<surprise.prediction_algorithms.matrix_factorization.SVD at 0x7f7122ce4a90>"
      ]
     },
     "execution_count": 39,
     "metadata": {},
     "output_type": "execute_result"
    },
    {
     "name": "stdout",
     "output_type": "stream",
     "text": [
      "train RMSE,MAE: 0.862 0.677\n",
      "test RMSE,MAE: 0.911 0.714 \n",
      "\n",
      "\n",
      "nfactor, lr, reg: 82 0.005 4 \n",
      "\n"
     ]
    },
    {
     "data": {
      "text/plain": [
       "<surprise.prediction_algorithms.matrix_factorization.SVD at 0x7f7122ce4460>"
      ]
     },
     "execution_count": 39,
     "metadata": {},
     "output_type": "execute_result"
    },
    {
     "name": "stdout",
     "output_type": "stream",
     "text": [
      "train RMSE,MAE: 0.899 0.710\n",
      "test RMSE,MAE: 0.935 0.736 \n",
      "\n",
      "\n",
      "nfactor, lr, reg: 82 0.005 10 \n",
      "\n"
     ]
    },
    {
     "data": {
      "text/plain": [
       "<surprise.prediction_algorithms.matrix_factorization.SVD at 0x7f7122ce4e80>"
      ]
     },
     "execution_count": 39,
     "metadata": {},
     "output_type": "execute_result"
    },
    {
     "name": "stdout",
     "output_type": "stream",
     "text": [
      "train RMSE,MAE: 0.941 0.748\n",
      "test RMSE,MAE: 0.960 0.761 \n",
      "\n",
      "\n",
      "nfactor, lr, reg: 82 0.006 0.01 \n",
      "\n"
     ]
    },
    {
     "data": {
      "text/plain": [
       "<surprise.prediction_algorithms.matrix_factorization.SVD at 0x7f7122ce41f0>"
      ]
     },
     "execution_count": 39,
     "metadata": {},
     "output_type": "execute_result"
    },
    {
     "name": "stdout",
     "output_type": "stream",
     "text": [
      "train RMSE,MAE: 0.571 0.431\n",
      "test RMSE,MAE: 0.863 0.646 \n",
      "\n",
      "\n",
      "nfactor, lr, reg: 82 0.006 0.02 \n",
      "\n"
     ]
    },
    {
     "data": {
      "text/plain": [
       "<surprise.prediction_algorithms.matrix_factorization.SVD at 0x7f7122ce42e0>"
      ]
     },
     "execution_count": 39,
     "metadata": {},
     "output_type": "execute_result"
    },
    {
     "name": "stdout",
     "output_type": "stream",
     "text": [
      "train RMSE,MAE: 0.591 0.447\n",
      "test RMSE,MAE: 0.860 0.645 \n",
      "\n",
      "\n",
      "nfactor, lr, reg: 82 0.006 0.04 \n",
      "\n"
     ]
    },
    {
     "data": {
      "text/plain": [
       "<surprise.prediction_algorithms.matrix_factorization.SVD at 0x7f7122ce46a0>"
      ]
     },
     "execution_count": 39,
     "metadata": {},
     "output_type": "execute_result"
    },
    {
     "name": "stdout",
     "output_type": "stream",
     "text": [
      "train RMSE,MAE: 0.628 0.477\n",
      "test RMSE,MAE: 0.859 0.646 \n",
      "\n",
      "\n",
      "nfactor, lr, reg: 82 0.006 0.08 \n",
      "\n"
     ]
    },
    {
     "data": {
      "text/plain": [
       "<surprise.prediction_algorithms.matrix_factorization.SVD at 0x7f7122ce4a30>"
      ]
     },
     "execution_count": 39,
     "metadata": {},
     "output_type": "execute_result"
    },
    {
     "name": "stdout",
     "output_type": "stream",
     "text": [
      "train RMSE,MAE: 0.674 0.513\n",
      "test RMSE,MAE: 0.858 0.647 \n",
      "\n",
      "\n",
      "nfactor, lr, reg: 82 0.006 0.1 \n",
      "\n"
     ]
    },
    {
     "data": {
      "text/plain": [
       "<surprise.prediction_algorithms.matrix_factorization.SVD at 0x7f7122ce4100>"
      ]
     },
     "execution_count": 39,
     "metadata": {},
     "output_type": "execute_result"
    },
    {
     "name": "stdout",
     "output_type": "stream",
     "text": [
      "train RMSE,MAE: 0.691 0.527\n",
      "test RMSE,MAE: 0.858 0.649 \n",
      "\n",
      "\n",
      "nfactor, lr, reg: 82 0.006 0.2 \n",
      "\n"
     ]
    },
    {
     "data": {
      "text/plain": [
       "<surprise.prediction_algorithms.matrix_factorization.SVD at 0x7f7122ce4e80>"
      ]
     },
     "execution_count": 39,
     "metadata": {},
     "output_type": "execute_result"
    },
    {
     "name": "stdout",
     "output_type": "stream",
     "text": [
      "train RMSE,MAE: 0.738 0.565\n",
      "test RMSE,MAE: 0.860 0.655 \n",
      "\n",
      "\n",
      "nfactor, lr, reg: 82 0.006 0.4 \n",
      "\n"
     ]
    },
    {
     "data": {
      "text/plain": [
       "<surprise.prediction_algorithms.matrix_factorization.SVD at 0x7f7122ce41f0>"
      ]
     },
     "execution_count": 39,
     "metadata": {},
     "output_type": "execute_result"
    },
    {
     "name": "stdout",
     "output_type": "stream",
     "text": [
      "train RMSE,MAE: 0.776 0.598\n",
      "test RMSE,MAE: 0.867 0.667 \n",
      "\n",
      "\n",
      "nfactor, lr, reg: 82 0.006 0.8 \n",
      "\n"
     ]
    },
    {
     "data": {
      "text/plain": [
       "<surprise.prediction_algorithms.matrix_factorization.SVD at 0x7f7122ce4460>"
      ]
     },
     "execution_count": 39,
     "metadata": {},
     "output_type": "execute_result"
    },
    {
     "name": "stdout",
     "output_type": "stream",
     "text": [
      "train RMSE,MAE: 0.809 0.630\n",
      "test RMSE,MAE: 0.880 0.684 \n",
      "\n",
      "\n",
      "nfactor, lr, reg: 82 0.006 1 \n",
      "\n"
     ]
    },
    {
     "data": {
      "text/plain": [
       "<surprise.prediction_algorithms.matrix_factorization.SVD at 0x7f7122ce4430>"
      ]
     },
     "execution_count": 39,
     "metadata": {},
     "output_type": "execute_result"
    },
    {
     "name": "stdout",
     "output_type": "stream",
     "text": [
      "train RMSE,MAE: 0.820 0.640\n",
      "test RMSE,MAE: 0.887 0.690 \n",
      "\n",
      "\n",
      "nfactor, lr, reg: 82 0.006 2 \n",
      "\n"
     ]
    },
    {
     "data": {
      "text/plain": [
       "<surprise.prediction_algorithms.matrix_factorization.SVD at 0x7f7122ce4fd0>"
      ]
     },
     "execution_count": 39,
     "metadata": {},
     "output_type": "execute_result"
    },
    {
     "name": "stdout",
     "output_type": "stream",
     "text": [
      "train RMSE,MAE: 0.858 0.674\n",
      "test RMSE,MAE: 0.910 0.713 \n",
      "\n",
      "\n",
      "nfactor, lr, reg: 82 0.006 4 \n",
      "\n"
     ]
    },
    {
     "data": {
      "text/plain": [
       "<surprise.prediction_algorithms.matrix_factorization.SVD at 0x7f7122ce4100>"
      ]
     },
     "execution_count": 39,
     "metadata": {},
     "output_type": "execute_result"
    },
    {
     "name": "stdout",
     "output_type": "stream",
     "text": [
      "train RMSE,MAE: 0.897 0.709\n",
      "test RMSE,MAE: 0.934 0.736 \n",
      "\n",
      "\n",
      "nfactor, lr, reg: 82 0.006 10 \n",
      "\n"
     ]
    },
    {
     "data": {
      "text/plain": [
       "<surprise.prediction_algorithms.matrix_factorization.SVD at 0x7f7122ce4e80>"
      ]
     },
     "execution_count": 39,
     "metadata": {},
     "output_type": "execute_result"
    },
    {
     "name": "stdout",
     "output_type": "stream",
     "text": [
      "train RMSE,MAE: 0.941 0.748\n",
      "test RMSE,MAE: 0.960 0.761 \n",
      "\n",
      "\n",
      "nfactor, lr, reg: 82 0.007 0.01 \n",
      "\n"
     ]
    },
    {
     "data": {
      "text/plain": [
       "<surprise.prediction_algorithms.matrix_factorization.SVD at 0x7f7122ce4a30>"
      ]
     },
     "execution_count": 39,
     "metadata": {},
     "output_type": "execute_result"
    },
    {
     "name": "stdout",
     "output_type": "stream",
     "text": [
      "train RMSE,MAE: 0.514 0.387\n",
      "test RMSE,MAE: 0.861 0.642 \n",
      "\n",
      "\n",
      "nfactor, lr, reg: 82 0.007 0.02 \n",
      "\n"
     ]
    },
    {
     "data": {
      "text/plain": [
       "<surprise.prediction_algorithms.matrix_factorization.SVD at 0x7f7122ce4cd0>"
      ]
     },
     "execution_count": 39,
     "metadata": {},
     "output_type": "execute_result"
    },
    {
     "name": "stdout",
     "output_type": "stream",
     "text": [
      "train RMSE,MAE: 0.544 0.411\n",
      "test RMSE,MAE: 0.860 0.644 \n",
      "\n",
      "\n",
      "nfactor, lr, reg: 82 0.007 0.04 \n",
      "\n"
     ]
    },
    {
     "data": {
      "text/plain": [
       "<surprise.prediction_algorithms.matrix_factorization.SVD at 0x7f7122ce4a90>"
      ]
     },
     "execution_count": 39,
     "metadata": {},
     "output_type": "execute_result"
    },
    {
     "name": "stdout",
     "output_type": "stream",
     "text": [
      "train RMSE,MAE: 0.588 0.447\n",
      "test RMSE,MAE: 0.857 0.643 \n",
      "\n",
      "\n",
      "nfactor, lr, reg: 82 0.007 0.08 \n",
      "\n"
     ]
    },
    {
     "data": {
      "text/plain": [
       "<surprise.prediction_algorithms.matrix_factorization.SVD at 0x7f7122ce4fd0>"
      ]
     },
     "execution_count": 39,
     "metadata": {},
     "output_type": "execute_result"
    },
    {
     "name": "stdout",
     "output_type": "stream",
     "text": [
      "train RMSE,MAE: 0.649 0.494\n",
      "test RMSE,MAE: 0.856 0.645 \n",
      "\n",
      "\n",
      "nfactor, lr, reg: 82 0.007 0.1 \n",
      "\n"
     ]
    },
    {
     "data": {
      "text/plain": [
       "<surprise.prediction_algorithms.matrix_factorization.SVD at 0x7f7122ce4100>"
      ]
     },
     "execution_count": 39,
     "metadata": {},
     "output_type": "execute_result"
    },
    {
     "name": "stdout",
     "output_type": "stream",
     "text": [
      "train RMSE,MAE: 0.668 0.509\n",
      "test RMSE,MAE: 0.858 0.647 \n",
      "\n",
      "\n",
      "nfactor, lr, reg: 82 0.007 0.2 \n",
      "\n"
     ]
    },
    {
     "data": {
      "text/plain": [
       "<surprise.prediction_algorithms.matrix_factorization.SVD at 0x7f7122ce4430>"
      ]
     },
     "execution_count": 39,
     "metadata": {},
     "output_type": "execute_result"
    },
    {
     "name": "stdout",
     "output_type": "stream",
     "text": [
      "train RMSE,MAE: 0.726 0.555\n",
      "test RMSE,MAE: 0.859 0.653 \n",
      "\n",
      "\n",
      "nfactor, lr, reg: 82 0.007 0.4 \n",
      "\n"
     ]
    },
    {
     "data": {
      "text/plain": [
       "<surprise.prediction_algorithms.matrix_factorization.SVD at 0x7f7122ce45b0>"
      ]
     },
     "execution_count": 39,
     "metadata": {},
     "output_type": "execute_result"
    },
    {
     "name": "stdout",
     "output_type": "stream",
     "text": [
      "train RMSE,MAE: 0.769 0.592\n",
      "test RMSE,MAE: 0.866 0.665 \n",
      "\n",
      "\n",
      "nfactor, lr, reg: 82 0.007 0.8 \n",
      "\n"
     ]
    },
    {
     "data": {
      "text/plain": [
       "<surprise.prediction_algorithms.matrix_factorization.SVD at 0x7f7122ce46a0>"
      ]
     },
     "execution_count": 39,
     "metadata": {},
     "output_type": "execute_result"
    },
    {
     "name": "stdout",
     "output_type": "stream",
     "text": [
      "train RMSE,MAE: 0.804 0.625\n",
      "test RMSE,MAE: 0.880 0.683 \n",
      "\n",
      "\n",
      "nfactor, lr, reg: 82 0.007 1 \n",
      "\n"
     ]
    },
    {
     "data": {
      "text/plain": [
       "<surprise.prediction_algorithms.matrix_factorization.SVD at 0x7f7122ce4a90>"
      ]
     },
     "execution_count": 39,
     "metadata": {},
     "output_type": "execute_result"
    },
    {
     "name": "stdout",
     "output_type": "stream",
     "text": [
      "train RMSE,MAE: 0.815 0.636\n",
      "test RMSE,MAE: 0.886 0.690 \n",
      "\n",
      "\n",
      "nfactor, lr, reg: 82 0.007 2 \n",
      "\n"
     ]
    },
    {
     "data": {
      "text/plain": [
       "<surprise.prediction_algorithms.matrix_factorization.SVD at 0x7f7122ce4fd0>"
      ]
     },
     "execution_count": 39,
     "metadata": {},
     "output_type": "execute_result"
    },
    {
     "name": "stdout",
     "output_type": "stream",
     "text": [
      "train RMSE,MAE: 0.854 0.671\n",
      "test RMSE,MAE: 0.909 0.712 \n",
      "\n",
      "\n",
      "nfactor, lr, reg: 82 0.007 4 \n",
      "\n"
     ]
    },
    {
     "data": {
      "text/plain": [
       "<surprise.prediction_algorithms.matrix_factorization.SVD at 0x7f7122ce4cd0>"
      ]
     },
     "execution_count": 39,
     "metadata": {},
     "output_type": "execute_result"
    },
    {
     "name": "stdout",
     "output_type": "stream",
     "text": [
      "train RMSE,MAE: 0.896 0.707\n",
      "test RMSE,MAE: 0.934 0.736 \n",
      "\n",
      "\n",
      "nfactor, lr, reg: 82 0.007 10 \n",
      "\n"
     ]
    },
    {
     "data": {
      "text/plain": [
       "<surprise.prediction_algorithms.matrix_factorization.SVD at 0x7f7122ce42b0>"
      ]
     },
     "execution_count": 39,
     "metadata": {},
     "output_type": "execute_result"
    },
    {
     "name": "stdout",
     "output_type": "stream",
     "text": [
      "train RMSE,MAE: 0.941 0.748\n",
      "test RMSE,MAE: 0.960 0.761 \n",
      "\n",
      "\n",
      "nfactor, lr, reg: 82 0.008 0.01 \n",
      "\n"
     ]
    },
    {
     "data": {
      "text/plain": [
       "<surprise.prediction_algorithms.matrix_factorization.SVD at 0x7f7122ce4460>"
      ]
     },
     "execution_count": 39,
     "metadata": {},
     "output_type": "execute_result"
    },
    {
     "name": "stdout",
     "output_type": "stream",
     "text": [
      "train RMSE,MAE: 0.462 0.347\n",
      "test RMSE,MAE: 0.863 0.643 \n",
      "\n",
      "\n",
      "nfactor, lr, reg: 82 0.008 0.02 \n",
      "\n"
     ]
    },
    {
     "data": {
      "text/plain": [
       "<surprise.prediction_algorithms.matrix_factorization.SVD at 0x7f7122ce46a0>"
      ]
     },
     "execution_count": 39,
     "metadata": {},
     "output_type": "execute_result"
    },
    {
     "name": "stdout",
     "output_type": "stream",
     "text": [
      "train RMSE,MAE: 0.495 0.375\n",
      "test RMSE,MAE: 0.861 0.644 \n",
      "\n",
      "\n",
      "nfactor, lr, reg: 82 0.008 0.04 \n",
      "\n"
     ]
    },
    {
     "data": {
      "text/plain": [
       "<surprise.prediction_algorithms.matrix_factorization.SVD at 0x7f7122ce4a90>"
      ]
     },
     "execution_count": 39,
     "metadata": {},
     "output_type": "execute_result"
    },
    {
     "name": "stdout",
     "output_type": "stream",
     "text": [
      "train RMSE,MAE: 0.549 0.417\n",
      "test RMSE,MAE: 0.857 0.643 \n",
      "\n",
      "\n",
      "nfactor, lr, reg: 82 0.008 0.08 \n",
      "\n"
     ]
    },
    {
     "data": {
      "text/plain": [
       "<surprise.prediction_algorithms.matrix_factorization.SVD at 0x7f7122ce45b0>"
      ]
     },
     "execution_count": 39,
     "metadata": {},
     "output_type": "execute_result"
    },
    {
     "name": "stdout",
     "output_type": "stream",
     "text": [
      "train RMSE,MAE: 0.621 0.474\n",
      "test RMSE,MAE: 0.855 0.643 \n",
      "\n",
      "\n",
      "nfactor, lr, reg: 82 0.008 0.1 \n",
      "\n"
     ]
    },
    {
     "data": {
      "text/plain": [
       "<surprise.prediction_algorithms.matrix_factorization.SVD at 0x7f7122ce42e0>"
      ]
     },
     "execution_count": 39,
     "metadata": {},
     "output_type": "execute_result"
    },
    {
     "name": "stdout",
     "output_type": "stream",
     "text": [
      "train RMSE,MAE: 0.647 0.494\n",
      "test RMSE,MAE: 0.856 0.645 \n",
      "\n",
      "\n",
      "nfactor, lr, reg: 82 0.008 0.2 \n",
      "\n"
     ]
    },
    {
     "data": {
      "text/plain": [
       "<surprise.prediction_algorithms.matrix_factorization.SVD at 0x7f7122ce4a30>"
      ]
     },
     "execution_count": 39,
     "metadata": {},
     "output_type": "execute_result"
    },
    {
     "name": "stdout",
     "output_type": "stream",
     "text": [
      "train RMSE,MAE: 0.716 0.547\n",
      "test RMSE,MAE: 0.858 0.652 \n",
      "\n",
      "\n",
      "nfactor, lr, reg: 82 0.008 0.4 \n",
      "\n"
     ]
    },
    {
     "data": {
      "text/plain": [
       "<surprise.prediction_algorithms.matrix_factorization.SVD at 0x7f7122ce4460>"
      ]
     },
     "execution_count": 39,
     "metadata": {},
     "output_type": "execute_result"
    },
    {
     "name": "stdout",
     "output_type": "stream",
     "text": [
      "train RMSE,MAE: 0.763 0.587\n",
      "test RMSE,MAE: 0.866 0.664 \n",
      "\n",
      "\n",
      "nfactor, lr, reg: 82 0.008 0.8 \n",
      "\n"
     ]
    },
    {
     "data": {
      "text/plain": [
       "<surprise.prediction_algorithms.matrix_factorization.SVD at 0x7f7122ce46a0>"
      ]
     },
     "execution_count": 39,
     "metadata": {},
     "output_type": "execute_result"
    },
    {
     "name": "stdout",
     "output_type": "stream",
     "text": [
      "train RMSE,MAE: 0.799 0.621\n",
      "test RMSE,MAE: 0.879 0.682 \n",
      "\n",
      "\n",
      "nfactor, lr, reg: 82 0.008 1 \n",
      "\n"
     ]
    },
    {
     "data": {
      "text/plain": [
       "<surprise.prediction_algorithms.matrix_factorization.SVD at 0x7f7122ce42b0>"
      ]
     },
     "execution_count": 39,
     "metadata": {},
     "output_type": "execute_result"
    },
    {
     "name": "stdout",
     "output_type": "stream",
     "text": [
      "train RMSE,MAE: 0.811 0.632\n",
      "test RMSE,MAE: 0.886 0.689 \n",
      "\n",
      "\n",
      "nfactor, lr, reg: 82 0.008 2 \n",
      "\n"
     ]
    },
    {
     "data": {
      "text/plain": [
       "<surprise.prediction_algorithms.matrix_factorization.SVD at 0x7f7122ce4790>"
      ]
     },
     "execution_count": 39,
     "metadata": {},
     "output_type": "execute_result"
    },
    {
     "name": "stdout",
     "output_type": "stream",
     "text": [
      "train RMSE,MAE: 0.852 0.668\n",
      "test RMSE,MAE: 0.909 0.712 \n",
      "\n",
      "\n",
      "nfactor, lr, reg: 82 0.008 4 \n",
      "\n"
     ]
    },
    {
     "data": {
      "text/plain": [
       "<surprise.prediction_algorithms.matrix_factorization.SVD at 0x7f7122ce4430>"
      ]
     },
     "execution_count": 39,
     "metadata": {},
     "output_type": "execute_result"
    },
    {
     "name": "stdout",
     "output_type": "stream",
     "text": [
      "train RMSE,MAE: 0.895 0.706\n",
      "test RMSE,MAE: 0.934 0.735 \n",
      "\n",
      "\n",
      "nfactor, lr, reg: 82 0.008 10 \n",
      "\n"
     ]
    },
    {
     "data": {
      "text/plain": [
       "<surprise.prediction_algorithms.matrix_factorization.SVD at 0x7f7122ce4a30>"
      ]
     },
     "execution_count": 39,
     "metadata": {},
     "output_type": "execute_result"
    },
    {
     "name": "stdout",
     "output_type": "stream",
     "text": [
      "train RMSE,MAE: 0.941 0.748\n",
      "test RMSE,MAE: 0.960 0.761 \n",
      "\n",
      "\n",
      "nfactor, lr, reg: 82 0.009000000000000001 0.01 \n",
      "\n"
     ]
    },
    {
     "data": {
      "text/plain": [
       "<surprise.prediction_algorithms.matrix_factorization.SVD at 0x7f7122ce4460>"
      ]
     },
     "execution_count": 39,
     "metadata": {},
     "output_type": "execute_result"
    },
    {
     "name": "stdout",
     "output_type": "stream",
     "text": [
      "train RMSE,MAE: 0.413 0.307\n",
      "test RMSE,MAE: 0.866 0.643 \n",
      "\n",
      "\n",
      "nfactor, lr, reg: 82 0.009000000000000001 0.02 \n",
      "\n"
     ]
    },
    {
     "data": {
      "text/plain": [
       "<surprise.prediction_algorithms.matrix_factorization.SVD at 0x7f7122ce42e0>"
      ]
     },
     "execution_count": 39,
     "metadata": {},
     "output_type": "execute_result"
    },
    {
     "name": "stdout",
     "output_type": "stream",
     "text": [
      "train RMSE,MAE: 0.450 0.339\n",
      "test RMSE,MAE: 0.862 0.642 \n",
      "\n",
      "\n",
      "nfactor, lr, reg: 82 0.009000000000000001 0.04 \n",
      "\n"
     ]
    },
    {
     "data": {
      "text/plain": [
       "<surprise.prediction_algorithms.matrix_factorization.SVD at 0x7f7122ce4eb0>"
      ]
     },
     "execution_count": 39,
     "metadata": {},
     "output_type": "execute_result"
    },
    {
     "name": "stdout",
     "output_type": "stream",
     "text": [
      "train RMSE,MAE: 0.512 0.389\n",
      "test RMSE,MAE: 0.858 0.640 \n",
      "\n",
      "\n",
      "nfactor, lr, reg: 82 0.009000000000000001 0.08 \n",
      "\n"
     ]
    },
    {
     "data": {
      "text/plain": [
       "<surprise.prediction_algorithms.matrix_factorization.SVD at 0x7f7122ce4cd0>"
      ]
     },
     "execution_count": 39,
     "metadata": {},
     "output_type": "execute_result"
    },
    {
     "name": "stdout",
     "output_type": "stream",
     "text": [
      "train RMSE,MAE: 0.596 0.455\n",
      "test RMSE,MAE: 0.856 0.643 \n",
      "\n",
      "\n",
      "nfactor, lr, reg: 82 0.009000000000000001 0.1 \n",
      "\n"
     ]
    },
    {
     "data": {
      "text/plain": [
       "<surprise.prediction_algorithms.matrix_factorization.SVD at 0x7f7122ce4430>"
      ]
     },
     "execution_count": 39,
     "metadata": {},
     "output_type": "execute_result"
    },
    {
     "name": "stdout",
     "output_type": "stream",
     "text": [
      "train RMSE,MAE: 0.624 0.477\n",
      "test RMSE,MAE: 0.854 0.642 \n",
      "\n",
      "\n",
      "nfactor, lr, reg: 82 0.009000000000000001 0.2 \n",
      "\n"
     ]
    },
    {
     "data": {
      "text/plain": [
       "<surprise.prediction_algorithms.matrix_factorization.SVD at 0x7f7122ce4a30>"
      ]
     },
     "execution_count": 39,
     "metadata": {},
     "output_type": "execute_result"
    },
    {
     "name": "stdout",
     "output_type": "stream",
     "text": [
      "train RMSE,MAE: 0.705 0.538\n",
      "test RMSE,MAE: 0.858 0.651 \n",
      "\n",
      "\n",
      "nfactor, lr, reg: 82 0.009000000000000001 0.4 \n",
      "\n"
     ]
    },
    {
     "data": {
      "text/plain": [
       "<surprise.prediction_algorithms.matrix_factorization.SVD at 0x7f7122ce4790>"
      ]
     },
     "execution_count": 39,
     "metadata": {},
     "output_type": "execute_result"
    },
    {
     "name": "stdout",
     "output_type": "stream",
     "text": [
      "train RMSE,MAE: 0.758 0.582\n",
      "test RMSE,MAE: 0.865 0.664 \n",
      "\n",
      "\n",
      "nfactor, lr, reg: 82 0.009000000000000001 0.8 \n",
      "\n"
     ]
    },
    {
     "data": {
      "text/plain": [
       "<surprise.prediction_algorithms.matrix_factorization.SVD at 0x7f7122ce4c70>"
      ]
     },
     "execution_count": 39,
     "metadata": {},
     "output_type": "execute_result"
    },
    {
     "name": "stdout",
     "output_type": "stream",
     "text": [
      "train RMSE,MAE: 0.795 0.618\n",
      "test RMSE,MAE: 0.879 0.682 \n",
      "\n",
      "\n",
      "nfactor, lr, reg: 82 0.009000000000000001 1 \n",
      "\n"
     ]
    },
    {
     "data": {
      "text/plain": [
       "<surprise.prediction_algorithms.matrix_factorization.SVD at 0x7f7122ce45b0>"
      ]
     },
     "execution_count": 39,
     "metadata": {},
     "output_type": "execute_result"
    },
    {
     "name": "stdout",
     "output_type": "stream",
     "text": [
      "train RMSE,MAE: 0.807 0.629\n",
      "test RMSE,MAE: 0.885 0.689 \n",
      "\n",
      "\n",
      "nfactor, lr, reg: 82 0.009000000000000001 2 \n",
      "\n"
     ]
    },
    {
     "data": {
      "text/plain": [
       "<surprise.prediction_algorithms.matrix_factorization.SVD at 0x7f7122ce4cd0>"
      ]
     },
     "execution_count": 39,
     "metadata": {},
     "output_type": "execute_result"
    },
    {
     "name": "stdout",
     "output_type": "stream",
     "text": [
      "train RMSE,MAE: 0.849 0.667\n",
      "test RMSE,MAE: 0.909 0.712 \n",
      "\n",
      "\n",
      "nfactor, lr, reg: 82 0.009000000000000001 4 \n",
      "\n"
     ]
    },
    {
     "data": {
      "text/plain": [
       "<surprise.prediction_algorithms.matrix_factorization.SVD at 0x7f7122ce4430>"
      ]
     },
     "execution_count": 39,
     "metadata": {},
     "output_type": "execute_result"
    },
    {
     "name": "stdout",
     "output_type": "stream",
     "text": [
      "train RMSE,MAE: 0.894 0.706\n",
      "test RMSE,MAE: 0.934 0.735 \n",
      "\n",
      "\n",
      "nfactor, lr, reg: 82 0.009000000000000001 10 \n",
      "\n"
     ]
    },
    {
     "data": {
      "text/plain": [
       "<surprise.prediction_algorithms.matrix_factorization.SVD at 0x7f7122ce4eb0>"
      ]
     },
     "execution_count": 39,
     "metadata": {},
     "output_type": "execute_result"
    },
    {
     "name": "stdout",
     "output_type": "stream",
     "text": [
      "train RMSE,MAE: 0.941 0.748\n",
      "test RMSE,MAE: 0.961 0.761 \n",
      "\n",
      "\n",
      "nfactor, lr, reg: 90 0.001 0.01 \n",
      "\n"
     ]
    },
    {
     "data": {
      "text/plain": [
       "<surprise.prediction_algorithms.matrix_factorization.SVD at 0x7f7122ce41f0>"
      ]
     },
     "execution_count": 39,
     "metadata": {},
     "output_type": "execute_result"
    },
    {
     "name": "stdout",
     "output_type": "stream",
     "text": [
      "train RMSE,MAE: 0.833 0.636\n",
      "test RMSE,MAE: 0.888 0.678 \n",
      "\n",
      "\n",
      "nfactor, lr, reg: 90 0.001 0.02 \n",
      "\n"
     ]
    },
    {
     "data": {
      "text/plain": [
       "<surprise.prediction_algorithms.matrix_factorization.SVD at 0x7f7122ce42b0>"
      ]
     },
     "execution_count": 39,
     "metadata": {},
     "output_type": "execute_result"
    },
    {
     "name": "stdout",
     "output_type": "stream",
     "text": [
      "train RMSE,MAE: 0.834 0.637\n",
      "test RMSE,MAE: 0.888 0.678 \n",
      "\n",
      "\n",
      "nfactor, lr, reg: 90 0.001 0.04 \n",
      "\n"
     ]
    },
    {
     "data": {
      "text/plain": [
       "<surprise.prediction_algorithms.matrix_factorization.SVD at 0x7f7122ce45b0>"
      ]
     },
     "execution_count": 39,
     "metadata": {},
     "output_type": "execute_result"
    },
    {
     "name": "stdout",
     "output_type": "stream",
     "text": [
      "train RMSE,MAE: 0.835 0.639\n",
      "test RMSE,MAE: 0.889 0.680 \n",
      "\n",
      "\n",
      "nfactor, lr, reg: 90 0.001 0.08 \n",
      "\n"
     ]
    },
    {
     "data": {
      "text/plain": [
       "<surprise.prediction_algorithms.matrix_factorization.SVD at 0x7f7122ce4cd0>"
      ]
     },
     "execution_count": 39,
     "metadata": {},
     "output_type": "execute_result"
    },
    {
     "name": "stdout",
     "output_type": "stream",
     "text": [
      "train RMSE,MAE: 0.837 0.642\n",
      "test RMSE,MAE: 0.889 0.682 \n",
      "\n",
      "\n",
      "nfactor, lr, reg: 90 0.001 0.1 \n",
      "\n"
     ]
    },
    {
     "data": {
      "text/plain": [
       "<surprise.prediction_algorithms.matrix_factorization.SVD at 0x7f7122ce4c70>"
      ]
     },
     "execution_count": 39,
     "metadata": {},
     "output_type": "execute_result"
    },
    {
     "name": "stdout",
     "output_type": "stream",
     "text": [
      "train RMSE,MAE: 0.839 0.644\n",
      "test RMSE,MAE: 0.888 0.681 \n",
      "\n",
      "\n",
      "nfactor, lr, reg: 90 0.001 0.2 \n",
      "\n"
     ]
    },
    {
     "data": {
      "text/plain": [
       "<surprise.prediction_algorithms.matrix_factorization.SVD at 0x7f7122ce4e80>"
      ]
     },
     "execution_count": 39,
     "metadata": {},
     "output_type": "execute_result"
    },
    {
     "name": "stdout",
     "output_type": "stream",
     "text": [
      "train RMSE,MAE: 0.845 0.651\n",
      "test RMSE,MAE: 0.889 0.684 \n",
      "\n",
      "\n",
      "nfactor, lr, reg: 90 0.001 0.4 \n",
      "\n"
     ]
    },
    {
     "data": {
      "text/plain": [
       "<surprise.prediction_algorithms.matrix_factorization.SVD at 0x7f7122ce42e0>"
      ]
     },
     "execution_count": 39,
     "metadata": {},
     "output_type": "execute_result"
    },
    {
     "name": "stdout",
     "output_type": "stream",
     "text": [
      "train RMSE,MAE: 0.855 0.663\n",
      "test RMSE,MAE: 0.892 0.691 \n",
      "\n",
      "\n",
      "nfactor, lr, reg: 90 0.001 0.8 \n",
      "\n"
     ]
    },
    {
     "data": {
      "text/plain": [
       "<surprise.prediction_algorithms.matrix_factorization.SVD at 0x7f7122ce42b0>"
      ]
     },
     "execution_count": 39,
     "metadata": {},
     "output_type": "execute_result"
    },
    {
     "name": "stdout",
     "output_type": "stream",
     "text": [
      "train RMSE,MAE: 0.871 0.681\n",
      "test RMSE,MAE: 0.902 0.703 \n",
      "\n",
      "\n",
      "nfactor, lr, reg: 90 0.001 1 \n",
      "\n"
     ]
    },
    {
     "data": {
      "text/plain": [
       "<surprise.prediction_algorithms.matrix_factorization.SVD at 0x7f7122ce45b0>"
      ]
     },
     "execution_count": 39,
     "metadata": {},
     "output_type": "execute_result"
    },
    {
     "name": "stdout",
     "output_type": "stream",
     "text": [
      "train RMSE,MAE: 0.878 0.687\n",
      "test RMSE,MAE: 0.906 0.708 \n",
      "\n",
      "\n",
      "nfactor, lr, reg: 90 0.001 2 \n",
      "\n"
     ]
    },
    {
     "data": {
      "text/plain": [
       "<surprise.prediction_algorithms.matrix_factorization.SVD at 0x7f7122ce41f0>"
      ]
     },
     "execution_count": 39,
     "metadata": {},
     "output_type": "execute_result"
    },
    {
     "name": "stdout",
     "output_type": "stream",
     "text": [
      "train RMSE,MAE: 0.901 0.710\n",
      "test RMSE,MAE: 0.924 0.725 \n",
      "\n",
      "\n",
      "nfactor, lr, reg: 90 0.001 4 \n",
      "\n"
     ]
    },
    {
     "data": {
      "text/plain": [
       "<surprise.prediction_algorithms.matrix_factorization.SVD at 0x7f7122ce4100>"
      ]
     },
     "execution_count": 39,
     "metadata": {},
     "output_type": "execute_result"
    },
    {
     "name": "stdout",
     "output_type": "stream",
     "text": [
      "train RMSE,MAE: 0.926 0.733\n",
      "test RMSE,MAE: 0.943 0.745 \n",
      "\n",
      "\n",
      "nfactor, lr, reg: 90 0.001 10 \n",
      "\n"
     ]
    },
    {
     "data": {
      "text/plain": [
       "<surprise.prediction_algorithms.matrix_factorization.SVD at 0x7f7122ce4790>"
      ]
     },
     "execution_count": 39,
     "metadata": {},
     "output_type": "execute_result"
    },
    {
     "name": "stdout",
     "output_type": "stream",
     "text": [
      "train RMSE,MAE: 0.951 0.757\n",
      "test RMSE,MAE: 0.964 0.765 \n",
      "\n",
      "\n",
      "nfactor, lr, reg: 90 0.002 0.01 \n",
      "\n"
     ]
    },
    {
     "data": {
      "text/plain": [
       "<surprise.prediction_algorithms.matrix_factorization.SVD at 0x7f7122ce42e0>"
      ]
     },
     "execution_count": 39,
     "metadata": {},
     "output_type": "execute_result"
    },
    {
     "name": "stdout",
     "output_type": "stream",
     "text": [
      "train RMSE,MAE: 0.774 0.587\n",
      "test RMSE,MAE: 0.876 0.664 \n",
      "\n",
      "\n",
      "nfactor, lr, reg: 90 0.002 0.02 \n",
      "\n"
     ]
    },
    {
     "data": {
      "text/plain": [
       "<surprise.prediction_algorithms.matrix_factorization.SVD at 0x7f7122ce42b0>"
      ]
     },
     "execution_count": 39,
     "metadata": {},
     "output_type": "execute_result"
    },
    {
     "name": "stdout",
     "output_type": "stream",
     "text": [
      "train RMSE,MAE: 0.777 0.590\n",
      "test RMSE,MAE: 0.874 0.663 \n",
      "\n",
      "\n",
      "nfactor, lr, reg: 90 0.002 0.04 \n",
      "\n"
     ]
    },
    {
     "data": {
      "text/plain": [
       "<surprise.prediction_algorithms.matrix_factorization.SVD at 0x7f7122ce4e80>"
      ]
     },
     "execution_count": 39,
     "metadata": {},
     "output_type": "execute_result"
    },
    {
     "name": "stdout",
     "output_type": "stream",
     "text": [
      "train RMSE,MAE: 0.783 0.595\n",
      "test RMSE,MAE: 0.874 0.664 \n",
      "\n",
      "\n",
      "nfactor, lr, reg: 90 0.002 0.08 \n",
      "\n"
     ]
    },
    {
     "data": {
      "text/plain": [
       "<surprise.prediction_algorithms.matrix_factorization.SVD at 0x7f7122ce4fd0>"
      ]
     },
     "execution_count": 39,
     "metadata": {},
     "output_type": "execute_result"
    },
    {
     "name": "stdout",
     "output_type": "stream",
     "text": [
      "train RMSE,MAE: 0.790 0.603\n",
      "test RMSE,MAE: 0.873 0.665 \n",
      "\n",
      "\n",
      "nfactor, lr, reg: 90 0.002 0.1 \n",
      "\n"
     ]
    },
    {
     "data": {
      "text/plain": [
       "<surprise.prediction_algorithms.matrix_factorization.SVD at 0x7f7122ce4460>"
      ]
     },
     "execution_count": 39,
     "metadata": {},
     "output_type": "execute_result"
    },
    {
     "name": "stdout",
     "output_type": "stream",
     "text": [
      "train RMSE,MAE: 0.794 0.606\n",
      "test RMSE,MAE: 0.874 0.666 \n",
      "\n",
      "\n",
      "nfactor, lr, reg: 90 0.002 0.2 \n",
      "\n"
     ]
    },
    {
     "data": {
      "text/plain": [
       "<surprise.prediction_algorithms.matrix_factorization.SVD at 0x7f7122ce4790>"
      ]
     },
     "execution_count": 39,
     "metadata": {},
     "output_type": "execute_result"
    },
    {
     "name": "stdout",
     "output_type": "stream",
     "text": [
      "train RMSE,MAE: 0.807 0.620\n",
      "test RMSE,MAE: 0.875 0.670 \n",
      "\n",
      "\n",
      "nfactor, lr, reg: 90 0.002 0.4 \n",
      "\n"
     ]
    },
    {
     "data": {
      "text/plain": [
       "<surprise.prediction_algorithms.matrix_factorization.SVD at 0x7f7122ce4a90>"
      ]
     },
     "execution_count": 39,
     "metadata": {},
     "output_type": "execute_result"
    },
    {
     "name": "stdout",
     "output_type": "stream",
     "text": [
      "train RMSE,MAE: 0.825 0.639\n",
      "test RMSE,MAE: 0.880 0.680 \n",
      "\n",
      "\n",
      "nfactor, lr, reg: 90 0.002 0.8 \n",
      "\n"
     ]
    },
    {
     "data": {
      "text/plain": [
       "<surprise.prediction_algorithms.matrix_factorization.SVD at 0x7f7122ce4430>"
      ]
     },
     "execution_count": 39,
     "metadata": {},
     "output_type": "execute_result"
    },
    {
     "name": "stdout",
     "output_type": "stream",
     "text": [
      "train RMSE,MAE: 0.848 0.662\n",
      "test RMSE,MAE: 0.891 0.694 \n",
      "\n",
      "\n",
      "nfactor, lr, reg: 90 0.002 1 \n",
      "\n"
     ]
    },
    {
     "data": {
      "text/plain": [
       "<surprise.prediction_algorithms.matrix_factorization.SVD at 0x7f7122ce41f0>"
      ]
     },
     "execution_count": 39,
     "metadata": {},
     "output_type": "execute_result"
    },
    {
     "name": "stdout",
     "output_type": "stream",
     "text": [
      "train RMSE,MAE: 0.856 0.670\n",
      "test RMSE,MAE: 0.896 0.699 \n",
      "\n",
      "\n",
      "nfactor, lr, reg: 90 0.002 2 \n",
      "\n"
     ]
    },
    {
     "data": {
      "text/plain": [
       "<surprise.prediction_algorithms.matrix_factorization.SVD at 0x7f7122ce4a30>"
      ]
     },
     "execution_count": 39,
     "metadata": {},
     "output_type": "execute_result"
    },
    {
     "name": "stdout",
     "output_type": "stream",
     "text": [
      "train RMSE,MAE: 0.885 0.696\n",
      "test RMSE,MAE: 0.917 0.719 \n",
      "\n",
      "\n",
      "nfactor, lr, reg: 90 0.002 4 \n",
      "\n"
     ]
    },
    {
     "data": {
      "text/plain": [
       "<surprise.prediction_algorithms.matrix_factorization.SVD at 0x7f7122ce4460>"
      ]
     },
     "execution_count": 39,
     "metadata": {},
     "output_type": "execute_result"
    },
    {
     "name": "stdout",
     "output_type": "stream",
     "text": [
      "train RMSE,MAE: 0.914 0.723\n",
      "test RMSE,MAE: 0.939 0.741 \n",
      "\n",
      "\n",
      "nfactor, lr, reg: 90 0.002 10 \n",
      "\n"
     ]
    },
    {
     "data": {
      "text/plain": [
       "<surprise.prediction_algorithms.matrix_factorization.SVD at 0x7f7122ce4e80>"
      ]
     },
     "execution_count": 39,
     "metadata": {},
     "output_type": "execute_result"
    },
    {
     "name": "stdout",
     "output_type": "stream",
     "text": [
      "train RMSE,MAE: 0.946 0.752\n",
      "test RMSE,MAE: 0.962 0.763 \n",
      "\n",
      "\n",
      "nfactor, lr, reg: 90 0.003 0.01 \n",
      "\n"
     ]
    },
    {
     "data": {
      "text/plain": [
       "<surprise.prediction_algorithms.matrix_factorization.SVD at 0x7f7122ce4fd0>"
      ]
     },
     "execution_count": 39,
     "metadata": {},
     "output_type": "execute_result"
    },
    {
     "name": "stdout",
     "output_type": "stream",
     "text": [
      "train RMSE,MAE: 0.723 0.546\n",
      "test RMSE,MAE: 0.869 0.656 \n",
      "\n",
      "\n",
      "nfactor, lr, reg: 90 0.003 0.02 \n",
      "\n"
     ]
    },
    {
     "data": {
      "text/plain": [
       "<surprise.prediction_algorithms.matrix_factorization.SVD at 0x7f7122ce42e0>"
      ]
     },
     "execution_count": 39,
     "metadata": {},
     "output_type": "execute_result"
    },
    {
     "name": "stdout",
     "output_type": "stream",
     "text": [
      "train RMSE,MAE: 0.730 0.553\n",
      "test RMSE,MAE: 0.868 0.657 \n",
      "\n",
      "\n",
      "nfactor, lr, reg: 90 0.003 0.04 \n",
      "\n"
     ]
    },
    {
     "data": {
      "text/plain": [
       "<surprise.prediction_algorithms.matrix_factorization.SVD at 0x7f7122ce4cd0>"
      ]
     },
     "execution_count": 39,
     "metadata": {},
     "output_type": "execute_result"
    },
    {
     "name": "stdout",
     "output_type": "stream",
     "text": [
      "train RMSE,MAE: 0.740 0.561\n",
      "test RMSE,MAE: 0.865 0.655 \n",
      "\n",
      "\n",
      "nfactor, lr, reg: 90 0.003 0.08 \n",
      "\n"
     ]
    },
    {
     "data": {
      "text/plain": [
       "<surprise.prediction_algorithms.matrix_factorization.SVD at 0x7f7122ce4a30>"
      ]
     },
     "execution_count": 39,
     "metadata": {},
     "output_type": "execute_result"
    },
    {
     "name": "stdout",
     "output_type": "stream",
     "text": [
      "train RMSE,MAE: 0.755 0.575\n",
      "test RMSE,MAE: 0.867 0.658 \n",
      "\n",
      "\n",
      "nfactor, lr, reg: 90 0.003 0.1 \n",
      "\n"
     ]
    },
    {
     "data": {
      "text/plain": [
       "<surprise.prediction_algorithms.matrix_factorization.SVD at 0x7f7122ce4430>"
      ]
     },
     "execution_count": 39,
     "metadata": {},
     "output_type": "execute_result"
    },
    {
     "name": "stdout",
     "output_type": "stream",
     "text": [
      "train RMSE,MAE: 0.761 0.580\n",
      "test RMSE,MAE: 0.867 0.659 \n",
      "\n",
      "\n",
      "nfactor, lr, reg: 90 0.003 0.2 \n",
      "\n"
     ]
    },
    {
     "data": {
      "text/plain": [
       "<surprise.prediction_algorithms.matrix_factorization.SVD at 0x7f7122ce41f0>"
      ]
     },
     "execution_count": 39,
     "metadata": {},
     "output_type": "execute_result"
    },
    {
     "name": "stdout",
     "output_type": "stream",
     "text": [
      "train RMSE,MAE: 0.783 0.600\n",
      "test RMSE,MAE: 0.869 0.664 \n",
      "\n",
      "\n",
      "nfactor, lr, reg: 90 0.003 0.4 \n",
      "\n"
     ]
    },
    {
     "data": {
      "text/plain": [
       "<surprise.prediction_algorithms.matrix_factorization.SVD at 0x7f7122ce4790>"
      ]
     },
     "execution_count": 39,
     "metadata": {},
     "output_type": "execute_result"
    },
    {
     "name": "stdout",
     "output_type": "stream",
     "text": [
      "train RMSE,MAE: 0.807 0.624\n",
      "test RMSE,MAE: 0.874 0.674 \n",
      "\n",
      "\n",
      "nfactor, lr, reg: 90 0.003 0.8 \n",
      "\n"
     ]
    },
    {
     "data": {
      "text/plain": [
       "<surprise.prediction_algorithms.matrix_factorization.SVD at 0x7f7122ce45b0>"
      ]
     },
     "execution_count": 39,
     "metadata": {},
     "output_type": "execute_result"
    },
    {
     "name": "stdout",
     "output_type": "stream",
     "text": [
      "train RMSE,MAE: 0.834 0.650\n",
      "test RMSE,MAE: 0.886 0.689 \n",
      "\n",
      "\n",
      "nfactor, lr, reg: 90 0.003 1 \n",
      "\n"
     ]
    },
    {
     "data": {
      "text/plain": [
       "<surprise.prediction_algorithms.matrix_factorization.SVD at 0x7f7122ce4cd0>"
      ]
     },
     "execution_count": 39,
     "metadata": {},
     "output_type": "execute_result"
    },
    {
     "name": "stdout",
     "output_type": "stream",
     "text": [
      "train RMSE,MAE: 0.843 0.659\n",
      "test RMSE,MAE: 0.892 0.696 \n",
      "\n",
      "\n",
      "nfactor, lr, reg: 90 0.003 2 \n",
      "\n"
     ]
    },
    {
     "data": {
      "text/plain": [
       "<surprise.prediction_algorithms.matrix_factorization.SVD at 0x7f7122ce41f0>"
      ]
     },
     "execution_count": 39,
     "metadata": {},
     "output_type": "execute_result"
    },
    {
     "name": "stdout",
     "output_type": "stream",
     "text": [
      "train RMSE,MAE: 0.875 0.688\n",
      "test RMSE,MAE: 0.914 0.716 \n",
      "\n",
      "\n",
      "nfactor, lr, reg: 90 0.003 4 \n",
      "\n"
     ]
    },
    {
     "data": {
      "text/plain": [
       "<surprise.prediction_algorithms.matrix_factorization.SVD at 0x7f7122ce42e0>"
      ]
     },
     "execution_count": 39,
     "metadata": {},
     "output_type": "execute_result"
    },
    {
     "name": "stdout",
     "output_type": "stream",
     "text": [
      "train RMSE,MAE: 0.907 0.717\n",
      "test RMSE,MAE: 0.937 0.739 \n",
      "\n",
      "\n",
      "nfactor, lr, reg: 90 0.003 10 \n",
      "\n"
     ]
    },
    {
     "data": {
      "text/plain": [
       "<surprise.prediction_algorithms.matrix_factorization.SVD at 0x7f7122ce4460>"
      ]
     },
     "execution_count": 39,
     "metadata": {},
     "output_type": "execute_result"
    },
    {
     "name": "stdout",
     "output_type": "stream",
     "text": [
      "train RMSE,MAE: 0.943 0.750\n",
      "test RMSE,MAE: 0.961 0.762 \n",
      "\n",
      "\n",
      "nfactor, lr, reg: 90 0.004 0.01 \n",
      "\n"
     ]
    },
    {
     "data": {
      "text/plain": [
       "<surprise.prediction_algorithms.matrix_factorization.SVD at 0x7f7122ce42b0>"
      ]
     },
     "execution_count": 39,
     "metadata": {},
     "output_type": "execute_result"
    },
    {
     "name": "stdout",
     "output_type": "stream",
     "text": [
      "train RMSE,MAE: 0.670 0.506\n",
      "test RMSE,MAE: 0.865 0.651 \n",
      "\n",
      "\n",
      "nfactor, lr, reg: 90 0.004 0.02 \n",
      "\n"
     ]
    },
    {
     "data": {
      "text/plain": [
       "<surprise.prediction_algorithms.matrix_factorization.SVD at 0x7f7122ce45b0>"
      ]
     },
     "execution_count": 39,
     "metadata": {},
     "output_type": "execute_result"
    },
    {
     "name": "stdout",
     "output_type": "stream",
     "text": [
      "train RMSE,MAE: 0.680 0.515\n",
      "test RMSE,MAE: 0.866 0.652 \n",
      "\n",
      "\n",
      "nfactor, lr, reg: 90 0.004 0.04 \n",
      "\n"
     ]
    },
    {
     "data": {
      "text/plain": [
       "<surprise.prediction_algorithms.matrix_factorization.SVD at 0x7f7122ce4e80>"
      ]
     },
     "execution_count": 39,
     "metadata": {},
     "output_type": "execute_result"
    },
    {
     "name": "stdout",
     "output_type": "stream",
     "text": [
      "train RMSE,MAE: 0.699 0.530\n",
      "test RMSE,MAE: 0.863 0.652 \n",
      "\n",
      "\n",
      "nfactor, lr, reg: 90 0.004 0.08 \n",
      "\n"
     ]
    },
    {
     "data": {
      "text/plain": [
       "<surprise.prediction_algorithms.matrix_factorization.SVD at 0x7f7122ce4790>"
      ]
     },
     "execution_count": 39,
     "metadata": {},
     "output_type": "execute_result"
    },
    {
     "name": "stdout",
     "output_type": "stream",
     "text": [
      "train RMSE,MAE: 0.724 0.551\n",
      "test RMSE,MAE: 0.862 0.653 \n",
      "\n",
      "\n",
      "nfactor, lr, reg: 90 0.004 0.1 \n",
      "\n"
     ]
    },
    {
     "data": {
      "text/plain": [
       "<surprise.prediction_algorithms.matrix_factorization.SVD at 0x7f7122ce4a30>"
      ]
     },
     "execution_count": 39,
     "metadata": {},
     "output_type": "execute_result"
    },
    {
     "name": "stdout",
     "output_type": "stream",
     "text": [
      "train RMSE,MAE: 0.734 0.559\n",
      "test RMSE,MAE: 0.863 0.655 \n",
      "\n",
      "\n",
      "nfactor, lr, reg: 90 0.004 0.2 \n",
      "\n"
     ]
    },
    {
     "data": {
      "text/plain": [
       "<surprise.prediction_algorithms.matrix_factorization.SVD at 0x7f7122ce4460>"
      ]
     },
     "execution_count": 39,
     "metadata": {},
     "output_type": "execute_result"
    },
    {
     "name": "stdout",
     "output_type": "stream",
     "text": [
      "train RMSE,MAE: 0.764 0.585\n",
      "test RMSE,MAE: 0.865 0.661 \n",
      "\n",
      "\n",
      "nfactor, lr, reg: 90 0.004 0.4 \n",
      "\n"
     ]
    },
    {
     "data": {
      "text/plain": [
       "<surprise.prediction_algorithms.matrix_factorization.SVD at 0x7f7122ce42b0>"
      ]
     },
     "execution_count": 39,
     "metadata": {},
     "output_type": "execute_result"
    },
    {
     "name": "stdout",
     "output_type": "stream",
     "text": [
      "train RMSE,MAE: 0.794 0.613\n",
      "test RMSE,MAE: 0.870 0.671 \n",
      "\n",
      "\n",
      "nfactor, lr, reg: 90 0.004 0.8 \n",
      "\n"
     ]
    },
    {
     "data": {
      "text/plain": [
       "<surprise.prediction_algorithms.matrix_factorization.SVD at 0x7f7122ce42e0>"
      ]
     },
     "execution_count": 39,
     "metadata": {},
     "output_type": "execute_result"
    },
    {
     "name": "stdout",
     "output_type": "stream",
     "text": [
      "train RMSE,MAE: 0.823 0.642\n",
      "test RMSE,MAE: 0.884 0.687 \n",
      "\n",
      "\n",
      "nfactor, lr, reg: 90 0.004 1 \n",
      "\n"
     ]
    },
    {
     "data": {
      "text/plain": [
       "<surprise.prediction_algorithms.matrix_factorization.SVD at 0x7f7122ce4a90>"
      ]
     },
     "execution_count": 39,
     "metadata": {},
     "output_type": "execute_result"
    },
    {
     "name": "stdout",
     "output_type": "stream",
     "text": [
      "train RMSE,MAE: 0.834 0.651\n",
      "test RMSE,MAE: 0.889 0.693 \n",
      "\n",
      "\n",
      "nfactor, lr, reg: 90 0.004 2 \n",
      "\n"
     ]
    },
    {
     "data": {
      "text/plain": [
       "<surprise.prediction_algorithms.matrix_factorization.SVD at 0x7f7122ce4430>"
      ]
     },
     "execution_count": 39,
     "metadata": {},
     "output_type": "execute_result"
    },
    {
     "name": "stdout",
     "output_type": "stream",
     "text": [
      "train RMSE,MAE: 0.867 0.682\n",
      "test RMSE,MAE: 0.912 0.715 \n",
      "\n",
      "\n",
      "nfactor, lr, reg: 90 0.004 4 \n",
      "\n"
     ]
    },
    {
     "data": {
      "text/plain": [
       "<surprise.prediction_algorithms.matrix_factorization.SVD at 0x7f7122ce4a30>"
      ]
     },
     "execution_count": 39,
     "metadata": {},
     "output_type": "execute_result"
    },
    {
     "name": "stdout",
     "output_type": "stream",
     "text": [
      "train RMSE,MAE: 0.902 0.713\n",
      "test RMSE,MAE: 0.935 0.737 \n",
      "\n",
      "\n",
      "nfactor, lr, reg: 90 0.004 10 \n",
      "\n"
     ]
    },
    {
     "data": {
      "text/plain": [
       "<surprise.prediction_algorithms.matrix_factorization.SVD at 0x7f7122ce4460>"
      ]
     },
     "execution_count": 39,
     "metadata": {},
     "output_type": "execute_result"
    },
    {
     "name": "stdout",
     "output_type": "stream",
     "text": [
      "train RMSE,MAE: 0.942 0.749\n",
      "test RMSE,MAE: 0.961 0.761 \n",
      "\n",
      "\n",
      "nfactor, lr, reg: 90 0.005 0.01 \n",
      "\n"
     ]
    },
    {
     "data": {
      "text/plain": [
       "<surprise.prediction_algorithms.matrix_factorization.SVD at 0x7f7122ce4790>"
      ]
     },
     "execution_count": 39,
     "metadata": {},
     "output_type": "execute_result"
    },
    {
     "name": "stdout",
     "output_type": "stream",
     "text": [
      "train RMSE,MAE: 0.613 0.463\n",
      "test RMSE,MAE: 0.863 0.648 \n",
      "\n",
      "\n",
      "nfactor, lr, reg: 90 0.005 0.02 \n",
      "\n"
     ]
    },
    {
     "data": {
      "text/plain": [
       "<surprise.prediction_algorithms.matrix_factorization.SVD at 0x7f7122ce46a0>"
      ]
     },
     "execution_count": 39,
     "metadata": {},
     "output_type": "execute_result"
    },
    {
     "name": "stdout",
     "output_type": "stream",
     "text": [
      "train RMSE,MAE: 0.630 0.477\n",
      "test RMSE,MAE: 0.864 0.650 \n",
      "\n",
      "\n",
      "nfactor, lr, reg: 90 0.005 0.04 \n",
      "\n"
     ]
    },
    {
     "data": {
      "text/plain": [
       "<surprise.prediction_algorithms.matrix_factorization.SVD at 0x7f7122ce41f0>"
      ]
     },
     "execution_count": 39,
     "metadata": {},
     "output_type": "execute_result"
    },
    {
     "name": "stdout",
     "output_type": "stream",
     "text": [
      "train RMSE,MAE: 0.658 0.500\n",
      "test RMSE,MAE: 0.860 0.647 \n",
      "\n",
      "\n",
      "nfactor, lr, reg: 90 0.005 0.08 \n",
      "\n"
     ]
    },
    {
     "data": {
      "text/plain": [
       "<surprise.prediction_algorithms.matrix_factorization.SVD at 0x7f7122ce4430>"
      ]
     },
     "execution_count": 39,
     "metadata": {},
     "output_type": "execute_result"
    },
    {
     "name": "stdout",
     "output_type": "stream",
     "text": [
      "train RMSE,MAE: 0.696 0.529\n",
      "test RMSE,MAE: 0.860 0.650 \n",
      "\n",
      "\n",
      "nfactor, lr, reg: 90 0.005 0.1 \n",
      "\n"
     ]
    },
    {
     "data": {
      "text/plain": [
       "<surprise.prediction_algorithms.matrix_factorization.SVD at 0x7f7122ce4a30>"
      ]
     },
     "execution_count": 39,
     "metadata": {},
     "output_type": "execute_result"
    },
    {
     "name": "stdout",
     "output_type": "stream",
     "text": [
      "train RMSE,MAE: 0.708 0.539\n",
      "test RMSE,MAE: 0.860 0.651 \n",
      "\n",
      "\n",
      "nfactor, lr, reg: 90 0.005 0.2 \n",
      "\n"
     ]
    },
    {
     "data": {
      "text/plain": [
       "<surprise.prediction_algorithms.matrix_factorization.SVD at 0x7f7122ce4a90>"
      ]
     },
     "execution_count": 39,
     "metadata": {},
     "output_type": "execute_result"
    },
    {
     "name": "stdout",
     "output_type": "stream",
     "text": [
      "train RMSE,MAE: 0.748 0.573\n",
      "test RMSE,MAE: 0.862 0.657 \n",
      "\n",
      "\n",
      "nfactor, lr, reg: 90 0.005 0.4 \n",
      "\n"
     ]
    },
    {
     "data": {
      "text/plain": [
       "<surprise.prediction_algorithms.matrix_factorization.SVD at 0x7f7122ce4cd0>"
      ]
     },
     "execution_count": 39,
     "metadata": {},
     "output_type": "execute_result"
    },
    {
     "name": "stdout",
     "output_type": "stream",
     "text": [
      "train RMSE,MAE: 0.783 0.605\n",
      "test RMSE,MAE: 0.868 0.668 \n",
      "\n",
      "\n",
      "nfactor, lr, reg: 90 0.005 0.8 \n",
      "\n"
     ]
    },
    {
     "data": {
      "text/plain": [
       "<surprise.prediction_algorithms.matrix_factorization.SVD at 0x7f7122ce4e80>"
      ]
     },
     "execution_count": 39,
     "metadata": {},
     "output_type": "execute_result"
    },
    {
     "name": "stdout",
     "output_type": "stream",
     "text": [
      "train RMSE,MAE: 0.815 0.635\n",
      "test RMSE,MAE: 0.882 0.685 \n",
      "\n",
      "\n",
      "nfactor, lr, reg: 90 0.005 1 \n",
      "\n"
     ]
    },
    {
     "data": {
      "text/plain": [
       "<surprise.prediction_algorithms.matrix_factorization.SVD at 0x7f7122ce41f0>"
      ]
     },
     "execution_count": 39,
     "metadata": {},
     "output_type": "execute_result"
    },
    {
     "name": "stdout",
     "output_type": "stream",
     "text": [
      "train RMSE,MAE: 0.826 0.645\n",
      "test RMSE,MAE: 0.888 0.692 \n",
      "\n",
      "\n",
      "nfactor, lr, reg: 90 0.005 2 \n",
      "\n"
     ]
    },
    {
     "data": {
      "text/plain": [
       "<surprise.prediction_algorithms.matrix_factorization.SVD at 0x7f7122ce4100>"
      ]
     },
     "execution_count": 39,
     "metadata": {},
     "output_type": "execute_result"
    },
    {
     "name": "stdout",
     "output_type": "stream",
     "text": [
      "train RMSE,MAE: 0.862 0.677\n",
      "test RMSE,MAE: 0.910 0.714 \n",
      "\n",
      "\n",
      "nfactor, lr, reg: 90 0.005 4 \n",
      "\n"
     ]
    },
    {
     "data": {
      "text/plain": [
       "<surprise.prediction_algorithms.matrix_factorization.SVD at 0x7f7122ce46a0>"
      ]
     },
     "execution_count": 39,
     "metadata": {},
     "output_type": "execute_result"
    },
    {
     "name": "stdout",
     "output_type": "stream",
     "text": [
      "train RMSE,MAE: 0.899 0.710\n",
      "test RMSE,MAE: 0.935 0.736 \n",
      "\n",
      "\n",
      "nfactor, lr, reg: 90 0.005 10 \n",
      "\n"
     ]
    },
    {
     "data": {
      "text/plain": [
       "<surprise.prediction_algorithms.matrix_factorization.SVD at 0x7f7122ce4c70>"
      ]
     },
     "execution_count": 39,
     "metadata": {},
     "output_type": "execute_result"
    },
    {
     "name": "stdout",
     "output_type": "stream",
     "text": [
      "train RMSE,MAE: 0.941 0.748\n",
      "test RMSE,MAE: 0.960 0.761 \n",
      "\n",
      "\n",
      "nfactor, lr, reg: 90 0.006 0.01 \n",
      "\n"
     ]
    },
    {
     "data": {
      "text/plain": [
       "<surprise.prediction_algorithms.matrix_factorization.SVD at 0x7f7122ce42e0>"
      ]
     },
     "execution_count": 39,
     "metadata": {},
     "output_type": "execute_result"
    },
    {
     "name": "stdout",
     "output_type": "stream",
     "text": [
      "train RMSE,MAE: 0.556 0.419\n",
      "test RMSE,MAE: 0.863 0.645 \n",
      "\n",
      "\n",
      "nfactor, lr, reg: 90 0.006 0.02 \n",
      "\n"
     ]
    },
    {
     "data": {
      "text/plain": [
       "<surprise.prediction_algorithms.matrix_factorization.SVD at 0x7f7122ce4e80>"
      ]
     },
     "execution_count": 39,
     "metadata": {},
     "output_type": "execute_result"
    },
    {
     "name": "stdout",
     "output_type": "stream",
     "text": [
      "train RMSE,MAE: 0.579 0.439\n",
      "test RMSE,MAE: 0.861 0.646 \n",
      "\n",
      "\n",
      "nfactor, lr, reg: 90 0.006 0.04 \n",
      "\n"
     ]
    },
    {
     "data": {
      "text/plain": [
       "<surprise.prediction_algorithms.matrix_factorization.SVD at 0x7f7122ce4eb0>"
      ]
     },
     "execution_count": 39,
     "metadata": {},
     "output_type": "execute_result"
    },
    {
     "name": "stdout",
     "output_type": "stream",
     "text": [
      "train RMSE,MAE: 0.617 0.469\n",
      "test RMSE,MAE: 0.860 0.645 \n",
      "\n",
      "\n",
      "nfactor, lr, reg: 90 0.006 0.08 \n",
      "\n"
     ]
    },
    {
     "data": {
      "text/plain": [
       "<surprise.prediction_algorithms.matrix_factorization.SVD at 0x7f7122ce4cd0>"
      ]
     },
     "execution_count": 39,
     "metadata": {},
     "output_type": "execute_result"
    },
    {
     "name": "stdout",
     "output_type": "stream",
     "text": [
      "train RMSE,MAE: 0.666 0.507\n",
      "test RMSE,MAE: 0.858 0.647 \n",
      "\n",
      "\n",
      "nfactor, lr, reg: 90 0.006 0.1 \n",
      "\n"
     ]
    },
    {
     "data": {
      "text/plain": [
       "<surprise.prediction_algorithms.matrix_factorization.SVD at 0x7f7122ce4430>"
      ]
     },
     "execution_count": 39,
     "metadata": {},
     "output_type": "execute_result"
    },
    {
     "name": "stdout",
     "output_type": "stream",
     "text": [
      "train RMSE,MAE: 0.683 0.521\n",
      "test RMSE,MAE: 0.858 0.648 \n",
      "\n",
      "\n",
      "nfactor, lr, reg: 90 0.006 0.2 \n",
      "\n"
     ]
    },
    {
     "data": {
      "text/plain": [
       "<surprise.prediction_algorithms.matrix_factorization.SVD at 0x7f7122ce4790>"
      ]
     },
     "execution_count": 39,
     "metadata": {},
     "output_type": "execute_result"
    },
    {
     "name": "stdout",
     "output_type": "stream",
     "text": [
      "train RMSE,MAE: 0.734 0.562\n",
      "test RMSE,MAE: 0.860 0.655 \n",
      "\n",
      "\n",
      "nfactor, lr, reg: 90 0.006 0.4 \n",
      "\n"
     ]
    },
    {
     "data": {
      "text/plain": [
       "<surprise.prediction_algorithms.matrix_factorization.SVD at 0x7f7122ce42e0>"
      ]
     },
     "execution_count": 39,
     "metadata": {},
     "output_type": "execute_result"
    },
    {
     "name": "stdout",
     "output_type": "stream",
     "text": [
      "train RMSE,MAE: 0.775 0.597\n",
      "test RMSE,MAE: 0.867 0.667 \n",
      "\n",
      "\n",
      "nfactor, lr, reg: 90 0.006 0.8 \n",
      "\n"
     ]
    },
    {
     "data": {
      "text/plain": [
       "<surprise.prediction_algorithms.matrix_factorization.SVD at 0x7f7122ce42b0>"
      ]
     },
     "execution_count": 39,
     "metadata": {},
     "output_type": "execute_result"
    },
    {
     "name": "stdout",
     "output_type": "stream",
     "text": [
      "train RMSE,MAE: 0.809 0.629\n",
      "test RMSE,MAE: 0.880 0.684 \n",
      "\n",
      "\n",
      "nfactor, lr, reg: 90 0.006 1 \n",
      "\n"
     ]
    },
    {
     "data": {
      "text/plain": [
       "<surprise.prediction_algorithms.matrix_factorization.SVD at 0x7f7122ce4460>"
      ]
     },
     "execution_count": 39,
     "metadata": {},
     "output_type": "execute_result"
    },
    {
     "name": "stdout",
     "output_type": "stream",
     "text": [
      "train RMSE,MAE: 0.820 0.640\n",
      "test RMSE,MAE: 0.887 0.690 \n",
      "\n",
      "\n",
      "nfactor, lr, reg: 90 0.006 2 \n",
      "\n"
     ]
    },
    {
     "data": {
      "text/plain": [
       "<surprise.prediction_algorithms.matrix_factorization.SVD at 0x7f7122ce41f0>"
      ]
     },
     "execution_count": 39,
     "metadata": {},
     "output_type": "execute_result"
    },
    {
     "name": "stdout",
     "output_type": "stream",
     "text": [
      "train RMSE,MAE: 0.858 0.673\n",
      "test RMSE,MAE: 0.910 0.713 \n",
      "\n",
      "\n",
      "nfactor, lr, reg: 90 0.006 4 \n",
      "\n"
     ]
    },
    {
     "data": {
      "text/plain": [
       "<surprise.prediction_algorithms.matrix_factorization.SVD at 0x7f7122ce4c70>"
      ]
     },
     "execution_count": 39,
     "metadata": {},
     "output_type": "execute_result"
    },
    {
     "name": "stdout",
     "output_type": "stream",
     "text": [
      "train RMSE,MAE: 0.897 0.709\n",
      "test RMSE,MAE: 0.934 0.736 \n",
      "\n",
      "\n",
      "nfactor, lr, reg: 90 0.006 10 \n",
      "\n"
     ]
    },
    {
     "data": {
      "text/plain": [
       "<surprise.prediction_algorithms.matrix_factorization.SVD at 0x7f7122ce4790>"
      ]
     },
     "execution_count": 39,
     "metadata": {},
     "output_type": "execute_result"
    },
    {
     "name": "stdout",
     "output_type": "stream",
     "text": [
      "train RMSE,MAE: 0.941 0.748\n",
      "test RMSE,MAE: 0.960 0.761 \n",
      "\n",
      "\n",
      "nfactor, lr, reg: 90 0.007 0.01 \n",
      "\n"
     ]
    },
    {
     "data": {
      "text/plain": [
       "<surprise.prediction_algorithms.matrix_factorization.SVD at 0x7f7122ce4fd0>"
      ]
     },
     "execution_count": 39,
     "metadata": {},
     "output_type": "execute_result"
    },
    {
     "name": "stdout",
     "output_type": "stream",
     "text": [
      "train RMSE,MAE: 0.500 0.377\n",
      "test RMSE,MAE: 0.865 0.646 \n",
      "\n",
      "\n",
      "nfactor, lr, reg: 90 0.007 0.02 \n",
      "\n"
     ]
    },
    {
     "data": {
      "text/plain": [
       "<surprise.prediction_algorithms.matrix_factorization.SVD at 0x7f7122ce4430>"
      ]
     },
     "execution_count": 39,
     "metadata": {},
     "output_type": "execute_result"
    },
    {
     "name": "stdout",
     "output_type": "stream",
     "text": [
      "train RMSE,MAE: 0.529 0.401\n",
      "test RMSE,MAE: 0.861 0.643 \n",
      "\n",
      "\n",
      "nfactor, lr, reg: 90 0.007 0.04 \n",
      "\n"
     ]
    },
    {
     "data": {
      "text/plain": [
       "<surprise.prediction_algorithms.matrix_factorization.SVD at 0x7f7122ce4a90>"
      ]
     },
     "execution_count": 39,
     "metadata": {},
     "output_type": "execute_result"
    },
    {
     "name": "stdout",
     "output_type": "stream",
     "text": [
      "train RMSE,MAE: 0.574 0.437\n",
      "test RMSE,MAE: 0.860 0.644 \n",
      "\n",
      "\n",
      "nfactor, lr, reg: 90 0.007 0.08 \n",
      "\n"
     ]
    },
    {
     "data": {
      "text/plain": [
       "<surprise.prediction_algorithms.matrix_factorization.SVD at 0x7f7122ce45b0>"
      ]
     },
     "execution_count": 39,
     "metadata": {},
     "output_type": "execute_result"
    },
    {
     "name": "stdout",
     "output_type": "stream",
     "text": [
      "train RMSE,MAE: 0.639 0.487\n",
      "test RMSE,MAE: 0.856 0.645 \n",
      "\n",
      "\n",
      "nfactor, lr, reg: 90 0.007 0.1 \n",
      "\n"
     ]
    },
    {
     "data": {
      "text/plain": [
       "<surprise.prediction_algorithms.matrix_factorization.SVD at 0x7f7122ce4c70>"
      ]
     },
     "execution_count": 39,
     "metadata": {},
     "output_type": "execute_result"
    },
    {
     "name": "stdout",
     "output_type": "stream",
     "text": [
      "train RMSE,MAE: 0.660 0.504\n",
      "test RMSE,MAE: 0.856 0.646 \n",
      "\n",
      "\n",
      "nfactor, lr, reg: 90 0.007 0.2 \n",
      "\n"
     ]
    },
    {
     "data": {
      "text/plain": [
       "<surprise.prediction_algorithms.matrix_factorization.SVD at 0x7f7122ce4a30>"
      ]
     },
     "execution_count": 39,
     "metadata": {},
     "output_type": "execute_result"
    },
    {
     "name": "stdout",
     "output_type": "stream",
     "text": [
      "train RMSE,MAE: 0.722 0.552\n",
      "test RMSE,MAE: 0.859 0.653 \n",
      "\n",
      "\n",
      "nfactor, lr, reg: 90 0.007 0.4 \n",
      "\n"
     ]
    },
    {
     "data": {
      "text/plain": [
       "<surprise.prediction_algorithms.matrix_factorization.SVD at 0x7f7122ce4100>"
      ]
     },
     "execution_count": 39,
     "metadata": {},
     "output_type": "execute_result"
    },
    {
     "name": "stdout",
     "output_type": "stream",
     "text": [
      "train RMSE,MAE: 0.768 0.591\n",
      "test RMSE,MAE: 0.866 0.665 \n",
      "\n",
      "\n",
      "nfactor, lr, reg: 90 0.007 0.8 \n",
      "\n"
     ]
    },
    {
     "data": {
      "text/plain": [
       "<surprise.prediction_algorithms.matrix_factorization.SVD at 0x7f7122ce4460>"
      ]
     },
     "execution_count": 39,
     "metadata": {},
     "output_type": "execute_result"
    },
    {
     "name": "stdout",
     "output_type": "stream",
     "text": [
      "train RMSE,MAE: 0.803 0.625\n",
      "test RMSE,MAE: 0.880 0.683 \n",
      "\n",
      "\n",
      "nfactor, lr, reg: 90 0.007 1 \n",
      "\n"
     ]
    },
    {
     "data": {
      "text/plain": [
       "<surprise.prediction_algorithms.matrix_factorization.SVD at 0x7f7122ce4e80>"
      ]
     },
     "execution_count": 39,
     "metadata": {},
     "output_type": "execute_result"
    },
    {
     "name": "stdout",
     "output_type": "stream",
     "text": [
      "train RMSE,MAE: 0.815 0.635\n",
      "test RMSE,MAE: 0.886 0.690 \n",
      "\n",
      "\n",
      "nfactor, lr, reg: 90 0.007 2 \n",
      "\n"
     ]
    },
    {
     "data": {
      "text/plain": [
       "<surprise.prediction_algorithms.matrix_factorization.SVD at 0x7f7122ce45b0>"
      ]
     },
     "execution_count": 39,
     "metadata": {},
     "output_type": "execute_result"
    },
    {
     "name": "stdout",
     "output_type": "stream",
     "text": [
      "train RMSE,MAE: 0.854 0.671\n",
      "test RMSE,MAE: 0.909 0.712 \n",
      "\n",
      "\n",
      "nfactor, lr, reg: 90 0.007 4 \n",
      "\n"
     ]
    },
    {
     "data": {
      "text/plain": [
       "<surprise.prediction_algorithms.matrix_factorization.SVD at 0x7f7122ce4430>"
      ]
     },
     "execution_count": 39,
     "metadata": {},
     "output_type": "execute_result"
    },
    {
     "name": "stdout",
     "output_type": "stream",
     "text": [
      "train RMSE,MAE: 0.896 0.707\n",
      "test RMSE,MAE: 0.934 0.736 \n",
      "\n",
      "\n",
      "nfactor, lr, reg: 90 0.007 10 \n",
      "\n"
     ]
    },
    {
     "data": {
      "text/plain": [
       "<surprise.prediction_algorithms.matrix_factorization.SVD at 0x7f7122ce4a90>"
      ]
     },
     "execution_count": 39,
     "metadata": {},
     "output_type": "execute_result"
    },
    {
     "name": "stdout",
     "output_type": "stream",
     "text": [
      "train RMSE,MAE: 0.941 0.748\n",
      "test RMSE,MAE: 0.960 0.761 \n",
      "\n",
      "\n",
      "nfactor, lr, reg: 90 0.008 0.01 \n",
      "\n"
     ]
    },
    {
     "data": {
      "text/plain": [
       "<surprise.prediction_algorithms.matrix_factorization.SVD at 0x7f7122ce4790>"
      ]
     },
     "execution_count": 39,
     "metadata": {},
     "output_type": "execute_result"
    },
    {
     "name": "stdout",
     "output_type": "stream",
     "text": [
      "train RMSE,MAE: 0.446 0.334\n",
      "test RMSE,MAE: 0.864 0.641 \n",
      "\n",
      "\n",
      "nfactor, lr, reg: 90 0.008 0.02 \n",
      "\n"
     ]
    },
    {
     "data": {
      "text/plain": [
       "<surprise.prediction_algorithms.matrix_factorization.SVD at 0x7f7122ce4eb0>"
      ]
     },
     "execution_count": 39,
     "metadata": {},
     "output_type": "execute_result"
    },
    {
     "name": "stdout",
     "output_type": "stream",
     "text": [
      "train RMSE,MAE: 0.480 0.363\n",
      "test RMSE,MAE: 0.859 0.642 \n",
      "\n",
      "\n",
      "nfactor, lr, reg: 90 0.008 0.04 \n",
      "\n"
     ]
    },
    {
     "data": {
      "text/plain": [
       "<surprise.prediction_algorithms.matrix_factorization.SVD at 0x7f7122ce4e80>"
      ]
     },
     "execution_count": 39,
     "metadata": {},
     "output_type": "execute_result"
    },
    {
     "name": "stdout",
     "output_type": "stream",
     "text": [
      "train RMSE,MAE: 0.536 0.408\n",
      "test RMSE,MAE: 0.857 0.641 \n",
      "\n",
      "\n",
      "nfactor, lr, reg: 90 0.008 0.08 \n",
      "\n"
     ]
    },
    {
     "data": {
      "text/plain": [
       "<surprise.prediction_algorithms.matrix_factorization.SVD at 0x7f7122ce4100>"
      ]
     },
     "execution_count": 39,
     "metadata": {},
     "output_type": "execute_result"
    },
    {
     "name": "stdout",
     "output_type": "stream",
     "text": [
      "train RMSE,MAE: 0.613 0.467\n",
      "test RMSE,MAE: 0.856 0.644 \n",
      "\n",
      "\n",
      "nfactor, lr, reg: 90 0.008 0.1 \n",
      "\n"
     ]
    },
    {
     "data": {
      "text/plain": [
       "<surprise.prediction_algorithms.matrix_factorization.SVD at 0x7f7122ce4460>"
      ]
     },
     "execution_count": 39,
     "metadata": {},
     "output_type": "execute_result"
    },
    {
     "name": "stdout",
     "output_type": "stream",
     "text": [
      "train RMSE,MAE: 0.638 0.487\n",
      "test RMSE,MAE: 0.855 0.645 \n",
      "\n",
      "\n",
      "nfactor, lr, reg: 90 0.008 0.2 \n",
      "\n"
     ]
    },
    {
     "data": {
      "text/plain": [
       "<surprise.prediction_algorithms.matrix_factorization.SVD at 0x7f7122ce4c70>"
      ]
     },
     "execution_count": 39,
     "metadata": {},
     "output_type": "execute_result"
    },
    {
     "name": "stdout",
     "output_type": "stream",
     "text": [
      "train RMSE,MAE: 0.711 0.543\n",
      "test RMSE,MAE: 0.859 0.652 \n",
      "\n",
      "\n",
      "nfactor, lr, reg: 90 0.008 0.4 \n",
      "\n"
     ]
    },
    {
     "data": {
      "text/plain": [
       "<surprise.prediction_algorithms.matrix_factorization.SVD at 0x7f7122ce42b0>"
      ]
     },
     "execution_count": 39,
     "metadata": {},
     "output_type": "execute_result"
    },
    {
     "name": "stdout",
     "output_type": "stream",
     "text": [
      "train RMSE,MAE: 0.761 0.586\n",
      "test RMSE,MAE: 0.865 0.664 \n",
      "\n",
      "\n",
      "nfactor, lr, reg: 90 0.008 0.8 \n",
      "\n"
     ]
    },
    {
     "data": {
      "text/plain": [
       "<surprise.prediction_algorithms.matrix_factorization.SVD at 0x7f7122ce4eb0>"
      ]
     },
     "execution_count": 39,
     "metadata": {},
     "output_type": "execute_result"
    },
    {
     "name": "stdout",
     "output_type": "stream",
     "text": [
      "train RMSE,MAE: 0.799 0.621\n",
      "test RMSE,MAE: 0.879 0.682 \n",
      "\n",
      "\n",
      "nfactor, lr, reg: 90 0.008 1 \n",
      "\n"
     ]
    },
    {
     "data": {
      "text/plain": [
       "<surprise.prediction_algorithms.matrix_factorization.SVD at 0x7f7122ce4a90>"
      ]
     },
     "execution_count": 39,
     "metadata": {},
     "output_type": "execute_result"
    },
    {
     "name": "stdout",
     "output_type": "stream",
     "text": [
      "train RMSE,MAE: 0.811 0.632\n",
      "test RMSE,MAE: 0.885 0.689 \n",
      "\n",
      "\n",
      "nfactor, lr, reg: 90 0.008 2 \n",
      "\n"
     ]
    },
    {
     "data": {
      "text/plain": [
       "<surprise.prediction_algorithms.matrix_factorization.SVD at 0x7f7122ce4790>"
      ]
     },
     "execution_count": 39,
     "metadata": {},
     "output_type": "execute_result"
    },
    {
     "name": "stdout",
     "output_type": "stream",
     "text": [
      "train RMSE,MAE: 0.851 0.668\n",
      "test RMSE,MAE: 0.909 0.712 \n",
      "\n",
      "\n",
      "nfactor, lr, reg: 90 0.008 4 \n",
      "\n"
     ]
    },
    {
     "data": {
      "text/plain": [
       "<surprise.prediction_algorithms.matrix_factorization.SVD at 0x7f7122ce45b0>"
      ]
     },
     "execution_count": 39,
     "metadata": {},
     "output_type": "execute_result"
    },
    {
     "name": "stdout",
     "output_type": "stream",
     "text": [
      "train RMSE,MAE: 0.895 0.706\n",
      "test RMSE,MAE: 0.934 0.735 \n",
      "\n",
      "\n",
      "nfactor, lr, reg: 90 0.008 10 \n",
      "\n"
     ]
    },
    {
     "data": {
      "text/plain": [
       "<surprise.prediction_algorithms.matrix_factorization.SVD at 0x7f7122ce4fd0>"
      ]
     },
     "execution_count": 39,
     "metadata": {},
     "output_type": "execute_result"
    },
    {
     "name": "stdout",
     "output_type": "stream",
     "text": [
      "train RMSE,MAE: 0.941 0.748\n",
      "test RMSE,MAE: 0.960 0.761 \n",
      "\n",
      "\n",
      "nfactor, lr, reg: 90 0.009000000000000001 0.01 \n",
      "\n"
     ]
    },
    {
     "data": {
      "text/plain": [
       "<surprise.prediction_algorithms.matrix_factorization.SVD at 0x7f7122ce42b0>"
      ]
     },
     "execution_count": 39,
     "metadata": {},
     "output_type": "execute_result"
    },
    {
     "name": "stdout",
     "output_type": "stream",
     "text": [
      "train RMSE,MAE: 0.399 0.297\n",
      "test RMSE,MAE: 0.868 0.644 \n",
      "\n",
      "\n",
      "nfactor, lr, reg: 90 0.009000000000000001 0.02 \n",
      "\n"
     ]
    },
    {
     "data": {
      "text/plain": [
       "<surprise.prediction_algorithms.matrix_factorization.SVD at 0x7f7122ce4790>"
      ]
     },
     "execution_count": 39,
     "metadata": {},
     "output_type": "execute_result"
    },
    {
     "name": "stdout",
     "output_type": "stream",
     "text": [
      "train RMSE,MAE: 0.434 0.327\n",
      "test RMSE,MAE: 0.863 0.642 \n",
      "\n",
      "\n",
      "nfactor, lr, reg: 90 0.009000000000000001 0.04 \n",
      "\n"
     ]
    },
    {
     "data": {
      "text/plain": [
       "<surprise.prediction_algorithms.matrix_factorization.SVD at 0x7f7122ce4c70>"
      ]
     },
     "execution_count": 39,
     "metadata": {},
     "output_type": "execute_result"
    },
    {
     "name": "stdout",
     "output_type": "stream",
     "text": [
      "train RMSE,MAE: 0.499 0.380\n",
      "test RMSE,MAE: 0.858 0.641 \n",
      "\n",
      "\n",
      "nfactor, lr, reg: 90 0.009000000000000001 0.08 \n",
      "\n"
     ]
    },
    {
     "data": {
      "text/plain": [
       "<surprise.prediction_algorithms.matrix_factorization.SVD at 0x7f7122ce4e80>"
      ]
     },
     "execution_count": 39,
     "metadata": {},
     "output_type": "execute_result"
    },
    {
     "name": "stdout",
     "output_type": "stream",
     "text": [
      "train RMSE,MAE: 0.585 0.447\n",
      "test RMSE,MAE: 0.855 0.642 \n",
      "\n",
      "\n",
      "nfactor, lr, reg: 90 0.009000000000000001 0.1 \n",
      "\n"
     ]
    },
    {
     "data": {
      "text/plain": [
       "<surprise.prediction_algorithms.matrix_factorization.SVD at 0x7f7122ce42e0>"
      ]
     },
     "execution_count": 39,
     "metadata": {},
     "output_type": "execute_result"
    },
    {
     "name": "stdout",
     "output_type": "stream",
     "text": [
      "train RMSE,MAE: 0.617 0.471\n",
      "test RMSE,MAE: 0.855 0.644 \n",
      "\n",
      "\n",
      "nfactor, lr, reg: 90 0.009000000000000001 0.2 \n",
      "\n"
     ]
    },
    {
     "data": {
      "text/plain": [
       "<surprise.prediction_algorithms.matrix_factorization.SVD at 0x7f7122ce4fd0>"
      ]
     },
     "execution_count": 39,
     "metadata": {},
     "output_type": "execute_result"
    },
    {
     "name": "stdout",
     "output_type": "stream",
     "text": [
      "train RMSE,MAE: 0.702 0.536\n",
      "test RMSE,MAE: 0.858 0.651 \n",
      "\n",
      "\n",
      "nfactor, lr, reg: 90 0.009000000000000001 0.4 \n",
      "\n"
     ]
    },
    {
     "data": {
      "text/plain": [
       "<surprise.prediction_algorithms.matrix_factorization.SVD at 0x7f7122ce4c70>"
      ]
     },
     "execution_count": 39,
     "metadata": {},
     "output_type": "execute_result"
    },
    {
     "name": "stdout",
     "output_type": "stream",
     "text": [
      "train RMSE,MAE: 0.756 0.581\n",
      "test RMSE,MAE: 0.865 0.664 \n",
      "\n",
      "\n",
      "nfactor, lr, reg: 90 0.009000000000000001 0.8 \n",
      "\n"
     ]
    },
    {
     "data": {
      "text/plain": [
       "<surprise.prediction_algorithms.matrix_factorization.SVD at 0x7f7122ce45b0>"
      ]
     },
     "execution_count": 39,
     "metadata": {},
     "output_type": "execute_result"
    },
    {
     "name": "stdout",
     "output_type": "stream",
     "text": [
      "train RMSE,MAE: 0.795 0.617\n",
      "test RMSE,MAE: 0.879 0.682 \n",
      "\n",
      "\n",
      "nfactor, lr, reg: 90 0.009000000000000001 1 \n",
      "\n"
     ]
    },
    {
     "data": {
      "text/plain": [
       "<surprise.prediction_algorithms.matrix_factorization.SVD at 0x7f7122ce4eb0>"
      ]
     },
     "execution_count": 39,
     "metadata": {},
     "output_type": "execute_result"
    },
    {
     "name": "stdout",
     "output_type": "stream",
     "text": [
      "train RMSE,MAE: 0.807 0.629\n",
      "test RMSE,MAE: 0.885 0.689 \n",
      "\n",
      "\n",
      "nfactor, lr, reg: 90 0.009000000000000001 2 \n",
      "\n"
     ]
    },
    {
     "data": {
      "text/plain": [
       "<surprise.prediction_algorithms.matrix_factorization.SVD at 0x7f7122ce46a0>"
      ]
     },
     "execution_count": 39,
     "metadata": {},
     "output_type": "execute_result"
    },
    {
     "name": "stdout",
     "output_type": "stream",
     "text": [
      "train RMSE,MAE: 0.849 0.667\n",
      "test RMSE,MAE: 0.909 0.712 \n",
      "\n",
      "\n",
      "nfactor, lr, reg: 90 0.009000000000000001 4 \n",
      "\n"
     ]
    },
    {
     "data": {
      "text/plain": [
       "<surprise.prediction_algorithms.matrix_factorization.SVD at 0x7f7122ce42e0>"
      ]
     },
     "execution_count": 39,
     "metadata": {},
     "output_type": "execute_result"
    },
    {
     "name": "stdout",
     "output_type": "stream",
     "text": [
      "train RMSE,MAE: 0.894 0.706\n",
      "test RMSE,MAE: 0.934 0.735 \n",
      "\n",
      "\n",
      "nfactor, lr, reg: 90 0.009000000000000001 10 \n",
      "\n"
     ]
    },
    {
     "data": {
      "text/plain": [
       "<surprise.prediction_algorithms.matrix_factorization.SVD at 0x7f7122ce4a90>"
      ]
     },
     "execution_count": 39,
     "metadata": {},
     "output_type": "execute_result"
    },
    {
     "name": "stdout",
     "output_type": "stream",
     "text": [
      "train RMSE,MAE: 0.941 0.748\n",
      "test RMSE,MAE: 0.961 0.761 \n",
      "\n",
      "\n",
      "nfactor, lr, reg: 98 0.001 0.01 \n",
      "\n"
     ]
    },
    {
     "data": {
      "text/plain": [
       "<surprise.prediction_algorithms.matrix_factorization.SVD at 0x7f7122ce4e80>"
      ]
     },
     "execution_count": 39,
     "metadata": {},
     "output_type": "execute_result"
    },
    {
     "name": "stdout",
     "output_type": "stream",
     "text": [
      "train RMSE,MAE: 0.830 0.634\n",
      "test RMSE,MAE: 0.888 0.678 \n",
      "\n",
      "\n",
      "nfactor, lr, reg: 98 0.001 0.02 \n",
      "\n"
     ]
    },
    {
     "data": {
      "text/plain": [
       "<surprise.prediction_algorithms.matrix_factorization.SVD at 0x7f7122ce4a30>"
      ]
     },
     "execution_count": 39,
     "metadata": {},
     "output_type": "execute_result"
    },
    {
     "name": "stdout",
     "output_type": "stream",
     "text": [
      "train RMSE,MAE: 0.832 0.636\n",
      "test RMSE,MAE: 0.889 0.679 \n",
      "\n",
      "\n",
      "nfactor, lr, reg: 98 0.001 0.04 \n",
      "\n"
     ]
    },
    {
     "data": {
      "text/plain": [
       "<surprise.prediction_algorithms.matrix_factorization.SVD at 0x7f7122ce4eb0>"
      ]
     },
     "execution_count": 39,
     "metadata": {},
     "output_type": "execute_result"
    },
    {
     "name": "stdout",
     "output_type": "stream",
     "text": [
      "train RMSE,MAE: 0.833 0.637\n",
      "test RMSE,MAE: 0.890 0.680 \n",
      "\n",
      "\n",
      "nfactor, lr, reg: 98 0.001 0.08 \n",
      "\n"
     ]
    },
    {
     "data": {
      "text/plain": [
       "<surprise.prediction_algorithms.matrix_factorization.SVD at 0x7f7122ce46a0>"
      ]
     },
     "execution_count": 39,
     "metadata": {},
     "output_type": "execute_result"
    },
    {
     "name": "stdout",
     "output_type": "stream",
     "text": [
      "train RMSE,MAE: 0.835 0.641\n",
      "test RMSE,MAE: 0.888 0.681 \n",
      "\n",
      "\n",
      "nfactor, lr, reg: 98 0.001 0.1 \n",
      "\n"
     ]
    },
    {
     "data": {
      "text/plain": [
       "<surprise.prediction_algorithms.matrix_factorization.SVD at 0x7f7122ce45b0>"
      ]
     },
     "execution_count": 39,
     "metadata": {},
     "output_type": "execute_result"
    },
    {
     "name": "stdout",
     "output_type": "stream",
     "text": [
      "train RMSE,MAE: 0.836 0.642\n",
      "test RMSE,MAE: 0.889 0.682 \n",
      "\n",
      "\n",
      "nfactor, lr, reg: 98 0.001 0.2 \n",
      "\n"
     ]
    },
    {
     "data": {
      "text/plain": [
       "<surprise.prediction_algorithms.matrix_factorization.SVD at 0x7f7122ce4100>"
      ]
     },
     "execution_count": 39,
     "metadata": {},
     "output_type": "execute_result"
    },
    {
     "name": "stdout",
     "output_type": "stream",
     "text": [
      "train RMSE,MAE: 0.843 0.650\n",
      "test RMSE,MAE: 0.889 0.684 \n",
      "\n",
      "\n",
      "nfactor, lr, reg: 98 0.001 0.4 \n",
      "\n"
     ]
    },
    {
     "data": {
      "text/plain": [
       "<surprise.prediction_algorithms.matrix_factorization.SVD at 0x7f7122ce4790>"
      ]
     },
     "execution_count": 39,
     "metadata": {},
     "output_type": "execute_result"
    },
    {
     "name": "stdout",
     "output_type": "stream",
     "text": [
      "train RMSE,MAE: 0.854 0.662\n",
      "test RMSE,MAE: 0.893 0.691 \n",
      "\n",
      "\n",
      "nfactor, lr, reg: 98 0.001 0.8 \n",
      "\n"
     ]
    },
    {
     "data": {
      "text/plain": [
       "<surprise.prediction_algorithms.matrix_factorization.SVD at 0x7f7122ce4a30>"
      ]
     },
     "execution_count": 39,
     "metadata": {},
     "output_type": "execute_result"
    },
    {
     "name": "stdout",
     "output_type": "stream",
     "text": [
      "train RMSE,MAE: 0.870 0.680\n",
      "test RMSE,MAE: 0.902 0.703 \n",
      "\n",
      "\n",
      "nfactor, lr, reg: 98 0.001 1 \n",
      "\n"
     ]
    },
    {
     "data": {
      "text/plain": [
       "<surprise.prediction_algorithms.matrix_factorization.SVD at 0x7f7122ce4eb0>"
      ]
     },
     "execution_count": 39,
     "metadata": {},
     "output_type": "execute_result"
    },
    {
     "name": "stdout",
     "output_type": "stream",
     "text": [
      "train RMSE,MAE: 0.877 0.687\n",
      "test RMSE,MAE: 0.906 0.708 \n",
      "\n",
      "\n",
      "nfactor, lr, reg: 98 0.001 2 \n",
      "\n"
     ]
    },
    {
     "data": {
      "text/plain": [
       "<surprise.prediction_algorithms.matrix_factorization.SVD at 0x7f7122ce4e80>"
      ]
     },
     "execution_count": 39,
     "metadata": {},
     "output_type": "execute_result"
    },
    {
     "name": "stdout",
     "output_type": "stream",
     "text": [
      "train RMSE,MAE: 0.901 0.709\n",
      "test RMSE,MAE: 0.924 0.725 \n",
      "\n",
      "\n",
      "nfactor, lr, reg: 98 0.001 4 \n",
      "\n"
     ]
    },
    {
     "data": {
      "text/plain": [
       "<surprise.prediction_algorithms.matrix_factorization.SVD at 0x7f7122ce4430>"
      ]
     },
     "execution_count": 39,
     "metadata": {},
     "output_type": "execute_result"
    },
    {
     "name": "stdout",
     "output_type": "stream",
     "text": [
      "train RMSE,MAE: 0.925 0.733\n",
      "test RMSE,MAE: 0.943 0.745 \n",
      "\n",
      "\n",
      "nfactor, lr, reg: 98 0.001 10 \n",
      "\n"
     ]
    },
    {
     "data": {
      "text/plain": [
       "<surprise.prediction_algorithms.matrix_factorization.SVD at 0x7f7122ce4c70>"
      ]
     },
     "execution_count": 39,
     "metadata": {},
     "output_type": "execute_result"
    },
    {
     "name": "stdout",
     "output_type": "stream",
     "text": [
      "train RMSE,MAE: 0.951 0.757\n",
      "test RMSE,MAE: 0.964 0.765 \n",
      "\n",
      "\n",
      "nfactor, lr, reg: 98 0.002 0.01 \n",
      "\n"
     ]
    },
    {
     "data": {
      "text/plain": [
       "<surprise.prediction_algorithms.matrix_factorization.SVD at 0x7f7122ce4790>"
      ]
     },
     "execution_count": 39,
     "metadata": {},
     "output_type": "execute_result"
    },
    {
     "name": "stdout",
     "output_type": "stream",
     "text": [
      "train RMSE,MAE: 0.770 0.584\n",
      "test RMSE,MAE: 0.875 0.663 \n",
      "\n",
      "\n",
      "nfactor, lr, reg: 98 0.002 0.02 \n",
      "\n"
     ]
    },
    {
     "data": {
      "text/plain": [
       "<surprise.prediction_algorithms.matrix_factorization.SVD at 0x7f7122ce4a30>"
      ]
     },
     "execution_count": 39,
     "metadata": {},
     "output_type": "execute_result"
    },
    {
     "name": "stdout",
     "output_type": "stream",
     "text": [
      "train RMSE,MAE: 0.773 0.587\n",
      "test RMSE,MAE: 0.875 0.663 \n",
      "\n",
      "\n",
      "nfactor, lr, reg: 98 0.002 0.04 \n",
      "\n"
     ]
    },
    {
     "data": {
      "text/plain": [
       "<surprise.prediction_algorithms.matrix_factorization.SVD at 0x7f7122ce4100>"
      ]
     },
     "execution_count": 39,
     "metadata": {},
     "output_type": "execute_result"
    },
    {
     "name": "stdout",
     "output_type": "stream",
     "text": [
      "train RMSE,MAE: 0.779 0.592\n",
      "test RMSE,MAE: 0.875 0.665 \n",
      "\n",
      "\n",
      "nfactor, lr, reg: 98 0.002 0.08 \n",
      "\n"
     ]
    },
    {
     "data": {
      "text/plain": [
       "<surprise.prediction_algorithms.matrix_factorization.SVD at 0x7f7122ce4fd0>"
      ]
     },
     "execution_count": 39,
     "metadata": {},
     "output_type": "execute_result"
    },
    {
     "name": "stdout",
     "output_type": "stream",
     "text": [
      "train RMSE,MAE: 0.787 0.600\n",
      "test RMSE,MAE: 0.873 0.666 \n",
      "\n",
      "\n",
      "nfactor, lr, reg: 98 0.002 0.1 \n",
      "\n"
     ]
    },
    {
     "data": {
      "text/plain": [
       "<surprise.prediction_algorithms.matrix_factorization.SVD at 0x7f7122ce4460>"
      ]
     },
     "execution_count": 39,
     "metadata": {},
     "output_type": "execute_result"
    },
    {
     "name": "stdout",
     "output_type": "stream",
     "text": [
      "train RMSE,MAE: 0.791 0.604\n",
      "test RMSE,MAE: 0.875 0.667 \n",
      "\n",
      "\n",
      "nfactor, lr, reg: 98 0.002 0.2 \n",
      "\n"
     ]
    },
    {
     "data": {
      "text/plain": [
       "<surprise.prediction_algorithms.matrix_factorization.SVD at 0x7f7122ce4c70>"
      ]
     },
     "execution_count": 39,
     "metadata": {},
     "output_type": "execute_result"
    },
    {
     "name": "stdout",
     "output_type": "stream",
     "text": [
      "train RMSE,MAE: 0.804 0.618\n",
      "test RMSE,MAE: 0.876 0.672 \n",
      "\n",
      "\n",
      "nfactor, lr, reg: 98 0.002 0.4 \n",
      "\n"
     ]
    },
    {
     "data": {
      "text/plain": [
       "<surprise.prediction_algorithms.matrix_factorization.SVD at 0x7f7122ce4cd0>"
      ]
     },
     "execution_count": 39,
     "metadata": {},
     "output_type": "execute_result"
    },
    {
     "name": "stdout",
     "output_type": "stream",
     "text": [
      "train RMSE,MAE: 0.823 0.638\n",
      "test RMSE,MAE: 0.880 0.680 \n",
      "\n",
      "\n",
      "nfactor, lr, reg: 98 0.002 0.8 \n",
      "\n"
     ]
    },
    {
     "data": {
      "text/plain": [
       "<surprise.prediction_algorithms.matrix_factorization.SVD at 0x7f7122ce4430>"
      ]
     },
     "execution_count": 39,
     "metadata": {},
     "output_type": "execute_result"
    },
    {
     "name": "stdout",
     "output_type": "stream",
     "text": [
      "train RMSE,MAE: 0.847 0.661\n",
      "test RMSE,MAE: 0.891 0.694 \n",
      "\n",
      "\n",
      "nfactor, lr, reg: 98 0.002 1 \n",
      "\n"
     ]
    },
    {
     "data": {
      "text/plain": [
       "<surprise.prediction_algorithms.matrix_factorization.SVD at 0x7f7122ce4a90>"
      ]
     },
     "execution_count": 39,
     "metadata": {},
     "output_type": "execute_result"
    },
    {
     "name": "stdout",
     "output_type": "stream",
     "text": [
      "train RMSE,MAE: 0.856 0.669\n",
      "test RMSE,MAE: 0.897 0.700 \n",
      "\n",
      "\n",
      "nfactor, lr, reg: 98 0.002 2 \n",
      "\n"
     ]
    },
    {
     "data": {
      "text/plain": [
       "<surprise.prediction_algorithms.matrix_factorization.SVD at 0x7f7122ce42b0>"
      ]
     },
     "execution_count": 39,
     "metadata": {},
     "output_type": "execute_result"
    },
    {
     "name": "stdout",
     "output_type": "stream",
     "text": [
      "train RMSE,MAE: 0.885 0.696\n",
      "test RMSE,MAE: 0.917 0.720 \n",
      "\n",
      "\n",
      "nfactor, lr, reg: 98 0.002 4 \n",
      "\n"
     ]
    },
    {
     "data": {
      "text/plain": [
       "<surprise.prediction_algorithms.matrix_factorization.SVD at 0x7f7122ce4460>"
      ]
     },
     "execution_count": 39,
     "metadata": {},
     "output_type": "execute_result"
    },
    {
     "name": "stdout",
     "output_type": "stream",
     "text": [
      "train RMSE,MAE: 0.914 0.723\n",
      "test RMSE,MAE: 0.939 0.741 \n",
      "\n",
      "\n",
      "nfactor, lr, reg: 98 0.002 10 \n",
      "\n"
     ]
    },
    {
     "data": {
      "text/plain": [
       "<surprise.prediction_algorithms.matrix_factorization.SVD at 0x7f7122ce42e0>"
      ]
     },
     "execution_count": 39,
     "metadata": {},
     "output_type": "execute_result"
    },
    {
     "name": "stdout",
     "output_type": "stream",
     "text": [
      "train RMSE,MAE: 0.946 0.752\n",
      "test RMSE,MAE: 0.962 0.763 \n",
      "\n",
      "\n",
      "nfactor, lr, reg: 98 0.003 0.01 \n",
      "\n"
     ]
    },
    {
     "data": {
      "text/plain": [
       "<surprise.prediction_algorithms.matrix_factorization.SVD at 0x7f7122ce4fd0>"
      ]
     },
     "execution_count": 39,
     "metadata": {},
     "output_type": "execute_result"
    },
    {
     "name": "stdout",
     "output_type": "stream",
     "text": [
      "train RMSE,MAE: 0.716 0.541\n",
      "test RMSE,MAE: 0.868 0.655 \n",
      "\n",
      "\n",
      "nfactor, lr, reg: 98 0.003 0.02 \n",
      "\n"
     ]
    },
    {
     "data": {
      "text/plain": [
       "<surprise.prediction_algorithms.matrix_factorization.SVD at 0x7f7122ce45b0>"
      ]
     },
     "execution_count": 39,
     "metadata": {},
     "output_type": "execute_result"
    },
    {
     "name": "stdout",
     "output_type": "stream",
     "text": [
      "train RMSE,MAE: 0.721 0.546\n",
      "test RMSE,MAE: 0.868 0.656 \n",
      "\n",
      "\n",
      "nfactor, lr, reg: 98 0.003 0.04 \n",
      "\n"
     ]
    },
    {
     "data": {
      "text/plain": [
       "<surprise.prediction_algorithms.matrix_factorization.SVD at 0x7f7122ce41f0>"
      ]
     },
     "execution_count": 39,
     "metadata": {},
     "output_type": "execute_result"
    },
    {
     "name": "stdout",
     "output_type": "stream",
     "text": [
      "train RMSE,MAE: 0.733 0.556\n",
      "test RMSE,MAE: 0.867 0.656 \n",
      "\n",
      "\n",
      "nfactor, lr, reg: 98 0.003 0.08 \n",
      "\n"
     ]
    },
    {
     "data": {
      "text/plain": [
       "<surprise.prediction_algorithms.matrix_factorization.SVD at 0x7f7122ce42b0>"
      ]
     },
     "execution_count": 39,
     "metadata": {},
     "output_type": "execute_result"
    },
    {
     "name": "stdout",
     "output_type": "stream",
     "text": [
      "train RMSE,MAE: 0.750 0.571\n",
      "test RMSE,MAE: 0.866 0.658 \n",
      "\n",
      "\n",
      "nfactor, lr, reg: 98 0.003 0.1 \n",
      "\n"
     ]
    },
    {
     "data": {
      "text/plain": [
       "<surprise.prediction_algorithms.matrix_factorization.SVD at 0x7f7122ce46a0>"
      ]
     },
     "execution_count": 39,
     "metadata": {},
     "output_type": "execute_result"
    },
    {
     "name": "stdout",
     "output_type": "stream",
     "text": [
      "train RMSE,MAE: 0.756 0.576\n",
      "test RMSE,MAE: 0.868 0.660 \n",
      "\n",
      "\n",
      "nfactor, lr, reg: 98 0.003 0.2 \n",
      "\n"
     ]
    },
    {
     "data": {
      "text/plain": [
       "<surprise.prediction_algorithms.matrix_factorization.SVD at 0x7f7122ce4eb0>"
      ]
     },
     "execution_count": 39,
     "metadata": {},
     "output_type": "execute_result"
    },
    {
     "name": "stdout",
     "output_type": "stream",
     "text": [
      "train RMSE,MAE: 0.780 0.598\n",
      "test RMSE,MAE: 0.868 0.665 \n",
      "\n",
      "\n",
      "nfactor, lr, reg: 98 0.003 0.4 \n",
      "\n"
     ]
    },
    {
     "data": {
      "text/plain": [
       "<surprise.prediction_algorithms.matrix_factorization.SVD at 0x7f7122ce4430>"
      ]
     },
     "execution_count": 39,
     "metadata": {},
     "output_type": "execute_result"
    },
    {
     "name": "stdout",
     "output_type": "stream",
     "text": [
      "train RMSE,MAE: 0.805 0.623\n",
      "test RMSE,MAE: 0.874 0.674 \n",
      "\n",
      "\n",
      "nfactor, lr, reg: 98 0.003 0.8 \n",
      "\n"
     ]
    },
    {
     "data": {
      "text/plain": [
       "<surprise.prediction_algorithms.matrix_factorization.SVD at 0x7f7122ce4790>"
      ]
     },
     "execution_count": 39,
     "metadata": {},
     "output_type": "execute_result"
    },
    {
     "name": "stdout",
     "output_type": "stream",
     "text": [
      "train RMSE,MAE: 0.833 0.650\n",
      "test RMSE,MAE: 0.886 0.690 \n",
      "\n",
      "\n",
      "nfactor, lr, reg: 98 0.003 1 \n",
      "\n"
     ]
    },
    {
     "data": {
      "text/plain": [
       "<surprise.prediction_algorithms.matrix_factorization.SVD at 0x7f7122ce41f0>"
      ]
     },
     "execution_count": 39,
     "metadata": {},
     "output_type": "execute_result"
    },
    {
     "name": "stdout",
     "output_type": "stream",
     "text": [
      "train RMSE,MAE: 0.843 0.659\n",
      "test RMSE,MAE: 0.892 0.695 \n",
      "\n",
      "\n",
      "nfactor, lr, reg: 98 0.003 2 \n",
      "\n"
     ]
    },
    {
     "data": {
      "text/plain": [
       "<surprise.prediction_algorithms.matrix_factorization.SVD at 0x7f7122ce4fd0>"
      ]
     },
     "execution_count": 39,
     "metadata": {},
     "output_type": "execute_result"
    },
    {
     "name": "stdout",
     "output_type": "stream",
     "text": [
      "train RMSE,MAE: 0.875 0.688\n",
      "test RMSE,MAE: 0.914 0.717 \n",
      "\n",
      "\n",
      "nfactor, lr, reg: 98 0.003 4 \n",
      "\n"
     ]
    },
    {
     "data": {
      "text/plain": [
       "<surprise.prediction_algorithms.matrix_factorization.SVD at 0x7f7122ce45b0>"
      ]
     },
     "execution_count": 39,
     "metadata": {},
     "output_type": "execute_result"
    },
    {
     "name": "stdout",
     "output_type": "stream",
     "text": [
      "train RMSE,MAE: 0.907 0.717\n",
      "test RMSE,MAE: 0.937 0.739 \n",
      "\n",
      "\n",
      "nfactor, lr, reg: 98 0.003 10 \n",
      "\n"
     ]
    },
    {
     "data": {
      "text/plain": [
       "<surprise.prediction_algorithms.matrix_factorization.SVD at 0x7f7122ce4460>"
      ]
     },
     "execution_count": 39,
     "metadata": {},
     "output_type": "execute_result"
    },
    {
     "name": "stdout",
     "output_type": "stream",
     "text": [
      "train RMSE,MAE: 0.943 0.750\n",
      "test RMSE,MAE: 0.961 0.762 \n",
      "\n",
      "\n",
      "nfactor, lr, reg: 98 0.004 0.01 \n",
      "\n"
     ]
    },
    {
     "data": {
      "text/plain": [
       "<surprise.prediction_algorithms.matrix_factorization.SVD at 0x7f7122ce4a30>"
      ]
     },
     "execution_count": 39,
     "metadata": {},
     "output_type": "execute_result"
    },
    {
     "name": "stdout",
     "output_type": "stream",
     "text": [
      "train RMSE,MAE: 0.660 0.499\n",
      "test RMSE,MAE: 0.866 0.651 \n",
      "\n",
      "\n",
      "nfactor, lr, reg: 98 0.004 0.02 \n",
      "\n"
     ]
    },
    {
     "data": {
      "text/plain": [
       "<surprise.prediction_algorithms.matrix_factorization.SVD at 0x7f7122ce4790>"
      ]
     },
     "execution_count": 39,
     "metadata": {},
     "output_type": "execute_result"
    },
    {
     "name": "stdout",
     "output_type": "stream",
     "text": [
      "train RMSE,MAE: 0.671 0.508\n",
      "test RMSE,MAE: 0.866 0.653 \n",
      "\n",
      "\n",
      "nfactor, lr, reg: 98 0.004 0.04 \n",
      "\n"
     ]
    },
    {
     "data": {
      "text/plain": [
       "<surprise.prediction_algorithms.matrix_factorization.SVD at 0x7f7122ce45b0>"
      ]
     },
     "execution_count": 39,
     "metadata": {},
     "output_type": "execute_result"
    },
    {
     "name": "stdout",
     "output_type": "stream",
     "text": [
      "train RMSE,MAE: 0.690 0.524\n",
      "test RMSE,MAE: 0.863 0.652 \n",
      "\n",
      "\n",
      "nfactor, lr, reg: 98 0.004 0.08 \n",
      "\n"
     ]
    },
    {
     "data": {
      "text/plain": [
       "<surprise.prediction_algorithms.matrix_factorization.SVD at 0x7f7122ce4430>"
      ]
     },
     "execution_count": 39,
     "metadata": {},
     "output_type": "execute_result"
    },
    {
     "name": "stdout",
     "output_type": "stream",
     "text": [
      "train RMSE,MAE: 0.718 0.546\n",
      "test RMSE,MAE: 0.863 0.653 \n",
      "\n",
      "\n",
      "nfactor, lr, reg: 98 0.004 0.1 \n",
      "\n"
     ]
    },
    {
     "data": {
      "text/plain": [
       "<surprise.prediction_algorithms.matrix_factorization.SVD at 0x7f7122ce42b0>"
      ]
     },
     "execution_count": 39,
     "metadata": {},
     "output_type": "execute_result"
    },
    {
     "name": "stdout",
     "output_type": "stream",
     "text": [
      "train RMSE,MAE: 0.728 0.555\n",
      "test RMSE,MAE: 0.862 0.655 \n",
      "\n",
      "\n",
      "nfactor, lr, reg: 98 0.004 0.2 \n",
      "\n"
     ]
    },
    {
     "data": {
      "text/plain": [
       "<surprise.prediction_algorithms.matrix_factorization.SVD at 0x7f7122ce4cd0>"
      ]
     },
     "execution_count": 39,
     "metadata": {},
     "output_type": "execute_result"
    },
    {
     "name": "stdout",
     "output_type": "stream",
     "text": [
      "train RMSE,MAE: 0.760 0.583\n",
      "test RMSE,MAE: 0.864 0.660 \n",
      "\n",
      "\n",
      "nfactor, lr, reg: 98 0.004 0.4 \n",
      "\n"
     ]
    },
    {
     "data": {
      "text/plain": [
       "<surprise.prediction_algorithms.matrix_factorization.SVD at 0x7f7122ce4a30>"
      ]
     },
     "execution_count": 39,
     "metadata": {},
     "output_type": "execute_result"
    },
    {
     "name": "stdout",
     "output_type": "stream",
     "text": [
      "train RMSE,MAE: 0.792 0.612\n",
      "test RMSE,MAE: 0.870 0.671 \n",
      "\n",
      "\n",
      "nfactor, lr, reg: 98 0.004 0.8 \n",
      "\n"
     ]
    },
    {
     "data": {
      "text/plain": [
       "<surprise.prediction_algorithms.matrix_factorization.SVD at 0x7f7122ce46a0>"
      ]
     },
     "execution_count": 39,
     "metadata": {},
     "output_type": "execute_result"
    },
    {
     "name": "stdout",
     "output_type": "stream",
     "text": [
      "train RMSE,MAE: 0.823 0.641\n",
      "test RMSE,MAE: 0.883 0.687 \n",
      "\n",
      "\n",
      "nfactor, lr, reg: 98 0.004 1 \n",
      "\n"
     ]
    },
    {
     "data": {
      "text/plain": [
       "<surprise.prediction_algorithms.matrix_factorization.SVD at 0x7f7122ce4460>"
      ]
     },
     "execution_count": 39,
     "metadata": {},
     "output_type": "execute_result"
    },
    {
     "name": "stdout",
     "output_type": "stream",
     "text": [
      "train RMSE,MAE: 0.833 0.651\n",
      "test RMSE,MAE: 0.889 0.693 \n",
      "\n",
      "\n",
      "nfactor, lr, reg: 98 0.004 2 \n",
      "\n"
     ]
    },
    {
     "data": {
      "text/plain": [
       "<surprise.prediction_algorithms.matrix_factorization.SVD at 0x7f7122ce41f0>"
      ]
     },
     "execution_count": 39,
     "metadata": {},
     "output_type": "execute_result"
    },
    {
     "name": "stdout",
     "output_type": "stream",
     "text": [
      "train RMSE,MAE: 0.867 0.682\n",
      "test RMSE,MAE: 0.912 0.715 \n",
      "\n",
      "\n",
      "nfactor, lr, reg: 98 0.004 4 \n",
      "\n"
     ]
    },
    {
     "data": {
      "text/plain": [
       "<surprise.prediction_algorithms.matrix_factorization.SVD at 0x7f7122ce42b0>"
      ]
     },
     "execution_count": 39,
     "metadata": {},
     "output_type": "execute_result"
    },
    {
     "name": "stdout",
     "output_type": "stream",
     "text": [
      "train RMSE,MAE: 0.902 0.713\n",
      "test RMSE,MAE: 0.935 0.737 \n",
      "\n",
      "\n",
      "nfactor, lr, reg: 98 0.004 10 \n",
      "\n"
     ]
    },
    {
     "data": {
      "text/plain": [
       "<surprise.prediction_algorithms.matrix_factorization.SVD at 0x7f7122ce4cd0>"
      ]
     },
     "execution_count": 39,
     "metadata": {},
     "output_type": "execute_result"
    },
    {
     "name": "stdout",
     "output_type": "stream",
     "text": [
      "train RMSE,MAE: 0.942 0.749\n",
      "test RMSE,MAE: 0.961 0.761 \n",
      "\n",
      "\n",
      "nfactor, lr, reg: 98 0.005 0.01 \n",
      "\n"
     ]
    },
    {
     "data": {
      "text/plain": [
       "<surprise.prediction_algorithms.matrix_factorization.SVD at 0x7f7122ce4430>"
      ]
     },
     "execution_count": 39,
     "metadata": {},
     "output_type": "execute_result"
    },
    {
     "name": "stdout",
     "output_type": "stream",
     "text": [
      "train RMSE,MAE: 0.602 0.455\n",
      "test RMSE,MAE: 0.863 0.648 \n",
      "\n",
      "\n",
      "nfactor, lr, reg: 98 0.005 0.02 \n",
      "\n"
     ]
    },
    {
     "data": {
      "text/plain": [
       "<surprise.prediction_algorithms.matrix_factorization.SVD at 0x7f7122ce42e0>"
      ]
     },
     "execution_count": 39,
     "metadata": {},
     "output_type": "execute_result"
    },
    {
     "name": "stdout",
     "output_type": "stream",
     "text": [
      "train RMSE,MAE: 0.620 0.470\n",
      "test RMSE,MAE: 0.861 0.647 \n",
      "\n",
      "\n",
      "nfactor, lr, reg: 98 0.005 0.04 \n",
      "\n"
     ]
    },
    {
     "data": {
      "text/plain": [
       "<surprise.prediction_algorithms.matrix_factorization.SVD at 0x7f7122ce4fd0>"
      ]
     },
     "execution_count": 39,
     "metadata": {},
     "output_type": "execute_result"
    },
    {
     "name": "stdout",
     "output_type": "stream",
     "text": [
      "train RMSE,MAE: 0.649 0.493\n",
      "test RMSE,MAE: 0.861 0.649 \n",
      "\n",
      "\n",
      "nfactor, lr, reg: 98 0.005 0.08 \n",
      "\n"
     ]
    },
    {
     "data": {
      "text/plain": [
       "<surprise.prediction_algorithms.matrix_factorization.SVD at 0x7f7122ce41f0>"
      ]
     },
     "execution_count": 39,
     "metadata": {},
     "output_type": "execute_result"
    },
    {
     "name": "stdout",
     "output_type": "stream",
     "text": [
      "train RMSE,MAE: 0.687 0.523\n",
      "test RMSE,MAE: 0.860 0.650 \n",
      "\n",
      "\n",
      "nfactor, lr, reg: 98 0.005 0.1 \n",
      "\n"
     ]
    },
    {
     "data": {
      "text/plain": [
       "<surprise.prediction_algorithms.matrix_factorization.SVD at 0x7f7122ce42b0>"
      ]
     },
     "execution_count": 39,
     "metadata": {},
     "output_type": "execute_result"
    },
    {
     "name": "stdout",
     "output_type": "stream",
     "text": [
      "train RMSE,MAE: 0.701 0.535\n",
      "test RMSE,MAE: 0.860 0.651 \n",
      "\n",
      "\n",
      "nfactor, lr, reg: 98 0.005 0.2 \n",
      "\n"
     ]
    },
    {
     "data": {
      "text/plain": [
       "<surprise.prediction_algorithms.matrix_factorization.SVD at 0x7f7122ce4460>"
      ]
     },
     "execution_count": 39,
     "metadata": {},
     "output_type": "execute_result"
    },
    {
     "name": "stdout",
     "output_type": "stream",
     "text": [
      "train RMSE,MAE: 0.744 0.570\n",
      "test RMSE,MAE: 0.862 0.657 \n",
      "\n",
      "\n",
      "nfactor, lr, reg: 98 0.005 0.4 \n",
      "\n"
     ]
    },
    {
     "data": {
      "text/plain": [
       "<surprise.prediction_algorithms.matrix_factorization.SVD at 0x7f7122ce4100>"
      ]
     },
     "execution_count": 39,
     "metadata": {},
     "output_type": "execute_result"
    },
    {
     "name": "stdout",
     "output_type": "stream",
     "text": [
      "train RMSE,MAE: 0.782 0.603\n",
      "test RMSE,MAE: 0.868 0.669 \n",
      "\n",
      "\n",
      "nfactor, lr, reg: 98 0.005 0.8 \n",
      "\n"
     ]
    },
    {
     "data": {
      "text/plain": [
       "<surprise.prediction_algorithms.matrix_factorization.SVD at 0x7f7122ce4a90>"
      ]
     },
     "execution_count": 39,
     "metadata": {},
     "output_type": "execute_result"
    },
    {
     "name": "stdout",
     "output_type": "stream",
     "text": [
      "train RMSE,MAE: 0.815 0.634\n",
      "test RMSE,MAE: 0.882 0.685 \n",
      "\n",
      "\n",
      "nfactor, lr, reg: 98 0.005 1 \n",
      "\n"
     ]
    },
    {
     "data": {
      "text/plain": [
       "<surprise.prediction_algorithms.matrix_factorization.SVD at 0x7f7122ce4fd0>"
      ]
     },
     "execution_count": 39,
     "metadata": {},
     "output_type": "execute_result"
    },
    {
     "name": "stdout",
     "output_type": "stream",
     "text": [
      "train RMSE,MAE: 0.826 0.645\n",
      "test RMSE,MAE: 0.888 0.692 \n",
      "\n",
      "\n",
      "nfactor, lr, reg: 98 0.005 2 \n",
      "\n"
     ]
    },
    {
     "data": {
      "text/plain": [
       "<surprise.prediction_algorithms.matrix_factorization.SVD at 0x7f7122ce4790>"
      ]
     },
     "execution_count": 39,
     "metadata": {},
     "output_type": "execute_result"
    },
    {
     "name": "stdout",
     "output_type": "stream",
     "text": [
      "train RMSE,MAE: 0.862 0.677\n",
      "test RMSE,MAE: 0.911 0.714 \n",
      "\n",
      "\n",
      "nfactor, lr, reg: 98 0.005 4 \n",
      "\n"
     ]
    },
    {
     "data": {
      "text/plain": [
       "<surprise.prediction_algorithms.matrix_factorization.SVD at 0x7f7122ce4eb0>"
      ]
     },
     "execution_count": 39,
     "metadata": {},
     "output_type": "execute_result"
    },
    {
     "name": "stdout",
     "output_type": "stream",
     "text": [
      "train RMSE,MAE: 0.899 0.710\n",
      "test RMSE,MAE: 0.935 0.736 \n",
      "\n",
      "\n",
      "nfactor, lr, reg: 98 0.005 10 \n",
      "\n"
     ]
    },
    {
     "data": {
      "text/plain": [
       "<surprise.prediction_algorithms.matrix_factorization.SVD at 0x7f7122ce4430>"
      ]
     },
     "execution_count": 39,
     "metadata": {},
     "output_type": "execute_result"
    },
    {
     "name": "stdout",
     "output_type": "stream",
     "text": [
      "train RMSE,MAE: 0.941 0.748\n",
      "test RMSE,MAE: 0.960 0.761 \n",
      "\n",
      "\n",
      "nfactor, lr, reg: 98 0.006 0.01 \n",
      "\n"
     ]
    },
    {
     "data": {
      "text/plain": [
       "<surprise.prediction_algorithms.matrix_factorization.SVD at 0x7f7122ce4e80>"
      ]
     },
     "execution_count": 39,
     "metadata": {},
     "output_type": "execute_result"
    },
    {
     "name": "stdout",
     "output_type": "stream",
     "text": [
      "train RMSE,MAE: 0.543 0.410\n",
      "test RMSE,MAE: 0.865 0.647 \n",
      "\n",
      "\n",
      "nfactor, lr, reg: 98 0.006 0.02 \n",
      "\n"
     ]
    },
    {
     "data": {
      "text/plain": [
       "<surprise.prediction_algorithms.matrix_factorization.SVD at 0x7f7122ce4a90>"
      ]
     },
     "execution_count": 39,
     "metadata": {},
     "output_type": "execute_result"
    },
    {
     "name": "stdout",
     "output_type": "stream",
     "text": [
      "train RMSE,MAE: 0.567 0.430\n",
      "test RMSE,MAE: 0.862 0.646 \n",
      "\n",
      "\n",
      "nfactor, lr, reg: 98 0.006 0.04 \n",
      "\n"
     ]
    },
    {
     "data": {
      "text/plain": [
       "<surprise.prediction_algorithms.matrix_factorization.SVD at 0x7f7122ce4460>"
      ]
     },
     "execution_count": 39,
     "metadata": {},
     "output_type": "execute_result"
    },
    {
     "name": "stdout",
     "output_type": "stream",
     "text": [
      "train RMSE,MAE: 0.606 0.461\n",
      "test RMSE,MAE: 0.859 0.646 \n",
      "\n",
      "\n",
      "nfactor, lr, reg: 98 0.006 0.08 \n",
      "\n"
     ]
    },
    {
     "data": {
      "text/plain": [
       "<surprise.prediction_algorithms.matrix_factorization.SVD at 0x7f7122ce4100>"
      ]
     },
     "execution_count": 39,
     "metadata": {},
     "output_type": "execute_result"
    },
    {
     "name": "stdout",
     "output_type": "stream",
     "text": [
      "train RMSE,MAE: 0.658 0.502\n",
      "test RMSE,MAE: 0.858 0.647 \n",
      "\n",
      "\n",
      "nfactor, lr, reg: 98 0.006 0.1 \n",
      "\n"
     ]
    },
    {
     "data": {
      "text/plain": [
       "<surprise.prediction_algorithms.matrix_factorization.SVD at 0x7f7122ce41f0>"
      ]
     },
     "execution_count": 39,
     "metadata": {},
     "output_type": "execute_result"
    },
    {
     "name": "stdout",
     "output_type": "stream",
     "text": [
      "train RMSE,MAE: 0.676 0.516\n",
      "test RMSE,MAE: 0.858 0.649 \n",
      "\n",
      "\n",
      "nfactor, lr, reg: 98 0.006 0.2 \n",
      "\n"
     ]
    },
    {
     "data": {
      "text/plain": [
       "<surprise.prediction_algorithms.matrix_factorization.SVD at 0x7f7122ce4a30>"
      ]
     },
     "execution_count": 39,
     "metadata": {},
     "output_type": "execute_result"
    },
    {
     "name": "stdout",
     "output_type": "stream",
     "text": [
      "train RMSE,MAE: 0.730 0.559\n",
      "test RMSE,MAE: 0.860 0.655 \n",
      "\n",
      "\n",
      "nfactor, lr, reg: 98 0.006 0.4 \n",
      "\n"
     ]
    },
    {
     "data": {
      "text/plain": [
       "<surprise.prediction_algorithms.matrix_factorization.SVD at 0x7f7122ce4e80>"
      ]
     },
     "execution_count": 39,
     "metadata": {},
     "output_type": "execute_result"
    },
    {
     "name": "stdout",
     "output_type": "stream",
     "text": [
      "train RMSE,MAE: 0.773 0.596\n",
      "test RMSE,MAE: 0.867 0.667 \n",
      "\n",
      "\n",
      "nfactor, lr, reg: 98 0.006 0.8 \n",
      "\n"
     ]
    },
    {
     "data": {
      "text/plain": [
       "<surprise.prediction_algorithms.matrix_factorization.SVD at 0x7f7122ce4100>"
      ]
     },
     "execution_count": 39,
     "metadata": {},
     "output_type": "execute_result"
    },
    {
     "name": "stdout",
     "output_type": "stream",
     "text": [
      "train RMSE,MAE: 0.808 0.629\n",
      "test RMSE,MAE: 0.881 0.684 \n",
      "\n",
      "\n",
      "nfactor, lr, reg: 98 0.006 1 \n",
      "\n"
     ]
    },
    {
     "data": {
      "text/plain": [
       "<surprise.prediction_algorithms.matrix_factorization.SVD at 0x7f7122ce4430>"
      ]
     },
     "execution_count": 39,
     "metadata": {},
     "output_type": "execute_result"
    },
    {
     "name": "stdout",
     "output_type": "stream",
     "text": [
      "train RMSE,MAE: 0.819 0.639\n",
      "test RMSE,MAE: 0.887 0.690 \n",
      "\n",
      "\n",
      "nfactor, lr, reg: 98 0.006 2 \n",
      "\n"
     ]
    },
    {
     "data": {
      "text/plain": [
       "<surprise.prediction_algorithms.matrix_factorization.SVD at 0x7f7122ce4fd0>"
      ]
     },
     "execution_count": 39,
     "metadata": {},
     "output_type": "execute_result"
    },
    {
     "name": "stdout",
     "output_type": "stream",
     "text": [
      "train RMSE,MAE: 0.857 0.673\n",
      "test RMSE,MAE: 0.910 0.713 \n",
      "\n",
      "\n",
      "nfactor, lr, reg: 98 0.006 4 \n",
      "\n"
     ]
    },
    {
     "data": {
      "text/plain": [
       "<surprise.prediction_algorithms.matrix_factorization.SVD at 0x7f7122ce4cd0>"
      ]
     },
     "execution_count": 39,
     "metadata": {},
     "output_type": "execute_result"
    },
    {
     "name": "stdout",
     "output_type": "stream",
     "text": [
      "train RMSE,MAE: 0.897 0.709\n",
      "test RMSE,MAE: 0.934 0.736 \n",
      "\n",
      "\n",
      "nfactor, lr, reg: 98 0.006 10 \n",
      "\n"
     ]
    },
    {
     "data": {
      "text/plain": [
       "<surprise.prediction_algorithms.matrix_factorization.SVD at 0x7f7122ce4a30>"
      ]
     },
     "execution_count": 39,
     "metadata": {},
     "output_type": "execute_result"
    },
    {
     "name": "stdout",
     "output_type": "stream",
     "text": [
      "train RMSE,MAE: 0.941 0.748\n",
      "test RMSE,MAE: 0.960 0.761 \n",
      "\n",
      "\n",
      "nfactor, lr, reg: 98 0.007 0.01 \n",
      "\n"
     ]
    },
    {
     "data": {
      "text/plain": [
       "<surprise.prediction_algorithms.matrix_factorization.SVD at 0x7f7122ce4790>"
      ]
     },
     "execution_count": 39,
     "metadata": {},
     "output_type": "execute_result"
    },
    {
     "name": "stdout",
     "output_type": "stream",
     "text": [
      "train RMSE,MAE: 0.486 0.366\n",
      "test RMSE,MAE: 0.863 0.645 \n",
      "\n",
      "\n",
      "nfactor, lr, reg: 98 0.007 0.02 \n",
      "\n"
     ]
    },
    {
     "data": {
      "text/plain": [
       "<surprise.prediction_algorithms.matrix_factorization.SVD at 0x7f7122ce41f0>"
      ]
     },
     "execution_count": 39,
     "metadata": {},
     "output_type": "execute_result"
    },
    {
     "name": "stdout",
     "output_type": "stream",
     "text": [
      "train RMSE,MAE: 0.515 0.390\n",
      "test RMSE,MAE: 0.862 0.644 \n",
      "\n",
      "\n",
      "nfactor, lr, reg: 98 0.007 0.04 \n",
      "\n"
     ]
    },
    {
     "data": {
      "text/plain": [
       "<surprise.prediction_algorithms.matrix_factorization.SVD at 0x7f7122ce4a90>"
      ]
     },
     "execution_count": 39,
     "metadata": {},
     "output_type": "execute_result"
    },
    {
     "name": "stdout",
     "output_type": "stream",
     "text": [
      "train RMSE,MAE: 0.563 0.429\n",
      "test RMSE,MAE: 0.858 0.644 \n",
      "\n",
      "\n",
      "nfactor, lr, reg: 98 0.007 0.08 \n",
      "\n"
     ]
    },
    {
     "data": {
      "text/plain": [
       "<surprise.prediction_algorithms.matrix_factorization.SVD at 0x7f7122ce4fd0>"
      ]
     },
     "execution_count": 39,
     "metadata": {},
     "output_type": "execute_result"
    },
    {
     "name": "stdout",
     "output_type": "stream",
     "text": [
      "train RMSE,MAE: 0.630 0.480\n",
      "test RMSE,MAE: 0.856 0.645 \n",
      "\n",
      "\n",
      "nfactor, lr, reg: 98 0.007 0.1 \n",
      "\n"
     ]
    },
    {
     "data": {
      "text/plain": [
       "<surprise.prediction_algorithms.matrix_factorization.SVD at 0x7f7122ce4cd0>"
      ]
     },
     "execution_count": 39,
     "metadata": {},
     "output_type": "execute_result"
    },
    {
     "name": "stdout",
     "output_type": "stream",
     "text": [
      "train RMSE,MAE: 0.653 0.498\n",
      "test RMSE,MAE: 0.857 0.647 \n",
      "\n",
      "\n",
      "nfactor, lr, reg: 98 0.007 0.2 \n",
      "\n"
     ]
    },
    {
     "data": {
      "text/plain": [
       "<surprise.prediction_algorithms.matrix_factorization.SVD at 0x7f7122ce4430>"
      ]
     },
     "execution_count": 39,
     "metadata": {},
     "output_type": "execute_result"
    },
    {
     "name": "stdout",
     "output_type": "stream",
     "text": [
      "train RMSE,MAE: 0.718 0.549\n",
      "test RMSE,MAE: 0.859 0.653 \n",
      "\n",
      "\n",
      "nfactor, lr, reg: 98 0.007 0.4 \n",
      "\n"
     ]
    },
    {
     "data": {
      "text/plain": [
       "<surprise.prediction_algorithms.matrix_factorization.SVD at 0x7f7122ce42b0>"
      ]
     },
     "execution_count": 39,
     "metadata": {},
     "output_type": "execute_result"
    },
    {
     "name": "stdout",
     "output_type": "stream",
     "text": [
      "train RMSE,MAE: 0.766 0.590\n",
      "test RMSE,MAE: 0.866 0.665 \n",
      "\n",
      "\n",
      "nfactor, lr, reg: 98 0.007 0.8 \n",
      "\n"
     ]
    },
    {
     "data": {
      "text/plain": [
       "<surprise.prediction_algorithms.matrix_factorization.SVD at 0x7f7122ce4460>"
      ]
     },
     "execution_count": 39,
     "metadata": {},
     "output_type": "execute_result"
    },
    {
     "name": "stdout",
     "output_type": "stream",
     "text": [
      "train RMSE,MAE: 0.803 0.624\n",
      "test RMSE,MAE: 0.880 0.683 \n",
      "\n",
      "\n",
      "nfactor, lr, reg: 98 0.007 1 \n",
      "\n"
     ]
    },
    {
     "data": {
      "text/plain": [
       "<surprise.prediction_algorithms.matrix_factorization.SVD at 0x7f7122ce4a90>"
      ]
     },
     "execution_count": 39,
     "metadata": {},
     "output_type": "execute_result"
    },
    {
     "name": "stdout",
     "output_type": "stream",
     "text": [
      "train RMSE,MAE: 0.814 0.635\n",
      "test RMSE,MAE: 0.886 0.690 \n",
      "\n",
      "\n",
      "nfactor, lr, reg: 98 0.007 2 \n",
      "\n"
     ]
    },
    {
     "data": {
      "text/plain": [
       "<surprise.prediction_algorithms.matrix_factorization.SVD at 0x7f7122ce4fd0>"
      ]
     },
     "execution_count": 39,
     "metadata": {},
     "output_type": "execute_result"
    },
    {
     "name": "stdout",
     "output_type": "stream",
     "text": [
      "train RMSE,MAE: 0.854 0.671\n",
      "test RMSE,MAE: 0.909 0.712 \n",
      "\n",
      "\n",
      "nfactor, lr, reg: 98 0.007 4 \n",
      "\n"
     ]
    },
    {
     "data": {
      "text/plain": [
       "<surprise.prediction_algorithms.matrix_factorization.SVD at 0x7f7122ce41f0>"
      ]
     },
     "execution_count": 39,
     "metadata": {},
     "output_type": "execute_result"
    },
    {
     "name": "stdout",
     "output_type": "stream",
     "text": [
      "train RMSE,MAE: 0.896 0.707\n",
      "test RMSE,MAE: 0.934 0.736 \n",
      "\n",
      "\n",
      "nfactor, lr, reg: 98 0.007 10 \n",
      "\n"
     ]
    },
    {
     "data": {
      "text/plain": [
       "<surprise.prediction_algorithms.matrix_factorization.SVD at 0x7f7122ce46a0>"
      ]
     },
     "execution_count": 39,
     "metadata": {},
     "output_type": "execute_result"
    },
    {
     "name": "stdout",
     "output_type": "stream",
     "text": [
      "train RMSE,MAE: 0.941 0.748\n",
      "test RMSE,MAE: 0.960 0.761 \n",
      "\n",
      "\n",
      "nfactor, lr, reg: 98 0.008 0.01 \n",
      "\n"
     ]
    },
    {
     "data": {
      "text/plain": [
       "<surprise.prediction_algorithms.matrix_factorization.SVD at 0x7f7122ce4eb0>"
      ]
     },
     "execution_count": 39,
     "metadata": {},
     "output_type": "execute_result"
    },
    {
     "name": "stdout",
     "output_type": "stream",
     "text": [
      "train RMSE,MAE: 0.433 0.324\n",
      "test RMSE,MAE: 0.865 0.644 \n",
      "\n",
      "\n",
      "nfactor, lr, reg: 98 0.008 0.02 \n",
      "\n"
     ]
    },
    {
     "data": {
      "text/plain": [
       "<surprise.prediction_algorithms.matrix_factorization.SVD at 0x7f7122ce4460>"
      ]
     },
     "execution_count": 39,
     "metadata": {},
     "output_type": "execute_result"
    },
    {
     "name": "stdout",
     "output_type": "stream",
     "text": [
      "train RMSE,MAE: 0.464 0.351\n",
      "test RMSE,MAE: 0.864 0.644 \n",
      "\n",
      "\n",
      "nfactor, lr, reg: 98 0.008 0.04 \n",
      "\n"
     ]
    },
    {
     "data": {
      "text/plain": [
       "<surprise.prediction_algorithms.matrix_factorization.SVD at 0x7f7122ce4e80>"
      ]
     },
     "execution_count": 39,
     "metadata": {},
     "output_type": "execute_result"
    },
    {
     "name": "stdout",
     "output_type": "stream",
     "text": [
      "train RMSE,MAE: 0.524 0.398\n",
      "test RMSE,MAE: 0.857 0.641 \n",
      "\n",
      "\n",
      "nfactor, lr, reg: 98 0.008 0.08 \n",
      "\n"
     ]
    },
    {
     "data": {
      "text/plain": [
       "<surprise.prediction_algorithms.matrix_factorization.SVD at 0x7f7122ce4c70>"
      ]
     },
     "execution_count": 39,
     "metadata": {},
     "output_type": "execute_result"
    },
    {
     "name": "stdout",
     "output_type": "stream",
     "text": [
      "train RMSE,MAE: 0.605 0.462\n",
      "test RMSE,MAE: 0.856 0.644 \n",
      "\n",
      "\n",
      "nfactor, lr, reg: 98 0.008 0.1 \n",
      "\n"
     ]
    },
    {
     "data": {
      "text/plain": [
       "<surprise.prediction_algorithms.matrix_factorization.SVD at 0x7f7122ce4430>"
      ]
     },
     "execution_count": 39,
     "metadata": {},
     "output_type": "execute_result"
    },
    {
     "name": "stdout",
     "output_type": "stream",
     "text": [
      "train RMSE,MAE: 0.631 0.482\n",
      "test RMSE,MAE: 0.856 0.645 \n",
      "\n",
      "\n",
      "nfactor, lr, reg: 98 0.008 0.2 \n",
      "\n"
     ]
    },
    {
     "data": {
      "text/plain": [
       "<surprise.prediction_algorithms.matrix_factorization.SVD at 0x7f7122ce45b0>"
      ]
     },
     "execution_count": 39,
     "metadata": {},
     "output_type": "execute_result"
    },
    {
     "name": "stdout",
     "output_type": "stream",
     "text": [
      "train RMSE,MAE: 0.707 0.540\n",
      "test RMSE,MAE: 0.858 0.652 \n",
      "\n",
      "\n",
      "nfactor, lr, reg: 98 0.008 0.4 \n",
      "\n"
     ]
    },
    {
     "data": {
      "text/plain": [
       "<surprise.prediction_algorithms.matrix_factorization.SVD at 0x7f7122ce4eb0>"
      ]
     },
     "execution_count": 39,
     "metadata": {},
     "output_type": "execute_result"
    },
    {
     "name": "stdout",
     "output_type": "stream",
     "text": [
      "train RMSE,MAE: 0.760 0.585\n",
      "test RMSE,MAE: 0.866 0.665 \n",
      "\n",
      "\n",
      "nfactor, lr, reg: 98 0.008 0.8 \n",
      "\n"
     ]
    },
    {
     "data": {
      "text/plain": [
       "<surprise.prediction_algorithms.matrix_factorization.SVD at 0x7f7122ce41f0>"
      ]
     },
     "execution_count": 39,
     "metadata": {},
     "output_type": "execute_result"
    },
    {
     "name": "stdout",
     "output_type": "stream",
     "text": [
      "train RMSE,MAE: 0.798 0.620\n",
      "test RMSE,MAE: 0.879 0.682 \n",
      "\n",
      "\n",
      "nfactor, lr, reg: 98 0.008 1 \n",
      "\n"
     ]
    },
    {
     "data": {
      "text/plain": [
       "<surprise.prediction_algorithms.matrix_factorization.SVD at 0x7f7122ce46a0>"
      ]
     },
     "execution_count": 39,
     "metadata": {},
     "output_type": "execute_result"
    },
    {
     "name": "stdout",
     "output_type": "stream",
     "text": [
      "train RMSE,MAE: 0.810 0.632\n",
      "test RMSE,MAE: 0.885 0.689 \n",
      "\n",
      "\n",
      "nfactor, lr, reg: 98 0.008 2 \n",
      "\n"
     ]
    },
    {
     "data": {
      "text/plain": [
       "<surprise.prediction_algorithms.matrix_factorization.SVD at 0x7f7122ce4a90>"
      ]
     },
     "execution_count": 39,
     "metadata": {},
     "output_type": "execute_result"
    },
    {
     "name": "stdout",
     "output_type": "stream",
     "text": [
      "train RMSE,MAE: 0.851 0.668\n",
      "test RMSE,MAE: 0.909 0.712 \n",
      "\n",
      "\n",
      "nfactor, lr, reg: 98 0.008 4 \n",
      "\n"
     ]
    },
    {
     "data": {
      "text/plain": [
       "<surprise.prediction_algorithms.matrix_factorization.SVD at 0x7f7122ce4a30>"
      ]
     },
     "execution_count": 39,
     "metadata": {},
     "output_type": "execute_result"
    },
    {
     "name": "stdout",
     "output_type": "stream",
     "text": [
      "train RMSE,MAE: 0.895 0.706\n",
      "test RMSE,MAE: 0.934 0.735 \n",
      "\n",
      "\n",
      "nfactor, lr, reg: 98 0.008 10 \n",
      "\n"
     ]
    },
    {
     "data": {
      "text/plain": [
       "<surprise.prediction_algorithms.matrix_factorization.SVD at 0x7f7122ce45b0>"
      ]
     },
     "execution_count": 39,
     "metadata": {},
     "output_type": "execute_result"
    },
    {
     "name": "stdout",
     "output_type": "stream",
     "text": [
      "train RMSE,MAE: 0.941 0.748\n",
      "test RMSE,MAE: 0.960 0.761 \n",
      "\n",
      "\n",
      "nfactor, lr, reg: 98 0.009000000000000001 0.01 \n",
      "\n"
     ]
    },
    {
     "data": {
      "text/plain": [
       "<surprise.prediction_algorithms.matrix_factorization.SVD at 0x7f7122ce4c70>"
      ]
     },
     "execution_count": 39,
     "metadata": {},
     "output_type": "execute_result"
    },
    {
     "name": "stdout",
     "output_type": "stream",
     "text": [
      "train RMSE,MAE: 0.382 0.284\n",
      "test RMSE,MAE: 0.869 0.645 \n",
      "\n",
      "\n",
      "nfactor, lr, reg: 98 0.009000000000000001 0.02 \n",
      "\n"
     ]
    },
    {
     "data": {
      "text/plain": [
       "<surprise.prediction_algorithms.matrix_factorization.SVD at 0x7f7122ce4430>"
      ]
     },
     "execution_count": 39,
     "metadata": {},
     "output_type": "execute_result"
    },
    {
     "name": "stdout",
     "output_type": "stream",
     "text": [
      "train RMSE,MAE: 0.422 0.318\n",
      "test RMSE,MAE: 0.862 0.641 \n",
      "\n",
      "\n",
      "nfactor, lr, reg: 98 0.009000000000000001 0.04 \n",
      "\n"
     ]
    },
    {
     "data": {
      "text/plain": [
       "<surprise.prediction_algorithms.matrix_factorization.SVD at 0x7f7122ce4460>"
      ]
     },
     "execution_count": 39,
     "metadata": {},
     "output_type": "execute_result"
    },
    {
     "name": "stdout",
     "output_type": "stream",
     "text": [
      "train RMSE,MAE: 0.485 0.369\n",
      "test RMSE,MAE: 0.860 0.643 \n",
      "\n",
      "\n",
      "nfactor, lr, reg: 98 0.009000000000000001 0.08 \n",
      "\n"
     ]
    },
    {
     "data": {
      "text/plain": [
       "<surprise.prediction_algorithms.matrix_factorization.SVD at 0x7f7122ce4cd0>"
      ]
     },
     "execution_count": 39,
     "metadata": {},
     "output_type": "execute_result"
    },
    {
     "name": "stdout",
     "output_type": "stream",
     "text": [
      "train RMSE,MAE: 0.577 0.441\n",
      "test RMSE,MAE: 0.855 0.643 \n",
      "\n",
      "\n",
      "nfactor, lr, reg: 98 0.009000000000000001 0.1 \n",
      "\n"
     ]
    },
    {
     "data": {
      "text/plain": [
       "<surprise.prediction_algorithms.matrix_factorization.SVD at 0x7f7122ce4a30>"
      ]
     },
     "execution_count": 39,
     "metadata": {},
     "output_type": "execute_result"
    },
    {
     "name": "stdout",
     "output_type": "stream",
     "text": [
      "train RMSE,MAE: 0.608 0.464\n",
      "test RMSE,MAE: 0.853 0.643 \n",
      "\n",
      "\n",
      "nfactor, lr, reg: 98 0.009000000000000001 0.2 \n",
      "\n"
     ]
    },
    {
     "data": {
      "text/plain": [
       "<surprise.prediction_algorithms.matrix_factorization.SVD at 0x7f7122ce4430>"
      ]
     },
     "execution_count": 39,
     "metadata": {},
     "output_type": "execute_result"
    },
    {
     "name": "stdout",
     "output_type": "stream",
     "text": [
      "train RMSE,MAE: 0.696 0.532\n",
      "test RMSE,MAE: 0.858 0.651 \n",
      "\n",
      "\n",
      "nfactor, lr, reg: 98 0.009000000000000001 0.4 \n",
      "\n"
     ]
    },
    {
     "data": {
      "text/plain": [
       "<surprise.prediction_algorithms.matrix_factorization.SVD at 0x7f7122ce4a90>"
      ]
     },
     "execution_count": 39,
     "metadata": {},
     "output_type": "execute_result"
    },
    {
     "name": "stdout",
     "output_type": "stream",
     "text": [
      "train RMSE,MAE: 0.755 0.580\n",
      "test RMSE,MAE: 0.865 0.664 \n",
      "\n",
      "\n",
      "nfactor, lr, reg: 98 0.009000000000000001 0.8 \n",
      "\n"
     ]
    },
    {
     "data": {
      "text/plain": [
       "<surprise.prediction_algorithms.matrix_factorization.SVD at 0x7f7122ce4eb0>"
      ]
     },
     "execution_count": 39,
     "metadata": {},
     "output_type": "execute_result"
    },
    {
     "name": "stdout",
     "output_type": "stream",
     "text": [
      "train RMSE,MAE: 0.795 0.617\n",
      "test RMSE,MAE: 0.879 0.682 \n",
      "\n",
      "\n",
      "nfactor, lr, reg: 98 0.009000000000000001 1 \n",
      "\n"
     ]
    },
    {
     "data": {
      "text/plain": [
       "<surprise.prediction_algorithms.matrix_factorization.SVD at 0x7f7122ce4fd0>"
      ]
     },
     "execution_count": 39,
     "metadata": {},
     "output_type": "execute_result"
    },
    {
     "name": "stdout",
     "output_type": "stream",
     "text": [
      "train RMSE,MAE: 0.807 0.629\n",
      "test RMSE,MAE: 0.885 0.689 \n",
      "\n",
      "\n",
      "nfactor, lr, reg: 98 0.009000000000000001 2 \n",
      "\n"
     ]
    },
    {
     "data": {
      "text/plain": [
       "<surprise.prediction_algorithms.matrix_factorization.SVD at 0x7f7122ce4cd0>"
      ]
     },
     "execution_count": 39,
     "metadata": {},
     "output_type": "execute_result"
    },
    {
     "name": "stdout",
     "output_type": "stream",
     "text": [
      "train RMSE,MAE: 0.849 0.667\n",
      "test RMSE,MAE: 0.909 0.712 \n",
      "\n",
      "\n",
      "nfactor, lr, reg: 98 0.009000000000000001 4 \n",
      "\n"
     ]
    },
    {
     "data": {
      "text/plain": [
       "<surprise.prediction_algorithms.matrix_factorization.SVD at 0x7f7122ce41f0>"
      ]
     },
     "execution_count": 39,
     "metadata": {},
     "output_type": "execute_result"
    },
    {
     "name": "stdout",
     "output_type": "stream",
     "text": [
      "train RMSE,MAE: 0.894 0.706\n",
      "test RMSE,MAE: 0.934 0.735 \n",
      "\n",
      "\n",
      "nfactor, lr, reg: 98 0.009000000000000001 10 \n",
      "\n"
     ]
    },
    {
     "data": {
      "text/plain": [
       "<surprise.prediction_algorithms.matrix_factorization.SVD at 0x7f7122ce4460>"
      ]
     },
     "execution_count": 39,
     "metadata": {},
     "output_type": "execute_result"
    },
    {
     "name": "stdout",
     "output_type": "stream",
     "text": [
      "train RMSE,MAE: 0.941 0.748\n",
      "test RMSE,MAE: 0.961 0.761 \n",
      "\n",
      "\n"
     ]
    },
    {
     "name": "stdout",
     "output_type": "stream",
     "text": [
      "test RMSE,MAE: 0.733 0.619 \n",
      "\n",
      "\n",
      "nfactor, lr, reg: 42 0.001 0.1 \n",
      "\n",
      "train RMSE,MAE: 0.704 0.610\n",
      "test RMSE,MAE: 0.732 0.619 \n",
      "\n",
      "\n",
      "nfactor, lr, reg: 42 0.001 0.2 \n",
      "\n",
      "train RMSE,MAE: 0.703 0.609\n",
      "test RMSE,MAE: 0.732 0.619 \n",
      "\n",
      "\n",
      "nfactor, lr, reg: 42 0.001 0.4 \n",
      "\n",
      "train RMSE,MAE: 0.706 0.611\n",
      "test RMSE,MAE: 0.732 0.619 \n",
      "\n",
      "\n",
      "nfactor, lr, reg: 42 0.001 0.8 \n",
      "\n",
      "train RMSE,MAE: 0.710 0.616\n",
      "test RMSE,MAE: 0.732 0.619 \n",
      "\n",
      "\n",
      "nfactor, lr, reg: 42 0.001 1 \n",
      "\n",
      "train RMSE,MAE: 0.708 0.616\n",
      "test RMSE,MAE: 0.732 0.619 \n",
      "\n",
      "\n",
      "nfactor, lr, reg: 42 0.001 2 \n",
      "\n",
      "train RMSE,MAE: 0.716 0.623\n",
      "test RMSE,MAE: 0.732 0.619 \n",
      "\n",
      "\n",
      "nfactor, lr, reg: 42 0.001 4 \n",
      "\n",
      "train RMSE,MAE: 0.730 0.635\n",
      "test RMSE,MAE: 0.732 0.619 \n",
      "\n",
      "\n",
      "nfactor, lr, reg: 42 0.001 10 \n",
      "\n",
      "train RMSE,MAE: 0.751 0.652\n",
      "test RMSE,MAE: 0.732 0.620 \n",
      "\n",
      "\n",
      "nfactor, lr, reg: 42 0.002 0.01 \n",
      "\n",
      "train RMSE,MAE: 0.635 0.548\n",
      "test RMSE,MAE: 0.734 0.617 \n",
      "\n",
      "\n",
      "nfactor, lr, reg: 42 0.002 0.02 \n",
      "\n",
      "train RMSE,MAE: 0.635 0.548\n",
      "test RMSE,MAE: 0.734 0.617 \n",
      "\n",
      "\n",
      "nfactor, lr, reg: 42 0.002 0.04 \n",
      "\n",
      "train RMSE,MAE: 0.635 0.549\n",
      "test RMSE,MAE: 0.733 0.616 \n",
      "\n",
      "\n",
      "nfactor, lr, reg: 42 0.002 0.08 \n",
      "\n",
      "train RMSE,MAE: 0.636 0.548\n",
      "test RMSE,MAE: 0.733 0.617 \n",
      "\n",
      "\n",
      "nfactor, lr, reg: 42 0.002 0.1 \n",
      "\n",
      "train RMSE,MAE: 0.638 0.552\n",
      "test RMSE,MAE: 0.734 0.617 \n",
      "\n",
      "\n",
      "nfactor, lr, reg: 42 0.002 0.2 \n",
      "\n",
      "train RMSE,MAE: 0.644 0.556\n",
      "test RMSE,MAE: 0.732 0.616 \n",
      "\n",
      "\n",
      "nfactor, lr, reg: 42 0.002 0.4 \n",
      "\n",
      "train RMSE,MAE: 0.647 0.560\n",
      "test RMSE,MAE: 0.733 0.617 \n",
      "\n",
      "\n",
      "nfactor, lr, reg: 42 0.002 0.8 \n",
      "\n",
      "train RMSE,MAE: 0.660 0.572\n",
      "test RMSE,MAE: 0.732 0.617 \n",
      "\n",
      "\n",
      "nfactor, lr, reg: 42 0.002 1 \n",
      "\n",
      "train RMSE,MAE: 0.662 0.574\n",
      "test RMSE,MAE: 0.732 0.617 \n",
      "\n",
      "\n",
      "nfactor, lr, reg: 42 0.002 2 \n",
      "\n",
      "train RMSE,MAE: 0.683 0.593\n",
      "test RMSE,MAE: 0.732 0.617 \n",
      "\n",
      "\n",
      "nfactor, lr, reg: 42 0.002 4 \n",
      "\n",
      "train RMSE,MAE: 0.709 0.617\n",
      "test RMSE,MAE: 0.731 0.618 \n",
      "\n",
      "\n",
      "nfactor, lr, reg: 42 0.002 10 \n",
      "\n",
      "train RMSE,MAE: 0.745 0.648\n",
      "test RMSE,MAE: 0.731 0.619 \n",
      "\n",
      "\n",
      "nfactor, lr, reg: 42 0.003 0.01 \n",
      "\n",
      "train RMSE,MAE: 0.590 0.505\n",
      "test RMSE,MAE: 0.734 0.616 \n",
      "\n",
      "\n",
      "nfactor, lr, reg: 42 0.003 0.02 \n",
      "\n",
      "train RMSE,MAE: 0.590 0.506\n",
      "test RMSE,MAE: 0.735 0.616 \n",
      "\n",
      "\n",
      "nfactor, lr, reg: 42 0.003 0.04 \n",
      "\n",
      "train RMSE,MAE: 0.593 0.507\n",
      "test RMSE,MAE: 0.735 0.616 \n",
      "\n",
      "\n",
      "nfactor, lr, reg: 42 0.003 0.08 \n",
      "\n",
      "train RMSE,MAE: 0.592 0.506\n",
      "test RMSE,MAE: 0.733 0.615 \n",
      "\n",
      "\n",
      "nfactor, lr, reg: 42 0.003 0.1 \n",
      "\n",
      "train RMSE,MAE: 0.592 0.508\n",
      "test RMSE,MAE: 0.734 0.616 \n",
      "\n",
      "\n",
      "nfactor, lr, reg: 42 0.003 0.2 \n",
      "\n",
      "train RMSE,MAE: 0.600 0.515\n",
      "test RMSE,MAE: 0.734 0.616 \n",
      "\n",
      "\n",
      "nfactor, lr, reg: 42 0.003 0.4 \n",
      "\n",
      "train RMSE,MAE: 0.610 0.525\n",
      "test RMSE,MAE: 0.733 0.616 \n",
      "\n",
      "\n",
      "nfactor, lr, reg: 42 0.003 0.8 \n",
      "\n",
      "train RMSE,MAE: 0.628 0.542\n",
      "test RMSE,MAE: 0.733 0.616 \n",
      "\n",
      "\n",
      "nfactor, lr, reg: 42 0.003 1 \n",
      "\n",
      "train RMSE,MAE: 0.635 0.548\n",
      "test RMSE,MAE: 0.732 0.616 \n",
      "\n",
      "\n",
      "nfactor, lr, reg: 42 0.003 2 \n",
      "\n",
      "train RMSE,MAE: 0.665 0.577\n",
      "test RMSE,MAE: 0.731 0.616 \n",
      "\n",
      "\n",
      "nfactor, lr, reg: 42 0.003 4 \n",
      "\n",
      "train RMSE,MAE: 0.701 0.609\n",
      "test RMSE,MAE: 0.731 0.617 \n",
      "\n",
      "\n",
      "nfactor, lr, reg: 42 0.003 10 \n",
      "\n",
      "train RMSE,MAE: 0.744 0.646\n",
      "test RMSE,MAE: 0.731 0.619 \n",
      "\n",
      "\n",
      "nfactor, lr, reg: 42 0.004 0.01 \n",
      "\n",
      "train RMSE,MAE: 0.552 0.466\n",
      "test RMSE,MAE: 0.735 0.616 \n",
      "\n",
      "\n",
      "nfactor, lr, reg: 42 0.004 0.02 \n",
      "\n",
      "train RMSE,MAE: 0.554 0.469\n",
      "test RMSE,MAE: 0.736 0.617 \n",
      "\n",
      "\n",
      "nfactor, lr, reg: 42 0.004 0.04 \n",
      "\n",
      "train RMSE,MAE: 0.557 0.473\n",
      "test RMSE,MAE: 0.736 0.617 \n",
      "\n",
      "\n",
      "nfactor, lr, reg: 42 0.004 0.08 \n",
      "\n",
      "train RMSE,MAE: 0.559 0.476\n",
      "test RMSE,MAE: 0.734 0.615 \n",
      "\n",
      "\n",
      "nfactor, lr, reg: 42 0.004 0.1 \n",
      "\n",
      "train RMSE,MAE: 0.561 0.477\n",
      "test RMSE,MAE: 0.734 0.615 \n",
      "\n",
      "\n",
      "nfactor, lr, reg: 42 0.004 0.2 \n",
      "\n",
      "train RMSE,MAE: 0.572 0.488\n",
      "test RMSE,MAE: 0.735 0.616 \n",
      "\n",
      "\n",
      "nfactor, lr, reg: 42 0.004 0.4 \n",
      "\n",
      "train RMSE,MAE: 0.585 0.501\n",
      "test RMSE,MAE: 0.733 0.615 \n",
      "\n",
      "\n",
      "nfactor, lr, reg: 42 0.004 0.8 \n",
      "\n",
      "train RMSE,MAE: 0.607 0.523\n",
      "test RMSE,MAE: 0.733 0.615 \n",
      "\n",
      "\n",
      "nfactor, lr, reg: 42 0.004 1 \n",
      "\n",
      "train RMSE,MAE: 0.618 0.533\n",
      "test RMSE,MAE: 0.733 0.615 \n",
      "\n",
      "\n",
      "nfactor, lr, reg: 42 0.004 2 \n",
      "\n",
      "train RMSE,MAE: 0.656 0.568\n",
      "test RMSE,MAE: 0.731 0.615 \n",
      "\n",
      "\n",
      "nfactor, lr, reg: 42 0.004 4 \n",
      "\n",
      "train RMSE,MAE: 0.697 0.606\n",
      "test RMSE,MAE: 0.731 0.617 \n",
      "\n",
      "\n",
      "nfactor, lr, reg: 42 0.004 10 \n",
      "\n",
      "train RMSE,MAE: 0.743 0.646\n",
      "test RMSE,MAE: 0.731 0.619 \n",
      "\n",
      "\n",
      "nfactor, lr, reg: 42 0.005 0.01 \n",
      "\n",
      "train RMSE,MAE: 0.524 0.438\n",
      "test RMSE,MAE: 0.736 0.617 \n",
      "\n",
      "\n",
      "nfactor, lr, reg: 42 0.005 0.02 \n",
      "\n",
      "train RMSE,MAE: 0.526 0.440\n",
      "test RMSE,MAE: 0.736 0.616 \n",
      "\n",
      "\n",
      "nfactor, lr, reg: 42 0.005 0.04 \n",
      "\n",
      "train RMSE,MAE: 0.528 0.442\n",
      "test RMSE,MAE: 0.735 0.616 \n",
      "\n",
      "\n",
      "nfactor, lr, reg: 42 0.005 0.08 \n",
      "\n",
      "train RMSE,MAE: 0.533 0.447\n",
      "test RMSE,MAE: 0.735 0.616 \n",
      "\n",
      "\n",
      "nfactor, lr, reg: 42 0.005 0.1 \n",
      "\n",
      "train RMSE,MAE: 0.536 0.450\n",
      "test RMSE,MAE: 0.735 0.616 \n",
      "\n",
      "\n",
      "nfactor, lr, reg: 42 0.005 0.2 \n",
      "\n",
      "train RMSE,MAE: 0.547 0.461\n",
      "test RMSE,MAE: 0.735 0.616 \n",
      "\n",
      "\n",
      "nfactor, lr, reg: 42 0.005 0.4 \n",
      "\n",
      "train RMSE,MAE: 0.564 0.480\n",
      "test RMSE,MAE: 0.734 0.615 \n",
      "\n",
      "\n",
      "nfactor, lr, reg: 42 0.005 0.8 \n",
      "\n",
      "train RMSE,MAE: 0.595 0.511\n",
      "test RMSE,MAE: 0.733 0.615 \n",
      "\n",
      "\n",
      "nfactor, lr, reg: 42 0.005 1 \n",
      "\n",
      "train RMSE,MAE: 0.608 0.523\n",
      "test RMSE,MAE: 0.732 0.614 \n",
      "\n",
      "\n",
      "nfactor, lr, reg: 42 0.005 2 \n",
      "\n",
      "train RMSE,MAE: 0.649 0.562\n",
      "test RMSE,MAE: 0.732 0.615 \n",
      "\n",
      "\n",
      "nfactor, lr, reg: 42 0.005 4 \n",
      "\n",
      "train RMSE,MAE: 0.695 0.604\n",
      "test RMSE,MAE: 0.731 0.617 \n",
      "\n",
      "\n",
      "nfactor, lr, reg: 42 0.005 10 \n",
      "\n",
      "train RMSE,MAE: 0.743 0.645\n",
      "test RMSE,MAE: 0.731 0.619 \n",
      "\n",
      "\n",
      "nfactor, lr, reg: 42 0.006 0.01 \n",
      "\n",
      "train RMSE,MAE: 0.511 0.419\n",
      "test RMSE,MAE: 0.737 0.617 \n",
      "\n",
      "\n",
      "nfactor, lr, reg: 42 0.006 0.02 \n",
      "\n",
      "train RMSE,MAE: 0.501 0.413\n",
      "test RMSE,MAE: 0.736 0.616 \n",
      "\n",
      "\n",
      "nfactor, lr, reg: 42 0.006 0.04 \n",
      "\n",
      "train RMSE,MAE: 0.511 0.423\n",
      "test RMSE,MAE: 0.737 0.617 \n",
      "\n",
      "\n",
      "nfactor, lr, reg: 42 0.006 0.08 \n",
      "\n",
      "train RMSE,MAE: 0.513 0.426\n",
      "test RMSE,MAE: 0.736 0.617 \n",
      "\n",
      "\n",
      "nfactor, lr, reg: 42 0.006 0.1 \n",
      "\n",
      "train RMSE,MAE: 0.517 0.430\n",
      "test RMSE,MAE: 0.736 0.616 \n",
      "\n",
      "\n",
      "nfactor, lr, reg: 42 0.006 0.2 \n",
      "\n",
      "train RMSE,MAE: 0.529 0.441\n",
      "test RMSE,MAE: 0.735 0.616 \n",
      "\n",
      "\n",
      "nfactor, lr, reg: 42 0.006 0.4 \n",
      "\n",
      "train RMSE,MAE: 0.553 0.468\n",
      "test RMSE,MAE: 0.735 0.616 \n",
      "\n",
      "\n",
      "nfactor, lr, reg: 42 0.006 0.8 \n",
      "\n",
      "train RMSE,MAE: 0.585 0.501\n",
      "test RMSE,MAE: 0.733 0.615 \n",
      "\n",
      "\n",
      "nfactor, lr, reg: 42 0.006 1 \n",
      "\n",
      "train RMSE,MAE: 0.600 0.515\n",
      "test RMSE,MAE: 0.733 0.615 \n",
      "\n",
      "\n",
      "nfactor, lr, reg: 42 0.006 2 \n",
      "\n",
      "train RMSE,MAE: 0.646 0.559\n",
      "test RMSE,MAE: 0.732 0.615 \n",
      "\n",
      "\n",
      "nfactor, lr, reg: 42 0.006 4 \n",
      "\n",
      "train RMSE,MAE: 0.694 0.602\n",
      "test RMSE,MAE: 0.731 0.617 \n",
      "\n",
      "\n",
      "nfactor, lr, reg: 42 0.006 10 \n",
      "\n",
      "train RMSE,MAE: 0.742 0.645\n",
      "test RMSE,MAE: 0.731 0.619 \n",
      "\n",
      "\n",
      "nfactor, lr, reg: 42 0.007 0.01 \n",
      "\n",
      "train RMSE,MAE: 0.479 0.390\n",
      "test RMSE,MAE: 0.738 0.618 \n",
      "\n",
      "\n",
      "nfactor, lr, reg: 42 0.007 0.02 \n",
      "\n",
      "train RMSE,MAE: 0.482 0.392\n",
      "test RMSE,MAE: 0.738 0.617 \n",
      "\n",
      "\n",
      "nfactor, lr, reg: 42 0.007 0.04 \n",
      "\n",
      "train RMSE,MAE: 0.491 0.401\n",
      "test RMSE,MAE: 0.738 0.618 \n",
      "\n",
      "\n",
      "nfactor, lr, reg: 42 0.007 0.08 \n",
      "\n",
      "train RMSE,MAE: 0.496 0.406\n",
      "test RMSE,MAE: 0.737 0.617 \n",
      "\n",
      "\n",
      "nfactor, lr, reg: 42 0.007 0.1 \n",
      "\n",
      "train RMSE,MAE: 0.502 0.413\n",
      "test RMSE,MAE: 0.737 0.617 \n",
      "\n",
      "\n",
      "nfactor, lr, reg: 42 0.007 0.2 \n",
      "\n",
      "train RMSE,MAE: 0.517 0.429\n",
      "test RMSE,MAE: 0.735 0.616 \n",
      "\n",
      "\n",
      "nfactor, lr, reg: 42 0.007 0.4 \n",
      "\n",
      "train RMSE,MAE: 0.540 0.455\n",
      "test RMSE,MAE: 0.735 0.616 \n",
      "\n",
      "\n",
      "nfactor, lr, reg: 42 0.007 0.8 \n",
      "\n",
      "train RMSE,MAE: 0.579 0.495\n",
      "test RMSE,MAE: 0.734 0.615 \n",
      "\n",
      "\n",
      "nfactor, lr, reg: 42 0.007 1 \n",
      "\n",
      "train RMSE,MAE: 0.595 0.510\n",
      "test RMSE,MAE: 0.733 0.615 \n",
      "\n",
      "\n",
      "nfactor, lr, reg: 42 0.007 2 \n",
      "\n",
      "train RMSE,MAE: 0.643 0.557\n",
      "test RMSE,MAE: 0.732 0.615 \n",
      "\n",
      "\n",
      "nfactor, lr, reg: 42 0.007 4 \n",
      "\n",
      "train RMSE,MAE: 0.693 0.602\n",
      "test RMSE,MAE: 0.731 0.617 \n",
      "\n",
      "\n",
      "nfactor, lr, reg: 42 0.007 10 \n",
      "\n",
      "train RMSE,MAE: 0.742 0.645\n",
      "test RMSE,MAE: 0.731 0.619 \n",
      "\n",
      "\n",
      "nfactor, lr, reg: 42 0.008 0.01 \n",
      "\n",
      "train RMSE,MAE: 0.469 0.377\n",
      "test RMSE,MAE: 0.738 0.618 \n",
      "\n",
      "\n",
      "nfactor, lr, reg: 42 0.008 0.02 \n",
      "\n",
      "train RMSE,MAE: 0.476 0.381\n",
      "test RMSE,MAE: 0.738 0.619 \n",
      "\n",
      "\n",
      "nfactor, lr, reg: 42 0.008 0.04 \n",
      "\n",
      "train RMSE,MAE: 0.471 0.378\n",
      "test RMSE,MAE: 0.737 0.618 \n",
      "\n",
      "\n",
      "nfactor, lr, reg: 42 0.008 0.08 \n",
      "\n",
      "train RMSE,MAE: 0.484 0.393\n",
      "test RMSE,MAE: 0.739 0.618 \n",
      "\n",
      "\n",
      "nfactor, lr, reg: 42 0.008 0.1 \n",
      "\n",
      "train RMSE,MAE: 0.488 0.397\n",
      "test RMSE,MAE: 0.738 0.619 \n",
      "\n",
      "\n",
      "nfactor, lr, reg: 42 0.008 0.2 \n",
      "\n",
      "train RMSE,MAE: 0.505 0.417\n",
      "test RMSE,MAE: 0.737 0.617 \n",
      "\n",
      "\n",
      "nfactor, lr, reg: 42 0.008 0.4 \n",
      "\n",
      "train RMSE,MAE: 0.535 0.449\n",
      "test RMSE,MAE: 0.735 0.616 \n",
      "\n",
      "\n",
      "nfactor, lr, reg: 42 0.008 0.8 \n",
      "\n",
      "train RMSE,MAE: 0.576 0.492\n",
      "test RMSE,MAE: 0.734 0.615 \n",
      "\n",
      "\n",
      "nfactor, lr, reg: 42 0.008 1 \n",
      "\n",
      "train RMSE,MAE: 0.591 0.507\n",
      "test RMSE,MAE: 0.733 0.615 \n",
      "\n",
      "\n",
      "nfactor, lr, reg: 42 0.008 2 \n",
      "\n",
      "train RMSE,MAE: 0.642 0.555\n",
      "test RMSE,MAE: 0.732 0.615 \n",
      "\n",
      "\n",
      "nfactor, lr, reg: 42 0.008 4 \n",
      "\n",
      "train RMSE,MAE: 0.693 0.601\n",
      "test RMSE,MAE: 0.731 0.617 \n",
      "\n",
      "\n",
      "nfactor, lr, reg: 42 0.008 10 \n",
      "\n",
      "train RMSE,MAE: 0.742 0.645\n",
      "test RMSE,MAE: 0.731 0.619 \n",
      "\n",
      "\n",
      "nfactor, lr, reg: 42 0.009000000000000001 0.01 \n",
      "\n",
      "train RMSE,MAE: 0.453 0.359\n",
      "test RMSE,MAE: 0.740 0.620 \n",
      "\n",
      "\n",
      "nfactor, lr, reg: 42 0.009000000000000001 0.02 \n",
      "\n"
     ]
    },
    {
     "name": "stdout",
     "output_type": "stream",
     "text": [
      "train RMSE,MAE: 0.456 0.362\n",
      "test RMSE,MAE: 0.737 0.618 \n",
      "\n",
      "\n",
      "nfactor, lr, reg: 42 0.009000000000000001 0.04 \n",
      "\n",
      "train RMSE,MAE: 0.463 0.371\n",
      "test RMSE,MAE: 0.742 0.621 \n",
      "\n",
      "\n",
      "nfactor, lr, reg: 42 0.009000000000000001 0.08 \n",
      "\n",
      "train RMSE,MAE: 0.467 0.376\n",
      "test RMSE,MAE: 0.738 0.618 \n",
      "\n",
      "\n",
      "nfactor, lr, reg: 42 0.009000000000000001 0.1 \n",
      "\n",
      "train RMSE,MAE: 0.473 0.382\n",
      "test RMSE,MAE: 0.737 0.618 \n",
      "\n",
      "\n",
      "nfactor, lr, reg: 42 0.009000000000000001 0.2 \n",
      "\n",
      "train RMSE,MAE: 0.496 0.407\n",
      "test RMSE,MAE: 0.738 0.619 \n",
      "\n",
      "\n",
      "nfactor, lr, reg: 42 0.009000000000000001 0.4 \n",
      "\n",
      "train RMSE,MAE: 0.531 0.444\n",
      "test RMSE,MAE: 0.736 0.617 \n",
      "\n",
      "\n",
      "nfactor, lr, reg: 42 0.009000000000000001 0.8 \n",
      "\n",
      "train RMSE,MAE: 0.573 0.488\n",
      "test RMSE,MAE: 0.734 0.615 \n",
      "\n",
      "\n",
      "nfactor, lr, reg: 42 0.009000000000000001 1 \n",
      "\n",
      "train RMSE,MAE: 0.589 0.504\n",
      "test RMSE,MAE: 0.734 0.615 \n",
      "\n",
      "\n",
      "nfactor, lr, reg: 42 0.009000000000000001 2 \n",
      "\n",
      "train RMSE,MAE: 0.641 0.554\n",
      "test RMSE,MAE: 0.732 0.615 \n",
      "\n",
      "\n",
      "nfactor, lr, reg: 42 0.009000000000000001 4 \n",
      "\n",
      "train RMSE,MAE: 0.692 0.601\n",
      "test RMSE,MAE: 0.731 0.617 \n",
      "\n",
      "\n",
      "nfactor, lr, reg: 42 0.009000000000000001 10 \n",
      "\n",
      "train RMSE,MAE: 0.742 0.644\n",
      "test RMSE,MAE: 0.732 0.620 \n",
      "\n",
      "\n",
      "nfactor, lr, reg: 50 0.001 0.01 \n",
      "\n",
      "train RMSE,MAE: 0.700 0.606\n",
      "test RMSE,MAE: 0.732 0.619 \n",
      "\n",
      "\n",
      "nfactor, lr, reg: 50 0.001 0.02 \n",
      "\n",
      "train RMSE,MAE: 0.701 0.606\n",
      "test RMSE,MAE: 0.733 0.619 \n",
      "\n",
      "\n",
      "nfactor, lr, reg: 50 0.001 0.04 \n",
      "\n",
      "train RMSE,MAE: 0.699 0.606\n",
      "test RMSE,MAE: 0.732 0.619 \n",
      "\n",
      "\n",
      "nfactor, lr, reg: 50 0.001 0.08 \n",
      "\n",
      "train RMSE,MAE: 0.701 0.608\n",
      "test RMSE,MAE: 0.733 0.619 \n",
      "\n",
      "\n",
      "nfactor, lr, reg: 50 0.001 0.1 \n",
      "\n",
      "train RMSE,MAE: 0.699 0.606\n",
      "test RMSE,MAE: 0.732 0.619 \n",
      "\n",
      "\n",
      "nfactor, lr, reg: 50 0.001 0.2 \n",
      "\n",
      "train RMSE,MAE: 0.700 0.606\n",
      "test RMSE,MAE: 0.732 0.619 \n",
      "\n",
      "\n",
      "nfactor, lr, reg: 50 0.001 0.4 \n",
      "\n",
      "train RMSE,MAE: 0.701 0.607\n",
      "test RMSE,MAE: 0.733 0.619 \n",
      "\n",
      "\n",
      "nfactor, lr, reg: 50 0.001 0.8 \n",
      "\n",
      "train RMSE,MAE: 0.708 0.614\n",
      "test RMSE,MAE: 0.732 0.619 \n",
      "\n",
      "\n",
      "nfactor, lr, reg: 50 0.001 1 \n",
      "\n",
      "train RMSE,MAE: 0.708 0.615\n",
      "test RMSE,MAE: 0.732 0.619 \n",
      "\n",
      "\n",
      "nfactor, lr, reg: 50 0.001 2 \n",
      "\n",
      "train RMSE,MAE: 0.716 0.621\n",
      "test RMSE,MAE: 0.732 0.619 \n",
      "\n",
      "\n",
      "nfactor, lr, reg: 50 0.001 4 \n",
      "\n",
      "train RMSE,MAE: 0.729 0.633\n",
      "test RMSE,MAE: 0.732 0.619 \n",
      "\n",
      "\n",
      "nfactor, lr, reg: 50 0.001 10 \n",
      "\n",
      "train RMSE,MAE: 0.751 0.652\n",
      "test RMSE,MAE: 0.732 0.620 \n",
      "\n",
      "\n",
      "nfactor, lr, reg: 50 0.002 0.01 \n",
      "\n",
      "train RMSE,MAE: 0.634 0.548\n",
      "test RMSE,MAE: 0.734 0.617 \n",
      "\n",
      "\n",
      "nfactor, lr, reg: 50 0.002 0.02 \n",
      "\n",
      "train RMSE,MAE: 0.630 0.542\n",
      "test RMSE,MAE: 0.733 0.617 \n",
      "\n",
      "\n",
      "nfactor, lr, reg: 50 0.002 0.04 \n",
      "\n",
      "train RMSE,MAE: 0.633 0.546\n",
      "test RMSE,MAE: 0.733 0.617 \n",
      "\n",
      "\n",
      "nfactor, lr, reg: 50 0.002 0.08 \n",
      "\n",
      "train RMSE,MAE: 0.638 0.550\n",
      "test RMSE,MAE: 0.734 0.617 \n",
      "\n",
      "\n",
      "nfactor, lr, reg: 50 0.002 0.1 \n",
      "\n",
      "train RMSE,MAE: 0.633 0.546\n",
      "test RMSE,MAE: 0.733 0.617 \n",
      "\n",
      "\n",
      "nfactor, lr, reg: 50 0.002 0.2 \n",
      "\n",
      "train RMSE,MAE: 0.639 0.552\n",
      "test RMSE,MAE: 0.733 0.616 \n",
      "\n",
      "\n",
      "nfactor, lr, reg: 50 0.002 0.4 \n",
      "\n",
      "train RMSE,MAE: 0.643 0.556\n",
      "test RMSE,MAE: 0.733 0.617 \n",
      "\n",
      "\n",
      "nfactor, lr, reg: 50 0.002 0.8 \n",
      "\n",
      "train RMSE,MAE: 0.656 0.568\n",
      "test RMSE,MAE: 0.733 0.617 \n",
      "\n",
      "\n",
      "nfactor, lr, reg: 50 0.002 1 \n",
      "\n",
      "train RMSE,MAE: 0.663 0.574\n",
      "test RMSE,MAE: 0.732 0.617 \n",
      "\n",
      "\n",
      "nfactor, lr, reg: 50 0.002 2 \n",
      "\n",
      "train RMSE,MAE: 0.682 0.592\n",
      "test RMSE,MAE: 0.732 0.617 \n",
      "\n",
      "\n",
      "nfactor, lr, reg: 50 0.002 4 \n",
      "\n",
      "train RMSE,MAE: 0.709 0.616\n",
      "test RMSE,MAE: 0.731 0.618 \n",
      "\n",
      "\n",
      "nfactor, lr, reg: 50 0.002 10 \n",
      "\n",
      "train RMSE,MAE: 0.745 0.648\n",
      "test RMSE,MAE: 0.731 0.619 \n",
      "\n",
      "\n",
      "nfactor, lr, reg: 50 0.003 0.01 \n",
      "\n",
      "train RMSE,MAE: 0.582 0.498\n",
      "test RMSE,MAE: 0.733 0.615 \n",
      "\n",
      "\n",
      "nfactor, lr, reg: 50 0.003 0.02 \n",
      "\n",
      "train RMSE,MAE: 0.584 0.501\n",
      "test RMSE,MAE: 0.734 0.616 \n",
      "\n",
      "\n",
      "nfactor, lr, reg: 50 0.003 0.04 \n",
      "\n",
      "train RMSE,MAE: 0.588 0.503\n",
      "test RMSE,MAE: 0.734 0.616 \n",
      "\n",
      "\n",
      "nfactor, lr, reg: 50 0.003 0.08 \n",
      "\n",
      "train RMSE,MAE: 0.590 0.506\n",
      "test RMSE,MAE: 0.734 0.615 \n",
      "\n",
      "\n",
      "nfactor, lr, reg: 50 0.003 0.1 \n",
      "\n",
      "train RMSE,MAE: 0.589 0.505\n",
      "test RMSE,MAE: 0.733 0.615 \n",
      "\n",
      "\n",
      "nfactor, lr, reg: 50 0.003 0.2 \n",
      "\n",
      "train RMSE,MAE: 0.593 0.510\n",
      "test RMSE,MAE: 0.734 0.616 \n",
      "\n",
      "\n",
      "nfactor, lr, reg: 50 0.003 0.4 \n",
      "\n",
      "train RMSE,MAE: 0.607 0.523\n",
      "test RMSE,MAE: 0.733 0.616 \n",
      "\n",
      "\n",
      "nfactor, lr, reg: 50 0.003 0.8 \n",
      "\n",
      "train RMSE,MAE: 0.625 0.539\n",
      "test RMSE,MAE: 0.733 0.616 \n",
      "\n",
      "\n",
      "nfactor, lr, reg: 50 0.003 1 \n",
      "\n",
      "train RMSE,MAE: 0.634 0.549\n",
      "test RMSE,MAE: 0.732 0.615 \n",
      "\n",
      "\n",
      "nfactor, lr, reg: 50 0.003 2 \n",
      "\n",
      "train RMSE,MAE: 0.664 0.576\n",
      "test RMSE,MAE: 0.732 0.616 \n",
      "\n",
      "\n",
      "nfactor, lr, reg: 50 0.003 4 \n",
      "\n",
      "train RMSE,MAE: 0.701 0.609\n",
      "test RMSE,MAE: 0.731 0.617 \n",
      "\n",
      "\n",
      "nfactor, lr, reg: 50 0.003 10 \n",
      "\n",
      "train RMSE,MAE: 0.744 0.646\n",
      "test RMSE,MAE: 0.731 0.619 \n",
      "\n",
      "\n",
      "nfactor, lr, reg: 50 0.004 0.01 \n",
      "\n",
      "train RMSE,MAE: 0.545 0.461\n",
      "test RMSE,MAE: 0.735 0.615 \n",
      "\n",
      "\n",
      "nfactor, lr, reg: 50 0.004 0.02 \n",
      "\n",
      "train RMSE,MAE: 0.545 0.461\n",
      "test RMSE,MAE: 0.734 0.615 \n",
      "\n",
      "\n",
      "nfactor, lr, reg: 50 0.004 0.04 \n",
      "\n",
      "train RMSE,MAE: 0.548 0.465\n",
      "test RMSE,MAE: 0.735 0.616 \n",
      "\n",
      "\n",
      "nfactor, lr, reg: 50 0.004 0.08 \n",
      "\n",
      "train RMSE,MAE: 0.549 0.465\n",
      "test RMSE,MAE: 0.734 0.615 \n",
      "\n",
      "\n",
      "nfactor, lr, reg: 50 0.004 0.1 \n",
      "\n",
      "train RMSE,MAE: 0.555 0.471\n",
      "test RMSE,MAE: 0.735 0.616 \n",
      "\n",
      "\n",
      "nfactor, lr, reg: 50 0.004 0.2 \n",
      "\n",
      "train RMSE,MAE: 0.564 0.480\n",
      "test RMSE,MAE: 0.735 0.616 \n",
      "\n",
      "\n",
      "nfactor, lr, reg: 50 0.004 0.4 \n",
      "\n",
      "train RMSE,MAE: 0.582 0.498\n",
      "test RMSE,MAE: 0.734 0.616 \n",
      "\n",
      "\n",
      "nfactor, lr, reg: 50 0.004 0.8 \n",
      "\n",
      "train RMSE,MAE: 0.606 0.521\n",
      "test RMSE,MAE: 0.733 0.616 \n",
      "\n",
      "\n",
      "nfactor, lr, reg: 50 0.004 1 \n",
      "\n",
      "train RMSE,MAE: 0.617 0.533\n",
      "test RMSE,MAE: 0.733 0.615 \n",
      "\n",
      "\n",
      "nfactor, lr, reg: 50 0.004 2 \n",
      "\n",
      "train RMSE,MAE: 0.655 0.567\n",
      "test RMSE,MAE: 0.731 0.615 \n",
      "\n",
      "\n",
      "nfactor, lr, reg: 50 0.004 4 \n",
      "\n",
      "train RMSE,MAE: 0.697 0.606\n",
      "test RMSE,MAE: 0.731 0.617 \n",
      "\n",
      "\n",
      "nfactor, lr, reg: 50 0.004 10 \n",
      "\n",
      "train RMSE,MAE: 0.743 0.646\n",
      "test RMSE,MAE: 0.731 0.619 \n",
      "\n",
      "\n",
      "nfactor, lr, reg: 50 0.005 0.01 \n",
      "\n",
      "train RMSE,MAE: 0.520 0.432\n",
      "test RMSE,MAE: 0.737 0.617 \n",
      "\n",
      "\n",
      "nfactor, lr, reg: 50 0.005 0.02 \n",
      "\n",
      "train RMSE,MAE: 0.525 0.439\n",
      "test RMSE,MAE: 0.735 0.614 \n",
      "\n",
      "\n",
      "nfactor, lr, reg: 50 0.005 0.04 \n",
      "\n",
      "train RMSE,MAE: 0.519 0.435\n",
      "test RMSE,MAE: 0.737 0.617 \n",
      "\n",
      "\n",
      "nfactor, lr, reg: 50 0.005 0.08 \n",
      "\n",
      "train RMSE,MAE: 0.526 0.441\n",
      "test RMSE,MAE: 0.736 0.617 \n",
      "\n",
      "\n",
      "nfactor, lr, reg: 50 0.005 0.1 \n",
      "\n",
      "train RMSE,MAE: 0.530 0.445\n",
      "test RMSE,MAE: 0.735 0.616 \n",
      "\n",
      "\n",
      "nfactor, lr, reg: 50 0.005 0.2 \n",
      "\n",
      "train RMSE,MAE: 0.541 0.458\n",
      "test RMSE,MAE: 0.734 0.616 \n",
      "\n",
      "\n",
      "nfactor, lr, reg: 50 0.005 0.4 \n",
      "\n",
      "train RMSE,MAE: 0.561 0.478\n",
      "test RMSE,MAE: 0.734 0.615 \n",
      "\n",
      "\n",
      "nfactor, lr, reg: 50 0.005 0.8 \n",
      "\n",
      "train RMSE,MAE: 0.592 0.508\n",
      "test RMSE,MAE: 0.733 0.615 \n",
      "\n",
      "\n",
      "nfactor, lr, reg: 50 0.005 1 \n",
      "\n",
      "train RMSE,MAE: 0.604 0.520\n",
      "test RMSE,MAE: 0.733 0.615 \n",
      "\n",
      "\n",
      "nfactor, lr, reg: 50 0.005 2 \n",
      "\n",
      "train RMSE,MAE: 0.649 0.562\n",
      "test RMSE,MAE: 0.731 0.615 \n",
      "\n",
      "\n",
      "nfactor, lr, reg: 50 0.005 4 \n",
      "\n",
      "train RMSE,MAE: 0.695 0.604\n",
      "test RMSE,MAE: 0.731 0.617 \n",
      "\n",
      "\n",
      "nfactor, lr, reg: 50 0.005 10 \n",
      "\n",
      "train RMSE,MAE: 0.743 0.645\n",
      "test RMSE,MAE: 0.731 0.619 \n",
      "\n",
      "\n",
      "nfactor, lr, reg: 50 0.006 0.01 \n",
      "\n",
      "train RMSE,MAE: 0.492 0.407\n",
      "test RMSE,MAE: 0.738 0.617 \n",
      "\n",
      "\n",
      "nfactor, lr, reg: 50 0.006 0.02 \n",
      "\n",
      "train RMSE,MAE: 0.491 0.405\n",
      "test RMSE,MAE: 0.736 0.616 \n",
      "\n",
      "\n",
      "nfactor, lr, reg: 50 0.006 0.04 \n",
      "\n",
      "train RMSE,MAE: 0.498 0.412\n",
      "test RMSE,MAE: 0.736 0.617 \n",
      "\n",
      "\n",
      "nfactor, lr, reg: 50 0.006 0.08 \n",
      "\n",
      "train RMSE,MAE: 0.505 0.419\n",
      "test RMSE,MAE: 0.737 0.618 \n",
      "\n",
      "\n",
      "nfactor, lr, reg: 50 0.006 0.1 \n",
      "\n",
      "train RMSE,MAE: 0.509 0.423\n",
      "test RMSE,MAE: 0.736 0.617 \n",
      "\n",
      "\n",
      "nfactor, lr, reg: 50 0.006 0.2 \n",
      "\n",
      "train RMSE,MAE: 0.520 0.435\n",
      "test RMSE,MAE: 0.737 0.617 \n",
      "\n",
      "\n",
      "nfactor, lr, reg: 50 0.006 0.4 \n",
      "\n",
      "train RMSE,MAE: 0.548 0.464\n",
      "test RMSE,MAE: 0.734 0.615 \n",
      "\n",
      "\n",
      "nfactor, lr, reg: 50 0.006 0.8 \n",
      "\n",
      "train RMSE,MAE: 0.584 0.500\n",
      "test RMSE,MAE: 0.733 0.615 \n",
      "\n",
      "\n",
      "nfactor, lr, reg: 50 0.006 1 \n",
      "\n",
      "train RMSE,MAE: 0.598 0.514\n",
      "test RMSE,MAE: 0.733 0.615 \n",
      "\n",
      "\n",
      "nfactor, lr, reg: 50 0.006 2 \n",
      "\n",
      "train RMSE,MAE: 0.645 0.559\n",
      "test RMSE,MAE: 0.731 0.615 \n",
      "\n",
      "\n",
      "nfactor, lr, reg: 50 0.006 4 \n",
      "\n",
      "train RMSE,MAE: 0.694 0.602\n",
      "test RMSE,MAE: 0.731 0.617 \n",
      "\n",
      "\n",
      "nfactor, lr, reg: 50 0.006 10 \n",
      "\n",
      "train RMSE,MAE: 0.742 0.645\n",
      "test RMSE,MAE: 0.731 0.619 \n",
      "\n",
      "\n",
      "nfactor, lr, reg: 50 0.007 0.01 \n",
      "\n",
      "train RMSE,MAE: 0.471 0.380\n",
      "test RMSE,MAE: 0.739 0.618 \n",
      "\n",
      "\n",
      "nfactor, lr, reg: 50 0.007 0.02 \n",
      "\n",
      "train RMSE,MAE: 0.474 0.384\n",
      "test RMSE,MAE: 0.737 0.618 \n",
      "\n",
      "\n",
      "nfactor, lr, reg: 50 0.007 0.04 \n",
      "\n",
      "train RMSE,MAE: 0.477 0.391\n",
      "test RMSE,MAE: 0.738 0.617 \n",
      "\n",
      "\n",
      "nfactor, lr, reg: 50 0.007 0.08 \n",
      "\n",
      "train RMSE,MAE: 0.492 0.403\n",
      "test RMSE,MAE: 0.736 0.616 \n",
      "\n",
      "\n",
      "nfactor, lr, reg: 50 0.007 0.1 \n",
      "\n",
      "train RMSE,MAE: 0.491 0.402\n",
      "test RMSE,MAE: 0.738 0.618 \n",
      "\n",
      "\n",
      "nfactor, lr, reg: 50 0.007 0.2 \n",
      "\n",
      "train RMSE,MAE: 0.510 0.423\n",
      "test RMSE,MAE: 0.736 0.617 \n",
      "\n",
      "\n",
      "nfactor, lr, reg: 50 0.007 0.4 \n",
      "\n",
      "train RMSE,MAE: 0.538 0.452\n",
      "test RMSE,MAE: 0.735 0.616 \n",
      "\n",
      "\n",
      "nfactor, lr, reg: 50 0.007 0.8 \n",
      "\n",
      "train RMSE,MAE: 0.578 0.494\n",
      "test RMSE,MAE: 0.733 0.615 \n",
      "\n",
      "\n",
      "nfactor, lr, reg: 50 0.007 1 \n",
      "\n"
     ]
    },
    {
     "name": "stdout",
     "output_type": "stream",
     "text": [
      "train RMSE,MAE: 0.594 0.510\n",
      "test RMSE,MAE: 0.733 0.615 \n",
      "\n",
      "\n",
      "nfactor, lr, reg: 50 0.007 2 \n",
      "\n",
      "train RMSE,MAE: 0.643 0.557\n",
      "test RMSE,MAE: 0.732 0.615 \n",
      "\n",
      "\n",
      "nfactor, lr, reg: 50 0.007 4 \n",
      "\n",
      "train RMSE,MAE: 0.693 0.602\n",
      "test RMSE,MAE: 0.731 0.617 \n",
      "\n",
      "\n",
      "nfactor, lr, reg: 50 0.007 10 \n",
      "\n",
      "train RMSE,MAE: 0.742 0.645\n",
      "test RMSE,MAE: 0.731 0.619 \n",
      "\n",
      "\n",
      "nfactor, lr, reg: 50 0.008 0.01 \n",
      "\n",
      "train RMSE,MAE: 0.455 0.365\n",
      "test RMSE,MAE: 0.739 0.619 \n",
      "\n",
      "\n",
      "nfactor, lr, reg: 50 0.008 0.02 \n",
      "\n",
      "train RMSE,MAE: 0.458 0.368\n",
      "test RMSE,MAE: 0.736 0.617 \n",
      "\n",
      "\n",
      "nfactor, lr, reg: 50 0.008 0.04 \n",
      "\n",
      "train RMSE,MAE: 0.462 0.372\n",
      "test RMSE,MAE: 0.739 0.619 \n",
      "\n",
      "\n",
      "nfactor, lr, reg: 50 0.008 0.08 \n",
      "\n",
      "train RMSE,MAE: 0.472 0.384\n",
      "test RMSE,MAE: 0.738 0.618 \n",
      "\n",
      "\n",
      "nfactor, lr, reg: 50 0.008 0.1 \n",
      "\n",
      "train RMSE,MAE: 0.479 0.391\n",
      "test RMSE,MAE: 0.736 0.617 \n",
      "\n",
      "\n",
      "nfactor, lr, reg: 50 0.008 0.2 \n",
      "\n",
      "train RMSE,MAE: 0.501 0.413\n",
      "test RMSE,MAE: 0.737 0.618 \n",
      "\n",
      "\n",
      "nfactor, lr, reg: 50 0.008 0.4 \n",
      "\n",
      "train RMSE,MAE: 0.533 0.446\n",
      "test RMSE,MAE: 0.736 0.617 \n",
      "\n",
      "\n",
      "nfactor, lr, reg: 50 0.008 0.8 \n",
      "\n",
      "train RMSE,MAE: 0.575 0.491\n",
      "test RMSE,MAE: 0.734 0.616 \n",
      "\n",
      "\n",
      "nfactor, lr, reg: 50 0.008 1 \n",
      "\n",
      "train RMSE,MAE: 0.590 0.506\n",
      "test RMSE,MAE: 0.733 0.615 \n",
      "\n",
      "\n",
      "nfactor, lr, reg: 50 0.008 2 \n",
      "\n",
      "train RMSE,MAE: 0.642 0.555\n",
      "test RMSE,MAE: 0.732 0.615 \n",
      "\n",
      "\n",
      "nfactor, lr, reg: 50 0.008 4 \n",
      "\n",
      "train RMSE,MAE: 0.693 0.601\n",
      "test RMSE,MAE: 0.731 0.617 \n",
      "\n",
      "\n",
      "nfactor, lr, reg: 50 0.008 10 \n",
      "\n",
      "train RMSE,MAE: 0.742 0.645\n",
      "test RMSE,MAE: 0.731 0.619 \n",
      "\n",
      "\n",
      "nfactor, lr, reg: 50 0.009000000000000001 0.01 \n",
      "\n",
      "train RMSE,MAE: 0.435 0.346\n",
      "test RMSE,MAE: 0.740 0.621 \n",
      "\n",
      "\n",
      "nfactor, lr, reg: 50 0.009000000000000001 0.02 \n",
      "\n",
      "train RMSE,MAE: 0.449 0.356\n",
      "test RMSE,MAE: 0.738 0.618 \n",
      "\n",
      "\n",
      "nfactor, lr, reg: 50 0.009000000000000001 0.04 \n",
      "\n",
      "train RMSE,MAE: 0.452 0.360\n",
      "test RMSE,MAE: 0.739 0.619 \n",
      "\n",
      "\n",
      "nfactor, lr, reg: 50 0.009000000000000001 0.08 \n",
      "\n",
      "train RMSE,MAE: 0.460 0.371\n",
      "test RMSE,MAE: 0.739 0.620 \n",
      "\n",
      "\n",
      "nfactor, lr, reg: 50 0.009000000000000001 0.1 \n",
      "\n",
      "train RMSE,MAE: 0.468 0.376\n",
      "test RMSE,MAE: 0.738 0.618 \n",
      "\n",
      "\n",
      "nfactor, lr, reg: 50 0.009000000000000001 0.2 \n",
      "\n",
      "train RMSE,MAE: 0.489 0.401\n",
      "test RMSE,MAE: 0.737 0.617 \n",
      "\n",
      "\n",
      "nfactor, lr, reg: 50 0.009000000000000001 0.4 \n",
      "\n",
      "train RMSE,MAE: 0.527 0.440\n",
      "test RMSE,MAE: 0.736 0.618 \n",
      "\n",
      "\n",
      "nfactor, lr, reg: 50 0.009000000000000001 0.8 \n",
      "\n",
      "train RMSE,MAE: 0.572 0.487\n",
      "test RMSE,MAE: 0.734 0.616 \n",
      "\n",
      "\n",
      "nfactor, lr, reg: 50 0.009000000000000001 1 \n",
      "\n",
      "train RMSE,MAE: 0.587 0.503\n",
      "test RMSE,MAE: 0.733 0.615 \n",
      "\n",
      "\n",
      "nfactor, lr, reg: 50 0.009000000000000001 2 \n",
      "\n",
      "train RMSE,MAE: 0.641 0.554\n",
      "test RMSE,MAE: 0.732 0.615 \n",
      "\n",
      "\n",
      "nfactor, lr, reg: 50 0.009000000000000001 4 \n",
      "\n",
      "train RMSE,MAE: 0.692 0.601\n",
      "test RMSE,MAE: 0.731 0.617 \n",
      "\n",
      "\n",
      "nfactor, lr, reg: 50 0.009000000000000001 10 \n",
      "\n",
      "train RMSE,MAE: 0.742 0.644\n",
      "test RMSE,MAE: 0.731 0.620 \n",
      "\n",
      "\n",
      "nfactor, lr, reg: 58 0.001 0.01 \n",
      "\n",
      "train RMSE,MAE: 0.698 0.604\n",
      "test RMSE,MAE: 0.732 0.619 \n",
      "\n",
      "\n",
      "nfactor, lr, reg: 58 0.001 0.02 \n",
      "\n",
      "train RMSE,MAE: 0.696 0.603\n",
      "test RMSE,MAE: 0.733 0.619 \n",
      "\n",
      "\n",
      "nfactor, lr, reg: 58 0.001 0.04 \n",
      "\n",
      "train RMSE,MAE: 0.701 0.605\n",
      "test RMSE,MAE: 0.732 0.619 \n",
      "\n",
      "\n",
      "nfactor, lr, reg: 58 0.001 0.08 \n",
      "\n",
      "train RMSE,MAE: 0.700 0.605\n",
      "test RMSE,MAE: 0.732 0.619 \n",
      "\n",
      "\n",
      "nfactor, lr, reg: 58 0.001 0.1 \n",
      "\n",
      "train RMSE,MAE: 0.700 0.606\n",
      "test RMSE,MAE: 0.732 0.619 \n",
      "\n",
      "\n",
      "nfactor, lr, reg: 58 0.001 0.2 \n",
      "\n",
      "train RMSE,MAE: 0.698 0.605\n",
      "test RMSE,MAE: 0.732 0.619 \n",
      "\n",
      "\n",
      "nfactor, lr, reg: 58 0.001 0.4 \n",
      "\n",
      "train RMSE,MAE: 0.702 0.608\n",
      "test RMSE,MAE: 0.732 0.619 \n",
      "\n",
      "\n",
      "nfactor, lr, reg: 58 0.001 0.8 \n",
      "\n",
      "train RMSE,MAE: 0.707 0.613\n",
      "test RMSE,MAE: 0.732 0.619 \n",
      "\n",
      "\n",
      "nfactor, lr, reg: 58 0.001 1 \n",
      "\n",
      "train RMSE,MAE: 0.708 0.613\n",
      "test RMSE,MAE: 0.732 0.619 \n",
      "\n",
      "\n",
      "nfactor, lr, reg: 58 0.001 2 \n",
      "\n",
      "train RMSE,MAE: 0.715 0.621\n",
      "test RMSE,MAE: 0.732 0.619 \n",
      "\n",
      "\n",
      "nfactor, lr, reg: 58 0.001 4 \n",
      "\n",
      "train RMSE,MAE: 0.728 0.633\n",
      "test RMSE,MAE: 0.732 0.619 \n",
      "\n",
      "\n",
      "nfactor, lr, reg: 58 0.001 10 \n",
      "\n",
      "train RMSE,MAE: 0.751 0.652\n",
      "test RMSE,MAE: 0.732 0.620 \n",
      "\n",
      "\n",
      "nfactor, lr, reg: 58 0.002 0.01 \n",
      "\n",
      "train RMSE,MAE: 0.627 0.540\n",
      "test RMSE,MAE: 0.733 0.617 \n",
      "\n",
      "\n",
      "nfactor, lr, reg: 58 0.002 0.02 \n",
      "\n",
      "train RMSE,MAE: 0.630 0.543\n",
      "test RMSE,MAE: 0.732 0.617 \n",
      "\n",
      "\n",
      "nfactor, lr, reg: 58 0.002 0.04 \n",
      "\n",
      "train RMSE,MAE: 0.630 0.542\n",
      "test RMSE,MAE: 0.734 0.617 \n",
      "\n",
      "\n",
      "nfactor, lr, reg: 58 0.002 0.08 \n",
      "\n",
      "train RMSE,MAE: 0.634 0.547\n",
      "test RMSE,MAE: 0.733 0.617 \n",
      "\n",
      "\n",
      "nfactor, lr, reg: 58 0.002 0.1 \n",
      "\n",
      "train RMSE,MAE: 0.632 0.546\n",
      "test RMSE,MAE: 0.734 0.617 \n",
      "\n",
      "\n",
      "nfactor, lr, reg: 58 0.002 0.2 \n",
      "\n",
      "train RMSE,MAE: 0.637 0.550\n",
      "test RMSE,MAE: 0.732 0.616 \n",
      "\n",
      "\n",
      "nfactor, lr, reg: 58 0.002 0.4 \n",
      "\n",
      "train RMSE,MAE: 0.641 0.554\n",
      "test RMSE,MAE: 0.733 0.617 \n",
      "\n",
      "\n",
      "nfactor, lr, reg: 58 0.002 0.8 \n",
      "\n",
      "train RMSE,MAE: 0.654 0.567\n",
      "test RMSE,MAE: 0.732 0.617 \n",
      "\n",
      "\n",
      "nfactor, lr, reg: 58 0.002 1 \n",
      "\n",
      "train RMSE,MAE: 0.660 0.571\n",
      "test RMSE,MAE: 0.732 0.617 \n",
      "\n",
      "\n",
      "nfactor, lr, reg: 58 0.002 2 \n",
      "\n",
      "train RMSE,MAE: 0.681 0.591\n",
      "test RMSE,MAE: 0.732 0.618 \n",
      "\n",
      "\n",
      "nfactor, lr, reg: 58 0.002 4 \n",
      "\n",
      "train RMSE,MAE: 0.708 0.616\n",
      "test RMSE,MAE: 0.731 0.618 \n",
      "\n",
      "\n",
      "nfactor, lr, reg: 58 0.002 10 \n",
      "\n",
      "train RMSE,MAE: 0.745 0.647\n",
      "test RMSE,MAE: 0.731 0.619 \n",
      "\n",
      "\n",
      "nfactor, lr, reg: 58 0.003 0.01 \n",
      "\n",
      "train RMSE,MAE: 0.574 0.491\n",
      "test RMSE,MAE: 0.735 0.617 \n",
      "\n",
      "\n",
      "nfactor, lr, reg: 58 0.003 0.02 \n",
      "\n",
      "train RMSE,MAE: 0.583 0.500\n",
      "test RMSE,MAE: 0.733 0.615 \n",
      "\n",
      "\n",
      "nfactor, lr, reg: 58 0.003 0.04 \n",
      "\n",
      "train RMSE,MAE: 0.576 0.493\n",
      "test RMSE,MAE: 0.733 0.615 \n",
      "\n",
      "\n",
      "nfactor, lr, reg: 58 0.003 0.08 \n",
      "\n",
      "train RMSE,MAE: 0.585 0.502\n",
      "test RMSE,MAE: 0.734 0.615 \n",
      "\n",
      "\n",
      "nfactor, lr, reg: 58 0.003 0.1 \n",
      "\n",
      "train RMSE,MAE: 0.583 0.499\n",
      "test RMSE,MAE: 0.733 0.615 \n",
      "\n",
      "\n",
      "nfactor, lr, reg: 58 0.003 0.2 \n",
      "\n",
      "train RMSE,MAE: 0.591 0.508\n",
      "test RMSE,MAE: 0.733 0.615 \n",
      "\n",
      "\n",
      "nfactor, lr, reg: 58 0.003 0.4 \n",
      "\n",
      "train RMSE,MAE: 0.605 0.521\n",
      "test RMSE,MAE: 0.733 0.616 \n",
      "\n",
      "\n",
      "nfactor, lr, reg: 58 0.003 0.8 \n",
      "\n",
      "train RMSE,MAE: 0.623 0.538\n",
      "test RMSE,MAE: 0.733 0.616 \n",
      "\n",
      "\n",
      "nfactor, lr, reg: 58 0.003 1 \n",
      "\n",
      "train RMSE,MAE: 0.632 0.546\n",
      "test RMSE,MAE: 0.732 0.615 \n",
      "\n",
      "\n",
      "nfactor, lr, reg: 58 0.003 2 \n",
      "\n",
      "train RMSE,MAE: 0.664 0.576\n",
      "test RMSE,MAE: 0.731 0.616 \n",
      "\n",
      "\n",
      "nfactor, lr, reg: 58 0.003 4 \n",
      "\n",
      "train RMSE,MAE: 0.701 0.609\n",
      "test RMSE,MAE: 0.731 0.617 \n",
      "\n",
      "\n",
      "nfactor, lr, reg: 58 0.003 10 \n",
      "\n",
      "train RMSE,MAE: 0.744 0.646\n",
      "test RMSE,MAE: 0.731 0.619 \n",
      "\n",
      "\n",
      "nfactor, lr, reg: 58 0.004 0.01 \n",
      "\n",
      "train RMSE,MAE: 0.539 0.457\n",
      "test RMSE,MAE: 0.734 0.616 \n",
      "\n",
      "\n",
      "nfactor, lr, reg: 58 0.004 0.02 \n",
      "\n",
      "train RMSE,MAE: 0.546 0.461\n",
      "test RMSE,MAE: 0.734 0.615 \n",
      "\n",
      "\n",
      "nfactor, lr, reg: 58 0.004 0.04 \n",
      "\n",
      "train RMSE,MAE: 0.543 0.461\n",
      "test RMSE,MAE: 0.735 0.615 \n",
      "\n",
      "\n",
      "nfactor, lr, reg: 58 0.004 0.08 \n",
      "\n",
      "train RMSE,MAE: 0.548 0.464\n",
      "test RMSE,MAE: 0.735 0.616 \n",
      "\n",
      "\n",
      "nfactor, lr, reg: 58 0.004 0.1 \n",
      "\n",
      "train RMSE,MAE: 0.548 0.466\n",
      "test RMSE,MAE: 0.734 0.615 \n",
      "\n",
      "\n",
      "nfactor, lr, reg: 58 0.004 0.2 \n",
      "\n",
      "train RMSE,MAE: 0.554 0.470\n",
      "test RMSE,MAE: 0.733 0.614 \n",
      "\n",
      "\n",
      "nfactor, lr, reg: 58 0.004 0.4 \n",
      "\n",
      "train RMSE,MAE: 0.575 0.492\n",
      "test RMSE,MAE: 0.733 0.615 \n",
      "\n",
      "\n",
      "nfactor, lr, reg: 58 0.004 0.8 \n",
      "\n",
      "train RMSE,MAE: 0.603 0.519\n",
      "test RMSE,MAE: 0.733 0.615 \n",
      "\n",
      "\n",
      "nfactor, lr, reg: 58 0.004 1 \n",
      "\n",
      "train RMSE,MAE: 0.614 0.529\n",
      "test RMSE,MAE: 0.732 0.615 \n",
      "\n",
      "\n",
      "nfactor, lr, reg: 58 0.004 2 \n",
      "\n",
      "train RMSE,MAE: 0.654 0.567\n",
      "test RMSE,MAE: 0.731 0.615 \n",
      "\n",
      "\n",
      "nfactor, lr, reg: 58 0.004 4 \n",
      "\n",
      "train RMSE,MAE: 0.697 0.605\n",
      "test RMSE,MAE: 0.731 0.617 \n",
      "\n",
      "\n",
      "nfactor, lr, reg: 58 0.004 10 \n",
      "\n",
      "train RMSE,MAE: 0.743 0.646\n",
      "test RMSE,MAE: 0.731 0.619 \n",
      "\n",
      "\n",
      "nfactor, lr, reg: 58 0.005 0.01 \n",
      "\n",
      "train RMSE,MAE: 0.508 0.424\n",
      "test RMSE,MAE: 0.736 0.616 \n",
      "\n",
      "\n",
      "nfactor, lr, reg: 58 0.005 0.02 \n",
      "\n",
      "train RMSE,MAE: 0.514 0.431\n",
      "test RMSE,MAE: 0.735 0.617 \n",
      "\n",
      "\n",
      "nfactor, lr, reg: 58 0.005 0.04 \n",
      "\n",
      "train RMSE,MAE: 0.515 0.431\n",
      "test RMSE,MAE: 0.736 0.616 \n",
      "\n",
      "\n",
      "nfactor, lr, reg: 58 0.005 0.08 \n",
      "\n",
      "train RMSE,MAE: 0.520 0.437\n",
      "test RMSE,MAE: 0.736 0.616 \n",
      "\n",
      "\n",
      "nfactor, lr, reg: 58 0.005 0.1 \n",
      "\n",
      "train RMSE,MAE: 0.524 0.440\n",
      "test RMSE,MAE: 0.736 0.616 \n",
      "\n",
      "\n",
      "nfactor, lr, reg: 58 0.005 0.2 \n",
      "\n",
      "train RMSE,MAE: 0.530 0.449\n",
      "test RMSE,MAE: 0.735 0.616 \n",
      "\n",
      "\n",
      "nfactor, lr, reg: 58 0.005 0.4 \n",
      "\n",
      "train RMSE,MAE: 0.560 0.476\n",
      "test RMSE,MAE: 0.734 0.615 \n",
      "\n",
      "\n",
      "nfactor, lr, reg: 58 0.005 0.8 \n",
      "\n",
      "train RMSE,MAE: 0.590 0.506\n",
      "test RMSE,MAE: 0.733 0.615 \n",
      "\n",
      "\n",
      "nfactor, lr, reg: 58 0.005 1 \n",
      "\n",
      "train RMSE,MAE: 0.604 0.520\n",
      "test RMSE,MAE: 0.732 0.614 \n",
      "\n",
      "\n",
      "nfactor, lr, reg: 58 0.005 2 \n",
      "\n",
      "train RMSE,MAE: 0.649 0.562\n",
      "test RMSE,MAE: 0.731 0.615 \n",
      "\n",
      "\n",
      "nfactor, lr, reg: 58 0.005 4 \n",
      "\n",
      "train RMSE,MAE: 0.695 0.604\n",
      "test RMSE,MAE: 0.731 0.617 \n",
      "\n",
      "\n",
      "nfactor, lr, reg: 58 0.005 10 \n",
      "\n",
      "train RMSE,MAE: 0.743 0.645\n",
      "test RMSE,MAE: 0.731 0.619 \n",
      "\n",
      "\n",
      "nfactor, lr, reg: 58 0.006 0.01 \n",
      "\n",
      "train RMSE,MAE: 0.487 0.402\n",
      "test RMSE,MAE: 0.735 0.617 \n",
      "\n",
      "\n",
      "nfactor, lr, reg: 58 0.006 0.02 \n",
      "\n",
      "train RMSE,MAE: 0.487 0.401\n",
      "test RMSE,MAE: 0.736 0.616 \n",
      "\n",
      "\n",
      "nfactor, lr, reg: 58 0.006 0.04 \n",
      "\n"
     ]
    },
    {
     "name": "stdout",
     "output_type": "stream",
     "text": [
      "train RMSE,MAE: 0.493 0.407\n",
      "test RMSE,MAE: 0.736 0.617 \n",
      "\n",
      "\n",
      "nfactor, lr, reg: 58 0.006 0.08 \n",
      "\n",
      "train RMSE,MAE: 0.496 0.411\n",
      "test RMSE,MAE: 0.736 0.617 \n",
      "\n",
      "\n",
      "nfactor, lr, reg: 58 0.006 0.1 \n",
      "\n",
      "train RMSE,MAE: 0.505 0.418\n",
      "test RMSE,MAE: 0.737 0.617 \n",
      "\n",
      "\n",
      "nfactor, lr, reg: 58 0.006 0.2 \n",
      "\n",
      "train RMSE,MAE: 0.520 0.435\n",
      "test RMSE,MAE: 0.735 0.616 \n",
      "\n",
      "\n",
      "nfactor, lr, reg: 58 0.006 0.4 \n",
      "\n",
      "train RMSE,MAE: 0.545 0.461\n",
      "test RMSE,MAE: 0.735 0.616 \n",
      "\n",
      "\n",
      "nfactor, lr, reg: 58 0.006 0.8 \n",
      "\n",
      "train RMSE,MAE: 0.582 0.498\n",
      "test RMSE,MAE: 0.733 0.615 \n",
      "\n",
      "\n",
      "nfactor, lr, reg: 58 0.006 1 \n",
      "\n",
      "train RMSE,MAE: 0.597 0.513\n",
      "test RMSE,MAE: 0.733 0.615 \n",
      "\n",
      "\n",
      "nfactor, lr, reg: 58 0.006 2 \n",
      "\n",
      "train RMSE,MAE: 0.645 0.558\n",
      "test RMSE,MAE: 0.732 0.615 \n",
      "\n",
      "\n",
      "nfactor, lr, reg: 58 0.006 4 \n",
      "\n",
      "train RMSE,MAE: 0.694 0.602\n",
      "test RMSE,MAE: 0.731 0.617 \n",
      "\n",
      "\n",
      "nfactor, lr, reg: 58 0.006 10 \n",
      "\n",
      "train RMSE,MAE: 0.742 0.645\n",
      "test RMSE,MAE: 0.731 0.619 \n",
      "\n",
      "\n",
      "nfactor, lr, reg: 58 0.007 0.01 \n",
      "\n",
      "train RMSE,MAE: 0.462 0.375\n",
      "test RMSE,MAE: 0.738 0.617 \n",
      "\n",
      "\n",
      "nfactor, lr, reg: 58 0.007 0.02 \n",
      "\n",
      "train RMSE,MAE: 0.464 0.376\n",
      "test RMSE,MAE: 0.736 0.617 \n",
      "\n",
      "\n",
      "nfactor, lr, reg: 58 0.007 0.04 \n",
      "\n",
      "train RMSE,MAE: 0.468 0.381\n",
      "test RMSE,MAE: 0.738 0.619 \n",
      "\n",
      "\n",
      "nfactor, lr, reg: 58 0.007 0.08 \n",
      "\n",
      "train RMSE,MAE: 0.475 0.389\n",
      "test RMSE,MAE: 0.736 0.616 \n",
      "\n",
      "\n",
      "nfactor, lr, reg: 58 0.007 0.1 \n",
      "\n",
      "train RMSE,MAE: 0.485 0.397\n",
      "test RMSE,MAE: 0.735 0.616 \n",
      "\n",
      "\n",
      "nfactor, lr, reg: 58 0.007 0.2 \n",
      "\n",
      "train RMSE,MAE: 0.504 0.418\n",
      "test RMSE,MAE: 0.737 0.618 \n",
      "\n",
      "\n",
      "nfactor, lr, reg: 58 0.007 0.4 \n",
      "\n",
      "train RMSE,MAE: 0.535 0.450\n",
      "test RMSE,MAE: 0.734 0.615 \n",
      "\n",
      "\n",
      "nfactor, lr, reg: 58 0.007 0.8 \n",
      "\n",
      "train RMSE,MAE: 0.576 0.492\n",
      "test RMSE,MAE: 0.733 0.615 \n",
      "\n",
      "\n",
      "nfactor, lr, reg: 58 0.007 1 \n",
      "\n",
      "train RMSE,MAE: 0.592 0.508\n",
      "test RMSE,MAE: 0.733 0.615 \n",
      "\n",
      "\n",
      "nfactor, lr, reg: 58 0.007 2 \n",
      "\n",
      "train RMSE,MAE: 0.643 0.556\n",
      "test RMSE,MAE: 0.732 0.615 \n",
      "\n",
      "\n",
      "nfactor, lr, reg: 58 0.007 4 \n",
      "\n",
      "train RMSE,MAE: 0.693 0.602\n",
      "test RMSE,MAE: 0.731 0.617 \n",
      "\n",
      "\n",
      "nfactor, lr, reg: 58 0.007 10 \n",
      "\n",
      "train RMSE,MAE: 0.742 0.645\n",
      "test RMSE,MAE: 0.731 0.619 \n",
      "\n",
      "\n",
      "nfactor, lr, reg: 58 0.008 0.01 \n",
      "\n",
      "train RMSE,MAE: 0.447 0.359\n",
      "test RMSE,MAE: 0.738 0.618 \n",
      "\n",
      "\n",
      "nfactor, lr, reg: 58 0.008 0.02 \n",
      "\n",
      "train RMSE,MAE: 0.450 0.361\n",
      "test RMSE,MAE: 0.737 0.617 \n",
      "\n",
      "\n",
      "nfactor, lr, reg: 58 0.008 0.04 \n",
      "\n",
      "train RMSE,MAE: 0.450 0.363\n",
      "test RMSE,MAE: 0.739 0.619 \n",
      "\n",
      "\n",
      "nfactor, lr, reg: 58 0.008 0.08 \n",
      "\n",
      "train RMSE,MAE: 0.470 0.381\n",
      "test RMSE,MAE: 0.737 0.617 \n",
      "\n",
      "\n",
      "nfactor, lr, reg: 58 0.008 0.1 \n",
      "\n",
      "train RMSE,MAE: 0.470 0.384\n",
      "test RMSE,MAE: 0.739 0.619 \n",
      "\n",
      "\n",
      "nfactor, lr, reg: 58 0.008 0.2 \n",
      "\n",
      "train RMSE,MAE: 0.492 0.405\n",
      "test RMSE,MAE: 0.737 0.617 \n",
      "\n",
      "\n",
      "nfactor, lr, reg: 58 0.008 0.4 \n",
      "\n",
      "train RMSE,MAE: 0.528 0.442\n",
      "test RMSE,MAE: 0.735 0.617 \n",
      "\n",
      "\n",
      "nfactor, lr, reg: 58 0.008 0.8 \n",
      "\n",
      "train RMSE,MAE: 0.573 0.489\n",
      "test RMSE,MAE: 0.734 0.615 \n",
      "\n",
      "\n",
      "nfactor, lr, reg: 58 0.008 1 \n",
      "\n",
      "train RMSE,MAE: 0.589 0.505\n",
      "test RMSE,MAE: 0.733 0.615 \n",
      "\n",
      "\n",
      "nfactor, lr, reg: 58 0.008 2 \n",
      "\n",
      "train RMSE,MAE: 0.642 0.555\n",
      "test RMSE,MAE: 0.732 0.615 \n",
      "\n",
      "\n",
      "nfactor, lr, reg: 58 0.008 4 \n",
      "\n",
      "train RMSE,MAE: 0.693 0.601\n",
      "test RMSE,MAE: 0.731 0.617 \n",
      "\n",
      "\n",
      "nfactor, lr, reg: 58 0.008 10 \n",
      "\n",
      "train RMSE,MAE: 0.742 0.645\n",
      "test RMSE,MAE: 0.731 0.619 \n",
      "\n",
      "\n",
      "nfactor, lr, reg: 58 0.009000000000000001 0.01 \n",
      "\n",
      "train RMSE,MAE: 0.430 0.342\n",
      "test RMSE,MAE: 0.739 0.619 \n",
      "\n",
      "\n",
      "nfactor, lr, reg: 58 0.009000000000000001 0.02 \n",
      "\n",
      "train RMSE,MAE: 0.428 0.340\n",
      "test RMSE,MAE: 0.739 0.619 \n",
      "\n",
      "\n",
      "nfactor, lr, reg: 58 0.009000000000000001 0.04 \n",
      "\n",
      "train RMSE,MAE: 0.434 0.346\n",
      "test RMSE,MAE: 0.739 0.619 \n",
      "\n",
      "\n",
      "nfactor, lr, reg: 58 0.009000000000000001 0.08 \n",
      "\n",
      "train RMSE,MAE: 0.450 0.360\n",
      "test RMSE,MAE: 0.738 0.619 \n",
      "\n",
      "\n",
      "nfactor, lr, reg: 58 0.009000000000000001 0.1 \n",
      "\n",
      "train RMSE,MAE: 0.456 0.369\n",
      "test RMSE,MAE: 0.740 0.620 \n",
      "\n",
      "\n",
      "nfactor, lr, reg: 58 0.009000000000000001 0.2 \n",
      "\n",
      "train RMSE,MAE: 0.484 0.396\n",
      "test RMSE,MAE: 0.738 0.618 \n",
      "\n",
      "\n",
      "nfactor, lr, reg: 58 0.009000000000000001 0.4 \n",
      "\n",
      "train RMSE,MAE: 0.519 0.434\n",
      "test RMSE,MAE: 0.736 0.616 \n",
      "\n",
      "\n",
      "nfactor, lr, reg: 58 0.009000000000000001 0.8 \n",
      "\n",
      "train RMSE,MAE: 0.569 0.485\n",
      "test RMSE,MAE: 0.734 0.616 \n",
      "\n",
      "\n",
      "nfactor, lr, reg: 58 0.009000000000000001 1 \n",
      "\n",
      "train RMSE,MAE: 0.587 0.502\n",
      "test RMSE,MAE: 0.733 0.615 \n",
      "\n",
      "\n",
      "nfactor, lr, reg: 58 0.009000000000000001 2 \n",
      "\n",
      "train RMSE,MAE: 0.640 0.554\n",
      "test RMSE,MAE: 0.732 0.615 \n",
      "\n",
      "\n",
      "nfactor, lr, reg: 58 0.009000000000000001 4 \n",
      "\n",
      "train RMSE,MAE: 0.692 0.601\n",
      "test RMSE,MAE: 0.731 0.617 \n",
      "\n",
      "\n",
      "nfactor, lr, reg: 58 0.009000000000000001 10 \n",
      "\n",
      "train RMSE,MAE: 0.742 0.644\n",
      "test RMSE,MAE: 0.732 0.620 \n",
      "\n",
      "\n",
      "nfactor, lr, reg: 66 0.001 0.01 \n",
      "\n",
      "train RMSE,MAE: 0.695 0.602\n",
      "test RMSE,MAE: 0.732 0.619 \n",
      "\n",
      "\n",
      "nfactor, lr, reg: 66 0.001 0.02 \n",
      "\n",
      "train RMSE,MAE: 0.694 0.600\n",
      "test RMSE,MAE: 0.732 0.619 \n",
      "\n",
      "\n",
      "nfactor, lr, reg: 66 0.001 0.04 \n",
      "\n",
      "train RMSE,MAE: 0.699 0.607\n",
      "test RMSE,MAE: 0.733 0.619 \n",
      "\n",
      "\n",
      "nfactor, lr, reg: 66 0.001 0.08 \n",
      "\n",
      "train RMSE,MAE: 0.698 0.604\n",
      "test RMSE,MAE: 0.732 0.619 \n",
      "\n",
      "\n",
      "nfactor, lr, reg: 66 0.001 0.1 \n",
      "\n",
      "train RMSE,MAE: 0.697 0.604\n",
      "test RMSE,MAE: 0.733 0.619 \n",
      "\n",
      "\n",
      "nfactor, lr, reg: 66 0.001 0.2 \n",
      "\n",
      "train RMSE,MAE: 0.697 0.604\n",
      "test RMSE,MAE: 0.733 0.619 \n",
      "\n",
      "\n",
      "nfactor, lr, reg: 66 0.001 0.4 \n",
      "\n",
      "train RMSE,MAE: 0.703 0.611\n",
      "test RMSE,MAE: 0.733 0.619 \n",
      "\n",
      "\n",
      "nfactor, lr, reg: 66 0.001 0.8 \n",
      "\n",
      "train RMSE,MAE: 0.704 0.611\n",
      "test RMSE,MAE: 0.732 0.619 \n",
      "\n",
      "\n",
      "nfactor, lr, reg: 66 0.001 1 \n",
      "\n",
      "train RMSE,MAE: 0.706 0.611\n",
      "test RMSE,MAE: 0.732 0.619 \n",
      "\n",
      "\n",
      "nfactor, lr, reg: 66 0.001 2 \n",
      "\n",
      "train RMSE,MAE: 0.717 0.622\n",
      "test RMSE,MAE: 0.732 0.619 \n",
      "\n",
      "\n",
      "nfactor, lr, reg: 66 0.001 4 \n",
      "\n",
      "train RMSE,MAE: 0.728 0.632\n",
      "test RMSE,MAE: 0.732 0.620 \n",
      "\n",
      "\n",
      "nfactor, lr, reg: 66 0.001 10 \n",
      "\n",
      "train RMSE,MAE: 0.750 0.652\n",
      "test RMSE,MAE: 0.732 0.620 \n",
      "\n",
      "\n",
      "nfactor, lr, reg: 66 0.002 0.01 \n",
      "\n",
      "train RMSE,MAE: 0.627 0.541\n",
      "test RMSE,MAE: 0.733 0.617 \n",
      "\n",
      "\n",
      "nfactor, lr, reg: 66 0.002 0.02 \n",
      "\n",
      "train RMSE,MAE: 0.626 0.541\n",
      "test RMSE,MAE: 0.733 0.616 \n",
      "\n",
      "\n",
      "nfactor, lr, reg: 66 0.002 0.04 \n",
      "\n",
      "train RMSE,MAE: 0.621 0.535\n",
      "test RMSE,MAE: 0.733 0.617 \n",
      "\n",
      "\n",
      "nfactor, lr, reg: 66 0.002 0.08 \n",
      "\n",
      "train RMSE,MAE: 0.626 0.541\n",
      "test RMSE,MAE: 0.733 0.617 \n",
      "\n",
      "\n",
      "nfactor, lr, reg: 66 0.002 0.1 \n",
      "\n",
      "train RMSE,MAE: 0.630 0.544\n",
      "test RMSE,MAE: 0.733 0.617 \n",
      "\n",
      "\n",
      "nfactor, lr, reg: 66 0.002 0.2 \n",
      "\n",
      "train RMSE,MAE: 0.633 0.547\n",
      "test RMSE,MAE: 0.733 0.617 \n",
      "\n",
      "\n",
      "nfactor, lr, reg: 66 0.002 0.4 \n",
      "\n",
      "train RMSE,MAE: 0.641 0.555\n",
      "test RMSE,MAE: 0.733 0.617 \n",
      "\n",
      "\n",
      "nfactor, lr, reg: 66 0.002 0.8 \n",
      "\n",
      "train RMSE,MAE: 0.654 0.566\n",
      "test RMSE,MAE: 0.732 0.617 \n",
      "\n",
      "\n",
      "nfactor, lr, reg: 66 0.002 1 \n",
      "\n",
      "train RMSE,MAE: 0.660 0.570\n",
      "test RMSE,MAE: 0.732 0.617 \n",
      "\n",
      "\n",
      "nfactor, lr, reg: 66 0.002 2 \n",
      "\n",
      "train RMSE,MAE: 0.679 0.590\n",
      "test RMSE,MAE: 0.732 0.617 \n",
      "\n",
      "\n",
      "nfactor, lr, reg: 66 0.002 4 \n",
      "\n",
      "train RMSE,MAE: 0.708 0.615\n",
      "test RMSE,MAE: 0.731 0.618 \n",
      "\n",
      "\n",
      "nfactor, lr, reg: 66 0.002 10 \n",
      "\n",
      "train RMSE,MAE: 0.745 0.647\n",
      "test RMSE,MAE: 0.731 0.619 \n",
      "\n",
      "\n",
      "nfactor, lr, reg: 66 0.003 0.01 \n",
      "\n",
      "train RMSE,MAE: 0.572 0.491\n",
      "test RMSE,MAE: 0.735 0.616 \n",
      "\n",
      "\n",
      "nfactor, lr, reg: 66 0.003 0.02 \n",
      "\n",
      "train RMSE,MAE: 0.578 0.492\n",
      "test RMSE,MAE: 0.735 0.617 \n",
      "\n",
      "\n",
      "nfactor, lr, reg: 66 0.003 0.04 \n",
      "\n",
      "train RMSE,MAE: 0.573 0.492\n",
      "test RMSE,MAE: 0.735 0.617 \n",
      "\n",
      "\n",
      "nfactor, lr, reg: 66 0.003 0.08 \n",
      "\n",
      "train RMSE,MAE: 0.579 0.494\n",
      "test RMSE,MAE: 0.734 0.616 \n",
      "\n",
      "\n",
      "nfactor, lr, reg: 66 0.003 0.1 \n",
      "\n",
      "train RMSE,MAE: 0.580 0.496\n",
      "test RMSE,MAE: 0.734 0.616 \n",
      "\n",
      "\n",
      "nfactor, lr, reg: 66 0.003 0.2 \n",
      "\n",
      "train RMSE,MAE: 0.585 0.504\n",
      "test RMSE,MAE: 0.734 0.616 \n",
      "\n",
      "\n",
      "nfactor, lr, reg: 66 0.003 0.4 \n",
      "\n",
      "train RMSE,MAE: 0.602 0.518\n",
      "test RMSE,MAE: 0.732 0.615 \n",
      "\n",
      "\n",
      "nfactor, lr, reg: 66 0.003 0.8 \n",
      "\n",
      "train RMSE,MAE: 0.623 0.537\n",
      "test RMSE,MAE: 0.732 0.615 \n",
      "\n",
      "\n",
      "nfactor, lr, reg: 66 0.003 1 \n",
      "\n",
      "train RMSE,MAE: 0.630 0.545\n",
      "test RMSE,MAE: 0.732 0.616 \n",
      "\n",
      "\n",
      "nfactor, lr, reg: 66 0.003 2 \n",
      "\n",
      "train RMSE,MAE: 0.662 0.574\n",
      "test RMSE,MAE: 0.731 0.616 \n",
      "\n",
      "\n",
      "nfactor, lr, reg: 66 0.003 4 \n",
      "\n",
      "train RMSE,MAE: 0.700 0.609\n",
      "test RMSE,MAE: 0.731 0.617 \n",
      "\n",
      "\n",
      "nfactor, lr, reg: 66 0.003 10 \n",
      "\n",
      "train RMSE,MAE: 0.744 0.646\n",
      "test RMSE,MAE: 0.731 0.619 \n",
      "\n",
      "\n",
      "nfactor, lr, reg: 66 0.004 0.01 \n",
      "\n",
      "train RMSE,MAE: 0.537 0.453\n",
      "test RMSE,MAE: 0.735 0.616 \n",
      "\n",
      "\n",
      "nfactor, lr, reg: 66 0.004 0.02 \n",
      "\n",
      "train RMSE,MAE: 0.536 0.454\n",
      "test RMSE,MAE: 0.734 0.614 \n",
      "\n",
      "\n",
      "nfactor, lr, reg: 66 0.004 0.04 \n",
      "\n",
      "train RMSE,MAE: 0.539 0.458\n",
      "test RMSE,MAE: 0.736 0.617 \n",
      "\n",
      "\n",
      "nfactor, lr, reg: 66 0.004 0.08 \n",
      "\n",
      "train RMSE,MAE: 0.544 0.461\n",
      "test RMSE,MAE: 0.734 0.616 \n",
      "\n",
      "\n",
      "nfactor, lr, reg: 66 0.004 0.1 \n",
      "\n",
      "train RMSE,MAE: 0.542 0.460\n",
      "test RMSE,MAE: 0.733 0.615 \n",
      "\n",
      "\n",
      "nfactor, lr, reg: 66 0.004 0.2 \n",
      "\n",
      "train RMSE,MAE: 0.556 0.473\n",
      "test RMSE,MAE: 0.733 0.615 \n",
      "\n",
      "\n",
      "nfactor, lr, reg: 66 0.004 0.4 \n",
      "\n",
      "train RMSE,MAE: 0.572 0.489\n",
      "test RMSE,MAE: 0.733 0.615 \n",
      "\n",
      "\n",
      "nfactor, lr, reg: 66 0.004 0.8 \n",
      "\n",
      "train RMSE,MAE: 0.602 0.518\n",
      "test RMSE,MAE: 0.733 0.615 \n",
      "\n",
      "\n",
      "nfactor, lr, reg: 66 0.004 1 \n",
      "\n"
     ]
    },
    {
     "name": "stdout",
     "output_type": "stream",
     "text": [
      "train RMSE,MAE: 0.612 0.528\n",
      "test RMSE,MAE: 0.732 0.615 \n",
      "\n",
      "\n",
      "nfactor, lr, reg: 66 0.004 2 \n",
      "\n",
      "train RMSE,MAE: 0.654 0.566\n",
      "test RMSE,MAE: 0.731 0.615 \n",
      "\n",
      "\n",
      "nfactor, lr, reg: 66 0.004 4 \n",
      "\n",
      "train RMSE,MAE: 0.697 0.605\n",
      "test RMSE,MAE: 0.731 0.617 \n",
      "\n",
      "\n",
      "nfactor, lr, reg: 66 0.004 10 \n",
      "\n",
      "train RMSE,MAE: 0.743 0.646\n",
      "test RMSE,MAE: 0.731 0.619 \n",
      "\n",
      "\n",
      "nfactor, lr, reg: 66 0.005 0.01 \n",
      "\n",
      "train RMSE,MAE: 0.506 0.423\n",
      "test RMSE,MAE: 0.736 0.616 \n",
      "\n",
      "\n",
      "nfactor, lr, reg: 66 0.005 0.02 \n",
      "\n",
      "train RMSE,MAE: 0.499 0.417\n",
      "test RMSE,MAE: 0.737 0.617 \n",
      "\n",
      "\n",
      "nfactor, lr, reg: 66 0.005 0.04 \n",
      "\n",
      "train RMSE,MAE: 0.508 0.426\n",
      "test RMSE,MAE: 0.735 0.616 \n",
      "\n",
      "\n",
      "nfactor, lr, reg: 66 0.005 0.08 \n",
      "\n",
      "train RMSE,MAE: 0.513 0.430\n",
      "test RMSE,MAE: 0.736 0.616 \n",
      "\n",
      "\n",
      "nfactor, lr, reg: 66 0.005 0.1 \n",
      "\n",
      "train RMSE,MAE: 0.515 0.432\n",
      "test RMSE,MAE: 0.734 0.615 \n",
      "\n",
      "\n",
      "nfactor, lr, reg: 66 0.005 0.2 \n",
      "\n",
      "train RMSE,MAE: 0.531 0.448\n",
      "test RMSE,MAE: 0.736 0.617 \n",
      "\n",
      "\n",
      "nfactor, lr, reg: 66 0.005 0.4 \n",
      "\n",
      "train RMSE,MAE: 0.553 0.470\n",
      "test RMSE,MAE: 0.734 0.615 \n",
      "\n",
      "\n",
      "nfactor, lr, reg: 66 0.005 0.8 \n",
      "\n",
      "train RMSE,MAE: 0.588 0.505\n",
      "test RMSE,MAE: 0.734 0.616 \n",
      "\n",
      "\n",
      "nfactor, lr, reg: 66 0.005 1 \n",
      "\n",
      "train RMSE,MAE: 0.601 0.517\n",
      "test RMSE,MAE: 0.733 0.615 \n",
      "\n",
      "\n",
      "nfactor, lr, reg: 66 0.005 2 \n",
      "\n",
      "train RMSE,MAE: 0.648 0.561\n",
      "test RMSE,MAE: 0.731 0.615 \n",
      "\n",
      "\n",
      "nfactor, lr, reg: 66 0.005 4 \n",
      "\n",
      "train RMSE,MAE: 0.695 0.603\n",
      "test RMSE,MAE: 0.731 0.617 \n",
      "\n",
      "\n",
      "nfactor, lr, reg: 66 0.005 10 \n",
      "\n",
      "train RMSE,MAE: 0.743 0.645\n",
      "test RMSE,MAE: 0.731 0.619 \n",
      "\n",
      "\n",
      "nfactor, lr, reg: 66 0.006 0.01 \n",
      "\n",
      "train RMSE,MAE: 0.475 0.392\n",
      "test RMSE,MAE: 0.738 0.617 \n",
      "\n",
      "\n",
      "nfactor, lr, reg: 66 0.006 0.02 \n",
      "\n",
      "train RMSE,MAE: 0.480 0.394\n",
      "test RMSE,MAE: 0.737 0.617 \n",
      "\n",
      "\n",
      "nfactor, lr, reg: 66 0.006 0.04 \n",
      "\n",
      "train RMSE,MAE: 0.479 0.398\n",
      "test RMSE,MAE: 0.736 0.616 \n",
      "\n",
      "\n",
      "nfactor, lr, reg: 66 0.006 0.08 \n",
      "\n",
      "train RMSE,MAE: 0.490 0.408\n",
      "test RMSE,MAE: 0.737 0.616 \n",
      "\n",
      "\n",
      "nfactor, lr, reg: 66 0.006 0.1 \n",
      "\n",
      "train RMSE,MAE: 0.492 0.410\n",
      "test RMSE,MAE: 0.737 0.618 \n",
      "\n",
      "\n",
      "nfactor, lr, reg: 66 0.006 0.2 \n",
      "\n",
      "train RMSE,MAE: 0.511 0.428\n",
      "test RMSE,MAE: 0.735 0.615 \n",
      "\n",
      "\n",
      "nfactor, lr, reg: 66 0.006 0.4 \n",
      "\n",
      "train RMSE,MAE: 0.540 0.458\n",
      "test RMSE,MAE: 0.735 0.617 \n",
      "\n",
      "\n",
      "nfactor, lr, reg: 66 0.006 0.8 \n",
      "\n",
      "train RMSE,MAE: 0.580 0.497\n",
      "test RMSE,MAE: 0.733 0.615 \n",
      "\n",
      "\n",
      "nfactor, lr, reg: 66 0.006 1 \n",
      "\n",
      "train RMSE,MAE: 0.595 0.511\n",
      "test RMSE,MAE: 0.733 0.615 \n",
      "\n",
      "\n",
      "nfactor, lr, reg: 66 0.006 2 \n",
      "\n",
      "train RMSE,MAE: 0.645 0.558\n",
      "test RMSE,MAE: 0.731 0.615 \n",
      "\n",
      "\n",
      "nfactor, lr, reg: 66 0.006 4 \n",
      "\n",
      "train RMSE,MAE: 0.694 0.602\n",
      "test RMSE,MAE: 0.731 0.617 \n",
      "\n",
      "\n",
      "nfactor, lr, reg: 66 0.006 10 \n",
      "\n",
      "train RMSE,MAE: 0.742 0.645\n",
      "test RMSE,MAE: 0.731 0.619 \n",
      "\n",
      "\n",
      "nfactor, lr, reg: 66 0.007 0.01 \n",
      "\n",
      "train RMSE,MAE: 0.452 0.366\n",
      "test RMSE,MAE: 0.737 0.617 \n",
      "\n",
      "\n",
      "nfactor, lr, reg: 66 0.007 0.02 \n",
      "\n",
      "train RMSE,MAE: 0.457 0.370\n",
      "test RMSE,MAE: 0.736 0.617 \n",
      "\n",
      "\n",
      "nfactor, lr, reg: 66 0.007 0.04 \n",
      "\n",
      "train RMSE,MAE: 0.456 0.374\n",
      "test RMSE,MAE: 0.739 0.619 \n",
      "\n",
      "\n",
      "nfactor, lr, reg: 66 0.007 0.08 \n",
      "\n",
      "train RMSE,MAE: 0.471 0.386\n",
      "test RMSE,MAE: 0.736 0.616 \n",
      "\n",
      "\n",
      "nfactor, lr, reg: 66 0.007 0.1 \n",
      "\n",
      "train RMSE,MAE: 0.478 0.392\n",
      "test RMSE,MAE: 0.736 0.616 \n",
      "\n",
      "\n",
      "nfactor, lr, reg: 66 0.007 0.2 \n",
      "\n",
      "train RMSE,MAE: 0.498 0.413\n",
      "test RMSE,MAE: 0.737 0.617 \n",
      "\n",
      "\n",
      "nfactor, lr, reg: 66 0.007 0.4 \n",
      "\n",
      "train RMSE,MAE: 0.529 0.445\n",
      "test RMSE,MAE: 0.735 0.616 \n",
      "\n",
      "\n",
      "nfactor, lr, reg: 66 0.007 0.8 \n",
      "\n",
      "train RMSE,MAE: 0.574 0.491\n",
      "test RMSE,MAE: 0.733 0.615 \n",
      "\n",
      "\n",
      "nfactor, lr, reg: 66 0.007 1 \n",
      "\n",
      "train RMSE,MAE: 0.590 0.506\n",
      "test RMSE,MAE: 0.733 0.615 \n",
      "\n",
      "\n",
      "nfactor, lr, reg: 66 0.007 2 \n",
      "\n",
      "train RMSE,MAE: 0.643 0.556\n",
      "test RMSE,MAE: 0.732 0.615 \n",
      "\n",
      "\n",
      "nfactor, lr, reg: 66 0.007 4 \n",
      "\n",
      "train RMSE,MAE: 0.693 0.602\n",
      "test RMSE,MAE: 0.731 0.617 \n",
      "\n",
      "\n",
      "nfactor, lr, reg: 66 0.007 10 \n",
      "\n",
      "train RMSE,MAE: 0.742 0.645\n",
      "test RMSE,MAE: 0.731 0.619 \n",
      "\n",
      "\n",
      "nfactor, lr, reg: 66 0.008 0.01 \n",
      "\n",
      "train RMSE,MAE: 0.438 0.351\n",
      "test RMSE,MAE: 0.737 0.617 \n",
      "\n",
      "\n",
      "nfactor, lr, reg: 66 0.008 0.02 \n",
      "\n",
      "train RMSE,MAE: 0.440 0.352\n",
      "test RMSE,MAE: 0.737 0.618 \n",
      "\n",
      "\n",
      "nfactor, lr, reg: 66 0.008 0.04 \n",
      "\n",
      "train RMSE,MAE: 0.443 0.357\n",
      "test RMSE,MAE: 0.738 0.617 \n",
      "\n",
      "\n",
      "nfactor, lr, reg: 66 0.008 0.08 \n",
      "\n",
      "train RMSE,MAE: 0.456 0.370\n",
      "test RMSE,MAE: 0.737 0.618 \n",
      "\n",
      "\n",
      "nfactor, lr, reg: 66 0.008 0.1 \n",
      "\n",
      "train RMSE,MAE: 0.460 0.375\n",
      "test RMSE,MAE: 0.739 0.618 \n",
      "\n",
      "\n",
      "nfactor, lr, reg: 66 0.008 0.2 \n",
      "\n",
      "train RMSE,MAE: 0.483 0.398\n",
      "test RMSE,MAE: 0.736 0.617 \n",
      "\n",
      "\n",
      "nfactor, lr, reg: 66 0.008 0.4 \n",
      "\n",
      "train RMSE,MAE: 0.523 0.439\n",
      "test RMSE,MAE: 0.736 0.617 \n",
      "\n",
      "\n",
      "nfactor, lr, reg: 66 0.008 0.8 \n",
      "\n",
      "train RMSE,MAE: 0.571 0.488\n",
      "test RMSE,MAE: 0.734 0.616 \n",
      "\n",
      "\n",
      "nfactor, lr, reg: 66 0.008 1 \n",
      "\n",
      "train RMSE,MAE: 0.587 0.504\n",
      "test RMSE,MAE: 0.734 0.615 \n",
      "\n",
      "\n",
      "nfactor, lr, reg: 66 0.008 2 \n",
      "\n",
      "train RMSE,MAE: 0.641 0.555\n",
      "test RMSE,MAE: 0.732 0.615 \n",
      "\n",
      "\n",
      "nfactor, lr, reg: 66 0.008 4 \n",
      "\n",
      "train RMSE,MAE: 0.692 0.601\n",
      "test RMSE,MAE: 0.731 0.617 \n",
      "\n",
      "\n",
      "nfactor, lr, reg: 66 0.008 10 \n",
      "\n",
      "train RMSE,MAE: 0.742 0.645\n",
      "test RMSE,MAE: 0.731 0.619 \n",
      "\n",
      "\n",
      "nfactor, lr, reg: 66 0.009000000000000001 0.01 \n",
      "\n",
      "train RMSE,MAE: 0.410 0.325\n",
      "test RMSE,MAE: 0.740 0.621 \n",
      "\n",
      "\n",
      "nfactor, lr, reg: 66 0.009000000000000001 0.02 \n",
      "\n",
      "train RMSE,MAE: 0.421 0.334\n",
      "test RMSE,MAE: 0.738 0.619 \n",
      "\n",
      "\n",
      "nfactor, lr, reg: 66 0.009000000000000001 0.04 \n",
      "\n",
      "train RMSE,MAE: 0.425 0.337\n",
      "test RMSE,MAE: 0.740 0.621 \n",
      "\n",
      "\n",
      "nfactor, lr, reg: 66 0.009000000000000001 0.08 \n",
      "\n",
      "train RMSE,MAE: 0.441 0.355\n",
      "test RMSE,MAE: 0.740 0.621 \n",
      "\n",
      "\n",
      "nfactor, lr, reg: 66 0.009000000000000001 0.1 \n",
      "\n",
      "train RMSE,MAE: 0.446 0.361\n",
      "test RMSE,MAE: 0.738 0.617 \n",
      "\n",
      "\n",
      "nfactor, lr, reg: 66 0.009000000000000001 0.2 \n",
      "\n",
      "train RMSE,MAE: 0.476 0.391\n",
      "test RMSE,MAE: 0.738 0.620 \n",
      "\n",
      "\n",
      "nfactor, lr, reg: 66 0.009000000000000001 0.4 \n",
      "\n",
      "train RMSE,MAE: 0.518 0.434\n",
      "test RMSE,MAE: 0.736 0.617 \n",
      "\n",
      "\n",
      "nfactor, lr, reg: 66 0.009000000000000001 0.8 \n",
      "\n",
      "train RMSE,MAE: 0.569 0.485\n",
      "test RMSE,MAE: 0.734 0.616 \n",
      "\n",
      "\n",
      "nfactor, lr, reg: 66 0.009000000000000001 1 \n",
      "\n",
      "train RMSE,MAE: 0.585 0.501\n",
      "test RMSE,MAE: 0.734 0.615 \n",
      "\n",
      "\n",
      "nfactor, lr, reg: 66 0.009000000000000001 2 \n",
      "\n",
      "train RMSE,MAE: 0.640 0.554\n",
      "test RMSE,MAE: 0.732 0.615 \n",
      "\n",
      "\n",
      "nfactor, lr, reg: 66 0.009000000000000001 4 \n",
      "\n",
      "train RMSE,MAE: 0.692 0.601\n",
      "test RMSE,MAE: 0.731 0.617 \n",
      "\n",
      "\n",
      "nfactor, lr, reg: 66 0.009000000000000001 10 \n",
      "\n",
      "train RMSE,MAE: 0.742 0.644\n",
      "test RMSE,MAE: 0.731 0.620 \n",
      "\n",
      "\n",
      "nfactor, lr, reg: 74 0.001 0.01 \n",
      "\n",
      "train RMSE,MAE: 0.693 0.598\n",
      "test RMSE,MAE: 0.732 0.619 \n",
      "\n",
      "\n",
      "nfactor, lr, reg: 74 0.001 0.02 \n",
      "\n",
      "train RMSE,MAE: 0.696 0.604\n",
      "test RMSE,MAE: 0.732 0.618 \n",
      "\n",
      "\n",
      "nfactor, lr, reg: 74 0.001 0.04 \n",
      "\n",
      "train RMSE,MAE: 0.695 0.602\n",
      "test RMSE,MAE: 0.732 0.619 \n",
      "\n",
      "\n",
      "nfactor, lr, reg: 74 0.001 0.08 \n",
      "\n",
      "train RMSE,MAE: 0.693 0.600\n",
      "test RMSE,MAE: 0.733 0.619 \n",
      "\n",
      "\n",
      "nfactor, lr, reg: 74 0.001 0.1 \n",
      "\n",
      "train RMSE,MAE: 0.691 0.599\n",
      "test RMSE,MAE: 0.733 0.619 \n",
      "\n",
      "\n",
      "nfactor, lr, reg: 74 0.001 0.2 \n",
      "\n",
      "train RMSE,MAE: 0.695 0.601\n",
      "test RMSE,MAE: 0.732 0.619 \n",
      "\n",
      "\n",
      "nfactor, lr, reg: 74 0.001 0.4 \n",
      "\n",
      "train RMSE,MAE: 0.695 0.603\n",
      "test RMSE,MAE: 0.732 0.619 \n",
      "\n",
      "\n",
      "nfactor, lr, reg: 74 0.001 0.8 \n",
      "\n",
      "train RMSE,MAE: 0.705 0.611\n",
      "test RMSE,MAE: 0.732 0.619 \n",
      "\n",
      "\n",
      "nfactor, lr, reg: 74 0.001 1 \n",
      "\n",
      "train RMSE,MAE: 0.705 0.612\n",
      "test RMSE,MAE: 0.732 0.619 \n",
      "\n",
      "\n",
      "nfactor, lr, reg: 74 0.001 2 \n",
      "\n",
      "train RMSE,MAE: 0.713 0.619\n",
      "test RMSE,MAE: 0.732 0.619 \n",
      "\n",
      "\n",
      "nfactor, lr, reg: 74 0.001 4 \n",
      "\n",
      "train RMSE,MAE: 0.728 0.633\n",
      "test RMSE,MAE: 0.732 0.619 \n",
      "\n",
      "\n",
      "nfactor, lr, reg: 74 0.001 10 \n",
      "\n",
      "train RMSE,MAE: 0.750 0.652\n",
      "test RMSE,MAE: 0.732 0.620 \n",
      "\n",
      "\n",
      "nfactor, lr, reg: 74 0.002 0.01 \n",
      "\n",
      "train RMSE,MAE: 0.627 0.541\n",
      "test RMSE,MAE: 0.733 0.617 \n",
      "\n",
      "\n",
      "nfactor, lr, reg: 74 0.002 0.02 \n",
      "\n",
      "train RMSE,MAE: 0.622 0.536\n",
      "test RMSE,MAE: 0.733 0.617 \n",
      "\n",
      "\n",
      "nfactor, lr, reg: 74 0.002 0.04 \n",
      "\n",
      "train RMSE,MAE: 0.623 0.538\n",
      "test RMSE,MAE: 0.734 0.618 \n",
      "\n",
      "\n",
      "nfactor, lr, reg: 74 0.002 0.08 \n",
      "\n",
      "train RMSE,MAE: 0.626 0.539\n",
      "test RMSE,MAE: 0.733 0.617 \n",
      "\n",
      "\n",
      "nfactor, lr, reg: 74 0.002 0.1 \n",
      "\n",
      "train RMSE,MAE: 0.626 0.541\n",
      "test RMSE,MAE: 0.733 0.616 \n",
      "\n",
      "\n",
      "nfactor, lr, reg: 74 0.002 0.2 \n",
      "\n",
      "train RMSE,MAE: 0.628 0.543\n",
      "test RMSE,MAE: 0.733 0.617 \n",
      "\n",
      "\n",
      "nfactor, lr, reg: 74 0.002 0.4 \n",
      "\n",
      "train RMSE,MAE: 0.638 0.551\n",
      "test RMSE,MAE: 0.733 0.617 \n",
      "\n",
      "\n",
      "nfactor, lr, reg: 74 0.002 0.8 \n",
      "\n",
      "train RMSE,MAE: 0.651 0.564\n",
      "test RMSE,MAE: 0.732 0.617 \n",
      "\n",
      "\n",
      "nfactor, lr, reg: 74 0.002 1 \n",
      "\n",
      "train RMSE,MAE: 0.655 0.567\n",
      "test RMSE,MAE: 0.732 0.617 \n",
      "\n",
      "\n",
      "nfactor, lr, reg: 74 0.002 2 \n",
      "\n",
      "train RMSE,MAE: 0.679 0.590\n",
      "test RMSE,MAE: 0.732 0.617 \n",
      "\n",
      "\n",
      "nfactor, lr, reg: 74 0.002 4 \n",
      "\n",
      "train RMSE,MAE: 0.708 0.615\n",
      "test RMSE,MAE: 0.731 0.618 \n",
      "\n",
      "\n",
      "nfactor, lr, reg: 74 0.002 10 \n",
      "\n",
      "train RMSE,MAE: 0.745 0.647\n",
      "test RMSE,MAE: 0.731 0.619 \n",
      "\n",
      "\n",
      "nfactor, lr, reg: 74 0.003 0.01 \n",
      "\n",
      "train RMSE,MAE: 0.568 0.486\n",
      "test RMSE,MAE: 0.734 0.616 \n",
      "\n",
      "\n",
      "nfactor, lr, reg: 74 0.003 0.02 \n",
      "\n",
      "train RMSE,MAE: 0.568 0.488\n",
      "test RMSE,MAE: 0.734 0.616 \n",
      "\n",
      "\n",
      "nfactor, lr, reg: 74 0.003 0.04 \n",
      "\n"
     ]
    },
    {
     "name": "stdout",
     "output_type": "stream",
     "text": [
      "train RMSE,MAE: 0.569 0.487\n",
      "test RMSE,MAE: 0.733 0.615 \n",
      "\n",
      "\n",
      "nfactor, lr, reg: 74 0.003 0.08 \n",
      "\n",
      "train RMSE,MAE: 0.574 0.492\n",
      "test RMSE,MAE: 0.734 0.616 \n",
      "\n",
      "\n",
      "nfactor, lr, reg: 74 0.003 0.1 \n",
      "\n",
      "train RMSE,MAE: 0.574 0.493\n",
      "test RMSE,MAE: 0.735 0.616 \n",
      "\n",
      "\n",
      "nfactor, lr, reg: 74 0.003 0.2 \n",
      "\n",
      "train RMSE,MAE: 0.585 0.501\n",
      "test RMSE,MAE: 0.733 0.615 \n",
      "\n",
      "\n",
      "nfactor, lr, reg: 74 0.003 0.4 \n",
      "\n",
      "train RMSE,MAE: 0.596 0.512\n",
      "test RMSE,MAE: 0.733 0.615 \n",
      "\n",
      "\n",
      "nfactor, lr, reg: 74 0.003 0.8 \n",
      "\n",
      "train RMSE,MAE: 0.616 0.533\n",
      "test RMSE,MAE: 0.732 0.615 \n",
      "\n",
      "\n",
      "nfactor, lr, reg: 74 0.003 1 \n",
      "\n",
      "train RMSE,MAE: 0.626 0.541\n",
      "test RMSE,MAE: 0.732 0.615 \n",
      "\n",
      "\n",
      "nfactor, lr, reg: 74 0.003 2 \n",
      "\n",
      "train RMSE,MAE: 0.662 0.574\n",
      "test RMSE,MAE: 0.731 0.616 \n",
      "\n",
      "\n",
      "nfactor, lr, reg: 74 0.003 4 \n",
      "\n",
      "train RMSE,MAE: 0.700 0.608\n",
      "test RMSE,MAE: 0.731 0.617 \n",
      "\n",
      "\n",
      "nfactor, lr, reg: 74 0.003 10 \n",
      "\n",
      "train RMSE,MAE: 0.744 0.646\n",
      "test RMSE,MAE: 0.731 0.619 \n",
      "\n",
      "\n",
      "nfactor, lr, reg: 74 0.004 0.01 \n",
      "\n",
      "train RMSE,MAE: 0.530 0.449\n",
      "test RMSE,MAE: 0.734 0.615 \n",
      "\n",
      "\n",
      "nfactor, lr, reg: 74 0.004 0.02 \n",
      "\n",
      "train RMSE,MAE: 0.529 0.447\n",
      "test RMSE,MAE: 0.735 0.615 \n",
      "\n",
      "\n",
      "nfactor, lr, reg: 74 0.004 0.04 \n",
      "\n",
      "train RMSE,MAE: 0.529 0.448\n",
      "test RMSE,MAE: 0.735 0.616 \n",
      "\n",
      "\n",
      "nfactor, lr, reg: 74 0.004 0.08 \n",
      "\n",
      "train RMSE,MAE: 0.537 0.456\n",
      "test RMSE,MAE: 0.735 0.616 \n",
      "\n",
      "\n",
      "nfactor, lr, reg: 74 0.004 0.1 \n",
      "\n",
      "train RMSE,MAE: 0.541 0.459\n",
      "test RMSE,MAE: 0.735 0.615 \n",
      "\n",
      "\n",
      "nfactor, lr, reg: 74 0.004 0.2 \n",
      "\n",
      "train RMSE,MAE: 0.550 0.468\n",
      "test RMSE,MAE: 0.734 0.615 \n",
      "\n",
      "\n",
      "nfactor, lr, reg: 74 0.004 0.4 \n",
      "\n",
      "train RMSE,MAE: 0.571 0.488\n",
      "test RMSE,MAE: 0.734 0.615 \n",
      "\n",
      "\n",
      "nfactor, lr, reg: 74 0.004 0.8 \n",
      "\n",
      "train RMSE,MAE: 0.597 0.514\n",
      "test RMSE,MAE: 0.733 0.615 \n",
      "\n",
      "\n",
      "nfactor, lr, reg: 74 0.004 1 \n",
      "\n",
      "train RMSE,MAE: 0.611 0.527\n",
      "test RMSE,MAE: 0.732 0.615 \n",
      "\n",
      "\n",
      "nfactor, lr, reg: 74 0.004 2 \n",
      "\n",
      "train RMSE,MAE: 0.653 0.565\n",
      "test RMSE,MAE: 0.731 0.616 \n",
      "\n",
      "\n",
      "nfactor, lr, reg: 74 0.004 4 \n",
      "\n",
      "train RMSE,MAE: 0.697 0.605\n",
      "test RMSE,MAE: 0.731 0.617 \n",
      "\n",
      "\n",
      "nfactor, lr, reg: 74 0.004 10 \n",
      "\n",
      "train RMSE,MAE: 0.743 0.646\n",
      "test RMSE,MAE: 0.731 0.619 \n",
      "\n",
      "\n",
      "nfactor, lr, reg: 74 0.005 0.01 \n",
      "\n",
      "train RMSE,MAE: 0.496 0.416\n",
      "test RMSE,MAE: 0.736 0.616 \n",
      "\n",
      "\n",
      "nfactor, lr, reg: 74 0.005 0.02 \n",
      "\n",
      "train RMSE,MAE: 0.496 0.413\n",
      "test RMSE,MAE: 0.734 0.616 \n",
      "\n",
      "\n",
      "nfactor, lr, reg: 74 0.005 0.04 \n",
      "\n",
      "train RMSE,MAE: 0.495 0.414\n",
      "test RMSE,MAE: 0.736 0.616 \n",
      "\n",
      "\n",
      "nfactor, lr, reg: 74 0.005 0.08 \n",
      "\n",
      "train RMSE,MAE: 0.505 0.424\n",
      "test RMSE,MAE: 0.736 0.616 \n",
      "\n",
      "\n",
      "nfactor, lr, reg: 74 0.005 0.1 \n",
      "\n",
      "train RMSE,MAE: 0.506 0.425\n",
      "test RMSE,MAE: 0.737 0.618 \n",
      "\n",
      "\n",
      "nfactor, lr, reg: 74 0.005 0.2 \n",
      "\n",
      "train RMSE,MAE: 0.523 0.442\n",
      "test RMSE,MAE: 0.735 0.616 \n",
      "\n",
      "\n",
      "nfactor, lr, reg: 74 0.005 0.4 \n",
      "\n",
      "train RMSE,MAE: 0.550 0.468\n",
      "test RMSE,MAE: 0.735 0.616 \n",
      "\n",
      "\n",
      "nfactor, lr, reg: 74 0.005 0.8 \n",
      "\n",
      "train RMSE,MAE: 0.585 0.503\n",
      "test RMSE,MAE: 0.733 0.615 \n",
      "\n",
      "\n",
      "nfactor, lr, reg: 74 0.005 1 \n",
      "\n",
      "train RMSE,MAE: 0.600 0.517\n",
      "test RMSE,MAE: 0.733 0.615 \n",
      "\n",
      "\n",
      "nfactor, lr, reg: 74 0.005 2 \n",
      "\n",
      "train RMSE,MAE: 0.648 0.561\n",
      "test RMSE,MAE: 0.731 0.615 \n",
      "\n",
      "\n",
      "nfactor, lr, reg: 74 0.005 4 \n",
      "\n",
      "train RMSE,MAE: 0.695 0.603\n",
      "test RMSE,MAE: 0.731 0.617 \n",
      "\n",
      "\n",
      "nfactor, lr, reg: 74 0.005 10 \n",
      "\n",
      "train RMSE,MAE: 0.743 0.645\n",
      "test RMSE,MAE: 0.731 0.619 \n",
      "\n",
      "\n",
      "nfactor, lr, reg: 74 0.006 0.01 \n",
      "\n",
      "train RMSE,MAE: 0.462 0.381\n",
      "test RMSE,MAE: 0.735 0.616 \n",
      "\n",
      "\n",
      "nfactor, lr, reg: 74 0.006 0.02 \n",
      "\n",
      "train RMSE,MAE: 0.469 0.388\n",
      "test RMSE,MAE: 0.735 0.616 \n",
      "\n",
      "\n",
      "nfactor, lr, reg: 74 0.006 0.04 \n",
      "\n",
      "train RMSE,MAE: 0.477 0.392\n",
      "test RMSE,MAE: 0.736 0.617 \n",
      "\n",
      "\n",
      "nfactor, lr, reg: 74 0.006 0.08 \n",
      "\n",
      "train RMSE,MAE: 0.482 0.400\n",
      "test RMSE,MAE: 0.736 0.616 \n",
      "\n",
      "\n",
      "nfactor, lr, reg: 74 0.006 0.1 \n",
      "\n",
      "train RMSE,MAE: 0.486 0.404\n",
      "test RMSE,MAE: 0.736 0.617 \n",
      "\n",
      "\n",
      "nfactor, lr, reg: 74 0.006 0.2 \n",
      "\n",
      "train RMSE,MAE: 0.507 0.423\n",
      "test RMSE,MAE: 0.736 0.617 \n",
      "\n",
      "\n",
      "nfactor, lr, reg: 74 0.006 0.4 \n",
      "\n",
      "train RMSE,MAE: 0.535 0.453\n",
      "test RMSE,MAE: 0.735 0.616 \n",
      "\n",
      "\n",
      "nfactor, lr, reg: 74 0.006 0.8 \n",
      "\n",
      "train RMSE,MAE: 0.577 0.494\n",
      "test RMSE,MAE: 0.733 0.615 \n",
      "\n",
      "\n",
      "nfactor, lr, reg: 74 0.006 1 \n",
      "\n",
      "train RMSE,MAE: 0.593 0.509\n",
      "test RMSE,MAE: 0.733 0.615 \n",
      "\n",
      "\n",
      "nfactor, lr, reg: 74 0.006 2 \n",
      "\n",
      "train RMSE,MAE: 0.644 0.558\n",
      "test RMSE,MAE: 0.731 0.615 \n",
      "\n",
      "\n",
      "nfactor, lr, reg: 74 0.006 4 \n",
      "\n",
      "train RMSE,MAE: 0.694 0.602\n",
      "test RMSE,MAE: 0.731 0.617 \n",
      "\n",
      "\n",
      "nfactor, lr, reg: 74 0.006 10 \n",
      "\n",
      "train RMSE,MAE: 0.742 0.645\n",
      "test RMSE,MAE: 0.731 0.619 \n",
      "\n",
      "\n",
      "nfactor, lr, reg: 74 0.007 0.01 \n",
      "\n",
      "train RMSE,MAE: 0.441 0.358\n",
      "test RMSE,MAE: 0.738 0.618 \n",
      "\n",
      "\n",
      "nfactor, lr, reg: 74 0.007 0.02 \n",
      "\n",
      "train RMSE,MAE: 0.441 0.360\n",
      "test RMSE,MAE: 0.737 0.617 \n",
      "\n",
      "\n",
      "nfactor, lr, reg: 74 0.007 0.04 \n",
      "\n",
      "train RMSE,MAE: 0.457 0.371\n",
      "test RMSE,MAE: 0.735 0.616 \n",
      "\n",
      "\n",
      "nfactor, lr, reg: 74 0.007 0.08 \n",
      "\n",
      "train RMSE,MAE: 0.458 0.376\n",
      "test RMSE,MAE: 0.737 0.617 \n",
      "\n",
      "\n",
      "nfactor, lr, reg: 74 0.007 0.1 \n",
      "\n",
      "train RMSE,MAE: 0.464 0.382\n",
      "test RMSE,MAE: 0.737 0.617 \n",
      "\n",
      "\n",
      "nfactor, lr, reg: 74 0.007 0.2 \n",
      "\n",
      "train RMSE,MAE: 0.492 0.408\n",
      "test RMSE,MAE: 0.735 0.616 \n",
      "\n",
      "\n",
      "nfactor, lr, reg: 74 0.007 0.4 \n",
      "\n",
      "train RMSE,MAE: 0.526 0.443\n",
      "test RMSE,MAE: 0.735 0.616 \n",
      "\n",
      "\n",
      "nfactor, lr, reg: 74 0.007 0.8 \n",
      "\n",
      "train RMSE,MAE: 0.574 0.490\n",
      "test RMSE,MAE: 0.734 0.615 \n",
      "\n",
      "\n",
      "nfactor, lr, reg: 74 0.007 1 \n",
      "\n",
      "train RMSE,MAE: 0.590 0.506\n",
      "test RMSE,MAE: 0.733 0.615 \n",
      "\n",
      "\n",
      "nfactor, lr, reg: 74 0.007 2 \n",
      "\n",
      "train RMSE,MAE: 0.642 0.556\n",
      "test RMSE,MAE: 0.731 0.615 \n",
      "\n",
      "\n",
      "nfactor, lr, reg: 74 0.007 4 \n",
      "\n",
      "train RMSE,MAE: 0.693 0.602\n",
      "test RMSE,MAE: 0.731 0.617 \n",
      "\n",
      "\n",
      "nfactor, lr, reg: 74 0.007 10 \n",
      "\n",
      "train RMSE,MAE: 0.742 0.645\n",
      "test RMSE,MAE: 0.731 0.619 \n",
      "\n",
      "\n",
      "nfactor, lr, reg: 74 0.008 0.01 \n",
      "\n",
      "train RMSE,MAE: 0.415 0.334\n",
      "test RMSE,MAE: 0.740 0.618 \n",
      "\n",
      "\n",
      "nfactor, lr, reg: 74 0.008 0.02 \n",
      "\n",
      "train RMSE,MAE: 0.427 0.344\n",
      "test RMSE,MAE: 0.738 0.618 \n",
      "\n",
      "\n",
      "nfactor, lr, reg: 74 0.008 0.04 \n",
      "\n",
      "train RMSE,MAE: 0.435 0.351\n",
      "test RMSE,MAE: 0.739 0.619 \n",
      "\n",
      "\n",
      "nfactor, lr, reg: 74 0.008 0.08 \n",
      "\n",
      "train RMSE,MAE: 0.446 0.361\n",
      "test RMSE,MAE: 0.737 0.617 \n",
      "\n",
      "\n",
      "nfactor, lr, reg: 74 0.008 0.1 \n",
      "\n",
      "train RMSE,MAE: 0.452 0.368\n",
      "test RMSE,MAE: 0.737 0.618 \n",
      "\n",
      "\n",
      "nfactor, lr, reg: 74 0.008 0.2 \n",
      "\n",
      "train RMSE,MAE: 0.480 0.396\n",
      "test RMSE,MAE: 0.737 0.618 \n",
      "\n",
      "\n",
      "nfactor, lr, reg: 74 0.008 0.4 \n",
      "\n",
      "train RMSE,MAE: 0.518 0.434\n",
      "test RMSE,MAE: 0.735 0.616 \n",
      "\n",
      "\n",
      "nfactor, lr, reg: 74 0.008 0.8 \n",
      "\n",
      "train RMSE,MAE: 0.569 0.486\n",
      "test RMSE,MAE: 0.734 0.616 \n",
      "\n",
      "\n",
      "nfactor, lr, reg: 74 0.008 1 \n",
      "\n",
      "train RMSE,MAE: 0.587 0.503\n",
      "test RMSE,MAE: 0.733 0.615 \n",
      "\n",
      "\n",
      "nfactor, lr, reg: 74 0.008 2 \n",
      "\n",
      "train RMSE,MAE: 0.641 0.554\n",
      "test RMSE,MAE: 0.732 0.615 \n",
      "\n",
      "\n",
      "nfactor, lr, reg: 74 0.008 4 \n",
      "\n",
      "train RMSE,MAE: 0.692 0.601\n",
      "test RMSE,MAE: 0.731 0.617 \n",
      "\n",
      "\n",
      "nfactor, lr, reg: 74 0.008 10 \n",
      "\n",
      "train RMSE,MAE: 0.742 0.645\n",
      "test RMSE,MAE: 0.731 0.619 \n",
      "\n",
      "\n",
      "nfactor, lr, reg: 74 0.009000000000000001 0.01 \n",
      "\n",
      "train RMSE,MAE: 0.400 0.319\n",
      "test RMSE,MAE: 0.740 0.620 \n",
      "\n",
      "\n",
      "nfactor, lr, reg: 74 0.009000000000000001 0.02 \n",
      "\n",
      "train RMSE,MAE: 0.405 0.323\n",
      "test RMSE,MAE: 0.737 0.617 \n",
      "\n",
      "\n",
      "nfactor, lr, reg: 74 0.009000000000000001 0.04 \n",
      "\n",
      "train RMSE,MAE: 0.414 0.329\n",
      "test RMSE,MAE: 0.738 0.618 \n",
      "\n",
      "\n",
      "nfactor, lr, reg: 74 0.009000000000000001 0.08 \n",
      "\n",
      "train RMSE,MAE: 0.427 0.344\n",
      "test RMSE,MAE: 0.739 0.618 \n",
      "\n",
      "\n",
      "nfactor, lr, reg: 74 0.009000000000000001 0.1 \n",
      "\n",
      "train RMSE,MAE: 0.442 0.356\n",
      "test RMSE,MAE: 0.737 0.618 \n",
      "\n",
      "\n",
      "nfactor, lr, reg: 74 0.009000000000000001 0.2 \n",
      "\n",
      "train RMSE,MAE: 0.470 0.386\n",
      "test RMSE,MAE: 0.737 0.617 \n",
      "\n",
      "\n",
      "nfactor, lr, reg: 74 0.009000000000000001 0.4 \n",
      "\n",
      "train RMSE,MAE: 0.514 0.430\n",
      "test RMSE,MAE: 0.736 0.617 \n",
      "\n",
      "\n",
      "nfactor, lr, reg: 74 0.009000000000000001 0.8 \n",
      "\n",
      "train RMSE,MAE: 0.567 0.483\n",
      "test RMSE,MAE: 0.734 0.616 \n",
      "\n",
      "\n",
      "nfactor, lr, reg: 74 0.009000000000000001 1 \n",
      "\n",
      "train RMSE,MAE: 0.584 0.501\n",
      "test RMSE,MAE: 0.733 0.615 \n",
      "\n",
      "\n",
      "nfactor, lr, reg: 74 0.009000000000000001 2 \n",
      "\n",
      "train RMSE,MAE: 0.640 0.554\n",
      "test RMSE,MAE: 0.732 0.615 \n",
      "\n",
      "\n",
      "nfactor, lr, reg: 74 0.009000000000000001 4 \n",
      "\n",
      "train RMSE,MAE: 0.692 0.601\n",
      "test RMSE,MAE: 0.731 0.617 \n",
      "\n",
      "\n",
      "nfactor, lr, reg: 74 0.009000000000000001 10 \n",
      "\n",
      "train RMSE,MAE: 0.742 0.644\n",
      "test RMSE,MAE: 0.731 0.620 \n",
      "\n",
      "\n",
      "nfactor, lr, reg: 82 0.001 0.01 \n",
      "\n",
      "train RMSE,MAE: 0.691 0.599\n",
      "test RMSE,MAE: 0.732 0.619 \n",
      "\n",
      "\n",
      "nfactor, lr, reg: 82 0.001 0.02 \n",
      "\n",
      "train RMSE,MAE: 0.697 0.603\n",
      "test RMSE,MAE: 0.733 0.619 \n",
      "\n",
      "\n",
      "nfactor, lr, reg: 82 0.001 0.04 \n",
      "\n",
      "train RMSE,MAE: 0.698 0.605\n",
      "test RMSE,MAE: 0.733 0.619 \n",
      "\n",
      "\n",
      "nfactor, lr, reg: 82 0.001 0.08 \n",
      "\n",
      "train RMSE,MAE: 0.689 0.597\n",
      "test RMSE,MAE: 0.732 0.619 \n",
      "\n",
      "\n",
      "nfactor, lr, reg: 82 0.001 0.1 \n",
      "\n",
      "train RMSE,MAE: 0.695 0.601\n",
      "test RMSE,MAE: 0.732 0.619 \n",
      "\n",
      "\n",
      "nfactor, lr, reg: 82 0.001 0.2 \n",
      "\n",
      "train RMSE,MAE: 0.697 0.603\n",
      "test RMSE,MAE: 0.733 0.620 \n",
      "\n",
      "\n",
      "nfactor, lr, reg: 82 0.001 0.4 \n",
      "\n",
      "train RMSE,MAE: 0.700 0.605\n",
      "test RMSE,MAE: 0.732 0.619 \n",
      "\n",
      "\n",
      "nfactor, lr, reg: 82 0.001 0.8 \n",
      "\n"
     ]
    },
    {
     "name": "stdout",
     "output_type": "stream",
     "text": [
      "train RMSE,MAE: 0.704 0.612\n",
      "test RMSE,MAE: 0.732 0.619 \n",
      "\n",
      "\n",
      "nfactor, lr, reg: 82 0.001 1 \n",
      "\n",
      "train RMSE,MAE: 0.704 0.610\n",
      "test RMSE,MAE: 0.732 0.619 \n",
      "\n",
      "\n",
      "nfactor, lr, reg: 82 0.001 2 \n",
      "\n",
      "train RMSE,MAE: 0.713 0.620\n",
      "test RMSE,MAE: 0.732 0.619 \n",
      "\n",
      "\n",
      "nfactor, lr, reg: 82 0.001 4 \n",
      "\n",
      "train RMSE,MAE: 0.727 0.631\n",
      "test RMSE,MAE: 0.732 0.619 \n",
      "\n",
      "\n",
      "nfactor, lr, reg: 82 0.001 10 \n",
      "\n",
      "train RMSE,MAE: 0.750 0.652\n",
      "test RMSE,MAE: 0.732 0.620 \n",
      "\n",
      "\n",
      "nfactor, lr, reg: 82 0.002 0.01 \n",
      "\n",
      "train RMSE,MAE: 0.619 0.533\n",
      "test RMSE,MAE: 0.732 0.616 \n",
      "\n",
      "\n",
      "nfactor, lr, reg: 82 0.002 0.02 \n",
      "\n",
      "train RMSE,MAE: 0.616 0.531\n",
      "test RMSE,MAE: 0.733 0.617 \n",
      "\n",
      "\n",
      "nfactor, lr, reg: 82 0.002 0.04 \n",
      "\n",
      "train RMSE,MAE: 0.618 0.532\n",
      "test RMSE,MAE: 0.733 0.617 \n",
      "\n",
      "\n",
      "nfactor, lr, reg: 82 0.002 0.08 \n",
      "\n",
      "train RMSE,MAE: 0.622 0.534\n",
      "test RMSE,MAE: 0.732 0.616 \n",
      "\n",
      "\n",
      "nfactor, lr, reg: 82 0.002 0.1 \n",
      "\n",
      "train RMSE,MAE: 0.622 0.537\n",
      "test RMSE,MAE: 0.734 0.617 \n",
      "\n",
      "\n",
      "nfactor, lr, reg: 82 0.002 0.2 \n",
      "\n",
      "train RMSE,MAE: 0.627 0.542\n",
      "test RMSE,MAE: 0.732 0.617 \n",
      "\n",
      "\n",
      "nfactor, lr, reg: 82 0.002 0.4 \n",
      "\n",
      "train RMSE,MAE: 0.634 0.549\n",
      "test RMSE,MAE: 0.732 0.616 \n",
      "\n",
      "\n",
      "nfactor, lr, reg: 82 0.002 0.8 \n",
      "\n",
      "train RMSE,MAE: 0.648 0.561\n",
      "test RMSE,MAE: 0.732 0.617 \n",
      "\n",
      "\n",
      "nfactor, lr, reg: 82 0.002 1 \n",
      "\n",
      "train RMSE,MAE: 0.654 0.567\n",
      "test RMSE,MAE: 0.732 0.617 \n",
      "\n",
      "\n",
      "nfactor, lr, reg: 82 0.002 2 \n",
      "\n",
      "train RMSE,MAE: 0.679 0.589\n",
      "test RMSE,MAE: 0.732 0.618 \n",
      "\n",
      "\n",
      "nfactor, lr, reg: 82 0.002 4 \n",
      "\n",
      "train RMSE,MAE: 0.707 0.615\n",
      "test RMSE,MAE: 0.731 0.618 \n",
      "\n",
      "\n",
      "nfactor, lr, reg: 82 0.002 10 \n",
      "\n",
      "train RMSE,MAE: 0.745 0.647\n",
      "test RMSE,MAE: 0.731 0.619 \n",
      "\n",
      "\n",
      "nfactor, lr, reg: 82 0.003 0.01 \n",
      "\n",
      "train RMSE,MAE: 0.561 0.481\n",
      "test RMSE,MAE: 0.731 0.614 \n",
      "\n",
      "\n",
      "nfactor, lr, reg: 82 0.003 0.02 \n",
      "\n",
      "train RMSE,MAE: 0.561 0.481\n",
      "test RMSE,MAE: 0.734 0.616 \n",
      "\n",
      "\n",
      "nfactor, lr, reg: 82 0.003 0.04 \n",
      "\n",
      "train RMSE,MAE: 0.565 0.484\n",
      "test RMSE,MAE: 0.734 0.616 \n",
      "\n",
      "\n",
      "nfactor, lr, reg: 82 0.003 0.08 \n",
      "\n",
      "train RMSE,MAE: 0.565 0.486\n",
      "test RMSE,MAE: 0.733 0.614 \n",
      "\n",
      "\n",
      "nfactor, lr, reg: 82 0.003 0.1 \n",
      "\n",
      "train RMSE,MAE: 0.572 0.490\n",
      "test RMSE,MAE: 0.734 0.616 \n",
      "\n",
      "\n",
      "nfactor, lr, reg: 82 0.003 0.2 \n",
      "\n",
      "train RMSE,MAE: 0.579 0.497\n",
      "test RMSE,MAE: 0.733 0.616 \n",
      "\n",
      "\n",
      "nfactor, lr, reg: 82 0.003 0.4 \n",
      "\n",
      "train RMSE,MAE: 0.591 0.508\n",
      "test RMSE,MAE: 0.733 0.615 \n",
      "\n",
      "\n",
      "nfactor, lr, reg: 82 0.003 0.8 \n",
      "\n",
      "train RMSE,MAE: 0.616 0.532\n",
      "test RMSE,MAE: 0.732 0.615 \n",
      "\n",
      "\n",
      "nfactor, lr, reg: 82 0.003 1 \n",
      "\n",
      "train RMSE,MAE: 0.628 0.542\n",
      "test RMSE,MAE: 0.732 0.615 \n",
      "\n",
      "\n",
      "nfactor, lr, reg: 82 0.003 2 \n",
      "\n",
      "train RMSE,MAE: 0.661 0.573\n",
      "test RMSE,MAE: 0.732 0.616 \n",
      "\n",
      "\n",
      "nfactor, lr, reg: 82 0.003 4 \n",
      "\n",
      "train RMSE,MAE: 0.700 0.608\n",
      "test RMSE,MAE: 0.731 0.617 \n",
      "\n",
      "\n",
      "nfactor, lr, reg: 82 0.003 10 \n",
      "\n",
      "train RMSE,MAE: 0.744 0.646\n",
      "test RMSE,MAE: 0.731 0.619 \n",
      "\n",
      "\n",
      "nfactor, lr, reg: 82 0.004 0.01 \n",
      "\n",
      "train RMSE,MAE: 0.518 0.439\n",
      "test RMSE,MAE: 0.736 0.616 \n",
      "\n",
      "\n",
      "nfactor, lr, reg: 82 0.004 0.02 \n",
      "\n",
      "train RMSE,MAE: 0.527 0.447\n",
      "test RMSE,MAE: 0.734 0.616 \n",
      "\n",
      "\n",
      "nfactor, lr, reg: 82 0.004 0.04 \n",
      "\n",
      "train RMSE,MAE: 0.523 0.445\n",
      "test RMSE,MAE: 0.735 0.616 \n",
      "\n",
      "\n",
      "nfactor, lr, reg: 82 0.004 0.08 \n",
      "\n",
      "train RMSE,MAE: 0.533 0.452\n",
      "test RMSE,MAE: 0.734 0.615 \n",
      "\n",
      "\n",
      "nfactor, lr, reg: 82 0.004 0.1 \n",
      "\n",
      "train RMSE,MAE: 0.532 0.450\n",
      "test RMSE,MAE: 0.735 0.616 \n",
      "\n",
      "\n",
      "nfactor, lr, reg: 82 0.004 0.2 \n",
      "\n",
      "train RMSE,MAE: 0.542 0.462\n",
      "test RMSE,MAE: 0.734 0.616 \n",
      "\n",
      "\n",
      "nfactor, lr, reg: 82 0.004 0.4 \n",
      "\n",
      "train RMSE,MAE: 0.562 0.481\n",
      "test RMSE,MAE: 0.733 0.614 \n",
      "\n",
      "\n",
      "nfactor, lr, reg: 82 0.004 0.8 \n",
      "\n",
      "train RMSE,MAE: 0.596 0.512\n",
      "test RMSE,MAE: 0.733 0.615 \n",
      "\n",
      "\n",
      "nfactor, lr, reg: 82 0.004 1 \n",
      "\n",
      "train RMSE,MAE: 0.609 0.525\n",
      "test RMSE,MAE: 0.732 0.615 \n",
      "\n",
      "\n",
      "nfactor, lr, reg: 82 0.004 2 \n",
      "\n",
      "train RMSE,MAE: 0.652 0.565\n",
      "test RMSE,MAE: 0.731 0.615 \n",
      "\n",
      "\n",
      "nfactor, lr, reg: 82 0.004 4 \n",
      "\n",
      "train RMSE,MAE: 0.696 0.605\n",
      "test RMSE,MAE: 0.731 0.617 \n",
      "\n",
      "\n",
      "nfactor, lr, reg: 82 0.004 10 \n",
      "\n",
      "train RMSE,MAE: 0.743 0.646\n",
      "test RMSE,MAE: 0.731 0.619 \n",
      "\n",
      "\n",
      "nfactor, lr, reg: 82 0.005 0.01 \n",
      "\n",
      "train RMSE,MAE: 0.488 0.406\n",
      "test RMSE,MAE: 0.736 0.616 \n",
      "\n",
      "\n",
      "nfactor, lr, reg: 82 0.005 0.02 \n",
      "\n",
      "train RMSE,MAE: 0.489 0.408\n",
      "test RMSE,MAE: 0.736 0.617 \n",
      "\n",
      "\n",
      "nfactor, lr, reg: 82 0.005 0.04 \n",
      "\n",
      "train RMSE,MAE: 0.485 0.406\n",
      "test RMSE,MAE: 0.735 0.616 \n",
      "\n",
      "\n",
      "nfactor, lr, reg: 82 0.005 0.08 \n",
      "\n",
      "train RMSE,MAE: 0.498 0.420\n",
      "test RMSE,MAE: 0.737 0.617 \n",
      "\n",
      "\n",
      "nfactor, lr, reg: 82 0.005 0.1 \n",
      "\n",
      "train RMSE,MAE: 0.502 0.421\n",
      "test RMSE,MAE: 0.736 0.617 \n",
      "\n",
      "\n",
      "nfactor, lr, reg: 82 0.005 0.2 \n",
      "\n",
      "train RMSE,MAE: 0.520 0.440\n",
      "test RMSE,MAE: 0.735 0.616 \n",
      "\n",
      "\n",
      "nfactor, lr, reg: 82 0.005 0.4 \n",
      "\n",
      "train RMSE,MAE: 0.548 0.465\n",
      "test RMSE,MAE: 0.734 0.616 \n",
      "\n",
      "\n",
      "nfactor, lr, reg: 82 0.005 0.8 \n",
      "\n",
      "train RMSE,MAE: 0.583 0.501\n",
      "test RMSE,MAE: 0.733 0.615 \n",
      "\n",
      "\n",
      "nfactor, lr, reg: 82 0.005 1 \n",
      "\n",
      "train RMSE,MAE: 0.598 0.515\n",
      "test RMSE,MAE: 0.732 0.615 \n",
      "\n",
      "\n",
      "nfactor, lr, reg: 82 0.005 2 \n",
      "\n",
      "train RMSE,MAE: 0.647 0.560\n",
      "test RMSE,MAE: 0.731 0.615 \n",
      "\n",
      "\n",
      "nfactor, lr, reg: 82 0.005 4 \n",
      "\n",
      "train RMSE,MAE: 0.695 0.603\n",
      "test RMSE,MAE: 0.731 0.617 \n",
      "\n",
      "\n",
      "nfactor, lr, reg: 82 0.005 10 \n",
      "\n",
      "train RMSE,MAE: 0.743 0.645\n",
      "test RMSE,MAE: 0.731 0.619 \n",
      "\n",
      "\n",
      "nfactor, lr, reg: 82 0.006 0.01 \n",
      "\n",
      "train RMSE,MAE: 0.458 0.377\n",
      "test RMSE,MAE: 0.738 0.618 \n",
      "\n",
      "\n",
      "nfactor, lr, reg: 82 0.006 0.02 \n",
      "\n",
      "train RMSE,MAE: 0.464 0.381\n",
      "test RMSE,MAE: 0.737 0.616 \n",
      "\n",
      "\n",
      "nfactor, lr, reg: 82 0.006 0.04 \n",
      "\n",
      "train RMSE,MAE: 0.463 0.384\n",
      "test RMSE,MAE: 0.736 0.616 \n",
      "\n",
      "\n",
      "nfactor, lr, reg: 82 0.006 0.08 \n",
      "\n",
      "train RMSE,MAE: 0.471 0.389\n",
      "test RMSE,MAE: 0.735 0.615 \n",
      "\n",
      "\n",
      "nfactor, lr, reg: 82 0.006 0.1 \n",
      "\n",
      "train RMSE,MAE: 0.475 0.394\n",
      "test RMSE,MAE: 0.737 0.616 \n",
      "\n",
      "\n",
      "nfactor, lr, reg: 82 0.006 0.2 \n",
      "\n",
      "train RMSE,MAE: 0.494 0.414\n",
      "test RMSE,MAE: 0.736 0.617 \n",
      "\n",
      "\n",
      "nfactor, lr, reg: 82 0.006 0.4 \n",
      "\n",
      "train RMSE,MAE: 0.529 0.448\n",
      "test RMSE,MAE: 0.734 0.615 \n",
      "\n",
      "\n",
      "nfactor, lr, reg: 82 0.006 0.8 \n",
      "\n",
      "train RMSE,MAE: 0.576 0.493\n",
      "test RMSE,MAE: 0.733 0.615 \n",
      "\n",
      "\n",
      "nfactor, lr, reg: 82 0.006 1 \n",
      "\n",
      "train RMSE,MAE: 0.592 0.509\n",
      "test RMSE,MAE: 0.733 0.615 \n",
      "\n",
      "\n",
      "nfactor, lr, reg: 82 0.006 2 \n",
      "\n",
      "train RMSE,MAE: 0.644 0.558\n",
      "test RMSE,MAE: 0.731 0.615 \n",
      "\n",
      "\n",
      "nfactor, lr, reg: 82 0.006 4 \n",
      "\n",
      "train RMSE,MAE: 0.694 0.602\n",
      "test RMSE,MAE: 0.731 0.617 \n",
      "\n",
      "\n",
      "nfactor, lr, reg: 82 0.006 10 \n",
      "\n",
      "train RMSE,MAE: 0.742 0.645\n",
      "test RMSE,MAE: 0.731 0.619 \n",
      "\n",
      "\n",
      "nfactor, lr, reg: 82 0.007 0.01 \n",
      "\n",
      "train RMSE,MAE: 0.435 0.353\n",
      "test RMSE,MAE: 0.736 0.617 \n",
      "\n",
      "\n",
      "nfactor, lr, reg: 82 0.007 0.02 \n",
      "\n",
      "train RMSE,MAE: 0.430 0.351\n",
      "test RMSE,MAE: 0.737 0.618 \n",
      "\n",
      "\n",
      "nfactor, lr, reg: 82 0.007 0.04 \n",
      "\n",
      "train RMSE,MAE: 0.444 0.361\n",
      "test RMSE,MAE: 0.735 0.615 \n",
      "\n",
      "\n",
      "nfactor, lr, reg: 82 0.007 0.08 \n",
      "\n",
      "train RMSE,MAE: 0.453 0.371\n",
      "test RMSE,MAE: 0.737 0.617 \n",
      "\n",
      "\n",
      "nfactor, lr, reg: 82 0.007 0.1 \n",
      "\n",
      "train RMSE,MAE: 0.460 0.379\n",
      "test RMSE,MAE: 0.739 0.620 \n",
      "\n",
      "\n",
      "nfactor, lr, reg: 82 0.007 0.2 \n",
      "\n",
      "train RMSE,MAE: 0.485 0.402\n",
      "test RMSE,MAE: 0.736 0.616 \n",
      "\n",
      "\n",
      "nfactor, lr, reg: 82 0.007 0.4 \n",
      "\n",
      "train RMSE,MAE: 0.522 0.439\n",
      "test RMSE,MAE: 0.736 0.617 \n",
      "\n",
      "\n",
      "nfactor, lr, reg: 82 0.007 0.8 \n",
      "\n",
      "train RMSE,MAE: 0.571 0.488\n",
      "test RMSE,MAE: 0.733 0.615 \n",
      "\n",
      "\n",
      "nfactor, lr, reg: 82 0.007 1 \n",
      "\n",
      "train RMSE,MAE: 0.588 0.504\n",
      "test RMSE,MAE: 0.733 0.615 \n",
      "\n",
      "\n",
      "nfactor, lr, reg: 82 0.007 2 \n",
      "\n",
      "train RMSE,MAE: 0.642 0.556\n",
      "test RMSE,MAE: 0.731 0.615 \n",
      "\n",
      "\n",
      "nfactor, lr, reg: 82 0.007 4 \n",
      "\n",
      "train RMSE,MAE: 0.693 0.602\n",
      "test RMSE,MAE: 0.731 0.617 \n",
      "\n",
      "\n",
      "nfactor, lr, reg: 82 0.007 10 \n",
      "\n",
      "train RMSE,MAE: 0.742 0.645\n",
      "test RMSE,MAE: 0.731 0.619 \n",
      "\n",
      "\n",
      "nfactor, lr, reg: 82 0.008 0.01 \n",
      "\n",
      "train RMSE,MAE: 0.411 0.329\n",
      "test RMSE,MAE: 0.736 0.617 \n",
      "\n",
      "\n",
      "nfactor, lr, reg: 82 0.008 0.02 \n",
      "\n",
      "train RMSE,MAE: 0.416 0.332\n",
      "test RMSE,MAE: 0.740 0.620 \n",
      "\n",
      "\n",
      "nfactor, lr, reg: 82 0.008 0.04 \n",
      "\n",
      "train RMSE,MAE: 0.417 0.336\n",
      "test RMSE,MAE: 0.737 0.618 \n",
      "\n",
      "\n",
      "nfactor, lr, reg: 82 0.008 0.08 \n",
      "\n",
      "train RMSE,MAE: 0.440 0.357\n",
      "test RMSE,MAE: 0.738 0.619 \n",
      "\n",
      "\n",
      "nfactor, lr, reg: 82 0.008 0.1 \n",
      "\n",
      "train RMSE,MAE: 0.442 0.361\n",
      "test RMSE,MAE: 0.738 0.618 \n",
      "\n",
      "\n",
      "nfactor, lr, reg: 82 0.008 0.2 \n",
      "\n",
      "train RMSE,MAE: 0.475 0.392\n",
      "test RMSE,MAE: 0.738 0.618 \n",
      "\n",
      "\n",
      "nfactor, lr, reg: 82 0.008 0.4 \n",
      "\n",
      "train RMSE,MAE: 0.515 0.433\n",
      "test RMSE,MAE: 0.736 0.616 \n",
      "\n",
      "\n",
      "nfactor, lr, reg: 82 0.008 0.8 \n",
      "\n",
      "train RMSE,MAE: 0.567 0.484\n",
      "test RMSE,MAE: 0.734 0.616 \n",
      "\n",
      "\n",
      "nfactor, lr, reg: 82 0.008 1 \n",
      "\n",
      "train RMSE,MAE: 0.585 0.501\n",
      "test RMSE,MAE: 0.733 0.615 \n",
      "\n",
      "\n",
      "nfactor, lr, reg: 82 0.008 2 \n",
      "\n",
      "train RMSE,MAE: 0.641 0.554\n",
      "test RMSE,MAE: 0.732 0.615 \n",
      "\n",
      "\n",
      "nfactor, lr, reg: 82 0.008 4 \n",
      "\n",
      "train RMSE,MAE: 0.692 0.601\n",
      "test RMSE,MAE: 0.731 0.617 \n",
      "\n",
      "\n",
      "nfactor, lr, reg: 82 0.008 10 \n",
      "\n",
      "train RMSE,MAE: 0.742 0.645\n",
      "test RMSE,MAE: 0.731 0.619 \n",
      "\n",
      "\n",
      "nfactor, lr, reg: 82 0.009000000000000001 0.01 \n",
      "\n",
      "train RMSE,MAE: 0.393 0.313\n",
      "test RMSE,MAE: 0.738 0.618 \n",
      "\n",
      "\n",
      "nfactor, lr, reg: 82 0.009000000000000001 0.02 \n",
      "\n",
      "train RMSE,MAE: 0.396 0.314\n",
      "test RMSE,MAE: 0.738 0.620 \n",
      "\n",
      "\n",
      "nfactor, lr, reg: 82 0.009000000000000001 0.04 \n",
      "\n"
     ]
    },
    {
     "name": "stdout",
     "output_type": "stream",
     "text": [
      "train RMSE,MAE: 0.406 0.325\n",
      "test RMSE,MAE: 0.739 0.619 \n",
      "\n",
      "\n",
      "nfactor, lr, reg: 82 0.009000000000000001 0.08 \n",
      "\n",
      "train RMSE,MAE: 0.421 0.339\n",
      "test RMSE,MAE: 0.737 0.618 \n",
      "\n",
      "\n",
      "nfactor, lr, reg: 82 0.009000000000000001 0.1 \n",
      "\n",
      "train RMSE,MAE: 0.428 0.346\n",
      "test RMSE,MAE: 0.737 0.618 \n",
      "\n",
      "\n",
      "nfactor, lr, reg: 82 0.009000000000000001 0.2 \n",
      "\n",
      "train RMSE,MAE: 0.466 0.382\n",
      "test RMSE,MAE: 0.736 0.617 \n",
      "\n",
      "\n",
      "nfactor, lr, reg: 82 0.009000000000000001 0.4 \n",
      "\n",
      "train RMSE,MAE: 0.508 0.425\n",
      "test RMSE,MAE: 0.736 0.617 \n",
      "\n",
      "\n",
      "nfactor, lr, reg: 82 0.009000000000000001 0.8 \n",
      "\n",
      "train RMSE,MAE: 0.566 0.482\n",
      "test RMSE,MAE: 0.734 0.616 \n",
      "\n",
      "\n",
      "nfactor, lr, reg: 82 0.009000000000000001 1 \n",
      "\n",
      "train RMSE,MAE: 0.583 0.499\n",
      "test RMSE,MAE: 0.734 0.616 \n",
      "\n",
      "\n",
      "nfactor, lr, reg: 82 0.009000000000000001 2 \n",
      "\n",
      "train RMSE,MAE: 0.640 0.553\n",
      "test RMSE,MAE: 0.732 0.615 \n",
      "\n",
      "\n",
      "nfactor, lr, reg: 82 0.009000000000000001 4 \n",
      "\n",
      "train RMSE,MAE: 0.692 0.601\n",
      "test RMSE,MAE: 0.731 0.617 \n",
      "\n",
      "\n",
      "nfactor, lr, reg: 82 0.009000000000000001 10 \n",
      "\n",
      "train RMSE,MAE: 0.742 0.644\n",
      "test RMSE,MAE: 0.731 0.620 \n",
      "\n",
      "\n",
      "nfactor, lr, reg: 90 0.001 0.01 \n",
      "\n",
      "train RMSE,MAE: 0.690 0.594\n",
      "test RMSE,MAE: 0.732 0.619 \n",
      "\n",
      "\n",
      "nfactor, lr, reg: 90 0.001 0.02 \n",
      "\n",
      "train RMSE,MAE: 0.696 0.601\n",
      "test RMSE,MAE: 0.733 0.619 \n",
      "\n",
      "\n",
      "nfactor, lr, reg: 90 0.001 0.04 \n",
      "\n",
      "train RMSE,MAE: 0.696 0.602\n",
      "test RMSE,MAE: 0.732 0.619 \n",
      "\n",
      "\n",
      "nfactor, lr, reg: 90 0.001 0.08 \n",
      "\n",
      "train RMSE,MAE: 0.696 0.600\n",
      "test RMSE,MAE: 0.732 0.619 \n",
      "\n",
      "\n",
      "nfactor, lr, reg: 90 0.001 0.1 \n",
      "\n",
      "train RMSE,MAE: 0.694 0.601\n",
      "test RMSE,MAE: 0.732 0.619 \n",
      "\n",
      "\n",
      "nfactor, lr, reg: 90 0.001 0.2 \n",
      "\n",
      "train RMSE,MAE: 0.698 0.604\n",
      "test RMSE,MAE: 0.733 0.619 \n",
      "\n",
      "\n",
      "nfactor, lr, reg: 90 0.001 0.4 \n",
      "\n",
      "train RMSE,MAE: 0.694 0.598\n",
      "test RMSE,MAE: 0.733 0.619 \n",
      "\n",
      "\n",
      "nfactor, lr, reg: 90 0.001 0.8 \n",
      "\n",
      "train RMSE,MAE: 0.702 0.608\n",
      "test RMSE,MAE: 0.732 0.619 \n",
      "\n",
      "\n",
      "nfactor, lr, reg: 90 0.001 1 \n",
      "\n",
      "train RMSE,MAE: 0.707 0.615\n",
      "test RMSE,MAE: 0.732 0.619 \n",
      "\n",
      "\n",
      "nfactor, lr, reg: 90 0.001 2 \n",
      "\n",
      "train RMSE,MAE: 0.713 0.618\n",
      "test RMSE,MAE: 0.732 0.619 \n",
      "\n",
      "\n",
      "nfactor, lr, reg: 90 0.001 4 \n",
      "\n",
      "train RMSE,MAE: 0.726 0.631\n",
      "test RMSE,MAE: 0.732 0.619 \n",
      "\n",
      "\n",
      "nfactor, lr, reg: 90 0.001 10 \n",
      "\n",
      "train RMSE,MAE: 0.750 0.652\n",
      "test RMSE,MAE: 0.732 0.620 \n",
      "\n",
      "\n",
      "nfactor, lr, reg: 90 0.002 0.01 \n",
      "\n",
      "train RMSE,MAE: 0.612 0.527\n",
      "test RMSE,MAE: 0.733 0.617 \n",
      "\n",
      "\n",
      "nfactor, lr, reg: 90 0.002 0.02 \n",
      "\n",
      "train RMSE,MAE: 0.617 0.533\n",
      "test RMSE,MAE: 0.734 0.617 \n",
      "\n",
      "\n",
      "nfactor, lr, reg: 90 0.002 0.04 \n",
      "\n",
      "train RMSE,MAE: 0.615 0.531\n",
      "test RMSE,MAE: 0.733 0.616 \n",
      "\n",
      "\n",
      "nfactor, lr, reg: 90 0.002 0.08 \n",
      "\n",
      "train RMSE,MAE: 0.616 0.532\n",
      "test RMSE,MAE: 0.733 0.616 \n",
      "\n",
      "\n",
      "nfactor, lr, reg: 90 0.002 0.1 \n",
      "\n",
      "train RMSE,MAE: 0.617 0.531\n",
      "test RMSE,MAE: 0.733 0.616 \n",
      "\n",
      "\n",
      "nfactor, lr, reg: 90 0.002 0.2 \n",
      "\n",
      "train RMSE,MAE: 0.624 0.539\n",
      "test RMSE,MAE: 0.733 0.617 \n",
      "\n",
      "\n",
      "nfactor, lr, reg: 90 0.002 0.4 \n",
      "\n",
      "train RMSE,MAE: 0.632 0.544\n",
      "test RMSE,MAE: 0.733 0.617 \n",
      "\n",
      "\n",
      "nfactor, lr, reg: 90 0.002 0.8 \n",
      "\n",
      "train RMSE,MAE: 0.647 0.561\n",
      "test RMSE,MAE: 0.732 0.616 \n",
      "\n",
      "\n",
      "nfactor, lr, reg: 90 0.002 1 \n",
      "\n",
      "train RMSE,MAE: 0.650 0.563\n",
      "test RMSE,MAE: 0.732 0.617 \n",
      "\n",
      "\n",
      "nfactor, lr, reg: 90 0.002 2 \n",
      "\n",
      "train RMSE,MAE: 0.676 0.587\n",
      "test RMSE,MAE: 0.732 0.617 \n",
      "\n",
      "\n",
      "nfactor, lr, reg: 90 0.002 4 \n",
      "\n",
      "train RMSE,MAE: 0.708 0.615\n",
      "test RMSE,MAE: 0.731 0.618 \n",
      "\n",
      "\n",
      "nfactor, lr, reg: 90 0.002 10 \n",
      "\n",
      "train RMSE,MAE: 0.745 0.647\n",
      "test RMSE,MAE: 0.731 0.619 \n",
      "\n",
      "\n",
      "nfactor, lr, reg: 90 0.003 0.01 \n",
      "\n",
      "train RMSE,MAE: 0.553 0.473\n",
      "test RMSE,MAE: 0.735 0.616 \n",
      "\n",
      "\n",
      "nfactor, lr, reg: 90 0.003 0.02 \n",
      "\n",
      "train RMSE,MAE: 0.560 0.476\n",
      "test RMSE,MAE: 0.735 0.616 \n",
      "\n",
      "\n",
      "nfactor, lr, reg: 90 0.003 0.04 \n",
      "\n",
      "train RMSE,MAE: 0.557 0.475\n",
      "test RMSE,MAE: 0.734 0.615 \n",
      "\n",
      "\n",
      "nfactor, lr, reg: 90 0.003 0.08 \n",
      "\n",
      "train RMSE,MAE: 0.565 0.485\n",
      "test RMSE,MAE: 0.733 0.615 \n",
      "\n",
      "\n",
      "nfactor, lr, reg: 90 0.003 0.1 \n",
      "\n",
      "train RMSE,MAE: 0.565 0.485\n",
      "test RMSE,MAE: 0.734 0.617 \n",
      "\n",
      "\n",
      "nfactor, lr, reg: 90 0.003 0.2 \n",
      "\n",
      "train RMSE,MAE: 0.580 0.497\n",
      "test RMSE,MAE: 0.733 0.616 \n",
      "\n",
      "\n",
      "nfactor, lr, reg: 90 0.003 0.4 \n",
      "\n",
      "train RMSE,MAE: 0.586 0.505\n",
      "test RMSE,MAE: 0.733 0.615 \n",
      "\n",
      "\n",
      "nfactor, lr, reg: 90 0.003 0.8 \n",
      "\n",
      "train RMSE,MAE: 0.617 0.532\n",
      "test RMSE,MAE: 0.733 0.615 \n",
      "\n",
      "\n",
      "nfactor, lr, reg: 90 0.003 1 \n",
      "\n",
      "train RMSE,MAE: 0.622 0.538\n",
      "test RMSE,MAE: 0.732 0.615 \n",
      "\n",
      "\n",
      "nfactor, lr, reg: 90 0.003 2 \n",
      "\n",
      "train RMSE,MAE: 0.660 0.573\n",
      "test RMSE,MAE: 0.732 0.616 \n",
      "\n",
      "\n",
      "nfactor, lr, reg: 90 0.003 4 \n",
      "\n",
      "train RMSE,MAE: 0.700 0.608\n",
      "test RMSE,MAE: 0.731 0.617 \n",
      "\n",
      "\n",
      "nfactor, lr, reg: 90 0.003 10 \n",
      "\n",
      "train RMSE,MAE: 0.744 0.646\n",
      "test RMSE,MAE: 0.731 0.619 \n",
      "\n",
      "\n",
      "nfactor, lr, reg: 90 0.004 0.01 \n",
      "\n",
      "train RMSE,MAE: 0.516 0.436\n",
      "test RMSE,MAE: 0.736 0.616 \n",
      "\n",
      "\n",
      "nfactor, lr, reg: 90 0.004 0.02 \n",
      "\n",
      "train RMSE,MAE: 0.515 0.436\n",
      "test RMSE,MAE: 0.735 0.617 \n",
      "\n",
      "\n",
      "nfactor, lr, reg: 90 0.004 0.04 \n",
      "\n",
      "train RMSE,MAE: 0.517 0.439\n",
      "test RMSE,MAE: 0.735 0.615 \n",
      "\n",
      "\n",
      "nfactor, lr, reg: 90 0.004 0.08 \n",
      "\n",
      "train RMSE,MAE: 0.517 0.439\n",
      "test RMSE,MAE: 0.735 0.616 \n",
      "\n",
      "\n",
      "nfactor, lr, reg: 90 0.004 0.1 \n",
      "\n",
      "train RMSE,MAE: 0.527 0.448\n",
      "test RMSE,MAE: 0.736 0.617 \n",
      "\n",
      "\n",
      "nfactor, lr, reg: 90 0.004 0.2 \n",
      "\n",
      "train RMSE,MAE: 0.536 0.457\n",
      "test RMSE,MAE: 0.735 0.616 \n",
      "\n",
      "\n",
      "nfactor, lr, reg: 90 0.004 0.4 \n",
      "\n",
      "train RMSE,MAE: 0.561 0.479\n",
      "test RMSE,MAE: 0.734 0.615 \n",
      "\n",
      "\n",
      "nfactor, lr, reg: 90 0.004 0.8 \n",
      "\n",
      "train RMSE,MAE: 0.592 0.510\n",
      "test RMSE,MAE: 0.733 0.615 \n",
      "\n",
      "\n",
      "nfactor, lr, reg: 90 0.004 1 \n",
      "\n",
      "train RMSE,MAE: 0.608 0.524\n",
      "test RMSE,MAE: 0.733 0.615 \n",
      "\n",
      "\n",
      "nfactor, lr, reg: 90 0.004 2 \n",
      "\n",
      "train RMSE,MAE: 0.651 0.564\n",
      "test RMSE,MAE: 0.731 0.615 \n",
      "\n",
      "\n",
      "nfactor, lr, reg: 90 0.004 4 \n",
      "\n",
      "train RMSE,MAE: 0.696 0.605\n",
      "test RMSE,MAE: 0.731 0.617 \n",
      "\n",
      "\n",
      "nfactor, lr, reg: 90 0.004 10 \n",
      "\n",
      "train RMSE,MAE: 0.743 0.646\n",
      "test RMSE,MAE: 0.731 0.619 \n",
      "\n",
      "\n",
      "nfactor, lr, reg: 90 0.005 0.01 \n",
      "\n",
      "train RMSE,MAE: 0.476 0.398\n",
      "test RMSE,MAE: 0.737 0.618 \n",
      "\n",
      "\n",
      "nfactor, lr, reg: 90 0.005 0.02 \n",
      "\n",
      "train RMSE,MAE: 0.480 0.399\n",
      "test RMSE,MAE: 0.735 0.616 \n",
      "\n",
      "\n",
      "nfactor, lr, reg: 90 0.005 0.04 \n",
      "\n",
      "train RMSE,MAE: 0.485 0.405\n",
      "test RMSE,MAE: 0.735 0.617 \n",
      "\n",
      "\n",
      "nfactor, lr, reg: 90 0.005 0.08 \n",
      "\n",
      "train RMSE,MAE: 0.496 0.414\n",
      "test RMSE,MAE: 0.737 0.618 \n",
      "\n",
      "\n",
      "nfactor, lr, reg: 90 0.005 0.1 \n",
      "\n",
      "train RMSE,MAE: 0.497 0.417\n",
      "test RMSE,MAE: 0.737 0.617 \n",
      "\n",
      "\n",
      "nfactor, lr, reg: 90 0.005 0.2 \n",
      "\n",
      "train RMSE,MAE: 0.512 0.432\n",
      "test RMSE,MAE: 0.736 0.617 \n",
      "\n",
      "\n",
      "nfactor, lr, reg: 90 0.005 0.4 \n",
      "\n",
      "train RMSE,MAE: 0.542 0.461\n",
      "test RMSE,MAE: 0.734 0.615 \n",
      "\n",
      "\n",
      "nfactor, lr, reg: 90 0.005 0.8 \n",
      "\n",
      "train RMSE,MAE: 0.581 0.499\n",
      "test RMSE,MAE: 0.733 0.615 \n",
      "\n",
      "\n",
      "nfactor, lr, reg: 90 0.005 1 \n",
      "\n",
      "train RMSE,MAE: 0.598 0.514\n",
      "test RMSE,MAE: 0.732 0.615 \n",
      "\n",
      "\n",
      "nfactor, lr, reg: 90 0.005 2 \n",
      "\n",
      "train RMSE,MAE: 0.647 0.560\n",
      "test RMSE,MAE: 0.731 0.615 \n",
      "\n",
      "\n",
      "nfactor, lr, reg: 90 0.005 4 \n",
      "\n",
      "train RMSE,MAE: 0.695 0.603\n",
      "test RMSE,MAE: 0.731 0.617 \n",
      "\n",
      "\n",
      "nfactor, lr, reg: 90 0.005 10 \n",
      "\n",
      "train RMSE,MAE: 0.743 0.645\n",
      "test RMSE,MAE: 0.731 0.619 \n",
      "\n",
      "\n",
      "nfactor, lr, reg: 90 0.006 0.01 \n",
      "\n",
      "train RMSE,MAE: 0.448 0.369\n",
      "test RMSE,MAE: 0.737 0.616 \n",
      "\n",
      "\n",
      "nfactor, lr, reg: 90 0.006 0.02 \n",
      "\n",
      "train RMSE,MAE: 0.454 0.373\n",
      "test RMSE,MAE: 0.734 0.615 \n",
      "\n",
      "\n",
      "nfactor, lr, reg: 90 0.006 0.04 \n",
      "\n",
      "train RMSE,MAE: 0.454 0.375\n",
      "test RMSE,MAE: 0.735 0.616 \n",
      "\n",
      "\n",
      "nfactor, lr, reg: 90 0.006 0.08 \n",
      "\n",
      "train RMSE,MAE: 0.463 0.383\n",
      "test RMSE,MAE: 0.735 0.616 \n",
      "\n",
      "\n",
      "nfactor, lr, reg: 90 0.006 0.1 \n",
      "\n",
      "train RMSE,MAE: 0.472 0.391\n",
      "test RMSE,MAE: 0.736 0.616 \n",
      "\n",
      "\n",
      "nfactor, lr, reg: 90 0.006 0.2 \n",
      "\n",
      "train RMSE,MAE: 0.490 0.411\n",
      "test RMSE,MAE: 0.736 0.616 \n",
      "\n",
      "\n",
      "nfactor, lr, reg: 90 0.006 0.4 \n",
      "\n",
      "train RMSE,MAE: 0.527 0.446\n",
      "test RMSE,MAE: 0.735 0.616 \n",
      "\n",
      "\n",
      "nfactor, lr, reg: 90 0.006 0.8 \n",
      "\n",
      "train RMSE,MAE: 0.573 0.491\n",
      "test RMSE,MAE: 0.732 0.614 \n",
      "\n",
      "\n",
      "nfactor, lr, reg: 90 0.006 1 \n",
      "\n",
      "train RMSE,MAE: 0.591 0.508\n",
      "test RMSE,MAE: 0.733 0.615 \n",
      "\n",
      "\n",
      "nfactor, lr, reg: 90 0.006 2 \n",
      "\n",
      "train RMSE,MAE: 0.644 0.557\n",
      "test RMSE,MAE: 0.731 0.615 \n",
      "\n",
      "\n",
      "nfactor, lr, reg: 90 0.006 4 \n",
      "\n",
      "train RMSE,MAE: 0.694 0.602\n",
      "test RMSE,MAE: 0.731 0.617 \n",
      "\n",
      "\n",
      "nfactor, lr, reg: 90 0.006 10 \n",
      "\n",
      "train RMSE,MAE: 0.742 0.645\n",
      "test RMSE,MAE: 0.731 0.619 \n",
      "\n",
      "\n",
      "nfactor, lr, reg: 90 0.007 0.01 \n",
      "\n",
      "train RMSE,MAE: 0.422 0.341\n",
      "test RMSE,MAE: 0.738 0.617 \n",
      "\n",
      "\n",
      "nfactor, lr, reg: 90 0.007 0.02 \n",
      "\n",
      "train RMSE,MAE: 0.427 0.345\n",
      "test RMSE,MAE: 0.738 0.618 \n",
      "\n",
      "\n",
      "nfactor, lr, reg: 90 0.007 0.04 \n",
      "\n",
      "train RMSE,MAE: 0.435 0.355\n",
      "test RMSE,MAE: 0.740 0.619 \n",
      "\n",
      "\n",
      "nfactor, lr, reg: 90 0.007 0.08 \n",
      "\n",
      "train RMSE,MAE: 0.445 0.364\n",
      "test RMSE,MAE: 0.737 0.617 \n",
      "\n",
      "\n",
      "nfactor, lr, reg: 90 0.007 0.1 \n",
      "\n",
      "train RMSE,MAE: 0.455 0.373\n",
      "test RMSE,MAE: 0.737 0.617 \n",
      "\n",
      "\n",
      "nfactor, lr, reg: 90 0.007 0.2 \n",
      "\n",
      "train RMSE,MAE: 0.476 0.395\n",
      "test RMSE,MAE: 0.737 0.616 \n",
      "\n",
      "\n",
      "nfactor, lr, reg: 90 0.007 0.4 \n",
      "\n",
      "train RMSE,MAE: 0.519 0.437\n",
      "test RMSE,MAE: 0.736 0.617 \n",
      "\n",
      "\n",
      "nfactor, lr, reg: 90 0.007 0.8 \n",
      "\n"
     ]
    },
    {
     "name": "stdout",
     "output_type": "stream",
     "text": [
      "train RMSE,MAE: 0.569 0.487\n",
      "test RMSE,MAE: 0.734 0.615 \n",
      "\n",
      "\n",
      "nfactor, lr, reg: 90 0.007 1 \n",
      "\n",
      "train RMSE,MAE: 0.588 0.504\n",
      "test RMSE,MAE: 0.734 0.616 \n",
      "\n",
      "\n",
      "nfactor, lr, reg: 90 0.007 2 \n",
      "\n",
      "train RMSE,MAE: 0.642 0.555\n",
      "test RMSE,MAE: 0.732 0.615 \n",
      "\n",
      "\n",
      "nfactor, lr, reg: 90 0.007 4 \n",
      "\n",
      "train RMSE,MAE: 0.693 0.602\n",
      "test RMSE,MAE: 0.731 0.617 \n",
      "\n",
      "\n",
      "nfactor, lr, reg: 90 0.007 10 \n",
      "\n",
      "train RMSE,MAE: 0.742 0.645\n",
      "test RMSE,MAE: 0.731 0.619 \n",
      "\n",
      "\n",
      "nfactor, lr, reg: 90 0.008 0.01 \n",
      "\n",
      "train RMSE,MAE: 0.399 0.321\n",
      "test RMSE,MAE: 0.739 0.619 \n",
      "\n",
      "\n",
      "nfactor, lr, reg: 90 0.008 0.02 \n",
      "\n",
      "train RMSE,MAE: 0.404 0.325\n",
      "test RMSE,MAE: 0.739 0.619 \n",
      "\n",
      "\n",
      "nfactor, lr, reg: 90 0.008 0.04 \n",
      "\n",
      "train RMSE,MAE: 0.419 0.337\n",
      "test RMSE,MAE: 0.737 0.617 \n",
      "\n",
      "\n",
      "nfactor, lr, reg: 90 0.008 0.08 \n",
      "\n",
      "train RMSE,MAE: 0.430 0.348\n",
      "test RMSE,MAE: 0.737 0.618 \n",
      "\n",
      "\n",
      "nfactor, lr, reg: 90 0.008 0.1 \n",
      "\n",
      "train RMSE,MAE: 0.430 0.350\n",
      "test RMSE,MAE: 0.737 0.618 \n",
      "\n",
      "\n",
      "nfactor, lr, reg: 90 0.008 0.2 \n",
      "\n",
      "train RMSE,MAE: 0.462 0.381\n",
      "test RMSE,MAE: 0.736 0.616 \n",
      "\n",
      "\n",
      "nfactor, lr, reg: 90 0.008 0.4 \n",
      "\n",
      "train RMSE,MAE: 0.511 0.430\n",
      "test RMSE,MAE: 0.736 0.617 \n",
      "\n",
      "\n",
      "nfactor, lr, reg: 90 0.008 0.8 \n",
      "\n",
      "train RMSE,MAE: 0.566 0.483\n",
      "test RMSE,MAE: 0.734 0.616 \n",
      "\n",
      "\n",
      "nfactor, lr, reg: 90 0.008 1 \n",
      "\n",
      "train RMSE,MAE: 0.585 0.501\n",
      "test RMSE,MAE: 0.734 0.615 \n",
      "\n",
      "\n",
      "nfactor, lr, reg: 90 0.008 2 \n",
      "\n",
      "train RMSE,MAE: 0.641 0.554\n",
      "test RMSE,MAE: 0.732 0.615 \n",
      "\n",
      "\n",
      "nfactor, lr, reg: 90 0.008 4 \n",
      "\n",
      "train RMSE,MAE: 0.692 0.601\n",
      "test RMSE,MAE: 0.731 0.617 \n",
      "\n",
      "\n",
      "nfactor, lr, reg: 90 0.008 10 \n",
      "\n",
      "train RMSE,MAE: 0.742 0.645\n",
      "test RMSE,MAE: 0.731 0.619 \n",
      "\n",
      "\n",
      "nfactor, lr, reg: 90 0.009000000000000001 0.01 \n",
      "\n",
      "train RMSE,MAE: 0.382 0.302\n",
      "test RMSE,MAE: 0.738 0.619 \n",
      "\n",
      "\n",
      "nfactor, lr, reg: 90 0.009000000000000001 0.02 \n",
      "\n",
      "train RMSE,MAE: 0.388 0.308\n",
      "test RMSE,MAE: 0.738 0.620 \n",
      "\n",
      "\n",
      "nfactor, lr, reg: 90 0.009000000000000001 0.04 \n",
      "\n",
      "train RMSE,MAE: 0.392 0.312\n",
      "test RMSE,MAE: 0.740 0.621 \n",
      "\n",
      "\n",
      "nfactor, lr, reg: 90 0.009000000000000001 0.08 \n",
      "\n",
      "train RMSE,MAE: 0.411 0.332\n",
      "test RMSE,MAE: 0.736 0.618 \n",
      "\n",
      "\n",
      "nfactor, lr, reg: 90 0.009000000000000001 0.1 \n",
      "\n",
      "train RMSE,MAE: 0.413 0.333\n",
      "test RMSE,MAE: 0.738 0.619 \n",
      "\n",
      "\n",
      "nfactor, lr, reg: 90 0.009000000000000001 0.2 \n",
      "\n",
      "train RMSE,MAE: 0.453 0.371\n",
      "test RMSE,MAE: 0.737 0.618 \n",
      "\n",
      "\n",
      "nfactor, lr, reg: 90 0.009000000000000001 0.4 \n",
      "\n",
      "train RMSE,MAE: 0.505 0.423\n",
      "test RMSE,MAE: 0.736 0.617 \n",
      "\n",
      "\n",
      "nfactor, lr, reg: 90 0.009000000000000001 0.8 \n",
      "\n",
      "train RMSE,MAE: 0.564 0.481\n",
      "test RMSE,MAE: 0.734 0.616 \n",
      "\n",
      "\n",
      "nfactor, lr, reg: 90 0.009000000000000001 1 \n",
      "\n",
      "train RMSE,MAE: 0.583 0.499\n",
      "test RMSE,MAE: 0.734 0.616 \n",
      "\n",
      "\n",
      "nfactor, lr, reg: 90 0.009000000000000001 2 \n",
      "\n",
      "train RMSE,MAE: 0.640 0.553\n",
      "test RMSE,MAE: 0.732 0.615 \n",
      "\n",
      "\n",
      "nfactor, lr, reg: 90 0.009000000000000001 4 \n",
      "\n",
      "train RMSE,MAE: 0.692 0.601\n",
      "test RMSE,MAE: 0.731 0.617 \n",
      "\n",
      "\n",
      "nfactor, lr, reg: 90 0.009000000000000001 10 \n",
      "\n",
      "train RMSE,MAE: 0.742 0.644\n",
      "test RMSE,MAE: 0.731 0.620 \n",
      "\n",
      "\n",
      "nfactor, lr, reg: 98 0.001 0.01 \n",
      "\n",
      "train RMSE,MAE: 0.685 0.593\n",
      "test RMSE,MAE: 0.732 0.619 \n",
      "\n",
      "\n",
      "nfactor, lr, reg: 98 0.001 0.02 \n",
      "\n",
      "train RMSE,MAE: 0.692 0.597\n",
      "test RMSE,MAE: 0.733 0.619 \n",
      "\n",
      "\n",
      "nfactor, lr, reg: 98 0.001 0.04 \n",
      "\n",
      "train RMSE,MAE: 0.688 0.596\n",
      "test RMSE,MAE: 0.732 0.619 \n",
      "\n",
      "\n",
      "nfactor, lr, reg: 98 0.001 0.08 \n",
      "\n",
      "train RMSE,MAE: 0.687 0.593\n",
      "test RMSE,MAE: 0.732 0.619 \n",
      "\n",
      "\n",
      "nfactor, lr, reg: 98 0.001 0.1 \n",
      "\n",
      "train RMSE,MAE: 0.690 0.593\n",
      "test RMSE,MAE: 0.732 0.619 \n",
      "\n",
      "\n",
      "nfactor, lr, reg: 98 0.001 0.2 \n",
      "\n",
      "train RMSE,MAE: 0.693 0.599\n",
      "test RMSE,MAE: 0.732 0.619 \n",
      "\n",
      "\n",
      "nfactor, lr, reg: 98 0.001 0.4 \n",
      "\n",
      "train RMSE,MAE: 0.692 0.600\n",
      "test RMSE,MAE: 0.732 0.619 \n",
      "\n",
      "\n",
      "nfactor, lr, reg: 98 0.001 0.8 \n",
      "\n",
      "train RMSE,MAE: 0.700 0.605\n",
      "test RMSE,MAE: 0.733 0.619 \n",
      "\n",
      "\n",
      "nfactor, lr, reg: 98 0.001 1 \n",
      "\n",
      "train RMSE,MAE: 0.700 0.605\n",
      "test RMSE,MAE: 0.732 0.619 \n",
      "\n",
      "\n",
      "nfactor, lr, reg: 98 0.001 2 \n",
      "\n",
      "train RMSE,MAE: 0.713 0.618\n",
      "test RMSE,MAE: 0.732 0.619 \n",
      "\n",
      "\n",
      "nfactor, lr, reg: 98 0.001 4 \n",
      "\n",
      "train RMSE,MAE: 0.726 0.631\n",
      "test RMSE,MAE: 0.732 0.620 \n",
      "\n",
      "\n",
      "nfactor, lr, reg: 98 0.001 10 \n",
      "\n",
      "train RMSE,MAE: 0.750 0.652\n",
      "test RMSE,MAE: 0.732 0.620 \n",
      "\n",
      "\n",
      "nfactor, lr, reg: 98 0.002 0.01 \n",
      "\n",
      "train RMSE,MAE: 0.607 0.522\n",
      "test RMSE,MAE: 0.733 0.617 \n",
      "\n",
      "\n",
      "nfactor, lr, reg: 98 0.002 0.02 \n",
      "\n",
      "train RMSE,MAE: 0.611 0.528\n",
      "test RMSE,MAE: 0.732 0.617 \n",
      "\n",
      "\n",
      "nfactor, lr, reg: 98 0.002 0.04 \n",
      "\n",
      "train RMSE,MAE: 0.612 0.526\n",
      "test RMSE,MAE: 0.732 0.616 \n",
      "\n",
      "\n",
      "nfactor, lr, reg: 98 0.002 0.08 \n",
      "\n",
      "train RMSE,MAE: 0.613 0.527\n",
      "test RMSE,MAE: 0.732 0.616 \n",
      "\n",
      "\n",
      "nfactor, lr, reg: 98 0.002 0.1 \n",
      "\n",
      "train RMSE,MAE: 0.618 0.534\n",
      "test RMSE,MAE: 0.733 0.617 \n",
      "\n",
      "\n",
      "nfactor, lr, reg: 98 0.002 0.2 \n",
      "\n",
      "train RMSE,MAE: 0.621 0.535\n",
      "test RMSE,MAE: 0.733 0.616 \n",
      "\n",
      "\n",
      "nfactor, lr, reg: 98 0.002 0.4 \n",
      "\n",
      "train RMSE,MAE: 0.629 0.544\n",
      "test RMSE,MAE: 0.733 0.617 \n",
      "\n",
      "\n",
      "nfactor, lr, reg: 98 0.002 0.8 \n",
      "\n",
      "train RMSE,MAE: 0.643 0.557\n",
      "test RMSE,MAE: 0.733 0.617 \n",
      "\n",
      "\n",
      "nfactor, lr, reg: 98 0.002 1 \n",
      "\n",
      "train RMSE,MAE: 0.652 0.565\n",
      "test RMSE,MAE: 0.732 0.617 \n",
      "\n",
      "\n",
      "nfactor, lr, reg: 98 0.002 2 \n",
      "\n",
      "train RMSE,MAE: 0.677 0.587\n",
      "test RMSE,MAE: 0.732 0.617 \n",
      "\n",
      "\n",
      "nfactor, lr, reg: 98 0.002 4 \n",
      "\n",
      "train RMSE,MAE: 0.707 0.615\n",
      "test RMSE,MAE: 0.731 0.618 \n",
      "\n",
      "\n",
      "nfactor, lr, reg: 98 0.002 10 \n",
      "\n",
      "train RMSE,MAE: 0.745 0.647\n",
      "test RMSE,MAE: 0.731 0.619 \n",
      "\n",
      "\n",
      "nfactor, lr, reg: 98 0.003 0.01 \n",
      "\n",
      "train RMSE,MAE: 0.558 0.477\n",
      "test RMSE,MAE: 0.734 0.615 \n",
      "\n",
      "\n",
      "nfactor, lr, reg: 98 0.003 0.02 \n",
      "\n",
      "train RMSE,MAE: 0.550 0.469\n",
      "test RMSE,MAE: 0.733 0.615 \n",
      "\n",
      "\n",
      "nfactor, lr, reg: 98 0.003 0.04 \n",
      "\n",
      "train RMSE,MAE: 0.556 0.475\n",
      "test RMSE,MAE: 0.734 0.616 \n",
      "\n",
      "\n",
      "nfactor, lr, reg: 98 0.003 0.08 \n",
      "\n",
      "train RMSE,MAE: 0.559 0.479\n",
      "test RMSE,MAE: 0.732 0.615 \n",
      "\n",
      "\n",
      "nfactor, lr, reg: 98 0.003 0.1 \n",
      "\n",
      "train RMSE,MAE: 0.562 0.482\n",
      "test RMSE,MAE: 0.735 0.617 \n",
      "\n",
      "\n",
      "nfactor, lr, reg: 98 0.003 0.2 \n",
      "\n",
      "train RMSE,MAE: 0.568 0.488\n",
      "test RMSE,MAE: 0.735 0.616 \n",
      "\n",
      "\n",
      "nfactor, lr, reg: 98 0.003 0.4 \n",
      "\n",
      "train RMSE,MAE: 0.587 0.504\n",
      "test RMSE,MAE: 0.734 0.616 \n",
      "\n",
      "\n",
      "nfactor, lr, reg: 98 0.003 0.8 \n",
      "\n",
      "train RMSE,MAE: 0.610 0.526\n",
      "test RMSE,MAE: 0.733 0.616 \n",
      "\n",
      "\n",
      "nfactor, lr, reg: 98 0.003 1 \n",
      "\n",
      "train RMSE,MAE: 0.622 0.537\n",
      "test RMSE,MAE: 0.732 0.616 \n",
      "\n",
      "\n",
      "nfactor, lr, reg: 98 0.003 2 \n",
      "\n",
      "train RMSE,MAE: 0.659 0.572\n",
      "test RMSE,MAE: 0.731 0.616 \n",
      "\n",
      "\n",
      "nfactor, lr, reg: 98 0.003 4 \n",
      "\n",
      "train RMSE,MAE: 0.699 0.608\n",
      "test RMSE,MAE: 0.731 0.617 \n",
      "\n",
      "\n",
      "nfactor, lr, reg: 98 0.003 10 \n",
      "\n",
      "train RMSE,MAE: 0.744 0.646\n",
      "test RMSE,MAE: 0.731 0.619 \n",
      "\n",
      "\n",
      "nfactor, lr, reg: 98 0.004 0.01 \n",
      "\n",
      "train RMSE,MAE: 0.507 0.429\n",
      "test RMSE,MAE: 0.735 0.615 \n",
      "\n",
      "\n",
      "nfactor, lr, reg: 98 0.004 0.02 \n",
      "\n",
      "train RMSE,MAE: 0.504 0.426\n",
      "test RMSE,MAE: 0.736 0.617 \n",
      "\n",
      "\n",
      "nfactor, lr, reg: 98 0.004 0.04 \n",
      "\n",
      "train RMSE,MAE: 0.510 0.433\n",
      "test RMSE,MAE: 0.734 0.616 \n",
      "\n",
      "\n",
      "nfactor, lr, reg: 98 0.004 0.08 \n",
      "\n",
      "train RMSE,MAE: 0.521 0.441\n",
      "test RMSE,MAE: 0.735 0.616 \n",
      "\n",
      "\n",
      "nfactor, lr, reg: 98 0.004 0.1 \n",
      "\n",
      "train RMSE,MAE: 0.521 0.443\n",
      "test RMSE,MAE: 0.735 0.617 \n",
      "\n",
      "\n",
      "nfactor, lr, reg: 98 0.004 0.2 \n",
      "\n",
      "train RMSE,MAE: 0.531 0.453\n",
      "test RMSE,MAE: 0.735 0.616 \n",
      "\n",
      "\n",
      "nfactor, lr, reg: 98 0.004 0.4 \n",
      "\n",
      "train RMSE,MAE: 0.557 0.476\n",
      "test RMSE,MAE: 0.733 0.615 \n",
      "\n",
      "\n",
      "nfactor, lr, reg: 98 0.004 0.8 \n",
      "\n",
      "train RMSE,MAE: 0.590 0.507\n",
      "test RMSE,MAE: 0.732 0.615 \n",
      "\n",
      "\n",
      "nfactor, lr, reg: 98 0.004 1 \n",
      "\n",
      "train RMSE,MAE: 0.604 0.521\n",
      "test RMSE,MAE: 0.733 0.615 \n",
      "\n",
      "\n",
      "nfactor, lr, reg: 98 0.004 2 \n",
      "\n",
      "train RMSE,MAE: 0.651 0.564\n",
      "test RMSE,MAE: 0.731 0.615 \n",
      "\n",
      "\n",
      "nfactor, lr, reg: 98 0.004 4 \n",
      "\n",
      "train RMSE,MAE: 0.696 0.605\n",
      "test RMSE,MAE: 0.731 0.617 \n",
      "\n",
      "\n",
      "nfactor, lr, reg: 98 0.004 10 \n",
      "\n",
      "train RMSE,MAE: 0.743 0.646\n",
      "test RMSE,MAE: 0.731 0.619 \n",
      "\n",
      "\n",
      "nfactor, lr, reg: 98 0.005 0.01 \n",
      "\n",
      "train RMSE,MAE: 0.473 0.394\n",
      "test RMSE,MAE: 0.738 0.618 \n",
      "\n",
      "\n",
      "nfactor, lr, reg: 98 0.005 0.02 \n",
      "\n",
      "train RMSE,MAE: 0.473 0.397\n",
      "test RMSE,MAE: 0.738 0.619 \n",
      "\n",
      "\n",
      "nfactor, lr, reg: 98 0.005 0.04 \n",
      "\n",
      "train RMSE,MAE: 0.476 0.399\n",
      "test RMSE,MAE: 0.737 0.617 \n",
      "\n",
      "\n",
      "nfactor, lr, reg: 98 0.005 0.08 \n",
      "\n",
      "train RMSE,MAE: 0.485 0.408\n",
      "test RMSE,MAE: 0.735 0.616 \n",
      "\n",
      "\n",
      "nfactor, lr, reg: 98 0.005 0.1 \n",
      "\n",
      "train RMSE,MAE: 0.486 0.409\n",
      "test RMSE,MAE: 0.735 0.615 \n",
      "\n",
      "\n",
      "nfactor, lr, reg: 98 0.005 0.2 \n",
      "\n",
      "train RMSE,MAE: 0.509 0.431\n",
      "test RMSE,MAE: 0.736 0.617 \n",
      "\n",
      "\n",
      "nfactor, lr, reg: 98 0.005 0.4 \n",
      "\n",
      "train RMSE,MAE: 0.537 0.457\n",
      "test RMSE,MAE: 0.734 0.616 \n",
      "\n",
      "\n",
      "nfactor, lr, reg: 98 0.005 0.8 \n",
      "\n",
      "train RMSE,MAE: 0.581 0.498\n",
      "test RMSE,MAE: 0.733 0.615 \n",
      "\n",
      "\n",
      "nfactor, lr, reg: 98 0.005 1 \n",
      "\n",
      "train RMSE,MAE: 0.595 0.512\n",
      "test RMSE,MAE: 0.733 0.615 \n",
      "\n",
      "\n",
      "nfactor, lr, reg: 98 0.005 2 \n",
      "\n",
      "train RMSE,MAE: 0.646 0.560\n",
      "test RMSE,MAE: 0.731 0.615 \n",
      "\n",
      "\n",
      "nfactor, lr, reg: 98 0.005 4 \n",
      "\n",
      "train RMSE,MAE: 0.694 0.603\n",
      "test RMSE,MAE: 0.731 0.617 \n",
      "\n",
      "\n",
      "nfactor, lr, reg: 98 0.005 10 \n",
      "\n",
      "train RMSE,MAE: 0.743 0.645\n",
      "test RMSE,MAE: 0.731 0.619 \n",
      "\n",
      "\n",
      "nfactor, lr, reg: 98 0.006 0.01 \n",
      "\n",
      "train RMSE,MAE: 0.445 0.365\n",
      "test RMSE,MAE: 0.734 0.615 \n",
      "\n",
      "\n",
      "nfactor, lr, reg: 98 0.006 0.02 \n",
      "\n",
      "train RMSE,MAE: 0.440 0.364\n",
      "test RMSE,MAE: 0.736 0.616 \n",
      "\n",
      "\n",
      "nfactor, lr, reg: 98 0.006 0.04 \n",
      "\n",
      "train RMSE,MAE: 0.448 0.371\n"
     ]
    },
    {
     "name": "stdout",
     "output_type": "stream",
     "text": [
      "test RMSE,MAE: 0.738 0.618 \n",
      "\n",
      "\n",
      "nfactor, lr, reg: 98 0.006 0.08 \n",
      "\n",
      "train RMSE,MAE: 0.463 0.383\n",
      "test RMSE,MAE: 0.735 0.616 \n",
      "\n",
      "\n",
      "nfactor, lr, reg: 98 0.006 0.1 \n",
      "\n",
      "train RMSE,MAE: 0.460 0.384\n",
      "test RMSE,MAE: 0.737 0.618 \n",
      "\n",
      "\n",
      "nfactor, lr, reg: 98 0.006 0.2 \n",
      "\n",
      "train RMSE,MAE: 0.488 0.410\n",
      "test RMSE,MAE: 0.736 0.616 \n",
      "\n",
      "\n",
      "nfactor, lr, reg: 98 0.006 0.4 \n",
      "\n",
      "train RMSE,MAE: 0.524 0.444\n",
      "test RMSE,MAE: 0.736 0.618 \n",
      "\n",
      "\n",
      "nfactor, lr, reg: 98 0.006 0.8 \n",
      "\n",
      "train RMSE,MAE: 0.572 0.489\n",
      "test RMSE,MAE: 0.733 0.614 \n",
      "\n",
      "\n",
      "nfactor, lr, reg: 98 0.006 1 \n",
      "\n",
      "train RMSE,MAE: 0.589 0.506\n",
      "test RMSE,MAE: 0.733 0.615 \n",
      "\n",
      "\n",
      "nfactor, lr, reg: 98 0.006 2 \n",
      "\n",
      "train RMSE,MAE: 0.644 0.557\n",
      "test RMSE,MAE: 0.731 0.615 \n",
      "\n",
      "\n",
      "nfactor, lr, reg: 98 0.006 4 \n",
      "\n",
      "train RMSE,MAE: 0.694 0.602\n",
      "test RMSE,MAE: 0.731 0.617 \n",
      "\n",
      "\n",
      "nfactor, lr, reg: 98 0.006 10 \n",
      "\n",
      "train RMSE,MAE: 0.742 0.645\n",
      "test RMSE,MAE: 0.731 0.619 \n",
      "\n",
      "\n",
      "nfactor, lr, reg: 98 0.007 0.01 \n",
      "\n",
      "train RMSE,MAE: 0.409 0.331\n",
      "test RMSE,MAE: 0.736 0.616 \n",
      "\n",
      "\n",
      "nfactor, lr, reg: 98 0.007 0.02 \n",
      "\n",
      "train RMSE,MAE: 0.417 0.340\n",
      "test RMSE,MAE: 0.737 0.617 \n",
      "\n",
      "\n",
      "nfactor, lr, reg: 98 0.007 0.04 \n",
      "\n",
      "train RMSE,MAE: 0.423 0.345\n",
      "test RMSE,MAE: 0.737 0.618 \n",
      "\n",
      "\n",
      "nfactor, lr, reg: 98 0.007 0.08 \n",
      "\n",
      "train RMSE,MAE: 0.435 0.358\n",
      "test RMSE,MAE: 0.738 0.618 \n",
      "\n",
      "\n",
      "nfactor, lr, reg: 98 0.007 0.1 \n",
      "\n",
      "train RMSE,MAE: 0.442 0.364\n",
      "test RMSE,MAE: 0.736 0.616 \n",
      "\n",
      "\n",
      "nfactor, lr, reg: 98 0.007 0.2 \n",
      "\n",
      "train RMSE,MAE: 0.469 0.391\n",
      "test RMSE,MAE: 0.737 0.617 \n",
      "\n",
      "\n",
      "nfactor, lr, reg: 98 0.007 0.4 \n",
      "\n",
      "train RMSE,MAE: 0.515 0.434\n",
      "test RMSE,MAE: 0.735 0.616 \n",
      "\n",
      "\n",
      "nfactor, lr, reg: 98 0.007 0.8 \n",
      "\n",
      "train RMSE,MAE: 0.568 0.486\n",
      "test RMSE,MAE: 0.733 0.615 \n",
      "\n",
      "\n",
      "nfactor, lr, reg: 98 0.007 1 \n",
      "\n",
      "train RMSE,MAE: 0.585 0.502\n",
      "test RMSE,MAE: 0.733 0.615 \n",
      "\n",
      "\n",
      "nfactor, lr, reg: 98 0.007 2 \n",
      "\n",
      "train RMSE,MAE: 0.642 0.555\n",
      "test RMSE,MAE: 0.732 0.615 \n",
      "\n",
      "\n",
      "nfactor, lr, reg: 98 0.007 4 \n",
      "\n",
      "train RMSE,MAE: 0.693 0.602\n",
      "test RMSE,MAE: 0.731 0.617 \n",
      "\n",
      "\n",
      "nfactor, lr, reg: 98 0.007 10 \n",
      "\n",
      "train RMSE,MAE: 0.742 0.645\n",
      "test RMSE,MAE: 0.731 0.619 \n",
      "\n",
      "\n",
      "nfactor, lr, reg: 98 0.008 0.01 \n",
      "\n",
      "train RMSE,MAE: 0.386 0.310\n",
      "test RMSE,MAE: 0.738 0.619 \n",
      "\n",
      "\n",
      "nfactor, lr, reg: 98 0.008 0.02 \n",
      "\n",
      "train RMSE,MAE: 0.399 0.318\n",
      "test RMSE,MAE: 0.738 0.618 \n",
      "\n",
      "\n",
      "nfactor, lr, reg: 98 0.008 0.04 \n",
      "\n",
      "train RMSE,MAE: 0.400 0.323\n",
      "test RMSE,MAE: 0.737 0.617 \n",
      "\n",
      "\n",
      "nfactor, lr, reg: 98 0.008 0.08 \n",
      "\n",
      "train RMSE,MAE: 0.420 0.341\n",
      "test RMSE,MAE: 0.737 0.618 \n",
      "\n",
      "\n",
      "nfactor, lr, reg: 98 0.008 0.1 \n",
      "\n",
      "train RMSE,MAE: 0.423 0.345\n",
      "test RMSE,MAE: 0.737 0.618 \n",
      "\n",
      "\n",
      "nfactor, lr, reg: 98 0.008 0.2 \n",
      "\n",
      "train RMSE,MAE: 0.460 0.378\n",
      "test RMSE,MAE: 0.737 0.617 \n",
      "\n",
      "\n",
      "nfactor, lr, reg: 98 0.008 0.4 \n",
      "\n",
      "train RMSE,MAE: 0.507 0.425\n",
      "test RMSE,MAE: 0.735 0.617 \n",
      "\n",
      "\n",
      "nfactor, lr, reg: 98 0.008 0.8 \n",
      "\n",
      "train RMSE,MAE: 0.564 0.481\n",
      "test RMSE,MAE: 0.733 0.615 \n",
      "\n",
      "\n",
      "nfactor, lr, reg: 98 0.008 1 \n",
      "\n",
      "train RMSE,MAE: 0.583 0.500\n",
      "test RMSE,MAE: 0.733 0.615 \n",
      "\n",
      "\n",
      "nfactor, lr, reg: 98 0.008 2 \n",
      "\n",
      "train RMSE,MAE: 0.640 0.554\n",
      "test RMSE,MAE: 0.732 0.615 \n",
      "\n",
      "\n",
      "nfactor, lr, reg: 98 0.008 4 \n",
      "\n",
      "train RMSE,MAE: 0.692 0.601\n",
      "test RMSE,MAE: 0.731 0.617 \n",
      "\n",
      "\n",
      "nfactor, lr, reg: 98 0.008 10 \n",
      "\n",
      "train RMSE,MAE: 0.742 0.645\n",
      "test RMSE,MAE: 0.731 0.619 \n",
      "\n",
      "\n",
      "nfactor, lr, reg: 98 0.009000000000000001 0.01 \n",
      "\n",
      "train RMSE,MAE: 0.364 0.288\n",
      "test RMSE,MAE: 0.741 0.621 \n",
      "\n",
      "\n",
      "nfactor, lr, reg: 98 0.009000000000000001 0.02 \n",
      "\n",
      "train RMSE,MAE: 0.372 0.294\n",
      "test RMSE,MAE: 0.740 0.619 \n",
      "\n",
      "\n",
      "nfactor, lr, reg: 98 0.009000000000000001 0.04 \n",
      "\n",
      "train RMSE,MAE: 0.382 0.306\n",
      "test RMSE,MAE: 0.741 0.621 \n",
      "\n",
      "\n",
      "nfactor, lr, reg: 98 0.009000000000000001 0.08 \n",
      "\n",
      "train RMSE,MAE: 0.404 0.326\n",
      "test RMSE,MAE: 0.738 0.618 \n",
      "\n",
      "\n",
      "nfactor, lr, reg: 98 0.009000000000000001 0.1 \n",
      "\n",
      "train RMSE,MAE: 0.410 0.330\n",
      "test RMSE,MAE: 0.740 0.621 \n",
      "\n",
      "\n",
      "nfactor, lr, reg: 98 0.009000000000000001 0.2 \n",
      "\n",
      "train RMSE,MAE: 0.453 0.372\n",
      "test RMSE,MAE: 0.737 0.618 \n",
      "\n",
      "\n",
      "nfactor, lr, reg: 98 0.009000000000000001 0.4 \n",
      "\n",
      "train RMSE,MAE: 0.502 0.420\n",
      "test RMSE,MAE: 0.736 0.617 \n",
      "\n",
      "\n",
      "nfactor, lr, reg: 98 0.009000000000000001 0.8 \n",
      "\n",
      "train RMSE,MAE: 0.563 0.480\n",
      "test RMSE,MAE: 0.734 0.616 \n",
      "\n",
      "\n",
      "nfactor, lr, reg: 98 0.009000000000000001 1 \n",
      "\n",
      "train RMSE,MAE: 0.582 0.498\n",
      "test RMSE,MAE: 0.733 0.615 \n",
      "\n",
      "\n",
      "nfactor, lr, reg: 98 0.009000000000000001 2 \n",
      "\n",
      "train RMSE,MAE: 0.640 0.553\n",
      "test RMSE,MAE: 0.732 0.615 \n",
      "\n",
      "\n",
      "nfactor, lr, reg: 98 0.009000000000000001 4 \n",
      "\n",
      "train RMSE,MAE: 0.692 0.601\n",
      "test RMSE,MAE: 0.731 0.617 \n",
      "\n",
      "\n",
      "nfactor, lr, reg: 98 0.009000000000000001 10 \n",
      "\n",
      "train RMSE,MAE: 0.742 0.644\n",
      "test RMSE,MAE: 0.731 0.620 \n",
      "\n",
      "\n"
     ]
    }
   ],
   "source": [
    "n_fac = np.arange(2,100,8) \n",
    "lr = np.arange(0.001,0.01,0.001) \n",
    "reg = [0.01,0.02,0.04,0.08,0.1,0.2,0.4,0.8,1,2,4,10]\n",
    "\n",
    "Y_pred_train = []\n",
    "Y_pred_test = []\n",
    "\n",
    "for n in n_fac:\n",
    "    for l in lr:\n",
    "        for r in reg:\n",
    "            print('nfactor, lr, reg:',n,l,r,'\\n')\n",
    "            Y_pred_train = []\n",
    "            Y_pred_test = []\n",
    "            \n",
    "            model = SVD(n_factors=n, lr_all=l, reg_all=r)\n",
    "            model.fit(train_set)\n",
    "            \n",
    "            #predict train set with model\n",
    "            for i in range(trainset.shape[0]):\n",
    "                pred = model.predict(trainset.customer_id.iloc[i], trainset.product_id.iloc[i])\n",
    "                Y_pred_train.append(pred.est)\n",
    "\n",
    "            rms = mean_squared_error(list(trainset.star_rating), list(Y_pred_train), squared=False)\n",
    "            ma = mean_absolute_error(list(trainset.star_rating), list(Y_pred_train))\n",
    "            print('train RMSE,MAE:',\"{:.3f}\".format(rms),\"{:.3f}\".format(ma))\n",
    "\n",
    "            #predict test set with model    \n",
    "            for i in range(testset.shape[0]):\n",
    "                pred = model.predict(testset.customer_id.iloc[i], testset.product_id.iloc[i])\n",
    "                Y_pred_test.append(pred.est)\n",
    "                \n",
    "            rms = mean_squared_error(list(testset.star_rating), list(Y_pred_test), squared=False)\n",
    "            ma = mean_absolute_error(list(testset.star_rating), list(Y_pred_test))\n",
    "            print('test RMSE,MAE:',\"{:.3f}\".format(rms),\"{:.3f}\".format(ma),'\\n\\n')            "
   ]
  },
  {
   "cell_type": "markdown",
   "id": "7a7a3643",
   "metadata": {},
   "source": [
    "# Conclusion\n",
    "Best model:\n",
    "nfactor, lr, reg: 2, 0.002, 0.01 \n",
    "\n",
    "train RMSE,MAE: 0.831, 0.629\n",
    "\n",
    "test RMSE,MAE: 0.872, 0.661 \n",
    "\n",
    "Through the grid search, we found that the best performance on test set is almost always with RMSE ~ 0.872 AND MAE ~ 0.661, slightly worse than the train set as expected. The error is reasonable given the rating scale is 1-5."
   ]
  },
  {
   "cell_type": "code",
   "execution_count": null,
   "id": "27adabd1-86c6-46fb-be6e-77128fd83ea2",
   "metadata": {},
   "outputs": [],
   "source": []
  }
 ],
 "metadata": {
  "kernelspec": {
   "display_name": "Python 3 (ipykernel)",
   "language": "python",
   "name": "python3"
  },
  "language_info": {
   "codemirror_mode": {
    "name": "ipython",
    "version": 3
   },
   "file_extension": ".py",
   "mimetype": "text/x-python",
   "name": "python",
   "nbconvert_exporter": "python",
   "pygments_lexer": "ipython3",
   "version": "3.8.10"
  }
 },
 "nbformat": 4,
 "nbformat_minor": 5
}
